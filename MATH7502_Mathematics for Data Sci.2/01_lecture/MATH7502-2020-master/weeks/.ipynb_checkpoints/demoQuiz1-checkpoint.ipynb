{
 "cells": [
  {
   "cell_type": "markdown",
   "metadata": {},
   "source": [
    "# An example of what Quiz 1 can look like"
   ]
  },
  {
   "cell_type": "markdown",
   "metadata": {},
   "source": [
    "**Q1:** Say you are given the $LU$ factorization of a matrix $A$ with\n",
    "\n",
    "$$\n",
    "L = \n",
    "\\left[\n",
    "\\begin{matrix}\n",
    "1  &  0 & 0 \\\\\n",
    " -0.25 &  1 & 0 \\\\\n",
    "  0.75 & 1 & 1 \\\\\n",
    "\\end{matrix}\n",
    "\\right],\n",
    "\\qquad\n",
    "U = \n",
    "\\left[\n",
    "\\begin{matrix}\n",
    "4 & 0 & 6 \\\\\n",
    "0 & 2 & 4.5 \\\\\n",
    "0 & 0 & -2\n",
    "\\end{matrix}\n",
    "\\right],\n",
    "$$\n",
    "\n",
    "and $A = LU$."
   ]
  },
  {
   "cell_type": "markdown",
   "metadata": {},
   "source": [
    "**a:** Find the matrix $A$."
   ]
  },
  {
   "cell_type": "markdown",
   "metadata": {},
   "source": [
    "**b:** Use the factorization to compute the determinant of $A$."
   ]
  },
  {
   "cell_type": "markdown",
   "metadata": {},
   "source": [
    "**c:** Use the factorization to solve the for $x$ in $Ax = {\\mathbf 1}$."
   ]
  },
  {
   "cell_type": "markdown",
   "metadata": {},
   "source": [
    "**d:** Use the factorization to find the inverse of $A$."
   ]
  },
  {
   "cell_type": "markdown",
   "metadata": {},
   "source": [
    "**e:** Use the factorization to find a different factorization $A = LDU$ where $D$ is a diagonal matrix, $L$ is lower triangular with $1$'s on the diagonal, and $U$ is upper triangular with $1$'s on the diagonal."
   ]
  },
  {
   "cell_type": "markdown",
   "metadata": {},
   "source": [
    "---\n",
    "\n",
    "**Q2:** Consider the function $f: {\\mathbb R}^2 \\to {\\mathbb R}^3$ where,\n",
    "\n",
    "$$\n",
    "f(x,y) = \n",
    "\\left[\n",
    "\\begin{matrix}\n",
    "x^2y \\\\\n",
    "e^{x+y} \\\\\n",
    "xe^y\\\\\n",
    "\\end{matrix}\n",
    "\\right].\n",
    "$$"
   ]
  },
  {
   "cell_type": "markdown",
   "metadata": {},
   "source": [
    "**a:** Compute $||f(1,-1)||$"
   ]
  },
  {
   "cell_type": "markdown",
   "metadata": {},
   "source": [
    "**b:** Compute the trace of the matrix $f(x,y) f(x,y)^T$ at $x=1$, $y=1$."
   ]
  },
  {
   "cell_type": "markdown",
   "metadata": {},
   "source": [
    "**c:** Compute the Jacobian matrix for $f(\\cdot,\\cdot)$."
   ]
  },
  {
   "cell_type": "markdown",
   "metadata": {},
   "source": [
    "**d:** Can the rank of your answer to $c$ be $3$ for some values of $x$ and $y$? Explain."
   ]
  },
  {
   "cell_type": "markdown",
   "metadata": {},
   "source": [
    "**e:** Consider now the function $g(x) = 2x^2y + 3e^{x+y} - x e^y$. Represent $g(x)$ as $g(x) = u \\cdot f(x,y)$. What is the vector $u$?"
   ]
  }
 ],
 "metadata": {
  "kernelspec": {
   "display_name": "JuliaPro_v1.4.2-1 1.4.2",
   "language": "julia",
   "name": "juliapro_v1.4.2-1-1.4"
  },
  "language_info": {
   "file_extension": ".jl",
   "mimetype": "application/julia",
   "name": "julia",
   "version": "1.4.2"
  }
 },
 "nbformat": 4,
 "nbformat_minor": 4
}
