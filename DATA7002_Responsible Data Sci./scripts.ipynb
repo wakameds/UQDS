{
 "cells": [
  {
   "cell_type": "markdown",
   "metadata": {},
   "source": [
    "# Zschool.py"
   ]
  },
  {
   "cell_type": "code",
   "execution_count": 79,
   "metadata": {},
   "outputs": [
    {
     "name": "stdout",
     "output_type": "stream",
     "text": [
      "z-score =  7.37183409950459  p=value =  8.415490526658687e-14\n"
     ]
    }
   ],
   "source": [
    "import numpy as np\n",
    "from scipy.stats import norm\n",
    "\n",
    "mu_0 = 100\n",
    "scsd = 4\n",
    "mu_sc = 104\n",
    "n = 40\n",
    "\n",
    "IQschool = np.random.normal(mu_sc, scsd, n) # random sample\n",
    "Zscore = (np.mean(IQschool) - mu_0)/(scsd/np.sqrt(len(IQschool)))\n",
    "p_val  = 1 - norm.cdf(Zscore)\n",
    "print(\"z-score = \",Zscore, \" p=value = \", p_val)"
   ]
  },
  {
   "cell_type": "markdown",
   "metadata": {},
   "source": [
    "# tTestSchool.py"
   ]
  },
  {
   "cell_type": "code",
   "execution_count": 64,
   "metadata": {},
   "outputs": [
    {
     "name": "stdout",
     "output_type": "stream",
     "text": [
      "sample mean= 104.33333333333333  t =  1.6155613916031184 , p-val =  0.14485212036124\n",
      "sample mean= 104.33333333333333  t =  4.596194077712554 , p-val =  0.0017642106317483398\n"
     ]
    }
   ],
   "source": [
    "import numpy as np\n",
    "from scipy.stats import ttest_1samp\n",
    "from scipy.stats import t\n",
    "\n",
    "IQ =  [110,105,97,104,98,112,115,108,90]\n",
    "# t-test\n",
    "onesample_results = ttest_1samp(IQ, 100) # calculate t-test\n",
    "print(\"sample mean=\",np.mean(IQ), \" t = \", onesample_results[0], \", p-val = \", onesample_results[1])\n",
    "\n",
    "# try t-test for another set\n",
    "IQ2 =  [105,105,104,102,99,108,105,108,103]\n",
    "# t-test\n",
    "onesample_results = ttest_1samp(IQ2, 100)\n",
    "print(\"sample mean=\",np.mean(IQ2), \" t = \", onesample_results[0], \", p-val = \", onesample_results[1])\n"
   ]
  },
  {
   "cell_type": "markdown",
   "metadata": {},
   "source": [
    "# twoSampleTtest.py"
   ]
  },
  {
   "cell_type": "code",
   "execution_count": 65,
   "metadata": {},
   "outputs": [
    {
     "name": "stdout",
     "output_type": "stream",
     "text": [
      "sample means=( 86.85714285714286 , 56.22222222222222 )  t =  1.1208453991208167 , p-val =  0.2812125847953001\n"
     ]
    }
   ],
   "source": [
    "import numpy as np\n",
    "from scipy.stats import ttest_ind\n",
    "\n",
    "Treatment = np.array([94, 197, 16, 38, 99, 141, 23])\n",
    "Control = np.array([52, 104, 146, 10, 51, 30, 40, 27, 46])\n",
    "\n",
    "onesample_results  = ttest_ind(Treatment, Control)\n",
    "print(\"sample means=(\",np.mean(Treatment),\",\", np.mean(Control) ,\")\",\n",
    "      \" t = \", onesample_results[0], \", p-val = \", onesample_results[1])"
   ]
  },
  {
   "cell_type": "markdown",
   "metadata": {},
   "source": [
    "# BenfordLaw.py"
   ]
  },
  {
   "cell_type": "code",
   "execution_count": 66,
   "metadata": {},
   "outputs": [
    {
     "data": {
      "image/png": "[encoded data removed]",
      "text/plain": [
       "<Figure size 432x288 with 1 Axes>"
      ]
     },
     "metadata": {
      "needs_background": "light"
     },
     "output_type": "display_data"
    },
    {
     "name": "stdout",
     "output_type": "stream",
     "text": [
      "statistic =  242.29370969940368 p-value =  7.398996948156907e-48\n"
     ]
    }
   ],
   "source": [
    "import numpy as np\n",
    "import matplotlib.pyplot as plt\n",
    "import math\n",
    "from scipy.stats import chisquare\n",
    "\n",
    "def first_n_digits(num, n):\n",
    "    return num // 10 ** (int(math.log(num, 10)) - n + 1)\n",
    "\n",
    "def BenfordTest(data):   \n",
    "    plt.hist(data,bins=10)\n",
    "    plt.show()\n",
    "    expected = np.zeros(9)\n",
    "    observed = np.zeros(9)    \n",
    "    for i in range(9):\n",
    "        expected[i] = np.log10(1 + (1/(i+1)))\n",
    "    \n",
    "    for num in data: \n",
    "        digit = int(first_n_digits(num,1))\n",
    "        observed[digit - 1] = observed[digit - 1]+1    \n",
    "    expected = expected*len(data)    \n",
    "    result = chisquare(observed,expected)\n",
    "    print(\"statistic = \",result[0],  \"p-value = \",result[1])\n",
    "    \n",
    "    \n",
    "np.random.seed(54321)\n",
    "n = 100\n",
    "\n",
    "data = np.random.normal(100000,10000,n)\n",
    "BenfordTest(data)"
   ]
  },
  {
   "cell_type": "markdown",
   "metadata": {},
   "source": [
    "# mousePermTest.py"
   ]
  },
  {
   "cell_type": "code",
   "execution_count": 67,
   "metadata": {},
   "outputs": [
    {
     "name": "stdout",
     "output_type": "stream",
     "text": [
      "p-val= 0.279  p_value 95% CI = [ 0.25120121559492214  ,  0.3067987844050779 ]\n"
     ]
    }
   ],
   "source": [
    "import numpy as np\n",
    "Treatment = np.array([94, 197, 16, 38, 99, 141, 23])\n",
    "Control = np.array([52, 104, 146, 10, 51, 30, 40, 27, 46])\n",
    "\n",
    "t_obs = np.abs(np.mean(Treatment) - np.mean(Control))\n",
    "\n",
    "B = 1000\n",
    "\n",
    "combined = np.append(Treatment,Control)\n",
    "\n",
    "ell = np.zeros(B)\n",
    "\n",
    "for i in range(0,B):\n",
    "   tmp =  np.random.permutation(combined)\n",
    "   t_tmp = tmp[0:Treatment.shape[0]]\n",
    "   c_tmp = tmp[Treatment.shape[0]:combined.shape[0]]\n",
    "   dif =  np.abs(np.mean(t_tmp) - np.mean(c_tmp))\n",
    "   if(dif>t_obs):\n",
    "       ell[i]=1\n",
    "       \n",
    "ell_mean = np.mean(ell)  \n",
    "ell_std  = np.std(ell)  \n",
    "print(\"p-val=\",ell_mean, \" p_value 95% CI = [\",ell_mean - 1.96*ell_std/np.sqrt(B), \n",
    "                         \" , \", ell_mean + 1.96*ell_std/np.sqrt(B),\"]\")  "
   ]
  },
  {
   "cell_type": "markdown",
   "metadata": {},
   "source": [
    "# exactmult.py"
   ]
  },
  {
   "cell_type": "code",
   "execution_count": 68,
   "metadata": {},
   "outputs": [
    {
     "name": "stdout",
     "output_type": "stream",
     "text": [
      "chisquare: statistic =  90.83333333333333 p-value =  4.4899557840125596e-18\n",
      "Exact test: p-val= 0.0  p_value 95% CI = [ 0.0  ,  0.0 ]\n",
      "-------------------------------------------------------\n",
      "chisquare: statistic =  9.083333333333332 p-value =  0.10578608167838381\n",
      "Exact test: p-val= 0.035  p_value 95% CI = [ 0.023609212494300494  ,  0.04639078750569951 ]\n"
     ]
    }
   ],
   "source": [
    "# exactmult.py\n",
    "import numpy as np\n",
    "from scipy.stats import chisquare\n",
    "from math import factorial\n",
    "\n",
    "# exact multinomial test\n",
    "def GetProbUnderH0(observed, p_0):\n",
    "    n = np.sum(observed)\n",
    "    tmp = factorial(n)\n",
    "    for i in range(len(p_0)):\n",
    "        tmp = (tmp/factorial(observed[i]))*(np.power(p_0[i],observed[i]))\n",
    "    return tmp\n",
    "\n",
    "def ExactTest(observed, expected):\n",
    " \n",
    "    N = 1000\n",
    "    \n",
    "    n = np.sum(observed)\n",
    "    p_0 = expected/sum(expected)\n",
    "    p_obs = GetProbUnderH0(observed, p_0)\n",
    "    \n",
    "    ell = np.zeros(N)\n",
    "    \n",
    "    for i in range(N):\n",
    "        data = np.random.multinomial(n, p_0)\n",
    "        res = GetProbUnderH0(data, p_0)\n",
    "        if(res<=p_obs):\n",
    "            ell[i]=1\n",
    "    \n",
    "    ell_mean = np.mean(ell)  \n",
    "    ell_std  = np.std(ell)  \n",
    "    print(\"Exact test: p-val=\",ell_mean, \" p_value 95% CI = [\",ell_mean - 1.96*ell_std/np.sqrt(N), \n",
    "                             \" , \", ell_mean + 1.96*ell_std/np.sqrt(N),\"]\")  \n",
    "\n",
    "\n",
    "\n",
    "observed = np.array([30,20,10,10,10,10])\n",
    "expected = np.array([10,10,10,20,30,40])\n",
    "\n",
    "# chisquare\n",
    "result = chisquare(observed,expected)\n",
    "print(\"chisquare: statistic = \",result[0],  \"p-value = \",result[1])\n",
    "ExactTest(observed, expected)\n",
    "\n",
    "print(\"-------------------------------------------------------\")   \n",
    "    \n",
    "observed = np.array([3,2,1,1,1,1])\n",
    "expected = np.array([1,1,1,2,3,4])\n",
    "\n",
    "# chisquare\n",
    "result = chisquare(observed,expected)\n",
    "print(\"chisquare: statistic = \",result[0],  \"p-value = \",result[1])\n",
    "ExactTest(observed, expected)"
   ]
  },
  {
   "cell_type": "markdown",
   "metadata": {},
   "source": [
    "# ecdf.py"
   ]
  },
  {
   "cell_type": "code",
   "execution_count": 69,
   "metadata": {},
   "outputs": [
    {
     "data": {
      "image/png": "[encoded data removed]",
      "text/plain": [
       "<Figure size 432x288 with 1 Axes>"
      ]
     },
     "metadata": {
      "needs_background": "light"
     },
     "output_type": "display_data"
    },
    {
     "data": {
      "image/png": "[encoded data removed]",
      "text/plain": [
       "<Figure size 432x288 with 1 Axes>"
      ]
     },
     "metadata": {
      "needs_background": "light"
     },
     "output_type": "display_data"
    }
   ],
   "source": [
    "import numpy as np\n",
    "import matplotlib.pyplot as plt\n",
    "import seaborn as sns\n",
    "gamma = 0.5\n",
    "samples = 1000\n",
    "X = np.random.exponential(1/gamma,samples)\n",
    "x = np.linspace(0,np.max(X),10000)\n",
    "sns.distplot(X , bins = 50)\n",
    "y = gamma*np.exp(-gamma*x)\n",
    "plt.plot(x,y,label='real pdf')\n",
    "plt.legend()\n",
    "plt.show()\n",
    "sns.distplot(X, hist_kws=dict\n",
    "({'cumulative': True}),kde_kws=dict({'cumulative': True}))\n",
    "# real cdf\n",
    "y = 1 - np.exp(-gamma*x)\n",
    "plt.plot(x,y,label='real cdf')\n",
    "plt.legend()\n",
    "plt.show()"
   ]
  },
  {
   "cell_type": "code",
   "execution_count": 48,
   "metadata": {},
   "outputs": [
    {
     "data": {
      "image/png": "[encoded data removed]",
      "text/plain": [
       "<Figure size 432x288 with 1 Axes>"
      ]
     },
     "metadata": {
      "needs_background": "light"
     },
     "output_type": "display_data"
    },
    {
     "data": {
      "image/png": "[encoded data removed]",
      "text/plain": [
       "<Figure size 432x288 with 1 Axes>"
      ]
     },
     "metadata": {
      "needs_background": "light"
     },
     "output_type": "display_data"
    }
   ],
   "source": [
    "import numpy as np\n",
    "import matplotlib.pyplot as plt\n",
    "import seaborn as sns\n",
    "gamma = 0.5\n",
    "samples = 10000\n",
    "X = np.random.exponential(1/gamma,samples)\n",
    "x = np.linspace(0,np.max(X),10000)\n",
    "sns.distplot(X , bins = 50)\n",
    "y = gamma*np.exp(-gamma*x)\n",
    "plt.plot(x,y,label='real pdf')\n",
    "plt.legend()\n",
    "plt.show()\n",
    "sns.distplot(X, hist_kws=dict\n",
    "({'cumulative': True}),kde_kws=dict({'cumulative': True}))\n",
    "# real cdf\n",
    "y = 1 - np.exp(-gamma*x)\n",
    "plt.plot(x,y,label='real cdf')\n",
    "plt.legend()\n",
    "plt.show()"
   ]
  },
  {
   "cell_type": "markdown",
   "metadata": {},
   "source": [
    "# BootstrapExample.py"
   ]
  },
  {
   "cell_type": "code",
   "execution_count": 70,
   "metadata": {},
   "outputs": [
    {
     "name": "stdout",
     "output_type": "stream",
     "text": [
      "mean =  30.63492063492064 CI = ( -23.035443025407595 ,  84.30528429524887 )\n"
     ]
    }
   ],
   "source": [
    "import numpy as np\n",
    "\n",
    "np.random.seed(12345)\n",
    "\n",
    "Treatment = np.array([94, 197, 16, 38, 99, 141, 23])\n",
    "Control = np.array([52, 104, 146, 10, 51, 30, 40, 27, 46])\n",
    "\n",
    "theta = np.mean(Treatment) - np.mean(Control)\n",
    "#theta = np.median(Treatment) - np.median(Control)\n",
    "#theta = np.max(Treatment) - np.max(Control)\n",
    "\n",
    "N = 1000\n",
    "ell = np.zeros(N)\n",
    "\n",
    "\n",
    "for i in range(0,N):\n",
    "    t_b = np.random.choice(Treatment, size=len(Treatment), replace=True)\n",
    "    c_b = np.random.choice(Control, size=len(Control), replace=True)\n",
    "    ell[i] = np.mean(t_b) - np.mean(c_b)\n",
    "    #ell[i] = np.median(t_b) - np.median(c_b)\n",
    "    #ell[i] = np.max(t_b) - np.max(c_b)\n",
    " \n",
    "ell_mean = np.mean(ell)\n",
    "ell_std = np.std(ell)\n",
    "\n",
    "print(\"mean = \",theta, \"CI = (\",theta-1.96*ell_std , \", \"\n",
    "                                 ,theta+1.96*ell_std,\")\")"
   ]
  },
  {
   "cell_type": "markdown",
   "metadata": {},
   "source": [
    "# mousePermTestPHack.py"
   ]
  },
  {
   "cell_type": "code",
   "execution_count": 71,
   "metadata": {},
   "outputs": [
    {
     "name": "stdout",
     "output_type": "stream",
     "text": [
      "p-val= 0.2746  p_value 95% CI = [ 0.2658522751681137  ,  0.2833477248318863 ]\n",
      "The new differences in the observed statistic is  -0.4404761904761898\n",
      "p-val= 0.0326  p_value 95% CI = [ 0.02911928942335045  ,  0.03608071057664954 ]\n"
     ]
    }
   ],
   "source": [
    "import numpy as np\n",
    "\n",
    "def PermTest(Treatment, Control):\n",
    "    t_obs = np.abs(np.mean(Treatment) - np.mean(Control))\n",
    "\n",
    "    B = 10000\n",
    "    \n",
    "    combined = np.append(Treatment,Control)\n",
    "    \n",
    "    ell = np.zeros(B)\n",
    "    \n",
    "    for i in range(0,B):\n",
    "       tmp =  np.random.permutation(combined)\n",
    "       t_tmp = tmp[0:Treatment.shape[0]]\n",
    "       c_tmp = tmp[Treatment.shape[0]:combined.shape[0]]\n",
    "       dif =  np.abs(np.mean(t_tmp) - np.mean(c_tmp))\n",
    "       if(dif>t_obs):\n",
    "           ell[i]=1\n",
    "           \n",
    "    ell_mean = np.mean(ell)  \n",
    "    ell_std  = np.std(ell)  \n",
    "    print(\"p-val=\",ell_mean, \" p_value 95% CI = [\",ell_mean - 1.96*ell_std/np.sqrt(B), \n",
    "                             \" , \", ell_mean + 1.96*ell_std/np.sqrt(B),\"]\")  \n",
    "\n",
    "\n",
    "Treatment = np.array([94, 197, 16, 38, 99, 141, 23])\n",
    "Control = np.array([52, 104, 146, 10, 51, 30, 40, 27, 46])\n",
    "t_obs = np.abs(np.mean(Treatment) - np.mean(Control))\n",
    "PermTest(Treatment, Control)\n",
    "\n",
    "# The management feels that the variance in the Treatment group\n",
    "# is too big. Using small adjustments, we repet the experiment to obtain\n",
    "\n",
    "Treatment2 = np.array([73, 69, 115, 110, 90, 75, 80, 100, 77,83, 68,97])\n",
    "t_obs2 = np.abs(np.mean(Treatment2) - np.mean(Control))\n",
    "\n",
    "print(\"The new differences in the observed statistic is \",t_obs2-t_obs)\n",
    "\n",
    "PermTest(Treatment2, Control)"
   ]
  },
  {
   "cell_type": "markdown",
   "metadata": {},
   "source": [
    "# coins1.py"
   ]
  },
  {
   "cell_type": "code",
   "execution_count": 72,
   "metadata": {},
   "outputs": [
    {
     "name": "stdout",
     "output_type": "stream",
     "text": [
      "p-value =  0.04431304005703377\n"
     ]
    }
   ],
   "source": [
    "import numpy as np\n",
    "from numpy.random import randint\n",
    "from scipy import stats\n",
    "import pandas as pd\n",
    "\n",
    "np.random.seed(12345)\n",
    "\n",
    "color = ['Purple', 'Brown', 'Pink', 'Blue', 'Teal', \n",
    "        'Salmon', 'Red', 'Turquoise', 'Magenta', 'Yellow', \n",
    "        'Tan', 'Green',  'Grey',  'Cyan',  'Mauve',\n",
    "        'Beige', 'Lilac', 'Black', 'Peach', 'Orange']\n",
    "\n",
    "# number of experiments\n",
    "n = 100 \n",
    "\n",
    "\n",
    "df = pd.DataFrame(index=color)\n",
    "for col in color:\n",
    "    result = randint(0,1+1,n)\n",
    "    df.loc[col,'Heads'] = np.sum(result)\n",
    "  \n",
    "tmp = df[df[\"Heads\"]==max(df[\"Heads\"])]\n",
    "      \n",
    "num_heads = tmp.values[0][0]\n",
    "\n",
    "# 1-cdf\n",
    "p_value = stats.binom(100, 1/2).sf(num_heads)\n",
    "\n",
    "print(\"p-value = \",p_value)"
   ]
  },
  {
   "cell_type": "markdown",
   "metadata": {},
   "source": [
    "# coins2.py"
   ]
  },
  {
   "cell_type": "code",
   "execution_count": 73,
   "metadata": {},
   "outputs": [
    {
     "name": "stdout",
     "output_type": "stream",
     "text": [
      "0.74869\n"
     ]
    }
   ],
   "source": [
    "import numpy as np\n",
    "from numpy.random import randint\n",
    "from scipy import stats\n",
    "import pandas as pd\n",
    "\n",
    "np.random.seed(12345)\n",
    "\n",
    "N = 100000\n",
    "ell = np.zeros(N)\n",
    "\n",
    "for i in range(N):\n",
    "    exp = np.random.binomial(100,0.5,20)\n",
    "    if(max(exp)>=58):\n",
    "        ell[i]=1\n",
    "        \n",
    "print(np.mean(ell))"
   ]
  },
  {
   "cell_type": "code",
   "execution_count": null,
   "metadata": {},
   "outputs": [],
   "source": []
  }
 ],
 "metadata": {
  "kernelspec": {
   "display_name": "Python 3",
   "language": "python",
   "name": "python3"
  },
  "language_info": {
   "codemirror_mode": {
    "name": "ipython",
    "version": 3
   },
   "file_extension": ".py",
   "mimetype": "text/x-python",
   "name": "python",
   "nbconvert_exporter": "python",
   "pygments_lexer": "ipython3",
   "version": "3.7.6"
  }
 },
 "nbformat": 4,
 "nbformat_minor": 2
}
