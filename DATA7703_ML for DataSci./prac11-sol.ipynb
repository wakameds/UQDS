{
 "cells": [
  {
   "cell_type": "markdown",
   "id": "southeast-marathon",
   "metadata": {},
   "source": [
    "<center style=\"font-size:30px; font-weight:bold\">DATA7703, Practical 11 Solutions<center>\n",
    "    <br>\n",
    "<center style=\"font-size:20px\">2021 Semester 2<center>"
   ]
  },
  {
   "cell_type": "markdown",
   "id": "useful-commodity",
   "metadata": {},
   "source": [
    "**Q1** **(a)** We load the dataset and generate the required boxplots below. We can see that the three species have very different petal length and petal width values, and thus both features are good discriminators for the species. On the other hand, sepal length and sepal width seem to have limited discriminating power on their own. Thus we expect petal length and petal width to be important with have similar importance values, while sepal length and sepal width are expected to be not very important."
   ]
  },
  {
   "cell_type": "code",
   "execution_count": 1,
   "id": "pacific-letter",
   "metadata": {},
   "outputs": [
    {
     "data": {
      "image/png": "[encoded data removed]",
      "text/plain": [
       "<Figure size 720x360 with 4 Axes>"
      ]
     },
     "metadata": {
      "needs_background": "light"
     },
     "output_type": "display_data"
    }
   ],
   "source": [
    "from sklearn.datasets import load_iris\n",
    "import matplotlib.pyplot as plt\n",
    "\n",
    "iris = load_iris()\n",
    "X, y = load_iris(return_X_y=True)\n",
    "\n",
    "data = pd.DataFrame(X, columns=iris.feature_names)\n",
    "data['Species'] = iris.target_names[y]\n",
    "data.boxplot(by='Species', figsize=(10,5))\n",
    "plt.tight_layout()\n",
    "plt.show()"
   ]
  },
  {
   "cell_type": "markdown",
   "id": "later-ivory",
   "metadata": {},
   "source": [
    "**(b)** We train 10 random forest, and compute the impurity-based importance scores and the permutation importance scores for each of them below."
   ]
  },
  {
   "cell_type": "code",
   "execution_count": 2,
   "id": "cathedral-bradford",
   "metadata": {},
   "outputs": [],
   "source": [
    "from sklearn.ensemble import RandomForestClassifier\n",
    "from sklearn.inspection import permutation_importance\n",
    "\n",
    "np.random.seed(1)\n",
    "\n",
    "impurity_importancs = []\n",
    "permutation_importances = []\n",
    "\n",
    "for i in range(10):\n",
    "    clf = RandomForestClassifier()\n",
    "    clf.fit(X, y)\n",
    "    impurity_importancs.append(clf.feature_importances_)\n",
    "    permutation_importances.append(permutation_importance(clf, X, y)['importances_mean'])\n",
    "    \n",
    "impurity_importancs = np.array(impurity_importancs)\n",
    "permutation_importances = np.array(permutation_importances)"
   ]
  },
  {
   "cell_type": "markdown",
   "id": "allied-tiffany",
   "metadata": {},
   "source": [
    "To help interpreting the importance scores, the feature names are shown below."
   ]
  },
  {
   "cell_type": "code",
   "execution_count": 3,
   "id": "rocky-mitchell",
   "metadata": {},
   "outputs": [
    {
     "data": {
      "text/plain": [
       "['sepal length (cm)',\n",
       " 'sepal width (cm)',\n",
       " 'petal length (cm)',\n",
       " 'petal width (cm)']"
      ]
     },
     "execution_count": 3,
     "metadata": {},
     "output_type": "execute_result"
    }
   ],
   "source": [
    "iris.feature_names"
   ]
  },
  {
   "cell_type": "markdown",
   "id": "announced-shark",
   "metadata": {},
   "source": [
    "The averages and standard errors of the importance scores are shown below. While the the impurity-based importance scores and the permutation importance scores are different in magnitude, both types of importance scores suggest that petal length and petal width are important with roughly the same importance scores, and sepal length and sepal width are not very important. This agrees with our expectation in (a)."
   ]
  },
  {
   "cell_type": "code",
   "execution_count": 4,
   "id": "medieval-particular",
   "metadata": {},
   "outputs": [
    {
     "data": {
      "text/plain": [
       "(array([0.09359133, 0.02073693, 0.43854354, 0.4471282 ]),\n",
       " array([0.0128936 , 0.00266484, 0.01822924, 0.01258144]))"
      ]
     },
     "execution_count": 4,
     "metadata": {},
     "output_type": "execute_result"
    }
   ],
   "source": [
    "impurity_importancs.mean(axis=0), impurity_importancs.std(axis=0)"
   ]
  },
  {
   "cell_type": "code",
   "execution_count": 5,
   "id": "aerial-bathroom",
   "metadata": {},
   "outputs": [
    {
     "data": {
      "text/plain": [
       "(array([0.01546667, 0.01053333, 0.25373333, 0.25866667]),\n",
       " array([0.00280951, 0.0031805 , 0.08084894, 0.09850979]))"
      ]
     },
     "execution_count": 5,
     "metadata": {},
     "output_type": "execute_result"
    }
   ],
   "source": [
    "permutation_importances.mean(axis=0), permutation_importances.std(axis=0)"
   ]
  },
  {
   "cell_type": "markdown",
   "id": "narrative-times",
   "metadata": {},
   "source": [
    "**(c)** We train a logistic regression model and compute the permutation importances of the features using the model as follows. Note that while both sepal length and sepal width have low importance scores, and petal length and petal width have higher importance scores, the importance scores of petal length and petal width are very different. This is because petal length and petal width are highly correlated, and it turns out that the logistic regression model chooses to put a larger weight on petal length in this case."
   ]
  },
  {
   "cell_type": "code",
   "execution_count": 6,
   "id": "composed-assurance",
   "metadata": {},
   "outputs": [
    {
     "data": {
      "text/plain": [
       "{'importances_mean': array([0.008     , 0.016     , 0.58266667, 0.15466667]),\n",
       " 'importances_std': array([0.00884433, 0.008     , 0.05442222, 0.016     ]),\n",
       " 'importances': array([[ 0.00666667,  0.02      , -0.00666667,  0.01333333,  0.00666667],\n",
       "        [ 0.02      ,  0.00666667,  0.02      ,  0.02666667,  0.00666667],\n",
       "        [ 0.56666667,  0.52666667,  0.52666667,  0.65333333,  0.64      ],\n",
       "        [ 0.14666667,  0.14666667,  0.13333333,  0.17333333,  0.17333333]])}"
      ]
     },
     "execution_count": 6,
     "metadata": {},
     "output_type": "execute_result"
    }
   ],
   "source": [
    "from sklearn.linear_model import LogisticRegression\n",
    "\n",
    "np.random.seed(1)\n",
    "\n",
    "clf = LogisticRegression(max_iter=1000)\n",
    "clf.fit(X, y)\n",
    "permutation_importance(clf, X, y)"
   ]
  },
  {
   "cell_type": "markdown",
   "id": "round-separate",
   "metadata": {},
   "source": [
    "**Q2** **(a)** This is a GP with noise-free observations.\n",
    "GP has perfect training set R2, but a negative test set R2, while the training set R2 and test set R2 for linear regression are 0.59 and 0.61 respectively.\n",
    "This suggests that GP has severely overfitted."
   ]
  },
  {
   "cell_type": "code",
   "execution_count": 7,
   "id": "recent-liability",
   "metadata": {},
   "outputs": [
    {
     "name": "stdout",
     "output_type": "stream",
     "text": [
      "Linear regression R2 - train: 0.59; test: 0.61\n",
      "Gaussian process R2 - train: 1.00; test: -0.15\n"
     ]
    }
   ],
   "source": [
    "from sklearn.datasets import fetch_california_housing\n",
    "from sklearn.gaussian_process import GaussianProcessRegressor\n",
    "from sklearn.gaussian_process.kernels import WhiteKernel, ConstantKernel, RBF, Matern\n",
    "from sklearn.linear_model import LinearRegression\n",
    "from sklearn.model_selection import train_test_split\n",
    "from sklearn.preprocessing import StandardScaler\n",
    "\n",
    "X, y = fetch_california_housing(return_X_y=True)\n",
    "X_tr, X_ts, y_tr, y_ts = train_test_split(X, y, test_size=0.8,\n",
    "random_state=42)\n",
    "# train and test a linear regression kernel\n",
    "ols = LinearRegression()\n",
    "ols.fit(X_tr, y_tr)\n",
    "print('Linear regression R2 - train: %.2f; test: %.2f' % (ols.score(X_tr, y_tr), ols.score(X_ts, y_ts)))\n",
    "# train and test a GP with Matern kernel \n",
    "kernel = Matern()\n",
    "gpr = GaussianProcessRegressor(kernel=kernel, random_state=0)\n",
    "gpr.fit(X_tr, y_tr)\n",
    "print('Gaussian process R2 - train: %.2f; test: %.2f' % (gpr.score(X_tr, y_tr), gpr.score(X_ts, y_ts)))"
   ]
  },
  {
   "cell_type": "markdown",
   "id": "great-vietnamese",
   "metadata": {},
   "source": [
    "(b) The four variants are trained and tested below.\n",
    "We can see that the best variant is variant (iv), which is a noisy GP using scaled Matern kernel and normalized inputs.\n",
    "This suggests that input normalization, a noisy observation model, and an appropriate kernel are all important:\n",
    "* Importance of input normalization can be seen by comparing (iii) and (iv) with (a), (i), (ii).\n",
    "* Importance of a noisy observation model can be seen by comparing (iv) and (v).\n",
    "* Importance of a kernel can be seen by comparing (ii), (i) and (a)."
   ]
  },
  {
   "cell_type": "code",
   "execution_count": 8,
   "id": "uniform-metabolism",
   "metadata": {},
   "outputs": [
    {
     "name": "stdout",
     "output_type": "stream",
     "text": [
      "Gaussian process R2 - train: 1.00; test: -0.71\n"
     ]
    }
   ],
   "source": [
    "# (i)\n",
    "kernel = RBF()\n",
    "gpr = GaussianProcessRegressor(kernel=kernel, random_state=0)\n",
    "gpr.fit(X_tr, y_tr)\n",
    "print('Gaussian process R2 - train: %.2f; test: %.2f' % (gpr.score(X_tr, y_tr), gpr.score(X_ts, y_ts)))"
   ]
  },
  {
   "cell_type": "code",
   "execution_count": 9,
   "id": "perfect-briefing",
   "metadata": {},
   "outputs": [
    {
     "name": "stdout",
     "output_type": "stream",
     "text": [
      "Gaussian process R2 - train: 0.66; test: 0.14\n"
     ]
    }
   ],
   "source": [
    "# (ii)\n",
    "kernel = ConstantKernel()*Matern()+WhiteKernel()\n",
    "gpr = GaussianProcessRegressor(kernel=kernel, random_state=0)\n",
    "gpr.fit(X_tr, y_tr)\n",
    "print('Gaussian process R2 - train: %.2f; test: %.2f' % (gpr.score(X_tr, y_tr), gpr.score(X_ts, y_ts)))"
   ]
  },
  {
   "cell_type": "code",
   "execution_count": 10,
   "id": "compatible-fields",
   "metadata": {},
   "outputs": [
    {
     "name": "stdout",
     "output_type": "stream",
     "text": [
      "Gaussian process R2 - train: 1.00; test: 0.61\n"
     ]
    }
   ],
   "source": [
    "# (iii)\n",
    "scaler = StandardScaler()\n",
    "X_tr_scale = scaler.fit_transform(X_tr)\n",
    "X_ts_scale = scaler.transform(X_ts)\n",
    "\n",
    "kernel = Matern()\n",
    "gpr = GaussianProcessRegressor(kernel=kernel, random_state=0)\n",
    "gpr.fit(X_tr_scale, y_tr)\n",
    "print('Gaussian process R2 - train: %.2f; test: %.2f' % (gpr.score(X_tr_scale, y_tr), gpr.score(X_ts_scale, y_ts)))"
   ]
  },
  {
   "cell_type": "code",
   "execution_count": 11,
   "id": "demonstrated-instrument",
   "metadata": {},
   "outputs": [
    {
     "name": "stdout",
     "output_type": "stream",
     "text": [
      "Gaussian process R2 - train: 0.84; test: 0.76\n"
     ]
    }
   ],
   "source": [
    "# (iv)\n",
    "kernel = ConstantKernel()*Matern()+WhiteKernel()\n",
    "gpr = GaussianProcessRegressor(kernel=kernel, random_state=0)\n",
    "gpr.fit(X_tr_scale, y_tr)\n",
    "print('Gaussian process R2 - train: %.2f; test: %.2f' % (gpr.score(X_tr_scale, y_tr), gpr.score(X_ts_scale, y_ts)))"
   ]
  },
  {
   "cell_type": "code",
   "execution_count": 12,
   "id": "surrounded-coalition",
   "metadata": {},
   "outputs": [
    {
     "name": "stdout",
     "output_type": "stream",
     "text": [
      "Gaussian process R2 - train: 1.00; test: 0.67\n"
     ]
    }
   ],
   "source": [
    "# (v)\n",
    "kernel = ConstantKernel()*Matern()\n",
    "gpr = GaussianProcessRegressor(kernel=kernel, random_state=0)\n",
    "gpr.fit(X_tr_scale, y_tr)\n",
    "print('Gaussian process R2 - train: %.2f; test: %.2f' % (gpr.score(X_tr_scale, y_tr), gpr.score(X_ts_scale, y_ts)))"
   ]
  }
 ],
 "metadata": {
  "hide_input": false,
  "kernelspec": {
   "display_name": "Python3.9",
   "language": "python",
   "name": "python3.9"
  },
  "language_info": {
   "codemirror_mode": {
    "name": "ipython",
    "version": 3
   },
   "file_extension": ".py",
   "mimetype": "text/x-python",
   "name": "python",
   "nbconvert_exporter": "python",
   "pygments_lexer": "ipython3",
   "version": "3.9.5"
  }
 },
 "nbformat": 4,
 "nbformat_minor": 5
}
