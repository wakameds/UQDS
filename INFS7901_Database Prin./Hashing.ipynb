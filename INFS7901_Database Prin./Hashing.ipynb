{
 "cells": [
  {
   "cell_type": "code",
   "execution_count": 1,
   "metadata": {
    "collapsed": true
   },
   "outputs": [],
   "source": [
    "import random\n",
    "import timeit\n",
    "import matplotlib.pyplot as plt\n",
    "import math"
   ]
  },
  {
   "cell_type": "markdown",
   "metadata": {
    "collapsed": true
   },
   "source": [
    "# Hashing\n",
    "\n",
    "This week we investigated hashing, including four methods of resolving collisions - Linear Probing, Quadratic Probing, Chaining and Double Hashing. This practical will ask you to compare and contrast various hash functions as well as each of the collision resolution methods.\n",
    "\n",
    "## Hash Functions\n",
    "A good hash function meets three standards\n",
    "* Is easy and fast to compute (O(1))\n",
    "* Uses the whole hash table.\n",
    "* Distributes the data as evenly as possible\n",
    "\n",
    "We will use a hash table with linear probing to test and analyse the four different hash functions below."
   ]
  },
  {
   "cell_type": "code",
   "execution_count": 2,
   "metadata": {
    "collapsed": true
   },
   "outputs": [],
   "source": [
    "def hashfunction1(key,size):\n",
    "    return key%size\n",
    "\n",
    "def hashfunction2(key,size):\n",
    "    if key < size:\n",
    "        return key\n",
    "    else:\n",
    "        return key%10\n",
    "    \n",
    "def hashfunction3(key,size):\n",
    "    return key%2\n",
    "\n",
    "def hashfunction4(key,size):\n",
    "    val = 0\n",
    "    for i in range(key):\n",
    "        val += i\n",
    "    return val%size"
   ]
  },
  {
   "cell_type": "markdown",
   "metadata": {},
   "source": [
    "The below code creates a class for a hash table with linear probing. We have given it an arbitrary size of 30671 (a prime).\n",
    "\n",
    "We insert data into the table via the function: *put(key,val)*\n",
    "\n",
    "We search for a key with the function: *get(key)*\n",
    "\n",
    "We change the hashfunction with the function: *sethashfunction(function)*"
   ]
  },
  {
   "cell_type": "markdown",
   "metadata": {},
   "source": [
    "## Hash function timing investigation\n",
    "\n",
    "We will now investigate how each of these hash functions perform on the same set of data"
   ]
  },
  {
   "cell_type": "code",
   "execution_count": 3,
   "metadata": {
    "collapsed": true
   },
   "outputs": [],
   "source": [
    "class LinearHashTable:\n",
    "    def __init__(self):\n",
    "        self.size = 30671\n",
    "        self.slots = [None] * self.size\n",
    "        self.data = [None] * self.size\n",
    "\n",
    "    def put(self,key,data):\n",
    "        hashvalue = self.hashfunction(key,len(self.slots))\n",
    "        if self.slots[hashvalue] == None:\n",
    "            self.slots[hashvalue] = key\n",
    "            self.data[hashvalue] = data\n",
    "        else:\n",
    "            if self.slots[hashvalue] == key:\n",
    "                self.data[hashvalue] = data  #replace\n",
    "            else:\n",
    "                nextslot = self.rehash(hashvalue,len(self.slots))\n",
    "                while self.slots[nextslot] != None and self.slots[nextslot] != key:\n",
    "                    nextslot = self.rehash(nextslot,len(self.slots))\n",
    "                if self.slots[nextslot] == None:\n",
    "                    self.slots[nextslot]=key\n",
    "                    self.data[nextslot]=data\n",
    "                elif self.slots[nextslot] == key:\n",
    "                    self.data[nextslot] = data #replace\n",
    "\n",
    "    def hashfunction(self,key,size):\n",
    "         return key%size\n",
    "\n",
    "    def rehash(self,oldhash,size):\n",
    "        return (oldhash+1)%size\n",
    "\n",
    "    def get(self,key):\n",
    "        startslot = self.hashfunction(key,len(self.slots))\n",
    "\n",
    "        data = None\n",
    "        stop = False\n",
    "        found = False\n",
    "        position = startslot\n",
    "        while self.slots[position] != None and not found and not stop:\n",
    "            if self.slots[position] == key:\n",
    "                found = True\n",
    "                data = self.data[position]\n",
    "            else:\n",
    "                position=self.rehash(position,len(self.slots))\n",
    "                if position == startslot:\n",
    "                    stop = True\n",
    "        return data\n",
    "    \n",
    "    def sethashfunction(self,hashfunction):\n",
    "        self.hashfunction = hashfunction\n",
    "\n",
    "    def __getitem__(self,key):\n",
    "        return self.get(key)\n",
    "\n",
    "    def __setitem__(self,key,data):\n",
    "        self.put(key,data)\n"
   ]
  },
  {
   "cell_type": "code",
   "execution_count": 4,
   "metadata": {
    "scrolled": false
   },
   "outputs": [
    {
     "data": {
      "image/png": "[encoded data removed]",
      "text/plain": [
       "<matplotlib.figure.Figure at 0x1065ebfd0>"
      ]
     },
     "metadata": {},
     "output_type": "display_data"
    }
   ],
   "source": [
    "def generateRandomData():\n",
    "    numSamples = 30000\n",
    "    data = []\n",
    "    for i in range(numSamples):\n",
    "        data.append(random.randint(1,30671*2))\n",
    "    return data\n",
    "\n",
    "def testHashFunctions(data):\n",
    "    hash1times = []\n",
    "    hash2times = []\n",
    "    hash3times = []\n",
    "    hash4times = []\n",
    "    xVals = []  \n",
    "    for i in range (500,5001,500):\n",
    "        #print(i)\n",
    "        xVals.append(i)\n",
    "        H = LinearHashTable()\n",
    "        startTime = timeit.default_timer()\n",
    "        for j in range(i):\n",
    "            H.put(data[j],j)\n",
    "        endTime = timeit.default_timer()\n",
    "        \n",
    "        hash1times.append((endTime - startTime)/i*1000)\n",
    "    \n",
    "        H = LinearHashTable()\n",
    "        H.sethashfunction(hashfunction2)\n",
    "        startTime = timeit.default_timer()\n",
    "        for j in range(i):\n",
    "            H.put(data[j],j)\n",
    "        endTime = timeit.default_timer()\n",
    "        hash2times.append((endTime - startTime)/i*1000)   \n",
    "        \n",
    "        H = LinearHashTable()\n",
    "        H.sethashfunction(hashfunction3)\n",
    "        startTime = timeit.default_timer()\n",
    "        for j in range(i):\n",
    "            H.put(data[j],j)\n",
    "        endTime = timeit.default_timer()\n",
    "        hash3times.append((endTime - startTime)/i*1000)    \n",
    "        \n",
    "        H = LinearHashTable()\n",
    "        H.sethashfunction(hashfunction4)\n",
    "        startTime = timeit.default_timer()\n",
    "        for j in range(i):\n",
    "            H.put(data[j],j)\n",
    "        endTime = timeit.default_timer()\n",
    "        hash4times.append((endTime - startTime)/i*1000)    \n",
    "\n",
    "    plt.plot(xVals,hash1times, label=\"Hash1\")\n",
    "    plt.plot(xVals,hash2times, label=\"Hash2\")\n",
    "    plt.plot(xVals,hash3times, label=\"Hash3\")\n",
    "    plt.plot(xVals,hash4times, label=\"Hash4\")\n",
    "    plt.xlabel('Sample Size')\n",
    "    plt.ylabel('Time')\n",
    "    legend = plt.legend(loc='upper center', bbox_to_anchor=(1, 0.5))\n",
    "    plt.show()\n",
    "    \n",
    "testHashFunctions(generateRandomData())"
   ]
  },
  {
   "cell_type": "markdown",
   "metadata": {
    "collapsed": true
   },
   "source": [
    "###  Reflect  on the performance of the 4 hashing functions we have used. Why are they good or bad?"
   ]
  },
  {
   "cell_type": "markdown",
   "metadata": {},
   "source": [
    "### 3. If we have knowledge about our keys we can design better hash functions. Give an example of a hash function that would perform better than *hashfunction1()* if all keys are divisible by five."
   ]
  },
  {
   "cell_type": "code",
   "execution_count": null,
   "metadata": {
    "collapsed": true
   },
   "outputs": [],
   "source": [
    "def betterHashFunction(key, size):\n",
    "    return #Your answer here\n",
    "    "
   ]
  },
  {
   "cell_type": "markdown",
   "metadata": {},
   "source": [
    "### 4. Based on the 'testHashFunctions' and 'generateRandomData' functions given above, write code for 'testMyHashFunction' and 'generateEvenRandomData' functions to compare the performance of your designed hash fucntion with hashfunction1() on keys divisible by 5."
   ]
  },
  {
   "cell_type": "code",
   "execution_count": 7,
   "metadata": {
    "collapsed": true
   },
   "outputs": [],
   "source": [
    "def generateEvenRandomData():\n",
    "    #Your answer here\n",
    "    return\n",
    "    \n",
    "    \n",
    "    \n",
    "def testMyHashFunction():\n",
    "    #Your answer here\n",
    "    return\n",
    "    \n",
    "    "
   ]
  },
  {
   "cell_type": "markdown",
   "metadata": {},
   "source": [
    "### 5. Compare and contrast the performance of your hashing function with hashfunction1().\n"
   ]
  },
  {
   "cell_type": "markdown",
   "metadata": {},
   "source": [
    "answer"
   ]
  },
  {
   "cell_type": "markdown",
   "metadata": {},
   "source": [
    "## Collision Resolution \n",
    "\n",
    "The previous examples all made use of linear probing to resolve collisions in the hash table. We also investigated **Quadratic Probing, Chaining, and Double Hashing** as other methods.\n",
    "\n",
    "Each of these methods is outlined in a class below.\n",
    "\n",
    "### Quadratic Probing"
   ]
  },
  {
   "cell_type": "code",
   "execution_count": 8,
   "metadata": {
    "collapsed": true
   },
   "outputs": [],
   "source": [
    "class QuadraticHashTable:\n",
    "    def __init__(self):\n",
    "        self.size = 30671\n",
    "        self.slots = [None] * self.size\n",
    "        self.data = [None] * self.size\n",
    "\n",
    "    def put(self,key,data):\n",
    "        probes = 0\n",
    "        hashvalue = self.hashfunction(key,len(self.slots))\n",
    "\n",
    "        if self.slots[hashvalue] == None:\n",
    "            self.slots[hashvalue] = key\n",
    "            self.data[hashvalue] = data\n",
    "        else:\n",
    "            if self.slots[hashvalue] == key:\n",
    "                self.data[hashvalue] = data  #replace\n",
    "            else:\n",
    "                nextslot = self.rehash(hashvalue,len(self.slots),probes)\n",
    "                while self.slots[nextslot] != None and self.slots[nextslot] != key:\n",
    "                    probes += 1\n",
    "                    nextslot = self.rehash(nextslot,len(self.slots),probes)\n",
    "                if self.slots[nextslot] == None:\n",
    "                    self.slots[nextslot]=key\n",
    "                    self.data[nextslot]=data\n",
    "                elif self.slots[nextslot] == key:\n",
    "                    self.data[nextslot] = data #replace\n",
    "\n",
    "    def hashfunction(self,key,size):\n",
    "         return key%size\n",
    "\n",
    "    def rehash(self,key,size,probes):\n",
    "        return (self.hashfunction(key,size)+probes**2)%size\n",
    "\n",
    "    def get(self,key):\n",
    "        startslot = self.hashfunction(key,len(self.slots))\n",
    "\n",
    "        data = None\n",
    "        stop = False\n",
    "        found = False\n",
    "        position = startslot\n",
    "        probes = 0\n",
    "        while self.slots[position] != None and not found and not stop:\n",
    "            probes += 1\n",
    "            if self.slots[position] == key:\n",
    "                found = True\n",
    "                data = self.data[position]\n",
    "            else:\n",
    "                position=self.rehash(position,len(self.slots),probes)\n",
    "                if position == startslot:\n",
    "                    stop = True\n",
    "        return data\n",
    "    \n",
    "    def sethashfunction(self,hashfunction):\n",
    "        self.hashfunction = hashfunction\n",
    "\n",
    "    def __getitem__(self,key):\n",
    "        return self.get(key)\n",
    "\n",
    "    def __setitem__(self,key,data):\n",
    "        self.put(key,data)"
   ]
  },
  {
   "cell_type": "markdown",
   "metadata": {},
   "source": [
    "### Chaining"
   ]
  },
  {
   "cell_type": "markdown",
   "metadata": {
    "collapsed": true
   },
   "source": [
    "## class ChainingHashTable:\n",
    "    def __init__(self):\n",
    "        self.size = 30671\n",
    "        self.slots = []\n",
    "        self.data = []\n",
    "        for i in range(self.size):\n",
    "            self.slots.append([])\n",
    "            self.data.append([])\n",
    "\n",
    "    def put(self,key,data):\n",
    "        hashvalue = self.hashfunction(key,len(self.slots))\n",
    "        keyList = self.slots[hashvalue]\n",
    "        inserted = False\n",
    "        \n",
    "        for i in range(len(keyList)):\n",
    "            if keyList[i] == key:\n",
    "                self.data[hashvalue][i] = data\n",
    "                inserted = True\n",
    "       \n",
    "        if not inserted:\n",
    "            keyList.append(key)\n",
    "            self.data[hashvalue].append(data)\n",
    "\n",
    "\n",
    "    def hashfunction(self,key,size):\n",
    "         return key%size\n",
    "\n",
    "    def rehash(self,key,size,probes):\n",
    "        return (self.hashfunction(key,size)+probes**2)%size\n",
    "\n",
    "    def get(self,key):\n",
    "        startslot = self.hashfunction(key,len(self.slots))\n",
    "\n",
    "        data = None\n",
    "        stop = False\n",
    "        found = False\n",
    "        keyList = self.slots[startslot]\n",
    "        \n",
    "        for i in range(len(keyList)):\n",
    "            if keyList[i] == key:\n",
    "                data = self.data[startslot][i]\n",
    "                break;   \n",
    "        return data\n",
    "    \n",
    "    def sethashfunction(self,hashfunction):\n",
    "        self.hashfunction = hashfunction\n",
    "\n",
    "    def __getitem__(self,key):\n",
    "        return self.get(key)\n",
    "\n",
    "    def __setitem__(self,key,data):\n",
    "        self.put(key,data)\n",
    "        "
   ]
  },
  {
   "cell_type": "markdown",
   "metadata": {},
   "source": [
    "### Double Hashing"
   ]
  },
  {
   "cell_type": "code",
   "execution_count": 10,
   "metadata": {
    "collapsed": true,
    "scrolled": true
   },
   "outputs": [],
   "source": [
    "class DoubleHashTable:\n",
    "    def __init__(self):\n",
    "        self.size = 30671\n",
    "        self.prime = 27743\n",
    "        self.slots = [None] * self.size\n",
    "        self.data = [None] * self.size\n",
    "\n",
    "    def put(self,key,data):\n",
    "        probes = 0\n",
    "        hashvalue = self.hashfunction(key,len(self.slots))\n",
    "\n",
    "        if self.slots[hashvalue] == None:\n",
    "            self.slots[hashvalue] = key\n",
    "            self.data[hashvalue] = data\n",
    "        else:\n",
    "            if self.slots[hashvalue] == key:\n",
    "                self.data[hashvalue] = data  #replace\n",
    "            else:\n",
    "                probes += 1\n",
    "                nextslot = self.rehash(key,len(self.slots),probes)\n",
    "                while self.slots[nextslot] != None and self.slots[nextslot] != key:\n",
    "                    probes += 1\n",
    "                    nextslot = self.rehash(key,len(self.slots),probes)\n",
    "                if self.slots[nextslot] == None:\n",
    "                    self.slots[nextslot]=key\n",
    "                    self.data[nextslot]=data\n",
    "                elif self.slots[nextslot] == key:\n",
    "                    self.data[nextslot] = data #replace\n",
    "        \n",
    "\n",
    "    def hashfunction(self,key,size):\n",
    "        return key%size\n",
    "    \n",
    "    def hashfunction2(self,key,prime):\n",
    "        return prime-(key%prime)\n",
    "\n",
    "    def rehash(self,key,size,probes):\n",
    "        return (self.hashfunction(key,size)+probes*self.hashfunction2(key,self.prime))%size\n",
    "\n",
    "    def get(self,key):\n",
    "        startslot = self.hashfunction(key,len(self.slots))\n",
    "\n",
    "        data = None\n",
    "        stop = False\n",
    "        found = False\n",
    "        position = startslot\n",
    "        probes = 0\n",
    "        while self.slots[position] != None and not found and not stop:\n",
    "            probes += 1\n",
    "            if self.slots[position] == key:\n",
    "                found = True\n",
    "                data = self.data[position]\n",
    "            else:\n",
    "                position=self.rehash(position,len(self.slots),probes)\n",
    "                if position == startslot:\n",
    "                    stop = True\n",
    "        return data\n",
    "    \n",
    "    def sethashfunction(self,hashfunction):\n",
    "        self.hashfunction = hashfunction\n",
    "\n",
    "    def __getitem__(self,key):\n",
    "        return self.get(key)\n",
    "\n",
    "    def __setitem__(self,key,data):\n",
    "        self.put(key,data)"
   ]
  },
  {
   "cell_type": "markdown",
   "metadata": {},
   "source": [
    "## Analysis\n",
    "\n",
    "The method below compares each of the algorithms perfomance on the same dataset."
   ]
  },
  {
   "cell_type": "code",
   "execution_count": 12,
   "metadata": {},
   "outputs": [
    {
     "data": {
      "image/png": "[encoded data removed]",
      "text/plain": [
       "<matplotlib.figure.Figure at 0x56d72e8>"
      ]
     },
     "metadata": {},
     "output_type": "display_data"
    }
   ],
   "source": [
    "def generateRandomData():\n",
    "    numSamples = 30000\n",
    "    data = []\n",
    "    for i in range(numSamples):\n",
    "        data.append(random.randint(1,30671*2))\n",
    "    return data\n",
    "\n",
    "def testCollisions(data):\n",
    "    lineartimes = []\n",
    "    quadratictimes = []\n",
    "    chainingtimes = []\n",
    "    doubletimes = []\n",
    "    xVals = []  \n",
    "    for i in range (500,10501,500):\n",
    "        xVals.append(i)\n",
    "        H = LinearHashTable()\n",
    "        for j in range(i):\n",
    "            H.put(data[j],j)\n",
    "        startTime = timeit.default_timer()\n",
    "        for j in range(i):\n",
    "            H.get(data[j])\n",
    "        endTime = timeit.default_timer()\n",
    "        lineartimes.append((endTime - startTime)/i*1000)\n",
    "\n",
    "        H = QuadraticHashTable()\n",
    "        for j in range(i):\n",
    "            H.put(data[j],j)\n",
    "        startTime = timeit.default_timer()\n",
    "        for j in range(i):\n",
    "            H.get(data[j])\n",
    "        endTime = timeit.default_timer()\n",
    "        quadratictimes.append((endTime - startTime)/i*1000)   \n",
    "\n",
    "        H = ChainingHashTable()\n",
    "        for j in range(i):\n",
    "            H.put(data[j],j)\n",
    "        startTime = timeit.default_timer()\n",
    "        for j in range(i):\n",
    "            H.get(data[j])\n",
    "        endTime = timeit.default_timer()\n",
    "        chainingtimes.append((endTime - startTime)/i*1000)    \n",
    "\n",
    "        H = DoubleHashTable()\n",
    "        for j in range(i):\n",
    "            H.put(data[j],j)\n",
    "        startTime = timeit.default_timer()\n",
    "        for j in range(i):\n",
    "            H.get(data[j])\n",
    "        endTime = timeit.default_timer()\n",
    "        doubletimes.append((endTime - startTime)/i*1000)    \n",
    "\n",
    "    plt.plot(xVals,lineartimes, label=\"Linear\")\n",
    "    plt.plot(xVals,quadratictimes, label=\"Quadratic\")\n",
    "    plt.plot(xVals,chainingtimes, label=\"Chaining\")\n",
    "    plt.plot(xVals,doubletimes, label=\"Double\")\n",
    "    plt.xlabel('Sample Size')\n",
    "    plt.ylabel('Time')\n",
    "    legend = plt.legend(loc='upper center', bbox_to_anchor=(1, 0.5))\n",
    "    plt.show()\n",
    "    \n",
    "testCollisions(generateRandomData())"
   ]
  },
  {
   "cell_type": "markdown",
   "metadata": {},
   "source": [
    "### 6. Why do each of the algorithms perform similarly in this test?"
   ]
  },
  {
   "cell_type": "markdown",
   "metadata": {},
   "source": [
    "Answer"
   ]
  },
  {
   "cell_type": "markdown",
   "metadata": {},
   "source": [
    "## Lets run the same test with a poor hash function\n",
    "\n",
    "We can run the test again with a poor hash function to see some other results!"
   ]
  },
  {
   "cell_type": "code",
   "execution_count": 13,
   "metadata": {},
   "outputs": [
    {
     "name": "stdout",
     "output_type": "stream",
     "text": [
      "500\n",
      "1000\n",
      "1500\n",
      "2000\n",
      "2500\n"
     ]
    },
    {
     "data": {
      "image/png": "[encoded data removed]",
      "text/plain": [
       "<matplotlib.figure.Figure at 0x88d87f0>"
      ]
     },
     "metadata": {},
     "output_type": "display_data"
    }
   ],
   "source": [
    "def badhash(key, size):\n",
    "    return key%5\n",
    "\n",
    "def testBadCollisions(data):\n",
    "    lineartimes = []\n",
    "    quadratictimes = []\n",
    "    chainingtimes = []\n",
    "    doubletimes = []\n",
    "    xVals = []  \n",
    "    for i in range (500,2501,500):\n",
    "        #print(i)\n",
    "        xVals.append(i)\n",
    "        H = LinearHashTable()\n",
    "        H.sethashfunction(badhash)\n",
    "        for j in range(i):\n",
    "            H.put(data[j],j)\n",
    "        startTime = timeit.default_timer()\n",
    "        for j in range(i):\n",
    "            H.get(data[j])\n",
    "        endTime = timeit.default_timer()\n",
    "        lineartimes.append((endTime - startTime)/i*1000)\n",
    "\n",
    "        H = QuadraticHashTable()\n",
    "        H.sethashfunction(badhash)\n",
    "        for j in range(i):\n",
    "            H.put(data[j],j)\n",
    "        startTime = timeit.default_timer()\n",
    "        for j in range(i):\n",
    "            H.get(data[j])\n",
    "        endTime = timeit.default_timer()\n",
    "        quadratictimes.append((endTime - startTime)/i*1000)   \n",
    "\n",
    "        H = ChainingHashTable()\n",
    "        H.sethashfunction(badhash)\n",
    "        for j in range(i):\n",
    "            H.put(data[j],j)\n",
    "        startTime = timeit.default_timer()\n",
    "        for j in range(i):\n",
    "            H.get(data[j])\n",
    "        endTime = timeit.default_timer()\n",
    "        chainingtimes.append((endTime - startTime)/i*1000)\n",
    "\n",
    "        H = DoubleHashTable()\n",
    "        H.sethashfunction(badhash)\n",
    "        for j in range(i):\n",
    "            H.put(data[j],j)\n",
    "        startTime = timeit.default_timer()\n",
    "        for j in range(i):\n",
    "            H.get(data[j])\n",
    "        endTime = timeit.default_timer()\n",
    "        doubletimes.append((endTime - startTime)/i*1000)    \n",
    "\n",
    "    plt.plot(xVals,lineartimes, label=\"Linear\")\n",
    "    plt.plot(xVals,quadratictimes, label=\"Quadratic\")\n",
    "    plt.plot(xVals,chainingtimes, label=\"Chaining\")\n",
    "    plt.plot(xVals,doubletimes, label=\"Double\")\n",
    "    plt.xlabel('Sample Size')\n",
    "    plt.ylabel('Time')\n",
    "    legend = plt.legend(loc='upper center', bbox_to_anchor=(1, 0.5))\n",
    "    plt.show()\n",
    "    \n",
    "testBadCollisions(generateRandomData())\n"
   ]
  },
  {
   "cell_type": "markdown",
   "metadata": {},
   "source": [
    "### 7. Compare and contrast each of the collision resolution methods with the above hash function"
   ]
  },
  {
   "cell_type": "markdown",
   "metadata": {},
   "source": [
    "Answer"
   ]
  }
 ],
 "metadata": {
  "anaconda-cloud": {},
  "kernelspec": {
   "display_name": "Python 2",
   "language": "python",
   "name": "python2"
  },
  "language_info": {
   "codemirror_mode": {
    "name": "ipython",
    "version": 2
   },
   "file_extension": ".py",
   "mimetype": "text/x-python",
   "name": "python",
   "nbconvert_exporter": "python",
   "pygments_lexer": "ipython2",
   "version": "2.7.3"
  }
 },
 "nbformat": 4,
 "nbformat_minor": 1
}
