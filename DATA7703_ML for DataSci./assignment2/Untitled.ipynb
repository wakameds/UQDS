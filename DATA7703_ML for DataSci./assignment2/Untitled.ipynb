{
 "cells": [
  {
   "cell_type": "code",
   "execution_count": 1,
   "id": "60c3467c",
   "metadata": {},
   "outputs": [
    {
     "data": {
      "image/png": "[encoded data removed]",
      "text/plain": [
       "<Figure size 432x288 with 1 Axes>"
      ]
     },
     "metadata": {
      "needs_background": "light"
     },
     "output_type": "display_data"
    },
    {
     "data": {
      "image/png": "[encoded data removed]",
      "text/plain": [
       "<Figure size 432x288 with 1 Axes>"
      ]
     },
     "metadata": {
      "needs_background": "light"
     },
     "output_type": "display_data"
    }
   ],
   "source": [
    "import pandas as pd\n",
    "import numpy as np\n",
    "import matplotlib.pyplot as plt\n",
    "\n",
    "# Load data\n",
    "X_tr = pd.read_csv('faces_train.txt', sep='\\s+', header=None).T\n",
    "y_tr = pd.read_csv('faces_train_labels.txt', sep='\\s+', header=None)\n",
    "X_test = pd.read_csv('faces_test.txt', sep='\\s+', header=None).T\n",
    "y_test = pd.read_csv('faces_test_labels.txt', sep='\\s+', header=None)\n",
    "\n",
    "# Task1.\n",
    "# Confirm image\n",
    "img = np.rot90(np.reshape(X_tr[14].values, (32, 32)), k=3)\n",
    "plt.imshow(img, cmap='gray')\n",
    "plt.title('confirm image')\n",
    "plt.show()\n",
    "\n",
    "\n",
    "\n",
    "# Task2.\n",
    "# Find the mean face image on the training faces\n",
    "mean = X_tr.mean(axis=1)\n",
    "\n",
    "#  Mean face image\n",
    "plt.imshow(np.rot90(np.reshape(mean.values, (32,32)), k=3), cmap='gray')\n",
    "plt.title('mean face image')\n",
    "plt.show()\n"
   ]
  },
  {
   "cell_type": "code",
   "execution_count": null,
   "id": "95b873cc",
   "metadata": {},
   "outputs": [],
   "source": []
  },
  {
   "cell_type": "code",
   "execution_count": null,
   "id": "893277e7",
   "metadata": {},
   "outputs": [],
   "source": []
  },
  {
   "cell_type": "code",
   "execution_count": 5,
   "id": "1b39fc0b",
   "metadata": {
    "scrolled": true
   },
   "outputs": [
    {
     "data": {
      "text/plain": [
       "array([[1844.34704301, 1832.0687276 , 1791.85089606, ..., -164.01496416,\n",
       "        -197.37822581, -264.0296595 ],\n",
       "       [1832.0687276 , 1954.16475934, 1955.75483871, ..., -183.49758065,\n",
       "        -225.56237839, -307.53562468],\n",
       "       [1791.85089606, 1955.75483871, 2114.79139785, ..., -219.36415771,\n",
       "        -263.60143369, -356.74480287],\n",
       "       ...,\n",
       "       [-164.01496416, -183.49758065, -219.36415771, ..., 1661.04955197,\n",
       "        1631.71496416, 1537.14596774],\n",
       "       [-197.37822581, -225.56237839, -263.60143369, ..., 1631.71496416,\n",
       "        1799.55451869, 1755.39898874],\n",
       "       [-264.0296595 , -307.53562468, -356.74480287, ..., 1537.14596774,\n",
       "        1755.39898874, 1920.02866103]])"
      ]
     },
     "execution_count": 5,
     "metadata": {},
     "output_type": "execute_result"
    }
   ],
   "source": [
    "cov"
   ]
  },
  {
   "cell_type": "code",
   "execution_count": null,
   "id": "5c75bc70",
   "metadata": {},
   "outputs": [],
   "source": [
    "X_centred = X_tr.sub(mean, axis='index')\n",
    "cov = np.cov(X_centred)\n",
    "eig_vals, eig_vectors = np.linalg.eig(cov)"
   ]
  },
  {
   "cell_type": "code",
   "execution_count": 3,
   "id": "d00f027c",
   "metadata": {},
   "outputs": [
    {
     "data": {
      "text/plain": [
       "array([ 2.72078930e+05+0.00000000e+00j,  1.50321507e+05+0.00000000e+00j,\n",
       "        9.13820550e+04+0.00000000e+00j, ...,\n",
       "       -2.96809073e-13-1.49608509e-13j, -6.08015675e-14+0.00000000e+00j,\n",
       "       -9.74199052e-14+0.00000000e+00j])"
      ]
     },
     "execution_count": 3,
     "metadata": {},
     "output_type": "execute_result"
    }
   ],
   "source": [
    "eig_vals"
   ]
  },
  {
   "cell_type": "code",
   "execution_count": 6,
   "id": "93d2d4a7",
   "metadata": {},
   "outputs": [],
   "source": [
    " eig_vals = np.real_if_close(eig_vals, tol=1)"
   ]
  },
  {
   "cell_type": "code",
   "execution_count": 7,
   "id": "f2880e9c",
   "metadata": {},
   "outputs": [
    {
     "data": {
      "text/plain": [
       "array([ 2.72078930e+05,  1.50321507e+05,  9.13820550e+04, ...,\n",
       "       -2.96809073e-13, -6.08015675e-14, -9.74199052e-14])"
      ]
     },
     "execution_count": 7,
     "metadata": {},
     "output_type": "execute_result"
    }
   ],
   "source": [
    "eig_vals"
   ]
  },
  {
   "cell_type": "code",
   "execution_count": null,
   "id": "f6f398a0",
   "metadata": {},
   "outputs": [],
   "source": []
  }
 ],
 "metadata": {
  "kernelspec": {
   "display_name": "Python 3",
   "language": "python",
   "name": "python3"
  },
  "language_info": {
   "codemirror_mode": {
    "name": "ipython",
    "version": 3
   },
   "file_extension": ".py",
   "mimetype": "text/x-python",
   "name": "python",
   "nbconvert_exporter": "python",
   "pygments_lexer": "ipython3",
   "version": "3.7.7"
  }
 },
 "nbformat": 4,
 "nbformat_minor": 5
}
