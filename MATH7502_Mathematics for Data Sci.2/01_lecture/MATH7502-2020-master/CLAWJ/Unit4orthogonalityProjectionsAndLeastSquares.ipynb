{
 "cells": [
  {
   "cell_type": "markdown",
   "metadata": {},
   "source": [
    "# Unit 4: Orthogonality, Projections, and Least Squares\n",
    "\n",
    "In this unit:\n",
    "1. Orthogonal and orthonormal vectors\n",
    "1. Orthogonal vector spaces and relations for the fundamental subspaces\n",
    "1. Grahm-Schmidt\n",
    "1. QR factorization.\n",
    "1. Projections\n",
    "1. Least Squares"
   ]
  },
  {
   "cell_type": "markdown",
   "metadata": {},
   "source": [
    "Two vectors $u$ and $v$ are said to be **orthogonal** if $u \\cdot v = 0$."
   ]
  },
  {
   "cell_type": "code",
   "execution_count": 1,
   "metadata": {},
   "outputs": [
    {
     "data": {
      "text/plain": [
       "(0, 0, 0, 0)"
      ]
     },
     "execution_count": 1,
     "metadata": {},
     "output_type": "execute_result"
    }
   ],
   "source": [
    "using LinearAlgebra\n",
    "u = [1,1];\n",
    "v =[-1,1];\n",
    "u⋅ v, u'v,u'*v,dot(u,v)  #\\cdot +[TAB]"
   ]
  },
  {
   "cell_type": "markdown",
   "metadata": {},
   "source": [
    "A collection of vectors $\\{v_1,\\ldots,v_k\\}$ is said to be orthogonal if every pair $v_i$ and $v_j$ for $i \\neq j$ is orthogonal."
   ]
  },
  {
   "cell_type": "markdown",
   "metadata": {},
   "source": [
    "Further the collection is called **orthonormal** if $||v_i|| = 1$ for each $i$."
   ]
  },
  {
   "cell_type": "markdown",
   "metadata": {},
   "source": [
    "Hence for an orthonormal collection of vectors,\n",
    "$$\n",
    "v_i^Tv_j =\n",
    "\\begin{cases}\n",
    "1 & i=j \\\\\n",
    "0 & i \\neq j \\\\\n",
    "\\end{cases}\n",
    "$$\n"
   ]
  },
  {
   "cell_type": "markdown",
   "metadata": {},
   "source": [
    "Example: The standard $n$-vectors $e_1,\\ldots,e_n$ are orthonormal. But we can also rotate them or flip them and still keep orthonormal vectors."
   ]
  },
  {
   "cell_type": "markdown",
   "metadata": {},
   "source": [
    "**Claim:** Orthonormal vectors are linearly indepednent (also true for orthogonal vectors)."
   ]
  },
  {
   "cell_type": "markdown",
   "metadata": {},
   "source": [
    "## Orthogonal Vector Spaces"
   ]
  },
  {
   "cell_type": "markdown",
   "metadata": {},
   "source": [
    "Vector spaces ${\\cal V}$ and ${\\cal W}$ are orthogonal if $v^Tw = 0$ for every $v \\in {\\cal V}$ and $w \\in {\\cal W}$."
   ]
  },
  {
   "cell_type": "markdown",
   "metadata": {},
   "source": [
    "## Gram - Schmidt"
   ]
  },
  {
   "cell_type": "markdown",
   "metadata": {},
   "source": [
    "(Alg 5.1, pp 97 [VMLS]):\n",
    "\n",
    "Given $n$-vectors $v_1,\\ldots,v_k$, for $i=1,\\ldots,k$:\n",
    "\n",
    "1. Orthogonalization: Set\n",
    "$$\n",
    "\\tilde{q}_i = v_i - (q_1^T v_i) q_1 - \\ldots - (q_{i-1}^T v_i) q_{i-1}\n",
    "$$\n",
    "\n",
    "1. If $\\tilde{q}_i = 0$ quit saying \"linearly dependent\".\n",
    "1. Normalization: Set $q_i = \\tilde{q}_i/||\\tilde{q}_i||$."
   ]
  },
  {
   "cell_type": "code",
   "execution_count": 2,
   "metadata": {},
   "outputs": [
    {
     "data": {
      "text/plain": [
       "3×2 Matrix{Float64}:\n",
       " 0.267261  -0.57735\n",
       " 0.534522  -0.57735\n",
       " 0.801784   0.57735"
      ]
     },
     "execution_count": 2,
     "metadata": {},
     "output_type": "execute_result"
    }
   ],
   "source": [
    "using LinearAlgebra\n",
    "#warm up implemintation for n=3, k=2\n",
    "v1 = [1,2,3]\n",
    "v2 = [0,1,4] #[2,4,6]\n",
    "#output will be q1 and q2 (or a claim \"NOT Linearly Independent\")\n",
    "\n",
    "#Step 1 in iteration i=1\n",
    "qT = v1 - zeros(3)\n",
    "\n",
    "#Step 2 qT \\neq 0 so won't quit\n",
    "\n",
    "#step 3\n",
    "q1 = qT/norm(qT)\n",
    "\n",
    "#iteration i = 2\n",
    "#Step 1\n",
    "qT = v2 - (q1'v2)*q1\n",
    "\n",
    "#Step 2\n",
    "#If qT was 0 then quit\n",
    "\n",
    "#Step 3\n",
    "q2 = qT/norm(qT)\n",
    "\n",
    "#output\n",
    "Q = [q1 q2]"
   ]
  },
  {
   "cell_type": "code",
   "execution_count": 3,
   "metadata": {},
   "outputs": [
    {
     "data": {
      "text/plain": [
       "1.0"
      ]
     },
     "execution_count": 3,
     "metadata": {},
     "output_type": "execute_result"
    }
   ],
   "source": [
    "norm(Q[:,1])"
   ]
  },
  {
   "cell_type": "code",
   "execution_count": 4,
   "metadata": {},
   "outputs": [
    {
     "data": {
      "text/plain": [
       "1.0"
      ]
     },
     "execution_count": 4,
     "metadata": {},
     "output_type": "execute_result"
    }
   ],
   "source": [
    "norm(Q[:,2])"
   ]
  },
  {
   "cell_type": "code",
   "execution_count": 5,
   "metadata": {},
   "outputs": [
    {
     "data": {
      "text/plain": [
       "-3.3306690738754696e-16"
      ]
     },
     "execution_count": 5,
     "metadata": {},
     "output_type": "execute_result"
    }
   ],
   "source": [
    "Q[:,1]'Q[:,2]"
   ]
  },
  {
   "cell_type": "code",
   "execution_count": 6,
   "metadata": {},
   "outputs": [
    {
     "data": {
      "text/plain": [
       "2×2 Matrix{Float64}:\n",
       "  1.0          -3.29667e-16\n",
       " -3.29667e-16   1.0"
      ]
     },
     "execution_count": 6,
     "metadata": {},
     "output_type": "execute_result"
    }
   ],
   "source": [
    "Q'Q "
   ]
  },
  {
   "cell_type": "markdown",
   "metadata": {},
   "source": [
    "We see that $Q^T Q = I$. So is $Q^{-1} = Q^{T}$? (Only if $k=n$)"
   ]
  },
  {
   "cell_type": "markdown",
   "metadata": {},
   "source": [
    "**todo**: Implement Gram-Schmidt"
   ]
  },
  {
   "cell_type": "code",
   "execution_count": 7,
   "metadata": {},
   "outputs": [
    {
     "ename": "LoadError",
     "evalue": "MethodError: no method matching zero(::Type{Any})\n\u001b[0mClosest candidates are:\n\u001b[0m  zero(::Type{Union{Missing, T}}) where T at missing.jl:105\n\u001b[0m  zero(\u001b[91m::Union{Type{P}, P}\u001b[39m) where P<:Dates.Period at /private/tmp/julia-20210615-80123-ag9qn6/usr/share/julia/stdlib/v1.8/Dates/src/periods.jl:53\n\u001b[0m  zero(\u001b[91m::AbstractIrrational\u001b[39m) at irrationals.jl:150\n\u001b[0m  ...",
     "output_type": "error",
     "traceback": [
      "MethodError: no method matching zero(::Type{Any})\n\u001b[0mClosest candidates are:\n\u001b[0m  zero(::Type{Union{Missing, T}}) where T at missing.jl:105\n\u001b[0m  zero(\u001b[91m::Union{Type{P}, P}\u001b[39m) where P<:Dates.Period at /private/tmp/julia-20210615-80123-ag9qn6/usr/share/julia/stdlib/v1.8/Dates/src/periods.jl:53\n\u001b[0m  zero(\u001b[91m::AbstractIrrational\u001b[39m) at irrationals.jl:150\n\u001b[0m  ...",
      "",
      "Stacktrace:",
      "  [1] zero(#unused#::Type{Any})",
      "    @ Base ./missing.jl:106",
      "  [2] reduce_empty(#unused#::typeof(+), #unused#::Type{Any})",
      "    @ Base ./reduce.jl:313",
      "  [3] reduce_empty(#unused#::typeof(Base.add_sum), #unused#::Type{Any})",
      "    @ Base ./reduce.jl:322",
      "  [4] mapreduce_empty(#unused#::typeof(identity), op::Function, T::Type)",
      "    @ Base ./reduce.jl:345",
      "  [5] reduce_empty(op::Base.MappingRF{typeof(identity), typeof(Base.add_sum)}, #unused#::Type{Any})",
      "    @ Base ./reduce.jl:331",
      "  [6] reduce_empty_iter",
      "    @ ./reduce.jl:357 [inlined]",
      "  [7] mapreduce_empty_iter(f::Function, op::Function, itr::Vector{Any}, ItrEltype::Base.HasEltype)",
      "    @ Base ./reduce.jl:353",
      "  [8] _mapreduce(f::typeof(identity), op::typeof(Base.add_sum), #unused#::IndexLinear, A::Vector{Any})",
      "    @ Base ./reduce.jl:402",
      "  [9] _mapreduce_dim",
      "    @ ./reducedim.jl:330 [inlined]",
      " [10] #mapreduce#715",
      "    @ ./reducedim.jl:322 [inlined]",
      " [11] mapreduce",
      "    @ ./reducedim.jl:322 [inlined]",
      " [12] #_sum#725",
      "    @ ./reducedim.jl:894 [inlined]",
      " [13] _sum",
      "    @ ./reducedim.jl:894 [inlined]",
      " [14] #_sum#724",
      "    @ ./reducedim.jl:893 [inlined]",
      " [15] _sum",
      "    @ ./reducedim.jl:893 [inlined]",
      " [16] #sum#722",
      "    @ ./reducedim.jl:889 [inlined]",
      " [17] sum(a::Vector{Any})",
      "    @ Base ./reducedim.jl:889",
      " [18] top-level scope",
      "    @ In[7]:1",
      " [19] eval",
      "    @ ./boot.jl:373 [inlined]",
      " [20] include_string(mapexpr::typeof(REPL.softscope), mod::Module, code::String, filename::String)",
      "    @ Base ./loading.jl:1196"
     ]
    }
   ],
   "source": [
    "sum([])"
   ]
  },
  {
   "cell_type": "code",
   "execution_count": 8,
   "metadata": {},
   "outputs": [
    {
     "data": {
      "text/plain": [
       "myGramSchmidt (generic function with 1 method)"
      ]
     },
     "execution_count": 8,
     "metadata": {},
     "output_type": "execute_result"
    }
   ],
   "source": [
    "function myGramSchmidt(v)\n",
    "    n = length(v[1])\n",
    "    k = length(v)\n",
    "    if norm(v[1]) < 10^-8\n",
    "        error(\"linearly dependent\")\n",
    "    end\n",
    "    q = [v[1]/norm(v[1])] #start with first q \n",
    "    for i in 2:k\n",
    "        qT = v[i] - sum([(q[j]'v[i])*q[j] for j in 1:i-1])\n",
    "        if norm(qT) < 10^-8 #almost zero \n",
    "            error(\"linearly dependent\")\n",
    "        end\n",
    "        qi = qT/norm(qT)\n",
    "        push!(q,qi)\n",
    "    end\n",
    "    return q\n",
    "end"
   ]
  },
  {
   "cell_type": "code",
   "execution_count": 9,
   "metadata": {},
   "outputs": [
    {
     "data": {
      "text/plain": [
       "3-element Vector{Vector{Float64}}:\n",
       " [0.18257418583505536, 0.3651483716701107, 0.5477225575051661, 0.7302967433402214]\n",
       " [-0.8809855213552419, -0.2729814291523284, -0.03722474033895375, 0.38465565016919023]\n",
       " [-0.02369753079705554, -0.5059422825171476, 0.7938672817013798, -0.3365049373181967]"
      ]
     },
     "execution_count": 9,
     "metadata": {},
     "output_type": "execute_result"
    }
   ],
   "source": [
    "v1 = [1,2,3,4]\n",
    "v2 = [-4,0,2,5]\n",
    "v3 = [2,1,4,2]\n",
    "#k=n=3\n",
    "vList = [v1,v2,v3]\n",
    "qList = myGramSchmidt(vList)"
   ]
  },
  {
   "cell_type": "code",
   "execution_count": 10,
   "metadata": {},
   "outputs": [
    {
     "data": {
      "text/plain": [
       "3-element Vector{Float64}:\n",
       " 0.9999999999999999\n",
       " 1.0\n",
       " 0.9999999999999999"
      ]
     },
     "execution_count": 10,
     "metadata": {},
     "output_type": "execute_result"
    }
   ],
   "source": [
    "norm.(qList)"
   ]
  },
  {
   "cell_type": "code",
   "execution_count": 11,
   "metadata": {},
   "outputs": [
    {
     "data": {
      "text/plain": [
       "-5.273559366969494e-16"
      ]
     },
     "execution_count": 11,
     "metadata": {},
     "output_type": "execute_result"
    }
   ],
   "source": [
    "qList[2]'qList[3]"
   ]
  },
  {
   "cell_type": "code",
   "execution_count": 12,
   "metadata": {},
   "outputs": [
    {
     "data": {
      "text/plain": [
       "4×3 Matrix{Float64}:\n",
       " 0.182574  -0.880986   -0.0236975\n",
       " 0.365148  -0.272981   -0.505942\n",
       " 0.547723  -0.0372247   0.793867\n",
       " 0.730297   0.384656   -0.336505"
      ]
     },
     "execution_count": 12,
     "metadata": {},
     "output_type": "execute_result"
    }
   ],
   "source": [
    "Q = hcat(qList...) #hcat(qList[1],qList[2],qList[3])  splat operator"
   ]
  },
  {
   "cell_type": "code",
   "execution_count": 13,
   "metadata": {},
   "outputs": [
    {
     "data": {
      "text/plain": [
       "3×3 Matrix{Float64}:\n",
       " 1.0           2.04527e-16   3.49122e-16\n",
       " 2.04527e-16   1.0          -5.21202e-16\n",
       " 3.49122e-16  -5.21202e-16   1.0"
      ]
     },
     "execution_count": 13,
     "metadata": {},
     "output_type": "execute_result"
    }
   ],
   "source": [
    "Q'Q"
   ]
  },
  {
   "cell_type": "code",
   "execution_count": 14,
   "metadata": {},
   "outputs": [
    {
     "ename": "LoadError",
     "evalue": "DimensionMismatch(\"matrix is not square: dimensions are (4, 3)\")",
     "output_type": "error",
     "traceback": [
      "DimensionMismatch(\"matrix is not square: dimensions are (4, 3)\")",
      "",
      "Stacktrace:",
      " [1] checksquare",
      "   @ /private/tmp/julia-20210615-80123-ag9qn6/usr/share/julia/stdlib/v1.8/LinearAlgebra/src/LinearAlgebra.jl:231 [inlined]",
      " [2] inv(A::Matrix{Float64})",
      "   @ LinearAlgebra /private/tmp/julia-20210615-80123-ag9qn6/usr/share/julia/stdlib/v1.8/LinearAlgebra/src/dense.jl:866",
      " [3] top-level scope",
      "   @ In[14]:1",
      " [4] eval",
      "   @ ./boot.jl:373 [inlined]",
      " [5] include_string(mapexpr::typeof(REPL.softscope), mod::Module, code::String, filename::String)",
      "   @ Base ./loading.jl:1196"
     ]
    }
   ],
   "source": [
    "inv(Q) - Q'"
   ]
  },
  {
   "cell_type": "markdown",
   "metadata": {},
   "source": [
    "A matrix with orthonormal columns $A$ satisfies,\n",
    "\n",
    "$$\n",
    "A^TA = I\n",
    "$$\n",
    "\n",
    "This of $A$ as $n \\times k$ so the $I$ is $k \\times k$.\n",
    "\n",
    "If $A$ is in addition square then it is called an orthogonal matrix and $A^T = A^{-1}$."
   ]
  },
  {
   "cell_type": "markdown",
   "metadata": {},
   "source": [
    "1. $|| A x|| = ||x||$\n",
    "1. $(Ax)^T(Ay) = x^Ty$\n",
    "1. $\\angle (Ax, Ay) = \\angle (x,y)$"
   ]
  },
  {
   "cell_type": "markdown",
   "metadata": {},
   "source": [
    "## QR Factorization"
   ]
  },
  {
   "cell_type": "markdown",
   "metadata": {},
   "source": [
    "$$\n",
    "A = QR\n",
    "$$"
   ]
  },
  {
   "cell_type": "markdown",
   "metadata": {},
   "source": [
    "Expresses the \"result\" of Gram-Schmidt."
   ]
  },
  {
   "cell_type": "markdown",
   "metadata": {},
   "source": [
    "In Gram-Schmidt:\n",
    "$$\n",
    "q_{i} ||\\tilde{q_i}|| = \\tilde{q}_i = v_i - (q_1^T v_i) q_1 - \\ldots - (q_{i-1}^T v_i) q_{i-1}\n",
    "$$\n",
    "\n",
    "Or\n",
    "$$\n",
    "v_i = (q_1^T v_i) q_1 + \\ldots + (q_{i-1}^T v_i) q_{i-1} + q_{i} ||\\tilde{q_i}||\n",
    "$$\n",
    "Or\n",
    "$$\n",
    "v_i = R_{1i} q_1 + \\ldots + R_{ii} q_i\n",
    "$$\n",
    "where\n",
    "$$\n",
    "R_{ij} = q_i^T v_j\n",
    "\\qquad\n",
    "\\text{for}~~i<j\n",
    "$$\n",
    "and\n",
    "$$\n",
    "R_{ii} = ||\\tilde{q}_i||\n",
    "$$\n",
    "and\n",
    "$$\n",
    "R_{ij} = 0\n",
    "\\qquad\n",
    "\\text{for}~~i>j\n",
    "$$\n",
    "Hence,\n",
    "$$\n",
    "A = QR\n",
    "$$"
   ]
  },
  {
   "cell_type": "code",
   "execution_count": 15,
   "metadata": {},
   "outputs": [
    {
     "data": {
      "text/plain": [
       "3"
      ]
     },
     "execution_count": 15,
     "metadata": {},
     "output_type": "execute_result"
    }
   ],
   "source": [
    "using LinearAlgebra\n",
    "A =[1 0 1;\n",
    "    2 0 1;\n",
    "    1 1 1;\n",
    "    2 3 4]\n",
    "rank(A)"
   ]
  },
  {
   "cell_type": "code",
   "execution_count": 16,
   "metadata": {},
   "outputs": [
    {
     "data": {
      "text/plain": [
       "4×7 Matrix{Int64}:\n",
       " 1  0  1  1  0  0  0\n",
       " 2  0  1  0  1  0  0\n",
       " 1  1  1  0  0  1  0\n",
       " 2  3  4  0  0  0  1"
      ]
     },
     "execution_count": 16,
     "metadata": {},
     "output_type": "execute_result"
    }
   ],
   "source": [
    "[A I]"
   ]
  },
  {
   "cell_type": "code",
   "execution_count": 17,
   "metadata": {},
   "outputs": [
    {
     "data": {
      "text/plain": [
       "4"
      ]
     },
     "execution_count": 17,
     "metadata": {},
     "output_type": "execute_result"
    }
   ],
   "source": [
    "rank([A I])"
   ]
  },
  {
   "cell_type": "code",
   "execution_count": 18,
   "metadata": {},
   "outputs": [
    {
     "data": {
      "text/plain": [
       "4×7 Matrix{Int64}:\n",
       " 1  0  1  1  0  0  0\n",
       " 2  0  1  0  1  0  0\n",
       " 1  1  1  0  0  1  0\n",
       " 2  3  4  0  0  0  1"
      ]
     },
     "execution_count": 18,
     "metadata": {},
     "output_type": "execute_result"
    }
   ],
   "source": [
    "B = [A I]"
   ]
  },
  {
   "cell_type": "code",
   "execution_count": 19,
   "metadata": {},
   "outputs": [
    {
     "ename": "LoadError",
     "evalue": "linearly dependent",
     "output_type": "error",
     "traceback": [
      "linearly dependent",
      "",
      "Stacktrace:",
      " [1] error(s::String)",
      "   @ Base ./error.jl:33",
      " [2] myGramSchmidt(v::Vector{Vector{Int64}})",
      "   @ Main ./In[8]:11",
      " [3] top-level scope",
      "   @ In[19]:1",
      " [4] eval",
      "   @ ./boot.jl:373 [inlined]",
      " [5] include_string(mapexpr::typeof(REPL.softscope), mod::Module, code::String, filename::String)",
      "   @ Base ./loading.jl:1196"
     ]
    }
   ],
   "source": [
    "myGramSchmidt([B[:,i] for i in 1:(size(B)[2])])"
   ]
  },
  {
   "cell_type": "code",
   "execution_count": 20,
   "metadata": {},
   "outputs": [
    {
     "name": "stdout",
     "output_type": "stream",
     "text": [
      "search: \u001b[0m\u001b[1mq\u001b[22m\u001b[0m\u001b[1mr\u001b[22m \u001b[0m\u001b[1mq\u001b[22m\u001b[0m\u001b[1mr\u001b[22m! \u001b[0m\u001b[1mQ\u001b[22m\u001b[0m\u001b[1mR\u001b[22m \u001b[0m\u001b[1mQ\u001b[22m\u001b[0m\u001b[1mR\u001b[22mPivoted s\u001b[0m\u001b[1mq\u001b[22m\u001b[0m\u001b[1mr\u001b[22mt is\u001b[0m\u001b[1mq\u001b[22m\u001b[0m\u001b[1mr\u001b[22mt \u001b[0m\u001b[1mQ\u001b[22muickSo\u001b[0m\u001b[1mr\u001b[22mt Partial\u001b[0m\u001b[1mQ\u001b[22muickSo\u001b[0m\u001b[1mr\u001b[22mt\n",
      "\n"
     ]
    },
    {
     "data": {
      "text/latex": [
       "\\begin{verbatim}\n",
       "qr(A, pivot = NoPivot(); blocksize) -> F\n",
       "\\end{verbatim}\n",
       "Compute the QR factorization of the matrix \\texttt{A}: an orthogonal (or unitary if \\texttt{A} is complex-valued) matrix \\texttt{Q}, and an upper triangular matrix \\texttt{R} such that\n",
       "\n",
       "$$A = Q R$$\n",
       "The returned object \\texttt{F} stores the factorization in a packed format:\n",
       "\n",
       "\\begin{itemize}\n",
       "\\item if \\texttt{pivot == ColumnNorm()} then \\texttt{F} is a \\href{@ref}{\\texttt{QRPivoted}} object,\n",
       "\n",
       "\n",
       "\\item otherwise if the element type of \\texttt{A} is a BLAS type (\\href{@ref}{\\texttt{Float32}}, \\href{@ref}{\\texttt{Float64}}, \\texttt{ComplexF32} or \\texttt{ComplexF64}), then \\texttt{F} is a \\href{@ref}{\\texttt{QRCompactWY}} object,\n",
       "\n",
       "\n",
       "\\item otherwise \\texttt{F} is a \\href{@ref}{\\texttt{QR}} object.\n",
       "\n",
       "\\end{itemize}\n",
       "The individual components of the decomposition \\texttt{F} can be retrieved via property accessors:\n",
       "\n",
       "\\begin{itemize}\n",
       "\\item \\texttt{F.Q}: the orthogonal/unitary matrix \\texttt{Q}\n",
       "\n",
       "\n",
       "\\item \\texttt{F.R}: the upper triangular matrix \\texttt{R}\n",
       "\n",
       "\n",
       "\\item \\texttt{F.p}: the permutation vector of the pivot (\\href{@ref}{\\texttt{QRPivoted}} only)\n",
       "\n",
       "\n",
       "\\item \\texttt{F.P}: the permutation matrix of the pivot (\\href{@ref}{\\texttt{QRPivoted}} only)\n",
       "\n",
       "\\end{itemize}\n",
       "Iterating the decomposition produces the components \\texttt{Q}, \\texttt{R}, and if extant \\texttt{p}.\n",
       "\n",
       "The following functions are available for the \\texttt{QR} objects: \\href{@ref}{\\texttt{inv}}, \\href{@ref}{\\texttt{size}}, and \\href{@ref}{\\texttt{{\\textbackslash}}}. When \\texttt{A} is rectangular, \\texttt{{\\textbackslash}} will return a least squares solution and if the solution is not unique, the one with smallest norm is returned. When \\texttt{A} is not full rank, factorization with (column) pivoting is required to obtain a minimum norm solution.\n",
       "\n",
       "Multiplication with respect to either full/square or non-full/square \\texttt{Q} is allowed, i.e. both \\texttt{F.Q*F.R} and \\texttt{F.Q*A} are supported. A \\texttt{Q} matrix can be converted into a regular matrix with \\href{@ref}{\\texttt{Matrix}}.  This operation returns the \"thin\" Q factor, i.e., if \\texttt{A} is \\texttt{m}×\\texttt{n} with \\texttt{m>=n}, then \\texttt{Matrix(F.Q)} yields an \\texttt{m}×\\texttt{n} matrix with orthonormal columns.  To retrieve the \"full\" Q factor, an \\texttt{m}×\\texttt{m} orthogonal matrix, use \\texttt{F.Q*Matrix(I,m,m)}.  If \\texttt{m<=n}, then \\texttt{Matrix(F.Q)} yields an \\texttt{m}×\\texttt{m} orthogonal matrix.\n",
       "\n",
       "The block size for QR decomposition can be specified by keyword argument \\texttt{blocksize :: Integer} when \\texttt{pivot == NoPivot()} and \\texttt{A isa StridedMatrix\\{<:BlasFloat\\}}. It is ignored when \\texttt{blocksize > minimum(size(A))}.  See \\href{@ref}{\\texttt{QRCompactWY}}.\n",
       "\n",
       "\\begin{quote}\n",
       "\\textbf{compat}\n",
       "\n",
       "Julia 1.4\n",
       "\n",
       "The \\texttt{blocksize} keyword argument requires Julia 1.4 or later.\n",
       "\n",
       "\\end{quote}\n",
       "\\section{Examples}\n",
       "\\begin{verbatim}\n",
       "julia> A = [3.0 -6.0; 4.0 -8.0; 0.0 1.0]\n",
       "3×2 Matrix{Float64}:\n",
       " 3.0  -6.0\n",
       " 4.0  -8.0\n",
       " 0.0   1.0\n",
       "\n",
       "julia> F = qr(A)\n",
       "LinearAlgebra.QRCompactWY{Float64, Matrix{Float64}}\n",
       "Q factor:\n",
       "3×3 LinearAlgebra.QRCompactWYQ{Float64, Matrix{Float64}}:\n",
       " -0.6   0.0   0.8\n",
       " -0.8   0.0  -0.6\n",
       "  0.0  -1.0   0.0\n",
       "R factor:\n",
       "2×2 Matrix{Float64}:\n",
       " -5.0  10.0\n",
       "  0.0  -1.0\n",
       "\n",
       "julia> F.Q * F.R == A\n",
       "true\n",
       "\\end{verbatim}\n",
       "\\begin{quote}\n",
       "\\textbf{note}\n",
       "\n",
       "Note\n",
       "\n",
       "\\texttt{qr} returns multiple types because LAPACK uses several representations that minimize the memory storage requirements of products of Householder elementary reflectors, so that the \\texttt{Q} and \\texttt{R} matrices can be stored compactly rather as two separate dense matrices.\n",
       "\n",
       "\\end{quote}\n",
       "\\rule{\\textwidth}{1pt}\n",
       "\\begin{verbatim}\n",
       "qr(A::SparseMatrixCSC; tol=_default_tol(A), ordering=ORDERING_DEFAULT) -> QRSparse\n",
       "\\end{verbatim}\n",
       "Compute the \\texttt{QR} factorization of a sparse matrix \\texttt{A}. Fill-reducing row and column permutations are used such that \\texttt{F.R = F.Q'*A[F.prow,F.pcol]}. The main application of this type is to solve least squares or underdetermined problems with \\href{@ref}{\\texttt{{\\textbackslash}}}. The function calls the C library SPQR.\n",
       "\n",
       "\\begin{quote}\n",
       "\\textbf{note}\n",
       "\n",
       "Note\n",
       "\n",
       "\\texttt{qr(A::SparseMatrixCSC)} uses the SPQR library that is part of SuiteSparse. As this library only supports sparse matrices with \\href{@ref}{\\texttt{Float64}} or \\texttt{ComplexF64} elements, as of Julia v1.4 \\texttt{qr} converts \\texttt{A} into a copy that is of type \\texttt{SparseMatrixCSC\\{Float64\\}} or \\texttt{SparseMatrixCSC\\{ComplexF64\\}} as appropriate.\n",
       "\n",
       "\\end{quote}\n",
       "\\section{Examples}\n",
       "\\begin{verbatim}\n",
       "julia> A = sparse([1,2,3,4], [1,1,2,2], [1.0,1.0,1.0,1.0])\n",
       "4×2 SparseMatrixCSC{Float64, Int64} with 4 stored entries:\n",
       " 1.0   ⋅\n",
       " 1.0   ⋅\n",
       "  ⋅   1.0\n",
       "  ⋅   1.0\n",
       "\n",
       "julia> qr(A)\n",
       "SuiteSparse.SPQR.QRSparse{Float64, Int64}\n",
       "Q factor:\n",
       "4×4 SuiteSparse.SPQR.QRSparseQ{Float64, Int64}:\n",
       " -0.707107   0.0        0.0       -0.707107\n",
       "  0.0       -0.707107  -0.707107   0.0\n",
       "  0.0       -0.707107   0.707107   0.0\n",
       " -0.707107   0.0        0.0        0.707107\n",
       "R factor:\n",
       "2×2 SparseMatrixCSC{Float64, Int64} with 2 stored entries:\n",
       " -1.41421    ⋅\n",
       "   ⋅       -1.41421\n",
       "Row permutation:\n",
       "4-element Vector{Int64}:\n",
       " 1\n",
       " 3\n",
       " 4\n",
       " 2\n",
       "Column permutation:\n",
       "2-element Vector{Int64}:\n",
       " 1\n",
       " 2\n",
       "\\end{verbatim}\n"
      ],
      "text/markdown": [
       "```\n",
       "qr(A, pivot = NoPivot(); blocksize) -> F\n",
       "```\n",
       "\n",
       "Compute the QR factorization of the matrix `A`: an orthogonal (or unitary if `A` is complex-valued) matrix `Q`, and an upper triangular matrix `R` such that\n",
       "\n",
       "$$\n",
       "A = Q R\n",
       "$$\n",
       "\n",
       "The returned object `F` stores the factorization in a packed format:\n",
       "\n",
       "  * if `pivot == ColumnNorm()` then `F` is a [`QRPivoted`](@ref) object,\n",
       "  * otherwise if the element type of `A` is a BLAS type ([`Float32`](@ref), [`Float64`](@ref), `ComplexF32` or `ComplexF64`), then `F` is a [`QRCompactWY`](@ref) object,\n",
       "  * otherwise `F` is a [`QR`](@ref) object.\n",
       "\n",
       "The individual components of the decomposition `F` can be retrieved via property accessors:\n",
       "\n",
       "  * `F.Q`: the orthogonal/unitary matrix `Q`\n",
       "  * `F.R`: the upper triangular matrix `R`\n",
       "  * `F.p`: the permutation vector of the pivot ([`QRPivoted`](@ref) only)\n",
       "  * `F.P`: the permutation matrix of the pivot ([`QRPivoted`](@ref) only)\n",
       "\n",
       "Iterating the decomposition produces the components `Q`, `R`, and if extant `p`.\n",
       "\n",
       "The following functions are available for the `QR` objects: [`inv`](@ref), [`size`](@ref), and [`\\`](@ref). When `A` is rectangular, `\\` will return a least squares solution and if the solution is not unique, the one with smallest norm is returned. When `A` is not full rank, factorization with (column) pivoting is required to obtain a minimum norm solution.\n",
       "\n",
       "Multiplication with respect to either full/square or non-full/square `Q` is allowed, i.e. both `F.Q*F.R` and `F.Q*A` are supported. A `Q` matrix can be converted into a regular matrix with [`Matrix`](@ref).  This operation returns the \"thin\" Q factor, i.e., if `A` is `m`×`n` with `m>=n`, then `Matrix(F.Q)` yields an `m`×`n` matrix with orthonormal columns.  To retrieve the \"full\" Q factor, an `m`×`m` orthogonal matrix, use `F.Q*Matrix(I,m,m)`.  If `m<=n`, then `Matrix(F.Q)` yields an `m`×`m` orthogonal matrix.\n",
       "\n",
       "The block size for QR decomposition can be specified by keyword argument `blocksize :: Integer` when `pivot == NoPivot()` and `A isa StridedMatrix{<:BlasFloat}`. It is ignored when `blocksize > minimum(size(A))`.  See [`QRCompactWY`](@ref).\n",
       "\n",
       "!!! compat \"Julia 1.4\"\n",
       "    The `blocksize` keyword argument requires Julia 1.4 or later.\n",
       "\n",
       "\n",
       "# Examples\n",
       "\n",
       "```jldoctest\n",
       "julia> A = [3.0 -6.0; 4.0 -8.0; 0.0 1.0]\n",
       "3×2 Matrix{Float64}:\n",
       " 3.0  -6.0\n",
       " 4.0  -8.0\n",
       " 0.0   1.0\n",
       "\n",
       "julia> F = qr(A)\n",
       "LinearAlgebra.QRCompactWY{Float64, Matrix{Float64}}\n",
       "Q factor:\n",
       "3×3 LinearAlgebra.QRCompactWYQ{Float64, Matrix{Float64}}:\n",
       " -0.6   0.0   0.8\n",
       " -0.8   0.0  -0.6\n",
       "  0.0  -1.0   0.0\n",
       "R factor:\n",
       "2×2 Matrix{Float64}:\n",
       " -5.0  10.0\n",
       "  0.0  -1.0\n",
       "\n",
       "julia> F.Q * F.R == A\n",
       "true\n",
       "```\n",
       "\n",
       "!!! note\n",
       "    `qr` returns multiple types because LAPACK uses several representations that minimize the memory storage requirements of products of Householder elementary reflectors, so that the `Q` and `R` matrices can be stored compactly rather as two separate dense matrices.\n",
       "\n",
       "\n",
       "---\n",
       "\n",
       "```\n",
       "qr(A::SparseMatrixCSC; tol=_default_tol(A), ordering=ORDERING_DEFAULT) -> QRSparse\n",
       "```\n",
       "\n",
       "Compute the `QR` factorization of a sparse matrix `A`. Fill-reducing row and column permutations are used such that `F.R = F.Q'*A[F.prow,F.pcol]`. The main application of this type is to solve least squares or underdetermined problems with [`\\`](@ref). The function calls the C library SPQR.\n",
       "\n",
       "!!! note\n",
       "    `qr(A::SparseMatrixCSC)` uses the SPQR library that is part of SuiteSparse. As this library only supports sparse matrices with [`Float64`](@ref) or `ComplexF64` elements, as of Julia v1.4 `qr` converts `A` into a copy that is of type `SparseMatrixCSC{Float64}` or `SparseMatrixCSC{ComplexF64}` as appropriate.\n",
       "\n",
       "\n",
       "# Examples\n",
       "\n",
       "```jldoctest\n",
       "julia> A = sparse([1,2,3,4], [1,1,2,2], [1.0,1.0,1.0,1.0])\n",
       "4×2 SparseMatrixCSC{Float64, Int64} with 4 stored entries:\n",
       " 1.0   ⋅\n",
       " 1.0   ⋅\n",
       "  ⋅   1.0\n",
       "  ⋅   1.0\n",
       "\n",
       "julia> qr(A)\n",
       "SuiteSparse.SPQR.QRSparse{Float64, Int64}\n",
       "Q factor:\n",
       "4×4 SuiteSparse.SPQR.QRSparseQ{Float64, Int64}:\n",
       " -0.707107   0.0        0.0       -0.707107\n",
       "  0.0       -0.707107  -0.707107   0.0\n",
       "  0.0       -0.707107   0.707107   0.0\n",
       " -0.707107   0.0        0.0        0.707107\n",
       "R factor:\n",
       "2×2 SparseMatrixCSC{Float64, Int64} with 2 stored entries:\n",
       " -1.41421    ⋅\n",
       "   ⋅       -1.41421\n",
       "Row permutation:\n",
       "4-element Vector{Int64}:\n",
       " 1\n",
       " 3\n",
       " 4\n",
       " 2\n",
       "Column permutation:\n",
       "2-element Vector{Int64}:\n",
       " 1\n",
       " 2\n",
       "```\n"
      ],
      "text/plain": [
       "\u001b[36m  qr(A, pivot = NoPivot(); blocksize) -> F\u001b[39m\n",
       "\n",
       "  Compute the QR factorization of the matrix \u001b[36mA\u001b[39m: an orthogonal (or unitary if \u001b[36mA\u001b[39m\n",
       "  is complex-valued) matrix \u001b[36mQ\u001b[39m, and an upper triangular matrix \u001b[36mR\u001b[39m such that\n",
       "\n",
       "\u001b[35m  A = Q R\u001b[39m\n",
       "\n",
       "  The returned object \u001b[36mF\u001b[39m stores the factorization in a packed format:\n",
       "\n",
       "    •  if \u001b[36mpivot == ColumnNorm()\u001b[39m then \u001b[36mF\u001b[39m is a \u001b[36mQRPivoted\u001b[39m object,\n",
       "\n",
       "    •  otherwise if the element type of \u001b[36mA\u001b[39m is a BLAS type (\u001b[36mFloat32\u001b[39m,\n",
       "       \u001b[36mFloat64\u001b[39m, \u001b[36mComplexF32\u001b[39m or \u001b[36mComplexF64\u001b[39m), then \u001b[36mF\u001b[39m is a \u001b[36mQRCompactWY\u001b[39m\n",
       "       object,\n",
       "\n",
       "    •  otherwise \u001b[36mF\u001b[39m is a \u001b[36mQR\u001b[39m object.\n",
       "\n",
       "  The individual components of the decomposition \u001b[36mF\u001b[39m can be retrieved via\n",
       "  property accessors:\n",
       "\n",
       "    •  \u001b[36mF.Q\u001b[39m: the orthogonal/unitary matrix \u001b[36mQ\u001b[39m\n",
       "\n",
       "    •  \u001b[36mF.R\u001b[39m: the upper triangular matrix \u001b[36mR\u001b[39m\n",
       "\n",
       "    •  \u001b[36mF.p\u001b[39m: the permutation vector of the pivot (\u001b[36mQRPivoted\u001b[39m only)\n",
       "\n",
       "    •  \u001b[36mF.P\u001b[39m: the permutation matrix of the pivot (\u001b[36mQRPivoted\u001b[39m only)\n",
       "\n",
       "  Iterating the decomposition produces the components \u001b[36mQ\u001b[39m, \u001b[36mR\u001b[39m, and if extant \u001b[36mp\u001b[39m.\n",
       "\n",
       "  The following functions are available for the \u001b[36mQR\u001b[39m objects: \u001b[36minv\u001b[39m, \u001b[36msize\u001b[39m, and \u001b[36m\\\u001b[39m.\n",
       "  When \u001b[36mA\u001b[39m is rectangular, \u001b[36m\\\u001b[39m will return a least squares solution and if the\n",
       "  solution is not unique, the one with smallest norm is returned. When \u001b[36mA\u001b[39m is\n",
       "  not full rank, factorization with (column) pivoting is required to obtain a\n",
       "  minimum norm solution.\n",
       "\n",
       "  Multiplication with respect to either full/square or non-full/square \u001b[36mQ\u001b[39m is\n",
       "  allowed, i.e. both \u001b[36mF.Q*F.R\u001b[39m and \u001b[36mF.Q*A\u001b[39m are supported. A \u001b[36mQ\u001b[39m matrix can be\n",
       "  converted into a regular matrix with \u001b[36mMatrix\u001b[39m. This operation returns the\n",
       "  \"thin\" Q factor, i.e., if \u001b[36mA\u001b[39m is \u001b[36mm\u001b[39m×\u001b[36mn\u001b[39m with \u001b[36mm>=n\u001b[39m, then \u001b[36mMatrix(F.Q)\u001b[39m yields an \u001b[36mm\u001b[39m×\u001b[36mn\u001b[39m\n",
       "  matrix with orthonormal columns. To retrieve the \"full\" Q factor, an \u001b[36mm\u001b[39m×\u001b[36mm\u001b[39m\n",
       "  orthogonal matrix, use \u001b[36mF.Q*Matrix(I,m,m)\u001b[39m. If \u001b[36mm<=n\u001b[39m, then \u001b[36mMatrix(F.Q)\u001b[39m yields\n",
       "  an \u001b[36mm\u001b[39m×\u001b[36mm\u001b[39m orthogonal matrix.\n",
       "\n",
       "  The block size for QR decomposition can be specified by keyword argument\n",
       "  \u001b[36mblocksize :: Integer\u001b[39m when \u001b[36mpivot == NoPivot()\u001b[39m and \u001b[36mA isa\n",
       "  StridedMatrix{<:BlasFloat}\u001b[39m. It is ignored when \u001b[36mblocksize > minimum(size(A))\u001b[39m.\n",
       "  See \u001b[36mQRCompactWY\u001b[39m.\n",
       "\n",
       "\u001b[39m\u001b[1m  │ \u001b[22m\u001b[39m\u001b[1mJulia 1.4\u001b[22m\n",
       "\u001b[39m\u001b[1m  │\u001b[22m\n",
       "\u001b[39m\u001b[1m  │\u001b[22m  The \u001b[36mblocksize\u001b[39m keyword argument requires Julia 1.4 or later.\n",
       "\n",
       "\u001b[1m  Examples\u001b[22m\n",
       "\u001b[1m  ≡≡≡≡≡≡≡≡≡≡\u001b[22m\n",
       "\n",
       "\u001b[36m  julia> A = [3.0 -6.0; 4.0 -8.0; 0.0 1.0]\u001b[39m\n",
       "\u001b[36m  3×2 Matrix{Float64}:\u001b[39m\n",
       "\u001b[36m   3.0  -6.0\u001b[39m\n",
       "\u001b[36m   4.0  -8.0\u001b[39m\n",
       "\u001b[36m   0.0   1.0\u001b[39m\n",
       "\u001b[36m  \u001b[39m\n",
       "\u001b[36m  julia> F = qr(A)\u001b[39m\n",
       "\u001b[36m  LinearAlgebra.QRCompactWY{Float64, Matrix{Float64}}\u001b[39m\n",
       "\u001b[36m  Q factor:\u001b[39m\n",
       "\u001b[36m  3×3 LinearAlgebra.QRCompactWYQ{Float64, Matrix{Float64}}:\u001b[39m\n",
       "\u001b[36m   -0.6   0.0   0.8\u001b[39m\n",
       "\u001b[36m   -0.8   0.0  -0.6\u001b[39m\n",
       "\u001b[36m    0.0  -1.0   0.0\u001b[39m\n",
       "\u001b[36m  R factor:\u001b[39m\n",
       "\u001b[36m  2×2 Matrix{Float64}:\u001b[39m\n",
       "\u001b[36m   -5.0  10.0\u001b[39m\n",
       "\u001b[36m    0.0  -1.0\u001b[39m\n",
       "\u001b[36m  \u001b[39m\n",
       "\u001b[36m  julia> F.Q * F.R == A\u001b[39m\n",
       "\u001b[36m  true\u001b[39m\n",
       "\n",
       "\u001b[36m\u001b[1m  │ \u001b[22m\u001b[39m\u001b[36m\u001b[1mNote\u001b[22m\u001b[39m\n",
       "\u001b[36m\u001b[1m  │\u001b[22m\u001b[39m\n",
       "\u001b[36m\u001b[1m  │\u001b[22m\u001b[39m  \u001b[36mqr\u001b[39m returns multiple types because LAPACK uses several\n",
       "\u001b[36m\u001b[1m  │\u001b[22m\u001b[39m  representations that minimize the memory storage requirements of\n",
       "\u001b[36m\u001b[1m  │\u001b[22m\u001b[39m  products of Householder elementary reflectors, so that the \u001b[36mQ\u001b[39m and \u001b[36mR\u001b[39m\n",
       "\u001b[36m\u001b[1m  │\u001b[22m\u001b[39m  matrices can be stored compactly rather as two separate dense\n",
       "\u001b[36m\u001b[1m  │\u001b[22m\u001b[39m  matrices.\n",
       "\n",
       "  ────────────────────────────────────────────────────────────────────────────\n",
       "\n",
       "\u001b[36m  qr(A::SparseMatrixCSC; tol=_default_tol(A), ordering=ORDERING_DEFAULT) -> QRSparse\u001b[39m\n",
       "\n",
       "  Compute the \u001b[36mQR\u001b[39m factorization of a sparse matrix \u001b[36mA\u001b[39m. Fill-reducing row and\n",
       "  column permutations are used such that \u001b[36mF.R = F.Q'*A[F.prow,F.pcol]\u001b[39m. The main\n",
       "  application of this type is to solve least squares or underdetermined\n",
       "  problems with \u001b[36m\\\u001b[39m. The function calls the C library SPQR.\n",
       "\n",
       "\u001b[36m\u001b[1m  │ \u001b[22m\u001b[39m\u001b[36m\u001b[1mNote\u001b[22m\u001b[39m\n",
       "\u001b[36m\u001b[1m  │\u001b[22m\u001b[39m\n",
       "\u001b[36m\u001b[1m  │\u001b[22m\u001b[39m  \u001b[36mqr(A::SparseMatrixCSC)\u001b[39m uses the SPQR library that is part of\n",
       "\u001b[36m\u001b[1m  │\u001b[22m\u001b[39m  SuiteSparse. As this library only supports sparse matrices with\n",
       "\u001b[36m\u001b[1m  │\u001b[22m\u001b[39m  \u001b[36mFloat64\u001b[39m or \u001b[36mComplexF64\u001b[39m elements, as of Julia v1.4 \u001b[36mqr\u001b[39m converts \u001b[36mA\u001b[39m\n",
       "\u001b[36m\u001b[1m  │\u001b[22m\u001b[39m  into a copy that is of type \u001b[36mSparseMatrixCSC{Float64}\u001b[39m or\n",
       "\u001b[36m\u001b[1m  │\u001b[22m\u001b[39m  \u001b[36mSparseMatrixCSC{ComplexF64}\u001b[39m as appropriate.\n",
       "\n",
       "\u001b[1m  Examples\u001b[22m\n",
       "\u001b[1m  ≡≡≡≡≡≡≡≡≡≡\u001b[22m\n",
       "\n",
       "\u001b[36m  julia> A = sparse([1,2,3,4], [1,1,2,2], [1.0,1.0,1.0,1.0])\u001b[39m\n",
       "\u001b[36m  4×2 SparseMatrixCSC{Float64, Int64} with 4 stored entries:\u001b[39m\n",
       "\u001b[36m   1.0   ⋅\u001b[39m\n",
       "\u001b[36m   1.0   ⋅\u001b[39m\n",
       "\u001b[36m    ⋅   1.0\u001b[39m\n",
       "\u001b[36m    ⋅   1.0\u001b[39m\n",
       "\u001b[36m  \u001b[39m\n",
       "\u001b[36m  julia> qr(A)\u001b[39m\n",
       "\u001b[36m  SuiteSparse.SPQR.QRSparse{Float64, Int64}\u001b[39m\n",
       "\u001b[36m  Q factor:\u001b[39m\n",
       "\u001b[36m  4×4 SuiteSparse.SPQR.QRSparseQ{Float64, Int64}:\u001b[39m\n",
       "\u001b[36m   -0.707107   0.0        0.0       -0.707107\u001b[39m\n",
       "\u001b[36m    0.0       -0.707107  -0.707107   0.0\u001b[39m\n",
       "\u001b[36m    0.0       -0.707107   0.707107   0.0\u001b[39m\n",
       "\u001b[36m   -0.707107   0.0        0.0        0.707107\u001b[39m\n",
       "\u001b[36m  R factor:\u001b[39m\n",
       "\u001b[36m  2×2 SparseMatrixCSC{Float64, Int64} with 2 stored entries:\u001b[39m\n",
       "\u001b[36m   -1.41421    ⋅\u001b[39m\n",
       "\u001b[36m     ⋅       -1.41421\u001b[39m\n",
       "\u001b[36m  Row permutation:\u001b[39m\n",
       "\u001b[36m  4-element Vector{Int64}:\u001b[39m\n",
       "\u001b[36m   1\u001b[39m\n",
       "\u001b[36m   3\u001b[39m\n",
       "\u001b[36m   4\u001b[39m\n",
       "\u001b[36m   2\u001b[39m\n",
       "\u001b[36m  Column permutation:\u001b[39m\n",
       "\u001b[36m  2-element Vector{Int64}:\u001b[39m\n",
       "\u001b[36m   1\u001b[39m\n",
       "\u001b[36m   2\u001b[39m"
      ]
     },
     "execution_count": 20,
     "metadata": {},
     "output_type": "execute_result"
    }
   ],
   "source": [
    "? qr"
   ]
  },
  {
   "cell_type": "code",
   "execution_count": 21,
   "metadata": {},
   "outputs": [
    {
     "data": {
      "text/plain": [
       "4×3 Matrix{Int64}:\n",
       " 1  0  1\n",
       " 2  0  1\n",
       " 1  1  1\n",
       " 2  3  4"
      ]
     },
     "execution_count": 21,
     "metadata": {},
     "output_type": "execute_result"
    }
   ],
   "source": [
    "A"
   ]
  },
  {
   "cell_type": "code",
   "execution_count": 22,
   "metadata": {},
   "outputs": [
    {
     "data": {
      "text/plain": [
       "LinearAlgebra.QRCompactWY{Float64, Matrix{Float64}}\n",
       "Q factor:\n",
       "4×4 LinearAlgebra.QRCompactWYQ{Float64, Matrix{Float64}}:\n",
       " -0.316228  -0.309965   0.642353  -0.625543\n",
       " -0.632456  -0.61993   -0.204385   0.417029\n",
       " -0.316228   0.132842  -0.700749  -0.625543\n",
       " -0.632456   0.708492   0.233583   0.208514\n",
       "R factor:\n",
       "3×3 Matrix{Float64}:\n",
       " -3.16228  -2.21359  -3.79473\n",
       "  0.0       2.25832   2.03691\n",
       "  0.0       0.0       0.671551"
      ]
     },
     "execution_count": 22,
     "metadata": {},
     "output_type": "execute_result"
    }
   ],
   "source": [
    "F = qr(A)"
   ]
  },
  {
   "cell_type": "code",
   "execution_count": 23,
   "metadata": {},
   "outputs": [
    {
     "data": {
      "text/plain": [
       "3×3 Matrix{Float64}:\n",
       " -3.16228  -2.21359  -3.79473\n",
       "  0.0       2.25832   2.03691\n",
       "  0.0       0.0       0.671551"
      ]
     },
     "execution_count": 23,
     "metadata": {},
     "output_type": "execute_result"
    }
   ],
   "source": [
    "F.R"
   ]
  },
  {
   "cell_type": "code",
   "execution_count": 24,
   "metadata": {},
   "outputs": [],
   "source": [
    "Q = F.Q[:,1:3];\n",
    "R = F.R;"
   ]
  },
  {
   "cell_type": "code",
   "execution_count": 25,
   "metadata": {},
   "outputs": [
    {
     "data": {
      "text/plain": [
       "4×3 Matrix{Float64}:\n",
       " -0.316228  -0.309965   0.642353\n",
       " -0.632456  -0.61993   -0.204385\n",
       " -0.316228   0.132842  -0.700749\n",
       " -0.632456   0.708492   0.233583"
      ]
     },
     "execution_count": 25,
     "metadata": {},
     "output_type": "execute_result"
    }
   ],
   "source": [
    "Q"
   ]
  },
  {
   "cell_type": "code",
   "execution_count": 26,
   "metadata": {},
   "outputs": [
    {
     "data": {
      "text/plain": [
       "4×3 Matrix{Float64}:\n",
       " 1.0  -4.15163e-16  1.0\n",
       " 2.0  -5.22245e-16  1.0\n",
       " 1.0   1.0          1.0\n",
       " 2.0   3.0          4.0"
      ]
     },
     "execution_count": 26,
     "metadata": {},
     "output_type": "execute_result"
    }
   ],
   "source": [
    "Q*R"
   ]
  },
  {
   "cell_type": "code",
   "execution_count": 27,
   "metadata": {},
   "outputs": [
    {
     "data": {
      "text/plain": [
       "4×4 LinearAlgebra.QRCompactWYQ{Float64, Matrix{Float64}}:\n",
       " -0.316228  -0.309965   0.642353  -0.625543\n",
       " -0.632456  -0.61993   -0.204385   0.417029\n",
       " -0.316228   0.132842  -0.700749  -0.625543\n",
       " -0.632456   0.708492   0.233583   0.208514"
      ]
     },
     "execution_count": 27,
     "metadata": {},
     "output_type": "execute_result"
    }
   ],
   "source": [
    "F.Q"
   ]
  },
  {
   "cell_type": "code",
   "execution_count": 28,
   "metadata": {},
   "outputs": [
    {
     "data": {
      "text/plain": [
       "4×4 Matrix{Float64}:\n",
       " -0.316228  -0.309965   0.642353  -0.625543\n",
       " -0.632456  -0.61993   -0.204385   0.417029\n",
       " -0.316228   0.132842  -0.700749  -0.625543\n",
       " -0.632456   0.708492   0.233583   0.208514"
      ]
     },
     "execution_count": 28,
     "metadata": {},
     "output_type": "execute_result"
    }
   ],
   "source": [
    "fullQ = copy(F.Q) #copy() changes type"
   ]
  },
  {
   "cell_type": "code",
   "execution_count": 29,
   "metadata": {},
   "outputs": [
    {
     "data": {
      "text/plain": [
       "4×4 adjoint(::Matrix{Float64}) with eltype Float64:\n",
       " -0.316228  -0.632456  -0.316228  -0.632456\n",
       " -0.309965  -0.61993    0.132842   0.708492\n",
       "  0.642353  -0.204385  -0.700749   0.233583\n",
       " -0.625543   0.417029  -0.625543   0.208514"
      ]
     },
     "execution_count": 29,
     "metadata": {},
     "output_type": "execute_result"
    }
   ],
   "source": [
    "fullQ'"
   ]
  },
  {
   "cell_type": "code",
   "execution_count": 30,
   "metadata": {},
   "outputs": [
    {
     "data": {
      "text/plain": [
       "4×4 Matrix{Float64}:\n",
       " -0.316228  -0.632456  -0.316228  -0.632456\n",
       " -0.309965  -0.61993    0.132842   0.708492\n",
       "  0.642353  -0.204385  -0.700749   0.233583\n",
       " -0.625543   0.417029  -0.625543   0.208514"
      ]
     },
     "execution_count": 30,
     "metadata": {},
     "output_type": "execute_result"
    }
   ],
   "source": [
    "inv(fullQ)"
   ]
  },
  {
   "cell_type": "code",
   "execution_count": 31,
   "metadata": {},
   "outputs": [
    {
     "data": {
      "text/plain": [
       "3"
      ]
     },
     "execution_count": 31,
     "metadata": {},
     "output_type": "execute_result"
    }
   ],
   "source": [
    "A =[1 0 1 4;\n",
    "    2 0 2 5;\n",
    "    1 1 2 2;\n",
    "    2 3 5 3;\n",
    "    7 0 7 2] \n",
    "rank(A)"
   ]
  },
  {
   "cell_type": "code",
   "execution_count": 32,
   "metadata": {},
   "outputs": [
    {
     "data": {
      "text/plain": [
       "LinearAlgebra.QRCompactWY{Float64, Matrix{Float64}}\n",
       "Q factor:\n",
       "5×5 LinearAlgebra.QRCompactWYQ{Float64, Matrix{Float64}}:\n",
       " -0.130189  -0.0391808   0.725244    -0.665201    0.11421\n",
       " -0.260378  -0.0783616  -0.682284    -0.671835    0.0958614\n",
       " -0.130189   0.291057    0.0168019   -0.134406   -0.938077\n",
       " -0.260378   0.912353   -0.00560062   0.0448019   0.312692\n",
       " -0.911322  -0.274266    0.0905319    0.293382    0.000965705\n",
       "R factor:\n",
       "4×4 Matrix{Float64}:\n",
       " -7.68115  -0.911322  -8.59247      -4.6868\n",
       "  0.0       3.02812    3.02812       2.22211\n",
       "  0.0       0.0       -2.94575e-15  -0.312578\n",
       "  0.0       0.0        0.0          -5.56762"
      ]
     },
     "execution_count": 32,
     "metadata": {},
     "output_type": "execute_result"
    }
   ],
   "source": [
    "F = qr(A)"
   ]
  },
  {
   "cell_type": "markdown",
   "metadata": {},
   "source": [
    "## Solving linear equations with QR\n",
    "See [VMLS] Section 11.3"
   ]
  },
  {
   "cell_type": "markdown",
   "metadata": {},
   "source": [
    "Solve $A x = b$\n",
    "\n",
    "$$ \n",
    "A = QR\n",
    "$$\n",
    "\n",
    "$$\n",
    "QR x = b\n",
    "$$\n",
    "\n",
    "$$ \n",
    "Rx = Q^T b\n",
    "$$"
   ]
  },
  {
   "cell_type": "code",
   "execution_count": 33,
   "metadata": {},
   "outputs": [],
   "source": [
    "using Random\n",
    "Random.seed!(0)\n",
    "N = 6000\n",
    "A = rand(N,N)\n",
    "b = rand(N)\n",
    "Q,R = qr(A);"
   ]
  },
  {
   "cell_type": "code",
   "execution_count": 34,
   "metadata": {},
   "outputs": [
    {
     "name": "stdout",
     "output_type": "stream",
     "text": [
      "  2.976430 seconds (2.44 M allocations: 415.803 MiB, 3.56% gc time, 36.74% compilation time)\n"
     ]
    },
    {
     "data": {
      "text/plain": [
       "2.2462189405274428e-10"
      ]
     },
     "execution_count": 34,
     "metadata": {},
     "output_type": "execute_result"
    }
   ],
   "source": [
    "@time begin\n",
    "    x = A \\ b  #without prior QR (or LU or any decomposition)\n",
    "    norm(A*x-b)\n",
    "end"
   ]
  },
  {
   "cell_type": "code",
   "execution_count": 35,
   "metadata": {},
   "outputs": [
    {
     "name": "stdout",
     "output_type": "stream",
     "text": [
      "  0.089183 seconds (11.99 k allocations: 1.046 MiB, 28.27% compilation time)\n"
     ]
    },
    {
     "data": {
      "text/plain": [
       "7.50826534148154e-12"
      ]
     },
     "execution_count": 35,
     "metadata": {},
     "output_type": "execute_result"
    }
   ],
   "source": [
    "@time begin\n",
    "    x = UpperTriangular(R) \\ Q'b  #Rx = Q'b  (solving for x)\n",
    "    norm(A*x-b)\n",
    "end"
   ]
  },
  {
   "cell_type": "code",
   "execution_count": 36,
   "metadata": {},
   "outputs": [
    {
     "data": {
      "text/plain": [
       "6000×6000 Matrix{Float64}:\n",
       " -44.4206  -33.8952  -33.642   -33.9635   …  -33.3573     -33.5877\n",
       "   0.0     -29.5296  -12.6518  -12.5371      -12.3797     -12.7264\n",
       "   0.0       0.0     -26.9557   -8.88162      -8.66174     -8.19523\n",
       "   0.0       0.0       0.0      25.3299        5.93361      5.53643\n",
       "   0.0       0.0       0.0       0.0           5.23093      4.71183\n",
       "   0.0       0.0       0.0       0.0      …   -3.37944     -3.57964\n",
       "   0.0       0.0       0.0       0.0          -3.3306      -3.93175\n",
       "   0.0       0.0       0.0       0.0           2.39864      2.58747\n",
       "   0.0       0.0       0.0       0.0           2.29994      2.31969\n",
       "   0.0       0.0       0.0       0.0          -2.48832     -2.73915\n",
       "   0.0       0.0       0.0       0.0      …    2.12751      2.06165\n",
       "   0.0       0.0       0.0       0.0           1.81324      1.92071\n",
       "   0.0       0.0       0.0       0.0          -1.81757     -0.931453\n",
       "   ⋮                                      ⋱               \n",
       "   0.0       0.0       0.0       0.0          -0.175906     0.538533\n",
       "   0.0       0.0       0.0       0.0          -0.368235     0.261792\n",
       "   0.0       0.0       0.0       0.0      …    0.149195     0.641964\n",
       "   0.0       0.0       0.0       0.0          -0.215826     0.0851811\n",
       "   0.0       0.0       0.0       0.0           0.381487    -0.223496\n",
       "   0.0       0.0       0.0       0.0          -0.261129     0.0843713\n",
       "   0.0       0.0       0.0       0.0          -0.247081     0.0680898\n",
       "   0.0       0.0       0.0       0.0      …   -0.0342792    0.333052\n",
       "   0.0       0.0       0.0       0.0          -0.186552     0.245862\n",
       "   0.0       0.0       0.0       0.0          -0.419409    -0.122812\n",
       "   0.0       0.0       0.0       0.0          -0.205544    -0.491913\n",
       "   0.0       0.0       0.0       0.0           0.0          0.337642"
      ]
     },
     "execution_count": 36,
     "metadata": {},
     "output_type": "execute_result"
    }
   ],
   "source": [
    "R"
   ]
  },
  {
   "cell_type": "code",
   "execution_count": 37,
   "metadata": {},
   "outputs": [
    {
     "data": {
      "text/plain": [
       "6000×6000 UpperTriangular{Float64, Matrix{Float64}}:\n",
       " -44.4206  -33.8952  -33.642   -33.9635   …  -33.3573     -33.5877\n",
       "    ⋅      -29.5296  -12.6518  -12.5371      -12.3797     -12.7264\n",
       "    ⋅         ⋅      -26.9557   -8.88162      -8.66174     -8.19523\n",
       "    ⋅         ⋅         ⋅       25.3299        5.93361      5.53643\n",
       "    ⋅         ⋅         ⋅         ⋅            5.23093      4.71183\n",
       "    ⋅         ⋅         ⋅         ⋅       …   -3.37944     -3.57964\n",
       "    ⋅         ⋅         ⋅         ⋅           -3.3306      -3.93175\n",
       "    ⋅         ⋅         ⋅         ⋅            2.39864      2.58747\n",
       "    ⋅         ⋅         ⋅         ⋅            2.29994      2.31969\n",
       "    ⋅         ⋅         ⋅         ⋅           -2.48832     -2.73915\n",
       "    ⋅         ⋅         ⋅         ⋅       …    2.12751      2.06165\n",
       "    ⋅         ⋅         ⋅         ⋅            1.81324      1.92071\n",
       "    ⋅         ⋅         ⋅         ⋅           -1.81757     -0.931453\n",
       "   ⋮                                      ⋱               \n",
       "    ⋅         ⋅         ⋅         ⋅           -0.175906     0.538533\n",
       "    ⋅         ⋅         ⋅         ⋅           -0.368235     0.261792\n",
       "    ⋅         ⋅         ⋅         ⋅       …    0.149195     0.641964\n",
       "    ⋅         ⋅         ⋅         ⋅           -0.215826     0.0851811\n",
       "    ⋅         ⋅         ⋅         ⋅            0.381487    -0.223496\n",
       "    ⋅         ⋅         ⋅         ⋅           -0.261129     0.0843713\n",
       "    ⋅         ⋅         ⋅         ⋅           -0.247081     0.0680898\n",
       "    ⋅         ⋅         ⋅         ⋅       …   -0.0342792    0.333052\n",
       "    ⋅         ⋅         ⋅         ⋅           -0.186552     0.245862\n",
       "    ⋅         ⋅         ⋅         ⋅           -0.419409    -0.122812\n",
       "    ⋅         ⋅         ⋅         ⋅           -0.205544    -0.491913\n",
       "    ⋅         ⋅         ⋅         ⋅             ⋅           0.337642"
      ]
     },
     "execution_count": 37,
     "metadata": {},
     "output_type": "execute_result"
    }
   ],
   "source": [
    "UpperTriangular(R)"
   ]
  },
  {
   "cell_type": "code",
   "execution_count": 38,
   "metadata": {},
   "outputs": [
    {
     "name": "stdout",
     "output_type": "stream",
     "text": [
      "  0.081586 seconds (12 allocations: 234.812 KiB)\n"
     ]
    },
    {
     "data": {
      "text/plain": [
       "7.50826534148154e-12"
      ]
     },
     "execution_count": 38,
     "metadata": {},
     "output_type": "execute_result"
    }
   ],
   "source": [
    "@time begin\n",
    "    x = R \\ Q'b  #Rx = Q'b  (solving for x)\n",
    "    norm(A*x-b)\n",
    "end"
   ]
  },
  {
   "cell_type": "markdown",
   "metadata": {},
   "source": [
    "## Projecting onto a line"
   ]
  },
  {
   "cell_type": "markdown",
   "metadata": {},
   "source": [
    "Projecting the vector $u$ onto the vector $v$ we get\n",
    "$$\n",
    "p = \\hat{x} \\, v = \\frac{v^T u}{v^T v} \\, v.\n",
    "$$"
   ]
  },
  {
   "cell_type": "code",
   "execution_count": 39,
   "metadata": {},
   "outputs": [
    {
     "data": {
      "image/svg+xml": [
       "<?xml version=\"1.0\" encoding=\"utf-8\"?>\n",
       "<svg xmlns=\"http://www.w3.org/2000/svg\" xmlns:xlink=\"http://www.w3.org/1999/xlink\" width=\"600\" height=\"400\" viewBox=\"0 0 2400 1600\">\n",
       "<defs>\n",
       "  <clipPath id=\"clip630\">\n",
       "    <rect x=\"0\" y=\"0\" width=\"2400\" height=\"1600\"/>\n",
       "  </clipPath>\n",
       "</defs>\n",
       "<path clip-path=\"url(#clip630)\" d=\"\n",
       "M0 1600 L2400 1600 L2400 0 L0 0  Z\n",
       "  \" fill=\"#ffffff\" fill-rule=\"evenodd\" fill-opacity=\"1\"/>\n",
       "<defs>\n",
       "  <clipPath id=\"clip631\">\n",
       "    <rect x=\"480\" y=\"0\" width=\"1681\" height=\"1600\"/>\n",
       "  </clipPath>\n",
       "</defs>\n",
       "<path clip-path=\"url(#clip630)\" d=\"\n",
       "M184.191 1486.45 L2352.76 1486.45 L2352.76 47.2441 L184.191 47.2441  Z\n",
       "  \" fill=\"#ffffff\" fill-rule=\"evenodd\" fill-opacity=\"1\"/>\n",
       "<defs>\n",
       "  <clipPath id=\"clip632\">\n",
       "    <rect x=\"184\" y=\"47\" width=\"2170\" height=\"1440\"/>\n",
       "  </clipPath>\n",
       "</defs>\n",
       "<polyline clip-path=\"url(#clip632)\" style=\"stroke:#000000; stroke-linecap:butt; stroke-linejoin:round; stroke-width:2; stroke-opacity:0.1; fill:none\" points=\"\n",
       "  589.604,1486.45 589.604,47.2441 \n",
       "  \"/>\n",
       "<polyline clip-path=\"url(#clip632)\" style=\"stroke:#000000; stroke-linecap:butt; stroke-linejoin:round; stroke-width:2; stroke-opacity:0.1; fill:none\" points=\"\n",
       "  996.925,1486.45 996.925,47.2441 \n",
       "  \"/>\n",
       "<polyline clip-path=\"url(#clip632)\" style=\"stroke:#000000; stroke-linecap:butt; stroke-linejoin:round; stroke-width:2; stroke-opacity:0.1; fill:none\" points=\"\n",
       "  1404.25,1486.45 1404.25,47.2441 \n",
       "  \"/>\n",
       "<polyline clip-path=\"url(#clip632)\" style=\"stroke:#000000; stroke-linecap:butt; stroke-linejoin:round; stroke-width:2; stroke-opacity:0.1; fill:none\" points=\"\n",
       "  1811.57,1486.45 1811.57,47.2441 \n",
       "  \"/>\n",
       "<polyline clip-path=\"url(#clip632)\" style=\"stroke:#000000; stroke-linecap:butt; stroke-linejoin:round; stroke-width:2; stroke-opacity:0.1; fill:none\" points=\"\n",
       "  2218.89,1486.45 2218.89,47.2441 \n",
       "  \"/>\n",
       "<polyline clip-path=\"url(#clip630)\" style=\"stroke:#000000; stroke-linecap:butt; stroke-linejoin:round; stroke-width:4; stroke-opacity:1; fill:none\" points=\"\n",
       "  184.191,1486.45 2352.76,1486.45 \n",
       "  \"/>\n",
       "<polyline clip-path=\"url(#clip630)\" style=\"stroke:#000000; stroke-linecap:butt; stroke-linejoin:round; stroke-width:4; stroke-opacity:1; fill:none\" points=\"\n",
       "  589.604,1486.45 589.604,1469.18 \n",
       "  \"/>\n",
       "<polyline clip-path=\"url(#clip630)\" style=\"stroke:#000000; stroke-linecap:butt; stroke-linejoin:round; stroke-width:4; stroke-opacity:1; fill:none\" points=\"\n",
       "  996.925,1486.45 996.925,1469.18 \n",
       "  \"/>\n",
       "<polyline clip-path=\"url(#clip630)\" style=\"stroke:#000000; stroke-linecap:butt; stroke-linejoin:round; stroke-width:4; stroke-opacity:1; fill:none\" points=\"\n",
       "  1404.25,1486.45 1404.25,1469.18 \n",
       "  \"/>\n",
       "<polyline clip-path=\"url(#clip630)\" style=\"stroke:#000000; stroke-linecap:butt; stroke-linejoin:round; stroke-width:4; stroke-opacity:1; fill:none\" points=\"\n",
       "  1811.57,1486.45 1811.57,1469.18 \n",
       "  \"/>\n",
       "<polyline clip-path=\"url(#clip630)\" style=\"stroke:#000000; stroke-linecap:butt; stroke-linejoin:round; stroke-width:4; stroke-opacity:1; fill:none\" points=\"\n",
       "  2218.89,1486.45 2218.89,1469.18 \n",
       "  \"/>\n",
       "<path clip-path=\"url(#clip630)\" d=\"M589.604 1515.64 Q585.992 1515.64 584.164 1519.2 Q582.358 1522.75 582.358 1529.87 Q582.358 1536.98 584.164 1540.55 Q585.992 1544.09 589.604 1544.09 Q593.238 1544.09 595.043 1540.55 Q596.872 1536.98 596.872 1529.87 Q596.872 1522.75 595.043 1519.2 Q593.238 1515.64 589.604 1515.64 M589.604 1511.93 Q595.414 1511.93 598.469 1516.54 Q601.548 1521.12 601.548 1529.87 Q601.548 1538.6 598.469 1543.21 Q595.414 1547.79 589.604 1547.79 Q583.793 1547.79 580.715 1543.21 Q577.659 1538.6 577.659 1529.87 Q577.659 1521.12 580.715 1516.54 Q583.793 1511.93 589.604 1511.93 Z\" fill=\"#000000\" fill-rule=\"evenodd\" fill-opacity=\"1\" /><path clip-path=\"url(#clip630)\" d=\"M1001.17 1528.49 Q1004.53 1529.2 1006.4 1531.47 Q1008.3 1533.74 1008.3 1537.07 Q1008.3 1542.19 1004.78 1544.99 Q1001.27 1547.79 994.784 1547.79 Q992.608 1547.79 990.294 1547.35 Q988.002 1546.93 985.548 1546.08 L985.548 1541.56 Q987.493 1542.7 989.807 1543.28 Q992.122 1543.86 994.645 1543.86 Q999.043 1543.86 1001.34 1542.12 Q1003.65 1540.38 1003.65 1537.07 Q1003.65 1534.02 1001.5 1532.31 Q999.368 1530.57 995.548 1530.57 L991.52 1530.57 L991.52 1526.73 L995.733 1526.73 Q999.182 1526.73 1001.01 1525.36 Q1002.84 1523.97 1002.84 1521.38 Q1002.84 1518.72 1000.94 1517.31 Q999.067 1515.87 995.548 1515.87 Q993.627 1515.87 991.428 1516.29 Q989.229 1516.7 986.59 1517.58 L986.59 1513.42 Q989.252 1512.68 991.567 1512.31 Q993.905 1511.93 995.965 1511.93 Q1001.29 1511.93 1004.39 1514.37 Q1007.49 1516.77 1007.49 1520.89 Q1007.49 1523.76 1005.85 1525.75 Q1004.21 1527.72 1001.17 1528.49 Z\" fill=\"#000000\" fill-rule=\"evenodd\" fill-opacity=\"1\" /><path clip-path=\"url(#clip630)\" d=\"M1404.65 1527.98 Q1401.5 1527.98 1399.65 1530.13 Q1397.82 1532.28 1397.82 1536.03 Q1397.82 1539.76 1399.65 1541.93 Q1401.5 1544.09 1404.65 1544.09 Q1407.8 1544.09 1409.63 1541.93 Q1411.48 1539.76 1411.48 1536.03 Q1411.48 1532.28 1409.63 1530.13 Q1407.8 1527.98 1404.65 1527.98 M1413.93 1513.32 L1413.93 1517.58 Q1412.18 1516.75 1410.37 1516.31 Q1408.59 1515.87 1406.83 1515.87 Q1402.2 1515.87 1399.74 1519 Q1397.31 1522.12 1396.97 1528.44 Q1398.33 1526.43 1400.39 1525.36 Q1402.45 1524.27 1404.93 1524.27 Q1410.14 1524.27 1413.15 1527.44 Q1416.18 1530.59 1416.18 1536.03 Q1416.18 1541.36 1413.03 1544.57 Q1409.88 1547.79 1404.65 1547.79 Q1398.66 1547.79 1395.49 1543.21 Q1392.31 1538.6 1392.31 1529.87 Q1392.31 1521.68 1396.2 1516.82 Q1400.09 1511.93 1406.64 1511.93 Q1408.4 1511.93 1410.18 1512.28 Q1411.99 1512.63 1413.93 1513.32 Z\" fill=\"#000000\" fill-rule=\"evenodd\" fill-opacity=\"1\" /><path clip-path=\"url(#clip630)\" d=\"M1801.87 1546.4 L1801.87 1542.14 Q1803.63 1542.98 1805.43 1543.42 Q1807.24 1543.86 1808.98 1543.86 Q1813.61 1543.86 1816.04 1540.75 Q1818.49 1537.63 1818.84 1531.29 Q1817.49 1533.28 1815.43 1534.34 Q1813.37 1535.41 1810.87 1535.41 Q1805.69 1535.41 1802.66 1532.28 Q1799.65 1529.13 1799.65 1523.69 Q1799.65 1518.37 1802.8 1515.15 Q1805.94 1511.93 1811.18 1511.93 Q1817.17 1511.93 1820.32 1516.54 Q1823.49 1521.12 1823.49 1529.87 Q1823.49 1538.05 1819.6 1542.93 Q1815.74 1547.79 1809.18 1547.79 Q1807.43 1547.79 1805.62 1547.44 Q1803.81 1547.1 1801.87 1546.4 M1811.18 1531.75 Q1814.32 1531.75 1816.15 1529.6 Q1818 1527.44 1818 1523.69 Q1818 1519.97 1816.15 1517.81 Q1814.32 1515.64 1811.18 1515.64 Q1808.03 1515.64 1806.18 1517.81 Q1804.35 1519.97 1804.35 1523.69 Q1804.35 1527.44 1806.18 1529.6 Q1808.03 1531.75 1811.18 1531.75 Z\" fill=\"#000000\" fill-rule=\"evenodd\" fill-opacity=\"1\" /><path clip-path=\"url(#clip630)\" d=\"M2194.38 1543.18 L2202.02 1543.18 L2202.02 1516.82 L2193.71 1518.49 L2193.71 1514.23 L2201.97 1512.56 L2206.65 1512.56 L2206.65 1543.18 L2214.28 1543.18 L2214.28 1547.12 L2194.38 1547.12 L2194.38 1543.18 Z\" fill=\"#000000\" fill-rule=\"evenodd\" fill-opacity=\"1\" /><path clip-path=\"url(#clip630)\" d=\"M2227.76 1543.18 L2244.08 1543.18 L2244.08 1547.12 L2222.13 1547.12 L2222.13 1543.18 Q2224.79 1540.43 2229.38 1535.8 Q2233.98 1531.15 2235.16 1529.81 Q2237.41 1527.28 2238.29 1525.55 Q2239.19 1523.79 2239.19 1522.1 Q2239.19 1519.34 2237.25 1517.61 Q2235.33 1515.87 2232.22 1515.87 Q2230.03 1515.87 2227.57 1516.63 Q2225.14 1517.4 2222.36 1518.95 L2222.36 1514.23 Q2225.19 1513.09 2227.64 1512.51 Q2230.09 1511.93 2232.13 1511.93 Q2237.5 1511.93 2240.7 1514.62 Q2243.89 1517.31 2243.89 1521.8 Q2243.89 1523.93 2243.08 1525.85 Q2242.29 1527.74 2240.19 1530.34 Q2239.61 1531.01 2236.51 1534.23 Q2233.4 1537.42 2227.76 1543.18 Z\" fill=\"#000000\" fill-rule=\"evenodd\" fill-opacity=\"1\" /><polyline clip-path=\"url(#clip632)\" style=\"stroke:#000000; stroke-linecap:butt; stroke-linejoin:round; stroke-width:2; stroke-opacity:0.1; fill:none\" points=\"\n",
       "  184.191,1445.72 2352.76,1445.72 \n",
       "  \"/>\n",
       "<polyline clip-path=\"url(#clip632)\" style=\"stroke:#000000; stroke-linecap:butt; stroke-linejoin:round; stroke-width:2; stroke-opacity:0.1; fill:none\" points=\"\n",
       "  184.191,1106.28 2352.76,1106.28 \n",
       "  \"/>\n",
       "<polyline clip-path=\"url(#clip632)\" style=\"stroke:#000000; stroke-linecap:butt; stroke-linejoin:round; stroke-width:2; stroke-opacity:0.1; fill:none\" points=\"\n",
       "  184.191,766.846 2352.76,766.846 \n",
       "  \"/>\n",
       "<polyline clip-path=\"url(#clip632)\" style=\"stroke:#000000; stroke-linecap:butt; stroke-linejoin:round; stroke-width:2; stroke-opacity:0.1; fill:none\" points=\"\n",
       "  184.191,427.411 2352.76,427.411 \n",
       "  \"/>\n",
       "<polyline clip-path=\"url(#clip632)\" style=\"stroke:#000000; stroke-linecap:butt; stroke-linejoin:round; stroke-width:2; stroke-opacity:0.1; fill:none\" points=\"\n",
       "  184.191,87.9763 2352.76,87.9763 \n",
       "  \"/>\n",
       "<polyline clip-path=\"url(#clip630)\" style=\"stroke:#000000; stroke-linecap:butt; stroke-linejoin:round; stroke-width:4; stroke-opacity:1; fill:none\" points=\"\n",
       "  184.191,1486.45 184.191,47.2441 \n",
       "  \"/>\n",
       "<polyline clip-path=\"url(#clip630)\" style=\"stroke:#000000; stroke-linecap:butt; stroke-linejoin:round; stroke-width:4; stroke-opacity:1; fill:none\" points=\"\n",
       "  184.191,1445.72 210.213,1445.72 \n",
       "  \"/>\n",
       "<polyline clip-path=\"url(#clip630)\" style=\"stroke:#000000; stroke-linecap:butt; stroke-linejoin:round; stroke-width:4; stroke-opacity:1; fill:none\" points=\"\n",
       "  184.191,1106.28 210.213,1106.28 \n",
       "  \"/>\n",
       "<polyline clip-path=\"url(#clip630)\" style=\"stroke:#000000; stroke-linecap:butt; stroke-linejoin:round; stroke-width:4; stroke-opacity:1; fill:none\" points=\"\n",
       "  184.191,766.846 210.213,766.846 \n",
       "  \"/>\n",
       "<polyline clip-path=\"url(#clip630)\" style=\"stroke:#000000; stroke-linecap:butt; stroke-linejoin:round; stroke-width:4; stroke-opacity:1; fill:none\" points=\"\n",
       "  184.191,427.411 210.213,427.411 \n",
       "  \"/>\n",
       "<polyline clip-path=\"url(#clip630)\" style=\"stroke:#000000; stroke-linecap:butt; stroke-linejoin:round; stroke-width:4; stroke-opacity:1; fill:none\" points=\"\n",
       "  184.191,87.9763 210.213,87.9763 \n",
       "  \"/>\n",
       "<path clip-path=\"url(#clip630)\" d=\"M91.0151 1431.51 Q87.404 1431.51 85.5753 1435.08 Q83.7697 1438.62 83.7697 1445.75 Q83.7697 1452.86 85.5753 1456.42 Q87.404 1459.96 91.0151 1459.96 Q94.6493 1459.96 96.4548 1456.42 Q98.2835 1452.86 98.2835 1445.75 Q98.2835 1438.62 96.4548 1435.08 Q94.6493 1431.51 91.0151 1431.51 M91.0151 1427.81 Q96.8252 1427.81 99.8808 1432.42 Q102.959 1437 102.959 1445.75 Q102.959 1454.48 99.8808 1459.08 Q96.8252 1463.67 91.0151 1463.67 Q85.2049 1463.67 82.1262 1459.08 Q79.0707 1454.48 79.0707 1445.75 Q79.0707 1437 82.1262 1432.42 Q85.2049 1427.81 91.0151 1427.81 Z\" fill=\"#000000\" fill-rule=\"evenodd\" fill-opacity=\"1\" /><path clip-path=\"url(#clip630)\" d=\"M111.177 1457.12 L116.061 1457.12 L116.061 1463 L111.177 1463 L111.177 1457.12 Z\" fill=\"#000000\" fill-rule=\"evenodd\" fill-opacity=\"1\" /><path clip-path=\"url(#clip630)\" d=\"M136.246 1431.51 Q132.635 1431.51 130.807 1435.08 Q129.001 1438.62 129.001 1445.75 Q129.001 1452.86 130.807 1456.42 Q132.635 1459.96 136.246 1459.96 Q139.881 1459.96 141.686 1456.42 Q143.515 1452.86 143.515 1445.75 Q143.515 1438.62 141.686 1435.08 Q139.881 1431.51 136.246 1431.51 M136.246 1427.81 Q142.056 1427.81 145.112 1432.42 Q148.191 1437 148.191 1445.75 Q148.191 1454.48 145.112 1459.08 Q142.056 1463.67 136.246 1463.67 Q130.436 1463.67 127.357 1459.08 Q124.302 1454.48 124.302 1445.75 Q124.302 1437 127.357 1432.42 Q130.436 1427.81 136.246 1427.81 Z\" fill=\"#000000\" fill-rule=\"evenodd\" fill-opacity=\"1\" /><path clip-path=\"url(#clip630)\" d=\"M86.0382 1119.63 L102.358 1119.63 L102.358 1123.56 L80.4133 1123.56 L80.4133 1119.63 Q83.0753 1116.87 87.6586 1112.24 Q92.2651 1107.59 93.4456 1106.25 Q95.691 1103.72 96.5706 1101.99 Q97.4734 1100.23 97.4734 1098.54 Q97.4734 1095.78 95.5289 1094.05 Q93.6076 1092.31 90.5058 1092.31 Q88.3067 1092.31 85.8531 1093.07 Q83.4225 1093.84 80.6447 1095.39 L80.6447 1090.67 Q83.4688 1089.53 85.9225 1088.95 Q88.3762 1088.38 90.4132 1088.38 Q95.7836 1088.38 98.978 1091.06 Q102.172 1093.75 102.172 1098.24 Q102.172 1100.37 101.362 1102.29 Q100.575 1104.19 98.4687 1106.78 Q97.89 1107.45 94.7882 1110.67 Q91.6864 1113.86 86.0382 1119.63 Z\" fill=\"#000000\" fill-rule=\"evenodd\" fill-opacity=\"1\" /><path clip-path=\"url(#clip630)\" d=\"M112.172 1117.68 L117.057 1117.68 L117.057 1123.56 L112.172 1123.56 L112.172 1117.68 Z\" fill=\"#000000\" fill-rule=\"evenodd\" fill-opacity=\"1\" /><path clip-path=\"url(#clip630)\" d=\"M127.288 1089 L145.644 1089 L145.644 1092.94 L131.57 1092.94 L131.57 1101.41 Q132.589 1101.06 133.607 1100.9 Q134.626 1100.71 135.644 1100.71 Q141.431 1100.71 144.811 1103.89 Q148.191 1107.06 148.191 1112.47 Q148.191 1118.05 144.718 1121.15 Q141.246 1124.23 134.927 1124.23 Q132.751 1124.23 130.482 1123.86 Q128.237 1123.49 125.83 1122.75 L125.83 1118.05 Q127.913 1119.19 130.135 1119.74 Q132.357 1120.3 134.834 1120.3 Q138.839 1120.3 141.177 1118.19 Q143.515 1116.08 143.515 1112.47 Q143.515 1108.86 141.177 1106.76 Q138.839 1104.65 134.834 1104.65 Q132.959 1104.65 131.084 1105.07 Q129.232 1105.48 127.288 1106.36 L127.288 1089 Z\" fill=\"#000000\" fill-rule=\"evenodd\" fill-opacity=\"1\" /><path clip-path=\"url(#clip630)\" d=\"M81.0614 749.566 L99.4178 749.566 L99.4178 753.501 L85.3438 753.501 L85.3438 761.973 Q86.3623 761.626 87.3808 761.464 Q88.3993 761.279 89.4178 761.279 Q95.2049 761.279 98.5845 764.45 Q101.964 767.621 101.964 773.038 Q101.964 778.617 98.4919 781.719 Q95.0197 784.797 88.7003 784.797 Q86.5243 784.797 84.2558 784.427 Q82.0105 784.057 79.6031 783.316 L79.6031 778.617 Q81.6864 779.751 83.9086 780.307 Q86.1308 780.862 88.6077 780.862 Q92.6123 780.862 94.9502 778.756 Q97.2882 776.649 97.2882 773.038 Q97.2882 769.427 94.9502 767.321 Q92.6123 765.214 88.6077 765.214 Q86.7327 765.214 84.8577 765.631 Q83.0058 766.047 81.0614 766.927 L81.0614 749.566 Z\" fill=\"#000000\" fill-rule=\"evenodd\" fill-opacity=\"1\" /><path clip-path=\"url(#clip630)\" d=\"M111.177 778.246 L116.061 778.246 L116.061 784.126 L111.177 784.126 L111.177 778.246 Z\" fill=\"#000000\" fill-rule=\"evenodd\" fill-opacity=\"1\" /><path clip-path=\"url(#clip630)\" d=\"M136.246 752.645 Q132.635 752.645 130.807 756.209 Q129.001 759.751 129.001 766.881 Q129.001 773.987 130.807 777.552 Q132.635 781.094 136.246 781.094 Q139.881 781.094 141.686 777.552 Q143.515 773.987 143.515 766.881 Q143.515 759.751 141.686 756.209 Q139.881 752.645 136.246 752.645 M136.246 748.941 Q142.056 748.941 145.112 753.547 Q148.191 758.131 148.191 766.881 Q148.191 775.608 145.112 780.214 Q142.056 784.797 136.246 784.797 Q130.436 784.797 127.357 780.214 Q124.302 775.608 124.302 766.881 Q124.302 758.131 127.357 753.547 Q130.436 748.941 136.246 748.941 Z\" fill=\"#000000\" fill-rule=\"evenodd\" fill-opacity=\"1\" /><path clip-path=\"url(#clip630)\" d=\"M80.8299 410.131 L103.052 410.131 L103.052 412.122 L90.5058 444.691 L85.6216 444.691 L97.4271 414.066 L80.8299 414.066 L80.8299 410.131 Z\" fill=\"#000000\" fill-rule=\"evenodd\" fill-opacity=\"1\" /><path clip-path=\"url(#clip630)\" d=\"M112.172 438.812 L117.057 438.812 L117.057 444.691 L112.172 444.691 L112.172 438.812 Z\" fill=\"#000000\" fill-rule=\"evenodd\" fill-opacity=\"1\" /><path clip-path=\"url(#clip630)\" d=\"M127.288 410.131 L145.644 410.131 L145.644 414.066 L131.57 414.066 L131.57 422.538 Q132.589 422.191 133.607 422.029 Q134.626 421.844 135.644 421.844 Q141.431 421.844 144.811 425.015 Q148.191 428.187 148.191 433.603 Q148.191 439.182 144.718 442.284 Q141.246 445.362 134.927 445.362 Q132.751 445.362 130.482 444.992 Q128.237 444.622 125.83 443.881 L125.83 439.182 Q127.913 440.316 130.135 440.872 Q132.357 441.427 134.834 441.427 Q138.839 441.427 141.177 439.321 Q143.515 437.214 143.515 433.603 Q143.515 429.992 141.177 427.886 Q138.839 425.779 134.834 425.779 Q132.959 425.779 131.084 426.196 Q129.232 426.613 127.288 427.492 L127.288 410.131 Z\" fill=\"#000000\" fill-rule=\"evenodd\" fill-opacity=\"1\" /><path clip-path=\"url(#clip630)\" d=\"M51.6634 101.321 L59.3023 101.321 L59.3023 74.9555 L50.9921 76.6222 L50.9921 72.3629 L59.256 70.6963 L63.9319 70.6963 L63.9319 101.321 L71.5707 101.321 L71.5707 105.256 L51.6634 105.256 L51.6634 101.321 Z\" fill=\"#000000\" fill-rule=\"evenodd\" fill-opacity=\"1\" /><path clip-path=\"url(#clip630)\" d=\"M91.0151 73.775 Q87.404 73.775 85.5753 77.3398 Q83.7697 80.8814 83.7697 88.011 Q83.7697 95.1174 85.5753 98.6822 Q87.404 102.224 91.0151 102.224 Q94.6493 102.224 96.4548 98.6822 Q98.2835 95.1174 98.2835 88.011 Q98.2835 80.8814 96.4548 77.3398 Q94.6493 73.775 91.0151 73.775 M91.0151 70.0713 Q96.8252 70.0713 99.8808 74.6777 Q102.959 79.261 102.959 88.011 Q102.959 96.7378 99.8808 101.344 Q96.8252 105.928 91.0151 105.928 Q85.2049 105.928 82.1262 101.344 Q79.0707 96.7378 79.0707 88.011 Q79.0707 79.261 82.1262 74.6777 Q85.2049 70.0713 91.0151 70.0713 Z\" fill=\"#000000\" fill-rule=\"evenodd\" fill-opacity=\"1\" /><path clip-path=\"url(#clip630)\" d=\"M111.177 99.3767 L116.061 99.3767 L116.061 105.256 L111.177 105.256 L111.177 99.3767 Z\" fill=\"#000000\" fill-rule=\"evenodd\" fill-opacity=\"1\" /><path clip-path=\"url(#clip630)\" d=\"M136.246 73.775 Q132.635 73.775 130.807 77.3398 Q129.001 80.8814 129.001 88.011 Q129.001 95.1174 130.807 98.6822 Q132.635 102.224 136.246 102.224 Q139.881 102.224 141.686 98.6822 Q143.515 95.1174 143.515 88.011 Q143.515 80.8814 141.686 77.3398 Q139.881 73.775 136.246 73.775 M136.246 70.0713 Q142.056 70.0713 145.112 74.6777 Q148.191 79.261 148.191 88.011 Q148.191 96.7378 145.112 101.344 Q142.056 105.928 136.246 105.928 Q130.436 105.928 127.357 101.344 Q124.302 96.7378 124.302 88.011 Q124.302 79.261 127.357 74.6777 Q130.436 70.0713 136.246 70.0713 Z\" fill=\"#000000\" fill-rule=\"evenodd\" fill-opacity=\"1\" /><polyline clip-path=\"url(#clip632)\" style=\"stroke:#ffff00; stroke-linecap:butt; stroke-linejoin:round; stroke-width:4; stroke-opacity:1; fill:none\" points=\"\n",
       "  589.604,1445.72 1947.34,87.9763 \n",
       "  \"/>\n",
       "<polyline clip-path=\"url(#clip632)\" style=\"stroke:#0000ff; stroke-linecap:butt; stroke-linejoin:round; stroke-width:4; stroke-opacity:1; fill:none\" points=\"\n",
       "  589.604,1445.72 725.378,1309.94 \n",
       "  \"/>\n",
       "<polyline clip-path=\"url(#clip632)\" style=\"stroke:#008000; stroke-linecap:butt; stroke-linejoin:round; stroke-width:20; stroke-opacity:1; fill:none\" points=\"\n",
       "  589.604,1445.72 725.378,1309.94 \n",
       "  \"/>\n",
       "<polyline clip-path=\"url(#clip632)\" style=\"stroke:#ff0000; stroke-linecap:butt; stroke-linejoin:round; stroke-width:4; stroke-opacity:1; fill:none\" points=\"\n",
       "  725.378,1309.94 725.378,1309.94 \n",
       "  \"/>\n",
       "</svg>\n"
      ]
     },
     "execution_count": 39,
     "metadata": {},
     "output_type": "execute_result"
    }
   ],
   "source": [
    "using Plots\n",
    "v = [10,10]\n",
    "u = [1,1]\n",
    "xHat = v'u/(v'v)\n",
    "p = xHat*v\n",
    "e = u-p\n",
    "\n",
    "plot([0,v[1]],[0,v[2]],c=:yellow,legend=false,aspectratio=1)  #v (vector projected onto)\n",
    "plot!([0,u[1]],[0,u[2]],c=:blue)    #u (vector being projected)\n",
    "plot!([0,p[1]],[0,p[2]],lw=5,c=:green)  #p (actual projection)\n",
    "plot!([p[1],p[1]+e[1]],[p[2],p[2]+e[2]],c=:red) #the error "
   ]
  },
  {
   "cell_type": "code",
   "execution_count": 40,
   "metadata": {},
   "outputs": [
    {
     "data": {
      "text/plain": [
       "0.1"
      ]
     },
     "execution_count": 40,
     "metadata": {},
     "output_type": "execute_result"
    }
   ],
   "source": [
    "xHat"
   ]
  },
  {
   "cell_type": "markdown",
   "metadata": {},
   "source": [
    "## Projecting onto a subspace"
   ]
  },
  {
   "cell_type": "code",
   "execution_count": 41,
   "metadata": {},
   "outputs": [
    {
     "data": {
      "text/plain": [
       "2"
      ]
     },
     "execution_count": 41,
     "metadata": {},
     "output_type": "execute_result"
    }
   ],
   "source": [
    "A = [1 2;\n",
    "     3 4;\n",
    "     5 6]\n",
    "rank(A)"
   ]
  },
  {
   "cell_type": "code",
   "execution_count": 42,
   "metadata": {},
   "outputs": [
    {
     "data": {
      "text/plain": [
       "3-element Vector{Int64}:\n",
       "  3\n",
       "  7\n",
       " 11"
      ]
     },
     "execution_count": 42,
     "metadata": {},
     "output_type": "execute_result"
    }
   ],
   "source": [
    "b = [3,7,11]"
   ]
  },
  {
   "cell_type": "code",
   "execution_count": 43,
   "metadata": {},
   "outputs": [
    {
     "data": {
      "text/plain": [
       "3-element Vector{Int64}:\n",
       "  3\n",
       "  7\n",
       " 11"
      ]
     },
     "execution_count": 43,
     "metadata": {},
     "output_type": "execute_result"
    }
   ],
   "source": [
    "A*[1,1]"
   ]
  },
  {
   "cell_type": "code",
   "execution_count": 44,
   "metadata": {},
   "outputs": [
    {
     "data": {
      "text/plain": [
       "3-element Vector{Int64}:\n",
       "  2\n",
       "  4\n",
       " 19"
      ]
     },
     "execution_count": 44,
     "metadata": {},
     "output_type": "execute_result"
    }
   ],
   "source": [
    "b = [2,4,19]"
   ]
  },
  {
   "cell_type": "markdown",
   "metadata": {},
   "source": [
    "Want to \"solve\"\n",
    "$$\n",
    "A x = b\n",
    "$$\n",
    "but maybe $b$ is not in the column space of $A$.\n",
    "\n",
    "We are looking for the combination $p = A \\hat{x}$ that is closest to $b$.\n",
    "\n",
    "If $A$ is $n \\times 1$ we already found the answer...\n",
    "\n",
    "$$\n",
    "\\hat{x} = \\frac{a^T b}{a^T a}\n",
    "$$"
   ]
  },
  {
   "cell_type": "markdown",
   "metadata": {},
   "source": [
    "Now we have\n",
    "$$\n",
    "a_1^T(b-A \\hat{x}) = 0\n",
    "$$\n",
    "$$\n",
    "\\vdots\n",
    "$$\n",
    "$$\n",
    "a_n^T(b-A \\hat{x}) = 0\n",
    "$$\n"
   ]
  },
  {
   "cell_type": "markdown",
   "metadata": {},
   "source": [
    "Or\n",
    "$$\n",
    "A^T(b-A\\hat{x}) = 0\n",
    "$$\n",
    "\n",
    "or,\n",
    "$$\n",
    "A^TA \\hat{x} = A^T b\n",
    "$$"
   ]
  },
  {
   "cell_type": "markdown",
   "metadata": {},
   "source": [
    "Now $A^T A$ is invertible if and only if the columns of $A$ are linearly independent."
   ]
  },
  {
   "cell_type": "markdown",
   "metadata": {},
   "source": [
    "$$\n",
    "\\hat{x} = (A^TA)^{-1}A^Tb\n",
    "$$"
   ]
  },
  {
   "cell_type": "markdown",
   "metadata": {},
   "source": [
    "$$\n",
    "p = A \\hat{x} = A (A^T A)^{-1} A^T b.\n",
    "$$\n",
    "\n",
    "So the **projection matrix** is $P = A (A^T A)^{-1} A^T$\n",
    "\n",
    "$$\n",
    "p = P b\n",
    "$$"
   ]
  },
  {
   "cell_type": "markdown",
   "metadata": {},
   "source": [
    "$$\n",
    "A^\\dagger = (A^TA)^{-1} A^T\n",
    "$$"
   ]
  },
  {
   "cell_type": "markdown",
   "metadata": {},
   "source": [
    "$$\n",
    "A = v\n",
    "$$\n",
    "$$\n",
    "b = u\n",
    "$$\n",
    "\n",
    "$$\n",
    "Ax = b \n",
    "\\qquad\n",
    "\\text{is like}\n",
    "\\qquad\n",
    "v x = u\n",
    "$$"
   ]
  },
  {
   "cell_type": "markdown",
   "metadata": {},
   "source": [
    "$$\n",
    "P = v(v^Tv)^{-1}v^Tu = \\frac{v^Tu}{v^Tv} v\n",
    "$$"
   ]
  },
  {
   "cell_type": "markdown",
   "metadata": {},
   "source": [
    "---\n",
    "Observe that $A^\\dagger$ is a left inverse and the inverse if $A$ is square (and full rank)"
   ]
  },
  {
   "cell_type": "code",
   "execution_count": 45,
   "metadata": {},
   "outputs": [
    {
     "data": {
      "text/plain": [
       "3×2 Matrix{Int64}:\n",
       " 1  2\n",
       " 3  4\n",
       " 5  6"
      ]
     },
     "execution_count": 45,
     "metadata": {},
     "output_type": "execute_result"
    }
   ],
   "source": [
    "A"
   ]
  },
  {
   "cell_type": "code",
   "execution_count": 46,
   "metadata": {},
   "outputs": [
    {
     "data": {
      "text/plain": [
       "3-element Vector{Int64}:\n",
       "  2\n",
       "  4\n",
       " 19"
      ]
     },
     "execution_count": 46,
     "metadata": {},
     "output_type": "execute_result"
    }
   ],
   "source": [
    "b"
   ]
  },
  {
   "cell_type": "code",
   "execution_count": 47,
   "metadata": {},
   "outputs": [
    {
     "data": {
      "text/plain": [
       "3×3 Matrix{Float64}:\n",
       "  0.833333  0.333333  -0.166667\n",
       "  0.333333  0.333333   0.333333\n",
       " -0.166667  0.333333   0.833333"
      ]
     },
     "execution_count": 47,
     "metadata": {},
     "output_type": "execute_result"
    }
   ],
   "source": [
    "P = A*inv(A'A)*A'"
   ]
  },
  {
   "cell_type": "code",
   "execution_count": 48,
   "metadata": {},
   "outputs": [
    {
     "data": {
      "text/plain": [
       "3×3 Matrix{Float64}:\n",
       "  0.833333  0.333333  -0.166667\n",
       "  0.333333  0.333333   0.333333\n",
       " -0.166667  0.333333   0.833333"
      ]
     },
     "execution_count": 48,
     "metadata": {},
     "output_type": "execute_result"
    }
   ],
   "source": [
    "P*P"
   ]
  },
  {
   "cell_type": "code",
   "execution_count": 49,
   "metadata": {},
   "outputs": [
    {
     "data": {
      "text/plain": [
       "3-element Vector{Float64}:\n",
       " -0.16666666666662167\n",
       "  8.333333333333325\n",
       " 16.833333333333393"
      ]
     },
     "execution_count": 49,
     "metadata": {},
     "output_type": "execute_result"
    }
   ],
   "source": [
    "p = P*b #in the column space of A"
   ]
  },
  {
   "cell_type": "code",
   "execution_count": 50,
   "metadata": {},
   "outputs": [
    {
     "data": {
      "text/plain": [
       "2-element Vector{Float64}:\n",
       "  8.66666666666666\n",
       " -4.4166666666666545"
      ]
     },
     "execution_count": 50,
     "metadata": {},
     "output_type": "execute_result"
    }
   ],
   "source": [
    "x = A \\ p #solving 3 equations 2 unkonns"
   ]
  },
  {
   "cell_type": "code",
   "execution_count": 51,
   "metadata": {},
   "outputs": [
    {
     "data": {
      "text/plain": [
       "3-element Vector{Float64}:\n",
       " -0.1666666666666483\n",
       "  8.333333333333364\n",
       " 16.83333333333337"
      ]
     },
     "execution_count": 51,
     "metadata": {},
     "output_type": "execute_result"
    }
   ],
   "source": [
    "A*x"
   ]
  },
  {
   "cell_type": "code",
   "execution_count": 52,
   "metadata": {},
   "outputs": [
    {
     "data": {
      "text/plain": [
       "3-element Vector{Int64}:\n",
       "  2\n",
       " 24\n",
       "  3"
      ]
     },
     "execution_count": 52,
     "metadata": {},
     "output_type": "execute_result"
    }
   ],
   "source": [
    "b = [2,24,3] #using my \"luck\" so that it isn't in the col space of A"
   ]
  },
  {
   "cell_type": "code",
   "execution_count": 53,
   "metadata": {},
   "outputs": [
    {
     "data": {
      "text/plain": [
       "3-element Vector{Float64}:\n",
       "  9.166666666666686\n",
       "  9.666666666666657\n",
       " 10.166666666666735"
      ]
     },
     "execution_count": 53,
     "metadata": {},
     "output_type": "execute_result"
    }
   ],
   "source": [
    "p = P*b"
   ]
  },
  {
   "cell_type": "code",
   "execution_count": 54,
   "metadata": {},
   "outputs": [
    {
     "data": {
      "text/plain": [
       "2-element Vector{Float64}:\n",
       " -8.666666666666666\n",
       "  8.916666666666675"
      ]
     },
     "execution_count": 54,
     "metadata": {},
     "output_type": "execute_result"
    }
   ],
   "source": [
    "x = A \\ p"
   ]
  },
  {
   "cell_type": "code",
   "execution_count": 55,
   "metadata": {},
   "outputs": [
    {
     "data": {
      "text/plain": [
       "3-element Vector{Float64}:\n",
       "  9.166666666666684\n",
       "  9.6666666666667\n",
       " 10.166666666666721"
      ]
     },
     "execution_count": 55,
     "metadata": {},
     "output_type": "execute_result"
    }
   ],
   "source": [
    "A*x"
   ]
  },
  {
   "cell_type": "code",
   "execution_count": 56,
   "metadata": {},
   "outputs": [
    {
     "data": {
      "text/plain": [
       "3×3 Matrix{Float64}:\n",
       "  0.833333  0.333333  -0.166667\n",
       "  0.333333  0.333333   0.333333\n",
       " -0.166667  0.333333   0.833333"
      ]
     },
     "execution_count": 56,
     "metadata": {},
     "output_type": "execute_result"
    }
   ],
   "source": [
    "P = A*inv(A'A)*A'"
   ]
  },
  {
   "cell_type": "code",
   "execution_count": 57,
   "metadata": {},
   "outputs": [
    {
     "data": {
      "text/plain": [
       "2×3 Matrix{Float64}:\n",
       " -1.33333  -0.333333   0.666667\n",
       "  1.08333   0.333333  -0.416667"
      ]
     },
     "execution_count": 57,
     "metadata": {},
     "output_type": "execute_result"
    }
   ],
   "source": [
    "Adag = inv(A'A)*A'"
   ]
  },
  {
   "cell_type": "code",
   "execution_count": 58,
   "metadata": {},
   "outputs": [
    {
     "data": {
      "text/plain": [
       "3×3 Matrix{Float64}:\n",
       "  0.833333  0.333333  -0.166667\n",
       "  0.333333  0.333333   0.333333\n",
       " -0.166667  0.333333   0.833333"
      ]
     },
     "execution_count": 58,
     "metadata": {},
     "output_type": "execute_result"
    }
   ],
   "source": [
    "A*Adag"
   ]
  },
  {
   "cell_type": "code",
   "execution_count": 59,
   "metadata": {},
   "outputs": [
    {
     "data": {
      "text/plain": [
       "2×3 Matrix{Float64}:\n",
       " -1.33333  -0.333333   0.666667\n",
       "  1.08333   0.333333  -0.416667"
      ]
     },
     "execution_count": 59,
     "metadata": {},
     "output_type": "execute_result"
    }
   ],
   "source": [
    "pinv(A)"
   ]
  },
  {
   "cell_type": "markdown",
   "metadata": {},
   "source": [
    "## Least Squares..."
   ]
  },
  {
   "cell_type": "markdown",
   "metadata": {},
   "source": [
    "$$\n",
    "A x = b\n",
    "$$\n",
    "\n",
    "$$\n",
    "Ax - b = 0\n",
    "$$"
   ]
  },
  {
   "cell_type": "markdown",
   "metadata": {},
   "source": [
    "$$\n",
    "f(x) = ||Ax - b||^2 \n",
    "$$"
   ]
  },
  {
   "cell_type": "code",
   "execution_count": 60,
   "metadata": {},
   "outputs": [
    {
     "name": "stdout",
     "output_type": "stream",
     "text": [
      "xHat = [0.2887752715890732, 0.47835294435989273]\n"
     ]
    },
    {
     "data": {
      "image/svg+xml": [
       "<?xml version=\"1.0\" encoding=\"utf-8\"?>\n",
       "<svg xmlns=\"http://www.w3.org/2000/svg\" xmlns:xlink=\"http://www.w3.org/1999/xlink\" width=\"600\" height=\"400\" viewBox=\"0 0 2400 1600\">\n",
       "<defs>\n",
       "  <clipPath id=\"clip670\">\n",
       "    <rect x=\"0\" y=\"0\" width=\"2400\" height=\"1600\"/>\n",
       "  </clipPath>\n",
       "</defs>\n",
       "<path clip-path=\"url(#clip670)\" d=\"\n",
       "M0 1600 L2400 1600 L2400 0 L0 0  Z\n",
       "  \" fill=\"#ffffff\" fill-rule=\"evenodd\" fill-opacity=\"1\"/>\n",
       "<defs>\n",
       "  <clipPath id=\"clip671\">\n",
       "    <rect x=\"480\" y=\"0\" width=\"1681\" height=\"1600\"/>\n",
       "  </clipPath>\n",
       "</defs>\n",
       "<path clip-path=\"url(#clip670)\" d=\"\n",
       "M149.191 1486.45 L2112.76 1486.45 L2112.76 47.2441 L149.191 47.2441  Z\n",
       "  \" fill=\"#ffffff\" fill-rule=\"evenodd\" fill-opacity=\"1\"/>\n",
       "<defs>\n",
       "  <clipPath id=\"clip672\">\n",
       "    <rect x=\"149\" y=\"47\" width=\"1965\" height=\"1440\"/>\n",
       "  </clipPath>\n",
       "</defs>\n",
       "<polyline clip-path=\"url(#clip672)\" style=\"stroke:#000000; stroke-linecap:butt; stroke-linejoin:round; stroke-width:2; stroke-opacity:0.1; fill:none\" points=\"\n",
       "  390.005,1486.45 390.005,47.2441 \n",
       "  \"/>\n",
       "<polyline clip-path=\"url(#clip672)\" style=\"stroke:#000000; stroke-linecap:butt; stroke-linejoin:round; stroke-width:2; stroke-opacity:0.1; fill:none\" points=\"\n",
       "  760.489,1486.45 760.489,47.2441 \n",
       "  \"/>\n",
       "<polyline clip-path=\"url(#clip672)\" style=\"stroke:#000000; stroke-linecap:butt; stroke-linejoin:round; stroke-width:2; stroke-opacity:0.1; fill:none\" points=\"\n",
       "  1130.97,1486.45 1130.97,47.2441 \n",
       "  \"/>\n",
       "<polyline clip-path=\"url(#clip672)\" style=\"stroke:#000000; stroke-linecap:butt; stroke-linejoin:round; stroke-width:2; stroke-opacity:0.1; fill:none\" points=\"\n",
       "  1501.46,1486.45 1501.46,47.2441 \n",
       "  \"/>\n",
       "<polyline clip-path=\"url(#clip672)\" style=\"stroke:#000000; stroke-linecap:butt; stroke-linejoin:round; stroke-width:2; stroke-opacity:0.1; fill:none\" points=\"\n",
       "  1871.94,1486.45 1871.94,47.2441 \n",
       "  \"/>\n",
       "<polyline clip-path=\"url(#clip670)\" style=\"stroke:#000000; stroke-linecap:butt; stroke-linejoin:round; stroke-width:4; stroke-opacity:1; fill:none\" points=\"\n",
       "  149.191,1486.45 2112.76,1486.45 \n",
       "  \"/>\n",
       "<polyline clip-path=\"url(#clip670)\" style=\"stroke:#000000; stroke-linecap:butt; stroke-linejoin:round; stroke-width:4; stroke-opacity:1; fill:none\" points=\"\n",
       "  390.005,1486.45 390.005,1469.18 \n",
       "  \"/>\n",
       "<polyline clip-path=\"url(#clip670)\" style=\"stroke:#000000; stroke-linecap:butt; stroke-linejoin:round; stroke-width:4; stroke-opacity:1; fill:none\" points=\"\n",
       "  760.489,1486.45 760.489,1469.18 \n",
       "  \"/>\n",
       "<polyline clip-path=\"url(#clip670)\" style=\"stroke:#000000; stroke-linecap:butt; stroke-linejoin:round; stroke-width:4; stroke-opacity:1; fill:none\" points=\"\n",
       "  1130.97,1486.45 1130.97,1469.18 \n",
       "  \"/>\n",
       "<polyline clip-path=\"url(#clip670)\" style=\"stroke:#000000; stroke-linecap:butt; stroke-linejoin:round; stroke-width:4; stroke-opacity:1; fill:none\" points=\"\n",
       "  1501.46,1486.45 1501.46,1469.18 \n",
       "  \"/>\n",
       "<polyline clip-path=\"url(#clip670)\" style=\"stroke:#000000; stroke-linecap:butt; stroke-linejoin:round; stroke-width:4; stroke-opacity:1; fill:none\" points=\"\n",
       "  1871.94,1486.45 1871.94,1469.18 \n",
       "  \"/>\n",
       "<path clip-path=\"url(#clip670)\" d=\"M358.906 1530.29 L388.582 1530.29 L388.582 1534.23 L358.906 1534.23 L358.906 1530.29 Z\" fill=\"#000000\" fill-rule=\"evenodd\" fill-opacity=\"1\" /><path clip-path=\"url(#clip670)\" d=\"M411.522 1516.63 L399.716 1535.08 L411.522 1535.08 L411.522 1516.63 M410.295 1512.56 L416.174 1512.56 L416.174 1535.08 L421.105 1535.08 L421.105 1538.97 L416.174 1538.97 L416.174 1547.12 L411.522 1547.12 L411.522 1538.97 L395.92 1538.97 L395.92 1534.46 L410.295 1512.56 Z\" fill=\"#000000\" fill-rule=\"evenodd\" fill-opacity=\"1\" /><path clip-path=\"url(#clip670)\" d=\"M730.432 1530.29 L760.107 1530.29 L760.107 1534.23 L730.432 1534.23 L730.432 1530.29 Z\" fill=\"#000000\" fill-rule=\"evenodd\" fill-opacity=\"1\" /><path clip-path=\"url(#clip670)\" d=\"M774.228 1543.18 L790.547 1543.18 L790.547 1547.12 L768.603 1547.12 L768.603 1543.18 Q771.265 1540.43 775.848 1535.8 Q780.455 1531.15 781.635 1529.81 Q783.88 1527.28 784.76 1525.55 Q785.663 1523.79 785.663 1522.1 Q785.663 1519.34 783.718 1517.61 Q781.797 1515.87 778.695 1515.87 Q776.496 1515.87 774.043 1516.63 Q771.612 1517.4 768.834 1518.95 L768.834 1514.23 Q771.658 1513.09 774.112 1512.51 Q776.566 1511.93 778.603 1511.93 Q783.973 1511.93 787.168 1514.62 Q790.362 1517.31 790.362 1521.8 Q790.362 1523.93 789.552 1525.85 Q788.765 1527.74 786.658 1530.34 Q786.08 1531.01 782.978 1534.23 Q779.876 1537.42 774.228 1543.18 Z\" fill=\"#000000\" fill-rule=\"evenodd\" fill-opacity=\"1\" /><path clip-path=\"url(#clip670)\" d=\"M1130.97 1515.64 Q1127.36 1515.64 1125.53 1519.2 Q1123.73 1522.75 1123.73 1529.87 Q1123.73 1536.98 1125.53 1540.55 Q1127.36 1544.09 1130.97 1544.09 Q1134.61 1544.09 1136.41 1540.55 Q1138.24 1536.98 1138.24 1529.87 Q1138.24 1522.75 1136.41 1519.2 Q1134.61 1515.64 1130.97 1515.64 M1130.97 1511.93 Q1136.78 1511.93 1139.84 1516.54 Q1142.92 1521.12 1142.92 1529.87 Q1142.92 1538.6 1139.84 1543.21 Q1136.78 1547.79 1130.97 1547.79 Q1125.16 1547.79 1122.08 1543.21 Q1119.03 1538.6 1119.03 1529.87 Q1119.03 1521.12 1122.08 1516.54 Q1125.16 1511.93 1130.97 1511.93 Z\" fill=\"#000000\" fill-rule=\"evenodd\" fill-opacity=\"1\" /><path clip-path=\"url(#clip670)\" d=\"M1496.11 1543.18 L1512.43 1543.18 L1512.43 1547.12 L1490.49 1547.12 L1490.49 1543.18 Q1493.15 1540.43 1497.73 1535.8 Q1502.34 1531.15 1503.52 1529.81 Q1505.76 1527.28 1506.64 1525.55 Q1507.55 1523.79 1507.55 1522.1 Q1507.55 1519.34 1505.6 1517.61 Q1503.68 1515.87 1500.58 1515.87 Q1498.38 1515.87 1495.92 1516.63 Q1493.49 1517.4 1490.72 1518.95 L1490.72 1514.23 Q1493.54 1513.09 1495.99 1512.51 Q1498.45 1511.93 1500.49 1511.93 Q1505.86 1511.93 1509.05 1514.62 Q1512.24 1517.31 1512.24 1521.8 Q1512.24 1523.93 1511.43 1525.85 Q1510.65 1527.74 1508.54 1530.34 Q1507.96 1531.01 1504.86 1534.23 Q1501.76 1537.42 1496.11 1543.18 Z\" fill=\"#000000\" fill-rule=\"evenodd\" fill-opacity=\"1\" /><path clip-path=\"url(#clip670)\" d=\"M1874.95 1516.63 L1863.15 1535.08 L1874.95 1535.08 L1874.95 1516.63 M1873.72 1512.56 L1879.6 1512.56 L1879.6 1535.08 L1884.53 1535.08 L1884.53 1538.97 L1879.6 1538.97 L1879.6 1547.12 L1874.95 1547.12 L1874.95 1538.97 L1859.35 1538.97 L1859.35 1534.46 L1873.72 1512.56 Z\" fill=\"#000000\" fill-rule=\"evenodd\" fill-opacity=\"1\" /><polyline clip-path=\"url(#clip672)\" style=\"stroke:#000000; stroke-linecap:butt; stroke-linejoin:round; stroke-width:2; stroke-opacity:0.1; fill:none\" points=\"\n",
       "  149.191,1309.94 2112.76,1309.94 \n",
       "  \"/>\n",
       "<polyline clip-path=\"url(#clip672)\" style=\"stroke:#000000; stroke-linecap:butt; stroke-linejoin:round; stroke-width:2; stroke-opacity:0.1; fill:none\" points=\"\n",
       "  149.191,1038.39 2112.76,1038.39 \n",
       "  \"/>\n",
       "<polyline clip-path=\"url(#clip672)\" style=\"stroke:#000000; stroke-linecap:butt; stroke-linejoin:round; stroke-width:2; stroke-opacity:0.1; fill:none\" points=\"\n",
       "  149.191,766.846 2112.76,766.846 \n",
       "  \"/>\n",
       "<polyline clip-path=\"url(#clip672)\" style=\"stroke:#000000; stroke-linecap:butt; stroke-linejoin:round; stroke-width:2; stroke-opacity:0.1; fill:none\" points=\"\n",
       "  149.191,495.298 2112.76,495.298 \n",
       "  \"/>\n",
       "<polyline clip-path=\"url(#clip672)\" style=\"stroke:#000000; stroke-linecap:butt; stroke-linejoin:round; stroke-width:2; stroke-opacity:0.1; fill:none\" points=\"\n",
       "  149.191,223.75 2112.76,223.75 \n",
       "  \"/>\n",
       "<polyline clip-path=\"url(#clip670)\" style=\"stroke:#000000; stroke-linecap:butt; stroke-linejoin:round; stroke-width:4; stroke-opacity:1; fill:none\" points=\"\n",
       "  149.191,1486.45 149.191,47.2441 \n",
       "  \"/>\n",
       "<polyline clip-path=\"url(#clip670)\" style=\"stroke:#000000; stroke-linecap:butt; stroke-linejoin:round; stroke-width:4; stroke-opacity:1; fill:none\" points=\"\n",
       "  149.191,1309.94 172.754,1309.94 \n",
       "  \"/>\n",
       "<polyline clip-path=\"url(#clip670)\" style=\"stroke:#000000; stroke-linecap:butt; stroke-linejoin:round; stroke-width:4; stroke-opacity:1; fill:none\" points=\"\n",
       "  149.191,1038.39 172.754,1038.39 \n",
       "  \"/>\n",
       "<polyline clip-path=\"url(#clip670)\" style=\"stroke:#000000; stroke-linecap:butt; stroke-linejoin:round; stroke-width:4; stroke-opacity:1; fill:none\" points=\"\n",
       "  149.191,766.846 172.754,766.846 \n",
       "  \"/>\n",
       "<polyline clip-path=\"url(#clip670)\" style=\"stroke:#000000; stroke-linecap:butt; stroke-linejoin:round; stroke-width:4; stroke-opacity:1; fill:none\" points=\"\n",
       "  149.191,495.298 172.754,495.298 \n",
       "  \"/>\n",
       "<polyline clip-path=\"url(#clip670)\" style=\"stroke:#000000; stroke-linecap:butt; stroke-linejoin:round; stroke-width:4; stroke-opacity:1; fill:none\" points=\"\n",
       "  149.191,223.75 172.754,223.75 \n",
       "  \"/>\n",
       "<path clip-path=\"url(#clip670)\" d=\"M50.9921 1310.39 L80.6679 1310.39 L80.6679 1314.33 L50.9921 1314.33 L50.9921 1310.39 Z\" fill=\"#000000\" fill-rule=\"evenodd\" fill-opacity=\"1\" /><path clip-path=\"url(#clip670)\" d=\"M103.608 1296.74 L91.8021 1315.18 L103.608 1315.18 L103.608 1296.74 M102.381 1292.66 L108.26 1292.66 L108.26 1315.18 L113.191 1315.18 L113.191 1319.07 L108.26 1319.07 L108.26 1327.22 L103.608 1327.22 L103.608 1319.07 L88.0058 1319.07 L88.0058 1314.56 L102.381 1292.66 Z\" fill=\"#000000\" fill-rule=\"evenodd\" fill-opacity=\"1\" /><path clip-path=\"url(#clip670)\" d=\"M53.0754 1038.85 L82.7512 1038.85 L82.7512 1042.78 L53.0754 1042.78 L53.0754 1038.85 Z\" fill=\"#000000\" fill-rule=\"evenodd\" fill-opacity=\"1\" /><path clip-path=\"url(#clip670)\" d=\"M96.8715 1051.74 L113.191 1051.74 L113.191 1055.67 L91.2465 1055.67 L91.2465 1051.74 Q93.9086 1048.98 98.4919 1044.35 Q103.098 1039.7 104.279 1038.36 Q106.524 1035.84 107.404 1034.1 Q108.307 1032.34 108.307 1030.65 Q108.307 1027.9 106.362 1026.16 Q104.441 1024.42 101.339 1024.42 Q99.14 1024.42 96.6863 1025.19 Q94.2558 1025.95 91.478 1027.5 L91.478 1022.78 Q94.3021 1021.65 96.7558 1021.07 Q99.2095 1020.49 101.246 1020.49 Q106.617 1020.49 109.811 1023.17 Q113.006 1025.86 113.006 1030.35 Q113.006 1032.48 112.196 1034.4 Q111.408 1036.3 109.302 1038.89 Q108.723 1039.56 105.621 1042.78 Q102.52 1045.97 96.8715 1051.74 Z\" fill=\"#000000\" fill-rule=\"evenodd\" fill-opacity=\"1\" /><path clip-path=\"url(#clip670)\" d=\"M101.246 752.645 Q97.6354 752.645 95.8067 756.209 Q94.0012 759.751 94.0012 766.881 Q94.0012 773.987 95.8067 777.552 Q97.6354 781.094 101.246 781.094 Q104.881 781.094 106.686 777.552 Q108.515 773.987 108.515 766.881 Q108.515 759.751 106.686 756.209 Q104.881 752.645 101.246 752.645 M101.246 748.941 Q107.057 748.941 110.112 753.547 Q113.191 758.131 113.191 766.881 Q113.191 775.608 110.112 780.214 Q107.057 784.797 101.246 784.797 Q95.4363 784.797 92.3576 780.214 Q89.3021 775.608 89.3021 766.881 Q89.3021 758.131 92.3576 753.547 Q95.4363 748.941 101.246 748.941 Z\" fill=\"#000000\" fill-rule=\"evenodd\" fill-opacity=\"1\" /><path clip-path=\"url(#clip670)\" d=\"M96.8715 508.643 L113.191 508.643 L113.191 512.578 L91.2465 512.578 L91.2465 508.643 Q93.9086 505.888 98.4919 501.259 Q103.098 496.606 104.279 495.263 Q106.524 492.74 107.404 491.004 Q108.307 489.245 108.307 487.555 Q108.307 484.8 106.362 483.064 Q104.441 481.328 101.339 481.328 Q99.14 481.328 96.6863 482.092 Q94.2558 482.856 91.478 484.407 L91.478 479.685 Q94.3021 478.551 96.7558 477.972 Q99.2095 477.393 101.246 477.393 Q106.617 477.393 109.811 480.078 Q113.006 482.763 113.006 487.254 Q113.006 489.384 112.196 491.305 Q111.408 493.203 109.302 495.796 Q108.723 496.467 105.621 499.685 Q102.52 502.879 96.8715 508.643 Z\" fill=\"#000000\" fill-rule=\"evenodd\" fill-opacity=\"1\" /><path clip-path=\"url(#clip670)\" d=\"M103.608 210.544 L91.8021 228.993 L103.608 228.993 L103.608 210.544 M102.381 206.47 L108.26 206.47 L108.26 228.993 L113.191 228.993 L113.191 232.882 L108.26 232.882 L108.26 241.03 L103.608 241.03 L103.608 232.882 L88.0058 232.882 L88.0058 228.368 L102.381 206.47 Z\" fill=\"#000000\" fill-rule=\"evenodd\" fill-opacity=\"1\" /><polyline clip-path=\"url(#clip672)\" style=\"stroke:#f1e864; stroke-linecap:butt; stroke-linejoin:round; stroke-width:4; stroke-opacity:1; fill:none\" points=\"\n",
       "  264.589,1445.72 260.336,1442.21 248.143,1432.14 241.812,1426.9 231.773,1418.56 223.288,1411.5 215.478,1404.98 204.763,1396.03 \n",
       "  \"/>\n",
       "<polyline clip-path=\"url(#clip672)\" style=\"stroke:#f8c931; stroke-linecap:butt; stroke-linejoin:round; stroke-width:4; stroke-opacity:1; fill:none\" points=\"\n",
       "  204.763,1344.38 212.213,1350.67 223.288,1360.02 228.321,1364.25 241.812,1375.58 244.504,1377.83 260.336,1391.05 260.764,1391.41 277.123,1404.98 278.86,1406.42 \n",
       "  293.565,1418.56 297.384,1421.71 310.085,1432.14 315.909,1436.91 326.684,1445.72 \n",
       "  \"/>\n",
       "<polyline clip-path=\"url(#clip672)\" style=\"stroke:#fbaa0e; stroke-linecap:butt; stroke-linejoin:round; stroke-width:4; stroke-opacity:1; fill:none\" points=\"\n",
       "  391.314,1445.72 390.005,1444.66 374.561,1432.14 371.481,1429.64 357.893,1418.56 352.957,1414.53 341.309,1404.98 334.433,1399.34 324.807,1391.41 315.909,1384.06 \n",
       "  308.388,1377.83 297.384,1368.7 292.049,1364.25 278.86,1353.25 275.79,1350.67 260.336,1337.71 259.61,1337.1 243.529,1323.52 241.812,1322.07 227.535,1309.94 \n",
       "  223.288,1306.33 211.618,1296.36 204.763,1290.5 \n",
       "  \"/>\n",
       "<polyline clip-path=\"url(#clip672)\" style=\"stroke:#f98c09; stroke-linecap:butt; stroke-linejoin:round; stroke-width:4; stroke-opacity:1; fill:none\" points=\"\n",
       "  204.763,1234.08 213.966,1242.05 223.288,1250.12 229.691,1255.63 241.812,1266.06 245.494,1269.21 260.336,1281.9 261.377,1282.79 277.358,1296.36 278.86,1297.64 \n",
       "  293.433,1309.94 297.384,1313.27 309.59,1323.52 315.909,1328.82 325.829,1337.1 334.433,1344.27 342.15,1350.67 352.957,1359.63 358.557,1364.25 371.481,1374.9 \n",
       "  375.048,1377.83 390.005,1390.08 391.626,1391.41 408.293,1404.98 408.53,1405.18 425.069,1418.56 427.054,1420.16 441.934,1432.14 445.578,1435.07 458.888,1445.72 \n",
       "  \n",
       "  \"/>\n",
       "<polyline clip-path=\"url(#clip672)\" style=\"stroke:#f0701e; stroke-linecap:butt; stroke-linejoin:round; stroke-width:4; stroke-opacity:1; fill:none\" points=\"\n",
       "  529.791,1445.72 519.675,1437.73 512.624,1432.14 501.151,1423.03 495.553,1418.56 482.626,1408.23 478.578,1404.98 464.102,1393.35 461.696,1391.41 445.578,1378.37 \n",
       "  444.906,1377.83 428.224,1364.25 427.054,1363.3 411.642,1350.67 408.53,1348.12 395.15,1337.1 390.005,1332.85 378.747,1323.52 371.481,1317.49 362.432,1309.94 \n",
       "  352.957,1302.03 346.203,1296.36 334.433,1286.47 330.061,1282.79 315.909,1270.83 314.004,1269.21 298.038,1255.63 297.384,1255.07 282.182,1242.05 278.86,1239.2 \n",
       "  266.408,1228.48 260.336,1223.24 250.715,1214.9 241.812,1207.17 235.103,1201.32 223.288,1191 219.571,1187.75 204.763,1174.74 \n",
       "  \"/>\n",
       "<polyline clip-path=\"url(#clip672)\" style=\"stroke:#e35832; stroke-linecap:butt; stroke-linejoin:round; stroke-width:4; stroke-opacity:1; fill:none\" points=\"\n",
       "  204.763,1111.9 213.65,1119.86 223.288,1128.47 228.867,1133.44 241.812,1144.93 244.165,1147.01 259.555,1160.59 260.336,1161.28 275.058,1174.17 278.86,1177.49 \n",
       "  290.645,1187.75 297.384,1193.6 306.315,1201.32 315.909,1209.6 322.071,1214.9 334.433,1225.5 337.913,1228.48 352.957,1241.3 353.842,1242.05 369.882,1255.63 \n",
       "  371.481,1256.98 386.022,1269.21 390.005,1272.55 402.253,1282.79 408.53,1288.02 418.574,1296.36 427.054,1303.39 434.988,1309.94 445.578,1318.67 451.495,1323.52 \n",
       "  464.102,1333.84 468.096,1337.1 482.626,1348.92 484.793,1350.67 501.151,1363.9 501.588,1364.25 518.497,1377.83 519.675,1378.77 535.511,1391.41 538.199,1393.55 \n",
       "  552.625,1404.98 556.723,1408.23 569.84,1418.56 575.247,1422.81 587.157,1432.14 593.772,1437.31 604.578,1445.72 \n",
       "  \"/>\n",
       "<polyline clip-path=\"url(#clip672)\" style=\"stroke:#d04544; stroke-linecap:butt; stroke-linejoin:round; stroke-width:4; stroke-opacity:1; fill:none\" points=\"\n",
       "  683.959,1445.72 667.868,1433.4 666.231,1432.14 649.344,1419.12 648.616,1418.56 631.117,1404.98 630.82,1404.75 613.74,1391.41 612.296,1390.28 596.473,1377.83 \n",
       "  593.772,1375.7 579.314,1364.25 575.247,1361.02 562.262,1350.67 556.723,1346.25 545.315,1337.1 538.199,1331.38 528.472,1323.52 519.675,1316.4 511.731,1309.94 \n",
       "  501.151,1301.32 495.091,1296.36 482.626,1286.14 478.551,1282.79 464.102,1270.86 462.109,1269.21 445.767,1255.63 445.578,1255.47 429.551,1242.05 427.054,1239.96 \n",
       "  413.43,1228.48 408.53,1224.34 397.404,1214.9 390.005,1208.61 381.47,1201.32 371.481,1192.78 365.628,1187.75 352.957,1176.83 349.876,1174.17 334.433,1160.78 \n",
       "  334.213,1160.59 318.678,1147.01 315.909,1144.59 303.234,1133.44 297.384,1128.28 287.876,1119.86 278.86,1111.86 272.603,1106.28 260.336,1095.32 257.415,1092.7 \n",
       "  242.317,1079.13 241.812,1078.67 227.344,1065.55 223.288,1061.86 212.452,1051.97 204.763,1044.94 \n",
       "  \"/>\n",
       "<polyline clip-path=\"url(#clip672)\" style=\"stroke:#ba3655; stroke-linecap:butt; stroke-linejoin:round; stroke-width:4; stroke-opacity:1; fill:none\" points=\"\n",
       "  204.763,972.897 216.701,984.084 223.288,990.243 231.259,997.662 241.812,1007.46 245.9,1011.24 260.336,1024.55 260.625,1024.82 275.486,1038.39 278.86,1041.47 \n",
       "  290.437,1051.97 297.384,1058.26 305.475,1065.55 315.909,1074.93 320.601,1079.13 334.433,1091.47 335.816,1092.7 351.149,1106.28 352.957,1107.88 366.594,1119.86 \n",
       "  371.481,1124.14 382.132,1133.44 390.005,1140.29 397.762,1147.01 408.53,1156.32 413.488,1160.59 427.054,1172.24 429.31,1174.17 445.234,1187.75 445.578,1188.04 \n",
       "  461.291,1201.32 464.102,1203.69 477.447,1214.9 482.626,1219.24 493.704,1228.48 501.151,1234.67 510.063,1242.05 519.675,1250 526.526,1255.63 538.199,1265.21 \n",
       "  543.094,1269.21 556.723,1280.32 559.768,1282.79 575.247,1295.31 576.551,1296.36 593.449,1309.94 593.772,1310.2 610.478,1323.52 612.296,1324.97 627.618,1337.1 \n",
       "  630.82,1339.63 644.871,1350.67 649.344,1354.18 662.239,1364.25 667.868,1368.64 679.724,1377.83 686.393,1382.99 697.328,1391.41 704.917,1397.24 715.052,1404.98 \n",
       "  723.441,1411.38 732.898,1418.56 741.965,1425.43 750.868,1432.14 760.489,1439.37 768.964,1445.72 \n",
       "  \"/>\n",
       "<polyline clip-path=\"url(#clip672)\" style=\"stroke:#a12b61; stroke-linecap:butt; stroke-linejoin:round; stroke-width:4; stroke-opacity:1; fill:none\" points=\"\n",
       "  860.912,1445.72 853.11,1440.03 842.344,1432.14 834.586,1426.44 823.918,1418.56 816.062,1412.75 805.633,1404.98 797.538,1398.95 787.485,1391.41 779.014,1385.04 \n",
       "  769.472,1377.83 760.489,1371.03 751.593,1364.25 741.965,1356.9 733.845,1350.67 723.441,1342.67 716.225,1337.1 704.917,1328.34 698.733,1323.52 686.393,1313.89 \n",
       "  681.365,1309.94 667.868,1299.33 664.12,1296.36 649.344,1284.66 646.997,1282.79 630.82,1269.87 629.992,1269.21 613.119,1255.63 612.296,1254.97 596.376,1242.05 \n",
       "  593.772,1239.94 579.749,1228.48 575.247,1224.79 563.235,1214.9 556.723,1209.53 546.833,1201.32 538.199,1194.14 530.541,1187.75 519.675,1178.64 514.358,1174.17 \n",
       "  501.151,1163.02 498.281,1160.59 482.626,1147.28 482.309,1147.01 466.479,1133.44 464.102,1131.39 450.757,1119.86 445.578,1115.37 435.137,1106.28 427.054,1099.23 \n",
       "  419.617,1092.7 408.53,1082.96 404.195,1079.13 390.005,1066.56 388.871,1065.55 373.677,1051.97 371.481,1050 358.597,1038.39 352.957,1033.3 343.61,1024.82 \n",
       "  334.433,1016.47 328.716,1011.24 315.909,999.5 313.913,997.662 299.229,984.084 297.384,982.372 284.666,970.507 278.86,965.077 270.191,956.93 260.336,947.644 \n",
       "  255.803,943.352 241.812,930.073 241.499,929.775 227.344,916.197 223.288,912.296 213.276,902.62 204.763,894.371 \n",
       "  \"/>\n",
       "<polyline clip-path=\"url(#clip672)\" style=\"stroke:#88216a; stroke-linecap:butt; stroke-linejoin:round; stroke-width:4; stroke-opacity:1; fill:none\" points=\"\n",
       "  204.763,807.286 205.051,807.578 218.517,821.156 223.288,825.951 232.07,834.733 241.812,844.447 245.707,848.31 259.445,861.888 260.336,862.763 273.334,875.465 \n",
       "  278.86,880.851 287.311,889.043 297.384,898.781 301.376,902.62 315.538,916.197 315.909,916.55 329.858,929.775 334.433,934.1 344.271,943.352 352.957,951.499 \n",
       "  358.777,956.93 371.481,968.751 373.379,970.507 388.111,984.084 390.005,985.823 402.972,997.662 408.53,1002.72 417.933,1011.24 427.054,1019.48 432.994,1024.82 \n",
       "  445.578,1036.09 448.157,1038.39 463.436,1051.97 464.102,1052.56 478.864,1065.55 482.626,1068.85 494.399,1079.13 501.151,1085.01 510.041,1092.7 519.675,1101.03 \n",
       "  525.793,1106.28 538.199,1116.91 541.656,1119.86 556.723,1132.67 557.633,1133.44 573.751,1147.01 575.247,1148.27 590.002,1160.59 593.772,1163.73 606.37,1174.17 \n",
       "  612.296,1179.07 622.857,1187.75 630.82,1194.27 639.466,1201.32 649.344,1209.36 656.199,1214.9 667.868,1224.31 673.057,1228.48 686.393,1239.15 690.044,1242.05 \n",
       "  704.917,1253.86 707.16,1255.63 723.441,1268.45 724.408,1269.21 741.795,1282.79 741.965,1282.92 759.333,1296.36 760.489,1297.26 777.009,1309.94 779.014,1311.48 \n",
       "  794.824,1323.52 797.538,1325.58 812.781,1337.1 816.062,1339.57 830.882,1350.67 834.586,1353.44 849.13,1364.25 853.11,1367.2 867.528,1377.83 871.635,1380.85 \n",
       "  886.078,1391.41 890.159,1394.38 904.783,1404.98 908.683,1407.8 923.646,1418.56 927.207,1421.12 942.669,1432.14 945.731,1434.32 961.856,1445.72 \n",
       "  \"/>\n",
       "<polyline clip-path=\"url(#clip672)\" style=\"stroke:#6e186e; stroke-linecap:butt; stroke-linejoin:round; stroke-width:4; stroke-opacity:1; fill:none\" points=\"\n",
       "  1075.15,1445.72 1056.88,1433.36 1055.09,1432.14 1038.35,1420.71 1035.23,1418.56 1019.83,1407.94 1015.56,1404.98 1001.3,1395.06 996.086,1391.41 982.78,1382.06 \n",
       "  976.793,1377.83 964.256,1368.94 957.683,1364.25 945.731,1355.7 938.75,1350.67 927.207,1342.34 919.992,1337.1 908.683,1328.86 901.406,1323.52 890.159,1315.25 \n",
       "  882.987,1309.94 871.635,1301.52 864.732,1296.36 853.11,1287.66 846.64,1282.79 834.586,1273.68 828.705,1269.21 816.062,1259.57 810.926,1255.63 797.538,1245.34 \n",
       "  793.299,1242.05 779.014,1230.97 775.822,1228.48 760.489,1216.47 758.491,1214.9 741.965,1201.85 741.304,1201.32 724.276,1187.75 723.441,1187.08 707.402,1174.17 \n",
       "  704.917,1172.16 690.666,1160.59 686.393,1157.11 674.066,1147.01 667.868,1141.92 657.6,1133.44 649.344,1126.59 641.265,1119.86 630.82,1111.13 625.059,1106.28 \n",
       "  612.296,1095.52 608.979,1092.7 593.772,1079.77 593.023,1079.13 577.227,1065.55 575.247,1063.84 561.567,1051.97 556.723,1047.76 546.026,1038.39 538.199,1031.52 \n",
       "  530.603,1024.82 519.675,1015.14 515.294,1011.24 501.151,998.607 500.098,997.662 485.06,984.084 482.626,981.879 470.152,970.507 464.102,964.976 455.352,956.93 \n",
       "  445.578,947.915 440.659,943.352 427.054,930.695 426.071,929.775 411.643,916.197 408.53,913.256 397.336,902.62 390.005,895.633 383.13,889.043 371.481,877.843 \n",
       "  369.022,875.465 355.05,861.888 352.957,859.843 341.22,848.31 334.433,841.62 327.485,834.733 315.909,823.221 313.843,821.156 300.346,807.578 297.384,804.583 \n",
       "  286.979,794.001 278.86,785.718 273.7,780.423 260.511,766.846 260.336,766.664 247.506,753.269 241.812,747.304 234.586,739.691 223.288,727.75 221.748,726.114 \n",
       "  209.072,712.536 204.763,707.899 \n",
       "  \"/>\n",
       "<polyline clip-path=\"url(#clip672)\" style=\"stroke:#550f6d; stroke-linecap:butt; stroke-linejoin:round; stroke-width:4; stroke-opacity:1; fill:none\" points=\"\n",
       "  204.763,588.987 205.901,590.34 217.449,603.917 223.288,610.744 229.098,617.495 240.846,631.072 241.812,632.176 252.793,644.649 260.336,653.184 264.822,658.227 \n",
       "  276.974,671.804 278.86,673.893 289.303,685.382 297.384,694.24 301.718,698.959 314.256,712.536 315.909,714.311 326.973,726.114 334.433,734.043 339.781,739.691 \n",
       "  352.688,753.269 352.957,753.549 365.799,766.846 371.481,772.709 379.006,780.423 390.005,791.66 392.311,794.001 405.775,807.578 408.53,810.34 419.388,821.156 \n",
       "  427.054,828.766 433.104,834.733 445.578,846.994 446.926,848.31 460.923,861.888 464.102,864.958 475.056,875.465 482.626,882.704 489.3,889.043 501.151,900.263 \n",
       "  503.657,902.62 518.161,916.197 519.675,917.606 532.834,929.775 538.199,934.72 547.625,943.352 556.723,951.657 562.537,956.93 575.247,968.419 577.572,970.507 \n",
       "  592.755,984.084 593.772,984.989 608.113,997.662 612.296,1001.35 623.6,1011.24 630.82,1017.54 639.219,1024.82 649.344,1033.56 654.972,1038.39 667.868,1049.43 \n",
       "  670.862,1051.97 686.393,1065.13 686.891,1065.55 703.104,1079.13 704.917,1080.64 719.471,1092.7 723.441,1095.99 735.983,1106.28 741.965,1111.18 752.645,1119.86 \n",
       "  760.489,1126.22 769.459,1133.44 779.014,1141.1 786.428,1147.01 797.538,1155.84 803.556,1160.59 816.062,1170.43 820.846,1174.17 834.586,1184.87 838.302,1187.75 \n",
       "  853.11,1199.17 855.927,1201.32 871.635,1213.32 873.724,1214.9 890.159,1227.32 891.698,1228.48 908.683,1241.19 909.852,1242.05 927.207,1254.91 928.191,1255.63 \n",
       "  945.731,1268.49 946.718,1269.21 964.256,1281.94 965.438,1282.79 982.78,1295.24 984.355,1296.36 1001.3,1308.41 1003.47,1309.94 1019.83,1321.45 1022.8,1323.52 \n",
       "  1038.35,1334.35 1042.34,1337.1 1056.88,1347.11 1062.09,1350.67 1075.4,1359.75 1082.06,1364.25 1093.92,1372.25 1102.26,1377.83 1112.45,1384.63 1122.69,1391.41 \n",
       "  1130.97,1396.87 1143.36,1404.98 1149.5,1408.99 1164.27,1418.56 1168.02,1420.98 1185.43,1432.14 1186.55,1432.85 1205.07,1444.57 1206.9,1445.72 \n",
       "  \"/>\n",
       "<polyline clip-path=\"url(#clip672)\" style=\"stroke:#3b0964; stroke-linecap:butt; stroke-linejoin:round; stroke-width:4; stroke-opacity:1; fill:none\" points=\"\n",
       "  1370.75,1445.72 1353.26,1435.88 1346.69,1432.14 1334.74,1425.32 1323.01,1418.56 1316.22,1414.63 1299.71,1404.98 1297.69,1403.8 1279.17,1392.8 1276.85,1391.41 \n",
       "  1260.64,1381.63 1254.4,1377.83 1242.12,1370.32 1232.28,1364.25 1223.59,1358.87 1210.48,1350.67 1205.07,1347.28 1188.99,1337.1 1186.55,1335.54 1168.02,1323.66 \n",
       "  1167.81,1323.52 1149.5,1311.59 1146.99,1309.94 1130.97,1299.38 1126.44,1296.36 1112.45,1287.02 1106.16,1282.79 1093.92,1274.52 1086.14,1269.21 1075.4,1261.86 \n",
       "  1066.38,1255.63 1056.88,1249.05 1046.86,1242.05 1038.35,1236.09 1027.59,1228.48 1019.83,1222.97 1008.55,1214.9 1001.3,1209.7 989.738,1201.32 982.78,1196.27 \n",
       "  971.149,1187.75 964.256,1182.68 952.778,1174.17 945.731,1168.93 934.619,1160.59 927.207,1155.01 916.666,1147.01 908.683,1140.93 898.915,1133.44 890.159,1126.69 \n",
       "  881.361,1119.86 871.635,1112.28 863.998,1106.28 853.11,1097.7 846.823,1092.7 834.586,1082.95 829.831,1079.13 816.062,1068.02 813.017,1065.55 797.538,1052.93 \n",
       "  796.377,1051.97 779.93,1038.39 779.014,1037.63 763.683,1024.82 760.489,1022.14 747.602,1011.24 741.965,1006.46 731.682,997.662 723.441,990.589 715.92,984.084 \n",
       "  704.917,974.533 700.313,970.507 686.393,958.288 684.857,956.93 669.59,943.352 667.868,941.812 654.509,929.775 649.344,925.104 639.57,916.197 630.82,908.195 \n",
       "  624.771,902.62 612.296,891.081 610.109,889.043 595.625,875.465 593.772,873.717 581.328,861.888 575.247,856.086 567.16,848.31 556.723,838.238 553.118,834.733 \n",
       "  539.225,821.156 538.199,820.145 525.543,807.578 519.675,801.729 511.98,794.001 501.151,783.082 498.534,780.423 485.265,766.846 482.626,764.127 472.172,753.269 \n",
       "  464.102,744.853 459.189,739.691 446.332,726.114 445.578,725.309 433.701,712.536 427.054,705.358 421.173,698.959 408.751,685.382 408.53,685.136 396.573,671.804 \n",
       "  390.005,664.449 384.491,658.227 372.529,644.649 371.481,643.445 360.795,631.072 352.957,621.955 349.151,617.495 337.673,603.917 334.433,600.045 326.374,590.34 \n",
       "  315.909,577.677 315.159,576.762 304.188,563.185 297.384,554.713 293.316,549.608 282.611,536.03 278.86,531.217 272.082,522.453 261.659,508.875 260.336,507.123 \n",
       "  251.477,495.298 241.812,482.328 241.363,481.721 231.516,468.143 223.288,456.725 221.744,454.566 212.218,440.989 204.763,430.27 \n",
       "  \"/>\n",
       "<polyline clip-path=\"url(#clip672)\" style=\"stroke:#1f0c47; stroke-linecap:butt; stroke-linejoin:round; stroke-width:4; stroke-opacity:1; fill:none\" points=\"\n",
       "  241.019,87.9763 239.874,101.554 239.475,115.131 239.755,128.708 240.655,142.286 241.812,152.923 242.136,155.863 244.205,169.441 246.767,183.018 249.782,196.595 \n",
       "  253.214,210.173 257.029,223.75 260.336,234.457 261.233,237.328 265.899,250.905 270.873,264.482 276.132,278.06 278.86,284.681 281.757,291.637 287.728,305.215 \n",
       "  293.928,318.792 297.384,326.032 300.442,332.369 307.273,345.947 314.287,359.524 315.909,362.538 321.654,373.102 329.23,386.679 334.433,395.764 337.032,400.256 \n",
       "  345.135,413.834 352.957,426.736 353.37,427.411 361.967,440.989 370.661,454.566 371.481,455.81 379.694,468.143 388.829,481.721 390.005,483.424 398.284,495.298 \n",
       "  407.833,508.875 408.53,509.842 417.707,522.453 427.054,535.208 427.662,536.03 437.936,549.608 445.578,559.63 448.315,563.185 458.942,576.762 464.102,583.28 \n",
       "  469.744,590.34 480.7,603.917 482.626,606.266 491.922,617.495 501.151,628.578 503.246,631.072 514.824,644.649 519.675,650.285 526.573,658.227 538.199,671.538 \n",
       "  538.434,671.804 550.596,685.382 556.723,692.182 562.885,698.959 575.247,712.484 575.296,712.536 588.007,726.114 593.772,732.24 600.848,739.691 612.296,751.684 \n",
       "  613.822,753.269 627.046,766.846 630.82,770.693 640.453,780.423 649.344,789.36 654.003,794.001 667.705,807.578 667.868,807.738 681.69,821.156 686.393,825.699 \n",
       "  695.829,834.733 704.917,843.393 710.125,848.31 723.441,860.825 724.583,861.888 739.289,875.465 741.965,877.921 754.197,889.043 760.489,894.738 769.278,902.62 \n",
       "  779.014,911.312 784.537,916.197 797.538,927.645 799.98,929.775 815.624,943.352 816.062,943.729 831.531,956.93 834.586,959.526 847.633,970.507 853.11,975.098 \n",
       "  863.935,984.084 871.635,990.449 880.445,997.662 890.159,1005.58 897.167,1011.24 908.683,1020.5 914.107,1024.82 927.207,1035.2 931.274,1038.39 945.731,1049.7 \n",
       "  948.673,1051.97 964.256,1063.98 966.311,1065.55 982.78,1078.06 984.196,1079.13 1001.3,1091.94 1002.34,1092.7 1019.83,1105.62 1020.74,1106.28 1038.35,1119.09 \n",
       "  1039.41,1119.86 1056.88,1132.38 1058.37,1133.44 1075.4,1145.47 1077.61,1147.01 1093.92,1158.37 1097.15,1160.59 1112.45,1171.08 1117,1174.17 1130.97,1183.61 \n",
       "  1137.17,1187.75 1149.5,1195.95 1157.67,1201.32 1168.02,1208.11 1178.51,1214.9 1186.55,1220.09 1199.7,1228.48 1205.07,1231.89 1221.26,1242.05 1223.59,1243.52 \n",
       "  1242.12,1254.95 1243.24,1255.63 1260.64,1266.17 1265.72,1269.21 1279.17,1277.22 1288.63,1282.79 1297.69,1288.09 1311.99,1296.36 1316.22,1298.8 1334.74,1309.32 \n",
       "  1335.85,1309.94 1353.26,1319.61 1360.41,1323.52 1371.79,1329.73 1385.49,1337.1 1390.31,1339.68 1408.84,1349.44 1411.23,1350.67 1427.36,1358.96 1437.81,1364.25 \n",
       "  1445.88,1368.32 1464.41,1377.51 1465.06,1377.83 1482.93,1386.43 1493.45,1391.41 1501.46,1395.18 1519.98,1403.74 1522.74,1404.98 1538.51,1412.04 1553.34,1418.56 \n",
       "  1557.03,1420.18 1575.55,1428.04 1585.43,1432.14 1594.08,1435.71 1612.6,1443.15 1619.22,1445.72 \n",
       "  \"/>\n",
       "<polyline clip-path=\"url(#clip672)\" style=\"stroke:#1f0c47; stroke-linecap:butt; stroke-linejoin:round; stroke-width:4; stroke-opacity:1; fill:none\" points=\"\n",
       "  2057.18,983.622 2048.19,970.507 2038.81,956.93 2038.66,956.712 2029.09,943.352 2020.13,930.937 2019.29,929.775 2009.17,916.197 2001.61,906.133 1998.95,902.62 \n",
       "  1988.47,889.043 1983.09,882.15 1977.82,875.465 1967,861.888 1964.56,858.874 1955.93,848.31 1946.04,836.27 1944.76,834.733 1933.31,821.156 1927.51,814.332 \n",
       "  1921.72,807.578 1909.99,794.001 1908.99,792.866 1897.97,780.423 1890.47,771.994 1885.84,766.846 1873.54,753.269 1871.94,751.527 1860.98,739.691 1853.42,731.562 \n",
       "  1848.3,726.114 1835.47,712.536 1834.89,711.933 1822.36,698.959 1816.37,692.787 1809.11,685.382 1797.84,673.936 1795.73,671.804 1782.11,658.227 1779.32,655.466 \n",
       "  1768.29,644.649 1760.8,637.339 1754.31,631.072 1742.27,619.484 1740.19,617.495 1725.83,603.917 1723.75,601.958 1711.26,590.34 1705.22,584.748 1696.52,576.762 \n",
       "  1686.7,567.79 1681.61,563.185 1668.18,551.079 1666.53,549.608 1651.21,536.03 1649.65,534.654 1635.67,522.453 1631.13,518.506 1619.94,508.875 1612.6,502.589 \n",
       "  1604.01,495.298 1594.08,486.899 1587.89,481.721 1575.55,471.435 1571.57,468.143 1557.03,456.192 1555.03,454.566 1538.51,441.168 1538.28,440.989 1521.27,427.411 \n",
       "  1519.98,426.39 1504.02,413.834 1501.46,411.824 1486.55,400.256 1482.93,397.463 1468.84,386.679 1464.41,383.305 1450.88,373.102 1445.88,369.347 1432.68,359.524 \n",
       "  1427.36,355.586 1414.21,345.947 1408.84,342.021 1395.48,332.369 1390.31,328.649 1376.47,318.792 1371.79,315.468 1357.18,305.215 1353.26,302.475 1337.6,291.637 \n",
       "  1334.74,289.669 1317.71,278.06 1316.22,277.046 1297.69,264.609 1297.5,264.482 1279.17,252.384 1276.9,250.905 1260.64,240.34 1255.95,237.328 1242.12,228.477 \n",
       "  1234.64,223.75 1223.59,216.792 1212.96,210.173 1205.07,205.283 1190.89,196.595 1186.55,193.947 1168.41,183.018 1168.02,182.783 1149.5,171.851 1145.36,169.441 \n",
       "  1130.97,161.098 1121.83,155.863 1112.45,150.514 1097.83,142.286 1093.92,140.098 1075.4,129.878 1073.24,128.708 1056.88,119.885 1047.93,115.131 1038.35,110.058 \n",
       "  1022.06,101.554 1019.83,100.394 1001.3,90.9714 995.308,87.9763 \n",
       "  \"/>\n",
       "<polyline clip-path=\"url(#clip672)\" style=\"stroke:#3b0964; stroke-linecap:butt; stroke-linejoin:round; stroke-width:4; stroke-opacity:1; fill:none\" points=\"\n",
       "  1201.98,87.9763 1205.07,89.8733 1223.59,101.373 1223.88,101.554 1242.12,113.055 1245.38,115.131 1260.64,124.881 1266.58,128.708 1279.17,136.852 1287.49,142.286 \n",
       "  1297.69,148.969 1308.12,155.863 1316.22,161.233 1328.48,169.441 1334.74,173.647 1348.57,183.018 1353.26,186.211 1368.4,196.595 1371.79,198.927 1387.98,210.173 \n",
       "  1390.31,211.797 1407.32,223.75 1408.84,224.822 1426.41,237.328 1427.36,238.003 1445.28,250.905 1445.88,251.342 1463.92,264.482 1464.41,264.841 1482.34,278.06 \n",
       "  1482.93,278.501 1500.54,291.637 1501.46,292.325 1518.53,305.215 1519.98,306.312 1536.32,318.792 1538.51,320.466 1553.91,332.369 1557.03,334.788 1571.31,345.947 \n",
       "  1575.55,349.279 1588.51,359.524 1594.08,363.942 1605.53,373.102 1612.6,378.777 1622.37,386.679 1631.13,393.788 1639.03,400.256 1649.65,408.975 1655.52,413.834 \n",
       "  1668.18,424.34 1671.84,427.411 1686.7,439.886 1688,440.989 1703.97,454.566 1705.22,455.639 1719.74,468.143 1723.75,471.606 1735.36,481.721 1742.27,487.765 \n",
       "  1750.82,495.298 1760.8,504.117 1766.14,508.875 1779.32,520.663 1781.31,522.453 1796.3,536.03 1797.84,537.441 1811.09,549.608 1816.37,554.469 1825.75,563.185 \n",
       "  1834.89,571.703 1840.28,576.762 1853.42,589.146 1854.67,590.34 1868.86,603.917 1871.94,606.877 1882.9,617.495 1890.47,624.858 1896.8,631.072 1908.99,643.063 \n",
       "  1910.59,644.649 1924.18,658.227 1927.51,661.581 1937.61,671.804 1946.04,680.378 1950.92,685.382 1964.11,698.959 1964.56,699.425 1977.08,712.536 1983.09,718.861 \n",
       "  1989.93,726.114 2001.61,738.55 2002.68,739.691 2015.2,753.269 2020.13,758.646 2027.6,766.846 2038.66,779.043 2039.9,780.423 2051.98,794.001 2057.18,799.884 \n",
       "  \n",
       "  \"/>\n",
       "<polyline clip-path=\"url(#clip672)\" style=\"stroke:#550f6d; stroke-linecap:butt; stroke-linejoin:round; stroke-width:4; stroke-opacity:1; fill:none\" points=\"\n",
       "  2057.18,671.759 2043.83,658.227 2038.66,653.006 2030.33,644.649 2020.13,634.455 2016.73,631.072 2003,617.495 2001.61,616.135 1989.09,603.917 1983.09,598.084 \n",
       "  1975.07,590.34 1964.56,580.224 1960.94,576.762 1946.69,563.185 1946.04,562.567 1932.25,549.608 1927.51,545.169 1917.7,536.03 1908.99,527.951 1903.03,522.453 \n",
       "  1890.47,510.912 1888.23,508.875 1873.29,495.298 1871.94,494.076 1858.18,481.721 1853.42,477.456 1842.95,468.143 1834.89,461.005 1827.58,454.566 1816.37,444.722 \n",
       "  1812.09,440.989 1797.84,428.607 1796.46,427.411 1780.67,413.834 1779.32,412.68 1764.71,400.256 1760.8,396.938 1748.61,386.679 1742.27,381.355 1732.37,373.102 \n",
       "  1723.75,365.929 1715.99,359.524 1705.22,350.659 1699.46,345.947 1686.7,335.543 1682.78,332.369 1668.18,320.581 1665.94,318.792 1649.65,305.77 1648.95,305.215 \n",
       "  1631.78,291.637 1631.13,291.12 1614.44,278.06 1612.6,276.627 1596.93,264.482 1594.08,262.279 1579.25,250.905 1575.55,248.074 1561.41,237.328 1557.03,234.012 \n",
       "  1543.38,223.75 1538.51,220.091 1525.18,210.173 1519.98,206.31 1506.8,196.595 1501.46,192.668 1488.23,183.018 1482.93,179.163 1469.47,169.441 1464.41,165.795 \n",
       "  1450.52,155.863 1445.88,152.562 1431.36,142.286 1427.36,139.463 1412,128.708 1408.84,126.497 1392.44,115.131 1390.31,113.664 1372.66,101.554 1371.79,100.961 \n",
       "  1353.26,88.3951 1352.64,87.9763 \n",
       "  \"/>\n",
       "<polyline clip-path=\"url(#clip672)\" style=\"stroke:#6e186e; stroke-linecap:butt; stroke-linejoin:round; stroke-width:4; stroke-opacity:1; fill:none\" points=\"\n",
       "  1477.21,87.9763 1482.93,92.0491 1496.19,101.554 1501.46,105.34 1514.99,115.131 1519.98,118.753 1533.61,128.708 1538.51,132.29 1552.07,142.286 1557.03,145.951 \n",
       "  1570.36,155.863 1575.55,159.737 1588.48,169.441 1594.08,173.649 1606.45,183.018 1612.6,187.688 1624.26,196.595 1631.13,201.856 1641.91,210.173 1649.65,216.153 \n",
       "  1659.42,223.75 1668.18,230.58 1676.77,237.328 1686.7,245.138 1693.98,250.905 1705.22,259.828 1711.05,264.482 1723.75,274.651 1727.98,278.06 1742.27,289.609 \n",
       "  1744.77,291.637 1760.8,304.702 1761.42,305.215 1777.92,318.792 1779.32,319.952 1794.26,332.369 1797.84,335.352 1810.48,345.947 1816.37,350.893 1826.58,359.524 \n",
       "  1834.89,366.576 1842.54,373.102 1853.42,382.403 1858.39,386.679 1871.94,398.374 1874.11,400.256 1889.7,413.834 1890.47,414.504 1905.13,427.411 1908.99,430.819 \n",
       "  1920.44,440.989 1927.51,447.286 1935.64,454.566 1946.04,463.905 1950.73,468.143 1964.56,480.679 1965.71,481.721 1980.53,495.298 1983.09,497.652 1995.22,508.875 \n",
       "  2001.61,514.806 2009.81,522.453 2020.13,532.121 2024.29,536.03 2038.66,549.598 2038.67,549.608 2052.87,563.185 2057.18,567.321 \n",
       "  \"/>\n",
       "<polyline clip-path=\"url(#clip672)\" style=\"stroke:#88216a; stroke-linecap:butt; stroke-linejoin:round; stroke-width:4; stroke-opacity:1; fill:none\" points=\"\n",
       "  2057.18,476.838 2047.71,468.143 2038.66,459.857 2032.85,454.566 2020.13,443.019 2017.89,440.989 2002.8,427.411 2001.61,426.343 1987.58,413.834 1983.09,409.84 \n",
       "  1972.25,400.256 1964.56,393.475 1956.82,386.679 1946.04,377.246 1941.28,373.102 1927.51,361.153 1925.63,359.524 1909.85,345.947 1908.99,345.208 1893.93,332.369 \n",
       "  1890.47,329.42 1877.9,318.792 1871.94,313.763 1861.75,305.215 1853.42,298.235 1845.49,291.637 1834.89,282.836 1829.11,278.06 1816.37,267.563 1812.61,264.482 \n",
       "  1797.84,252.418 1795.98,250.905 1779.32,237.397 1779.23,237.328 1762.33,223.75 1760.8,222.522 1745.3,210.173 1742.27,207.769 1728.13,196.595 1723.75,193.137 \n",
       "  1710.84,183.018 1705.22,178.625 1693.41,169.441 1686.7,164.232 1675.85,155.863 1668.18,149.958 1658.15,142.286 1649.65,135.8 1640.31,128.708 1631.13,121.76 \n",
       "  1622.32,115.131 1612.6,107.835 1604.19,101.554 1594.08,94.025 1585.91,87.9763 \n",
       "  \"/>\n",
       "<polyline clip-path=\"url(#clip672)\" style=\"stroke:#a12b61; stroke-linecap:butt; stroke-linejoin:round; stroke-width:4; stroke-opacity:1; fill:none\" points=\"\n",
       "  1683.59,87.9763 1686.7,90.3399 1701.36,101.554 1705.22,104.511 1719.01,115.131 1723.75,118.791 1736.52,128.708 1742.27,133.182 1753.91,142.286 1760.8,147.683 \n",
       "  1771.18,155.863 1779.32,162.296 1788.32,169.441 1797.84,177.021 1805.34,183.018 1816.37,191.859 1822.25,196.595 1834.89,206.811 1839.03,210.173 1853.42,221.877 \n",
       "  1855.71,223.75 1871.94,237.059 1872.27,237.328 1888.69,250.905 1890.47,252.379 1904.99,264.482 1908.99,267.821 1921.19,278.06 1927.51,283.384 1937.27,291.637 \n",
       "  1946.04,299.066 1953.25,305.215 1964.56,314.87 1969.13,318.792 1983.09,330.796 1984.91,332.369 2000.56,345.947 2001.61,346.859 2016.09,359.524 2020.13,363.073 \n",
       "  2031.51,373.102 2038.66,379.413 2046.84,386.679 2057.18,395.881 \n",
       "  \"/>\n",
       "<polyline clip-path=\"url(#clip672)\" style=\"stroke:#ba3655; stroke-linecap:butt; stroke-linejoin:round; stroke-width:4; stroke-opacity:1; fill:none\" points=\"\n",
       "  2057.18,321.955 2053.55,318.792 2038.66,305.86 2037.91,305.215 2022.15,291.637 2020.13,289.907 2006.28,278.06 2001.61,274.077 1990.31,264.482 1983.09,258.361 \n",
       "  1974.24,250.905 1964.56,242.757 1958.08,237.328 1946.04,227.266 1941.81,223.75 1927.51,211.885 1925.44,210.173 1908.99,196.616 1908.97,196.595 1892.35,183.018 \n",
       "  1890.47,181.477 1875.64,169.441 1871.94,166.447 1858.81,155.863 1853.42,151.524 1841.88,142.286 1834.89,136.706 1824.83,128.708 1816.37,121.995 1807.67,115.131 \n",
       "  1797.84,107.388 1790.4,101.554 1779.32,92.8855 1773.01,87.9763 \n",
       "  \"/>\n",
       "<polyline clip-path=\"url(#clip672)\" style=\"stroke:#d04544; stroke-linecap:butt; stroke-linejoin:round; stroke-width:4; stroke-opacity:1; fill:none\" points=\"\n",
       "  1856.02,87.9763 1871.94,100.623 1873.11,101.554 1890.09,115.131 1890.47,115.434 1906.95,128.708 1908.99,130.358 1923.7,142.286 1927.51,145.385 1940.35,155.863 \n",
       "  1946.04,160.513 1956.91,169.441 1964.56,175.744 1973.36,183.018 1983.09,191.078 1989.71,196.595 2001.61,206.517 2005.97,210.173 2020.13,222.06 2022.14,223.75 \n",
       "  2038.2,237.328 2038.66,237.714 2054.15,250.905 2057.18,253.498 \n",
       "  \"/>\n",
       "<polyline clip-path=\"url(#clip672)\" style=\"stroke:#e35832; stroke-linecap:butt; stroke-linejoin:round; stroke-width:4; stroke-opacity:1; fill:none\" points=\"\n",
       "  2057.18,189.46 2049.5,183.018 2038.66,173.939 2033.26,169.441 2020.13,158.517 2016.93,155.863 2001.61,143.194 2000.51,142.286 1983.98,128.708 1983.09,127.979 \n",
       "  1967.34,115.131 1964.56,112.872 1950.6,101.554 1946.04,97.8614 1933.77,87.9763 \n",
       "  \"/>\n",
       "<polyline clip-path=\"url(#clip672)\" style=\"stroke:#f0701e; stroke-linecap:butt; stroke-linejoin:round; stroke-width:4; stroke-opacity:1; fill:none\" points=\"\n",
       "  2007.19,87.9763 2020.13,98.5431 2023.81,101.554 2038.66,113.747 2040.34,115.131 2056.77,128.708 2057.18,129.048 \n",
       "  \"/>\n",
       "<polyline clip-path=\"url(#clip672)\" style=\"stroke:#090621; stroke-linecap:butt; stroke-linejoin:round; stroke-width:4; stroke-opacity:1; fill:none\" points=\"\n",
       "  1491.19,563.185 1501.46,571.911 1507.09,576.762 1519.98,587.937 1522.72,590.34 1538.07,603.917 1538.51,604.308 1553.04,617.495 1557.03,621.132 1567.78,631.072 \n",
       "  1575.55,638.313 1582.27,644.649 1594.08,655.858 1596.54,658.227 1610.51,671.804 1612.6,673.865 1624.16,685.382 1631.13,692.379 1637.6,698.959 1649.65,711.3 \n",
       "  1650.84,712.536 1663.72,726.114 1668.18,730.86 1676.36,739.691 1686.7,750.931 1688.82,753.269 1700.94,766.846 1705.22,771.706 1712.8,780.423 1723.75,793.105 \n",
       "  1724.51,794.001 1735.8,807.578 1742.27,815.438 1746.92,821.156 1757.77,834.733 1760.8,838.607 1768.28,848.31 1778.65,861.888 1779.32,862.8 1788.56,875.465 \n",
       "  1797.84,888.316 1798.36,889.043 1807.69,902.62 1816.37,915.399 1816.9,916.197 1825.63,929.775 1834.21,943.352 1834.89,944.485 1842.29,956.93 1850.16,970.507 \n",
       "  1853.42,976.372 1857.63,984.084 1864.72,997.662 1871.55,1011.24 1871.94,1012.07 1877.8,1024.82 1883.71,1038.39 1889.27,1051.97 1890.47,1055.22 1894.22,1065.55 \n",
       "  1898.68,1079.13 1902.65,1092.7 1906.08,1106.28 1908.9,1119.86 1908.99,1120.43 1910.91,1133.44 1912.17,1147.01 1912.59,1160.59 1912.05,1174.17 1910.42,1187.75 \n",
       "  1908.99,1194.62 1907.41,1201.32 1902.68,1214.9 1896.05,1228.48 1890.47,1237.19 1886.8,1242.05 1873.81,1255.63 1871.94,1257.23 1854.73,1269.21 1853.42,1269.97 \n",
       "  1834.89,1278.55 1822.4,1282.79 1816.37,1284.56 1797.84,1288.47 1779.32,1290.88 1760.8,1292.03 1742.27,1292.1 1723.75,1291.24 1705.22,1289.58 1686.7,1287.22 \n",
       "  1668.18,1284.25 1660.66,1282.79 1649.65,1280.63 1631.13,1276.45 1612.6,1271.84 1603.01,1269.21 1594.08,1266.74 1575.55,1261.17 1558.12,1255.63 1557.03,1255.28 \n",
       "  1538.51,1248.88 1519.98,1242.24 1519.51,1242.05 1501.46,1235.1 1484.75,1228.48 1482.93,1227.75 1464.41,1219.97 1452.7,1214.9 1445.88,1211.93 1427.36,1203.59 \n",
       "  1422.52,1201.32 1408.84,1194.9 1393.95,1187.75 1390.31,1185.99 1371.79,1176.74 1366.77,1174.17 1353.26,1167.21 1340.7,1160.59 1334.74,1157.44 1316.22,1147.42 \n",
       "  1315.49,1147.01 1297.69,1137.05 1291.35,1133.44 1279.17,1126.45 1267.89,1119.86 1260.64,1115.6 1245.05,1106.28 1242.12,1104.52 1223.59,1093.17 1222.86,1092.7 \n",
       "  1205.07,1081.51 1201.35,1079.13 1186.55,1069.6 1180.35,1065.55 1168.02,1057.44 1159.84,1051.97 1149.5,1045.02 1139.78,1038.39 1130.97,1032.35 1120.17,1024.82 \n",
       "  1112.45,1019.41 1100.97,1011.24 1093.92,1006.2 1082.17,997.662 1075.4,992.714 1063.76,984.084 1056.88,978.952 1045.71,970.507 1038.35,964.906 1028.02,956.93 \n",
       "  1019.83,950.572 1010.66,943.352 1001.3,935.945 993.62,929.775 982.78,921.018 976.892,916.197 964.256,905.788 960.461,902.62 945.731,890.249 944.314,889.043 \n",
       "  928.496,875.465 927.207,874.349 913.011,861.888 908.683,858.064 897.788,848.31 890.159,841.437 882.814,834.733 871.635,824.462 868.082,821.156 853.6,807.578 \n",
       "  853.11,807.112 839.501,794.001 834.586,789.234 825.62,780.423 816.062,770.967 811.949,766.846 798.521,753.269 797.538,752.258 785.466,739.691 779.014,732.925 \n",
       "  772.601,726.114 760.489,713.155 759.919,712.536 747.64,698.959 741.965,692.627 735.555,685.382 723.641,671.804 723.441,671.57 712.161,658.227 704.917,649.587 \n",
       "  700.83,644.649 689.783,631.072 686.393,626.823 679.049,617.495 668.471,603.917 667.868,603.12 658.339,590.34 649.344,578.162 648.324,576.762 638.753,563.185 \n",
       "  630.82,551.778 629.331,549.608 620.349,536.03 612.296,523.658 611.522,522.453 603.186,508.875 595.013,495.298 593.772,493.131 587.329,481.721 579.912,468.143 \n",
       "  575.247,459.224 572.847,454.566 566.26,440.989 559.969,427.411 556.723,419.906 554.137,413.834 548.825,400.256 543.917,386.679 539.459,373.102 538.199,368.663 \n",
       "  535.649,359.524 532.453,345.947 529.872,332.369 527.982,318.792 526.875,305.215 526.657,291.637 527.454,278.06 529.42,264.482 532.738,250.905 537.634,237.328 \n",
       "  538.199,236.131 544.965,223.75 554.857,210.173 556.723,208.096 569.149,196.595 575.247,191.996 590.177,183.018 593.772,181.194 612.296,173.867 628.005,169.441 \n",
       "  630.82,168.748 649.344,165.571 667.868,163.759 686.393,163.107 704.917,163.45 723.441,164.654 741.965,166.607 760.489,169.216 761.749,169.441 779.014,172.547 \n",
       "  797.538,176.411 816.062,180.738 824.803,183.018 834.586,185.587 853.11,190.91 871.635,196.56 871.741,196.595 890.159,202.754 908.683,209.205 911.289,210.173 \n",
       "  927.207,216.122 945.731,223.278 946.888,223.75 964.256,230.887 979.511,237.328 982.78,238.716 1001.3,246.932 1010,250.905 1019.83,255.424 1038.35,264.156 \n",
       "  1039.02,264.482 1056.88,273.282 1066.37,278.06 1075.4,282.635 1092.8,291.637 1093.92,292.22 1112.45,302.159 1118.02,305.215 1130.97,312.352 1142.44,318.792 \n",
       "  1149.5,322.781 1166.16,332.369 1168.02,333.45 1186.55,344.421 1189.07,345.947 1205.07,355.672 1211.3,359.524 1223.59,367.168 1232.98,373.102 1242.12,378.911 \n",
       "  1254.14,386.679 1260.64,390.907 1274.8,400.256 1279.17,403.16 1294.98,413.834 1297.69,415.674 1314.71,427.411 1316.22,428.453 1334.01,440.989 1334.74,441.502 \n",
       "  1352.9,454.566 1353.26,454.826 1371.4,468.143 1371.79,468.43 1389.52,481.721 1390.31,482.318 1407.28,495.298 1408.84,496.496 1424.7,508.875 1427.36,510.968 \n",
       "  1441.78,522.453 1445.88,525.74 1458.55,536.03 1464.41,540.818 1475.02,549.608 1482.93,556.206 1491.19,563.185 \n",
       "  \"/>\n",
       "<circle clip-path=\"url(#clip672)\" cx=\"1184.47\" cy=\"701.898\" r=\"14\" fill=\"#ff0000\" fill-rule=\"evenodd\" fill-opacity=\"1\" stroke=\"#000000\" stroke-opacity=\"1\" stroke-width=\"3.2\"/>\n",
       "<defs>\n",
       "  <clipPath id=\"clip673\">\n",
       "    <rect x=\"2160\" y=\"47\" width=\"73\" height=\"1440\"/>\n",
       "  </clipPath>\n",
       "</defs>\n",
       "<polyline clip-path=\"url(#clip673)\" style=\"stroke:#0a0723; stroke-linecap:butt; stroke-linejoin:round; stroke-width:4; stroke-opacity:1; fill:none\" points=\"\n",
       "  2160.76,1396.5 2232.76,1396.5 \n",
       "  \"/>\n",
       "<polyline clip-path=\"url(#clip673)\" style=\"stroke:#200c4a; stroke-linecap:butt; stroke-linejoin:round; stroke-width:4; stroke-opacity:1; fill:none\" points=\"\n",
       "  2160.76,1306.55 2232.76,1306.55 \n",
       "  \"/>\n",
       "<polyline clip-path=\"url(#clip673)\" style=\"stroke:#3c0965; stroke-linecap:butt; stroke-linejoin:round; stroke-width:4; stroke-opacity:1; fill:none\" points=\"\n",
       "  2160.76,1216.6 2232.76,1216.6 \n",
       "  \"/>\n",
       "<polyline clip-path=\"url(#clip673)\" style=\"stroke:#570f6d; stroke-linecap:butt; stroke-linejoin:round; stroke-width:4; stroke-opacity:1; fill:none\" points=\"\n",
       "  2160.76,1126.65 2232.76,1126.65 \n",
       "  \"/>\n",
       "<polyline clip-path=\"url(#clip673)\" style=\"stroke:#70196e; stroke-linecap:butt; stroke-linejoin:round; stroke-width:4; stroke-opacity:1; fill:none\" points=\"\n",
       "  2160.76,1036.7 2232.76,1036.7 \n",
       "  \"/>\n",
       "<polyline clip-path=\"url(#clip673)\" style=\"stroke:#892269; stroke-linecap:butt; stroke-linejoin:round; stroke-width:4; stroke-opacity:1; fill:none\" points=\"\n",
       "  2160.76,946.746 2232.76,946.746 \n",
       "  \"/>\n",
       "<polyline clip-path=\"url(#clip673)\" style=\"stroke:#a32b61; stroke-linecap:butt; stroke-linejoin:round; stroke-width:4; stroke-opacity:1; fill:none\" points=\"\n",
       "  2160.76,856.796 2232.76,856.796 \n",
       "  \"/>\n",
       "<polyline clip-path=\"url(#clip673)\" style=\"stroke:#bb3754; stroke-linecap:butt; stroke-linejoin:round; stroke-width:4; stroke-opacity:1; fill:none\" points=\"\n",
       "  2160.76,766.846 2232.76,766.846 \n",
       "  \"/>\n",
       "<polyline clip-path=\"url(#clip673)\" style=\"stroke:#d04544; stroke-linecap:butt; stroke-linejoin:round; stroke-width:4; stroke-opacity:1; fill:none\" points=\"\n",
       "  2160.76,676.896 2232.76,676.896 \n",
       "  \"/>\n",
       "<polyline clip-path=\"url(#clip673)\" style=\"stroke:#e35832; stroke-linecap:butt; stroke-linejoin:round; stroke-width:4; stroke-opacity:1; fill:none\" points=\"\n",
       "  2160.76,586.946 2232.76,586.946 \n",
       "  \"/>\n",
       "<polyline clip-path=\"url(#clip673)\" style=\"stroke:#f0701e; stroke-linecap:butt; stroke-linejoin:round; stroke-width:4; stroke-opacity:1; fill:none\" points=\"\n",
       "  2160.76,496.995 2232.76,496.995 \n",
       "  \"/>\n",
       "<polyline clip-path=\"url(#clip673)\" style=\"stroke:#f98c09; stroke-linecap:butt; stroke-linejoin:round; stroke-width:4; stroke-opacity:1; fill:none\" points=\"\n",
       "  2160.76,407.045 2232.76,407.045 \n",
       "  \"/>\n",
       "<polyline clip-path=\"url(#clip673)\" style=\"stroke:#fbaa0e; stroke-linecap:butt; stroke-linejoin:round; stroke-width:4; stroke-opacity:1; fill:none\" points=\"\n",
       "  2160.76,317.095 2232.76,317.095 \n",
       "  \"/>\n",
       "<polyline clip-path=\"url(#clip673)\" style=\"stroke:#f8c931; stroke-linecap:butt; stroke-linejoin:round; stroke-width:4; stroke-opacity:1; fill:none\" points=\"\n",
       "  2160.76,227.145 2232.76,227.145 \n",
       "  \"/>\n",
       "<polyline clip-path=\"url(#clip673)\" style=\"stroke:#f1e864; stroke-linecap:butt; stroke-linejoin:round; stroke-width:4; stroke-opacity:1; fill:none\" points=\"\n",
       "  2160.76,137.194 2232.76,137.194 \n",
       "  \"/>\n",
       "<path clip-path=\"url(#clip670)\" d=\"M2269.43 1303.79 L2277.07 1303.79 L2277.07 1277.42 L2268.76 1279.09 L2268.76 1274.83 L2277.02 1273.16 L2281.7 1273.16 L2281.7 1303.79 L2289.33 1303.79 L2289.33 1307.72 L2269.43 1307.72 L2269.43 1303.79 Z\" fill=\"#000000\" fill-rule=\"evenodd\" fill-opacity=\"1\" /><path clip-path=\"url(#clip670)\" d=\"M2308.78 1276.24 Q2305.17 1276.24 2303.34 1279.8 Q2301.53 1283.35 2301.53 1290.48 Q2301.53 1297.58 2303.34 1301.15 Q2305.17 1304.69 2308.78 1304.69 Q2312.41 1304.69 2314.22 1301.15 Q2316.05 1297.58 2316.05 1290.48 Q2316.05 1283.35 2314.22 1279.8 Q2312.41 1276.24 2308.78 1276.24 M2308.78 1272.54 Q2314.59 1272.54 2317.64 1277.14 Q2320.72 1281.73 2320.72 1290.48 Q2320.72 1299.2 2317.64 1303.81 Q2314.59 1308.39 2308.78 1308.39 Q2302.97 1308.39 2299.89 1303.81 Q2296.83 1299.2 2296.83 1290.48 Q2296.83 1281.73 2299.89 1277.14 Q2302.97 1272.54 2308.78 1272.54 Z\" fill=\"#000000\" fill-rule=\"evenodd\" fill-opacity=\"1\" /><path clip-path=\"url(#clip670)\" d=\"M2338.94 1276.24 Q2335.33 1276.24 2333.5 1279.8 Q2331.7 1283.35 2331.7 1290.48 Q2331.7 1297.58 2333.5 1301.15 Q2335.33 1304.69 2338.94 1304.69 Q2342.57 1304.69 2344.38 1301.15 Q2346.21 1297.58 2346.21 1290.48 Q2346.21 1283.35 2344.38 1279.8 Q2342.57 1276.24 2338.94 1276.24 M2338.94 1272.54 Q2344.75 1272.54 2347.81 1277.14 Q2350.89 1281.73 2350.89 1290.48 Q2350.89 1299.2 2347.81 1303.81 Q2344.75 1308.39 2338.94 1308.39 Q2333.13 1308.39 2330.05 1303.81 Q2327 1299.2 2327 1290.48 Q2327 1281.73 2330.05 1277.14 Q2333.13 1272.54 2338.94 1272.54 Z\" fill=\"#000000\" fill-rule=\"evenodd\" fill-opacity=\"1\" /><path clip-path=\"url(#clip670)\" d=\"M2274.38 1103.81 L2290.7 1103.81 L2290.7 1107.74 L2268.76 1107.74 L2268.76 1103.81 Q2271.42 1101.05 2276 1096.42 Q2280.61 1091.77 2281.79 1090.43 Q2284.03 1087.9 2284.91 1086.17 Q2285.82 1084.41 2285.82 1082.72 Q2285.82 1079.96 2283.87 1078.23 Q2281.95 1076.49 2278.85 1076.49 Q2276.65 1076.49 2274.2 1077.26 Q2271.77 1078.02 2268.99 1079.57 L2268.99 1074.85 Q2271.81 1073.71 2274.27 1073.14 Q2276.72 1072.56 2278.76 1072.56 Q2284.13 1072.56 2287.32 1075.24 Q2290.52 1077.93 2290.52 1082.42 Q2290.52 1084.55 2289.7 1086.47 Q2288.92 1088.37 2286.81 1090.96 Q2286.23 1091.63 2283.13 1094.85 Q2280.03 1098.04 2274.38 1103.81 Z\" fill=\"#000000\" fill-rule=\"evenodd\" fill-opacity=\"1\" /><path clip-path=\"url(#clip670)\" d=\"M2310.51 1076.26 Q2306.9 1076.26 2305.08 1079.82 Q2303.27 1083.37 2303.27 1090.5 Q2303.27 1097.6 2305.08 1101.17 Q2306.9 1104.71 2310.51 1104.71 Q2314.15 1104.71 2315.95 1101.17 Q2317.78 1097.6 2317.78 1090.5 Q2317.78 1083.37 2315.95 1079.82 Q2314.15 1076.26 2310.51 1076.26 M2310.51 1072.56 Q2316.33 1072.56 2319.38 1077.16 Q2322.46 1081.75 2322.46 1090.5 Q2322.46 1099.22 2319.38 1103.83 Q2316.33 1108.41 2310.51 1108.41 Q2304.7 1108.41 2301.63 1103.83 Q2298.57 1099.22 2298.57 1090.5 Q2298.57 1081.75 2301.63 1077.16 Q2304.7 1072.56 2310.51 1072.56 Z\" fill=\"#000000\" fill-rule=\"evenodd\" fill-opacity=\"1\" /><path clip-path=\"url(#clip670)\" d=\"M2340.68 1076.26 Q2337.07 1076.26 2335.24 1079.82 Q2333.43 1083.37 2333.43 1090.5 Q2333.43 1097.6 2335.24 1101.17 Q2337.07 1104.71 2340.68 1104.71 Q2344.31 1104.71 2346.12 1101.17 Q2347.95 1097.6 2347.95 1090.5 Q2347.95 1083.37 2346.12 1079.82 Q2344.31 1076.26 2340.68 1076.26 M2340.68 1072.56 Q2346.49 1072.56 2349.54 1077.16 Q2352.62 1081.75 2352.62 1090.5 Q2352.62 1099.22 2349.54 1103.83 Q2346.49 1108.41 2340.68 1108.41 Q2334.87 1108.41 2331.79 1103.83 Q2328.73 1099.22 2328.73 1090.5 Q2328.73 1081.75 2331.79 1077.16 Q2334.87 1072.56 2340.68 1072.56 Z\" fill=\"#000000\" fill-rule=\"evenodd\" fill-opacity=\"1\" /><path clip-path=\"url(#clip670)\" d=\"M2284.38 889.128 Q2287.74 889.846 2289.61 892.114 Q2291.51 894.383 2291.51 897.716 Q2291.51 902.832 2287.99 905.632 Q2284.47 908.433 2277.99 908.433 Q2275.82 908.433 2273.5 907.994 Q2271.21 907.577 2268.76 906.72 L2268.76 902.207 Q2270.7 903.341 2273.02 903.92 Q2275.33 904.498 2277.85 904.498 Q2282.25 904.498 2284.54 902.762 Q2286.86 901.026 2286.86 897.716 Q2286.86 894.66 2284.7 892.947 Q2282.58 891.211 2278.76 891.211 L2274.73 891.211 L2274.73 887.369 L2278.94 887.369 Q2282.39 887.369 2284.22 886.003 Q2286.05 884.614 2286.05 882.021 Q2286.05 879.359 2284.15 877.947 Q2282.27 876.512 2278.76 876.512 Q2276.83 876.512 2274.64 876.929 Q2272.44 877.346 2269.8 878.225 L2269.8 874.059 Q2272.46 873.318 2274.77 872.947 Q2277.11 872.577 2279.17 872.577 Q2284.5 872.577 2287.6 875.008 Q2290.7 877.415 2290.7 881.535 Q2290.7 884.406 2289.06 886.396 Q2287.41 888.364 2284.38 889.128 Z\" fill=\"#000000\" fill-rule=\"evenodd\" fill-opacity=\"1\" /><path clip-path=\"url(#clip670)\" d=\"M2310.38 876.281 Q2306.76 876.281 2304.94 879.846 Q2303.13 883.387 2303.13 890.517 Q2303.13 897.623 2304.94 901.188 Q2306.76 904.73 2310.38 904.73 Q2314.01 904.73 2315.82 901.188 Q2317.64 897.623 2317.64 890.517 Q2317.64 883.387 2315.82 879.846 Q2314.01 876.281 2310.38 876.281 M2310.38 872.577 Q2316.19 872.577 2319.24 877.184 Q2322.32 881.767 2322.32 890.517 Q2322.32 899.244 2319.24 903.85 Q2316.19 908.433 2310.38 908.433 Q2304.57 908.433 2301.49 903.85 Q2298.43 899.244 2298.43 890.517 Q2298.43 881.767 2301.49 877.184 Q2304.57 872.577 2310.38 872.577 Z\" fill=\"#000000\" fill-rule=\"evenodd\" fill-opacity=\"1\" /><path clip-path=\"url(#clip670)\" d=\"M2340.54 876.281 Q2336.93 876.281 2335.1 879.846 Q2333.29 883.387 2333.29 890.517 Q2333.29 897.623 2335.1 901.188 Q2336.93 904.73 2340.54 904.73 Q2344.17 904.73 2345.98 901.188 Q2347.81 897.623 2347.81 890.517 Q2347.81 883.387 2345.98 879.846 Q2344.17 876.281 2340.54 876.281 M2340.54 872.577 Q2346.35 872.577 2349.4 877.184 Q2352.48 881.767 2352.48 890.517 Q2352.48 899.244 2349.4 903.85 Q2346.35 908.433 2340.54 908.433 Q2334.73 908.433 2331.65 903.85 Q2328.59 899.244 2328.59 890.517 Q2328.59 881.767 2331.65 877.184 Q2334.73 872.577 2340.54 872.577 Z\" fill=\"#000000\" fill-rule=\"evenodd\" fill-opacity=\"1\" /><path clip-path=\"url(#clip670)\" d=\"M2284.36 677.297 L2272.55 695.746 L2284.36 695.746 L2284.36 677.297 M2283.13 673.223 L2289.01 673.223 L2289.01 695.746 L2293.94 695.746 L2293.94 699.635 L2289.01 699.635 L2289.01 707.783 L2284.36 707.783 L2284.36 699.635 L2268.76 699.635 L2268.76 695.121 L2283.13 673.223 Z\" fill=\"#000000\" fill-rule=\"evenodd\" fill-opacity=\"1\" /><path clip-path=\"url(#clip670)\" d=\"M2311.67 676.301 Q2308.06 676.301 2306.23 679.866 Q2304.43 683.408 2304.43 690.537 Q2304.43 697.644 2306.23 701.209 Q2308.06 704.75 2311.67 704.75 Q2315.31 704.75 2317.11 701.209 Q2318.94 697.644 2318.94 690.537 Q2318.94 683.408 2317.11 679.866 Q2315.31 676.301 2311.67 676.301 M2311.67 672.598 Q2317.48 672.598 2320.54 677.204 Q2323.62 681.788 2323.62 690.537 Q2323.62 699.264 2320.54 703.871 Q2317.48 708.454 2311.67 708.454 Q2305.86 708.454 2302.78 703.871 Q2299.73 699.264 2299.73 690.537 Q2299.73 681.788 2302.78 677.204 Q2305.86 672.598 2311.67 672.598 Z\" fill=\"#000000\" fill-rule=\"evenodd\" fill-opacity=\"1\" /><path clip-path=\"url(#clip670)\" d=\"M2341.83 676.301 Q2338.22 676.301 2336.39 679.866 Q2334.59 683.408 2334.59 690.537 Q2334.59 697.644 2336.39 701.209 Q2338.22 704.75 2341.83 704.75 Q2345.47 704.75 2347.27 701.209 Q2349.1 697.644 2349.1 690.537 Q2349.1 683.408 2347.27 679.866 Q2345.47 676.301 2341.83 676.301 M2341.83 672.598 Q2347.64 672.598 2350.7 677.204 Q2353.78 681.788 2353.78 690.537 Q2353.78 699.264 2350.7 703.871 Q2347.64 708.454 2341.83 708.454 Q2336.02 708.454 2332.95 703.871 Q2329.89 699.264 2329.89 690.537 Q2329.89 681.788 2332.95 677.204 Q2336.02 672.598 2341.83 672.598 Z\" fill=\"#000000\" fill-rule=\"evenodd\" fill-opacity=\"1\" /><path clip-path=\"url(#clip670)\" d=\"M2270.21 473.243 L2288.57 473.243 L2288.57 477.179 L2274.5 477.179 L2274.5 485.651 Q2275.52 485.304 2276.53 485.142 Q2277.55 484.956 2278.57 484.956 Q2284.36 484.956 2287.74 488.128 Q2291.12 491.299 2291.12 496.716 Q2291.12 502.294 2287.64 505.396 Q2284.17 508.475 2277.85 508.475 Q2275.68 508.475 2273.41 508.104 Q2271.16 507.734 2268.76 506.993 L2268.76 502.294 Q2270.84 503.428 2273.06 503.984 Q2275.28 504.54 2277.76 504.54 Q2281.77 504.54 2284.1 502.433 Q2286.44 500.327 2286.44 496.716 Q2286.44 493.104 2284.1 490.998 Q2281.77 488.892 2277.76 488.892 Q2275.89 488.892 2274.01 489.308 Q2272.16 489.725 2270.21 490.604 L2270.21 473.243 Z\" fill=\"#000000\" fill-rule=\"evenodd\" fill-opacity=\"1\" /><path clip-path=\"url(#clip670)\" d=\"M2310.33 476.322 Q2306.72 476.322 2304.89 479.887 Q2303.08 483.429 2303.08 490.558 Q2303.08 497.665 2304.89 501.229 Q2306.72 504.771 2310.33 504.771 Q2313.96 504.771 2315.77 501.229 Q2317.6 497.665 2317.6 490.558 Q2317.6 483.429 2315.77 479.887 Q2313.96 476.322 2310.33 476.322 M2310.33 472.618 Q2316.14 472.618 2319.2 477.225 Q2322.27 481.808 2322.27 490.558 Q2322.27 499.285 2319.2 503.891 Q2316.14 508.475 2310.33 508.475 Q2304.52 508.475 2301.44 503.891 Q2298.39 499.285 2298.39 490.558 Q2298.39 481.808 2301.44 477.225 Q2304.52 472.618 2310.33 472.618 Z\" fill=\"#000000\" fill-rule=\"evenodd\" fill-opacity=\"1\" /><path clip-path=\"url(#clip670)\" d=\"M2340.49 476.322 Q2336.88 476.322 2335.05 479.887 Q2333.25 483.429 2333.25 490.558 Q2333.25 497.665 2335.05 501.229 Q2336.88 504.771 2340.49 504.771 Q2344.13 504.771 2345.93 501.229 Q2347.76 497.665 2347.76 490.558 Q2347.76 483.429 2345.93 479.887 Q2344.13 476.322 2340.49 476.322 M2340.49 472.618 Q2346.3 472.618 2349.36 477.225 Q2352.44 481.808 2352.44 490.558 Q2352.44 499.285 2349.36 503.891 Q2346.3 508.475 2340.49 508.475 Q2334.68 508.475 2331.6 503.891 Q2328.55 499.285 2328.55 490.558 Q2328.55 481.808 2331.6 477.225 Q2334.68 472.618 2340.49 472.618 Z\" fill=\"#000000\" fill-rule=\"evenodd\" fill-opacity=\"1\" /><path clip-path=\"url(#clip670)\" d=\"M2281.09 288.681 Q2277.95 288.681 2276.09 290.833 Q2274.27 292.986 2274.27 296.736 Q2274.27 300.463 2276.09 302.639 Q2277.95 304.792 2281.09 304.792 Q2284.24 304.792 2286.07 302.639 Q2287.92 300.463 2287.92 296.736 Q2287.92 292.986 2286.07 290.833 Q2284.24 288.681 2281.09 288.681 M2290.38 274.028 L2290.38 278.287 Q2288.62 277.454 2286.81 277.014 Q2285.03 276.574 2283.27 276.574 Q2278.64 276.574 2276.19 279.699 Q2273.76 282.824 2273.41 289.144 Q2274.77 287.13 2276.83 286.065 Q2278.89 284.977 2281.37 284.977 Q2286.58 284.977 2289.59 288.148 Q2292.62 291.296 2292.62 296.736 Q2292.62 302.06 2289.47 305.278 Q2286.33 308.495 2281.09 308.495 Q2275.1 308.495 2271.93 303.912 Q2268.76 299.306 2268.76 290.579 Q2268.76 282.384 2272.64 277.523 Q2276.53 272.639 2283.08 272.639 Q2284.84 272.639 2286.63 272.986 Q2288.43 273.334 2290.38 274.028 Z\" fill=\"#000000\" fill-rule=\"evenodd\" fill-opacity=\"1\" /><path clip-path=\"url(#clip670)\" d=\"M2310.68 276.343 Q2307.07 276.343 2305.24 279.908 Q2303.43 283.449 2303.43 290.579 Q2303.43 297.685 2305.24 301.25 Q2307.07 304.792 2310.68 304.792 Q2314.31 304.792 2316.12 301.25 Q2317.95 297.685 2317.95 290.579 Q2317.95 283.449 2316.12 279.908 Q2314.31 276.343 2310.68 276.343 M2310.68 272.639 Q2316.49 272.639 2319.54 277.246 Q2322.62 281.829 2322.62 290.579 Q2322.62 299.306 2319.54 303.912 Q2316.49 308.495 2310.68 308.495 Q2304.87 308.495 2301.79 303.912 Q2298.73 299.306 2298.73 290.579 Q2298.73 281.829 2301.79 277.246 Q2304.87 272.639 2310.68 272.639 Z\" fill=\"#000000\" fill-rule=\"evenodd\" fill-opacity=\"1\" /><path clip-path=\"url(#clip670)\" d=\"M2340.84 276.343 Q2337.23 276.343 2335.4 279.908 Q2333.59 283.449 2333.59 290.579 Q2333.59 297.685 2335.4 301.25 Q2337.23 304.792 2340.84 304.792 Q2344.47 304.792 2346.28 301.25 Q2348.11 297.685 2348.11 290.579 Q2348.11 283.449 2346.28 279.908 Q2344.47 276.343 2340.84 276.343 M2340.84 272.639 Q2346.65 272.639 2349.7 277.246 Q2352.78 281.829 2352.78 290.579 Q2352.78 299.306 2349.7 303.912 Q2346.65 308.495 2340.84 308.495 Q2335.03 308.495 2331.95 303.912 Q2328.89 299.306 2328.89 290.579 Q2328.89 281.829 2331.95 277.246 Q2335.03 272.639 2340.84 272.639 Z\" fill=\"#000000\" fill-rule=\"evenodd\" fill-opacity=\"1\" /><path clip-path=\"url(#clip670)\" d=\"M2268.76 73.2848 L2290.98 73.2848 L2290.98 75.2755 L2278.43 107.845 L2273.55 107.845 L2285.35 77.22 L2268.76 77.22 L2268.76 73.2848 Z\" fill=\"#000000\" fill-rule=\"evenodd\" fill-opacity=\"1\" /><path clip-path=\"url(#clip670)\" d=\"M2310.1 76.3635 Q2306.49 76.3635 2304.66 79.9283 Q2302.85 83.4699 2302.85 90.5995 Q2302.85 97.706 2304.66 101.271 Q2306.49 104.812 2310.1 104.812 Q2313.73 104.812 2315.54 101.271 Q2317.37 97.706 2317.37 90.5995 Q2317.37 83.4699 2315.54 79.9283 Q2313.73 76.3635 2310.1 76.3635 M2310.1 72.6598 Q2315.91 72.6598 2318.96 77.2663 Q2322.04 81.8496 2322.04 90.5995 Q2322.04 99.3263 2318.96 103.933 Q2315.91 108.516 2310.1 108.516 Q2304.29 108.516 2301.21 103.933 Q2298.15 99.3263 2298.15 90.5995 Q2298.15 81.8496 2301.21 77.2663 Q2304.29 72.6598 2310.1 72.6598 Z\" fill=\"#000000\" fill-rule=\"evenodd\" fill-opacity=\"1\" /><path clip-path=\"url(#clip670)\" d=\"M2340.26 76.3635 Q2336.65 76.3635 2334.82 79.9283 Q2333.01 83.4699 2333.01 90.5995 Q2333.01 97.706 2334.82 101.271 Q2336.65 104.812 2340.26 104.812 Q2343.89 104.812 2345.7 101.271 Q2347.53 97.706 2347.53 90.5995 Q2347.53 83.4699 2345.7 79.9283 Q2343.89 76.3635 2340.26 76.3635 M2340.26 72.6598 Q2346.07 72.6598 2349.13 77.2663 Q2352.2 81.8496 2352.2 90.5995 Q2352.2 99.3263 2349.13 103.933 Q2346.07 108.516 2340.26 108.516 Q2334.45 108.516 2331.37 103.933 Q2328.32 99.3263 2328.32 90.5995 Q2328.32 81.8496 2331.37 77.2663 Q2334.45 72.6598 2340.26 72.6598 Z\" fill=\"#000000\" fill-rule=\"evenodd\" fill-opacity=\"1\" /><polyline clip-path=\"url(#clip670)\" style=\"stroke:#000000; stroke-linecap:butt; stroke-linejoin:round; stroke-width:4; stroke-opacity:1; fill:none\" points=\"\n",
       "  2232.76,1486.45 2232.76,1294.07 2256.76,1294.07 2232.76,1294.07 2232.76,1094.09 2256.76,1094.09 2232.76,1094.09 2232.76,894.111 2256.76,894.111 2232.76,894.111 \n",
       "  2232.76,694.132 2256.76,694.132 2232.76,694.132 2232.76,494.152 2256.76,494.152 2232.76,494.152 2232.76,294.173 2256.76,294.173 2232.76,294.173 2232.76,94.1936 \n",
       "  2256.76,94.1936 2232.76,94.1936 2232.76,47.2441 \n",
       "  \"/>\n",
       "<path clip-path=\"url(#clip670)\" d=\"\n",
       "M1473.62 216.178 L2047.3 216.178 L2047.3 95.2176 L1473.62 95.2176  Z\n",
       "  \" fill=\"#ffffff\" fill-rule=\"evenodd\" fill-opacity=\"1\"/>\n",
       "<polyline clip-path=\"url(#clip670)\" style=\"stroke:#000000; stroke-linecap:butt; stroke-linejoin:round; stroke-width:4; stroke-opacity:1; fill:none\" points=\"\n",
       "  1473.62,216.178 2047.3,216.178 2047.3,95.2176 1473.62,95.2176 1473.62,216.178 \n",
       "  \"/>\n",
       "<circle clip-path=\"url(#clip670)\" cx=\"1560.89\" cy=\"155.698\" r=\"23\" fill=\"#ff0000\" fill-rule=\"evenodd\" fill-opacity=\"1\" stroke=\"#000000\" stroke-opacity=\"1\" stroke-width=\"5.12\"/>\n",
       "<path clip-path=\"url(#clip670)\" d=\"M1668.51 152.029 Q1670.11 149.158 1672.33 147.793 Q1674.55 146.427 1677.56 146.427 Q1681.61 146.427 1683.81 149.274 Q1686.01 152.098 1686.01 157.329 L1686.01 172.978 L1681.73 172.978 L1681.73 157.468 Q1681.73 153.742 1680.41 151.936 Q1679.09 150.13 1676.38 150.13 Q1673.07 150.13 1671.15 152.33 Q1669.23 154.529 1669.23 158.325 L1669.23 172.978 L1664.94 172.978 L1664.94 157.468 Q1664.94 153.718 1663.62 151.936 Q1662.31 150.13 1659.55 150.13 Q1656.29 150.13 1654.37 152.353 Q1652.44 154.552 1652.44 158.325 L1652.44 172.978 L1648.16 172.978 L1648.16 147.052 L1652.44 147.052 L1652.44 151.08 Q1653.9 148.695 1655.94 147.561 Q1657.98 146.427 1660.78 146.427 Q1663.6 146.427 1665.57 147.862 Q1667.56 149.297 1668.51 152.029 Z\" fill=\"#000000\" fill-rule=\"evenodd\" fill-opacity=\"1\" /><path clip-path=\"url(#clip670)\" d=\"M1694.5 147.052 L1698.76 147.052 L1698.76 172.978 L1694.5 172.978 L1694.5 147.052 M1694.5 136.959 L1698.76 136.959 L1698.76 142.353 L1694.5 142.353 L1694.5 136.959 Z\" fill=\"#000000\" fill-rule=\"evenodd\" fill-opacity=\"1\" /><path clip-path=\"url(#clip670)\" d=\"M1729.23 157.329 L1729.23 172.978 L1724.97 172.978 L1724.97 157.468 Q1724.97 153.788 1723.53 151.959 Q1722.1 150.13 1719.23 150.13 Q1715.78 150.13 1713.79 152.33 Q1711.8 154.529 1711.8 158.325 L1711.8 172.978 L1707.51 172.978 L1707.51 147.052 L1711.8 147.052 L1711.8 151.08 Q1713.32 148.742 1715.38 147.584 Q1717.47 146.427 1720.18 146.427 Q1724.64 146.427 1726.93 149.205 Q1729.23 151.959 1729.23 157.329 Z\" fill=\"#000000\" fill-rule=\"evenodd\" fill-opacity=\"1\" /><path clip-path=\"url(#clip670)\" d=\"M1737.72 147.052 L1741.98 147.052 L1741.98 172.978 L1737.72 172.978 L1737.72 147.052 M1737.72 136.959 L1741.98 136.959 L1741.98 142.353 L1737.72 142.353 L1737.72 136.959 Z\" fill=\"#000000\" fill-rule=\"evenodd\" fill-opacity=\"1\" /><path clip-path=\"url(#clip670)\" d=\"M1771.08 152.029 Q1772.67 149.158 1774.9 147.793 Q1777.12 146.427 1780.13 146.427 Q1784.18 146.427 1786.38 149.274 Q1788.58 152.098 1788.58 157.329 L1788.58 172.978 L1784.3 172.978 L1784.3 157.468 Q1784.3 153.742 1782.98 151.936 Q1781.66 150.13 1778.95 150.13 Q1775.64 150.13 1773.72 152.33 Q1771.8 154.529 1771.8 158.325 L1771.8 172.978 L1767.51 172.978 L1767.51 157.468 Q1767.51 153.718 1766.19 151.936 Q1764.87 150.13 1762.12 150.13 Q1758.86 150.13 1756.93 152.353 Q1755.01 154.552 1755.01 158.325 L1755.01 172.978 L1750.73 172.978 L1750.73 147.052 L1755.01 147.052 L1755.01 151.08 Q1756.47 148.695 1758.51 147.561 Q1760.55 146.427 1763.35 146.427 Q1766.17 146.427 1768.14 147.862 Q1770.13 149.297 1771.08 152.029 Z\" fill=\"#000000\" fill-rule=\"evenodd\" fill-opacity=\"1\" /><path clip-path=\"url(#clip670)\" d=\"M1796.63 162.746 L1796.63 147.052 L1800.89 147.052 L1800.89 162.584 Q1800.89 166.265 1802.33 168.116 Q1803.76 169.945 1806.63 169.945 Q1810.08 169.945 1812.07 167.746 Q1814.09 165.547 1814.09 161.751 L1814.09 147.052 L1818.35 147.052 L1818.35 172.978 L1814.09 172.978 L1814.09 168.996 Q1812.54 171.357 1810.48 172.515 Q1808.44 173.649 1805.73 173.649 Q1801.26 173.649 1798.95 170.871 Q1796.63 168.093 1796.63 162.746 M1807.35 146.427 L1807.35 146.427 Z\" fill=\"#000000\" fill-rule=\"evenodd\" fill-opacity=\"1\" /><path clip-path=\"url(#clip670)\" d=\"M1847.3 152.029 Q1848.9 149.158 1851.12 147.793 Q1853.35 146.427 1856.35 146.427 Q1860.41 146.427 1862.6 149.274 Q1864.8 152.098 1864.8 157.329 L1864.8 172.978 L1860.52 172.978 L1860.52 157.468 Q1860.52 153.742 1859.2 151.936 Q1857.88 150.13 1855.17 150.13 Q1851.86 150.13 1849.94 152.33 Q1848.02 154.529 1848.02 158.325 L1848.02 172.978 L1843.74 172.978 L1843.74 157.468 Q1843.74 153.718 1842.42 151.936 Q1841.1 150.13 1838.35 150.13 Q1835.08 150.13 1833.16 152.353 Q1831.24 154.552 1831.24 158.325 L1831.24 172.978 L1826.96 172.978 L1826.96 147.052 L1831.24 147.052 L1831.24 151.08 Q1832.7 148.695 1834.73 147.561 Q1836.77 146.427 1839.57 146.427 Q1842.4 146.427 1844.36 147.862 Q1846.35 149.297 1847.3 152.029 Z\" fill=\"#000000\" fill-rule=\"evenodd\" fill-opacity=\"1\" /><path clip-path=\"url(#clip670)\" d=\"M1892.49 169.089 L1892.49 182.839 L1888.21 182.839 L1888.21 147.052 L1892.49 147.052 L1892.49 150.987 Q1893.83 148.672 1895.87 147.561 Q1897.93 146.427 1900.78 146.427 Q1905.5 146.427 1908.44 150.177 Q1911.4 153.927 1911.4 160.038 Q1911.4 166.149 1908.44 169.899 Q1905.5 173.649 1900.78 173.649 Q1897.93 173.649 1895.87 172.538 Q1893.83 171.403 1892.49 169.089 M1906.98 160.038 Q1906.98 155.339 1905.04 152.677 Q1903.11 149.992 1899.73 149.992 Q1896.35 149.992 1894.41 152.677 Q1892.49 155.339 1892.49 160.038 Q1892.49 164.737 1894.41 167.422 Q1896.35 170.084 1899.73 170.084 Q1903.11 170.084 1905.04 167.422 Q1906.98 164.737 1906.98 160.038 Z\" fill=\"#000000\" fill-rule=\"evenodd\" fill-opacity=\"1\" /><path clip-path=\"url(#clip670)\" d=\"M1928.51 150.038 Q1925.08 150.038 1923.09 152.723 Q1921.1 155.385 1921.1 160.038 Q1921.1 164.691 1923.07 167.376 Q1925.06 170.038 1928.51 170.038 Q1931.91 170.038 1933.9 167.353 Q1935.89 164.667 1935.89 160.038 Q1935.89 155.431 1933.9 152.746 Q1931.91 150.038 1928.51 150.038 M1928.51 146.427 Q1934.06 146.427 1937.23 150.038 Q1940.41 153.649 1940.41 160.038 Q1940.41 166.404 1937.23 170.038 Q1934.06 173.649 1928.51 173.649 Q1922.93 173.649 1919.76 170.038 Q1916.61 166.404 1916.61 160.038 Q1916.61 153.649 1919.76 150.038 Q1922.93 146.427 1928.51 146.427 Z\" fill=\"#000000\" fill-rule=\"evenodd\" fill-opacity=\"1\" /><path clip-path=\"url(#clip670)\" d=\"M1947.47 147.052 L1951.72 147.052 L1951.72 172.978 L1947.47 172.978 L1947.47 147.052 M1947.47 136.959 L1951.72 136.959 L1951.72 142.353 L1947.47 142.353 L1947.47 136.959 Z\" fill=\"#000000\" fill-rule=\"evenodd\" fill-opacity=\"1\" /><path clip-path=\"url(#clip670)\" d=\"M1982.19 157.329 L1982.19 172.978 L1977.93 172.978 L1977.93 157.468 Q1977.93 153.788 1976.49 151.959 Q1975.06 150.13 1972.19 150.13 Q1968.74 150.13 1966.75 152.33 Q1964.76 154.529 1964.76 158.325 L1964.76 172.978 L1960.47 172.978 L1960.47 147.052 L1964.76 147.052 L1964.76 151.08 Q1966.28 148.742 1968.35 147.584 Q1970.43 146.427 1973.14 146.427 Q1977.6 146.427 1979.9 149.205 Q1982.19 151.959 1982.19 157.329 Z\" fill=\"#000000\" fill-rule=\"evenodd\" fill-opacity=\"1\" /><path clip-path=\"url(#clip670)\" d=\"M1994.9 139.691 L1994.9 147.052 L2003.67 147.052 L2003.67 150.362 L1994.9 150.362 L1994.9 164.436 Q1994.9 167.607 1995.75 168.51 Q1996.63 169.413 1999.29 169.413 L2003.67 169.413 L2003.67 172.978 L1999.29 172.978 Q1994.36 172.978 1992.49 171.149 Q1990.61 169.297 1990.61 164.436 L1990.61 150.362 L1987.49 150.362 L1987.49 147.052 L1990.61 147.052 L1990.61 139.691 L1994.9 139.691 Z\" fill=\"#000000\" fill-rule=\"evenodd\" fill-opacity=\"1\" /></svg>\n"
      ]
     },
     "execution_count": 60,
     "metadata": {},
     "output_type": "execute_result"
    }
   ],
   "source": [
    "using Plots, Random\n",
    "Random.seed!(0)\n",
    "A = rand(25,2)\n",
    "b = rand(25)\n",
    "x1Grid = -5:0.1:5\n",
    "x2Grid = -5:0.1:5\n",
    "L(x1,x2) = norm(A*[x1,x2]-b)^2 #Loss (how much we loose for every [x1,x2])\n",
    "z = [L(x1,x2) for x1 in x1Grid, x2 in x2Grid]\n",
    "contour(x1Grid,x2Grid,z)\n",
    "xHat = pinv(A)*b\n",
    "@show xHat\n",
    "scatter!([xHat[1]],[xHat[2]],c=:red,label=\"minimum point\")"
   ]
  },
  {
   "cell_type": "code",
   "execution_count": 61,
   "metadata": {},
   "outputs": [
    {
     "data": {
      "text/plain": [
       "2-element Vector{Float64}:\n",
       " 0.2887752715890732\n",
       " 0.47835294435989273"
      ]
     },
     "execution_count": 61,
     "metadata": {},
     "output_type": "execute_result"
    }
   ],
   "source": [
    "xHat"
   ]
  },
  {
   "cell_type": "markdown",
   "metadata": {},
   "source": [
    "$$\n",
    "\\begin{aligned} \\nabla f(x)_{k} &=\\frac{\\partial f}{\\partial x_{k}}(x) \\\\ &=\\sum_{i=1}^{m} 2\\left(\\sum_{j=1}^{n} A_{i j} x_{j}-b_{i}\\right)\\left(A_{i k}\\right) \\\\ &=\\sum_{i=1}^{m} 2\\left(A^{T}\\right)_{k i}(A x-b)_{i} \\\\ &=\\left(2 A^{T}(A x-b)\\right)_{k} \\end{aligned}\n",
    "$$"
   ]
  },
  {
   "cell_type": "markdown",
   "metadata": {},
   "source": [
    "\n",
    "## Now if $A = QR$?\n",
    "**complete...**"
   ]
  },
  {
   "cell_type": "markdown",
   "metadata": {},
   "source": [
    "## Least Squares Data Fitting"
   ]
  },
  {
   "cell_type": "markdown",
   "metadata": {},
   "source": [
    "From [SWJ] - Listing 8.2:"
   ]
  },
  {
   "cell_type": "code",
   "execution_count": 74,
   "metadata": {},
   "outputs": [
    {
     "ename": "LoadError",
     "evalue": "ArgumentError: provide a valid sink argument, like `using DataFrames; CSV.read(source, DataFrame)`",
     "output_type": "error",
     "traceback": [
      "ArgumentError: provide a valid sink argument, like `using DataFrames; CSV.read(source, DataFrame)`",
      "",
      "Stacktrace:",
      " [1] read(source::String, sink::Nothing; copycols::Bool, kwargs::Base.Pairs{Symbol, Union{}, Tuple{}, NamedTuple{(), Tuple{}}})",
      "   @ CSV ~/.julia/packages/CSV/Zl2ww/src/CSV.jl:43",
      " [2] read(source::String, sink::Nothing) (repeats 2 times)",
      "   @ CSV ~/.julia/packages/CSV/Zl2ww/src/CSV.jl:42",
      " [3] top-level scope",
      "   @ In[74]:2",
      " [4] eval",
      "   @ ./boot.jl:373 [inlined]",
      " [5] include_string(mapexpr::typeof(REPL.softscope), mod::Module, code::String, filename::String)",
      "   @ Base ./loading.jl:1196"
     ]
    }
   ],
   "source": [
    "using DataFrames, GLM, Statistics, LinearAlgebra, CSV\n",
    "data = CSV.read(\"L1L2data.csv\")\n",
    "xVals, yVals = data[:,1], data[:,2]\n",
    "n = length(xVals)\n",
    "A = [ones(n) xVals]\n",
    "\n",
    "# Approach A\n",
    "xBar, yBar = mean(xVals),mean(yVals)\n",
    "sXX, sXY = ones(n)'*(xVals.-xBar).^2 , dot(xVals.-xBar,yVals.-yBar)\n",
    "b1A = sXY/sXX\n",
    "b0A = yBar - b1A*xBar\n",
    "\n",
    "# Approach B\n",
    "b1B = cor(xVals,yVals)*(std(yVals)/std(xVals))\n",
    "b0B = yBar - b1B*xBar\n",
    "\n",
    "# Approach C\n",
    "b0C, b1C = A'A \\ A'yVals\n",
    "\n",
    "# Approach D\n",
    "Adag = inv(A'*A)*A'\n",
    "b0D, b1D = Adag*yVals\n",
    "\n",
    "# Approach E\n",
    "b0E, b1E = pinv(A)*yVals\n",
    "\n",
    "# Approach F\n",
    "b0F, b1F = A\\yVals\n",
    "\n",
    "# Approach G\n",
    "F = qr(A)\n",
    "Q, R = F.Q, F.R\n",
    "b0G, b1G = (inv(R)*Q')*yVals\n",
    "\n",
    "# Approach H\n",
    "F = svd(A)\n",
    "V, Sp, Us = F.V, Diagonal(1 ./ F.S), F.U'\n",
    "b0H, b1H = (V*Sp*Us)*yVals\n",
    "\n",
    "# Approach I\n",
    "eta, eps = 0.002, 10^-6.\n",
    "b, bPrev = [0,0], [1,1]\n",
    "while norm(bPrev-b) >= eps\n",
    "    global bPrev = b\n",
    "    global b = b - eta*2*A'*(A*b - yVals)\n",
    "end\n",
    "b0I, b1I = b[1], b[2]\n",
    "\n",
    "# Approach J\n",
    "modelJ = lm(@formula(Y ~ X), data)\n",
    "b0J, b1J = coef(modelJ)\n",
    "\n",
    "# Approach K\n",
    "modelK = glm(@formula(Y ~ X), data, Normal())\n",
    "b0K, b1K = coef(modelK)\n",
    "println(round.([b0A,b0B,b0C,b0D,b0E,b0F,b0G,b0H,b0I,b0J,b0K],digits=3))\n",
    "println(round.([b1A,b1B,b1C,b1D,b1E,b1F,b1G,b1H,b1I,b1J,b1K],digits=3))"
   ]
  }
 ],
 "metadata": {
  "@webio": {
   "lastCommId": null,
   "lastKernelId": null
  },
  "kernelspec": {
   "display_name": "Julia 1.8.0-DEV",
   "language": "julia",
   "name": "julia-1.8"
  },
  "language_info": {
   "file_extension": ".jl",
   "mimetype": "application/julia",
   "name": "julia",
   "version": "1.8.0"
  }
 },
 "nbformat": 4,
 "nbformat_minor": 4
}
