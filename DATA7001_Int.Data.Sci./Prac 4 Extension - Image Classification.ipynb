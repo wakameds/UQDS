{
 "cells": [
  {
   "cell_type": "markdown",
   "metadata": {},
   "source": [
    "# Extension\n",
    "\n",
    "The goal of image classification is to segment an image into different classes.  \n",
    "In this extension, we look at classifying an aerial photograph into four classes: Grass, Road, Roof, and Trees.\n",
    "\n",
    "This is achieved by training a tree-based classifier on tagged sample images from the four classes.\n",
    "The classifier is then tested on an aerial photograph.\n",
    "\n",
    "This extension is courtesy of Dr. Dan Pagendam (CSIRO Data 61).\n",
    "\n",
    "Please note: the code is not optimised for speed; rather, it is designed for readability.\n",
    "**Beware**: The first code segment takes ~ 10-20 minutes to run and requires a large amount of memory (~5.5 Gb).\n",
    "\n",
    "The typical code and output is presented in a read only format at the following address:\n",
    "\n",
    "http://stluc.manta.uqcloud.net/mdatascience/public/html/Prac%204%20Extension%20-%20Image%20Classification.html\n",
    "\n",
    "To explore the effect of changing code, training images, and test images, you will need to run it on your own device."
   ]
  }
 ],
 "metadata": {
  "kernelspec": {
   "display_name": "R",
   "language": "R",
   "name": "ir"
  },
  "language_info": {
   "codemirror_mode": "r",
   "file_extension": ".r",
   "mimetype": "text/x-r-source",
   "name": "R",
   "pygments_lexer": "r",
   "version": "3.3.3"
  }
 },
 "nbformat": 4,
 "nbformat_minor": 2
}
