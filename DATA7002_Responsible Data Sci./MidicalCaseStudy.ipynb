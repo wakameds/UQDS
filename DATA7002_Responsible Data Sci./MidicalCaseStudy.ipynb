{
 "cells": [
  {
   "cell_type": "code",
   "execution_count": 3,
   "metadata": {},
   "outputs": [],
   "source": [
    "import numpy as np\n",
    "from numpy.random import seed\n",
    "from scipy.stats import friedmanchisquare\n",
    "import matplotlib.pyplot as plt\n",
    "# seed the random number generator\n",
    "\n",
    "\n"
   ]
  },
  {
   "cell_type": "code",
   "execution_count": 4,
   "metadata": {},
   "outputs": [],
   "source": [
    "def CreateData(n,p):\n",
    "    arr = np.zeros(n)\n",
    "    for i in range(n):\n",
    "        if(np.random.rand()<p):\n",
    "            arr[i] = 1\n",
    "    return arr\n"
   ]
  },
  {
   "cell_type": "code",
   "execution_count": 5,
   "metadata": {},
   "outputs": [],
   "source": [
    "# sample size\n",
    "seed(1)\n",
    "n = 50\n",
    "\n",
    "means = [0.25, 0.23, 0.27, 0.31, 0.28]\n",
    "\n",
    "\n",
    "data1 = CreateData(n,means[0])\n",
    "data2 = CreateData(n,means[1])\n",
    "data3 = CreateData(n,means[2])\n",
    "data4 = CreateData(n,means[3])\n",
    "data5 = CreateData(n,means[4])"
   ]
  },
  {
   "cell_type": "code",
   "execution_count": 14,
   "metadata": {},
   "outputs": [
    {
     "data": {
      "image/png": "[encoded data removed]",
      "text/plain": [
       "<Figure size 432x288 with 1 Axes>"
      ]
     },
     "metadata": {
      "needs_background": "light"
     },
     "output_type": "display_data"
    }
   ],
   "source": [
    "# plot\n",
    "summaryMean = [np.mean(data1), np.mean(data2),np.mean(data3), \\\n",
    "           np.mean(data4),np.mean(data5)]\n",
    "\n",
    "summaryStd = [np.std(data1), np.std(data2),np.std(data3), \\\n",
    "           np.std(data4),np.std(data5)]\n",
    "\n",
    "summaryStd = summaryStd/np.sqrt(n)\n",
    "\n",
    "fig = plt.figure()\n",
    "ax = fig.add_subplot(111)\n",
    "\n",
    "ax.bar(np.arange(5)+1, summaryMean, 0.35,\n",
    "                color='black')\n",
    "\n",
    "plt.xlabel(\"location\")\n",
    "plt.ylabel(\"infcetion percentage\")\n",
    "\n",
    "plt.xlabel(\"location\")\n",
    "plt.show()"
   ]
  },
  {
   "cell_type": "code",
   "execution_count": 17,
   "metadata": {},
   "outputs": [
    {
     "data": {
      "image/png": "[encoded data removed]",
      "text/plain": [
       "<Figure size 432x288 with 1 Axes>"
      ]
     },
     "metadata": {
      "needs_background": "light"
     },
     "output_type": "display_data"
    }
   ],
   "source": [
    "fig = plt.figure()\n",
    "ax = fig.add_subplot(111)\n",
    "\n",
    "\n",
    "ax.bar(np.arange(5)+1, summaryMean, 0.35,\n",
    "                color='black',\n",
    "                yerr=summaryStd,\n",
    "                error_kw=dict(elinewidth=2,ecolor='red'))\n",
    "\n",
    "plt.xlabel(\"location\")\n",
    "plt.ylabel(\"infcetion percentage\")\n",
    "plt.show()\n"
   ]
  },
  {
   "cell_type": "code",
   "execution_count": 23,
   "metadata": {},
   "outputs": [
    {
     "name": "stdout",
     "output_type": "stream",
     "text": [
      "Statistics=6.392, p=0.172\n",
      "Same distributions (fail to reject H0)\n"
     ]
    }
   ],
   "source": [
    "stat, p = friedmanchisquare(data1, data2,data3,data4,data5)\n",
    "print('Statistics=%.3f, p=%.3f' % (stat, p))\n",
    "# interpret\n",
    "alpha = 0.05\n",
    "if p > alpha:\n",
    "\tprint('Same distributions (fail to reject H0)')\n",
    "else:\n",
    "\tprint('Different distributions (reject H0)')"
   ]
  },
  {
   "cell_type": "code",
   "execution_count": null,
   "metadata": {},
   "outputs": [],
   "source": []
  }
 ],
 "metadata": {
  "kernelspec": {
   "display_name": "Python 3",
   "language": "python",
   "name": "python3"
  },
  "language_info": {
   "codemirror_mode": {
    "name": "ipython",
    "version": 3
   },
   "file_extension": ".py",
   "mimetype": "text/x-python",
   "name": "python",
   "nbconvert_exporter": "python",
   "pygments_lexer": "ipython3",
   "version": "3.7.6"
  }
 },
 "nbformat": 4,
 "nbformat_minor": 2
}
