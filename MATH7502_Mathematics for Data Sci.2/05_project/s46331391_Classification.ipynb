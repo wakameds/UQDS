{
 "cells": [
  {
   "cell_type": "markdown",
   "metadata": {},
   "source": [
    "## Classification"
   ]
  },
  {
   "cell_type": "markdown",
   "metadata": {},
   "source": [
    "The jupyter notebook will provide the code and the results for least-square classification."
   ]
  },
  {
   "cell_type": "code",
   "execution_count": 19,
   "metadata": {
    "scrolled": true
   },
   "outputs": [
    {
     "data": {
      "text/plain": [
       "partitionTrainTest (generic function with 2 methods)"
      ]
     },
     "execution_count": 19,
     "metadata": {},
     "output_type": "execute_result"
    }
   ],
   "source": [
    "#random selection for train and test dataset\n",
    "function partitionTrainTest(data, at = 0.7)\n",
    "    n = nrow(data)\n",
    "    idx = shuffle(1:n)\n",
    "    train_idx = view(idx, 1:floor(Int, at*n))\n",
    "    test_idx = view(idx, (floor(Int, at*n)+1):n)\n",
    "    data[train_idx,:], data[test_idx,:]\n",
    "end"
   ]
  },
  {
   "cell_type": "markdown",
   "metadata": {},
   "source": [
    "The code installs the dataset with \"iris\", which is introduced by Ronald Fisher in his 1936 paper. The data is containing 3 classes and 4 features with each sample."
   ]
  },
  {
   "cell_type": "code",
   "execution_count": 20,
   "metadata": {
    "scrolled": false
   },
   "outputs": [
    {
     "data": {
      "text/html": [
       "<table class=\"data-frame\"><thead><tr><th></th><th>SepalLength</th><th>SepalWidth</th><th>PetalLength</th><th>PetalWidth</th><th>Species</th></tr><tr><th></th><th>Float64</th><th>Float64</th><th>Float64</th><th>Float64</th><th>Cat…</th></tr></thead><tbody><p>150 rows × 5 columns</p><tr><th>1</th><td>5.1</td><td>3.5</td><td>1.4</td><td>0.2</td><td>setosa</td></tr><tr><th>2</th><td>4.9</td><td>3.0</td><td>1.4</td><td>0.2</td><td>setosa</td></tr><tr><th>3</th><td>4.7</td><td>3.2</td><td>1.3</td><td>0.2</td><td>setosa</td></tr><tr><th>4</th><td>4.6</td><td>3.1</td><td>1.5</td><td>0.2</td><td>setosa</td></tr><tr><th>5</th><td>5.0</td><td>3.6</td><td>1.4</td><td>0.2</td><td>setosa</td></tr><tr><th>6</th><td>5.4</td><td>3.9</td><td>1.7</td><td>0.4</td><td>setosa</td></tr><tr><th>7</th><td>4.6</td><td>3.4</td><td>1.4</td><td>0.3</td><td>setosa</td></tr><tr><th>8</th><td>5.0</td><td>3.4</td><td>1.5</td><td>0.2</td><td>setosa</td></tr><tr><th>9</th><td>4.4</td><td>2.9</td><td>1.4</td><td>0.2</td><td>setosa</td></tr><tr><th>10</th><td>4.9</td><td>3.1</td><td>1.5</td><td>0.1</td><td>setosa</td></tr><tr><th>11</th><td>5.4</td><td>3.7</td><td>1.5</td><td>0.2</td><td>setosa</td></tr><tr><th>12</th><td>4.8</td><td>3.4</td><td>1.6</td><td>0.2</td><td>setosa</td></tr><tr><th>13</th><td>4.8</td><td>3.0</td><td>1.4</td><td>0.1</td><td>setosa</td></tr><tr><th>14</th><td>4.3</td><td>3.0</td><td>1.1</td><td>0.1</td><td>setosa</td></tr><tr><th>15</th><td>5.8</td><td>4.0</td><td>1.2</td><td>0.2</td><td>setosa</td></tr><tr><th>16</th><td>5.7</td><td>4.4</td><td>1.5</td><td>0.4</td><td>setosa</td></tr><tr><th>17</th><td>5.4</td><td>3.9</td><td>1.3</td><td>0.4</td><td>setosa</td></tr><tr><th>18</th><td>5.1</td><td>3.5</td><td>1.4</td><td>0.3</td><td>setosa</td></tr><tr><th>19</th><td>5.7</td><td>3.8</td><td>1.7</td><td>0.3</td><td>setosa</td></tr><tr><th>20</th><td>5.1</td><td>3.8</td><td>1.5</td><td>0.3</td><td>setosa</td></tr><tr><th>21</th><td>5.4</td><td>3.4</td><td>1.7</td><td>0.2</td><td>setosa</td></tr><tr><th>22</th><td>5.1</td><td>3.7</td><td>1.5</td><td>0.4</td><td>setosa</td></tr><tr><th>23</th><td>4.6</td><td>3.6</td><td>1.0</td><td>0.2</td><td>setosa</td></tr><tr><th>24</th><td>5.1</td><td>3.3</td><td>1.7</td><td>0.5</td><td>setosa</td></tr><tr><th>25</th><td>4.8</td><td>3.4</td><td>1.9</td><td>0.2</td><td>setosa</td></tr><tr><th>26</th><td>5.0</td><td>3.0</td><td>1.6</td><td>0.2</td><td>setosa</td></tr><tr><th>27</th><td>5.0</td><td>3.4</td><td>1.6</td><td>0.4</td><td>setosa</td></tr><tr><th>28</th><td>5.2</td><td>3.5</td><td>1.5</td><td>0.2</td><td>setosa</td></tr><tr><th>29</th><td>5.2</td><td>3.4</td><td>1.4</td><td>0.2</td><td>setosa</td></tr><tr><th>30</th><td>4.7</td><td>3.2</td><td>1.6</td><td>0.2</td><td>setosa</td></tr><tr><th>&vellip;</th><td>&vellip;</td><td>&vellip;</td><td>&vellip;</td><td>&vellip;</td><td>&vellip;</td></tr></tbody></table>"
      ],
      "text/latex": [
       "\\begin{tabular}{r|ccccc}\n",
       "\t& SepalLength & SepalWidth & PetalLength & PetalWidth & Species\\\\\n",
       "\t\\hline\n",
       "\t& Float64 & Float64 & Float64 & Float64 & Cat…\\\\\n",
       "\t\\hline\n",
       "\t1 & 5.1 & 3.5 & 1.4 & 0.2 & setosa \\\\\n",
       "\t2 & 4.9 & 3.0 & 1.4 & 0.2 & setosa \\\\\n",
       "\t3 & 4.7 & 3.2 & 1.3 & 0.2 & setosa \\\\\n",
       "\t4 & 4.6 & 3.1 & 1.5 & 0.2 & setosa \\\\\n",
       "\t5 & 5.0 & 3.6 & 1.4 & 0.2 & setosa \\\\\n",
       "\t6 & 5.4 & 3.9 & 1.7 & 0.4 & setosa \\\\\n",
       "\t7 & 4.6 & 3.4 & 1.4 & 0.3 & setosa \\\\\n",
       "\t8 & 5.0 & 3.4 & 1.5 & 0.2 & setosa \\\\\n",
       "\t9 & 4.4 & 2.9 & 1.4 & 0.2 & setosa \\\\\n",
       "\t10 & 4.9 & 3.1 & 1.5 & 0.1 & setosa \\\\\n",
       "\t11 & 5.4 & 3.7 & 1.5 & 0.2 & setosa \\\\\n",
       "\t12 & 4.8 & 3.4 & 1.6 & 0.2 & setosa \\\\\n",
       "\t13 & 4.8 & 3.0 & 1.4 & 0.1 & setosa \\\\\n",
       "\t14 & 4.3 & 3.0 & 1.1 & 0.1 & setosa \\\\\n",
       "\t15 & 5.8 & 4.0 & 1.2 & 0.2 & setosa \\\\\n",
       "\t16 & 5.7 & 4.4 & 1.5 & 0.4 & setosa \\\\\n",
       "\t17 & 5.4 & 3.9 & 1.3 & 0.4 & setosa \\\\\n",
       "\t18 & 5.1 & 3.5 & 1.4 & 0.3 & setosa \\\\\n",
       "\t19 & 5.7 & 3.8 & 1.7 & 0.3 & setosa \\\\\n",
       "\t20 & 5.1 & 3.8 & 1.5 & 0.3 & setosa \\\\\n",
       "\t21 & 5.4 & 3.4 & 1.7 & 0.2 & setosa \\\\\n",
       "\t22 & 5.1 & 3.7 & 1.5 & 0.4 & setosa \\\\\n",
       "\t23 & 4.6 & 3.6 & 1.0 & 0.2 & setosa \\\\\n",
       "\t24 & 5.1 & 3.3 & 1.7 & 0.5 & setosa \\\\\n",
       "\t25 & 4.8 & 3.4 & 1.9 & 0.2 & setosa \\\\\n",
       "\t26 & 5.0 & 3.0 & 1.6 & 0.2 & setosa \\\\\n",
       "\t27 & 5.0 & 3.4 & 1.6 & 0.4 & setosa \\\\\n",
       "\t28 & 5.2 & 3.5 & 1.5 & 0.2 & setosa \\\\\n",
       "\t29 & 5.2 & 3.4 & 1.4 & 0.2 & setosa \\\\\n",
       "\t30 & 4.7 & 3.2 & 1.6 & 0.2 & setosa \\\\\n",
       "\t$\\dots$ & $\\dots$ & $\\dots$ & $\\dots$ & $\\dots$ & $\\dots$ \\\\\n",
       "\\end{tabular}\n"
      ],
      "text/plain": [
       "150×5 DataFrame\n",
       "│ Row │ SepalLength │ SepalWidth │ PetalLength │ PetalWidth │ Species   │\n",
       "│     │ \u001b[90mFloat64\u001b[39m     │ \u001b[90mFloat64\u001b[39m    │ \u001b[90mFloat64\u001b[39m     │ \u001b[90mFloat64\u001b[39m    │ \u001b[90mCat…\u001b[39m      │\n",
       "├─────┼─────────────┼────────────┼─────────────┼────────────┼───────────┤\n",
       "│ 1   │ 5.1         │ 3.5        │ 1.4         │ 0.2        │ setosa    │\n",
       "│ 2   │ 4.9         │ 3.0        │ 1.4         │ 0.2        │ setosa    │\n",
       "│ 3   │ 4.7         │ 3.2        │ 1.3         │ 0.2        │ setosa    │\n",
       "│ 4   │ 4.6         │ 3.1        │ 1.5         │ 0.2        │ setosa    │\n",
       "│ 5   │ 5.0         │ 3.6        │ 1.4         │ 0.2        │ setosa    │\n",
       "│ 6   │ 5.4         │ 3.9        │ 1.7         │ 0.4        │ setosa    │\n",
       "│ 7   │ 4.6         │ 3.4        │ 1.4         │ 0.3        │ setosa    │\n",
       "│ 8   │ 5.0         │ 3.4        │ 1.5         │ 0.2        │ setosa    │\n",
       "│ 9   │ 4.4         │ 2.9        │ 1.4         │ 0.2        │ setosa    │\n",
       "│ 10  │ 4.9         │ 3.1        │ 1.5         │ 0.1        │ setosa    │\n",
       "⋮\n",
       "│ 140 │ 6.9         │ 3.1        │ 5.4         │ 2.1        │ virginica │\n",
       "│ 141 │ 6.7         │ 3.1        │ 5.6         │ 2.4        │ virginica │\n",
       "│ 142 │ 6.9         │ 3.1        │ 5.1         │ 2.3        │ virginica │\n",
       "│ 143 │ 5.8         │ 2.7        │ 5.1         │ 1.9        │ virginica │\n",
       "│ 144 │ 6.8         │ 3.2        │ 5.9         │ 2.3        │ virginica │\n",
       "│ 145 │ 6.7         │ 3.3        │ 5.7         │ 2.5        │ virginica │\n",
       "│ 146 │ 6.7         │ 3.0        │ 5.2         │ 2.3        │ virginica │\n",
       "│ 147 │ 6.3         │ 2.5        │ 5.0         │ 1.9        │ virginica │\n",
       "│ 148 │ 6.5         │ 3.0        │ 5.2         │ 2.0        │ virginica │\n",
       "│ 149 │ 6.2         │ 3.4        │ 5.4         │ 2.3        │ virginica │\n",
       "│ 150 │ 5.9         │ 3.0        │ 5.1         │ 1.8        │ virginica │"
      ]
     },
     "execution_count": 20,
     "metadata": {},
     "output_type": "execute_result"
    }
   ],
   "source": [
    "using Flux, LinearAlgebra, RDatasets, Random\n",
    "using Flux: onehotbatch\n",
    "\n",
    "# set iris dataset\n",
    "iris = dataset(\"datasets\", \"iris\")"
   ]
  },
  {
   "cell_type": "markdown",
   "metadata": {},
   "source": [
    "Create quantify label. The lavel of \"setosa\" is 1, \"versicolor\" is 2, \"virginica\" is 3."
   ]
  },
  {
   "cell_type": "code",
   "execution_count": 21,
   "metadata": {},
   "outputs": [
    {
     "data": {
      "text/html": [
       "<table class=\"data-frame\"><thead><tr><th></th><th>SepalLength</th><th>SepalWidth</th><th>PetalLength</th><th>PetalWidth</th><th>Species</th><th>x1</th></tr><tr><th></th><th>Float64</th><th>Float64</th><th>Float64</th><th>Float64</th><th>Cat…</th><th>Int64</th></tr></thead><tbody><p>150 rows × 6 columns</p><tr><th>1</th><td>5.1</td><td>3.5</td><td>1.4</td><td>0.2</td><td>setosa</td><td>1</td></tr><tr><th>2</th><td>4.9</td><td>3.0</td><td>1.4</td><td>0.2</td><td>setosa</td><td>1</td></tr><tr><th>3</th><td>4.7</td><td>3.2</td><td>1.3</td><td>0.2</td><td>setosa</td><td>1</td></tr><tr><th>4</th><td>4.6</td><td>3.1</td><td>1.5</td><td>0.2</td><td>setosa</td><td>1</td></tr><tr><th>5</th><td>5.0</td><td>3.6</td><td>1.4</td><td>0.2</td><td>setosa</td><td>1</td></tr><tr><th>6</th><td>5.4</td><td>3.9</td><td>1.7</td><td>0.4</td><td>setosa</td><td>1</td></tr><tr><th>7</th><td>4.6</td><td>3.4</td><td>1.4</td><td>0.3</td><td>setosa</td><td>1</td></tr><tr><th>8</th><td>5.0</td><td>3.4</td><td>1.5</td><td>0.2</td><td>setosa</td><td>1</td></tr><tr><th>9</th><td>4.4</td><td>2.9</td><td>1.4</td><td>0.2</td><td>setosa</td><td>1</td></tr><tr><th>10</th><td>4.9</td><td>3.1</td><td>1.5</td><td>0.1</td><td>setosa</td><td>1</td></tr><tr><th>11</th><td>5.4</td><td>3.7</td><td>1.5</td><td>0.2</td><td>setosa</td><td>1</td></tr><tr><th>12</th><td>4.8</td><td>3.4</td><td>1.6</td><td>0.2</td><td>setosa</td><td>1</td></tr><tr><th>13</th><td>4.8</td><td>3.0</td><td>1.4</td><td>0.1</td><td>setosa</td><td>1</td></tr><tr><th>14</th><td>4.3</td><td>3.0</td><td>1.1</td><td>0.1</td><td>setosa</td><td>1</td></tr><tr><th>15</th><td>5.8</td><td>4.0</td><td>1.2</td><td>0.2</td><td>setosa</td><td>1</td></tr><tr><th>16</th><td>5.7</td><td>4.4</td><td>1.5</td><td>0.4</td><td>setosa</td><td>1</td></tr><tr><th>17</th><td>5.4</td><td>3.9</td><td>1.3</td><td>0.4</td><td>setosa</td><td>1</td></tr><tr><th>18</th><td>5.1</td><td>3.5</td><td>1.4</td><td>0.3</td><td>setosa</td><td>1</td></tr><tr><th>19</th><td>5.7</td><td>3.8</td><td>1.7</td><td>0.3</td><td>setosa</td><td>1</td></tr><tr><th>20</th><td>5.1</td><td>3.8</td><td>1.5</td><td>0.3</td><td>setosa</td><td>1</td></tr><tr><th>21</th><td>5.4</td><td>3.4</td><td>1.7</td><td>0.2</td><td>setosa</td><td>1</td></tr><tr><th>22</th><td>5.1</td><td>3.7</td><td>1.5</td><td>0.4</td><td>setosa</td><td>1</td></tr><tr><th>23</th><td>4.6</td><td>3.6</td><td>1.0</td><td>0.2</td><td>setosa</td><td>1</td></tr><tr><th>24</th><td>5.1</td><td>3.3</td><td>1.7</td><td>0.5</td><td>setosa</td><td>1</td></tr><tr><th>25</th><td>4.8</td><td>3.4</td><td>1.9</td><td>0.2</td><td>setosa</td><td>1</td></tr><tr><th>26</th><td>5.0</td><td>3.0</td><td>1.6</td><td>0.2</td><td>setosa</td><td>1</td></tr><tr><th>27</th><td>5.0</td><td>3.4</td><td>1.6</td><td>0.4</td><td>setosa</td><td>1</td></tr><tr><th>28</th><td>5.2</td><td>3.5</td><td>1.5</td><td>0.2</td><td>setosa</td><td>1</td></tr><tr><th>29</th><td>5.2</td><td>3.4</td><td>1.4</td><td>0.2</td><td>setosa</td><td>1</td></tr><tr><th>30</th><td>4.7</td><td>3.2</td><td>1.6</td><td>0.2</td><td>setosa</td><td>1</td></tr><tr><th>&vellip;</th><td>&vellip;</td><td>&vellip;</td><td>&vellip;</td><td>&vellip;</td><td>&vellip;</td><td>&vellip;</td></tr></tbody></table>"
      ],
      "text/latex": [
       "\\begin{tabular}{r|cccccc}\n",
       "\t& SepalLength & SepalWidth & PetalLength & PetalWidth & Species & x1\\\\\n",
       "\t\\hline\n",
       "\t& Float64 & Float64 & Float64 & Float64 & Cat… & Int64\\\\\n",
       "\t\\hline\n",
       "\t1 & 5.1 & 3.5 & 1.4 & 0.2 & setosa & 1 \\\\\n",
       "\t2 & 4.9 & 3.0 & 1.4 & 0.2 & setosa & 1 \\\\\n",
       "\t3 & 4.7 & 3.2 & 1.3 & 0.2 & setosa & 1 \\\\\n",
       "\t4 & 4.6 & 3.1 & 1.5 & 0.2 & setosa & 1 \\\\\n",
       "\t5 & 5.0 & 3.6 & 1.4 & 0.2 & setosa & 1 \\\\\n",
       "\t6 & 5.4 & 3.9 & 1.7 & 0.4 & setosa & 1 \\\\\n",
       "\t7 & 4.6 & 3.4 & 1.4 & 0.3 & setosa & 1 \\\\\n",
       "\t8 & 5.0 & 3.4 & 1.5 & 0.2 & setosa & 1 \\\\\n",
       "\t9 & 4.4 & 2.9 & 1.4 & 0.2 & setosa & 1 \\\\\n",
       "\t10 & 4.9 & 3.1 & 1.5 & 0.1 & setosa & 1 \\\\\n",
       "\t11 & 5.4 & 3.7 & 1.5 & 0.2 & setosa & 1 \\\\\n",
       "\t12 & 4.8 & 3.4 & 1.6 & 0.2 & setosa & 1 \\\\\n",
       "\t13 & 4.8 & 3.0 & 1.4 & 0.1 & setosa & 1 \\\\\n",
       "\t14 & 4.3 & 3.0 & 1.1 & 0.1 & setosa & 1 \\\\\n",
       "\t15 & 5.8 & 4.0 & 1.2 & 0.2 & setosa & 1 \\\\\n",
       "\t16 & 5.7 & 4.4 & 1.5 & 0.4 & setosa & 1 \\\\\n",
       "\t17 & 5.4 & 3.9 & 1.3 & 0.4 & setosa & 1 \\\\\n",
       "\t18 & 5.1 & 3.5 & 1.4 & 0.3 & setosa & 1 \\\\\n",
       "\t19 & 5.7 & 3.8 & 1.7 & 0.3 & setosa & 1 \\\\\n",
       "\t20 & 5.1 & 3.8 & 1.5 & 0.3 & setosa & 1 \\\\\n",
       "\t21 & 5.4 & 3.4 & 1.7 & 0.2 & setosa & 1 \\\\\n",
       "\t22 & 5.1 & 3.7 & 1.5 & 0.4 & setosa & 1 \\\\\n",
       "\t23 & 4.6 & 3.6 & 1.0 & 0.2 & setosa & 1 \\\\\n",
       "\t24 & 5.1 & 3.3 & 1.7 & 0.5 & setosa & 1 \\\\\n",
       "\t25 & 4.8 & 3.4 & 1.9 & 0.2 & setosa & 1 \\\\\n",
       "\t26 & 5.0 & 3.0 & 1.6 & 0.2 & setosa & 1 \\\\\n",
       "\t27 & 5.0 & 3.4 & 1.6 & 0.4 & setosa & 1 \\\\\n",
       "\t28 & 5.2 & 3.5 & 1.5 & 0.2 & setosa & 1 \\\\\n",
       "\t29 & 5.2 & 3.4 & 1.4 & 0.2 & setosa & 1 \\\\\n",
       "\t30 & 4.7 & 3.2 & 1.6 & 0.2 & setosa & 1 \\\\\n",
       "\t$\\dots$ & $\\dots$ & $\\dots$ & $\\dots$ & $\\dots$ & $\\dots$ & $\\dots$ \\\\\n",
       "\\end{tabular}\n"
      ],
      "text/plain": [
       "150×6 DataFrame. Omitted printing of 1 columns\n",
       "│ Row │ SepalLength │ SepalWidth │ PetalLength │ PetalWidth │ Species   │\n",
       "│     │ \u001b[90mFloat64\u001b[39m     │ \u001b[90mFloat64\u001b[39m    │ \u001b[90mFloat64\u001b[39m     │ \u001b[90mFloat64\u001b[39m    │ \u001b[90mCat…\u001b[39m      │\n",
       "├─────┼─────────────┼────────────┼─────────────┼────────────┼───────────┤\n",
       "│ 1   │ 5.1         │ 3.5        │ 1.4         │ 0.2        │ setosa    │\n",
       "│ 2   │ 4.9         │ 3.0        │ 1.4         │ 0.2        │ setosa    │\n",
       "│ 3   │ 4.7         │ 3.2        │ 1.3         │ 0.2        │ setosa    │\n",
       "│ 4   │ 4.6         │ 3.1        │ 1.5         │ 0.2        │ setosa    │\n",
       "│ 5   │ 5.0         │ 3.6        │ 1.4         │ 0.2        │ setosa    │\n",
       "│ 6   │ 5.4         │ 3.9        │ 1.7         │ 0.4        │ setosa    │\n",
       "│ 7   │ 4.6         │ 3.4        │ 1.4         │ 0.3        │ setosa    │\n",
       "│ 8   │ 5.0         │ 3.4        │ 1.5         │ 0.2        │ setosa    │\n",
       "│ 9   │ 4.4         │ 2.9        │ 1.4         │ 0.2        │ setosa    │\n",
       "│ 10  │ 4.9         │ 3.1        │ 1.5         │ 0.1        │ setosa    │\n",
       "⋮\n",
       "│ 140 │ 6.9         │ 3.1        │ 5.4         │ 2.1        │ virginica │\n",
       "│ 141 │ 6.7         │ 3.1        │ 5.6         │ 2.4        │ virginica │\n",
       "│ 142 │ 6.9         │ 3.1        │ 5.1         │ 2.3        │ virginica │\n",
       "│ 143 │ 5.8         │ 2.7        │ 5.1         │ 1.9        │ virginica │\n",
       "│ 144 │ 6.8         │ 3.2        │ 5.9         │ 2.3        │ virginica │\n",
       "│ 145 │ 6.7         │ 3.3        │ 5.7         │ 2.5        │ virginica │\n",
       "│ 146 │ 6.7         │ 3.0        │ 5.2         │ 2.3        │ virginica │\n",
       "│ 147 │ 6.3         │ 2.5        │ 5.0         │ 1.9        │ virginica │\n",
       "│ 148 │ 6.5         │ 3.0        │ 5.2         │ 2.0        │ virginica │\n",
       "│ 149 │ 6.2         │ 3.4        │ 5.4         │ 2.3        │ virginica │\n",
       "│ 150 │ 5.9         │ 3.0        │ 5.1         │ 1.8        │ virginica │"
      ]
     },
     "execution_count": 21,
     "metadata": {},
     "output_type": "execute_result"
    }
   ],
   "source": [
    "# set labels\n",
    "labels = []\n",
    "\n",
    "for i in 1:length(iris[:, :Species])\n",
    "    if iris[i,5] == \"setosa\"\n",
    "        append!(labels, [1])\n",
    "    end\n",
    "    \n",
    "    if iris[i,5] == \"versicolor\"\n",
    "        append!(labels, [2])\n",
    "    end\n",
    "    \n",
    "    if iris[i,5] == \"virginica\"\n",
    "        append!(labels, [3])\n",
    "    end\n",
    "end\n",
    "labels =Int.(labels)\n",
    "iris = [iris labels]"
   ]
  },
  {
   "cell_type": "markdown",
   "metadata": {},
   "source": [
    "Create train data set and test data set. Test data set is made from 70% original dataset which is selected randomly."
   ]
  },
  {
   "cell_type": "code",
   "execution_count": 22,
   "metadata": {},
   "outputs": [],
   "source": [
    "#create train and test data\n",
    "train, test = partitionTrainTest(iris, 0.7) # 70% data is used for train\n",
    "trainData = convert(Matrix,train[:,[:SepalLength,:SepalWidth,:PetalLength,:PetalWidth]])\n",
    "trainLabels = vec(convert(Matrix, train[:,[:x1]]))\n",
    "testData = convert(Matrix,test[:,[:SepalLength,:SepalWidth,:PetalLength,:PetalWidth]])\n",
    "testLabels = vec(convert(Matrix, test[:,[:x1]]))\n",
    "nTrain = length(trainLabels)\n",
    "nTest = length(testLabels);"
   ]
  },
  {
   "cell_type": "markdown",
   "metadata": {},
   "source": [
    "105 observations are randomly selected from the original dataset as a train data"
   ]
  },
  {
   "cell_type": "code",
   "execution_count": 23,
   "metadata": {
    "scrolled": false
   },
   "outputs": [
    {
     "data": {
      "text/plain": [
       "105×4 Array{Float64,2}:\n",
       " 5.5  2.6  4.4  1.2\n",
       " 5.4  3.7  1.5  0.2\n",
       " 6.3  2.5  4.9  1.5\n",
       " 4.8  3.0  1.4  0.3\n",
       " 4.4  3.2  1.3  0.2\n",
       " 5.4  3.4  1.7  0.2\n",
       " 6.7  3.1  5.6  2.4\n",
       " 5.5  2.4  3.8  1.1\n",
       " 5.0  3.4  1.5  0.2\n",
       " 5.2  3.4  1.4  0.2\n",
       " 6.1  2.9  4.7  1.4\n",
       " 4.8  3.4  1.6  0.2\n",
       " 7.7  2.6  6.9  2.3\n",
       " ⋮              \n",
       " 7.1  3.0  5.9  2.1\n",
       " 6.2  2.2  4.5  1.5\n",
       " 4.8  3.0  1.4  0.1\n",
       " 4.4  2.9  1.4  0.2\n",
       " 6.4  3.1  5.5  1.8\n",
       " 5.6  2.5  3.9  1.1\n",
       " 6.5  3.0  5.5  1.8\n",
       " 6.4  2.9  4.3  1.3\n",
       " 5.7  2.8  4.1  1.3\n",
       " 4.9  3.1  1.5  0.2\n",
       " 5.1  3.7  1.5  0.4\n",
       " 4.6  3.1  1.5  0.2"
      ]
     },
     "execution_count": 23,
     "metadata": {},
     "output_type": "execute_result"
    }
   ],
   "source": [
    "trainData"
   ]
  },
  {
   "cell_type": "markdown",
   "metadata": {},
   "source": [
    "45 observations are randomly selected from the original dataset as a train data"
   ]
  },
  {
   "cell_type": "code",
   "execution_count": 24,
   "metadata": {},
   "outputs": [
    {
     "data": {
      "text/plain": [
       "45×4 Array{Float64,2}:\n",
       " 7.2  3.6  6.1  2.5\n",
       " 6.1  2.8  4.0  1.3\n",
       " 5.0  2.0  3.5  1.0\n",
       " 7.2  3.0  5.8  1.6\n",
       " 6.3  2.5  5.0  1.9\n",
       " 5.5  3.5  1.3  0.2\n",
       " 5.8  2.7  3.9  1.2\n",
       " 6.9  3.1  5.4  2.1\n",
       " 6.3  2.3  4.4  1.3\n",
       " 6.7  3.3  5.7  2.5\n",
       " 5.6  2.8  4.9  2.0\n",
       " 4.9  3.0  1.4  0.2\n",
       " 6.0  2.2  4.0  1.0\n",
       " ⋮              \n",
       " 6.4  3.2  4.5  1.5\n",
       " 6.3  3.3  6.0  2.5\n",
       " 6.3  3.4  5.6  2.4\n",
       " 6.0  2.2  5.0  1.5\n",
       " 6.0  3.0  4.8  1.8\n",
       " 4.9  3.1  1.5  0.1\n",
       " 4.8  3.1  1.6  0.2\n",
       " 5.1  3.8  1.9  0.4\n",
       " 7.3  2.9  6.3  1.8\n",
       " 4.7  3.2  1.6  0.2\n",
       " 5.1  3.5  1.4  0.2\n",
       " 5.9  3.0  5.1  1.8"
      ]
     },
     "execution_count": 24,
     "metadata": {},
     "output_type": "execute_result"
    }
   ],
   "source": [
    "testData"
   ]
  },
  {
   "cell_type": "markdown",
   "metadata": {},
   "source": [
    "Set design matrix A"
   ]
  },
  {
   "cell_type": "markdown",
   "metadata": {},
   "source": [
    "$A =\\begin{bmatrix}\n",
    "    1 & x_{1,1} & \\dots & x_{1,n} \\\\\n",
    "    \\vdots & \\vdots & \\ddots & \\vdots \\\\\n",
    "    1 & x_{n,1} & \\dots & x_{m,n}\n",
    "    \\end{bmatrix}$"
   ]
  },
  {
   "cell_type": "code",
   "execution_count": 25,
   "metadata": {
    "scrolled": false
   },
   "outputs": [
    {
     "data": {
      "text/plain": [
       "105×5 Array{Float64,2}:\n",
       " 1.0  5.5  2.6  4.4  1.2\n",
       " 1.0  5.4  3.7  1.5  0.2\n",
       " 1.0  6.3  2.5  4.9  1.5\n",
       " 1.0  4.8  3.0  1.4  0.3\n",
       " 1.0  4.4  3.2  1.3  0.2\n",
       " 1.0  5.4  3.4  1.7  0.2\n",
       " 1.0  6.7  3.1  5.6  2.4\n",
       " 1.0  5.5  2.4  3.8  1.1\n",
       " 1.0  5.0  3.4  1.5  0.2\n",
       " 1.0  5.2  3.4  1.4  0.2\n",
       " 1.0  6.1  2.9  4.7  1.4\n",
       " 1.0  4.8  3.4  1.6  0.2\n",
       " 1.0  7.7  2.6  6.9  2.3\n",
       " ⋮                   \n",
       " 1.0  7.1  3.0  5.9  2.1\n",
       " 1.0  6.2  2.2  4.5  1.5\n",
       " 1.0  4.8  3.0  1.4  0.1\n",
       " 1.0  4.4  2.9  1.4  0.2\n",
       " 1.0  6.4  3.1  5.5  1.8\n",
       " 1.0  5.6  2.5  3.9  1.1\n",
       " 1.0  6.5  3.0  5.5  1.8\n",
       " 1.0  6.4  2.9  4.3  1.3\n",
       " 1.0  5.7  2.8  4.1  1.3\n",
       " 1.0  4.9  3.1  1.5  0.2\n",
       " 1.0  5.1  3.7  1.5  0.4\n",
       " 1.0  4.6  3.1  1.5  0.2"
      ]
     },
     "execution_count": 25,
     "metadata": {},
     "output_type": "execute_result"
    }
   ],
   "source": [
    "A = [ones(nTrain) trainData]"
   ]
  },
  {
   "cell_type": "markdown",
   "metadata": {},
   "source": [
    "pseudo-inverse matrix of $A^{\\dagger}=(A^TA)^{-1}A$"
   ]
  },
  {
   "cell_type": "code",
   "execution_count": 26,
   "metadata": {
    "scrolled": true
   },
   "outputs": [
    {
     "data": {
      "text/plain": [
       "5×105 Array{Float64,2}:\n",
       "  0.156989   -0.108147    0.0503434    0.0721648  …  -0.0545528    0.103429\n",
       " -0.0548856   0.0212511   0.0198314    0.0235398      0.00279506  -0.0212085\n",
       "  0.0126652   0.0147667  -0.0426759   -0.0360498      0.0259901    0.00306035\n",
       "  0.0685796  -0.0099469   0.00177102  -0.0345982     -0.0184733    0.0166305\n",
       " -0.103734   -0.0114755  -0.0274498    0.0339607      0.0318316   -0.0350109"
      ]
     },
     "execution_count": 26,
     "metadata": {},
     "output_type": "execute_result"
    }
   ],
   "source": [
    "Adag = pinv(A)"
   ]
  },
  {
   "cell_type": "markdown",
   "metadata": {},
   "source": [
    "Classifier"
   ]
  },
  {
   "cell_type": "code",
   "execution_count": 27,
   "metadata": {},
   "outputs": [
    {
     "data": {
      "text/plain": [
       "classify (generic function with 1 method)"
      ]
     },
     "execution_count": 27,
     "metadata": {},
     "output_type": "execute_result"
    }
   ],
   "source": [
    "tfPM(x) = x ? +1 : -1\n",
    "yDat(k) = tfPM.(onehotbatch(trainLabels,1:3)'[:,k])\n",
    "bets = [Adag*yDat(k) for k in 1:3]\n",
    "classify(input) = findmax([([1 ; input])'*bets[k] for k in 1:3])[2]"
   ]
  },
  {
   "cell_type": "markdown",
   "metadata": {},
   "source": [
    "Perform predicrtion with the least-square clasiffier"
   ]
  },
  {
   "cell_type": "code",
   "execution_count": 28,
   "metadata": {
    "scrolled": false
   },
   "outputs": [
    {
     "name": "stdout",
     "output_type": "stream",
     "text": [
      "Accuracy: 0.8444444444444444\n",
      "Confusion Matrix:\n",
      "3×3 Array{Int64,2}:\n",
      " 16   0   0\n",
      "  0  10   4\n",
      "  0   3  12"
     ]
    }
   ],
   "source": [
    "predictions = [classify(testData[k,:]) for k in 1:nTest]\n",
    "confusionMatrix = [sum((predictions .== i) .& (testLabels .== j)) for i in 1:3, j in 1:3]\n",
    "accuracy = sum(diag(confusionMatrix))/nTest\n",
    "println(\"Accuracy: \", accuracy, \"\\nConfusion Matrix:\")\n",
    "show(stdout, \"text/plain\", confusionMatrix)"
   ]
  },
  {
   "cell_type": "code",
   "execution_count": 42,
   "metadata": {},
   "outputs": [
    {
     "name": "stdout",
     "output_type": "stream",
     "text": [
      "Accuracy: 0.8222222222222222\n",
      "Confusion Matrix:\n",
      "3×3 Array{Int64,2}:\n",
      " 16   0  0\n",
      "  0  12  5\n",
      "  0   3  9"
     ]
    }
   ],
   "source": [
    "using Flux, LinearAlgebra, RDatasets, Random\n",
    "using Flux: onehotbatch\n",
    "\n",
    "# set iris dataset\n",
    "iris = dataset(\"datasets\", \"iris\")\n",
    "\n",
    "# set labels\n",
    "labels = []\n",
    "\n",
    "for i in 1:length(iris[:, :Species])\n",
    "    if iris[i,5] == \"setosa\"\n",
    "        append!(labels, [1])\n",
    "    end\n",
    "    \n",
    "    if iris[i,5] == \"versicolor\"\n",
    "        append!(labels, [2])\n",
    "    end\n",
    "    \n",
    "    if iris[i,5] == \"virginica\"\n",
    "        append!(labels, [3])\n",
    "    end\n",
    "end\n",
    "labels =Int.(labels)\n",
    "iris = [iris labels]\n",
    "\n",
    "\n",
    "#create train and test data\n",
    "train, test = partitionTrainTest(iris, 0.7) # 70% data is used for train\n",
    "trainData = convert(Matrix,train[:,[:SepalLength,:SepalWidth,:PetalLength,:PetalWidth]])\n",
    "trainLabels = vec(convert(Matrix, train[:,[:x1]]))\n",
    "testData = convert(Matrix,test[:,[:SepalLength,:SepalWidth,:PetalLength,:PetalWidth]])\n",
    "testLabels = vec(convert(Matrix, test[:,[:x1]]))\n",
    "nTrain = length(trainLabels)\n",
    "nTest = length(testLabels);\n",
    "\n",
    "A = [ones(nTrain) trainData]\n",
    "Adag = pinv(A)\n",
    "\n",
    "\n",
    "tfPM(x) = x ? +1 : -1\n",
    "yDat(k) = tfPM.(onehotbatch(trainLabels,1:3)'[:,k])\n",
    "bets = [Adag*yDat(k) for k in 1:3]\n",
    "classify(input) = findmax([([1 ; input])'*bets[k] for k in 1:3])[2]\n",
    "\n",
    "predictions = [classify(testData[k,:]) for k in 1:nTest]\n",
    "confusionMatrix = [sum((predictions .== i) .& (testLabels .== j)) for i in 1:3, j in 1:3]\n",
    "accuracy = sum(diag(confusionMatrix))/nTest\n",
    "println(\"Accuracy: \", accuracy, \"\\nConfusion Matrix:\")\n",
    "show(stdout, \"text/plain\", confusionMatrix)"
   ]
  }
 ],
 "metadata": {
  "kernelspec": {
   "display_name": "Julia 1.4.2",
   "language": "julia",
   "name": "julia-1.4"
  },
  "language_info": {
   "file_extension": ".jl",
   "mimetype": "application/julia",
   "name": "julia",
   "version": "1.4.2"
  }
 },
 "nbformat": 4,
 "nbformat_minor": 4
}
