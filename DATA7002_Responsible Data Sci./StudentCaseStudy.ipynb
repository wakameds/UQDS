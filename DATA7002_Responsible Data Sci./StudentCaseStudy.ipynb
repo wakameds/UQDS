{
 "cells": [
  {
   "cell_type": "code",
   "execution_count": 12,
   "metadata": {},
   "outputs": [],
   "source": [
    "import numpy as np\n",
    "import pandas as pd\n",
    "from seaborn import boxplot\n",
    "from scipy.stats import ttest_ind\n",
    "\n",
    "def PermTest(Treatment, Control):\n",
    "    t_obs = np.abs(np.mean(Treatment) - np.mean(Control))\n",
    "\n",
    "    B = 10000\n",
    "    \n",
    "    combined = np.append(Treatment, Control)\n",
    "    \n",
    "    ell = np.zeros(B)\n",
    "    \n",
    "    for i in range(0,B):\n",
    "       tmp =  np.random.permutation(combined)\n",
    "       t_tmp = tmp[0:Treatment.shape[0]]\n",
    "       c_tmp = tmp[Treatment.shape[0]:combined.shape[0]]\n",
    "       dif =  np.abs(np.mean(t_tmp) - np.mean(c_tmp))\n",
    "       if(dif>t_obs):\n",
    "           ell[i]=1\n",
    "           \n",
    "    ell_mean = np.mean(ell)  \n",
    "    ell_std  = np.std(ell)  \n",
    "    print(\"p-val=\",ell_mean, \" p_value 95% CI = [\",ell_mean - 1.96*ell_std/np.sqrt(B), \n",
    "                             \" , \", ell_mean + 1.96*ell_std/np.sqrt(B),\"]\")  "
   ]
  },
  {
   "cell_type": "code",
   "execution_count": 15,
   "metadata": {
    "scrolled": true
   },
   "outputs": [
    {
     "data": {
      "text/html": [
       "<div>\n",
       "<style scoped>\n",
       "    .dataframe tbody tr th:only-of-type {\n",
       "        vertical-align: middle;\n",
       "    }\n",
       "\n",
       "    .dataframe tbody tr th {\n",
       "        vertical-align: top;\n",
       "    }\n",
       "\n",
       "    .dataframe thead th {\n",
       "        text-align: right;\n",
       "    }\n",
       "</style>\n",
       "<table border=\"1\" class=\"dataframe\">\n",
       "  <thead>\n",
       "    <tr style=\"text-align: right;\">\n",
       "      <th></th>\n",
       "      <th>gender</th>\n",
       "      <th>GPA</th>\n",
       "    </tr>\n",
       "  </thead>\n",
       "  <tbody>\n",
       "    <tr>\n",
       "      <th>0</th>\n",
       "      <td>F</td>\n",
       "      <td>6.24</td>\n",
       "    </tr>\n",
       "    <tr>\n",
       "      <th>1</th>\n",
       "      <td>F</td>\n",
       "      <td>2.65</td>\n",
       "    </tr>\n",
       "    <tr>\n",
       "      <th>2</th>\n",
       "      <td>M</td>\n",
       "      <td>5.48</td>\n",
       "    </tr>\n",
       "    <tr>\n",
       "      <th>3</th>\n",
       "      <td>M</td>\n",
       "      <td>4.87</td>\n",
       "    </tr>\n",
       "    <tr>\n",
       "      <th>4</th>\n",
       "      <td>M</td>\n",
       "      <td>3.68</td>\n",
       "    </tr>\n",
       "  </tbody>\n",
       "</table>\n",
       "</div>"
      ],
      "text/plain": [
       "  gender   GPA\n",
       "0      F  6.24\n",
       "1      F  2.65\n",
       "2      M  5.48\n",
       "3      M  4.87\n",
       "4      M  3.68"
      ]
     },
     "execution_count": 15,
     "metadata": {},
     "output_type": "execute_result"
    }
   ],
   "source": [
    "# load data\n",
    "ds = pd.read_csv(\"student_data.csv\")\n",
    "\n",
    "# create new dataset\n",
    "df = ds.loc[:,['gender','GPA']]\n",
    "\n",
    "# set categorical type for gender\n",
    "df.gender = df.gender.astype('category')\n",
    "df.head()"
   ]
  },
  {
   "cell_type": "code",
   "execution_count": 16,
   "metadata": {},
   "outputs": [
    {
     "name": "stdout",
     "output_type": "stream",
     "text": [
      "F\n",
      "count    407.000000\n",
      "mean       4.607543\n",
      "std        1.445800\n",
      "min        1.040000\n",
      "25%        3.530000\n",
      "50%        4.780000\n",
      "75%        5.770000\n",
      "max        6.990000\n",
      "Name: GPA, dtype: float64\n",
      "-----------------------------------------\n",
      "M\n",
      "count    429.000000\n",
      "mean       4.477063\n",
      "std        1.423529\n",
      "min        1.100000\n",
      "25%        3.460000\n",
      "50%        4.650000\n",
      "75%        5.630000\n",
      "max        6.960000\n",
      "Name: GPA, dtype: float64\n",
      "-----------------------------------------\n"
     ]
    }
   ],
   "source": [
    "#Plot the GPA as a function of gender\n",
    "print(\"F\")\n",
    "print(df.GPA[df.gender==\"F\"].describe())\n",
    "print(\"-----------------------------------------\")\n",
    "print(\"M\")\n",
    "print(df.GPA[df.gender==\"M\"].describe())\n",
    "print(\"-----------------------------------------\")"
   ]
  },
  {
   "cell_type": "code",
   "execution_count": 17,
   "metadata": {},
   "outputs": [
    {
     "data": {
      "text/plain": [
       "<matplotlib.axes._subplots.AxesSubplot at 0x10afc6390>"
      ]
     },
     "execution_count": 17,
     "metadata": {},
     "output_type": "execute_result"
    },
    {
     "data": {
      "image/png": "[encoded data removed]",
      "text/plain": [
       "<Figure size 432x288 with 1 Axes>"
      ]
     },
     "metadata": {
      "needs_background": "light"
     },
     "output_type": "display_data"
    }
   ],
   "source": [
    "boxplot(x=\"gender\", y=\"GPA\",  data=df, palette=\"Set3\")"
   ]
  },
  {
   "cell_type": "code",
   "execution_count": 18,
   "metadata": {},
   "outputs": [
    {
     "name": "stdout",
     "output_type": "stream",
     "text": [
      "sample means=( 4.607542997542997 , 4.477062937062938 )  t =  1.3145964475444059 , p-val =  0.18900695386399316\n"
     ]
    }
   ],
   "source": [
    "group1 = df.GPA[df.gender==\"F\"].values\n",
    "group2 = df.GPA[df.gender==\"M\"].values\n",
    "\n",
    "twosample_results  = ttest_ind(group1, group2)\n",
    "print(\"sample means=(\",np.mean(group1),\",\", np.mean(group2) ,\")\",\n",
    "      \" t = \", twosample_results[0], \", p-val = \", twosample_results[1])\n"
   ]
  },
  {
   "cell_type": "code",
   "execution_count": 19,
   "metadata": {},
   "outputs": [
    {
     "name": "stdout",
     "output_type": "stream",
     "text": [
      "p-val= 0.1922  p_value 95% CI = [ 0.18447702396057064  ,  0.19992297603942938 ]\n"
     ]
    }
   ],
   "source": [
    "# permutation test\n",
    "t_obs = np.abs(np.mean(group1) - np.mean(group2))\n",
    "PermTest(group1, group2)"
   ]
  },
  {
   "cell_type": "code",
   "execution_count": null,
   "metadata": {},
   "outputs": [],
   "source": []
  }
 ],
 "metadata": {
  "kernelspec": {
   "display_name": "Python 3",
   "language": "python",
   "name": "python3"
  },
  "language_info": {
   "codemirror_mode": {
    "name": "ipython",
    "version": 3
   },
   "file_extension": ".py",
   "mimetype": "text/x-python",
   "name": "python",
   "nbconvert_exporter": "python",
   "pygments_lexer": "ipython3",
   "version": "3.7.6"
  }
 },
 "nbformat": 4,
 "nbformat_minor": 2
}
