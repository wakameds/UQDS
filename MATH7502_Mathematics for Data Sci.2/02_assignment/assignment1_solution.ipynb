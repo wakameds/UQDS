{
 "cells": [
  {
   "cell_type": "markdown",
   "metadata": {},
   "source": [
    "### 1.Consider the system of equations\n",
    "\n",
    "$$5x + 3y = 2z + 4$$\n",
    "$$4x = 2y − 3x + 12$$\n",
    "$$x + y − 5z = 24$$"
   ]
  },
  {
   "cell_type": "markdown",
   "metadata": {},
   "source": [
    "#### (a) Represent it as $Aw = b$ where $w = [x, y, z]^T$."
   ]
  },
  {
   "cell_type": "markdown",
   "metadata": {},
   "source": [
    "$$A = \\begin{bmatrix}\n",
    "5 & 3 & -2 \\\\\n",
    "7 & -2 & 0 \\\\\n",
    "1 & 1 & -5\n",
    "\\end{bmatrix}\n",
    "\\quad\n",
    "b=\\begin{bmatrix}\n",
    "4 \\\\\n",
    "12\\\\\n",
    "24\n",
    "\\end{bmatrix}\n",
    "$$"
   ]
  },
  {
   "cell_type": "markdown",
   "metadata": {},
   "source": [
    "Therefore,"
   ]
  },
  {
   "cell_type": "markdown",
   "metadata": {},
   "source": [
    "$$\\begin{bmatrix}\n",
    "5 & 3 & -2 \\\\\n",
    "7 & -2 & 0 \\\\\n",
    "1 & 1 & -5\n",
    "\\end{bmatrix}\n",
    "[x,y,z]^T = \\begin{bmatrix}\n",
    "4\\\\\n",
    "12\\\\\n",
    "24\n",
    "\\end{bmatrix}$$"
   ]
  },
  {
   "cell_type": "markdown",
   "metadata": {},
   "source": [
    " "
   ]
  },
  {
   "cell_type": "markdown",
   "metadata": {},
   "source": [
    "#### (b) Solve for $w$ numerically in Julia."
   ]
  },
  {
   "cell_type": "code",
   "execution_count": 1,
   "metadata": {},
   "outputs": [
    {
     "data": {
      "text/plain": [
       "3-element Array{Float64,1}:\n",
       "  0.7299270072992705\n",
       " -3.445255474452553\n",
       " -5.343065693430655"
      ]
     },
     "execution_count": 1,
     "metadata": {},
     "output_type": "execute_result"
    }
   ],
   "source": [
    "A = [5 3 -2;7 -2 0;1 1 -5];\n",
    "b = [4; 12; 24];\n",
    "w = A \\ b\n",
    "w"
   ]
  },
  {
   "cell_type": "markdown",
   "metadata": {},
   "source": [
    "　"
   ]
  },
  {
   "cell_type": "markdown",
   "metadata": {},
   "source": [
    "#### (c) Solve manually using Gaussian elimination."
   ]
  },
  {
   "cell_type": "markdown",
   "metadata": {},
   "source": [
    "Write $[A|b]$ and change $A$ to $E$"
   ]
  },
  {
   "cell_type": "markdown",
   "metadata": {},
   "source": [
    "$$\\begin{align*} \n",
    "\\left( \n",
    "\\begin{array}{ccc|c} \n",
    "5 & 3 & -2 & 4 \\\\ \n",
    "7 & -2 & -0 & 12 \\\\ \n",
    "1 & 1 & -5 & 24    \n",
    "\\end{array} \n",
    "\\right) &\\longmapsto \\left( \n",
    "\\begin{array}{ccc|c} \n",
    "1 & 1 & -5 & 24 \\\\ \n",
    "5 & 3 & -2 & 4 \\\\ \n",
    "7 & -2 & 0 & 12 \n",
    "\\end{array} \n",
    "\\right) \\\\ &\\longmapsto \\left( \n",
    "\\begin{array}{ccc|c} \n",
    "1 & 1 & -5 & 24 \\\\ \n",
    "0 & 1 & -23/2 & 58 \\\\ \n",
    "0 & -9 & 35 & -156 \n",
    "\\end{array} \n",
    "\\right) \\\\ &\\longmapsto \\left( \n",
    "\\begin{array}{ccc|c} \n",
    "1 & 1 & -5 & 24 \\\\ \n",
    "0 & 1 & -23/2 & 58 \\\\ \n",
    "0 & 0 & 1 & -732/137 \n",
    "\\end{array} \n",
    "\\right) \\\\ &\\longmapsto \\left( \n",
    "\\begin{array}{ccc|c} \n",
    "1 & 0 & 13/2 & -34 \\\\ \n",
    "0 & 1 & -23/2 & 58 \\\\ \n",
    "0 & 0 & 1 & -732/137 \n",
    "\\end{array} \n",
    "\\right) \\\\ &\\longmapsto \\left( \n",
    "\\begin{array}{ccc|c} \n",
    "1 & 0 & 0 & 0.730 \\\\ \n",
    "0 & 1 & 0 & -3.445 \\\\ \n",
    "0 & 0 & 1 & -5.343\\end{array} \n",
    "\\right)\n",
    "\\end{align*}$$"
   ]
  },
  {
   "cell_type": "markdown",
   "metadata": {},
   "source": [
    "Therefore, $ x =0.730 \\quad y = -3.445 \\quad z = -5.343 $"
   ]
  },
  {
   "cell_type": "markdown",
   "metadata": {},
   "source": [
    " "
   ]
  },
  {
   "cell_type": "markdown",
   "metadata": {},
   "source": [
    "#### (d) Find $A^{−1}$ explicitly using Gaussian elimination and use it to manually obtained $w$ via, $w = A^{−1}b$."
   ]
  },
  {
   "cell_type": "markdown",
   "metadata": {},
   "source": [
    "$[AI] = \\begin{bmatrix}\n",
    "1 & 1 & -5 & 1 & 0 & 0\\\\\n",
    "5 & 3 & -2 & 0 & 1 & 0\\\\\n",
    "7 & -2 & 0 & 0 & 0 & 1\n",
    "\\end{bmatrix}$"
   ]
  },
  {
   "cell_type": "markdown",
   "metadata": {},
   "source": [
    "$\\longmapsto\\begin{bmatrix}\n",
    "1 & 0 & 0 & -4/137 & 10/137 & 13/137\\\\\n",
    "0 & 1 & 0 & -14/137 & 35/137 & -23/137\\\\\n",
    "0 & 0 & 1 & -31/137 & 9/137 & -2/137\n",
    "\\end{bmatrix} = [IB]$ "
   ]
  },
  {
   "cell_type": "markdown",
   "metadata": {},
   "source": [
    "Hence,"
   ]
  },
  {
   "cell_type": "markdown",
   "metadata": {},
   "source": [
    "$\n",
    "B = A^{-1} = \\dfrac{1}{137} \\begin{bmatrix} -4 & 10 & 13 \\\\ -14 & 35 & -23 \\\\ -31 & 9 & -2\\end{bmatrix}\\\\\n",
    "$"
   ]
  },
  {
   "cell_type": "markdown",
   "metadata": {},
   "source": [
    "$w = A^{−1}b$, hence $w =\\dfrac{1}{137} \\begin{bmatrix} -4 & 10 & 13 \\\\ -14 & 35 & -23 \\\\ -31 & 9 & -2\\end{bmatrix} \\begin{bmatrix} 24 \\\\ 4 \\\\ 12\\end{bmatrix}$"
   ]
  },
  {
   "cell_type": "markdown",
   "metadata": {},
   "source": [
    "$\n",
    "w = \\dfrac{1}{137} \n",
    "\\begin{bmatrix} (-4) \\times 24 + 10\\times4 + 13\\times12 \\\\\n",
    "(-14) \\times 24 + 35\\times4 + (-23)\\times12 \\\\\n",
    "(-31) \\times 24 + 9\\times4 + (-2)\\times12\n",
    "\\end{bmatrix}\\\\\n",
    "=\\dfrac{1}{137} \n",
    "\\begin{bmatrix} 100\\\\\n",
    "-472 \\\\\n",
    "-732\n",
    "\\end{bmatrix}\\\\\n",
    "=\\begin{bmatrix} 0.730 \\\\ -3.445\\\\-5.343\\end{bmatrix}\n",
    "$\n",
    "\n"
   ]
  },
  {
   "cell_type": "markdown",
   "metadata": {},
   "source": [
    " "
   ]
  },
  {
   "cell_type": "markdown",
   "metadata": {},
   "source": [
    "### 2.Consider two vectors $u, v ∈ R^{3}$ and let $A = uv^T$ . Explain why $det(A) = 0$."
   ]
  },
  {
   "cell_type": "markdown",
   "metadata": {},
   "source": [
    "Set $u =\\begin{bmatrix}u_1\\\\u_2\\\\u_3\\end{bmatrix}, v =\\begin{bmatrix}v_1\\\\v_2\\\\v_3\\end{bmatrix}$"
   ]
  },
  {
   "cell_type": "markdown",
   "metadata": {},
   "source": [
    "$A = \\begin{bmatrix}u_1v_1 & u_1v_2 & u_1v_3\\\\\n",
    "u_2v_1 & u_2v_2 & u_2v_3\\\\\n",
    "u_3v_1 & u_3v_2 & u_3v_3\n",
    "\\end{bmatrix}$"
   ]
  },
  {
   "cell_type": "markdown",
   "metadata": {},
   "source": [
    "$det(A) = u_1v_1(u_2v_2 u_3v_3 - u_3v_2 u_2v_3) - u_1v_2(u_2v_1 u_3v_3 - u_3v_1 u_2v_3) + u_1v_3(u_2v_1 u_3v_2 - u_3v_1 u_2v_2)\\\\\n",
    "=u_1v_1(u_2u_3 v_2v_3 - u_2u_3 v_2v_3) - u_1v_2(u_2u_3 v_1v_3 - u_2u_3 v_1v_3) + u_1v_3(u_2u_3 v_1v_2 - u_2u_3 v_1v_2)\\\\\n",
    "=0$"
   ]
  },
  {
   "cell_type": "markdown",
   "metadata": {},
   "source": [
    " "
   ]
  },
  {
   "cell_type": "markdown",
   "metadata": {},
   "source": [
    "### 3.Consider two vectors $u, v ∈ R^n$. Present proofs for the following"
   ]
  },
  {
   "cell_type": "markdown",
   "metadata": {},
   "source": [
    "#### (a) $||u + v||^2 = ||u||^2 + 2u^T v + ||v||^2$"
   ]
  },
  {
   "cell_type": "markdown",
   "metadata": {},
   "source": [
    "$||u+v||^2 = (u+v)^T (u+v)$"
   ]
  },
  {
   "cell_type": "markdown",
   "metadata": {},
   "source": [
    "$= u^T u + u^T v + u v^T + v^T v$"
   ]
  },
  {
   "cell_type": "markdown",
   "metadata": {},
   "source": [
    "$= ||u||^2 + 2 u^T v + ||v||^2$"
   ]
  },
  {
   "cell_type": "markdown",
   "metadata": {},
   "source": [
    "Hence, $||u + v||^2 = ||u||^2 + 2u^T v + ||v||^2$"
   ]
  },
  {
   "cell_type": "markdown",
   "metadata": {},
   "source": [
    " "
   ]
  },
  {
   "cell_type": "markdown",
   "metadata": {},
   "source": [
    " "
   ]
  },
  {
   "cell_type": "markdown",
   "metadata": {},
   "source": [
    "#### (b) $(u+v)^T(u−v)=||u||^2 −||v||^2$"
   ]
  },
  {
   "cell_type": "markdown",
   "metadata": {},
   "source": [
    "$(u+v)^T (u-v) = u^T u - u^T v +v^T u - v^T v$ "
   ]
  },
  {
   "cell_type": "markdown",
   "metadata": {},
   "source": [
    "$= ||u||^2 -||v||^2$"
   ]
  },
  {
   "cell_type": "markdown",
   "metadata": {},
   "source": [
    "Hence, $(u+v)^T(u−v)=||u||^2 −||v||^2$"
   ]
  },
  {
   "cell_type": "markdown",
   "metadata": {},
   "source": [
    " "
   ]
  },
  {
   "cell_type": "markdown",
   "metadata": {},
   "source": [
    "#### (c) $|u^T v| ≤ ||u|| ||v||$. (Cauchy-Schwarz inequality)."
   ]
  },
  {
   "cell_type": "markdown",
   "metadata": {},
   "source": [
    "Assume $u \\neq 0$ and $v \\neq 0$. Set $\\alpha := ||u||$, $\\beta := ||v||$:\n",
    "\n",
    "$0 \\le || \\beta u - \\alpha v||^2$"
   ]
  },
  {
   "cell_type": "markdown",
   "metadata": {},
   "source": [
    "$=||\\beta u||^2 -2(\\beta u)^T (\\alpha v) +||\\alpha v||^2$"
   ]
  },
  {
   "cell_type": "markdown",
   "metadata": {},
   "source": [
    "$=\\beta^2 ||u||^2 -2(\\beta \\alpha)(u^T v) +\\alpha^2 ||v||^2$"
   ]
  },
  {
   "cell_type": "markdown",
   "metadata": {},
   "source": [
    "$=||v||^2||u||^2 -2||v||||u||(u^T v) + ||u||^2||v||^2$"
   ]
  },
  {
   "cell_type": "markdown",
   "metadata": {},
   "source": [
    "$=2||v||^2||u||^2 -2||v||||u||(u^T v)$"
   ]
  },
  {
   "cell_type": "markdown",
   "metadata": {},
   "source": [
    "Hence, $|u^T v| ≤ ||u|| ||v||$"
   ]
  },
  {
   "cell_type": "markdown",
   "metadata": {},
   "source": [
    " "
   ]
  },
  {
   "cell_type": "markdown",
   "metadata": {},
   "source": [
    "#### (d) $||u + v|| ≤ ||u|| + ||v||$. (Triangle inequality)."
   ]
  },
  {
   "cell_type": "markdown",
   "metadata": {},
   "source": [
    "we can use Cauch-Schwarz inequality\n",
    "($|u^T v| ≤ ||u|| ||v||$)"
   ]
  },
  {
   "cell_type": "markdown",
   "metadata": {},
   "source": [
    "$||u+v||^2 = ||u||^2 + 2u^T v + ||v||^2$"
   ]
  },
  {
   "cell_type": "markdown",
   "metadata": {},
   "source": [
    "$\\le ||u||^2 + 2||u|| ||v|| + ||v||^2$ $"
   ]
  },
  {
   "cell_type": "markdown",
   "metadata": {},
   "source": [
    "$=(||u||+||v||)^2$"
   ]
  },
  {
   "cell_type": "markdown",
   "metadata": {},
   "source": [
    "Hence, $||u + v|| ≤ ||u|| + ||v||$"
   ]
  },
  {
   "cell_type": "markdown",
   "metadata": {},
   "source": [
    " "
   ]
  },
  {
   "cell_type": "markdown",
   "metadata": {},
   "source": [
    "#### (e) $||u + v||^2 + ||u − v||^2 = 2(||u||^2 + ||v||^2)$. (This is called the parallelogram law). "
   ]
  },
  {
   "cell_type": "markdown",
   "metadata": {},
   "source": [
    "$||u + v||^2 = ||u||^2 + 2u^T v + ||v||^2$"
   ]
  },
  {
   "cell_type": "markdown",
   "metadata": {},
   "source": [
    "$||u - v||^2 = ||u||^2 - 2u^T v + ||v||^2$"
   ]
  },
  {
   "cell_type": "markdown",
   "metadata": {},
   "source": [
    "hence, $||u + v||^2 + ||u − v||^2 = 2(||u||^2 + ||v||^2)$"
   ]
  },
  {
   "cell_type": "markdown",
   "metadata": {},
   "source": [
    " "
   ]
  },
  {
   "cell_type": "markdown",
   "metadata": {},
   "source": [
    "#### (f) If $u^T v = 0$ then $||u + v||^2 = ||u||^2 + ||v||^2$. (Pythagoras theorem)."
   ]
  },
  {
   "cell_type": "markdown",
   "metadata": {},
   "source": [
    "$||u + v||^2 = ||u||^2 + 2u^T v + ||v||^2$"
   ]
  },
  {
   "cell_type": "markdown",
   "metadata": {},
   "source": [
    "when $u^T v = 0$,  $||u + v||^2 = ||u||^2 + ||v||^2$"
   ]
  },
  {
   "cell_type": "markdown",
   "metadata": {},
   "source": [
    " "
   ]
  },
  {
   "cell_type": "markdown",
   "metadata": {},
   "source": [
    "### 4.Find two 3 × 3 matrices with all non-zero entries that commute. $I.e. AB = BA$."
   ]
  },
  {
   "cell_type": "markdown",
   "metadata": {},
   "source": [
    " Let $A$ be $\\begin{bmatrix}a_{11} & a_{12} & a_{13}\\\\a_{21} & a_{22} & a_{23}\\\\a_{31} & a_{32} & a_{33}\\end{bmatrix} \\quad a_{ij} \\neq 0 \\quad i\\in1,2,3 \\quad j\\in1,2,3$"
   ]
  },
  {
   "cell_type": "markdown",
   "metadata": {},
   "source": [
    "$AB$ and $BA$ have to be $I$, so $A = B^{-1}$ and $B = A^{-1}$"
   ]
  },
  {
   "cell_type": "markdown",
   "metadata": {},
   "source": [
    "$det(A) = a_{11}(a_{22}a_{33}-a_{23}a_{32})-a_{12}(a_{21}a_{33}-a_{23}a_{31})+a_{13}(a_{21}a_{32}-a_{22}a_{31}) \\neq 0$"
   ]
  },
  {
   "cell_type": "markdown",
   "metadata": {},
   "source": [
    "$A^T = \\begin{bmatrix}a_{11} & a_{21} & a_{31} \\\\ a_{12} & a_{22} & a_{32} \\\\ a_{13} & a_{23} & a_{33} \\end{bmatrix}$"
   ]
  },
  {
   "cell_type": "markdown",
   "metadata": {},
   "source": [
    "$Adj(A) = \\begin{bmatrix}a_{22}a_{33}-a_{32}a_{23} & -(a_{12}a_{33}-a_{32}a_{13}) & a_{12}a_{23}-a_{22}a_{13} \\\\\n",
    "           -(a_{21}a_{33}-a_{31}a_{23}) & a_{11}a_{33}-a_{31}a_{13} & -(a_{11}a_{23}-a_{21}a_{13})\\\\\n",
    "           a_{21}a_{32}-a_{31}a_{22} & -(a_{11}a_{32}-a_{31}a_{12}) & a_{11}a_{22}-a_{21}a_{12} \\end{bmatrix}$"
   ]
  },
  {
   "cell_type": "markdown",
   "metadata": {},
   "source": [
    "So, $A^{-1} = \\dfrac{Adj(A)}{det{A}} = B $ "
   ]
  },
  {
   "cell_type": "markdown",
   "metadata": {},
   "source": [
    " "
   ]
  },
  {
   "cell_type": "markdown",
   "metadata": {},
   "source": [
    "### 5.In Chapter 3 of [VMLS] there are definitions for $avg(), rms(), std()$. There is also a derivation of this identity for any vector $x$,\n",
    "### $$\\textbf{std}(x)^2 = \\textbf{rms}(x)^2 − \\textbf{avg}(x)^2$$\n",
    "### Describe the steps of the derivation of this formula in detail."
   ]
  },
  {
   "cell_type": "markdown",
   "metadata": {},
   "source": [
    "$\\textbf{ave}(x) = \\dfrac{\\sum_{i=1}^{n}x_i}{n}, \\quad\n",
    "\\textbf{rms}(x) = \\dfrac{\\sqrt{\\sum_{i=1}^{n}x_i^2}}{\\sqrt{n}}, \\quad\n",
    "\\textbf{std}(x) = \\dfrac{\\sqrt{\\sum_{i=1}^{n}(x_i-ave(x))^2}}{\\sqrt{n}}$, where $x$ is $n$ x $1$ vector."
   ]
  },
  {
   "cell_type": "markdown",
   "metadata": {},
   "source": [
    "standard diviation is a number that is entry number substracted by avarage and devided by sqrt of n."
   ]
  },
  {
   "cell_type": "markdown",
   "metadata": {},
   "source": [
    "$\\textbf{std}(x)^2 = (1/n)||x -(\\textbf{1}^T x/n)\\textbf{1}||^2 \\quad(1)$"
   ]
  },
  {
   "cell_type": "markdown",
   "metadata": {},
   "source": [
    "$(1/n)$ is scalar and norm-square, $||x -(\\textbf{1}^T x/n)\\textbf{1}||^2$, is expanded with $(x -(\\textbf{1}^T x/n)\\textbf{1})^T (x -(\\textbf{1}^T x/n)\\textbf{1})$."
   ]
  },
  {
   "cell_type": "markdown",
   "metadata": {},
   "source": [
    "so, "
   ]
  },
  {
   "cell_type": "markdown",
   "metadata": {},
   "source": [
    "$(1)=(1/n)(x^T x -2 x^T (\\textbf{1}^T x/n)\\textbf{1} + ((\\textbf{1}^T x/n)\\textbf{1})^T ((\\textbf{1}^T x/n)\\textbf{1})) \\quad(2)$ "
   ]
  },
  {
   "cell_type": "markdown",
   "metadata": {},
   "source": [
    "$(\\textbf{1}^T x/n)$ is scalar, so"
   ]
  },
  {
   "cell_type": "markdown",
   "metadata": {},
   "source": [
    "$2x^T(\\textbf{1}^Tx/n)\\textbf{1} = 2(\\textbf{1}^Tx/n)x^T \\textbf{1} =\n",
    "(2/n)(\\textbf{1}^Tx)(\\textbf{1}^T x)^T = (2/n)(\\textbf{1}^Tx)^2$ "
   ]
  },
  {
   "cell_type": "markdown",
   "metadata": {},
   "source": [
    "$((\\textbf{1}^T x/n)\\textbf{1})^T ((\\textbf{1}^T x/n)\\textbf{1}) = (\\textbf{1}^T x/n)^2 \\textbf{1}^T \\textbf{1} = n(\\textbf{1}^T x/n)^2 $"
   ]
  },
  {
   "cell_type": "markdown",
   "metadata": {},
   "source": [
    "Hence,"
   ]
  },
  {
   "cell_type": "markdown",
   "metadata": {},
   "source": [
    "$(2)=(1/n)(x^Tx-(2/n)(\\textbf{1}^T x)^2+n(\\textbf{1}^Tx/n)^2 \\quad (3)$"
   ]
  },
  {
   "cell_type": "markdown",
   "metadata": {},
   "source": [
    "$(3)= (1/n)x^Tx - 2(\\textbf{1}^Tx/n)^2+(\\textbf{1}^T x/n)^2 \n",
    "=(1/n)x^Tx-(\\textbf{1}^T x/n)^2 \\quad (4)$"
   ]
  },
  {
   "cell_type": "markdown",
   "metadata": {},
   "source": [
    "$\\sqrt{(1/n)x^Tx}$ is root means square, and $(\\textbf{1}^T x/n)$ is avarage of all entries"
   ]
  },
  {
   "cell_type": "markdown",
   "metadata": {},
   "source": [
    "Hence,"
   ]
  },
  {
   "cell_type": "markdown",
   "metadata": {},
   "source": [
    "$(4)=\\textbf{rms}(x)^2 - \\textbf{avg}(x)^2$"
   ]
  },
  {
   "cell_type": "markdown",
   "metadata": {},
   "source": [
    " "
   ]
  },
  {
   "cell_type": "markdown",
   "metadata": {},
   "source": [
    "### 6.Do exercise 3.26 from pg. 67 of [VMLS]."
   ]
  },
  {
   "cell_type": "markdown",
   "metadata": {},
   "source": [
    "Time series auto-correlation. Suppose the $T$-vector $x$ is a non-constant time series, with $x_t$ the value at time (or period) $t$.\n",
    "Let $μ = (\\textbf{1}^T x)/T$ denote its mean value. The auto-correlation of $x$ is the function $R(τ)$, \n",
    "defined for $τ = 0, 1, . . .$ as the correlation coefficient of the two vectors $(x, μ\\textbf{1}_τ)$ and $(μ\\textbf{1}_τ, x)$. (The subscript $τ$ denotes the length of the ones vector.) Both of these vectors also have mean $μ$. Roughly speaking, $R(τ)$ tells us how correlated the time series is with a version of itself lagged or shifted by $τ$ periods. (The argument $τ$ is called the lag.)"
   ]
  },
  {
   "cell_type": "markdown",
   "metadata": {},
   "source": [
    "#### (a) Explain why $R(0)=1$, and $R(τ)=0$ for $τ≥T$."
   ]
  },
  {
   "cell_type": "markdown",
   "metadata": {},
   "source": [
    "$x$ is $T$-vector ($t \\in T$), $\\tau$ is the length of the one vector."
   ]
  },
  {
   "cell_type": "markdown",
   "metadata": {},
   "source": [
    "$R(\\tau)$ is the correlation coefficient of vectors, $ a=(x, \\mu \\textbf{1}_\\tau)$ and $b=(\\mu \\textbf{1}_\\tau, x)$"
   ]
  },
  {
   "cell_type": "markdown",
   "metadata": {},
   "source": [
    "Each vectors' average is $\\mu$, so each de-meaned vector are \n",
    "$\n",
    "\\tilde{a} = a-\\mu\\textbf{1}=(x-\\mu\\textbf{1}, 0_\\tau),\n",
    "\\quad\n",
    "\\tilde{b} = b-\\mu\\textbf{1}=(0_\\tau, x-\\mu\\textbf{1})\n",
    "$"
   ]
  },
  {
   "cell_type": "markdown",
   "metadata": {},
   "source": [
    "$R(\\tau)=\\dfrac{\\tilde{a}^T\\tilde{b}}{||\\tilde{a}||||\\tilde{b}||}\n",
    "=\\dfrac{(x-\\mu\\textbf{1},0_\\tau)^T (0_\\tau,x-\\mu\\textbf{1})}{||x-\\mu\\textbf{1}||^2}$"
   ]
  },
  {
   "cell_type": "markdown",
   "metadata": {},
   "source": [
    "When $\\tau=0$, $0_0 = 0$ and $R(0) = \\dfrac{(x-\\mu\\textbf{1})^T (x-\\mu\\textbf{1})}{||x-\\mu\\textbf{1}||^2}\n",
    "=\\dfrac{||x-\\mu\\textbf{1}||^2}{||x-\\mu\\textbf{1}||^2} = 1$."
   ]
  },
  {
   "cell_type": "markdown",
   "metadata": {},
   "source": [
    "So, when $R(0)$, the correlation coefficient between two $x$ vectors is always 1."
   ]
  },
  {
   "cell_type": "markdown",
   "metadata": {},
   "source": [
    "When $\\tau \\geqq T, (x-\\mu\\textbf{1},0_\\tau)^T  (0_\\tau,x-\\mu\\textbf{1})$ is always $0$."
   ]
  },
  {
   "cell_type": "markdown",
   "metadata": {},
   "source": [
    "Hence, under $\\tau \\geqq T, R(\\tau) = 0$"
   ]
  },
  {
   "cell_type": "markdown",
   "metadata": {},
   "source": [
    "#### (b) Let $z$ denote the standardized or $z$-scored version of $x$ (see page 56). Show that for $τ = 0, . . . , T − 1$, "
   ]
  },
  {
   "cell_type": "markdown",
   "metadata": {},
   "source": [
    "$$R(\\tau)= \\dfrac{1}{T}\\sum_{t=1}^{T-\\tau}{z_tz_{t+\\tau}}$$"
   ]
  },
  {
   "cell_type": "markdown",
   "metadata": {},
   "source": [
    "$\\tau < T$"
   ]
  },
  {
   "cell_type": "markdown",
   "metadata": {},
   "source": [
    "$R(\\tau)=\\dfrac{\\tilde{a}^T\\tilde{b}}{||\\tilde{a}||||\\tilde{b}||}\n",
    "=\\left(\\dfrac{(x-\\mu\\textbf{1},0_\\tau)}{||x-\\mu\\textbf{1}||}\\right)^T \\left(\\dfrac{(0_\\tau,x-\\mu\\textbf{1})}{||x-\\mu\\textbf{1}||}\\right)$"
   ]
  },
  {
   "cell_type": "markdown",
   "metadata": {},
   "source": [
    "$\\textbf{std}(x) = \\dfrac{||x-\\mu \\textbf{1}||}{\\sqrt{T}}$"
   ]
  },
  {
   "cell_type": "markdown",
   "metadata": {},
   "source": [
    "Hence"
   ]
  },
  {
   "cell_type": "markdown",
   "metadata": {},
   "source": [
    "$R(\\tau)=\\left(\\dfrac{(x-\\mu\\textbf{1},0_\\tau)}{\\sqrt{T}\\textbf{std}(x)}\\right)^T \\left(\\dfrac{(0_\\tau,x-\\mu\\textbf{1})}{\\sqrt{T}\\textbf{std}(x)}\\right)$"
   ]
  },
  {
   "cell_type": "markdown",
   "metadata": {},
   "source": [
    "Also, $z=\\dfrac{(x-\\mu\\textbf{1})}{\\textbf{std}(x)}$"
   ]
  },
  {
   "cell_type": "markdown",
   "metadata": {},
   "source": [
    "$R(\\tau) = \\dfrac{1}{T}\\left(z,0_\\tau\\right)^T  \\left(0_\\tau,z\\right)$"
   ]
  },
  {
   "cell_type": "markdown",
   "metadata": {},
   "source": [
    "With the two vector's multipled element, $t_{th}$ is from $\\tau+1$ to $T$."
   ]
  },
  {
   "cell_type": "markdown",
   "metadata": {},
   "source": [
    "$(z, 0_\\tau)^T(0_\\tau, z)=z_{\\tau+1}z_1+z_{\\tau+2}z_2…+z_{T}z_{T-\\tau}$"
   ]
  },
  {
   "cell_type": "markdown",
   "metadata": {},
   "source": [
    "Therfore, we can get $$R(\\tau)= \\dfrac{1}{T}\\sum_{t=1}^{T-\\tau}{z_tz_{t+\\tau}}$$"
   ]
  },
  {
   "cell_type": "markdown",
   "metadata": {},
   "source": [
    " "
   ]
  },
  {
   "cell_type": "markdown",
   "metadata": {},
   "source": [
    "#### (c) Find the auto-correlation for the time series $x = (+1, −1, +1, −1, . . . , +1, −1)$. You can assume that $T$ is even."
   ]
  },
  {
   "cell_type": "markdown",
   "metadata": {},
   "source": [
    "under the condition, $\\mu =0$ and norm is $\\sqrt{T}$."
   ]
  },
  {
   "cell_type": "markdown",
   "metadata": {},
   "source": [
    "$R(\\tau)= \\dfrac{1}{T}\\sum_{t=1}^{T-\\tau}{x_tx_{t+\\tau}}\\\\\n",
    "        = \\dfrac{1}{T}\\sum_{t=1}^{T-\\tau}{(-1)^{t+1}(-1)^{t+\\tau+1}}\\\\\n",
    "        = \\dfrac{1}{T}\\sum_{t=1}^{T-\\tau}{(-1)^{2(t+1)}(-1)^\\tau}\\\\\n",
    "        = \\dfrac{T-\\tau}{T}(-1)^\\tau$"
   ]
  },
  {
   "cell_type": "markdown",
   "metadata": {},
   "source": [
    "Therefore, $R(\\tau)$ is $1-\\dfrac{\\tau}{T}$  $(\\tau= even)$, and $-1+\\dfrac{\\tau}{T}$  $(\\tau= odd)$"
   ]
  },
  {
   "cell_type": "markdown",
   "metadata": {},
   "source": [
    "  "
   ]
  },
  {
   "cell_type": "markdown",
   "metadata": {},
   "source": [
    "#### (d) Suppose $x$ denotes the number of meals served by a restaurant on day $τ$. It is observed that $R(7)$ is fairly high, and $R(14)$ is also high, but not as high. Give an English explanation of why this might be."
   ]
  },
  {
   "cell_type": "markdown",
   "metadata": {},
   "source": [
    "If $R(\\tau)$ is large, this means $x_t$ and $x_{t+\\tau}$ are often over or below the mean value together. Hence, $R(7)$ is fairly high means that, for example, the number of the served meals on every Sunday, $x_t$ and $x_{t+7}$, often over the mean together every sunday. $x_{t+7}$ shows the number of served meals a week lator. From the result of $R(7)$ and $R(14)$, we can evaluate the relationship with the number of meals with each day among every weeks."
   ]
  },
  {
   "cell_type": "markdown",
   "metadata": {},
   "source": [
    " "
   ]
  },
  {
   "cell_type": "markdown",
   "metadata": {},
   "source": [
    "### 7.Implement a Julia function that receives two matrices $A$ and $B$ and implements the product $AB$ if they can be multiplied this way (otherwise the function throws an error). The implementation should be via dot products, linear combination of columns, linear combination of rows, or sum of outer products. A flag should indicate which of the four methods is to be used.\n"
   ]
  },
  {
   "cell_type": "code",
   "execution_count": 3,
   "metadata": {},
   "outputs": [
    {
     "data": {
      "text/plain": [
       "3×2 Array{Int64,2}:\n",
       " 13   6\n",
       " 33  14\n",
       " 53  22"
      ]
     },
     "execution_count": 3,
     "metadata": {},
     "output_type": "execute_result"
    }
   ],
   "source": [
    "A =[1 2; 3 4; 5 6]; #3x2\n",
    "B =[7 2; 3 2]; #2x2\n",
    "A*B"
   ]
  },
  {
   "cell_type": "code",
   "execution_count": 3,
   "metadata": {},
   "outputs": [
    {
     "data": {
      "text/plain": [
       "DotPro"
      ]
     },
     "execution_count": 3,
     "metadata": {},
     "output_type": "execute_result"
    }
   ],
   "source": [
    "\"\"\"\n",
    "Dot product\n",
    "\"\"\"\n",
    "function DotPro(A,B)\n",
    "    n,m = size(A)\n",
    "    p,q = size(B)\n",
    "    if m != p #check number of col's of A = number of rows of b\n",
    "        @error \"Size mismatch\"\n",
    "    end\n",
    "    C = zeros(n,q)\n",
    "    for i in 1:n\n",
    "        for j in 1:q\n",
    "            C[i,j] = A[i,:]'*B[:,j] #dot product of i'th row of A and j'th col of B\n",
    "        end\n",
    "    end\n",
    "    C\n",
    "end"
   ]
  },
  {
   "cell_type": "code",
   "execution_count": 4,
   "metadata": {},
   "outputs": [
    {
     "data": {
      "text/plain": [
       "3×2 Array{Float64,2}:\n",
       " 13.0   6.0\n",
       " 33.0  14.0\n",
       " 53.0  22.0"
      ]
     },
     "execution_count": 4,
     "metadata": {},
     "output_type": "execute_result"
    }
   ],
   "source": [
    "DotPro(A,B)"
   ]
  },
  {
   "cell_type": "code",
   "execution_count": 5,
   "metadata": {},
   "outputs": [
    {
     "data": {
      "text/plain": [
       "LinColPro"
      ]
     },
     "execution_count": 5,
     "metadata": {},
     "output_type": "execute_result"
    }
   ],
   "source": [
    "\"\"\" \n",
    "liner combination of columns\n",
    "\"\"\"\n",
    "function LinColPro(A,B)\n",
    "    n,m = size(A)\n",
    "    p,q = size(B)\n",
    "    if m != p # check number of col's of A = number of rows of b\n",
    "        @error \"Size mismatch\"\n",
    "    end\n",
    "    C = zeros(n,q)\n",
    "    for j in 1:q\n",
    "        for k in 1:p\n",
    "            C[:,j] += B[k,j]*A[:,k] # liner combination of columns\n",
    "        end\n",
    "    end\n",
    "    C\n",
    "end"
   ]
  },
  {
   "cell_type": "code",
   "execution_count": 6,
   "metadata": {},
   "outputs": [
    {
     "data": {
      "text/plain": [
       "3×2 Array{Float64,2}:\n",
       " 13.0   6.0\n",
       " 33.0  14.0\n",
       " 53.0  22.0"
      ]
     },
     "execution_count": 6,
     "metadata": {},
     "output_type": "execute_result"
    }
   ],
   "source": [
    "LinColPro(A,B)"
   ]
  },
  {
   "cell_type": "code",
   "execution_count": 7,
   "metadata": {},
   "outputs": [
    {
     "data": {
      "text/plain": [
       "LinRowPro"
      ]
     },
     "execution_count": 7,
     "metadata": {},
     "output_type": "execute_result"
    }
   ],
   "source": [
    "\"\"\" \n",
    "liner combination of rows\n",
    "\"\"\"\n",
    "function LinRowPro(A,B)\n",
    "    n,m = size(A)\n",
    "    p,q = size(B)\n",
    "    if m != p #check number of col's of A = number of rows of b\n",
    "        @error \"Size mismatch\"\n",
    "    end\n",
    "    C = zeros(n,q)\n",
    "    for i in 1:n\n",
    "        for j in 1:m\n",
    "            C[i,:] += A[i,j]*B[j,:] # liner combination of rows\n",
    "        end\n",
    "    end\n",
    "    C\n",
    "end\n"
   ]
  },
  {
   "cell_type": "code",
   "execution_count": 8,
   "metadata": {},
   "outputs": [
    {
     "data": {
      "text/plain": [
       "3×2 Array{Float64,2}:\n",
       " 13.0   6.0\n",
       " 33.0  14.0\n",
       " 53.0  22.0"
      ]
     },
     "execution_count": 8,
     "metadata": {},
     "output_type": "execute_result"
    }
   ],
   "source": [
    "LinRowPro(A,B)"
   ]
  },
  {
   "cell_type": "code",
   "execution_count": 1,
   "metadata": {},
   "outputs": [
    {
     "data": {
      "text/plain": [
       "OuterProdMat"
      ]
     },
     "execution_count": 1,
     "metadata": {},
     "output_type": "execute_result"
    }
   ],
   "source": [
    "\"\"\" \n",
    "sum of outer products\n",
    "\"\"\"\n",
    "function OuterProdMat(A,B)\n",
    "    n,m = size(A)\n",
    "    p,q = size(B)\n",
    "    if m != p #check number of col's of A = number of rows of b\n",
    "        @error \"Size mismatch\"\n",
    "    end\n",
    "    C = zeros(n,q)\n",
    "    for k in 1:m\n",
    "        @show k\n",
    "        A[:,k] #k'th col of A\n",
    "        B[k,:] #k'th row of B\n",
    "        C += A[:,k]*B[k,:]' #outer product \n",
    "    end\n",
    "    C\n",
    "end"
   ]
  },
  {
   "cell_type": "code",
   "execution_count": 4,
   "metadata": {},
   "outputs": [
    {
     "name": "stdout",
     "output_type": "stream",
     "text": [
      "k = 1\n",
      "k = 2\n"
     ]
    },
    {
     "data": {
      "text/plain": [
       "3×2 Array{Float64,2}:\n",
       " 13.0   6.0\n",
       " 33.0  14.0\n",
       " 53.0  22.0"
      ]
     },
     "execution_count": 4,
     "metadata": {},
     "output_type": "execute_result"
    }
   ],
   "source": [
    "OuterProdMat(A,B)"
   ]
  },
  {
   "cell_type": "markdown",
   "metadata": {},
   "source": [
    "### 8.If you were give a random $n × n$ matrix $A$ where each $A_{i,j}$ is independently and uniformly selected from a continuous distribution, e.g. uniform $(0,1)$, then the probability of the matrix being singular is $0$. However if the entries are uniformly selected from a discrete set of numbers then there is a non zero chance to have a less than full rank matrix."
   ]
  },
  {
   "cell_type": "markdown",
   "metadata": {},
   "source": [
    "#### (a) Demonstrate this claim on $3 × 3$ matrices by generating random uniform entries for $10^6$ matrices and seeing they are all non-singular. Then generate random matrices with entries from the set ${1, 2, 3}$ until you find a singular matrix."
   ]
  },
  {
   "cell_type": "markdown",
   "metadata": {},
   "source": [
    "Generate $10^6$ matrices which is $3$ x $3$, and if matrix is Singular matrix, determination of the matrix is $0$"
   ]
  },
  {
   "cell_type": "code",
   "execution_count": 11,
   "metadata": {},
   "outputs": [],
   "source": [
    "using LinearAlgebra"
   ]
  },
  {
   "cell_type": "code",
   "execution_count": 12,
   "metadata": {},
   "outputs": [],
   "source": [
    "N = 10^6\n",
    "n = 3\n",
    "myRandMat() = rand(n,n)\n",
    "data = [det(myRandMat()) for _ in 1:N];"
   ]
  },
  {
   "cell_type": "markdown",
   "metadata": {},
   "source": [
    "Confirm if there is a matrix with the determination is $0$"
   ]
  },
  {
   "cell_type": "code",
   "execution_count": 13,
   "metadata": {},
   "outputs": [
    {
     "data": {
      "text/plain": [
       "0"
      ]
     },
     "execution_count": 13,
     "metadata": {},
     "output_type": "execute_result"
    }
   ],
   "source": [
    "count=0\n",
    "for i in 1:N\n",
    "    if data[i] == 0\n",
    "        count += 1\n",
    "    end\n",
    "end\n",
    "count"
   ]
  },
  {
   "cell_type": "markdown",
   "metadata": {},
   "source": [
    "There is no matrix with the determination = 0."
   ]
  },
  {
   "cell_type": "markdown",
   "metadata": {},
   "source": [
    "Then, generate random matrices with entries from the set  1,2,3, and find singular matrix."
   ]
  },
  {
   "cell_type": "code",
   "execution_count": 14,
   "metadata": {},
   "outputs": [
    {
     "data": {
      "text/plain": [
       "myRandMat2 (generic function with 1 method)"
      ]
     },
     "execution_count": 14,
     "metadata": {},
     "output_type": "execute_result"
    }
   ],
   "source": [
    "myRandMat2() = rand([1,2,3],3,3)"
   ]
  },
  {
   "cell_type": "code",
   "execution_count": 15,
   "metadata": {},
   "outputs": [
    {
     "data": {
      "text/plain": [
       "3×3 Array{Int64,2}:\n",
       " 3  1  1\n",
       " 3  1  1\n",
       " 3  2  3"
      ]
     },
     "execution_count": 15,
     "metadata": {},
     "output_type": "execute_result"
    }
   ],
   "source": [
    "N=10^6\n",
    "\n",
    "for i in 1:N\n",
    "    A = myRandMat2()\n",
    "    if det(A) == 0\n",
    "        return A\n",
    "    end\n",
    "end"
   ]
  },
  {
   "cell_type": "code",
   "execution_count": 16,
   "metadata": {
    "scrolled": true
   },
   "outputs": [
    {
     "data": {
      "text/plain": [
       "0.0"
      ]
     },
     "execution_count": 16,
     "metadata": {},
     "output_type": "execute_result"
    }
   ],
   "source": [
    "det(A)"
   ]
  },
  {
   "cell_type": "markdown",
   "metadata": {},
   "source": [
    "Matrix A is an example of $3$ x $3$ singular matrix."
   ]
  },
  {
   "cell_type": "markdown",
   "metadata": {},
   "source": [
    "#### (b) Consider now $4$×$4$ matrices with elements selected uniformly randomly from ${\\ell_1,\\ell_2,\\ell_3}$ (where $\\ell_i \\neq \\ell_j$ and $\\ell_i\\neq 0$). Carry out a numerical simulation experiment to make a conjecture if the distribution of the rank is affected by the values of $\\ell_i$ or not."
   ]
  },
  {
   "cell_type": "markdown",
   "metadata": {},
   "source": [
    "create function that select $\\ell_i$ from 1 to 10. "
   ]
  },
  {
   "cell_type": "code",
   "execution_count": 17,
   "metadata": {},
   "outputs": [
    {
     "data": {
      "text/plain": [
       "ℓselect (generic function with 1 method)"
      ]
     },
     "execution_count": 17,
     "metadata": {},
     "output_type": "execute_result"
    }
   ],
   "source": [
    "using StatsBase\n",
    "k=10\n",
    "ℓselect() = sample(1:k, 3, replace=false)"
   ]
  },
  {
   "cell_type": "code",
   "execution_count": 18,
   "metadata": {},
   "outputs": [
    {
     "data": {
      "text/plain": [
       "3-element Array{Int64,1}:\n",
       " 6\n",
       " 8\n",
       " 4"
      ]
     },
     "execution_count": 18,
     "metadata": {},
     "output_type": "execute_result"
    }
   ],
   "source": [
    "ℓselect()"
   ]
  },
  {
   "cell_type": "code",
   "execution_count": 19,
   "metadata": {},
   "outputs": [],
   "source": [
    "N=10^6\n",
    "data =[]\n",
    "\n",
    "for i in 1:N\n",
    "    A = rand(ℓselect(),4,4)\n",
    "    append!(data, rank(A))\n",
    "end"
   ]
  },
  {
   "cell_type": "code",
   "execution_count": 20,
   "metadata": {},
   "outputs": [
    {
     "data": {
      "text/plain": [
       "Dict{Any,Int64} with 4 entries:\n",
       "  4 => 843151\n",
       "  2 => 2425\n",
       "  3 => 154418\n",
       "  1 => 6"
      ]
     },
     "execution_count": 20,
     "metadata": {},
     "output_type": "execute_result"
    }
   ],
   "source": [
    "using StatsBase\n",
    "countmap(data)"
   ]
  },
  {
   "cell_type": "code",
   "execution_count": 21,
   "metadata": {},
   "outputs": [
    {
     "data": {
      "image/svg+xml": [
       "<?xml version=\"1.0\" encoding=\"utf-8\"?>\n",
       "<svg xmlns=\"http://www.w3.org/2000/svg\" xmlns:xlink=\"http://www.w3.org/1999/xlink\" width=\"600\" height=\"400\" viewBox=\"0 0 2400 1600\">\n",
       "<defs>\n",
       "  <clipPath id=\"clip880\">\n",
       "    <rect x=\"0\" y=\"0\" width=\"2400\" height=\"1600\"/>\n",
       "  </clipPath>\n",
       "</defs>\n",
       "<path clip-path=\"url(#clip880)\" d=\"\n",
       "M0 1600 L2400 1600 L2400 0 L0 0  Z\n",
       "  \" fill=\"#ffffff\" fill-rule=\"evenodd\" fill-opacity=\"1\"/>\n",
       "<defs>\n",
       "  <clipPath id=\"clip881\">\n",
       "    <rect x=\"480\" y=\"0\" width=\"1681\" height=\"1600\"/>\n",
       "  </clipPath>\n",
       "</defs>\n",
       "<path clip-path=\"url(#clip880)\" d=\"\n",
       "M214.954 1486.45 L2352.76 1486.45 L2352.76 47.2441 L214.954 47.2441  Z\n",
       "  \" fill=\"#ffffff\" fill-rule=\"evenodd\" fill-opacity=\"1\"/>\n",
       "<defs>\n",
       "  <clipPath id=\"clip882\">\n",
       "    <rect x=\"214\" y=\"47\" width=\"2139\" height=\"1440\"/>\n",
       "  </clipPath>\n",
       "</defs>\n",
       "<polyline clip-path=\"url(#clip882)\" style=\"stroke:#000000; stroke-width:2; stroke-opacity:0.1; fill:none\" points=\"\n",
       "  332.537,1486.45 332.537,47.2441 \n",
       "  \"/>\n",
       "<polyline clip-path=\"url(#clip882)\" style=\"stroke:#000000; stroke-width:2; stroke-opacity:0.1; fill:none\" points=\"\n",
       "  808.196,1486.45 808.196,47.2441 \n",
       "  \"/>\n",
       "<polyline clip-path=\"url(#clip882)\" style=\"stroke:#000000; stroke-width:2; stroke-opacity:0.1; fill:none\" points=\"\n",
       "  1283.86,1486.45 1283.86,47.2441 \n",
       "  \"/>\n",
       "<polyline clip-path=\"url(#clip882)\" style=\"stroke:#000000; stroke-width:2; stroke-opacity:0.1; fill:none\" points=\"\n",
       "  1759.51,1486.45 1759.51,47.2441 \n",
       "  \"/>\n",
       "<polyline clip-path=\"url(#clip882)\" style=\"stroke:#000000; stroke-width:2; stroke-opacity:0.1; fill:none\" points=\"\n",
       "  2235.17,1486.45 2235.17,47.2441 \n",
       "  \"/>\n",
       "<polyline clip-path=\"url(#clip882)\" style=\"stroke:#000000; stroke-width:2; stroke-opacity:0.1; fill:none\" points=\"\n",
       "  214.954,1445.72 2352.76,1445.72 \n",
       "  \"/>\n",
       "<polyline clip-path=\"url(#clip882)\" style=\"stroke:#000000; stroke-width:2; stroke-opacity:0.1; fill:none\" points=\"\n",
       "  214.954,1123.65 2352.76,1123.65 \n",
       "  \"/>\n",
       "<polyline clip-path=\"url(#clip882)\" style=\"stroke:#000000; stroke-width:2; stroke-opacity:0.1; fill:none\" points=\"\n",
       "  214.954,801.589 2352.76,801.589 \n",
       "  \"/>\n",
       "<polyline clip-path=\"url(#clip882)\" style=\"stroke:#000000; stroke-width:2; stroke-opacity:0.1; fill:none\" points=\"\n",
       "  214.954,479.526 2352.76,479.526 \n",
       "  \"/>\n",
       "<polyline clip-path=\"url(#clip882)\" style=\"stroke:#000000; stroke-width:2; stroke-opacity:0.1; fill:none\" points=\"\n",
       "  214.954,157.463 2352.76,157.463 \n",
       "  \"/>\n",
       "<polyline clip-path=\"url(#clip880)\" style=\"stroke:#000000; stroke-width:4; stroke-opacity:1; fill:none\" points=\"\n",
       "  214.954,1486.45 2352.76,1486.45 \n",
       "  \"/>\n",
       "<polyline clip-path=\"url(#clip880)\" style=\"stroke:#000000; stroke-width:4; stroke-opacity:1; fill:none\" points=\"\n",
       "  214.954,1486.45 214.954,47.2441 \n",
       "  \"/>\n",
       "<polyline clip-path=\"url(#clip880)\" style=\"stroke:#000000; stroke-width:4; stroke-opacity:1; fill:none\" points=\"\n",
       "  332.537,1486.45 332.537,1469.18 \n",
       "  \"/>\n",
       "<polyline clip-path=\"url(#clip880)\" style=\"stroke:#000000; stroke-width:4; stroke-opacity:1; fill:none\" points=\"\n",
       "  808.196,1486.45 808.196,1469.18 \n",
       "  \"/>\n",
       "<polyline clip-path=\"url(#clip880)\" style=\"stroke:#000000; stroke-width:4; stroke-opacity:1; fill:none\" points=\"\n",
       "  1283.86,1486.45 1283.86,1469.18 \n",
       "  \"/>\n",
       "<polyline clip-path=\"url(#clip880)\" style=\"stroke:#000000; stroke-width:4; stroke-opacity:1; fill:none\" points=\"\n",
       "  1759.51,1486.45 1759.51,1469.18 \n",
       "  \"/>\n",
       "<polyline clip-path=\"url(#clip880)\" style=\"stroke:#000000; stroke-width:4; stroke-opacity:1; fill:none\" points=\"\n",
       "  2235.17,1486.45 2235.17,1469.18 \n",
       "  \"/>\n",
       "<polyline clip-path=\"url(#clip880)\" style=\"stroke:#000000; stroke-width:4; stroke-opacity:1; fill:none\" points=\"\n",
       "  214.954,1445.72 240.608,1445.72 \n",
       "  \"/>\n",
       "<polyline clip-path=\"url(#clip880)\" style=\"stroke:#000000; stroke-width:4; stroke-opacity:1; fill:none\" points=\"\n",
       "  214.954,1123.65 240.608,1123.65 \n",
       "  \"/>\n",
       "<polyline clip-path=\"url(#clip880)\" style=\"stroke:#000000; stroke-width:4; stroke-opacity:1; fill:none\" points=\"\n",
       "  214.954,801.589 240.608,801.589 \n",
       "  \"/>\n",
       "<polyline clip-path=\"url(#clip880)\" style=\"stroke:#000000; stroke-width:4; stroke-opacity:1; fill:none\" points=\"\n",
       "  214.954,479.526 240.608,479.526 \n",
       "  \"/>\n",
       "<polyline clip-path=\"url(#clip880)\" style=\"stroke:#000000; stroke-width:4; stroke-opacity:1; fill:none\" points=\"\n",
       "  214.954,157.463 240.608,157.463 \n",
       "  \"/>\n",
       "<path clip-path=\"url(#clip880)\" d=\"M 0 0 M322.919 1535.98 L330.558 1535.98 L330.558 1509.62 L322.248 1511.29 L322.248 1507.03 L330.512 1505.36 L335.188 1505.36 L335.188 1535.98 L342.827 1535.98 L342.827 1539.92 L322.919 1539.92 L322.919 1535.98 Z\" fill=\"#000000\" fill-rule=\"evenodd\" fill-opacity=\"1\" /><path clip-path=\"url(#clip880)\" d=\"M 0 0 M802.849 1535.98 L819.168 1535.98 L819.168 1539.92 L797.224 1539.92 L797.224 1535.98 Q799.886 1533.23 804.469 1528.6 Q809.076 1523.95 810.256 1522.61 Q812.502 1520.08 813.381 1518.35 Q814.284 1516.59 814.284 1514.9 Q814.284 1512.14 812.34 1510.41 Q810.418 1508.67 807.317 1508.67 Q805.118 1508.67 802.664 1509.43 Q800.233 1510.2 797.456 1511.75 L797.456 1507.03 Q800.28 1505.89 802.733 1505.31 Q805.187 1504.73 807.224 1504.73 Q812.594 1504.73 815.789 1507.42 Q818.983 1510.11 818.983 1514.6 Q818.983 1516.73 818.173 1518.65 Q817.386 1520.54 815.28 1523.14 Q814.701 1523.81 811.599 1527.03 Q808.497 1530.22 802.849 1535.98 Z\" fill=\"#000000\" fill-rule=\"evenodd\" fill-opacity=\"1\" /><path clip-path=\"url(#clip880)\" d=\"M 0 0 M1288.1 1521.29 Q1291.46 1522 1293.33 1524.27 Q1295.23 1526.54 1295.23 1529.87 Q1295.23 1534.99 1291.71 1537.79 Q1288.2 1540.59 1281.71 1540.59 Q1279.54 1540.59 1277.22 1540.15 Q1274.93 1539.73 1272.48 1538.88 L1272.48 1534.36 Q1274.42 1535.5 1276.74 1536.08 Q1279.05 1536.66 1281.58 1536.66 Q1285.97 1536.66 1288.26 1534.92 Q1290.58 1533.18 1290.58 1529.87 Q1290.58 1526.82 1288.43 1525.11 Q1286.3 1523.37 1282.48 1523.37 L1278.45 1523.37 L1278.45 1519.53 L1282.66 1519.53 Q1286.11 1519.53 1287.94 1518.16 Q1289.77 1516.77 1289.77 1514.18 Q1289.77 1511.52 1287.87 1510.11 Q1286 1508.67 1282.48 1508.67 Q1280.56 1508.67 1278.36 1509.09 Q1276.16 1509.5 1273.52 1510.38 L1273.52 1506.22 Q1276.18 1505.48 1278.5 1505.11 Q1280.83 1504.73 1282.89 1504.73 Q1288.22 1504.73 1291.32 1507.17 Q1294.42 1509.57 1294.42 1513.69 Q1294.42 1516.56 1292.78 1518.55 Q1291.14 1520.52 1288.1 1521.29 Z\" fill=\"#000000\" fill-rule=\"evenodd\" fill-opacity=\"1\" /><path clip-path=\"url(#clip880)\" d=\"M 0 0 M1762.52 1509.43 L1750.72 1527.88 L1762.52 1527.88 L1762.52 1509.43 M1761.3 1505.36 L1767.18 1505.36 L1767.18 1527.88 L1772.11 1527.88 L1772.11 1531.77 L1767.18 1531.77 L1767.18 1539.92 L1762.52 1539.92 L1762.52 1531.77 L1746.92 1531.77 L1746.92 1527.26 L1761.3 1505.36 Z\" fill=\"#000000\" fill-rule=\"evenodd\" fill-opacity=\"1\" /><path clip-path=\"url(#clip880)\" d=\"M 0 0 M2225.45 1505.36 L2243.81 1505.36 L2243.81 1509.3 L2229.73 1509.3 L2229.73 1517.77 Q2230.75 1517.42 2231.77 1517.26 Q2232.79 1517.07 2233.81 1517.07 Q2239.59 1517.07 2242.97 1520.24 Q2246.35 1523.42 2246.35 1528.83 Q2246.35 1534.41 2242.88 1537.51 Q2239.41 1540.59 2233.09 1540.59 Q2230.91 1540.59 2228.65 1540.22 Q2226.4 1539.85 2223.99 1539.11 L2223.99 1534.41 Q2226.08 1535.54 2228.3 1536.1 Q2230.52 1536.66 2233 1536.66 Q2237 1536.66 2239.34 1534.55 Q2241.68 1532.44 2241.68 1528.83 Q2241.68 1525.22 2239.34 1523.11 Q2237 1521.01 2233 1521.01 Q2231.12 1521.01 2229.25 1521.42 Q2227.4 1521.84 2225.45 1522.72 L2225.45 1505.36 Z\" fill=\"#000000\" fill-rule=\"evenodd\" fill-opacity=\"1\" /><path clip-path=\"url(#clip880)\" d=\"M 0 0 M179.01 1431.51 Q175.399 1431.51 173.57 1435.08 Q171.765 1438.62 171.765 1445.75 Q171.765 1452.86 173.57 1456.42 Q175.399 1459.96 179.01 1459.96 Q182.644 1459.96 184.45 1456.42 Q186.279 1452.86 186.279 1445.75 Q186.279 1438.62 184.45 1435.08 Q182.644 1431.51 179.01 1431.51 M179.01 1427.81 Q184.82 1427.81 187.876 1432.42 Q190.954 1437 190.954 1445.75 Q190.954 1454.48 187.876 1459.08 Q184.82 1463.67 179.01 1463.67 Q173.2 1463.67 170.121 1459.08 Q167.066 1454.48 167.066 1445.75 Q167.066 1437 170.121 1432.42 Q173.2 1427.81 179.01 1427.81 Z\" fill=\"#000000\" fill-rule=\"evenodd\" fill-opacity=\"1\" /><path clip-path=\"url(#clip880)\" d=\"M 0 0 M70.4255 1143.44 L86.7449 1143.44 L86.7449 1147.38 L64.8006 1147.38 L64.8006 1143.44 Q67.4626 1140.69 72.0459 1136.06 Q76.6524 1131.41 77.8329 1130.07 Q80.0783 1127.54 80.9579 1125.81 Q81.8607 1124.05 81.8607 1122.36 Q81.8607 1119.6 79.9162 1117.87 Q77.9949 1116.13 74.8931 1116.13 Q72.694 1116.13 70.2404 1116.89 Q67.8098 1117.66 65.032 1119.21 L65.032 1114.49 Q67.8561 1113.35 70.3098 1112.77 Q72.7635 1112.2 74.8005 1112.2 Q80.1709 1112.2 83.3653 1114.88 Q86.5597 1117.57 86.5597 1122.06 Q86.5597 1124.19 85.7495 1126.11 Q84.9625 1128.01 82.856 1130.6 Q82.2773 1131.27 79.1755 1134.49 Q76.0737 1137.68 70.4255 1143.44 Z\" fill=\"#000000\" fill-rule=\"evenodd\" fill-opacity=\"1\" /><path clip-path=\"url(#clip880)\" d=\"M 0 0 M119.985 1121.92 L109.407 1132.54 L119.985 1143.12 L117.231 1145.92 L106.606 1135.3 L95.981 1145.92 L93.2495 1143.12 L103.805 1132.54 L93.2495 1121.92 L95.981 1119.12 L106.606 1129.74 L117.231 1119.12 L119.985 1121.92 Z\" fill=\"#000000\" fill-rule=\"evenodd\" fill-opacity=\"1\" /><path clip-path=\"url(#clip880)\" d=\"M 0 0 M125.865 1143.44 L133.504 1143.44 L133.504 1117.08 L125.194 1118.75 L125.194 1114.49 L133.458 1112.82 L138.134 1112.82 L138.134 1143.44 L145.772 1143.44 L145.772 1147.38 L125.865 1147.38 L125.865 1143.44 Z\" fill=\"#000000\" fill-rule=\"evenodd\" fill-opacity=\"1\" /><path clip-path=\"url(#clip880)\" d=\"M 0 0 M160.842 1115.9 Q157.231 1115.9 155.402 1119.46 Q153.596 1123.01 153.596 1130.13 Q153.596 1137.24 155.402 1140.81 Q157.231 1144.35 160.842 1144.35 Q164.476 1144.35 166.282 1140.81 Q168.11 1137.24 168.11 1130.13 Q168.11 1123.01 166.282 1119.46 Q164.476 1115.9 160.842 1115.9 M160.842 1112.2 Q166.652 1112.2 169.707 1116.8 Q172.786 1121.38 172.786 1130.13 Q172.786 1138.86 169.707 1143.47 Q166.652 1148.05 160.842 1148.05 Q155.032 1148.05 151.953 1143.47 Q148.897 1138.86 148.897 1130.13 Q148.897 1121.38 151.953 1116.8 Q155.032 1112.2 160.842 1112.2 Z\" fill=\"#000000\" fill-rule=\"evenodd\" fill-opacity=\"1\" /><path clip-path=\"url(#clip880)\" d=\"M 0 0 M173.971 1091.89 L188.886 1091.89 L188.886 1095.09 L177.45 1095.09 L177.45 1101.97 Q178.278 1101.69 179.106 1101.56 Q179.933 1101.41 180.761 1101.41 Q185.463 1101.41 188.208 1103.98 Q190.954 1106.56 190.954 1110.96 Q190.954 1115.49 188.133 1118.01 Q185.312 1120.52 180.178 1120.52 Q178.41 1120.52 176.566 1120.21 Q174.742 1119.91 172.786 1119.31 L172.786 1115.49 Q174.479 1116.42 176.284 1116.87 Q178.09 1117.32 180.102 1117.32 Q183.356 1117.32 185.256 1115.61 Q187.155 1113.89 187.155 1110.96 Q187.155 1108.03 185.256 1106.32 Q183.356 1104.6 180.102 1104.6 Q178.579 1104.6 177.055 1104.94 Q175.551 1105.28 173.971 1106 L173.971 1091.89 Z\" fill=\"#000000\" fill-rule=\"evenodd\" fill-opacity=\"1\" /><path clip-path=\"url(#clip880)\" d=\"M 0 0 M77.1616 794.831 L65.3561 813.28 L77.1616 813.28 L77.1616 794.831 M75.9348 790.757 L81.8144 790.757 L81.8144 813.28 L86.7449 813.28 L86.7449 817.169 L81.8144 817.169 L81.8144 825.317 L77.1616 825.317 L77.1616 817.169 L61.5598 817.169 L61.5598 812.655 L75.9348 790.757 Z\" fill=\"#000000\" fill-rule=\"evenodd\" fill-opacity=\"1\" /><path clip-path=\"url(#clip880)\" d=\"M 0 0 M119.985 799.854 L109.407 810.479 L119.985 821.058 L117.231 823.859 L106.606 813.234 L95.981 823.859 L93.2495 821.058 L103.805 810.479 L93.2495 799.854 L95.981 797.053 L106.606 807.678 L117.231 797.053 L119.985 799.854 Z\" fill=\"#000000\" fill-rule=\"evenodd\" fill-opacity=\"1\" /><path clip-path=\"url(#clip880)\" d=\"M 0 0 M125.865 821.382 L133.504 821.382 L133.504 795.016 L125.194 796.683 L125.194 792.424 L133.458 790.757 L138.134 790.757 L138.134 821.382 L145.772 821.382 L145.772 825.317 L125.865 825.317 L125.865 821.382 Z\" fill=\"#000000\" fill-rule=\"evenodd\" fill-opacity=\"1\" /><path clip-path=\"url(#clip880)\" d=\"M 0 0 M160.842 793.836 Q157.231 793.836 155.402 797.4 Q153.596 800.942 153.596 808.072 Q153.596 815.178 155.402 818.743 Q157.231 822.285 160.842 822.285 Q164.476 822.285 166.282 818.743 Q168.11 815.178 168.11 808.072 Q168.11 800.942 166.282 797.4 Q164.476 793.836 160.842 793.836 M160.842 790.132 Q166.652 790.132 169.707 794.738 Q172.786 799.322 172.786 808.072 Q172.786 816.798 169.707 821.405 Q166.652 825.988 160.842 825.988 Q155.032 825.988 151.953 821.405 Q148.897 816.798 148.897 808.072 Q148.897 799.322 151.953 794.738 Q155.032 790.132 160.842 790.132 Z\" fill=\"#000000\" fill-rule=\"evenodd\" fill-opacity=\"1\" /><path clip-path=\"url(#clip880)\" d=\"M 0 0 M173.971 769.827 L188.886 769.827 L188.886 773.024 L177.45 773.024 L177.45 779.908 Q178.278 779.625 179.106 779.494 Q179.933 779.343 180.761 779.343 Q185.463 779.343 188.208 781.92 Q190.954 784.497 190.954 788.898 Q190.954 793.43 188.133 795.951 Q185.312 798.452 180.178 798.452 Q178.41 798.452 176.566 798.151 Q174.742 797.85 172.786 797.248 L172.786 793.43 Q174.479 794.352 176.284 794.803 Q178.09 795.255 180.102 795.255 Q183.356 795.255 185.256 793.543 Q187.155 791.832 187.155 788.898 Q187.155 785.964 185.256 784.252 Q183.356 782.541 180.102 782.541 Q178.579 782.541 177.055 782.879 Q175.551 783.218 173.971 783.932 L173.971 769.827 Z\" fill=\"#000000\" fill-rule=\"evenodd\" fill-opacity=\"1\" /><path clip-path=\"url(#clip880)\" d=\"M 0 0 M75.2172 484.11 Q72.069 484.11 70.2172 486.263 Q68.3885 488.416 68.3885 492.166 Q68.3885 495.893 70.2172 498.069 Q72.069 500.221 75.2172 500.221 Q78.3653 500.221 80.194 498.069 Q82.0458 495.893 82.0458 492.166 Q82.0458 488.416 80.194 486.263 Q78.3653 484.11 75.2172 484.11 M84.4995 469.458 L84.4995 473.717 Q82.7403 472.884 80.9347 472.444 Q79.1523 472.004 77.3931 472.004 Q72.7635 472.004 70.3098 475.129 Q67.8793 478.254 67.532 484.573 Q68.8978 482.559 70.9579 481.495 Q73.0181 480.407 75.495 480.407 Q80.7033 480.407 83.7125 483.578 Q86.7449 486.726 86.7449 492.166 Q86.7449 497.49 83.5968 500.708 Q80.4486 503.925 75.2172 503.925 Q69.2218 503.925 66.0506 499.342 Q62.8793 494.735 62.8793 486.009 Q62.8793 477.814 66.7681 472.953 Q70.657 468.069 77.2079 468.069 Q78.9672 468.069 80.7496 468.416 Q82.5551 468.763 84.4995 469.458 Z\" fill=\"#000000\" fill-rule=\"evenodd\" fill-opacity=\"1\" /><path clip-path=\"url(#clip880)\" d=\"M 0 0 M119.985 477.791 L109.407 488.416 L119.985 498.995 L117.231 501.795 L106.606 491.171 L95.981 501.795 L93.2495 498.995 L103.805 488.416 L93.2495 477.791 L95.981 474.99 L106.606 485.615 L117.231 474.99 L119.985 477.791 Z\" fill=\"#000000\" fill-rule=\"evenodd\" fill-opacity=\"1\" /><path clip-path=\"url(#clip880)\" d=\"M 0 0 M125.865 499.319 L133.504 499.319 L133.504 472.953 L125.194 474.62 L125.194 470.36 L133.458 468.694 L138.134 468.694 L138.134 499.319 L145.772 499.319 L145.772 503.254 L125.865 503.254 L125.865 499.319 Z\" fill=\"#000000\" fill-rule=\"evenodd\" fill-opacity=\"1\" /><path clip-path=\"url(#clip880)\" d=\"M 0 0 M160.842 471.772 Q157.231 471.772 155.402 475.337 Q153.596 478.879 153.596 486.009 Q153.596 493.115 155.402 496.68 Q157.231 500.221 160.842 500.221 Q164.476 500.221 166.282 496.68 Q168.11 493.115 168.11 486.009 Q168.11 478.879 166.282 475.337 Q164.476 471.772 160.842 471.772 M160.842 468.069 Q166.652 468.069 169.707 472.675 Q172.786 477.259 172.786 486.009 Q172.786 494.735 169.707 499.342 Q166.652 503.925 160.842 503.925 Q155.032 503.925 151.953 499.342 Q148.897 494.735 148.897 486.009 Q148.897 477.259 151.953 472.675 Q155.032 468.069 160.842 468.069 Z\" fill=\"#000000\" fill-rule=\"evenodd\" fill-opacity=\"1\" /><path clip-path=\"url(#clip880)\" d=\"M 0 0 M173.971 447.763 L188.886 447.763 L188.886 450.961 L177.45 450.961 L177.45 457.844 Q178.278 457.562 179.106 457.431 Q179.933 457.28 180.761 457.28 Q185.463 457.28 188.208 459.857 Q190.954 462.433 190.954 466.834 Q190.954 471.367 188.133 473.887 Q185.312 476.389 180.178 476.389 Q178.41 476.389 176.566 476.088 Q174.742 475.787 172.786 475.185 L172.786 471.367 Q174.479 472.289 176.284 472.74 Q178.09 473.191 180.102 473.191 Q183.356 473.191 185.256 471.48 Q187.155 469.768 187.155 466.834 Q187.155 463.9 185.256 462.189 Q183.356 460.477 180.102 460.477 Q178.579 460.477 177.055 460.816 Q175.551 461.155 173.971 461.869 L173.971 447.763 Z\" fill=\"#000000\" fill-rule=\"evenodd\" fill-opacity=\"1\" /><path clip-path=\"url(#clip880)\" d=\"M 0 0 M74.8931 164.779 Q71.5598 164.779 69.6385 166.561 Q67.7404 168.343 67.7404 171.468 Q67.7404 174.593 69.6385 176.376 Q71.5598 178.158 74.8931 178.158 Q78.2264 178.158 80.1477 176.376 Q82.069 174.57 82.069 171.468 Q82.069 168.343 80.1477 166.561 Q78.2496 164.779 74.8931 164.779 M70.2172 162.788 Q67.208 162.047 65.5182 159.987 Q63.8515 157.927 63.8515 154.964 Q63.8515 150.82 66.7913 148.413 Q69.7542 146.006 74.8931 146.006 Q80.0551 146.006 82.9949 148.413 Q85.9347 150.82 85.9347 154.964 Q85.9347 157.927 84.2449 159.987 Q82.5782 162.047 79.5922 162.788 Q82.9718 163.575 84.8468 165.867 Q86.7449 168.158 86.7449 171.468 Q86.7449 176.492 83.6662 179.177 Q80.6107 181.862 74.8931 181.862 Q69.1755 181.862 66.0969 179.177 Q63.0413 176.492 63.0413 171.468 Q63.0413 168.158 64.9395 165.867 Q66.8376 163.575 70.2172 162.788 M68.5042 155.404 Q68.5042 158.089 70.1709 159.594 Q71.8607 161.098 74.8931 161.098 Q77.9023 161.098 79.5922 159.594 Q81.3051 158.089 81.3051 155.404 Q81.3051 152.719 79.5922 151.214 Q77.9023 149.709 74.8931 149.709 Q71.8607 149.709 70.1709 151.214 Q68.5042 152.719 68.5042 155.404 Z\" fill=\"#000000\" fill-rule=\"evenodd\" fill-opacity=\"1\" /><path clip-path=\"url(#clip880)\" d=\"M 0 0 M119.985 155.728 L109.407 166.353 L119.985 176.931 L117.231 179.732 L106.606 169.107 L95.981 179.732 L93.2495 176.931 L103.805 166.353 L93.2495 155.728 L95.981 152.927 L106.606 163.552 L117.231 152.927 L119.985 155.728 Z\" fill=\"#000000\" fill-rule=\"evenodd\" fill-opacity=\"1\" /><path clip-path=\"url(#clip880)\" d=\"M 0 0 M125.865 177.255 L133.504 177.255 L133.504 150.89 L125.194 152.557 L125.194 148.297 L133.458 146.631 L138.134 146.631 L138.134 177.255 L145.772 177.255 L145.772 181.191 L125.865 181.191 L125.865 177.255 Z\" fill=\"#000000\" fill-rule=\"evenodd\" fill-opacity=\"1\" /><path clip-path=\"url(#clip880)\" d=\"M 0 0 M160.842 149.709 Q157.231 149.709 155.402 153.274 Q153.596 156.816 153.596 163.945 Q153.596 171.052 155.402 174.617 Q157.231 178.158 160.842 178.158 Q164.476 178.158 166.282 174.617 Q168.11 171.052 168.11 163.945 Q168.11 156.816 166.282 153.274 Q164.476 149.709 160.842 149.709 M160.842 146.006 Q166.652 146.006 169.707 150.612 Q172.786 155.195 172.786 163.945 Q172.786 172.672 169.707 177.279 Q166.652 181.862 160.842 181.862 Q155.032 181.862 151.953 177.279 Q148.897 172.672 148.897 163.945 Q148.897 155.195 151.953 150.612 Q155.032 146.006 160.842 146.006 Z\" fill=\"#000000\" fill-rule=\"evenodd\" fill-opacity=\"1\" /><path clip-path=\"url(#clip880)\" d=\"M 0 0 M173.971 125.7 L188.886 125.7 L188.886 128.898 L177.45 128.898 L177.45 135.781 Q178.278 135.499 179.106 135.367 Q179.933 135.217 180.761 135.217 Q185.463 135.217 188.208 137.794 Q190.954 140.37 190.954 144.771 Q190.954 149.304 188.133 151.824 Q185.312 154.326 180.178 154.326 Q178.41 154.326 176.566 154.025 Q174.742 153.724 172.786 153.122 L172.786 149.304 Q174.479 150.226 176.284 150.677 Q178.09 151.128 180.102 151.128 Q183.356 151.128 185.256 149.417 Q187.155 147.705 187.155 144.771 Q187.155 141.837 185.256 140.126 Q183.356 138.414 180.102 138.414 Q178.579 138.414 177.055 138.753 Q175.551 139.091 173.971 139.806 L173.971 125.7 Z\" fill=\"#000000\" fill-rule=\"evenodd\" fill-opacity=\"1\" /><path clip-path=\"url(#clip882)\" d=\"\n",
       "M332.537 1445.71 L332.537 1445.72 L808.196 1445.72 L808.196 1445.71 L332.537 1445.71 L332.537 1445.71  Z\n",
       "  \" fill=\"#009af9\" fill-rule=\"evenodd\" fill-opacity=\"1\"/>\n",
       "<polyline clip-path=\"url(#clip882)\" style=\"stroke:#000000; stroke-width:4; stroke-opacity:1; fill:none\" points=\"\n",
       "  332.537,1445.71 332.537,1445.72 808.196,1445.72 808.196,1445.71 332.537,1445.71 \n",
       "  \"/>\n",
       "<path clip-path=\"url(#clip882)\" d=\"\n",
       "M808.196 1441.81 L808.196 1445.72 L1283.86 1445.72 L1283.86 1441.81 L808.196 1441.81 L808.196 1441.81  Z\n",
       "  \" fill=\"#009af9\" fill-rule=\"evenodd\" fill-opacity=\"1\"/>\n",
       "<polyline clip-path=\"url(#clip882)\" style=\"stroke:#000000; stroke-width:4; stroke-opacity:1; fill:none\" points=\"\n",
       "  808.196,1441.81 808.196,1445.72 1283.86,1445.72 1283.86,1441.81 808.196,1441.81 \n",
       "  \"/>\n",
       "<path clip-path=\"url(#clip882)\" d=\"\n",
       "M1283.86 1197.05 L1283.86 1445.72 L1759.51 1445.72 L1759.51 1197.05 L1283.86 1197.05 L1283.86 1197.05  Z\n",
       "  \" fill=\"#009af9\" fill-rule=\"evenodd\" fill-opacity=\"1\"/>\n",
       "<polyline clip-path=\"url(#clip882)\" style=\"stroke:#000000; stroke-width:4; stroke-opacity:1; fill:none\" points=\"\n",
       "  1283.86,1197.05 1283.86,1445.72 1759.51,1445.72 1759.51,1197.05 1283.86,1197.05 \n",
       "  \"/>\n",
       "<path clip-path=\"url(#clip882)\" d=\"\n",
       "M1759.51 87.9763 L1759.51 1445.72 L2235.17 1445.72 L2235.17 87.9763 L1759.51 87.9763 L1759.51 87.9763  Z\n",
       "  \" fill=\"#009af9\" fill-rule=\"evenodd\" fill-opacity=\"1\"/>\n",
       "<polyline clip-path=\"url(#clip882)\" style=\"stroke:#000000; stroke-width:4; stroke-opacity:1; fill:none\" points=\"\n",
       "  1759.51,87.9763 1759.51,1445.72 2235.17,1445.72 2235.17,87.9763 1759.51,87.9763 \n",
       "  \"/>\n",
       "</svg>\n"
      ]
     },
     "execution_count": 21,
     "metadata": {},
     "output_type": "execute_result"
    }
   ],
   "source": [
    "using Plots\n",
    "histogram(data,label = false, nbins = 4)"
   ]
  },
  {
   "cell_type": "markdown",
   "metadata": {},
   "source": [
    "The distribution of the rank is not almost affected of the value of $\\ell_i$."
   ]
  },
  {
   "cell_type": "markdown",
   "metadata": {},
   "source": [
    "#### (c) If you are able to provide any explanation to your results in (b), please do so. This is optional."
   ]
  },
  {
   "cell_type": "markdown",
   "metadata": {},
   "source": [
    "Even if the range of the selected values ($\\ell_i$) changes, the distribution of the rank does not so much change under the condition  ${\\ell_1,\\ell_2,\\ell_3}$ (where $\\ell_i \\neq \\ell_j$ and $\\ell_i\\neq 0$). "
   ]
  },
  {
   "cell_type": "code",
   "execution_count": 22,
   "metadata": {},
   "outputs": [
    {
     "data": {
      "text/plain": [
       "4×4 Array{Int64,2}:\n",
       " 20  20  99  30\n",
       " 99  30  99  99\n",
       " 30  99  99  20\n",
       " 99  20  99  30"
      ]
     },
     "execution_count": 22,
     "metadata": {},
     "output_type": "execute_result"
    }
   ],
   "source": [
    "\"\"\"randomly select number from 1 to 100 without replacement\"\"\"\n",
    "k=100\n",
    "ℓselect2() = sample(1:k, 3, replace=false)\n",
    "\n",
    "\"\"\"simulate value of rank\"\"\"\n",
    "N=10^6\n",
    "data2 =[]\n",
    "\n",
    "for i in 1:N\n",
    "    A = rand(ℓselect2(),4,4)\n",
    "    append!(data2, rank(A))\n",
    "end\n",
    "A"
   ]
  },
  {
   "cell_type": "code",
   "execution_count": 23,
   "metadata": {
    "scrolled": true
   },
   "outputs": [
    {
     "data": {
      "image/svg+xml": [
       "<?xml version=\"1.0\" encoding=\"utf-8\"?>\n",
       "<svg xmlns=\"http://www.w3.org/2000/svg\" xmlns:xlink=\"http://www.w3.org/1999/xlink\" width=\"600\" height=\"400\" viewBox=\"0 0 2400 1600\">\n",
       "<defs>\n",
       "  <clipPath id=\"clip920\">\n",
       "    <rect x=\"0\" y=\"0\" width=\"2400\" height=\"1600\"/>\n",
       "  </clipPath>\n",
       "</defs>\n",
       "<path clip-path=\"url(#clip920)\" d=\"\n",
       "M0 1600 L2400 1600 L2400 0 L0 0  Z\n",
       "  \" fill=\"#ffffff\" fill-rule=\"evenodd\" fill-opacity=\"1\"/>\n",
       "<defs>\n",
       "  <clipPath id=\"clip921\">\n",
       "    <rect x=\"480\" y=\"0\" width=\"1681\" height=\"1600\"/>\n",
       "  </clipPath>\n",
       "</defs>\n",
       "<path clip-path=\"url(#clip920)\" d=\"\n",
       "M214.954 1486.45 L2352.76 1486.45 L2352.76 47.2441 L214.954 47.2441  Z\n",
       "  \" fill=\"#ffffff\" fill-rule=\"evenodd\" fill-opacity=\"1\"/>\n",
       "<defs>\n",
       "  <clipPath id=\"clip922\">\n",
       "    <rect x=\"214\" y=\"47\" width=\"2139\" height=\"1440\"/>\n",
       "  </clipPath>\n",
       "</defs>\n",
       "<polyline clip-path=\"url(#clip922)\" style=\"stroke:#000000; stroke-width:2; stroke-opacity:0.1; fill:none\" points=\"\n",
       "  332.537,1486.45 332.537,47.2441 \n",
       "  \"/>\n",
       "<polyline clip-path=\"url(#clip922)\" style=\"stroke:#000000; stroke-width:2; stroke-opacity:0.1; fill:none\" points=\"\n",
       "  808.196,1486.45 808.196,47.2441 \n",
       "  \"/>\n",
       "<polyline clip-path=\"url(#clip922)\" style=\"stroke:#000000; stroke-width:2; stroke-opacity:0.1; fill:none\" points=\"\n",
       "  1283.86,1486.45 1283.86,47.2441 \n",
       "  \"/>\n",
       "<polyline clip-path=\"url(#clip922)\" style=\"stroke:#000000; stroke-width:2; stroke-opacity:0.1; fill:none\" points=\"\n",
       "  1759.51,1486.45 1759.51,47.2441 \n",
       "  \"/>\n",
       "<polyline clip-path=\"url(#clip922)\" style=\"stroke:#000000; stroke-width:2; stroke-opacity:0.1; fill:none\" points=\"\n",
       "  2235.17,1486.45 2235.17,47.2441 \n",
       "  \"/>\n",
       "<polyline clip-path=\"url(#clip922)\" style=\"stroke:#000000; stroke-width:2; stroke-opacity:0.1; fill:none\" points=\"\n",
       "  214.954,1445.72 2352.76,1445.72 \n",
       "  \"/>\n",
       "<polyline clip-path=\"url(#clip922)\" style=\"stroke:#000000; stroke-width:2; stroke-opacity:0.1; fill:none\" points=\"\n",
       "  214.954,1125.22 2352.76,1125.22 \n",
       "  \"/>\n",
       "<polyline clip-path=\"url(#clip922)\" style=\"stroke:#000000; stroke-width:2; stroke-opacity:0.1; fill:none\" points=\"\n",
       "  214.954,804.725 2352.76,804.725 \n",
       "  \"/>\n",
       "<polyline clip-path=\"url(#clip922)\" style=\"stroke:#000000; stroke-width:2; stroke-opacity:0.1; fill:none\" points=\"\n",
       "  214.954,484.23 2352.76,484.23 \n",
       "  \"/>\n",
       "<polyline clip-path=\"url(#clip922)\" style=\"stroke:#000000; stroke-width:2; stroke-opacity:0.1; fill:none\" points=\"\n",
       "  214.954,163.735 2352.76,163.735 \n",
       "  \"/>\n",
       "<polyline clip-path=\"url(#clip920)\" style=\"stroke:#000000; stroke-width:4; stroke-opacity:1; fill:none\" points=\"\n",
       "  214.954,1486.45 2352.76,1486.45 \n",
       "  \"/>\n",
       "<polyline clip-path=\"url(#clip920)\" style=\"stroke:#000000; stroke-width:4; stroke-opacity:1; fill:none\" points=\"\n",
       "  214.954,1486.45 214.954,47.2441 \n",
       "  \"/>\n",
       "<polyline clip-path=\"url(#clip920)\" style=\"stroke:#000000; stroke-width:4; stroke-opacity:1; fill:none\" points=\"\n",
       "  332.537,1486.45 332.537,1469.18 \n",
       "  \"/>\n",
       "<polyline clip-path=\"url(#clip920)\" style=\"stroke:#000000; stroke-width:4; stroke-opacity:1; fill:none\" points=\"\n",
       "  808.196,1486.45 808.196,1469.18 \n",
       "  \"/>\n",
       "<polyline clip-path=\"url(#clip920)\" style=\"stroke:#000000; stroke-width:4; stroke-opacity:1; fill:none\" points=\"\n",
       "  1283.86,1486.45 1283.86,1469.18 \n",
       "  \"/>\n",
       "<polyline clip-path=\"url(#clip920)\" style=\"stroke:#000000; stroke-width:4; stroke-opacity:1; fill:none\" points=\"\n",
       "  1759.51,1486.45 1759.51,1469.18 \n",
       "  \"/>\n",
       "<polyline clip-path=\"url(#clip920)\" style=\"stroke:#000000; stroke-width:4; stroke-opacity:1; fill:none\" points=\"\n",
       "  2235.17,1486.45 2235.17,1469.18 \n",
       "  \"/>\n",
       "<polyline clip-path=\"url(#clip920)\" style=\"stroke:#000000; stroke-width:4; stroke-opacity:1; fill:none\" points=\"\n",
       "  214.954,1445.72 240.608,1445.72 \n",
       "  \"/>\n",
       "<polyline clip-path=\"url(#clip920)\" style=\"stroke:#000000; stroke-width:4; stroke-opacity:1; fill:none\" points=\"\n",
       "  214.954,1125.22 240.608,1125.22 \n",
       "  \"/>\n",
       "<polyline clip-path=\"url(#clip920)\" style=\"stroke:#000000; stroke-width:4; stroke-opacity:1; fill:none\" points=\"\n",
       "  214.954,804.725 240.608,804.725 \n",
       "  \"/>\n",
       "<polyline clip-path=\"url(#clip920)\" style=\"stroke:#000000; stroke-width:4; stroke-opacity:1; fill:none\" points=\"\n",
       "  214.954,484.23 240.608,484.23 \n",
       "  \"/>\n",
       "<polyline clip-path=\"url(#clip920)\" style=\"stroke:#000000; stroke-width:4; stroke-opacity:1; fill:none\" points=\"\n",
       "  214.954,163.735 240.608,163.735 \n",
       "  \"/>\n",
       "<path clip-path=\"url(#clip920)\" d=\"M 0 0 M322.919 1535.98 L330.558 1535.98 L330.558 1509.62 L322.248 1511.29 L322.248 1507.03 L330.512 1505.36 L335.188 1505.36 L335.188 1535.98 L342.827 1535.98 L342.827 1539.92 L322.919 1539.92 L322.919 1535.98 Z\" fill=\"#000000\" fill-rule=\"evenodd\" fill-opacity=\"1\" /><path clip-path=\"url(#clip920)\" d=\"M 0 0 M802.849 1535.98 L819.168 1535.98 L819.168 1539.92 L797.224 1539.92 L797.224 1535.98 Q799.886 1533.23 804.469 1528.6 Q809.076 1523.95 810.256 1522.61 Q812.502 1520.08 813.381 1518.35 Q814.284 1516.59 814.284 1514.9 Q814.284 1512.14 812.34 1510.41 Q810.418 1508.67 807.317 1508.67 Q805.118 1508.67 802.664 1509.43 Q800.233 1510.2 797.456 1511.75 L797.456 1507.03 Q800.28 1505.89 802.733 1505.31 Q805.187 1504.73 807.224 1504.73 Q812.594 1504.73 815.789 1507.42 Q818.983 1510.11 818.983 1514.6 Q818.983 1516.73 818.173 1518.65 Q817.386 1520.54 815.28 1523.14 Q814.701 1523.81 811.599 1527.03 Q808.497 1530.22 802.849 1535.98 Z\" fill=\"#000000\" fill-rule=\"evenodd\" fill-opacity=\"1\" /><path clip-path=\"url(#clip920)\" d=\"M 0 0 M1288.1 1521.29 Q1291.46 1522 1293.33 1524.27 Q1295.23 1526.54 1295.23 1529.87 Q1295.23 1534.99 1291.71 1537.79 Q1288.2 1540.59 1281.71 1540.59 Q1279.54 1540.59 1277.22 1540.15 Q1274.93 1539.73 1272.48 1538.88 L1272.48 1534.36 Q1274.42 1535.5 1276.74 1536.08 Q1279.05 1536.66 1281.58 1536.66 Q1285.97 1536.66 1288.26 1534.92 Q1290.58 1533.18 1290.58 1529.87 Q1290.58 1526.82 1288.43 1525.11 Q1286.3 1523.37 1282.48 1523.37 L1278.45 1523.37 L1278.45 1519.53 L1282.66 1519.53 Q1286.11 1519.53 1287.94 1518.16 Q1289.77 1516.77 1289.77 1514.18 Q1289.77 1511.52 1287.87 1510.11 Q1286 1508.67 1282.48 1508.67 Q1280.56 1508.67 1278.36 1509.09 Q1276.16 1509.5 1273.52 1510.38 L1273.52 1506.22 Q1276.18 1505.48 1278.5 1505.11 Q1280.83 1504.73 1282.89 1504.73 Q1288.22 1504.73 1291.32 1507.17 Q1294.42 1509.57 1294.42 1513.69 Q1294.42 1516.56 1292.78 1518.55 Q1291.14 1520.52 1288.1 1521.29 Z\" fill=\"#000000\" fill-rule=\"evenodd\" fill-opacity=\"1\" /><path clip-path=\"url(#clip920)\" d=\"M 0 0 M1762.52 1509.43 L1750.72 1527.88 L1762.52 1527.88 L1762.52 1509.43 M1761.3 1505.36 L1767.18 1505.36 L1767.18 1527.88 L1772.11 1527.88 L1772.11 1531.77 L1767.18 1531.77 L1767.18 1539.92 L1762.52 1539.92 L1762.52 1531.77 L1746.92 1531.77 L1746.92 1527.26 L1761.3 1505.36 Z\" fill=\"#000000\" fill-rule=\"evenodd\" fill-opacity=\"1\" /><path clip-path=\"url(#clip920)\" d=\"M 0 0 M2225.45 1505.36 L2243.81 1505.36 L2243.81 1509.3 L2229.73 1509.3 L2229.73 1517.77 Q2230.75 1517.42 2231.77 1517.26 Q2232.79 1517.07 2233.81 1517.07 Q2239.59 1517.07 2242.97 1520.24 Q2246.35 1523.42 2246.35 1528.83 Q2246.35 1534.41 2242.88 1537.51 Q2239.41 1540.59 2233.09 1540.59 Q2230.91 1540.59 2228.65 1540.22 Q2226.4 1539.85 2223.99 1539.11 L2223.99 1534.41 Q2226.08 1535.54 2228.3 1536.1 Q2230.52 1536.66 2233 1536.66 Q2237 1536.66 2239.34 1534.55 Q2241.68 1532.44 2241.68 1528.83 Q2241.68 1525.22 2239.34 1523.11 Q2237 1521.01 2233 1521.01 Q2231.12 1521.01 2229.25 1521.42 Q2227.4 1521.84 2225.45 1522.72 L2225.45 1505.36 Z\" fill=\"#000000\" fill-rule=\"evenodd\" fill-opacity=\"1\" /><path clip-path=\"url(#clip920)\" d=\"M 0 0 M179.01 1431.51 Q175.399 1431.51 173.57 1435.08 Q171.765 1438.62 171.765 1445.75 Q171.765 1452.86 173.57 1456.42 Q175.399 1459.96 179.01 1459.96 Q182.644 1459.96 184.45 1456.42 Q186.279 1452.86 186.279 1445.75 Q186.279 1438.62 184.45 1435.08 Q182.644 1431.51 179.01 1431.51 M179.01 1427.81 Q184.82 1427.81 187.876 1432.42 Q190.954 1437 190.954 1445.75 Q190.954 1454.48 187.876 1459.08 Q184.82 1463.67 179.01 1463.67 Q173.2 1463.67 170.121 1459.08 Q167.066 1454.48 167.066 1445.75 Q167.066 1437 170.121 1432.42 Q173.2 1427.81 179.01 1427.81 Z\" fill=\"#000000\" fill-rule=\"evenodd\" fill-opacity=\"1\" /><path clip-path=\"url(#clip920)\" d=\"M 0 0 M70.4255 1145.01 L86.7449 1145.01 L86.7449 1148.95 L64.8006 1148.95 L64.8006 1145.01 Q67.4626 1142.26 72.0459 1137.63 Q76.6524 1132.98 77.8329 1131.63 Q80.0783 1129.11 80.9579 1127.37 Q81.8607 1125.61 81.8607 1123.93 Q81.8607 1121.17 79.9162 1119.43 Q77.9949 1117.7 74.8931 1117.7 Q72.694 1117.7 70.2404 1118.46 Q67.8098 1119.23 65.032 1120.78 L65.032 1116.05 Q67.8561 1114.92 70.3098 1114.34 Q72.7635 1113.76 74.8005 1113.76 Q80.1709 1113.76 83.3653 1116.45 Q86.5597 1119.13 86.5597 1123.62 Q86.5597 1125.75 85.7495 1127.68 Q84.9625 1129.57 82.856 1132.17 Q82.2773 1132.84 79.1755 1136.05 Q76.0737 1139.25 70.4255 1145.01 Z\" fill=\"#000000\" fill-rule=\"evenodd\" fill-opacity=\"1\" /><path clip-path=\"url(#clip920)\" d=\"M 0 0 M119.985 1123.49 L109.407 1134.11 L119.985 1144.69 L117.231 1147.49 L106.606 1136.86 L95.981 1147.49 L93.2495 1144.69 L103.805 1134.11 L93.2495 1123.49 L95.981 1120.68 L106.606 1131.31 L117.231 1120.68 L119.985 1123.49 Z\" fill=\"#000000\" fill-rule=\"evenodd\" fill-opacity=\"1\" /><path clip-path=\"url(#clip920)\" d=\"M 0 0 M125.865 1145.01 L133.504 1145.01 L133.504 1118.65 L125.194 1120.31 L125.194 1116.05 L133.458 1114.39 L138.134 1114.39 L138.134 1145.01 L145.772 1145.01 L145.772 1148.95 L125.865 1148.95 L125.865 1145.01 Z\" fill=\"#000000\" fill-rule=\"evenodd\" fill-opacity=\"1\" /><path clip-path=\"url(#clip920)\" d=\"M 0 0 M160.842 1117.47 Q157.231 1117.47 155.402 1121.03 Q153.596 1124.57 153.596 1131.7 Q153.596 1138.81 155.402 1142.37 Q157.231 1145.92 160.842 1145.92 Q164.476 1145.92 166.282 1142.37 Q168.11 1138.81 168.11 1131.7 Q168.11 1124.57 166.282 1121.03 Q164.476 1117.47 160.842 1117.47 M160.842 1113.76 Q166.652 1113.76 169.707 1118.37 Q172.786 1122.95 172.786 1131.7 Q172.786 1140.43 169.707 1145.04 Q166.652 1149.62 160.842 1149.62 Q155.032 1149.62 151.953 1145.04 Q148.897 1140.43 148.897 1131.7 Q148.897 1122.95 151.953 1118.37 Q155.032 1113.76 160.842 1113.76 Z\" fill=\"#000000\" fill-rule=\"evenodd\" fill-opacity=\"1\" /><path clip-path=\"url(#clip920)\" d=\"M 0 0 M173.971 1093.46 L188.886 1093.46 L188.886 1096.66 L177.45 1096.66 L177.45 1103.54 Q178.278 1103.26 179.106 1103.12 Q179.933 1102.97 180.761 1102.97 Q185.463 1102.97 188.208 1105.55 Q190.954 1108.13 190.954 1112.53 Q190.954 1117.06 188.133 1119.58 Q185.312 1122.08 180.178 1122.08 Q178.41 1122.08 176.566 1121.78 Q174.742 1121.48 172.786 1120.88 L172.786 1117.06 Q174.479 1117.98 176.284 1118.43 Q178.09 1118.89 180.102 1118.89 Q183.356 1118.89 185.256 1117.17 Q187.155 1115.46 187.155 1112.53 Q187.155 1109.59 185.256 1107.88 Q183.356 1106.17 180.102 1106.17 Q178.579 1106.17 177.055 1106.51 Q175.551 1106.85 173.971 1107.56 L173.971 1093.46 Z\" fill=\"#000000\" fill-rule=\"evenodd\" fill-opacity=\"1\" /><path clip-path=\"url(#clip920)\" d=\"M 0 0 M77.1616 797.967 L65.3561 816.416 L77.1616 816.416 L77.1616 797.967 M75.9348 793.893 L81.8144 793.893 L81.8144 816.416 L86.7449 816.416 L86.7449 820.305 L81.8144 820.305 L81.8144 828.453 L77.1616 828.453 L77.1616 820.305 L61.5598 820.305 L61.5598 815.791 L75.9348 793.893 Z\" fill=\"#000000\" fill-rule=\"evenodd\" fill-opacity=\"1\" /><path clip-path=\"url(#clip920)\" d=\"M 0 0 M119.985 802.99 L109.407 813.615 L119.985 824.194 L117.231 826.995 L106.606 816.37 L95.981 826.995 L93.2495 824.194 L103.805 813.615 L93.2495 802.99 L95.981 800.189 L106.606 810.814 L117.231 800.189 L119.985 802.99 Z\" fill=\"#000000\" fill-rule=\"evenodd\" fill-opacity=\"1\" /><path clip-path=\"url(#clip920)\" d=\"M 0 0 M125.865 824.518 L133.504 824.518 L133.504 798.152 L125.194 799.819 L125.194 795.56 L133.458 793.893 L138.134 793.893 L138.134 824.518 L145.772 824.518 L145.772 828.453 L125.865 828.453 L125.865 824.518 Z\" fill=\"#000000\" fill-rule=\"evenodd\" fill-opacity=\"1\" /><path clip-path=\"url(#clip920)\" d=\"M 0 0 M160.842 796.972 Q157.231 796.972 155.402 800.536 Q153.596 804.078 153.596 811.208 Q153.596 818.314 155.402 821.879 Q157.231 825.421 160.842 825.421 Q164.476 825.421 166.282 821.879 Q168.11 818.314 168.11 811.208 Q168.11 804.078 166.282 800.536 Q164.476 796.972 160.842 796.972 M160.842 793.268 Q166.652 793.268 169.707 797.874 Q172.786 802.458 172.786 811.208 Q172.786 819.934 169.707 824.541 Q166.652 829.124 160.842 829.124 Q155.032 829.124 151.953 824.541 Q148.897 819.934 148.897 811.208 Q148.897 802.458 151.953 797.874 Q155.032 793.268 160.842 793.268 Z\" fill=\"#000000\" fill-rule=\"evenodd\" fill-opacity=\"1\" /><path clip-path=\"url(#clip920)\" d=\"M 0 0 M173.971 772.963 L188.886 772.963 L188.886 776.16 L177.45 776.16 L177.45 783.043 Q178.278 782.761 179.106 782.63 Q179.933 782.479 180.761 782.479 Q185.463 782.479 188.208 785.056 Q190.954 787.633 190.954 792.034 Q190.954 796.566 188.133 799.087 Q185.312 801.588 180.178 801.588 Q178.41 801.588 176.566 801.287 Q174.742 800.986 172.786 800.384 L172.786 796.566 Q174.479 797.488 176.284 797.939 Q178.09 798.391 180.102 798.391 Q183.356 798.391 185.256 796.679 Q187.155 794.968 187.155 792.034 Q187.155 789.1 185.256 787.388 Q183.356 785.677 180.102 785.677 Q178.579 785.677 177.055 786.015 Q175.551 786.354 173.971 787.068 L173.971 772.963 Z\" fill=\"#000000\" fill-rule=\"evenodd\" fill-opacity=\"1\" /><path clip-path=\"url(#clip920)\" d=\"M 0 0 M75.2172 488.814 Q72.069 488.814 70.2172 490.967 Q68.3885 493.12 68.3885 496.87 Q68.3885 500.597 70.2172 502.773 Q72.069 504.925 75.2172 504.925 Q78.3653 504.925 80.194 502.773 Q82.0458 500.597 82.0458 496.87 Q82.0458 493.12 80.194 490.967 Q78.3653 488.814 75.2172 488.814 M84.4995 474.162 L84.4995 478.421 Q82.7403 477.588 80.9347 477.148 Q79.1523 476.708 77.3931 476.708 Q72.7635 476.708 70.3098 479.833 Q67.8793 482.958 67.532 489.277 Q68.8978 487.263 70.9579 486.199 Q73.0181 485.111 75.495 485.111 Q80.7033 485.111 83.7125 488.282 Q86.7449 491.43 86.7449 496.87 Q86.7449 502.194 83.5968 505.411 Q80.4486 508.629 75.2172 508.629 Q69.2218 508.629 66.0506 504.046 Q62.8793 499.439 62.8793 490.712 Q62.8793 482.518 66.7681 477.657 Q70.657 472.773 77.2079 472.773 Q78.9672 472.773 80.7496 473.12 Q82.5551 473.467 84.4995 474.162 Z\" fill=\"#000000\" fill-rule=\"evenodd\" fill-opacity=\"1\" /><path clip-path=\"url(#clip920)\" d=\"M 0 0 M119.985 482.495 L109.407 493.12 L119.985 503.698 L117.231 506.499 L106.606 495.874 L95.981 506.499 L93.2495 503.698 L103.805 493.12 L93.2495 482.495 L95.981 479.694 L106.606 490.319 L117.231 479.694 L119.985 482.495 Z\" fill=\"#000000\" fill-rule=\"evenodd\" fill-opacity=\"1\" /><path clip-path=\"url(#clip920)\" d=\"M 0 0 M125.865 504.023 L133.504 504.023 L133.504 477.657 L125.194 479.324 L125.194 475.064 L133.458 473.398 L138.134 473.398 L138.134 504.023 L145.772 504.023 L145.772 507.958 L125.865 507.958 L125.865 504.023 Z\" fill=\"#000000\" fill-rule=\"evenodd\" fill-opacity=\"1\" /><path clip-path=\"url(#clip920)\" d=\"M 0 0 M160.842 476.476 Q157.231 476.476 155.402 480.041 Q153.596 483.583 153.596 490.712 Q153.596 497.819 155.402 501.384 Q157.231 504.925 160.842 504.925 Q164.476 504.925 166.282 501.384 Q168.11 497.819 168.11 490.712 Q168.11 483.583 166.282 480.041 Q164.476 476.476 160.842 476.476 M160.842 472.773 Q166.652 472.773 169.707 477.379 Q172.786 481.962 172.786 490.712 Q172.786 499.439 169.707 504.046 Q166.652 508.629 160.842 508.629 Q155.032 508.629 151.953 504.046 Q148.897 499.439 148.897 490.712 Q148.897 481.962 151.953 477.379 Q155.032 472.773 160.842 472.773 Z\" fill=\"#000000\" fill-rule=\"evenodd\" fill-opacity=\"1\" /><path clip-path=\"url(#clip920)\" d=\"M 0 0 M173.971 452.467 L188.886 452.467 L188.886 455.665 L177.45 455.665 L177.45 462.548 Q178.278 462.266 179.106 462.135 Q179.933 461.984 180.761 461.984 Q185.463 461.984 188.208 464.561 Q190.954 467.137 190.954 471.538 Q190.954 476.071 188.133 478.591 Q185.312 481.093 180.178 481.093 Q178.41 481.093 176.566 480.792 Q174.742 480.491 172.786 479.889 L172.786 476.071 Q174.479 476.993 176.284 477.444 Q178.09 477.895 180.102 477.895 Q183.356 477.895 185.256 476.184 Q187.155 474.472 187.155 471.538 Q187.155 468.604 185.256 466.893 Q183.356 465.181 180.102 465.181 Q178.579 465.181 177.055 465.52 Q175.551 465.858 173.971 466.573 L173.971 452.467 Z\" fill=\"#000000\" fill-rule=\"evenodd\" fill-opacity=\"1\" /><path clip-path=\"url(#clip920)\" d=\"M 0 0 M74.8931 171.051 Q71.5598 171.051 69.6385 172.833 Q67.7404 174.615 67.7404 177.74 Q67.7404 180.865 69.6385 182.648 Q71.5598 184.43 74.8931 184.43 Q78.2264 184.43 80.1477 182.648 Q82.069 180.842 82.069 177.74 Q82.069 174.615 80.1477 172.833 Q78.2496 171.051 74.8931 171.051 M70.2172 169.06 Q67.208 168.319 65.5182 166.259 Q63.8515 164.199 63.8515 161.236 Q63.8515 157.092 66.7913 154.685 Q69.7542 152.278 74.8931 152.278 Q80.0551 152.278 82.9949 154.685 Q85.9347 157.092 85.9347 161.236 Q85.9347 164.199 84.2449 166.259 Q82.5782 168.319 79.5922 169.06 Q82.9718 169.847 84.8468 172.139 Q86.7449 174.43 86.7449 177.74 Q86.7449 182.763 83.6662 185.449 Q80.6107 188.134 74.8931 188.134 Q69.1755 188.134 66.0969 185.449 Q63.0413 182.763 63.0413 177.74 Q63.0413 174.43 64.9395 172.139 Q66.8376 169.847 70.2172 169.06 M68.5042 161.676 Q68.5042 164.361 70.1709 165.865 Q71.8607 167.37 74.8931 167.37 Q77.9023 167.37 79.5922 165.865 Q81.3051 164.361 81.3051 161.676 Q81.3051 158.99 79.5922 157.486 Q77.9023 155.981 74.8931 155.981 Q71.8607 155.981 70.1709 157.486 Q68.5042 158.99 68.5042 161.676 Z\" fill=\"#000000\" fill-rule=\"evenodd\" fill-opacity=\"1\" /><path clip-path=\"url(#clip920)\" d=\"M 0 0 M119.985 162 L109.407 172.625 L119.985 183.203 L117.231 186.004 L106.606 175.379 L95.981 186.004 L93.2495 183.203 L103.805 172.625 L93.2495 162 L95.981 159.199 L106.606 169.824 L117.231 159.199 L119.985 162 Z\" fill=\"#000000\" fill-rule=\"evenodd\" fill-opacity=\"1\" /><path clip-path=\"url(#clip920)\" d=\"M 0 0 M125.865 183.527 L133.504 183.527 L133.504 157.162 L125.194 158.828 L125.194 154.569 L133.458 152.903 L138.134 152.903 L138.134 183.527 L145.772 183.527 L145.772 187.463 L125.865 187.463 L125.865 183.527 Z\" fill=\"#000000\" fill-rule=\"evenodd\" fill-opacity=\"1\" /><path clip-path=\"url(#clip920)\" d=\"M 0 0 M160.842 155.981 Q157.231 155.981 155.402 159.546 Q153.596 163.088 153.596 170.217 Q153.596 177.324 155.402 180.888 Q157.231 184.43 160.842 184.43 Q164.476 184.43 166.282 180.888 Q168.11 177.324 168.11 170.217 Q168.11 163.088 166.282 159.546 Q164.476 155.981 160.842 155.981 M160.842 152.278 Q166.652 152.278 169.707 156.884 Q172.786 161.467 172.786 170.217 Q172.786 178.944 169.707 183.551 Q166.652 188.134 160.842 188.134 Q155.032 188.134 151.953 183.551 Q148.897 178.944 148.897 170.217 Q148.897 161.467 151.953 156.884 Q155.032 152.278 160.842 152.278 Z\" fill=\"#000000\" fill-rule=\"evenodd\" fill-opacity=\"1\" /><path clip-path=\"url(#clip920)\" d=\"M 0 0 M173.971 131.972 L188.886 131.972 L188.886 135.169 L177.45 135.169 L177.45 142.053 Q178.278 141.771 179.106 141.639 Q179.933 141.489 180.761 141.489 Q185.463 141.489 188.208 144.066 Q190.954 146.642 190.954 151.043 Q190.954 155.576 188.133 158.096 Q185.312 160.598 180.178 160.598 Q178.41 160.598 176.566 160.297 Q174.742 159.996 172.786 159.394 L172.786 155.576 Q174.479 156.497 176.284 156.949 Q178.09 157.4 180.102 157.4 Q183.356 157.4 185.256 155.689 Q187.155 153.977 187.155 151.043 Q187.155 148.109 185.256 146.398 Q183.356 144.686 180.102 144.686 Q178.579 144.686 177.055 145.025 Q175.551 145.363 173.971 146.078 L173.971 131.972 Z\" fill=\"#000000\" fill-rule=\"evenodd\" fill-opacity=\"1\" /><path clip-path=\"url(#clip922)\" d=\"\n",
       "M332.537 1445.71 L332.537 1445.72 L808.196 1445.72 L808.196 1445.71 L332.537 1445.71 L332.537 1445.71  Z\n",
       "  \" fill=\"#009af9\" fill-rule=\"evenodd\" fill-opacity=\"0.5\"/>\n",
       "<polyline clip-path=\"url(#clip922)\" style=\"stroke:#000000; stroke-width:4; stroke-opacity:0.5; fill:none\" points=\"\n",
       "  332.537,1445.71 332.537,1445.72 808.196,1445.72 808.196,1445.71 332.537,1445.71 \n",
       "  \"/>\n",
       "<path clip-path=\"url(#clip922)\" d=\"\n",
       "M808.196 1441.83 L808.196 1445.72 L1283.86 1445.72 L1283.86 1441.83 L808.196 1441.83 L808.196 1441.83  Z\n",
       "  \" fill=\"#009af9\" fill-rule=\"evenodd\" fill-opacity=\"0.5\"/>\n",
       "<polyline clip-path=\"url(#clip922)\" style=\"stroke:#000000; stroke-width:4; stroke-opacity:0.5; fill:none\" points=\"\n",
       "  808.196,1441.83 808.196,1445.72 1283.86,1445.72 1283.86,1441.83 808.196,1441.83 \n",
       "  \"/>\n",
       "<path clip-path=\"url(#clip922)\" d=\"\n",
       "M1283.86 1198.26 L1283.86 1445.72 L1759.51 1445.72 L1759.51 1198.26 L1283.86 1198.26 L1283.86 1198.26  Z\n",
       "  \" fill=\"#009af9\" fill-rule=\"evenodd\" fill-opacity=\"0.5\"/>\n",
       "<polyline clip-path=\"url(#clip922)\" style=\"stroke:#000000; stroke-width:4; stroke-opacity:0.5; fill:none\" points=\"\n",
       "  1283.86,1198.26 1283.86,1445.72 1759.51,1445.72 1759.51,1198.26 1283.86,1198.26 \n",
       "  \"/>\n",
       "<path clip-path=\"url(#clip922)\" d=\"\n",
       "M1759.51 94.5865 L1759.51 1445.72 L2235.17 1445.72 L2235.17 94.5865 L1759.51 94.5865 L1759.51 94.5865  Z\n",
       "  \" fill=\"#009af9\" fill-rule=\"evenodd\" fill-opacity=\"0.5\"/>\n",
       "<polyline clip-path=\"url(#clip922)\" style=\"stroke:#000000; stroke-width:4; stroke-opacity:0.5; fill:none\" points=\"\n",
       "  1759.51,94.5865 1759.51,1445.72 2235.17,1445.72 2235.17,94.5865 1759.51,94.5865 \n",
       "  \"/>\n",
       "<path clip-path=\"url(#clip922)\" d=\"\n",
       "M332.537 1445.7 L332.537 1445.72 L808.196 1445.72 L808.196 1445.7 L332.537 1445.7 L332.537 1445.7  Z\n",
       "  \" fill=\"#e26f46\" fill-rule=\"evenodd\" fill-opacity=\"0.5\"/>\n",
       "<polyline clip-path=\"url(#clip922)\" style=\"stroke:#000000; stroke-width:4; stroke-opacity:0.5; fill:none\" points=\"\n",
       "  332.537,1445.7 332.537,1445.72 808.196,1445.72 808.196,1445.7 332.537,1445.7 \n",
       "  \"/>\n",
       "<path clip-path=\"url(#clip922)\" d=\"\n",
       "M808.196 1441.9 L808.196 1445.72 L1283.86 1445.72 L1283.86 1441.9 L808.196 1441.9 L808.196 1441.9  Z\n",
       "  \" fill=\"#e26f46\" fill-rule=\"evenodd\" fill-opacity=\"0.5\"/>\n",
       "<polyline clip-path=\"url(#clip922)\" style=\"stroke:#000000; stroke-width:4; stroke-opacity:0.5; fill:none\" points=\"\n",
       "  808.196,1441.9 808.196,1445.72 1283.86,1445.72 1283.86,1441.9 808.196,1441.9 \n",
       "  \"/>\n",
       "<path clip-path=\"url(#clip922)\" d=\"\n",
       "M1283.86 1204.8 L1283.86 1445.72 L1759.51 1445.72 L1759.51 1204.8 L1283.86 1204.8 L1283.86 1204.8  Z\n",
       "  \" fill=\"#e26f46\" fill-rule=\"evenodd\" fill-opacity=\"0.5\"/>\n",
       "<polyline clip-path=\"url(#clip922)\" style=\"stroke:#000000; stroke-width:4; stroke-opacity:0.5; fill:none\" points=\"\n",
       "  1283.86,1204.8 1283.86,1445.72 1759.51,1445.72 1759.51,1204.8 1283.86,1204.8 \n",
       "  \"/>\n",
       "<path clip-path=\"url(#clip922)\" d=\"\n",
       "M1759.51 87.9763 L1759.51 1445.72 L2235.17 1445.72 L2235.17 87.9763 L1759.51 87.9763 L1759.51 87.9763  Z\n",
       "  \" fill=\"#e26f46\" fill-rule=\"evenodd\" fill-opacity=\"0.5\"/>\n",
       "<polyline clip-path=\"url(#clip922)\" style=\"stroke:#000000; stroke-width:4; stroke-opacity:0.5; fill:none\" points=\"\n",
       "  1759.51,87.9763 1759.51,1445.72 2235.17,1445.72 2235.17,87.9763 1759.51,87.9763 \n",
       "  \"/>\n",
       "<path clip-path=\"url(#clip920)\" d=\"\n",
       "M1614.14 312.204 L2280.76 312.204 L2280.76 130.764 L1614.14 130.764  Z\n",
       "  \" fill=\"#ffffff\" fill-rule=\"evenodd\" fill-opacity=\"1\"/>\n",
       "<polyline clip-path=\"url(#clip920)\" style=\"stroke:#000000; stroke-width:4; stroke-opacity:1; fill:none\" points=\"\n",
       "  1614.14,312.204 2280.76,312.204 2280.76,130.764 1614.14,130.764 1614.14,312.204 \n",
       "  \"/>\n",
       "<path clip-path=\"url(#clip920)\" d=\"\n",
       "M1638.14 215.436 L1782.14 215.436 L1782.14 167.052 L1638.14 167.052 L1638.14 215.436  Z\n",
       "  \" fill=\"#009af9\" fill-rule=\"evenodd\" fill-opacity=\"0.5\"/>\n",
       "<polyline clip-path=\"url(#clip920)\" style=\"stroke:#000000; stroke-width:4; stroke-opacity:1; fill:none\" points=\"\n",
       "  1638.14,215.436 1782.14,215.436 1782.14,167.052 1638.14,167.052 1638.14,215.436 \n",
       "  \"/>\n",
       "<path clip-path=\"url(#clip920)\" d=\"M 0 0 M1806.14 172.506 L1815.95 172.506 L1815.95 175.816 L1810.4 175.816 L1810.4 211.464 L1815.95 211.464 L1815.95 214.774 L1806.14 214.774 L1806.14 172.506 Z\" fill=\"#000000\" fill-rule=\"evenodd\" fill-opacity=\"1\" /><path clip-path=\"url(#clip920)\" d=\"M 0 0 M1824.45 173.964 L1824.45 186.811 L1820.51 186.811 L1820.51 173.964 L1824.45 173.964 M1833.2 173.964 L1833.2 186.811 L1829.26 186.811 L1829.26 173.964 L1833.2 173.964 Z\" fill=\"#000000\" fill-rule=\"evenodd\" fill-opacity=\"1\" /><path clip-path=\"url(#clip920)\" d=\"M 0 0 M1840.23 202.32 Q1841.18 206.95 1843.2 206.95 Q1844.54 206.95 1846.28 204.288 L1849.36 204.288 Q1847.97 206.649 1846.35 207.876 Q1844.59 209.195 1842.97 209.195 Q1839.36 209.195 1837.9 205.978 L1836.16 208.524 L1832.55 208.524 Q1835.05 205.121 1836.9 201.95 Q1836.67 200.145 1836.67 198.177 Q1836.67 194.658 1837.39 191.14 Q1840.1 177.922 1842.5 175.214 Q1844.17 173.339 1847.02 173.339 Q1849.91 173.339 1849.91 177.344 Q1849.89 179.149 1849.47 181.302 Q1847.8 190.121 1840.23 202.32 M1840.21 196.256 Q1844.54 188.2 1845.86 181.765 Q1846.55 178.362 1846.55 177.483 Q1846.55 175.885 1845.98 175.885 Q1843.45 177.899 1841.21 189.89 Q1840.58 193.246 1840.21 196.256 Z\" fill=\"#000000\" fill-rule=\"evenodd\" fill-opacity=\"1\" /><path clip-path=\"url(#clip920)\" d=\"M 0 0 M1854.93 186.996 L1884.61 186.996 L1884.61 190.885 L1854.93 190.885 L1854.93 186.996 M1854.93 196.441 L1884.61 196.441 L1884.61 200.376 L1854.93 200.376 L1854.93 196.441 Z\" fill=\"#000000\" fill-rule=\"evenodd\" fill-opacity=\"1\" /><path clip-path=\"url(#clip920)\" d=\"M 0 0 M1890.49 204.589 L1898.13 204.589 L1898.13 178.223 L1889.82 179.89 L1889.82 175.631 L1898.08 173.964 L1902.76 173.964 L1902.76 204.589 L1910.4 204.589 L1910.4 208.524 L1890.49 208.524 L1890.49 204.589 Z\" fill=\"#000000\" fill-rule=\"evenodd\" fill-opacity=\"1\" /><path clip-path=\"url(#clip920)\" d=\"M 0 0 M1915.95 202.644 L1920.84 202.644 L1920.84 208.524 L1915.95 208.524 L1915.95 202.644 M1915.95 184.01 L1920.84 184.01 L1920.84 189.89 L1915.95 189.89 L1915.95 184.01 Z\" fill=\"#000000\" fill-rule=\"evenodd\" fill-opacity=\"1\" /><path clip-path=\"url(#clip920)\" d=\"M 0 0 M1926.72 204.589 L1934.35 204.589 L1934.35 178.223 L1926.04 179.89 L1926.04 175.631 L1934.31 173.964 L1938.98 173.964 L1938.98 204.589 L1946.62 204.589 L1946.62 208.524 L1926.72 208.524 L1926.72 204.589 Z\" fill=\"#000000\" fill-rule=\"evenodd\" fill-opacity=\"1\" /><path clip-path=\"url(#clip920)\" d=\"M 0 0 M1961.69 177.043 Q1958.08 177.043 1956.25 180.608 Q1954.45 184.149 1954.45 191.279 Q1954.45 198.385 1956.25 201.95 Q1958.08 205.492 1961.69 205.492 Q1965.33 205.492 1967.13 201.95 Q1968.96 198.385 1968.96 191.279 Q1968.96 184.149 1967.13 180.608 Q1965.33 177.043 1961.69 177.043 M1961.69 173.339 Q1967.5 173.339 1970.56 177.946 Q1973.64 182.529 1973.64 191.279 Q1973.64 200.006 1970.56 204.612 Q1967.5 209.195 1961.69 209.195 Q1955.88 209.195 1952.8 204.612 Q1949.75 200.006 1949.75 191.279 Q1949.75 182.529 1952.8 177.946 Q1955.88 173.339 1961.69 173.339 Z\" fill=\"#000000\" fill-rule=\"evenodd\" fill-opacity=\"1\" /><path clip-path=\"url(#clip920)\" d=\"M 0 0 M1982.13 173.964 L1982.13 186.811 L1978.2 186.811 L1978.2 173.964 L1982.13 173.964 M1990.88 173.964 L1990.88 186.811 L1986.95 186.811 L1986.95 173.964 L1990.88 173.964 Z\" fill=\"#000000\" fill-rule=\"evenodd\" fill-opacity=\"1\" /><path clip-path=\"url(#clip920)\" d=\"M 0 0 M1996.44 202.644 L2001.32 202.644 L2001.32 206.626 L1997.53 214.033 L1994.54 214.033 L1996.44 206.626 L1996.44 202.644 Z\" fill=\"#000000\" fill-rule=\"evenodd\" fill-opacity=\"1\" /><path clip-path=\"url(#clip920)\" d=\"M 0 0 M2024.89 173.964 L2024.89 186.811 L2020.95 186.811 L2020.95 173.964 L2024.89 173.964 M2033.64 173.964 L2033.64 186.811 L2029.7 186.811 L2029.7 173.964 L2033.64 173.964 Z\" fill=\"#000000\" fill-rule=\"evenodd\" fill-opacity=\"1\" /><path clip-path=\"url(#clip920)\" d=\"M 0 0 M2040.67 202.32 Q2041.62 206.95 2043.64 206.95 Q2044.98 206.95 2046.72 204.288 L2049.79 204.288 Q2048.41 206.649 2046.78 207.876 Q2045.03 209.195 2043.41 209.195 Q2039.79 209.195 2038.34 205.978 L2036.6 208.524 L2032.99 208.524 Q2035.49 205.121 2037.34 201.95 Q2037.11 200.145 2037.11 198.177 Q2037.11 194.658 2037.83 191.14 Q2040.53 177.922 2042.94 175.214 Q2044.61 173.339 2047.46 173.339 Q2050.35 173.339 2050.35 177.344 Q2050.33 179.149 2049.91 181.302 Q2048.24 190.121 2040.67 202.32 M2040.65 196.256 Q2044.98 188.2 2046.3 181.765 Q2046.99 178.362 2046.99 177.483 Q2046.99 175.885 2046.41 175.885 Q2043.89 177.899 2041.65 189.89 Q2041.02 193.246 2040.65 196.256 Z\" fill=\"#000000\" fill-rule=\"evenodd\" fill-opacity=\"1\" /><path clip-path=\"url(#clip920)\" d=\"M 0 0 M2055.37 186.996 L2085.05 186.996 L2085.05 190.885 L2055.37 190.885 L2055.37 186.996 M2055.37 196.441 L2085.05 196.441 L2085.05 200.376 L2055.37 200.376 L2055.37 196.441 Z\" fill=\"#000000\" fill-rule=\"evenodd\" fill-opacity=\"1\" /><path clip-path=\"url(#clip920)\" d=\"M 0 0 M2090.93 204.589 L2098.57 204.589 L2098.57 178.223 L2090.26 179.89 L2090.26 175.631 L2098.52 173.964 L2103.2 173.964 L2103.2 204.589 L2110.84 204.589 L2110.84 208.524 L2090.93 208.524 L2090.93 204.589 Z\" fill=\"#000000\" fill-rule=\"evenodd\" fill-opacity=\"1\" /><path clip-path=\"url(#clip920)\" d=\"M 0 0 M2116.39 202.644 L2121.28 202.644 L2121.28 208.524 L2116.39 208.524 L2116.39 202.644 M2116.39 184.01 L2121.28 184.01 L2121.28 189.89 L2116.39 189.89 L2116.39 184.01 Z\" fill=\"#000000\" fill-rule=\"evenodd\" fill-opacity=\"1\" /><path clip-path=\"url(#clip920)\" d=\"M 0 0 M2127.15 204.589 L2134.79 204.589 L2134.79 178.223 L2126.48 179.89 L2126.48 175.631 L2134.75 173.964 L2139.42 173.964 L2139.42 204.589 L2147.06 204.589 L2147.06 208.524 L2127.15 208.524 L2127.15 204.589 Z\" fill=\"#000000\" fill-rule=\"evenodd\" fill-opacity=\"1\" /><path clip-path=\"url(#clip920)\" d=\"M 0 0 M2162.13 177.043 Q2158.52 177.043 2156.69 180.608 Q2154.89 184.149 2154.89 191.279 Q2154.89 198.385 2156.69 201.95 Q2158.52 205.492 2162.13 205.492 Q2165.77 205.492 2167.57 201.95 Q2169.4 198.385 2169.4 191.279 Q2169.4 184.149 2167.57 180.608 Q2165.77 177.043 2162.13 177.043 M2162.13 173.339 Q2167.94 173.339 2171 177.946 Q2174.08 182.529 2174.08 191.279 Q2174.08 200.006 2171 204.612 Q2167.94 209.195 2162.13 209.195 Q2156.32 209.195 2153.24 204.612 Q2150.19 200.006 2150.19 191.279 Q2150.19 182.529 2153.24 177.946 Q2156.32 173.339 2162.13 173.339 Z\" fill=\"#000000\" fill-rule=\"evenodd\" fill-opacity=\"1\" /><path clip-path=\"url(#clip920)\" d=\"M 0 0 M2189.15 177.043 Q2185.53 177.043 2183.71 180.608 Q2181.9 184.149 2181.9 191.279 Q2181.9 198.385 2183.71 201.95 Q2185.53 205.492 2189.15 205.492 Q2192.78 205.492 2194.58 201.95 Q2196.41 198.385 2196.41 191.279 Q2196.41 184.149 2194.58 180.608 Q2192.78 177.043 2189.15 177.043 M2189.15 173.339 Q2194.96 173.339 2198.01 177.946 Q2201.09 182.529 2201.09 191.279 Q2201.09 200.006 2198.01 204.612 Q2194.96 209.195 2189.15 209.195 Q2183.33 209.195 2180.26 204.612 Q2177.2 200.006 2177.2 191.279 Q2177.2 182.529 2180.26 177.946 Q2183.33 173.339 2189.15 173.339 Z\" fill=\"#000000\" fill-rule=\"evenodd\" fill-opacity=\"1\" /><path clip-path=\"url(#clip920)\" d=\"M 0 0 M2209.58 173.964 L2209.58 186.811 L2205.65 186.811 L2205.65 173.964 L2209.58 173.964 M2218.33 173.964 L2218.33 186.811 L2214.4 186.811 L2214.4 173.964 L2218.33 173.964 Z\" fill=\"#000000\" fill-rule=\"evenodd\" fill-opacity=\"1\" /><path clip-path=\"url(#clip920)\" d=\"M 0 0 M2232.76 172.506 L2232.76 214.774 L2222.94 214.774 L2222.94 211.464 L2228.47 211.464 L2228.47 175.816 L2222.94 175.816 L2222.94 172.506 L2232.76 172.506 Z\" fill=\"#000000\" fill-rule=\"evenodd\" fill-opacity=\"1\" /><path clip-path=\"url(#clip920)\" d=\"\n",
       "M1638.14 275.916 L1782.14 275.916 L1782.14 227.532 L1638.14 227.532 L1638.14 275.916  Z\n",
       "  \" fill=\"#e26f46\" fill-rule=\"evenodd\" fill-opacity=\"0.5\"/>\n",
       "<polyline clip-path=\"url(#clip920)\" style=\"stroke:#000000; stroke-width:4; stroke-opacity:1; fill:none\" points=\"\n",
       "  1638.14,275.916 1782.14,275.916 1782.14,227.532 1638.14,227.532 1638.14,275.916 \n",
       "  \"/>\n",
       "<path clip-path=\"url(#clip920)\" d=\"M 0 0 M1806.14 232.986 L1815.95 232.986 L1815.95 236.296 L1810.4 236.296 L1810.4 271.944 L1815.95 271.944 L1815.95 275.254 L1806.14 275.254 L1806.14 232.986 Z\" fill=\"#000000\" fill-rule=\"evenodd\" fill-opacity=\"1\" /><path clip-path=\"url(#clip920)\" d=\"M 0 0 M1824.45 234.444 L1824.45 247.291 L1820.51 247.291 L1820.51 234.444 L1824.45 234.444 M1833.2 234.444 L1833.2 247.291 L1829.26 247.291 L1829.26 234.444 L1833.2 234.444 Z\" fill=\"#000000\" fill-rule=\"evenodd\" fill-opacity=\"1\" /><path clip-path=\"url(#clip920)\" d=\"M 0 0 M1840.23 262.8 Q1841.18 267.43 1843.2 267.43 Q1844.54 267.43 1846.28 264.768 L1849.36 264.768 Q1847.97 267.129 1846.35 268.356 Q1844.59 269.675 1842.97 269.675 Q1839.36 269.675 1837.9 266.458 L1836.16 269.004 L1832.55 269.004 Q1835.05 265.601 1836.9 262.43 Q1836.67 260.625 1836.67 258.657 Q1836.67 255.138 1837.39 251.62 Q1840.1 238.402 1842.5 235.694 Q1844.17 233.819 1847.02 233.819 Q1849.91 233.819 1849.91 237.824 Q1849.89 239.629 1849.47 241.782 Q1847.8 250.601 1840.23 262.8 M1840.21 256.736 Q1844.54 248.68 1845.86 242.245 Q1846.55 238.842 1846.55 237.963 Q1846.55 236.365 1845.98 236.365 Q1843.45 238.379 1841.21 250.37 Q1840.58 253.726 1840.21 256.736 Z\" fill=\"#000000\" fill-rule=\"evenodd\" fill-opacity=\"1\" /><path clip-path=\"url(#clip920)\" d=\"M 0 0 M1854.93 247.476 L1884.61 247.476 L1884.61 251.365 L1854.93 251.365 L1854.93 247.476 M1854.93 256.921 L1884.61 256.921 L1884.61 260.856 L1854.93 260.856 L1854.93 256.921 Z\" fill=\"#000000\" fill-rule=\"evenodd\" fill-opacity=\"1\" /><path clip-path=\"url(#clip920)\" d=\"M 0 0 M1890.49 265.069 L1898.13 265.069 L1898.13 238.703 L1889.82 240.37 L1889.82 236.111 L1898.08 234.444 L1902.76 234.444 L1902.76 265.069 L1910.4 265.069 L1910.4 269.004 L1890.49 269.004 L1890.49 265.069 Z\" fill=\"#000000\" fill-rule=\"evenodd\" fill-opacity=\"1\" /><path clip-path=\"url(#clip920)\" d=\"M 0 0 M1915.95 263.124 L1920.84 263.124 L1920.84 269.004 L1915.95 269.004 L1915.95 263.124 M1915.95 244.49 L1920.84 244.49 L1920.84 250.37 L1915.95 250.37 L1915.95 244.49 Z\" fill=\"#000000\" fill-rule=\"evenodd\" fill-opacity=\"1\" /><path clip-path=\"url(#clip920)\" d=\"M 0 0 M1926.72 265.069 L1934.35 265.069 L1934.35 238.703 L1926.04 240.37 L1926.04 236.111 L1934.31 234.444 L1938.98 234.444 L1938.98 265.069 L1946.62 265.069 L1946.62 269.004 L1926.72 269.004 L1926.72 265.069 Z\" fill=\"#000000\" fill-rule=\"evenodd\" fill-opacity=\"1\" /><path clip-path=\"url(#clip920)\" d=\"M 0 0 M1961.69 237.523 Q1958.08 237.523 1956.25 241.088 Q1954.45 244.629 1954.45 251.759 Q1954.45 258.865 1956.25 262.43 Q1958.08 265.972 1961.69 265.972 Q1965.33 265.972 1967.13 262.43 Q1968.96 258.865 1968.96 251.759 Q1968.96 244.629 1967.13 241.088 Q1965.33 237.523 1961.69 237.523 M1961.69 233.819 Q1967.5 233.819 1970.56 238.426 Q1973.64 243.009 1973.64 251.759 Q1973.64 260.486 1970.56 265.092 Q1967.5 269.675 1961.69 269.675 Q1955.88 269.675 1952.8 265.092 Q1949.75 260.486 1949.75 251.759 Q1949.75 243.009 1952.8 238.426 Q1955.88 233.819 1961.69 233.819 Z\" fill=\"#000000\" fill-rule=\"evenodd\" fill-opacity=\"1\" /><path clip-path=\"url(#clip920)\" d=\"M 0 0 M1982.13 234.444 L1982.13 247.291 L1978.2 247.291 L1978.2 234.444 L1982.13 234.444 M1990.88 234.444 L1990.88 247.291 L1986.95 247.291 L1986.95 234.444 L1990.88 234.444 Z\" fill=\"#000000\" fill-rule=\"evenodd\" fill-opacity=\"1\" /><path clip-path=\"url(#clip920)\" d=\"M 0 0 M1996.44 263.124 L2001.32 263.124 L2001.32 267.106 L1997.53 274.513 L1994.54 274.513 L1996.44 267.106 L1996.44 263.124 Z\" fill=\"#000000\" fill-rule=\"evenodd\" fill-opacity=\"1\" /><path clip-path=\"url(#clip920)\" d=\"M 0 0 M2024.89 234.444 L2024.89 247.291 L2020.95 247.291 L2020.95 234.444 L2024.89 234.444 M2033.64 234.444 L2033.64 247.291 L2029.7 247.291 L2029.7 234.444 L2033.64 234.444 Z\" fill=\"#000000\" fill-rule=\"evenodd\" fill-opacity=\"1\" /><path clip-path=\"url(#clip920)\" d=\"M 0 0 M2040.67 262.8 Q2041.62 267.43 2043.64 267.43 Q2044.98 267.43 2046.72 264.768 L2049.79 264.768 Q2048.41 267.129 2046.78 268.356 Q2045.03 269.675 2043.41 269.675 Q2039.79 269.675 2038.34 266.458 L2036.6 269.004 L2032.99 269.004 Q2035.49 265.601 2037.34 262.43 Q2037.11 260.625 2037.11 258.657 Q2037.11 255.138 2037.83 251.62 Q2040.53 238.402 2042.94 235.694 Q2044.61 233.819 2047.46 233.819 Q2050.35 233.819 2050.35 237.824 Q2050.33 239.629 2049.91 241.782 Q2048.24 250.601 2040.67 262.8 M2040.65 256.736 Q2044.98 248.68 2046.3 242.245 Q2046.99 238.842 2046.99 237.963 Q2046.99 236.365 2046.41 236.365 Q2043.89 238.379 2041.65 250.37 Q2041.02 253.726 2040.65 256.736 Z\" fill=\"#000000\" fill-rule=\"evenodd\" fill-opacity=\"1\" /><path clip-path=\"url(#clip920)\" d=\"M 0 0 M2055.37 247.476 L2085.05 247.476 L2085.05 251.365 L2055.37 251.365 L2055.37 247.476 M2055.37 256.921 L2085.05 256.921 L2085.05 260.856 L2055.37 260.856 L2055.37 256.921 Z\" fill=\"#000000\" fill-rule=\"evenodd\" fill-opacity=\"1\" /><path clip-path=\"url(#clip920)\" d=\"M 0 0 M2090.93 265.069 L2098.57 265.069 L2098.57 238.703 L2090.26 240.37 L2090.26 236.111 L2098.52 234.444 L2103.2 234.444 L2103.2 265.069 L2110.84 265.069 L2110.84 269.004 L2090.93 269.004 L2090.93 265.069 Z\" fill=\"#000000\" fill-rule=\"evenodd\" fill-opacity=\"1\" /><path clip-path=\"url(#clip920)\" d=\"M 0 0 M2116.39 263.124 L2121.28 263.124 L2121.28 269.004 L2116.39 269.004 L2116.39 263.124 M2116.39 244.49 L2121.28 244.49 L2121.28 250.37 L2116.39 250.37 L2116.39 244.49 Z\" fill=\"#000000\" fill-rule=\"evenodd\" fill-opacity=\"1\" /><path clip-path=\"url(#clip920)\" d=\"M 0 0 M2127.15 265.069 L2134.79 265.069 L2134.79 238.703 L2126.48 240.37 L2126.48 236.111 L2134.75 234.444 L2139.42 234.444 L2139.42 265.069 L2147.06 265.069 L2147.06 269.004 L2127.15 269.004 L2127.15 265.069 Z\" fill=\"#000000\" fill-rule=\"evenodd\" fill-opacity=\"1\" /><path clip-path=\"url(#clip920)\" d=\"M 0 0 M2162.13 237.523 Q2158.52 237.523 2156.69 241.088 Q2154.89 244.629 2154.89 251.759 Q2154.89 258.865 2156.69 262.43 Q2158.52 265.972 2162.13 265.972 Q2165.77 265.972 2167.57 262.43 Q2169.4 258.865 2169.4 251.759 Q2169.4 244.629 2167.57 241.088 Q2165.77 237.523 2162.13 237.523 M2162.13 233.819 Q2167.94 233.819 2171 238.426 Q2174.08 243.009 2174.08 251.759 Q2174.08 260.486 2171 265.092 Q2167.94 269.675 2162.13 269.675 Q2156.32 269.675 2153.24 265.092 Q2150.19 260.486 2150.19 251.759 Q2150.19 243.009 2153.24 238.426 Q2156.32 233.819 2162.13 233.819 Z\" fill=\"#000000\" fill-rule=\"evenodd\" fill-opacity=\"1\" /><path clip-path=\"url(#clip920)\" d=\"M 0 0 M2189.15 237.523 Q2185.53 237.523 2183.71 241.088 Q2181.9 244.629 2181.9 251.759 Q2181.9 258.865 2183.71 262.43 Q2185.53 265.972 2189.15 265.972 Q2192.78 265.972 2194.58 262.43 Q2196.41 258.865 2196.41 251.759 Q2196.41 244.629 2194.58 241.088 Q2192.78 237.523 2189.15 237.523 M2189.15 233.819 Q2194.96 233.819 2198.01 238.426 Q2201.09 243.009 2201.09 251.759 Q2201.09 260.486 2198.01 265.092 Q2194.96 269.675 2189.15 269.675 Q2183.33 269.675 2180.26 265.092 Q2177.2 260.486 2177.2 251.759 Q2177.2 243.009 2180.26 238.426 Q2183.33 233.819 2189.15 233.819 Z\" fill=\"#000000\" fill-rule=\"evenodd\" fill-opacity=\"1\" /><path clip-path=\"url(#clip920)\" d=\"M 0 0 M2209.58 234.444 L2209.58 247.291 L2205.65 247.291 L2205.65 234.444 L2209.58 234.444 M2218.33 234.444 L2218.33 247.291 L2214.4 247.291 L2214.4 234.444 L2218.33 234.444 Z\" fill=\"#000000\" fill-rule=\"evenodd\" fill-opacity=\"1\" /><path clip-path=\"url(#clip920)\" d=\"M 0 0 M2232.76 232.986 L2232.76 275.254 L2222.94 275.254 L2222.94 271.944 L2228.47 271.944 L2228.47 236.296 L2222.94 236.296 L2222.94 232.986 L2232.76 232.986 Z\" fill=\"#000000\" fill-rule=\"evenodd\" fill-opacity=\"1\" /></svg>\n"
      ]
     },
     "execution_count": 23,
     "metadata": {},
     "output_type": "execute_result"
    }
   ],
   "source": [
    "histogram( [data, data2], seriesalpha= 0.5, nbins = 4, label=[\"ℓ=1:10\", \"ℓ=1:100\"])"
   ]
  },
  {
   "cell_type": "code",
   "execution_count": 24,
   "metadata": {
    "scrolled": true
   },
   "outputs": [
    {
     "data": {
      "text/plain": [
       "Dict{Any,Int64} with 4 entries:\n",
       "  4 => 847276\n",
       "  2 => 2380\n",
       "  3 => 150337\n",
       "  1 => 7"
      ]
     },
     "execution_count": 24,
     "metadata": {},
     "output_type": "execute_result"
    }
   ],
   "source": [
    "countmap(data2)"
   ]
  },
  {
   "cell_type": "markdown",
   "metadata": {},
   "source": [
    " "
   ]
  }
 ],
 "metadata": {
  "kernelspec": {
   "display_name": "Julia 1.8.0-DEV",
   "language": "julia",
   "name": "julia-1.8"
  },
  "language_info": {
   "file_extension": ".jl",
   "mimetype": "application/julia",
   "name": "julia",
   "version": "1.8.0"
  }
 },
 "nbformat": 4,
 "nbformat_minor": 4
}
