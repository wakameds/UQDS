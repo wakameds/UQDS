{
 "cells": [
  {
   "cell_type": "markdown",
   "metadata": {},
   "source": [
    "# Unit 1: Vectors, Matrices, Inverses, and Determinants\n",
    "\n",
    "In this unit:\n",
    "1. Vectors\n",
    "1. Operations with vectors\n",
    "1. Dot product\n",
    "1. Norms\n",
    "1. Matrices\n",
    "1. Operations with matrices\n",
    "1. Special matrices\n",
    "1. Transpose\n",
    "1. Inverses \n",
    "1. Determinants\n",
    "1. Gradient vectors\n"
   ]
  },
  {
   "cell_type": "markdown",
   "metadata": {},
   "source": [
    "### Dimension (length) of a vector"
   ]
  },
  {
   "cell_type": "code",
   "execution_count": 1,
   "metadata": {},
   "outputs": [
    {
     "data": {
      "text/plain": [
       "1.0"
      ]
     },
     "execution_count": 1,
     "metadata": {},
     "output_type": "execute_result"
    }
   ],
   "source": [
    "v1 = 1.0"
   ]
  },
  {
   "cell_type": "code",
   "execution_count": 2,
   "metadata": {},
   "outputs": [
    {
     "data": {
      "text/plain": [
       "Float64"
      ]
     },
     "execution_count": 2,
     "metadata": {},
     "output_type": "execute_result"
    }
   ],
   "source": [
    "typeof(v1)"
   ]
  },
  {
   "cell_type": "code",
   "execution_count": 3,
   "metadata": {},
   "outputs": [
    {
     "data": {
      "text/plain": [
       "1-element Vector{Float64}:\n",
       " 1.0"
      ]
     },
     "execution_count": 3,
     "metadata": {},
     "output_type": "execute_result"
    }
   ],
   "source": [
    "v1 = [1.0]"
   ]
  },
  {
   "cell_type": "code",
   "execution_count": 4,
   "metadata": {},
   "outputs": [
    {
     "name": "stdout",
     "output_type": "stream",
     "text": [
      "Length of v3 = 3\n"
     ]
    },
    {
     "data": {
      "text/plain": [
       "4-element Vector{Int64}:\n",
       " 1\n",
       " 2\n",
       " 3\n",
       " 4"
      ]
     },
     "execution_count": 4,
     "metadata": {},
     "output_type": "execute_result"
    }
   ],
   "source": [
    "v1 = [1] #scalar\n",
    "v2 = [1,2] #in the plane\n",
    "v3 = [1,2,3] # in space\n",
    "v4 = [1,2,3,4] #higher diemension\n",
    "println(\"Length of v3 = \", length(v3))\n",
    "length.([v1,v2,v3,v4])"
   ]
  },
  {
   "cell_type": "code",
   "execution_count": 5,
   "metadata": {},
   "outputs": [
    {
     "data": {
      "text/plain": [
       "Vector{Vector{Int64}} (alias for Array{Array{Int64, 1}, 1})"
      ]
     },
     "execution_count": 5,
     "metadata": {},
     "output_type": "execute_result"
    }
   ],
   "source": [
    "typeof([v1,v2,v3,v4])"
   ]
  },
  {
   "cell_type": "code",
   "execution_count": 6,
   "metadata": {},
   "outputs": [
    {
     "data": {
      "text/plain": [
       "4"
      ]
     },
     "execution_count": 6,
     "metadata": {},
     "output_type": "execute_result"
    }
   ],
   "source": [
    "length([v1,v2,v3,v4])"
   ]
  },
  {
   "cell_type": "code",
   "execution_count": 7,
   "metadata": {},
   "outputs": [
    {
     "data": {
      "text/plain": [
       "4-element Vector{Int64}:\n",
       " 1\n",
       " 2\n",
       " 3\n",
       " 4"
      ]
     },
     "execution_count": 7,
     "metadata": {},
     "output_type": "execute_result"
    }
   ],
   "source": [
    "length.([v1,v2,v3,v4])"
   ]
  },
  {
   "cell_type": "code",
   "execution_count": 8,
   "metadata": {},
   "outputs": [
    {
     "name": "stdout",
     "output_type": "stream",
     "text": [
      "search: \u001b[0m\u001b[1ml\u001b[22m\u001b[0m\u001b[1me\u001b[22m\u001b[0m\u001b[1mn\u001b[22m\u001b[0m\u001b[1mg\u001b[22m\u001b[0m\u001b[1mt\u001b[22m\u001b[0m\u001b[1mh\u001b[22m\n",
      "\n"
     ]
    },
    {
     "data": {
      "text/latex": [
       "\\begin{verbatim}\n",
       "length(collection) -> Integer\n",
       "\\end{verbatim}\n",
       "Return the number of elements in the collection.\n",
       "\n",
       "Use \\href{@ref}{\\texttt{lastindex}} to get the last valid index of an indexable collection.\n",
       "\n",
       "See also: \\href{@ref}{\\texttt{size}}, \\href{@ref}{\\texttt{ndims}}, \\href{@ref}{\\texttt{eachindex}}.\n",
       "\n",
       "\\section{Examples}\n",
       "\\begin{verbatim}\n",
       "julia> length(1:5)\n",
       "5\n",
       "\n",
       "julia> length([1, 2, 3, 4])\n",
       "4\n",
       "\n",
       "julia> length([1 2; 3 4])\n",
       "4\n",
       "\\end{verbatim}\n",
       "\\rule{\\textwidth}{1pt}\n",
       "\\begin{verbatim}\n",
       "length(A::AbstractArray)\n",
       "\\end{verbatim}\n",
       "Return the number of elements in the array, defaults to \\texttt{prod(size(A))}.\n",
       "\n",
       "\\section{Examples}\n",
       "\\begin{verbatim}\n",
       "julia> length([1, 2, 3, 4])\n",
       "4\n",
       "\n",
       "julia> length([1 2; 3 4])\n",
       "4\n",
       "\\end{verbatim}\n",
       "\\rule{\\textwidth}{1pt}\n",
       "\\begin{verbatim}\n",
       "length(s::AbstractString) -> Int\n",
       "length(s::AbstractString, i::Integer, j::Integer) -> Int\n",
       "\\end{verbatim}\n",
       "Return the number of characters in string \\texttt{s} from indices \\texttt{i} through \\texttt{j}.\n",
       "\n",
       "This is computed as the number of code unit indices from \\texttt{i} to \\texttt{j} which are valid character indices. With only a single string argument, this computes the number of characters in the entire string. With \\texttt{i} and \\texttt{j} arguments it computes the number of indices between \\texttt{i} and \\texttt{j} inclusive that are valid indices in the string \\texttt{s}. In addition to in-bounds values, \\texttt{i} may take the out-of-bounds value \\texttt{ncodeunits(s) + 1} and \\texttt{j} may take the out-of-bounds value \\texttt{0}.\n",
       "\n",
       "\\begin{quote}\n",
       "\\textbf{note}\n",
       "\n",
       "Note\n",
       "\n",
       "The time complexity of this operation is linear in general. That is, it will take the time proportional to the number of bytes or characters in the string because it counts the value on the fly. This is in contrast to the method for arrays, which is a constant-time operation.\n",
       "\n",
       "\\end{quote}\n",
       "See also \\href{@ref}{\\texttt{isvalid}}, \\href{@ref}{\\texttt{ncodeunits}}, \\href{@ref}{\\texttt{lastindex}}, \\href{@ref}{\\texttt{thisind}}, \\href{@ref}{\\texttt{nextind}}, \\href{@ref}{\\texttt{prevind}}.\n",
       "\n",
       "\\section{Examples}\n",
       "\\begin{verbatim}\n",
       "julia> length(\"jμΛIα\")\n",
       "5\n",
       "\\end{verbatim}\n"
      ],
      "text/markdown": [
       "```\n",
       "length(collection) -> Integer\n",
       "```\n",
       "\n",
       "Return the number of elements in the collection.\n",
       "\n",
       "Use [`lastindex`](@ref) to get the last valid index of an indexable collection.\n",
       "\n",
       "See also: [`size`](@ref), [`ndims`](@ref), [`eachindex`](@ref).\n",
       "\n",
       "# Examples\n",
       "\n",
       "```jldoctest\n",
       "julia> length(1:5)\n",
       "5\n",
       "\n",
       "julia> length([1, 2, 3, 4])\n",
       "4\n",
       "\n",
       "julia> length([1 2; 3 4])\n",
       "4\n",
       "```\n",
       "\n",
       "---\n",
       "\n",
       "```\n",
       "length(A::AbstractArray)\n",
       "```\n",
       "\n",
       "Return the number of elements in the array, defaults to `prod(size(A))`.\n",
       "\n",
       "# Examples\n",
       "\n",
       "```jldoctest\n",
       "julia> length([1, 2, 3, 4])\n",
       "4\n",
       "\n",
       "julia> length([1 2; 3 4])\n",
       "4\n",
       "```\n",
       "\n",
       "---\n",
       "\n",
       "```\n",
       "length(s::AbstractString) -> Int\n",
       "length(s::AbstractString, i::Integer, j::Integer) -> Int\n",
       "```\n",
       "\n",
       "Return the number of characters in string `s` from indices `i` through `j`.\n",
       "\n",
       "This is computed as the number of code unit indices from `i` to `j` which are valid character indices. With only a single string argument, this computes the number of characters in the entire string. With `i` and `j` arguments it computes the number of indices between `i` and `j` inclusive that are valid indices in the string `s`. In addition to in-bounds values, `i` may take the out-of-bounds value `ncodeunits(s) + 1` and `j` may take the out-of-bounds value `0`.\n",
       "\n",
       "!!! note\n",
       "    The time complexity of this operation is linear in general. That is, it will take the time proportional to the number of bytes or characters in the string because it counts the value on the fly. This is in contrast to the method for arrays, which is a constant-time operation.\n",
       "\n",
       "\n",
       "See also [`isvalid`](@ref), [`ncodeunits`](@ref), [`lastindex`](@ref), [`thisind`](@ref), [`nextind`](@ref), [`prevind`](@ref).\n",
       "\n",
       "# Examples\n",
       "\n",
       "```jldoctest\n",
       "julia> length(\"jμΛIα\")\n",
       "5\n",
       "```\n"
      ],
      "text/plain": [
       "\u001b[36m  length(collection) -> Integer\u001b[39m\n",
       "\n",
       "  Return the number of elements in the collection.\n",
       "\n",
       "  Use \u001b[36mlastindex\u001b[39m to get the last valid index of an indexable collection.\n",
       "\n",
       "  See also: \u001b[36msize\u001b[39m, \u001b[36mndims\u001b[39m, \u001b[36meachindex\u001b[39m.\n",
       "\n",
       "\u001b[1m  Examples\u001b[22m\n",
       "\u001b[1m  ≡≡≡≡≡≡≡≡≡≡\u001b[22m\n",
       "\n",
       "\u001b[36m  julia> length(1:5)\u001b[39m\n",
       "\u001b[36m  5\u001b[39m\n",
       "\u001b[36m  \u001b[39m\n",
       "\u001b[36m  julia> length([1, 2, 3, 4])\u001b[39m\n",
       "\u001b[36m  4\u001b[39m\n",
       "\u001b[36m  \u001b[39m\n",
       "\u001b[36m  julia> length([1 2; 3 4])\u001b[39m\n",
       "\u001b[36m  4\u001b[39m\n",
       "\n",
       "  ────────────────────────────────────────────────────────────────────────────\n",
       "\n",
       "\u001b[36m  length(A::AbstractArray)\u001b[39m\n",
       "\n",
       "  Return the number of elements in the array, defaults to \u001b[36mprod(size(A))\u001b[39m.\n",
       "\n",
       "\u001b[1m  Examples\u001b[22m\n",
       "\u001b[1m  ≡≡≡≡≡≡≡≡≡≡\u001b[22m\n",
       "\n",
       "\u001b[36m  julia> length([1, 2, 3, 4])\u001b[39m\n",
       "\u001b[36m  4\u001b[39m\n",
       "\u001b[36m  \u001b[39m\n",
       "\u001b[36m  julia> length([1 2; 3 4])\u001b[39m\n",
       "\u001b[36m  4\u001b[39m\n",
       "\n",
       "  ────────────────────────────────────────────────────────────────────────────\n",
       "\n",
       "\u001b[36m  length(s::AbstractString) -> Int\u001b[39m\n",
       "\u001b[36m  length(s::AbstractString, i::Integer, j::Integer) -> Int\u001b[39m\n",
       "\n",
       "  Return the number of characters in string \u001b[36ms\u001b[39m from indices \u001b[36mi\u001b[39m through \u001b[36mj\u001b[39m.\n",
       "\n",
       "  This is computed as the number of code unit indices from \u001b[36mi\u001b[39m to \u001b[36mj\u001b[39m which are\n",
       "  valid character indices. With only a single string argument, this computes\n",
       "  the number of characters in the entire string. With \u001b[36mi\u001b[39m and \u001b[36mj\u001b[39m arguments it\n",
       "  computes the number of indices between \u001b[36mi\u001b[39m and \u001b[36mj\u001b[39m inclusive that are valid\n",
       "  indices in the string \u001b[36ms\u001b[39m. In addition to in-bounds values, \u001b[36mi\u001b[39m may take the\n",
       "  out-of-bounds value \u001b[36mncodeunits(s) + 1\u001b[39m and \u001b[36mj\u001b[39m may take the out-of-bounds value\n",
       "  \u001b[36m0\u001b[39m.\n",
       "\n",
       "\u001b[36m\u001b[1m  │ \u001b[22m\u001b[39m\u001b[36m\u001b[1mNote\u001b[22m\u001b[39m\n",
       "\u001b[36m\u001b[1m  │\u001b[22m\u001b[39m\n",
       "\u001b[36m\u001b[1m  │\u001b[22m\u001b[39m  The time complexity of this operation is linear in general. That\n",
       "\u001b[36m\u001b[1m  │\u001b[22m\u001b[39m  is, it will take the time proportional to the number of bytes or\n",
       "\u001b[36m\u001b[1m  │\u001b[22m\u001b[39m  characters in the string because it counts the value on the fly.\n",
       "\u001b[36m\u001b[1m  │\u001b[22m\u001b[39m  This is in contrast to the method for arrays, which is a\n",
       "\u001b[36m\u001b[1m  │\u001b[22m\u001b[39m  constant-time operation.\n",
       "\n",
       "  See also \u001b[36misvalid\u001b[39m, \u001b[36mncodeunits\u001b[39m, \u001b[36mlastindex\u001b[39m, \u001b[36mthisind\u001b[39m, \u001b[36mnextind\u001b[39m, \u001b[36mprevind\u001b[39m.\n",
       "\n",
       "\u001b[1m  Examples\u001b[22m\n",
       "\u001b[1m  ≡≡≡≡≡≡≡≡≡≡\u001b[22m\n",
       "\n",
       "\u001b[36m  julia> length(\"jμΛIα\")\u001b[39m\n",
       "\u001b[36m  5\u001b[39m"
      ]
     },
     "execution_count": 8,
     "metadata": {},
     "output_type": "execute_result"
    }
   ],
   "source": [
    "? length"
   ]
  },
  {
   "cell_type": "markdown",
   "metadata": {},
   "source": [
    "### Linear combintations of vectors"
   ]
  },
  {
   "cell_type": "markdown",
   "metadata": {},
   "source": [
    "A LaTeX formula:\n",
    "$$\\alpha_1 v_1 + \\alpha_2 v_2$$"
   ]
  },
  {
   "cell_type": "code",
   "execution_count": 9,
   "metadata": {},
   "outputs": [
    {
     "data": {
      "text/plain": [
       "3-element Vector{Int64}:\n",
       " -2\n",
       " -1\n",
       "  0"
      ]
     },
     "execution_count": 9,
     "metadata": {},
     "output_type": "execute_result"
    }
   ],
   "source": [
    "v1 = [1,2,3]\n",
    "v2 = [4,5,6]\n",
    "α1 = 2\n",
    "α2 = -1\n",
    "α1*v1 + α2*v2"
   ]
  },
  {
   "cell_type": "markdown",
   "metadata": {},
   "source": [
    "### Dot products"
   ]
  },
  {
   "cell_type": "markdown",
   "metadata": {},
   "source": [
    "$$\n",
    "\\int_0^\\infty \\frac{1}{x} \\, dx\n",
    "$$"
   ]
  },
  {
   "cell_type": "markdown",
   "metadata": {},
   "source": [
    "$$\n",
    "u \\cdot v = u^{T} v = \\sum_{i=1}^n u_i v_i\n",
    "$$"
   ]
  },
  {
   "cell_type": "code",
   "execution_count": 10,
   "metadata": {},
   "outputs": [
    {
     "data": {
      "text/plain": [
       "6-element Vector{Int64}:\n",
       "  90\n",
       "  80\n",
       "  30\n",
       "  60\n",
       "  90\n",
       " 100"
      ]
     },
     "execution_count": 10,
     "metadata": {},
     "output_type": "execute_result"
    }
   ],
   "source": [
    "v1 = 0.15*ones(6)\n",
    "v1[6] = 0.25\n",
    "v2 = [90,80,30,60,90,100]"
   ]
  },
  {
   "cell_type": "code",
   "execution_count": 11,
   "metadata": {},
   "outputs": [
    {
     "data": {
      "text/plain": [
       "(77.5, 77.5, 77.5, 77.5)"
      ]
     },
     "execution_count": 11,
     "metadata": {},
     "output_type": "execute_result"
    }
   ],
   "source": [
    "using LinearAlgebra\n",
    "n = length(v1)\n",
    "n == length(v2) || @error \"Vectors must be of same length\"\n",
    "v1'*v2, dot(v1,v2), v1 ⋅ v2, sum([v1[k]*v2[k] for k in 1:n]) #get ⋅ using \\cdot +[TAB]"
   ]
  },
  {
   "cell_type": "code",
   "execution_count": 12,
   "metadata": {},
   "outputs": [
    {
     "data": {
      "text/plain": [
       "77.5"
      ]
     },
     "execution_count": 12,
     "metadata": {},
     "output_type": "execute_result"
    }
   ],
   "source": [
    "v1⋅v2"
   ]
  },
  {
   "cell_type": "code",
   "execution_count": 13,
   "metadata": {
    "scrolled": true
   },
   "outputs": [
    {
     "data": {
      "text/plain": [
       "6-element Vector{Float64}:\n",
       " 13.5\n",
       " 12.0\n",
       "  4.5\n",
       "  9.0\n",
       " 13.5\n",
       " 25.0"
      ]
     },
     "execution_count": 13,
     "metadata": {},
     "output_type": "execute_result"
    }
   ],
   "source": [
    "#comprehension\n",
    "[v1[k]*v2[k] for k in 1:n]"
   ]
  },
  {
   "cell_type": "code",
   "execution_count": 14,
   "metadata": {},
   "outputs": [
    {
     "data": {
      "text/plain": [
       "Float64"
      ]
     },
     "execution_count": 14,
     "metadata": {},
     "output_type": "execute_result"
    }
   ],
   "source": [
    "typeof(v1'*v2)"
   ]
  },
  {
   "cell_type": "code",
   "execution_count": 15,
   "metadata": {},
   "outputs": [
    {
     "data": {
      "text/plain": [
       "77.5"
      ]
     },
     "execution_count": 15,
     "metadata": {},
     "output_type": "execute_result"
    }
   ],
   "source": [
    "sum(v1.*v2)"
   ]
  },
  {
   "cell_type": "markdown",
   "metadata": {},
   "source": [
    "### Norms"
   ]
  },
  {
   "cell_type": "markdown",
   "metadata": {},
   "source": [
    "The $L_2$ norm:\n",
    "$$\n",
    "||u|| = \\sqrt{u^Tu} = \\sqrt{\\sum_{i=1}^n u_i^2}\n",
    "$$\n",
    "\n",
    "The $L_1$ norm\n",
    "$$\n",
    "||u||_1 = \\sum_{i=1}^n |u_i|\n",
    "$$"
   ]
  },
  {
   "cell_type": "code",
   "execution_count": 16,
   "metadata": {},
   "outputs": [],
   "source": [
    "using LinearAlgebra"
   ]
  },
  {
   "cell_type": "code",
   "execution_count": 17,
   "metadata": {},
   "outputs": [
    {
     "data": {
      "text/plain": [
       "6-element Vector{Float64}:\n",
       " 0.15\n",
       " 0.15\n",
       " 0.15\n",
       " 0.15\n",
       " 0.15\n",
       " 0.25"
      ]
     },
     "execution_count": 17,
     "metadata": {},
     "output_type": "execute_result"
    }
   ],
   "source": [
    "v1"
   ]
  },
  {
   "cell_type": "code",
   "execution_count": 18,
   "metadata": {},
   "outputs": [
    {
     "data": {
      "text/plain": [
       "1.0"
      ]
     },
     "execution_count": 18,
     "metadata": {},
     "output_type": "execute_result"
    }
   ],
   "source": [
    "norm(v1,1)"
   ]
  },
  {
   "cell_type": "code",
   "execution_count": 19,
   "metadata": {},
   "outputs": [
    {
     "data": {
      "text/plain": [
       "(0.4183300132670378, 0.4183300132670378, 0.4183300132670378)"
      ]
     },
     "execution_count": 19,
     "metadata": {},
     "output_type": "execute_result"
    }
   ],
   "source": [
    "norm(v1),norm(v1,2),sqrt(v1'*v1) "
   ]
  },
  {
   "cell_type": "code",
   "execution_count": 20,
   "metadata": {},
   "outputs": [
    {
     "data": {
      "text/plain": [
       "0.4183300132670378"
      ]
     },
     "execution_count": 20,
     "metadata": {},
     "output_type": "execute_result"
    }
   ],
   "source": [
    "norm(-v1)"
   ]
  },
  {
   "cell_type": "code",
   "execution_count": 21,
   "metadata": {},
   "outputs": [
    {
     "data": {
      "text/plain": [
       "(1.0, 1.0)"
      ]
     },
     "execution_count": 21,
     "metadata": {},
     "output_type": "execute_result"
    }
   ],
   "source": [
    "norm(v1,1),norm(-v1,1) #The L_1 norm"
   ]
  },
  {
   "cell_type": "markdown",
   "metadata": {},
   "source": [
    "$||u + v||^2 = ||u||^2 + 2u^Tv + ||v||^2$\n",
    "\n",
    "$||u|| \\ge 0$\n",
    "\n",
    "$||\\gamma u || = |\\gamma|~||u||$\n",
    "\n",
    "$||u|| = 0$ only if $u = 0$."
   ]
  },
  {
   "cell_type": "markdown",
   "metadata": {},
   "source": [
    "### Normalizing a vector"
   ]
  },
  {
   "cell_type": "code",
   "execution_count": 22,
   "metadata": {},
   "outputs": [
    {
     "data": {
      "text/plain": [
       "6-element Vector{Float64}:\n",
       " 0.15\n",
       " 0.15\n",
       " 0.15\n",
       " 0.15\n",
       " 0.15\n",
       " 0.25"
      ]
     },
     "execution_count": 22,
     "metadata": {},
     "output_type": "execute_result"
    }
   ],
   "source": [
    "v1"
   ]
  },
  {
   "cell_type": "code",
   "execution_count": 23,
   "metadata": {},
   "outputs": [
    {
     "name": "stdout",
     "output_type": "stream",
     "text": [
      "Norm of normed vec: 0.9999999999999999\n"
     ]
    },
    {
     "data": {
      "text/plain": [
       "6-element Vector{Float64}:\n",
       " 0.35856858280031806\n",
       " 0.35856858280031806\n",
       " 0.35856858280031806\n",
       " 0.35856858280031806\n",
       " 0.35856858280031806\n",
       " 0.5976143046671968"
      ]
     },
     "execution_count": 23,
     "metadata": {},
     "output_type": "execute_result"
    }
   ],
   "source": [
    "normVect(v) = v/norm(v)\n",
    "vn = normVect(v1)\n",
    "println(\"Norm of normed vec: \", norm(vn))\n",
    "vn"
   ]
  },
  {
   "cell_type": "markdown",
   "metadata": {},
   "source": [
    "### Angle between two vectors"
   ]
  },
  {
   "cell_type": "markdown",
   "metadata": {},
   "source": [
    "$$\n",
    "\\angle(u,v) = \\arccos \\Big( \\frac{u^T v}{||u|| ||v||} \\Big)\n",
    "$$"
   ]
  },
  {
   "cell_type": "code",
   "execution_count": 24,
   "metadata": {},
   "outputs": [
    {
     "data": {
      "text/plain": [
       "180.0"
      ]
     },
     "execution_count": 24,
     "metadata": {},
     "output_type": "execute_result"
    }
   ],
   "source": [
    "u = [10,0]\n",
    "v = [-10, 0]\n",
    "θ = acos((u ⋅ v)/norm(u)/norm(v))\n",
    "rad2deg(θ)"
   ]
  },
  {
   "cell_type": "code",
   "execution_count": 25,
   "metadata": {},
   "outputs": [],
   "source": [
    "# Don't confuse with angle of a complex number"
   ]
  },
  {
   "cell_type": "code",
   "execution_count": 26,
   "metadata": {},
   "outputs": [
    {
     "data": {
      "text/plain": [
       "2 + 3im"
      ]
     },
     "execution_count": 26,
     "metadata": {},
     "output_type": "execute_result"
    }
   ],
   "source": [
    "x = 2 + 3im"
   ]
  },
  {
   "cell_type": "code",
   "execution_count": 27,
   "metadata": {},
   "outputs": [
    {
     "name": "stdout",
     "output_type": "stream",
     "text": [
      "search: \u001b[0m\u001b[1ma\u001b[22m\u001b[0m\u001b[1mn\u001b[22m\u001b[0m\u001b[1mg\u001b[22m\u001b[0m\u001b[1ml\u001b[22m\u001b[0m\u001b[1me\u001b[22m StepR\u001b[0m\u001b[1ma\u001b[22m\u001b[0m\u001b[1mn\u001b[22m\u001b[0m\u001b[1mg\u001b[22me\u001b[0m\u001b[1mL\u001b[22m\u001b[0m\u001b[1me\u001b[22mn UpperTri\u001b[0m\u001b[1ma\u001b[22m\u001b[0m\u001b[1mn\u001b[22m\u001b[0m\u001b[1mg\u001b[22mu\u001b[0m\u001b[1ml\u001b[22mar LowerTri\u001b[0m\u001b[1ma\u001b[22m\u001b[0m\u001b[1mn\u001b[22m\u001b[0m\u001b[1mg\u001b[22mu\u001b[0m\u001b[1ml\u001b[22mar UnitUpperTri\u001b[0m\u001b[1ma\u001b[22m\u001b[0m\u001b[1mn\u001b[22m\u001b[0m\u001b[1mg\u001b[22mu\u001b[0m\u001b[1ml\u001b[22mar\n",
      "\n"
     ]
    },
    {
     "data": {
      "text/latex": [
       "\\begin{verbatim}\n",
       "angle(z)\n",
       "\\end{verbatim}\n",
       "Compute the phase angle in radians of a complex number \\texttt{z}.\n",
       "\n",
       "See also: \\href{@ref}{\\texttt{atan}}, \\href{@ref}{\\texttt{cis}}.\n",
       "\n",
       "\\section{Examples}\n",
       "\\begin{verbatim}\n",
       "julia> rad2deg(angle(1 + im))\n",
       "45.0\n",
       "\n",
       "julia> rad2deg(angle(1 - im))\n",
       "-45.0\n",
       "\n",
       "julia> rad2deg(angle(-1 - im))\n",
       "-135.0\n",
       "\\end{verbatim}\n"
      ],
      "text/markdown": [
       "```\n",
       "angle(z)\n",
       "```\n",
       "\n",
       "Compute the phase angle in radians of a complex number `z`.\n",
       "\n",
       "See also: [`atan`](@ref), [`cis`](@ref).\n",
       "\n",
       "# Examples\n",
       "\n",
       "```jldoctest\n",
       "julia> rad2deg(angle(1 + im))\n",
       "45.0\n",
       "\n",
       "julia> rad2deg(angle(1 - im))\n",
       "-45.0\n",
       "\n",
       "julia> rad2deg(angle(-1 - im))\n",
       "-135.0\n",
       "```\n"
      ],
      "text/plain": [
       "\u001b[36m  angle(z)\u001b[39m\n",
       "\n",
       "  Compute the phase angle in radians of a complex number \u001b[36mz\u001b[39m.\n",
       "\n",
       "  See also: \u001b[36matan\u001b[39m, \u001b[36mcis\u001b[39m.\n",
       "\n",
       "\u001b[1m  Examples\u001b[22m\n",
       "\u001b[1m  ≡≡≡≡≡≡≡≡≡≡\u001b[22m\n",
       "\n",
       "\u001b[36m  julia> rad2deg(angle(1 + im))\u001b[39m\n",
       "\u001b[36m  45.0\u001b[39m\n",
       "\u001b[36m  \u001b[39m\n",
       "\u001b[36m  julia> rad2deg(angle(1 - im))\u001b[39m\n",
       "\u001b[36m  -45.0\u001b[39m\n",
       "\u001b[36m  \u001b[39m\n",
       "\u001b[36m  julia> rad2deg(angle(-1 - im))\u001b[39m\n",
       "\u001b[36m  -135.0\u001b[39m"
      ]
     },
     "execution_count": 27,
     "metadata": {},
     "output_type": "execute_result"
    }
   ],
   "source": [
    "? angle"
   ]
  },
  {
   "cell_type": "markdown",
   "metadata": {},
   "source": [
    "Sometimes we speak about $\\cos \\theta$:\n",
    "\n",
    "$$\n",
    "\\cos \\theta = \\frac{u^T v}{||u|| ||v||}\n",
    "$$"
   ]
  },
  {
   "cell_type": "code",
   "execution_count": 28,
   "metadata": {},
   "outputs": [
    {
     "data": {
      "text/plain": [
       "(0.7071067811865475, 40.51423422706977, 0.7071067811865476)"
      ]
     },
     "execution_count": 28,
     "metadata": {},
     "output_type": "execute_result"
    }
   ],
   "source": [
    "u = [10,0]\n",
    "v = [5, 5]\n",
    "θ = (u ⋅ v)/norm(u)/norm(v)\n",
    "θ, rad2deg(θ),sqrt(2)/2"
   ]
  },
  {
   "cell_type": "markdown",
   "metadata": {},
   "source": [
    "### Cauchy-Schwarz, Inequality"
   ]
  },
  {
   "cell_type": "markdown",
   "metadata": {},
   "source": [
    "$$\\left[\n",
    "\\begin{matrix}\n",
    "1 \\\\\n",
    "2 \\\\\n",
    "3 \\\\\n",
    "\\end{matrix}\\right]$$"
   ]
  },
  {
   "cell_type": "markdown",
   "metadata": {},
   "source": [
    "$$\n",
    "|u^T v| \\le ||u|| ~ ||v||\n",
    "$$"
   ]
  },
  {
   "cell_type": "markdown",
   "metadata": {},
   "source": [
    "$$\n",
    "(u^T v)^2 \\le ||u||^2 ~ ||v||^2\n",
    "$$"
   ]
  },
  {
   "cell_type": "markdown",
   "metadata": {},
   "source": [
    "Proof (essense):  Assume $u \\neq 0$ and $v \\neq 0$. Set $\\alpha := ||u||$, $\\beta := ||v||$:\n",
    "\n",
    "$$\n",
    "0 \\le || \\alpha u - \\beta v||^2 = \\ldots \\ldots = 2 ||u||^2 ||v||^2 - 2 ||u||~||v|| (u^T v)\n",
    "$$\n",
    "\n",
    "Hence,\n",
    "\n",
    "$$\n",
    "u^T v \\le ||u||~||v||\n",
    "$$\n",
    "\n",
    "Now repeat with $-u$ and $v$."
   ]
  },
  {
   "cell_type": "markdown",
   "metadata": {},
   "source": [
    "### Triangle Inequality"
   ]
  },
  {
   "cell_type": "markdown",
   "metadata": {},
   "source": [
    "$$||u + v|| \\le ||u|| + ||v||$$"
   ]
  },
  {
   "cell_type": "markdown",
   "metadata": {},
   "source": [
    "Proof:\n",
    "\n",
    "$$ ||u+v||^2 = ||u||^2 + 2u^T v + ||v||^2 \\le ||u||^2 + 2 ||u|| ~ ||v|| + ||v||^2 = \\big( ||u|| + ||v|| \\big)^2$$"
   ]
  },
  {
   "cell_type": "markdown",
   "metadata": {},
   "source": [
    "$$(a+b)^2 = a^2+2ab+b^2$$"
   ]
  },
  {
   "cell_type": "markdown",
   "metadata": {},
   "source": [
    "CS check:\n",
    "\n",
    "$$\n",
    "0 \\le ||u|| ~ ||v|| - |u^T v|\n",
    "$$"
   ]
  },
  {
   "cell_type": "code",
   "execution_count": 29,
   "metadata": {},
   "outputs": [
    {
     "name": "stdout",
     "output_type": "stream",
     "text": [
      "search: \u001b[0m\u001b[1mp\u001b[22m\u001b[0m\u001b[1mu\u001b[22m\u001b[0m\u001b[1ms\u001b[22m\u001b[0m\u001b[1mh\u001b[22m\u001b[0m\u001b[1m!\u001b[22m \u001b[0m\u001b[1mp\u001b[22m\u001b[0m\u001b[1mu\u001b[22m\u001b[0m\u001b[1ms\u001b[22m\u001b[0m\u001b[1mh\u001b[22mfirst\u001b[0m\u001b[1m!\u001b[22m \u001b[0m\u001b[1mp\u001b[22m\u001b[0m\u001b[1mu\u001b[22m\u001b[0m\u001b[1ms\u001b[22m\u001b[0m\u001b[1mh\u001b[22mdisplay\n",
      "\n"
     ]
    },
    {
     "data": {
      "text/latex": [
       "\\begin{verbatim}\n",
       "push!(collection, items...) -> collection\n",
       "\\end{verbatim}\n",
       "Insert one or more \\texttt{items} in \\texttt{collection}. If \\texttt{collection} is an ordered container, the items are inserted at the end (in the given order).\n",
       "\n",
       "\\section{Examples}\n",
       "\\begin{verbatim}\n",
       "julia> push!([1, 2, 3], 4, 5, 6)\n",
       "6-element Vector{Int64}:\n",
       " 1\n",
       " 2\n",
       " 3\n",
       " 4\n",
       " 5\n",
       " 6\n",
       "\\end{verbatim}\n",
       "If \\texttt{collection} is ordered, use \\href{@ref}{\\texttt{append!}} to add all the elements of another collection to it. The result of the preceding example is equivalent to \\texttt{append!([1, 2, 3], [4, 5, 6])}. For \\texttt{AbstractSet} objects, \\href{@ref}{\\texttt{union!}} can be used instead.\n",
       "\n",
       "See \\href{@ref}{\\texttt{sizehint!}} for notes about the performance model.\n",
       "\n",
       "See also \\href{@ref}{\\texttt{pushfirst!}}.\n",
       "\n"
      ],
      "text/markdown": [
       "```\n",
       "push!(collection, items...) -> collection\n",
       "```\n",
       "\n",
       "Insert one or more `items` in `collection`. If `collection` is an ordered container, the items are inserted at the end (in the given order).\n",
       "\n",
       "# Examples\n",
       "\n",
       "```jldoctest\n",
       "julia> push!([1, 2, 3], 4, 5, 6)\n",
       "6-element Vector{Int64}:\n",
       " 1\n",
       " 2\n",
       " 3\n",
       " 4\n",
       " 5\n",
       " 6\n",
       "```\n",
       "\n",
       "If `collection` is ordered, use [`append!`](@ref) to add all the elements of another collection to it. The result of the preceding example is equivalent to `append!([1, 2, 3], [4, 5, 6])`. For `AbstractSet` objects, [`union!`](@ref) can be used instead.\n",
       "\n",
       "See [`sizehint!`](@ref) for notes about the performance model.\n",
       "\n",
       "See also [`pushfirst!`](@ref).\n"
      ],
      "text/plain": [
       "\u001b[36m  push!(collection, items...) -> collection\u001b[39m\n",
       "\n",
       "  Insert one or more \u001b[36mitems\u001b[39m in \u001b[36mcollection\u001b[39m. If \u001b[36mcollection\u001b[39m is an ordered\n",
       "  container, the items are inserted at the end (in the given order).\n",
       "\n",
       "\u001b[1m  Examples\u001b[22m\n",
       "\u001b[1m  ≡≡≡≡≡≡≡≡≡≡\u001b[22m\n",
       "\n",
       "\u001b[36m  julia> push!([1, 2, 3], 4, 5, 6)\u001b[39m\n",
       "\u001b[36m  6-element Vector{Int64}:\u001b[39m\n",
       "\u001b[36m   1\u001b[39m\n",
       "\u001b[36m   2\u001b[39m\n",
       "\u001b[36m   3\u001b[39m\n",
       "\u001b[36m   4\u001b[39m\n",
       "\u001b[36m   5\u001b[39m\n",
       "\u001b[36m   6\u001b[39m\n",
       "\n",
       "  If \u001b[36mcollection\u001b[39m is ordered, use \u001b[36mappend!\u001b[39m to add all the elements of another\n",
       "  collection to it. The result of the preceding example is equivalent to\n",
       "  \u001b[36mappend!([1, 2, 3], [4, 5, 6])\u001b[39m. For \u001b[36mAbstractSet\u001b[39m objects, \u001b[36munion!\u001b[39m can be used\n",
       "  instead.\n",
       "\n",
       "  See \u001b[36msizehint!\u001b[39m for notes about the performance model.\n",
       "\n",
       "  See also \u001b[36mpushfirst!\u001b[39m."
      ]
     },
     "execution_count": 29,
     "metadata": {},
     "output_type": "execute_result"
    }
   ],
   "source": [
    "? push!"
   ]
  },
  {
   "cell_type": "markdown",
   "metadata": {},
   "source": [
    "$$||u + v|| \\le ||u|| + ||v||$$"
   ]
  },
  {
   "cell_type": "markdown",
   "metadata": {},
   "source": [
    "$$0 \\le ||u|| + ||v|| - ||u + v||$$"
   ]
  },
  {
   "cell_type": "code",
   "execution_count": 30,
   "metadata": {},
   "outputs": [
    {
     "data": {
      "text/plain": [
       "21.213203435596427"
      ]
     },
     "execution_count": 30,
     "metadata": {},
     "output_type": "execute_result"
    }
   ],
   "source": [
    "u = [5,5]\n",
    "v = [10,10]\n",
    "norm(u) + norm(v)"
   ]
  },
  {
   "cell_type": "code",
   "execution_count": 31,
   "metadata": {},
   "outputs": [
    {
     "data": {
      "text/plain": [
       "21.213203435596427"
      ]
     },
     "execution_count": 31,
     "metadata": {},
     "output_type": "execute_result"
    }
   ],
   "source": [
    "norm(u+v)"
   ]
  },
  {
   "cell_type": "code",
   "execution_count": 32,
   "metadata": {},
   "outputs": [
    {
     "data": {
      "text/plain": [
       "2.2470914018413168e-13"
      ]
     },
     "execution_count": 32,
     "metadata": {},
     "output_type": "execute_result"
    }
   ],
   "source": [
    "n = 2 #length of vectors\n",
    "N = 10^5 #run on so many vectors\n",
    "arr1 = [] #init an empty array\n",
    "for _ in 1:N\n",
    "    u = rand(n)\n",
    "    v = rand(n)\n",
    "    #cs = norm(u)*norm(v)- abs(u ⋅ v) #Cauchy-Schwartz\n",
    "    #Exercise: modify line 7 to check for triangle inequality (Give Julia code in chat)\n",
    "    ti = norm(u) + norm(v) - norm(u+v)\n",
    "    push!(arr1,ti) #append to the array\n",
    "end\n",
    "minimum(arr1)"
   ]
  },
  {
   "cell_type": "code",
   "execution_count": 33,
   "metadata": {},
   "outputs": [
    {
     "data": {
      "text/plain": [
       "100000-element Vector{Any}:\n",
       " 0.0006975195860969841\n",
       " 0.049525846672158313\n",
       " 0.013298294827938761\n",
       " 0.01962665013232434\n",
       " 0.22138283866119868\n",
       " 0.0020960246529798665\n",
       " 0.0006537901188621298\n",
       " 0.0003912841774824649\n",
       " 0.0002072789828932997\n",
       " 0.0041460801476409515\n",
       " 0.022033937219621436\n",
       " 0.0046301764792899824\n",
       " 0.0002457558083306388\n",
       " ⋮\n",
       " 0.005177354937960121\n",
       " 0.029180347878988933\n",
       " 0.022613578273249724\n",
       " 0.03763201831041485\n",
       " 0.02870895172825505\n",
       " 0.020374327204199294\n",
       " 0.00011935001531071521\n",
       " 0.24270409600209475\n",
       " 0.002707357262211829\n",
       " 0.005924226209857331\n",
       " 0.007427094078749752\n",
       " 0.001272184264452525"
      ]
     },
     "execution_count": 33,
     "metadata": {},
     "output_type": "execute_result"
    }
   ],
   "source": [
    "arr1"
   ]
  },
  {
   "cell_type": "code",
   "execution_count": 34,
   "metadata": {},
   "outputs": [
    {
     "name": "stderr",
     "output_type": "stream",
     "text": [
      "\u001b[32m\u001b[1m    Updating\u001b[22m\u001b[39m registry at `~/.julia/registries/General.toml`\n",
      "\u001b[32m\u001b[1m   Resolving\u001b[22m\u001b[39m package versions...\n",
      "\u001b[32m\u001b[1m    Updating\u001b[22m\u001b[39m `~/.julia/environments/v1.8/Project.toml`\n",
      " \u001b[90m [28b8d3ca] \u001b[39m\u001b[92m+ GR v0.57.5\u001b[39m\n",
      "\u001b[32m\u001b[1m  No Changes\u001b[22m\u001b[39m to `~/.julia/environments/v1.8/Manifest.toml`\n",
      "\u001b[32m\u001b[1m   Resolving\u001b[22m\u001b[39m package versions...\n",
      "\u001b[32m\u001b[1m  No Changes\u001b[22m\u001b[39m to `~/.julia/environments/v1.8/Project.toml`\n",
      "\u001b[32m\u001b[1m  No Changes\u001b[22m\u001b[39m to `~/.julia/environments/v1.8/Manifest.toml`\n",
      "\u001b[32m\u001b[1m   Resolving\u001b[22m\u001b[39m package versions...\n",
      "\u001b[32m\u001b[1m   Installed\u001b[22m\u001b[39m FFTW ──────────────── v1.4.2\n",
      "\u001b[32m\u001b[1m   Installed\u001b[22m\u001b[39m IntelOpenMP_jll ───── v2018.0.3+2\n",
      "\u001b[32m\u001b[1m   Installed\u001b[22m\u001b[39m StatsFuns ─────────── v0.9.8\n",
      "\u001b[32m\u001b[1m   Installed\u001b[22m\u001b[39m OffsetArrays ──────── v1.10.0\n",
      "\u001b[32m\u001b[1m   Installed\u001b[22m\u001b[39m PDMats ────────────── v0.11.1\n",
      "\u001b[32m\u001b[1m   Installed\u001b[22m\u001b[39m Distances ─────────── v0.10.3\n",
      "\u001b[32m\u001b[1m   Installed\u001b[22m\u001b[39m NearestNeighbors ──── v0.4.9\n",
      "\u001b[32m\u001b[1m   Installed\u001b[22m\u001b[39m Rmath_jll ─────────── v0.3.0+0\n",
      "\u001b[32m\u001b[1m   Installed\u001b[22m\u001b[39m Ratios ────────────── v0.4.0\n",
      "\u001b[32m\u001b[1m   Installed\u001b[22m\u001b[39m SentinelArrays ────── v1.3.2\n",
      "\u001b[32m\u001b[1m   Installed\u001b[22m\u001b[39m MKL_jll ───────────── v2021.1.1+1\n",
      "\u001b[32m\u001b[1m   Installed\u001b[22m\u001b[39m StatsPlots ────────── v0.14.22\n",
      "\u001b[32m\u001b[1m   Installed\u001b[22m\u001b[39m DataValues ────────── v0.4.13\n",
      "\u001b[32m\u001b[1m   Installed\u001b[22m\u001b[39m SpecialFunctions ──── v1.5.1\n",
      "\u001b[32m\u001b[1m   Installed\u001b[22m\u001b[39m Clustering ────────── v0.14.2\n",
      "\u001b[32m\u001b[1m   Installed\u001b[22m\u001b[39m AbstractFFTs ──────── v1.0.1\n",
      "\u001b[32m\u001b[1m   Installed\u001b[22m\u001b[39m FFTW_jll ──────────── v3.3.9+7\n",
      "\u001b[32m\u001b[1m   Installed\u001b[22m\u001b[39m KernelDensity ─────── v0.6.3\n",
      "\u001b[32m\u001b[1m   Installed\u001b[22m\u001b[39m LogExpFunctions ───── v0.2.4\n",
      "\u001b[32m\u001b[1m   Installed\u001b[22m\u001b[39m ChainRulesCore ────── v0.10.4\n",
      "\u001b[32m\u001b[1m   Installed\u001b[22m\u001b[39m OpenSpecFun_jll ───── v0.5.5+0\n",
      "\u001b[32m\u001b[1m   Installed\u001b[22m\u001b[39m Widgets ───────────── v0.6.3\n",
      "\u001b[32m\u001b[1m   Installed\u001b[22m\u001b[39m MultivariateStats ─── v0.8.0\n",
      "\u001b[32m\u001b[1m   Installed\u001b[22m\u001b[39m Arpack_jll ────────── v3.5.0+3\n",
      "\u001b[32m\u001b[1m   Installed\u001b[22m\u001b[39m Rmath ─────────────── v0.7.0\n",
      "\u001b[32m\u001b[1m   Installed\u001b[22m\u001b[39m Arpack ────────────── v0.4.0\n",
      "\u001b[32m\u001b[1m   Installed\u001b[22m\u001b[39m TableOperations ───── v1.0.0\n",
      "\u001b[32m\u001b[1m   Installed\u001b[22m\u001b[39m FillArrays ────────── v0.11.7\n",
      "\u001b[32m\u001b[1m   Installed\u001b[22m\u001b[39m QuadGK ────────────── v2.4.1\n",
      "\u001b[32m\u001b[1m   Installed\u001b[22m\u001b[39m DocStringExtensions ─ v0.8.5\n",
      "\u001b[32m\u001b[1m   Installed\u001b[22m\u001b[39m Interpolations ────── v0.13.2\n",
      "\u001b[32m\u001b[1m   Installed\u001b[22m\u001b[39m Observables ───────── v0.4.0\n",
      "\u001b[32m\u001b[1m   Installed\u001b[22m\u001b[39m AxisAlgorithms ────── v1.0.0\n",
      "\u001b[32m\u001b[1m   Installed\u001b[22m\u001b[39m WoodburyMatrices ──── v0.5.3\n",
      "\u001b[32m\u001b[1m   Installed\u001b[22m\u001b[39m Distributions ─────── v0.25.3\n",
      "\u001b[32m\u001b[1m    Updating\u001b[22m\u001b[39m `~/.julia/environments/v1.8/Project.toml`\n",
      " \u001b[90m [f3b207a7] \u001b[39m\u001b[92m+ StatsPlots v0.14.22\u001b[39m\n",
      "\u001b[32m\u001b[1m    Updating\u001b[22m\u001b[39m `~/.julia/environments/v1.8/Manifest.toml`\n",
      " \u001b[90m [621f4979] \u001b[39m\u001b[92m+ AbstractFFTs v1.0.1\u001b[39m\n",
      " \u001b[90m [7d9fca2a] \u001b[39m\u001b[92m+ Arpack v0.4.0\u001b[39m\n",
      " \u001b[90m [13072b0f] \u001b[39m\u001b[92m+ AxisAlgorithms v1.0.0\u001b[39m\n",
      " \u001b[90m [d360d2e6] \u001b[39m\u001b[92m+ ChainRulesCore v0.10.4\u001b[39m\n",
      " \u001b[90m [aaaa29a8] \u001b[39m\u001b[92m+ Clustering v0.14.2\u001b[39m\n",
      " \u001b[90m [e7dc6d0d] \u001b[39m\u001b[92m+ DataValues v0.4.13\u001b[39m\n",
      " \u001b[90m [b4f34e82] \u001b[39m\u001b[92m+ Distances v0.10.3\u001b[39m\n",
      " \u001b[90m [31c24e10] \u001b[39m\u001b[92m+ Distributions v0.25.3\u001b[39m\n",
      " \u001b[90m [ffbed154] \u001b[39m\u001b[92m+ DocStringExtensions v0.8.5\u001b[39m\n",
      " \u001b[90m [7a1cc6ca] \u001b[39m\u001b[92m+ FFTW v1.4.2\u001b[39m\n",
      " \u001b[90m [1a297f60] \u001b[39m\u001b[92m+ FillArrays v0.11.7\u001b[39m\n",
      " \u001b[90m [a98d9a8b] \u001b[39m\u001b[92m+ Interpolations v0.13.2\u001b[39m\n",
      " \u001b[90m [5ab0869b] \u001b[39m\u001b[92m+ KernelDensity v0.6.3\u001b[39m\n",
      " \u001b[90m [2ab3a3ac] \u001b[39m\u001b[92m+ LogExpFunctions v0.2.4\u001b[39m\n",
      " \u001b[90m [6f286f6a] \u001b[39m\u001b[92m+ MultivariateStats v0.8.0\u001b[39m\n",
      " \u001b[90m [b8a86587] \u001b[39m\u001b[92m+ NearestNeighbors v0.4.9\u001b[39m\n",
      " \u001b[90m [510215fc] \u001b[39m\u001b[92m+ Observables v0.4.0\u001b[39m\n",
      " \u001b[90m [6fe1bfb0] \u001b[39m\u001b[92m+ OffsetArrays v1.10.0\u001b[39m\n",
      " \u001b[90m [90014a1f] \u001b[39m\u001b[92m+ PDMats v0.11.1\u001b[39m\n",
      " \u001b[90m [1fd47b50] \u001b[39m\u001b[92m+ QuadGK v2.4.1\u001b[39m\n",
      " \u001b[90m [c84ed2f1] \u001b[39m\u001b[92m+ Ratios v0.4.0\u001b[39m\n",
      " \u001b[90m [79098fc4] \u001b[39m\u001b[92m+ Rmath v0.7.0\u001b[39m\n",
      " \u001b[90m [91c51154] \u001b[39m\u001b[92m+ SentinelArrays v1.3.2\u001b[39m\n",
      " \u001b[90m [276daf66] \u001b[39m\u001b[92m+ SpecialFunctions v1.5.1\u001b[39m\n",
      " \u001b[90m [4c63d2b9] \u001b[39m\u001b[92m+ StatsFuns v0.9.8\u001b[39m\n",
      " \u001b[90m [f3b207a7] \u001b[39m\u001b[92m+ StatsPlots v0.14.22\u001b[39m\n",
      " \u001b[90m [ab02a1b2] \u001b[39m\u001b[92m+ TableOperations v1.0.0\u001b[39m\n",
      " \u001b[90m [cc8bc4a8] \u001b[39m\u001b[92m+ Widgets v0.6.3\u001b[39m\n",
      " \u001b[90m [efce3f68] \u001b[39m\u001b[92m+ WoodburyMatrices v0.5.3\u001b[39m\n",
      " \u001b[90m [68821587] \u001b[39m\u001b[92m+ Arpack_jll v3.5.0+3\u001b[39m\n",
      " \u001b[90m [f5851436] \u001b[39m\u001b[92m+ FFTW_jll v3.3.9+7\u001b[39m\n",
      " \u001b[90m [1d5cc7b8] \u001b[39m\u001b[92m+ IntelOpenMP_jll v2018.0.3+2\u001b[39m\n",
      " \u001b[90m [856f044c] \u001b[39m\u001b[92m+ MKL_jll v2021.1.1+1\u001b[39m\n",
      " \u001b[90m [efe28fd5] \u001b[39m\u001b[92m+ OpenSpecFun_jll v0.5.5+0\u001b[39m\n",
      " \u001b[90m [f50d1b31] \u001b[39m\u001b[92m+ Rmath_jll v0.3.0+0\u001b[39m\n",
      " \u001b[90m [4af54fe1] \u001b[39m\u001b[92m+ LazyArtifacts\u001b[39m\n",
      " \u001b[90m [4607b0f0] \u001b[39m\u001b[92m+ SuiteSparse\u001b[39m\n",
      "\u001b[32m\u001b[1mPrecompiling\u001b[22m\u001b[39m project...\n",
      "\u001b[32m  ✓ \u001b[39m\u001b[90mWoodburyMatrices\u001b[39m\n",
      "\u001b[32m  ✓ \u001b[39m\u001b[90mObservables\u001b[39m\n",
      "\u001b[32m  ✓ \u001b[39m\u001b[90mChainRulesCore\u001b[39m\n",
      "\u001b[32m  ✓ \u001b[39m\u001b[90mAbstractFFTs\u001b[39m\n",
      "\u001b[32m  ✓ \u001b[39m\u001b[90mDocStringExtensions\u001b[39m\n",
      "\u001b[32m  ✓ \u001b[39m\u001b[90mDistances\u001b[39m\n",
      "\u001b[32m  ✓ \u001b[39m\u001b[90mPDMats\u001b[39m\n",
      "\u001b[32m  ✓ \u001b[39m\u001b[90mFillArrays\u001b[39m\n",
      "\u001b[32m  ✓ \u001b[39m\u001b[90mRatios\u001b[39m\n",
      "\u001b[32m  ✓ \u001b[39m\u001b[90mDataValues\u001b[39m\n",
      "\u001b[32m  ✓ \u001b[39m\u001b[90mSentinelArrays\u001b[39m\n",
      "\u001b[32m  ✓ \u001b[39m\u001b[90mOffsetArrays\u001b[39m\n",
      "\u001b[32m  ✓ \u001b[39m\u001b[90mArpack_jll\u001b[39m\n",
      "\u001b[32m  ✓ \u001b[39m\u001b[90mAxisAlgorithms\u001b[39m\n",
      "\u001b[32m  ✓ \u001b[39m\u001b[90mRmath_jll\u001b[39m\n",
      "\u001b[32m  ✓ \u001b[39m\u001b[90mIntelOpenMP_jll\u001b[39m\n",
      "\u001b[32m  ✓ \u001b[39m\u001b[90mFFTW_jll\u001b[39m\n",
      "\u001b[32m  ✓ \u001b[39m\u001b[90mQuadGK\u001b[39m\n",
      "\u001b[32m  ✓ \u001b[39m\u001b[90mOpenSpecFun_jll\u001b[39m\n",
      "\u001b[32m  ✓ \u001b[39m\u001b[90mLogExpFunctions\u001b[39m\n",
      "\u001b[32m  ✓ \u001b[39m\u001b[90mWidgets\u001b[39m\n",
      "\u001b[32m  ✓ \u001b[39m\u001b[90mTableOperations\u001b[39m\n",
      "\u001b[32m  ✓ \u001b[39m\u001b[90mArpack\u001b[39m\n",
      "\u001b[32m  ✓ \u001b[39m\u001b[90mRmath\u001b[39m\n",
      "\u001b[32m  ✓ \u001b[39m\u001b[90mNearestNeighbors\u001b[39m\n",
      "\u001b[32m  ✓ \u001b[39m\u001b[90mMKL_jll\u001b[39m\n",
      "\u001b[32m  ✓ \u001b[39m\u001b[90mMultivariateStats\u001b[39m\n",
      "\u001b[32m  ✓ \u001b[39m\u001b[90mInterpolations\u001b[39m\n",
      "\u001b[32m  ✓ \u001b[39m\u001b[90mClustering\u001b[39m\n",
      "\u001b[32m  ✓ \u001b[39m\u001b[90mSpecialFunctions\u001b[39m\n",
      "\u001b[32m  ✓ \u001b[39m\u001b[90mStatsFuns\u001b[39m\n",
      "\u001b[32m  ✓ \u001b[39m\u001b[90mFFTW\u001b[39m\n",
      "\u001b[32m  ✓ \u001b[39m\u001b[90mDistributions\u001b[39m\n",
      "\u001b[32m  ✓ \u001b[39m\u001b[90mKernelDensity\u001b[39m\n",
      "\u001b[32m  ✓ \u001b[39mStatsPlots\n",
      "  35 dependencies successfully precompiled in 23 seconds (124 already precompiled)\n"
     ]
    }
   ],
   "source": [
    "using Pkg\n",
    "Pkg.add(\"GR\")\n",
    "Pkg.add(\"Plots\")\n",
    "Pkg.add(\"StatsPlots\")"
   ]
  },
  {
   "cell_type": "code",
   "execution_count": 35,
   "metadata": {},
   "outputs": [
    {
     "data": {
      "image/svg+xml": [
       "<?xml version=\"1.0\" encoding=\"utf-8\"?>\n",
       "<svg xmlns=\"http://www.w3.org/2000/svg\" xmlns:xlink=\"http://www.w3.org/1999/xlink\" width=\"600\" height=\"400\" viewBox=\"0 0 2400 1600\">\n",
       "<defs>\n",
       "  <clipPath id=\"clip710\">\n",
       "    <rect x=\"0\" y=\"0\" width=\"2400\" height=\"1600\"/>\n",
       "  </clipPath>\n",
       "</defs>\n",
       "<path clip-path=\"url(#clip710)\" d=\"\n",
       "M0 1600 L2400 1600 L2400 0 L0 0  Z\n",
       "  \" fill=\"#ffffff\" fill-rule=\"evenodd\" fill-opacity=\"1\"/>\n",
       "<defs>\n",
       "  <clipPath id=\"clip711\">\n",
       "    <rect x=\"480\" y=\"0\" width=\"1681\" height=\"1600\"/>\n",
       "  </clipPath>\n",
       "</defs>\n",
       "<path clip-path=\"url(#clip710)\" d=\"\n",
       "M170.857 1486.45 L2352.76 1486.45 L2352.76 47.2441 L170.857 47.2441  Z\n",
       "  \" fill=\"#ffffff\" fill-rule=\"evenodd\" fill-opacity=\"1\"/>\n",
       "<defs>\n",
       "  <clipPath id=\"clip712\">\n",
       "    <rect x=\"170\" y=\"47\" width=\"2183\" height=\"1440\"/>\n",
       "  </clipPath>\n",
       "</defs>\n",
       "<polyline clip-path=\"url(#clip712)\" style=\"stroke:#000000; stroke-linecap:butt; stroke-linejoin:round; stroke-width:2; stroke-opacity:0.1; fill:none\" points=\"\n",
       "  290.866,1486.45 290.866,47.2441 \n",
       "  \"/>\n",
       "<polyline clip-path=\"url(#clip712)\" style=\"stroke:#000000; stroke-linecap:butt; stroke-linejoin:round; stroke-width:2; stroke-opacity:0.1; fill:none\" points=\"\n",
       "  808.701,1486.45 808.701,47.2441 \n",
       "  \"/>\n",
       "<polyline clip-path=\"url(#clip712)\" style=\"stroke:#000000; stroke-linecap:butt; stroke-linejoin:round; stroke-width:2; stroke-opacity:0.1; fill:none\" points=\"\n",
       "  1326.54,1486.45 1326.54,47.2441 \n",
       "  \"/>\n",
       "<polyline clip-path=\"url(#clip712)\" style=\"stroke:#000000; stroke-linecap:butt; stroke-linejoin:round; stroke-width:2; stroke-opacity:0.1; fill:none\" points=\"\n",
       "  1844.37,1486.45 1844.37,47.2441 \n",
       "  \"/>\n",
       "<polyline clip-path=\"url(#clip710)\" style=\"stroke:#000000; stroke-linecap:butt; stroke-linejoin:round; stroke-width:4; stroke-opacity:1; fill:none\" points=\"\n",
       "  170.857,1486.45 2352.76,1486.45 \n",
       "  \"/>\n",
       "<polyline clip-path=\"url(#clip710)\" style=\"stroke:#000000; stroke-linecap:butt; stroke-linejoin:round; stroke-width:4; stroke-opacity:1; fill:none\" points=\"\n",
       "  290.866,1486.45 290.866,1469.18 \n",
       "  \"/>\n",
       "<polyline clip-path=\"url(#clip710)\" style=\"stroke:#000000; stroke-linecap:butt; stroke-linejoin:round; stroke-width:4; stroke-opacity:1; fill:none\" points=\"\n",
       "  808.701,1486.45 808.701,1469.18 \n",
       "  \"/>\n",
       "<polyline clip-path=\"url(#clip710)\" style=\"stroke:#000000; stroke-linecap:butt; stroke-linejoin:round; stroke-width:4; stroke-opacity:1; fill:none\" points=\"\n",
       "  1326.54,1486.45 1326.54,1469.18 \n",
       "  \"/>\n",
       "<polyline clip-path=\"url(#clip710)\" style=\"stroke:#000000; stroke-linecap:butt; stroke-linejoin:round; stroke-width:4; stroke-opacity:1; fill:none\" points=\"\n",
       "  1844.37,1486.45 1844.37,1469.18 \n",
       "  \"/>\n",
       "<path clip-path=\"url(#clip710)\" d=\"M259.766 1530.29 L289.442 1530.29 L289.442 1534.23 L259.766 1534.23 L259.766 1530.29 Z\" fill=\"#000000\" fill-rule=\"evenodd\" fill-opacity=\"1\" /><path clip-path=\"url(#clip710)\" d=\"M312.382 1516.63 L300.576 1535.08 L312.382 1535.08 L312.382 1516.63 M311.155 1512.56 L317.035 1512.56 L317.035 1535.08 L321.965 1535.08 L321.965 1538.97 L317.035 1538.97 L317.035 1547.12 L312.382 1547.12 L312.382 1538.97 L296.78 1538.97 L296.78 1534.46 L311.155 1512.56 Z\" fill=\"#000000\" fill-rule=\"evenodd\" fill-opacity=\"1\" /><path clip-path=\"url(#clip710)\" d=\"M778.643 1530.29 L808.319 1530.29 L808.319 1534.23 L778.643 1534.23 L778.643 1530.29 Z\" fill=\"#000000\" fill-rule=\"evenodd\" fill-opacity=\"1\" /><path clip-path=\"url(#clip710)\" d=\"M822.439 1543.18 L838.759 1543.18 L838.759 1547.12 L816.814 1547.12 L816.814 1543.18 Q819.476 1540.43 824.06 1535.8 Q828.666 1531.15 829.847 1529.81 Q832.092 1527.28 832.972 1525.55 Q833.874 1523.79 833.874 1522.1 Q833.874 1519.34 831.93 1517.61 Q830.009 1515.87 826.907 1515.87 Q824.708 1515.87 822.254 1516.63 Q819.824 1517.4 817.046 1518.95 L817.046 1514.23 Q819.87 1513.09 822.323 1512.51 Q824.777 1511.93 826.814 1511.93 Q832.185 1511.93 835.379 1514.62 Q838.573 1517.31 838.573 1521.8 Q838.573 1523.93 837.763 1525.85 Q836.976 1527.74 834.87 1530.34 Q834.291 1531.01 831.189 1534.23 Q828.087 1537.42 822.439 1543.18 Z\" fill=\"#000000\" fill-rule=\"evenodd\" fill-opacity=\"1\" /><path clip-path=\"url(#clip710)\" d=\"M1326.54 1515.64 Q1322.92 1515.64 1321.1 1519.2 Q1319.29 1522.75 1319.29 1529.87 Q1319.29 1536.98 1321.1 1540.55 Q1322.92 1544.09 1326.54 1544.09 Q1330.17 1544.09 1331.98 1540.55 Q1333.8 1536.98 1333.8 1529.87 Q1333.8 1522.75 1331.98 1519.2 Q1330.17 1515.64 1326.54 1515.64 M1326.54 1511.93 Q1332.35 1511.93 1335.4 1516.54 Q1338.48 1521.12 1338.48 1529.87 Q1338.48 1538.6 1335.4 1543.21 Q1332.35 1547.79 1326.54 1547.79 Q1320.73 1547.79 1317.65 1543.21 Q1314.59 1538.6 1314.59 1529.87 Q1314.59 1521.12 1317.65 1516.54 Q1320.73 1511.93 1326.54 1511.93 Z\" fill=\"#000000\" fill-rule=\"evenodd\" fill-opacity=\"1\" /><path clip-path=\"url(#clip710)\" d=\"M1839.02 1543.18 L1855.34 1543.18 L1855.34 1547.12 L1833.4 1547.12 L1833.4 1543.18 Q1836.06 1540.43 1840.64 1535.8 Q1845.25 1531.15 1846.43 1529.81 Q1848.68 1527.28 1849.56 1525.55 Q1850.46 1523.79 1850.46 1522.1 Q1850.46 1519.34 1848.51 1517.61 Q1846.59 1515.87 1843.49 1515.87 Q1841.29 1515.87 1838.84 1516.63 Q1836.41 1517.4 1833.63 1518.95 L1833.63 1514.23 Q1836.45 1513.09 1838.91 1512.51 Q1841.36 1511.93 1843.4 1511.93 Q1848.77 1511.93 1851.96 1514.62 Q1855.16 1517.31 1855.16 1521.8 Q1855.16 1523.93 1854.35 1525.85 Q1853.56 1527.74 1851.45 1530.34 Q1850.88 1531.01 1847.77 1534.23 Q1844.67 1537.42 1839.02 1543.18 Z\" fill=\"#000000\" fill-rule=\"evenodd\" fill-opacity=\"1\" /><polyline clip-path=\"url(#clip712)\" style=\"stroke:#000000; stroke-linecap:butt; stroke-linejoin:round; stroke-width:2; stroke-opacity:0.1; fill:none\" points=\"\n",
       "  170.857,1445.72 2352.76,1445.72 \n",
       "  \"/>\n",
       "<polyline clip-path=\"url(#clip712)\" style=\"stroke:#000000; stroke-linecap:butt; stroke-linejoin:round; stroke-width:2; stroke-opacity:0.1; fill:none\" points=\"\n",
       "  170.857,1104.58 2352.76,1104.58 \n",
       "  \"/>\n",
       "<polyline clip-path=\"url(#clip712)\" style=\"stroke:#000000; stroke-linecap:butt; stroke-linejoin:round; stroke-width:2; stroke-opacity:0.1; fill:none\" points=\"\n",
       "  170.857,763.435 2352.76,763.435 \n",
       "  \"/>\n",
       "<polyline clip-path=\"url(#clip712)\" style=\"stroke:#000000; stroke-linecap:butt; stroke-linejoin:round; stroke-width:2; stroke-opacity:0.1; fill:none\" points=\"\n",
       "  170.857,422.294 2352.76,422.294 \n",
       "  \"/>\n",
       "<polyline clip-path=\"url(#clip712)\" style=\"stroke:#000000; stroke-linecap:butt; stroke-linejoin:round; stroke-width:2; stroke-opacity:0.1; fill:none\" points=\"\n",
       "  170.857,81.1535 2352.76,81.1535 \n",
       "  \"/>\n",
       "<polyline clip-path=\"url(#clip710)\" style=\"stroke:#000000; stroke-linecap:butt; stroke-linejoin:round; stroke-width:4; stroke-opacity:1; fill:none\" points=\"\n",
       "  170.857,1486.45 170.857,47.2441 \n",
       "  \"/>\n",
       "<polyline clip-path=\"url(#clip710)\" style=\"stroke:#000000; stroke-linecap:butt; stroke-linejoin:round; stroke-width:4; stroke-opacity:1; fill:none\" points=\"\n",
       "  170.857,1445.72 197.04,1445.72 \n",
       "  \"/>\n",
       "<polyline clip-path=\"url(#clip710)\" style=\"stroke:#000000; stroke-linecap:butt; stroke-linejoin:round; stroke-width:4; stroke-opacity:1; fill:none\" points=\"\n",
       "  170.857,1104.58 197.04,1104.58 \n",
       "  \"/>\n",
       "<polyline clip-path=\"url(#clip710)\" style=\"stroke:#000000; stroke-linecap:butt; stroke-linejoin:round; stroke-width:4; stroke-opacity:1; fill:none\" points=\"\n",
       "  170.857,763.435 197.04,763.435 \n",
       "  \"/>\n",
       "<polyline clip-path=\"url(#clip710)\" style=\"stroke:#000000; stroke-linecap:butt; stroke-linejoin:round; stroke-width:4; stroke-opacity:1; fill:none\" points=\"\n",
       "  170.857,422.294 197.04,422.294 \n",
       "  \"/>\n",
       "<polyline clip-path=\"url(#clip710)\" style=\"stroke:#000000; stroke-linecap:butt; stroke-linejoin:round; stroke-width:4; stroke-opacity:1; fill:none\" points=\"\n",
       "  170.857,81.1535 197.04,81.1535 \n",
       "  \"/>\n",
       "<path clip-path=\"url(#clip710)\" d=\"M122.913 1431.51 Q119.302 1431.51 117.473 1435.08 Q115.668 1438.62 115.668 1445.75 Q115.668 1452.86 117.473 1456.42 Q119.302 1459.96 122.913 1459.96 Q126.547 1459.96 128.353 1456.42 Q130.182 1452.86 130.182 1445.75 Q130.182 1438.62 128.353 1435.08 Q126.547 1431.51 122.913 1431.51 M122.913 1427.81 Q128.723 1427.81 131.779 1432.42 Q134.857 1437 134.857 1445.75 Q134.857 1454.48 131.779 1459.08 Q128.723 1463.67 122.913 1463.67 Q117.103 1463.67 114.024 1459.08 Q110.969 1454.48 110.969 1445.75 Q110.969 1437 114.024 1432.42 Q117.103 1427.81 122.913 1427.81 Z\" fill=\"#000000\" fill-rule=\"evenodd\" fill-opacity=\"1\" /><path clip-path=\"url(#clip710)\" d=\"M82.7975 1087.3 L101.154 1087.3 L101.154 1091.23 L87.0799 1091.23 L87.0799 1099.7 Q88.0984 1099.36 89.1169 1099.19 Q90.1354 1099.01 91.1539 1099.01 Q96.941 1099.01 100.321 1102.18 Q103.7 1105.35 103.7 1110.77 Q103.7 1116.35 100.228 1119.45 Q96.7558 1122.53 90.4364 1122.53 Q88.2604 1122.53 85.9919 1122.16 Q83.7466 1121.79 81.3392 1121.04 L81.3392 1116.35 Q83.4225 1117.48 85.6447 1118.04 Q87.8669 1118.59 90.3438 1118.59 Q94.3484 1118.59 96.6863 1116.48 Q99.0243 1114.38 99.0243 1110.77 Q99.0243 1107.16 96.6863 1105.05 Q94.3484 1102.94 90.3438 1102.94 Q88.4688 1102.94 86.5938 1103.36 Q84.7419 1103.78 82.7975 1104.66 L82.7975 1087.3 Z\" fill=\"#000000\" fill-rule=\"evenodd\" fill-opacity=\"1\" /><path clip-path=\"url(#clip710)\" d=\"M122.913 1090.37 Q119.302 1090.37 117.473 1093.94 Q115.668 1097.48 115.668 1104.61 Q115.668 1111.72 117.473 1115.28 Q119.302 1118.82 122.913 1118.82 Q126.547 1118.82 128.353 1115.28 Q130.182 1111.72 130.182 1104.61 Q130.182 1097.48 128.353 1093.94 Q126.547 1090.37 122.913 1090.37 M122.913 1086.67 Q128.723 1086.67 131.779 1091.28 Q134.857 1095.86 134.857 1104.61 Q134.857 1113.34 131.779 1117.94 Q128.723 1122.53 122.913 1122.53 Q117.103 1122.53 114.024 1117.94 Q110.969 1113.34 110.969 1104.61 Q110.969 1095.86 114.024 1091.28 Q117.103 1086.67 122.913 1086.67 Z\" fill=\"#000000\" fill-rule=\"evenodd\" fill-opacity=\"1\" /><path clip-path=\"url(#clip710)\" d=\"M53.3995 776.779 L61.0384 776.779 L61.0384 750.414 L52.7282 752.08 L52.7282 747.821 L60.9921 746.155 L65.668 746.155 L65.668 776.779 L73.3068 776.779 L73.3068 780.715 L53.3995 780.715 L53.3995 776.779 Z\" fill=\"#000000\" fill-rule=\"evenodd\" fill-opacity=\"1\" /><path clip-path=\"url(#clip710)\" d=\"M92.7512 749.233 Q89.1401 749.233 87.3114 752.798 Q85.5058 756.34 85.5058 763.469 Q85.5058 770.576 87.3114 774.141 Q89.1401 777.682 92.7512 777.682 Q96.3854 777.682 98.1909 774.141 Q100.02 770.576 100.02 763.469 Q100.02 756.34 98.1909 752.798 Q96.3854 749.233 92.7512 749.233 M92.7512 745.53 Q98.5613 745.53 101.617 750.136 Q104.696 754.719 104.696 763.469 Q104.696 772.196 101.617 776.803 Q98.5613 781.386 92.7512 781.386 Q86.941 781.386 83.8623 776.803 Q80.8068 772.196 80.8068 763.469 Q80.8068 754.719 83.8623 750.136 Q86.941 745.53 92.7512 745.53 Z\" fill=\"#000000\" fill-rule=\"evenodd\" fill-opacity=\"1\" /><path clip-path=\"url(#clip710)\" d=\"M122.913 749.233 Q119.302 749.233 117.473 752.798 Q115.668 756.34 115.668 763.469 Q115.668 770.576 117.473 774.141 Q119.302 777.682 122.913 777.682 Q126.547 777.682 128.353 774.141 Q130.182 770.576 130.182 763.469 Q130.182 756.34 128.353 752.798 Q126.547 749.233 122.913 749.233 M122.913 745.53 Q128.723 745.53 131.779 750.136 Q134.857 754.719 134.857 763.469 Q134.857 772.196 131.779 776.803 Q128.723 781.386 122.913 781.386 Q117.103 781.386 114.024 776.803 Q110.969 772.196 110.969 763.469 Q110.969 754.719 114.024 750.136 Q117.103 745.53 122.913 745.53 Z\" fill=\"#000000\" fill-rule=\"evenodd\" fill-opacity=\"1\" /><path clip-path=\"url(#clip710)\" d=\"M53.3995 435.639 L61.0384 435.639 L61.0384 409.273 L52.7282 410.94 L52.7282 406.681 L60.9921 405.014 L65.668 405.014 L65.668 435.639 L73.3068 435.639 L73.3068 439.574 L53.3995 439.574 L53.3995 435.639 Z\" fill=\"#000000\" fill-rule=\"evenodd\" fill-opacity=\"1\" /><path clip-path=\"url(#clip710)\" d=\"M82.7975 405.014 L101.154 405.014 L101.154 408.949 L87.0799 408.949 L87.0799 417.421 Q88.0984 417.074 89.1169 416.912 Q90.1354 416.727 91.1539 416.727 Q96.941 416.727 100.321 419.898 Q103.7 423.069 103.7 428.486 Q103.7 434.065 100.228 437.167 Q96.7558 440.245 90.4364 440.245 Q88.2604 440.245 85.9919 439.875 Q83.7466 439.505 81.3392 438.764 L81.3392 434.065 Q83.4225 435.199 85.6447 435.755 Q87.8669 436.31 90.3438 436.31 Q94.3484 436.31 96.6863 434.204 Q99.0243 432.097 99.0243 428.486 Q99.0243 424.875 96.6863 422.769 Q94.3484 420.662 90.3438 420.662 Q88.4688 420.662 86.5938 421.079 Q84.7419 421.495 82.7975 422.375 L82.7975 405.014 Z\" fill=\"#000000\" fill-rule=\"evenodd\" fill-opacity=\"1\" /><path clip-path=\"url(#clip710)\" d=\"M122.913 408.093 Q119.302 408.093 117.473 411.658 Q115.668 415.199 115.668 422.329 Q115.668 429.435 117.473 433 Q119.302 436.542 122.913 436.542 Q126.547 436.542 128.353 433 Q130.182 429.435 130.182 422.329 Q130.182 415.199 128.353 411.658 Q126.547 408.093 122.913 408.093 M122.913 404.389 Q128.723 404.389 131.779 408.995 Q134.857 413.579 134.857 422.329 Q134.857 431.056 131.779 435.662 Q128.723 440.245 122.913 440.245 Q117.103 440.245 114.024 435.662 Q110.969 431.056 110.969 422.329 Q110.969 413.579 114.024 408.995 Q117.103 404.389 122.913 404.389 Z\" fill=\"#000000\" fill-rule=\"evenodd\" fill-opacity=\"1\" /><path clip-path=\"url(#clip710)\" d=\"M56.6171 94.4983 L72.9365 94.4983 L72.9365 98.4335 L50.9921 98.4335 L50.9921 94.4983 Q53.6541 91.7437 58.2375 87.1141 Q62.8439 82.4613 64.0245 81.1187 Q66.2698 78.5956 67.1494 76.8595 Q68.0522 75.1003 68.0522 73.4105 Q68.0522 70.6558 66.1078 68.9197 Q64.1865 67.1836 61.0847 67.1836 Q58.8856 67.1836 56.4319 67.9475 Q54.0014 68.7114 51.2236 70.2623 L51.2236 65.5401 Q54.0477 64.4059 56.5014 63.8272 Q58.955 63.2485 60.9921 63.2485 Q66.3624 63.2485 69.5568 65.9336 Q72.7513 68.6188 72.7513 73.1095 Q72.7513 75.2391 71.9411 77.1604 Q71.1541 79.0586 69.0476 81.6511 Q68.4689 82.3224 65.367 85.54 Q62.2652 88.7344 56.6171 94.4983 Z\" fill=\"#000000\" fill-rule=\"evenodd\" fill-opacity=\"1\" /><path clip-path=\"url(#clip710)\" d=\"M92.7512 66.9522 Q89.1401 66.9522 87.3114 70.5169 Q85.5058 74.0586 85.5058 81.1882 Q85.5058 88.2946 87.3114 91.8594 Q89.1401 95.4011 92.7512 95.4011 Q96.3854 95.4011 98.1909 91.8594 Q100.02 88.2946 100.02 81.1882 Q100.02 74.0586 98.1909 70.5169 Q96.3854 66.9522 92.7512 66.9522 M92.7512 63.2485 Q98.5613 63.2485 101.617 67.8549 Q104.696 72.4382 104.696 81.1882 Q104.696 89.915 101.617 94.5214 Q98.5613 99.1048 92.7512 99.1048 Q86.941 99.1048 83.8623 94.5214 Q80.8068 89.915 80.8068 81.1882 Q80.8068 72.4382 83.8623 67.8549 Q86.941 63.2485 92.7512 63.2485 Z\" fill=\"#000000\" fill-rule=\"evenodd\" fill-opacity=\"1\" /><path clip-path=\"url(#clip710)\" d=\"M122.913 66.9522 Q119.302 66.9522 117.473 70.5169 Q115.668 74.0586 115.668 81.1882 Q115.668 88.2946 117.473 91.8594 Q119.302 95.4011 122.913 95.4011 Q126.547 95.4011 128.353 91.8594 Q130.182 88.2946 130.182 81.1882 Q130.182 74.0586 128.353 70.5169 Q126.547 66.9522 122.913 66.9522 M122.913 63.2485 Q128.723 63.2485 131.779 67.8549 Q134.857 72.4382 134.857 81.1882 Q134.857 89.915 131.779 94.5214 Q128.723 99.1048 122.913 99.1048 Q117.103 99.1048 114.024 94.5214 Q110.969 89.915 110.969 81.1882 Q110.969 72.4382 114.024 67.8549 Q117.103 63.2485 122.913 63.2485 Z\" fill=\"#000000\" fill-rule=\"evenodd\" fill-opacity=\"1\" /><path clip-path=\"url(#clip712)\" d=\"\n",
       "M290.866 1438.89 L290.866 1445.72 L420.325 1445.72 L420.325 1438.89 L290.866 1438.89 L290.866 1438.89  Z\n",
       "  \" fill=\"#009af9\" fill-rule=\"evenodd\" fill-opacity=\"1\"/>\n",
       "<polyline clip-path=\"url(#clip712)\" style=\"stroke:#000000; stroke-linecap:butt; stroke-linejoin:round; stroke-width:4; stroke-opacity:1; fill:none\" points=\"\n",
       "  290.866,1438.89 290.866,1445.72 420.325,1445.72 420.325,1438.89 290.866,1438.89 \n",
       "  \"/>\n",
       "<path clip-path=\"url(#clip712)\" d=\"\n",
       "M420.325 1425.25 L420.325 1445.72 L549.783 1445.72 L549.783 1425.25 L420.325 1425.25 L420.325 1425.25  Z\n",
       "  \" fill=\"#009af9\" fill-rule=\"evenodd\" fill-opacity=\"1\"/>\n",
       "<polyline clip-path=\"url(#clip712)\" style=\"stroke:#000000; stroke-linecap:butt; stroke-linejoin:round; stroke-width:4; stroke-opacity:1; fill:none\" points=\"\n",
       "  420.325,1425.25 420.325,1445.72 549.783,1445.72 549.783,1425.25 420.325,1425.25 \n",
       "  \"/>\n",
       "<path clip-path=\"url(#clip712)\" d=\"\n",
       "M549.783 1425.25 L549.783 1445.72 L679.242 1445.72 L679.242 1425.25 L549.783 1425.25 L549.783 1425.25  Z\n",
       "  \" fill=\"#009af9\" fill-rule=\"evenodd\" fill-opacity=\"1\"/>\n",
       "<polyline clip-path=\"url(#clip712)\" style=\"stroke:#000000; stroke-linecap:butt; stroke-linejoin:round; stroke-width:4; stroke-opacity:1; fill:none\" points=\"\n",
       "  549.783,1425.25 549.783,1445.72 679.242,1445.72 679.242,1425.25 549.783,1425.25 \n",
       "  \"/>\n",
       "<path clip-path=\"url(#clip712)\" d=\"\n",
       "M679.242 1343.37 L679.242 1445.72 L808.701 1445.72 L808.701 1343.37 L679.242 1343.37 L679.242 1343.37  Z\n",
       "  \" fill=\"#009af9\" fill-rule=\"evenodd\" fill-opacity=\"1\"/>\n",
       "<polyline clip-path=\"url(#clip712)\" style=\"stroke:#000000; stroke-linecap:butt; stroke-linejoin:round; stroke-width:4; stroke-opacity:1; fill:none\" points=\"\n",
       "  679.242,1343.37 679.242,1445.72 808.701,1445.72 808.701,1343.37 679.242,1343.37 \n",
       "  \"/>\n",
       "<path clip-path=\"url(#clip712)\" d=\"\n",
       "M808.701 1084.11 L808.701 1445.72 L938.16 1445.72 L938.16 1084.11 L808.701 1084.11 L808.701 1084.11  Z\n",
       "  \" fill=\"#009af9\" fill-rule=\"evenodd\" fill-opacity=\"1\"/>\n",
       "<polyline clip-path=\"url(#clip712)\" style=\"stroke:#000000; stroke-linecap:butt; stroke-linejoin:round; stroke-width:4; stroke-opacity:1; fill:none\" points=\"\n",
       "  808.701,1084.11 808.701,1445.72 938.16,1445.72 938.16,1084.11 808.701,1084.11 \n",
       "  \"/>\n",
       "<path clip-path=\"url(#clip712)\" d=\"\n",
       "M938.16 899.891 L938.16 1445.72 L1067.62 1445.72 L1067.62 899.891 L938.16 899.891 L938.16 899.891  Z\n",
       "  \" fill=\"#009af9\" fill-rule=\"evenodd\" fill-opacity=\"1\"/>\n",
       "<polyline clip-path=\"url(#clip712)\" style=\"stroke:#000000; stroke-linecap:butt; stroke-linejoin:round; stroke-width:4; stroke-opacity:1; fill:none\" points=\"\n",
       "  938.16,899.891 938.16,1445.72 1067.62,1445.72 1067.62,899.891 938.16,899.891 \n",
       "  \"/>\n",
       "<path clip-path=\"url(#clip712)\" d=\"\n",
       "M1067.62 442.762 L1067.62 1445.72 L1197.08 1445.72 L1197.08 442.762 L1067.62 442.762 L1067.62 442.762  Z\n",
       "  \" fill=\"#009af9\" fill-rule=\"evenodd\" fill-opacity=\"1\"/>\n",
       "<polyline clip-path=\"url(#clip712)\" style=\"stroke:#000000; stroke-linecap:butt; stroke-linejoin:round; stroke-width:4; stroke-opacity:1; fill:none\" points=\"\n",
       "  1067.62,442.762 1067.62,1445.72 1197.08,1445.72 1197.08,442.762 1067.62,442.762 \n",
       "  \"/>\n",
       "<path clip-path=\"url(#clip712)\" d=\"\n",
       "M1197.08 149.382 L1197.08 1445.72 L1326.54 1445.72 L1326.54 149.382 L1197.08 149.382 L1197.08 149.382  Z\n",
       "  \" fill=\"#009af9\" fill-rule=\"evenodd\" fill-opacity=\"1\"/>\n",
       "<polyline clip-path=\"url(#clip712)\" style=\"stroke:#000000; stroke-linecap:butt; stroke-linejoin:round; stroke-width:4; stroke-opacity:1; fill:none\" points=\"\n",
       "  1197.08,149.382 1197.08,1445.72 1326.54,1445.72 1326.54,149.382 1197.08,149.382 \n",
       "  \"/>\n",
       "<path clip-path=\"url(#clip712)\" d=\"\n",
       "M1326.54 87.9763 L1326.54 1445.72 L1455.99 1445.72 L1455.99 87.9763 L1326.54 87.9763 L1326.54 87.9763  Z\n",
       "  \" fill=\"#009af9\" fill-rule=\"evenodd\" fill-opacity=\"1\"/>\n",
       "<polyline clip-path=\"url(#clip712)\" style=\"stroke:#000000; stroke-linecap:butt; stroke-linejoin:round; stroke-width:4; stroke-opacity:1; fill:none\" points=\"\n",
       "  1326.54,87.9763 1326.54,1445.72 1455.99,1445.72 1455.99,87.9763 1326.54,87.9763 \n",
       "  \"/>\n",
       "<path clip-path=\"url(#clip712)\" d=\"\n",
       "M1455.99 442.762 L1455.99 1445.72 L1585.45 1445.72 L1585.45 442.762 L1455.99 442.762 L1455.99 442.762  Z\n",
       "  \" fill=\"#009af9\" fill-rule=\"evenodd\" fill-opacity=\"1\"/>\n",
       "<polyline clip-path=\"url(#clip712)\" style=\"stroke:#000000; stroke-linecap:butt; stroke-linejoin:round; stroke-width:4; stroke-opacity:1; fill:none\" points=\"\n",
       "  1455.99,442.762 1455.99,1445.72 1585.45,1445.72 1585.45,442.762 1455.99,442.762 \n",
       "  \"/>\n",
       "<path clip-path=\"url(#clip712)\" d=\"\n",
       "M1585.45 783.903 L1585.45 1445.72 L1714.91 1445.72 L1714.91 783.903 L1585.45 783.903 L1585.45 783.903  Z\n",
       "  \" fill=\"#009af9\" fill-rule=\"evenodd\" fill-opacity=\"1\"/>\n",
       "<polyline clip-path=\"url(#clip712)\" style=\"stroke:#000000; stroke-linecap:butt; stroke-linejoin:round; stroke-width:4; stroke-opacity:1; fill:none\" points=\"\n",
       "  1585.45,783.903 1585.45,1445.72 1714.91,1445.72 1714.91,783.903 1585.45,783.903 \n",
       "  \"/>\n",
       "<path clip-path=\"url(#clip712)\" d=\"\n",
       "M1714.91 1159.16 L1714.91 1445.72 L1844.37 1445.72 L1844.37 1159.16 L1714.91 1159.16 L1714.91 1159.16  Z\n",
       "  \" fill=\"#009af9\" fill-rule=\"evenodd\" fill-opacity=\"1\"/>\n",
       "<polyline clip-path=\"url(#clip712)\" style=\"stroke:#000000; stroke-linecap:butt; stroke-linejoin:round; stroke-width:4; stroke-opacity:1; fill:none\" points=\"\n",
       "  1714.91,1159.16 1714.91,1445.72 1844.37,1445.72 1844.37,1159.16 1714.91,1159.16 \n",
       "  \"/>\n",
       "<path clip-path=\"url(#clip712)\" d=\"\n",
       "M1844.37 1329.73 L1844.37 1445.72 L1973.83 1445.72 L1973.83 1329.73 L1844.37 1329.73 L1844.37 1329.73  Z\n",
       "  \" fill=\"#009af9\" fill-rule=\"evenodd\" fill-opacity=\"1\"/>\n",
       "<polyline clip-path=\"url(#clip712)\" style=\"stroke:#000000; stroke-linecap:butt; stroke-linejoin:round; stroke-width:4; stroke-opacity:1; fill:none\" points=\"\n",
       "  1844.37,1329.73 1844.37,1445.72 1973.83,1445.72 1973.83,1329.73 1844.37,1329.73 \n",
       "  \"/>\n",
       "<path clip-path=\"url(#clip712)\" d=\"\n",
       "M1973.83 1418.42 L1973.83 1445.72 L2103.29 1445.72 L2103.29 1418.42 L1973.83 1418.42 L1973.83 1418.42  Z\n",
       "  \" fill=\"#009af9\" fill-rule=\"evenodd\" fill-opacity=\"1\"/>\n",
       "<polyline clip-path=\"url(#clip712)\" style=\"stroke:#000000; stroke-linecap:butt; stroke-linejoin:round; stroke-width:4; stroke-opacity:1; fill:none\" points=\"\n",
       "  1973.83,1418.42 1973.83,1445.72 2103.29,1445.72 2103.29,1418.42 1973.83,1418.42 \n",
       "  \"/>\n",
       "<path clip-path=\"url(#clip712)\" d=\"\n",
       "M2103.29 1432.07 L2103.29 1445.72 L2232.75 1445.72 L2232.75 1432.07 L2103.29 1432.07 L2103.29 1432.07  Z\n",
       "  \" fill=\"#009af9\" fill-rule=\"evenodd\" fill-opacity=\"1\"/>\n",
       "<polyline clip-path=\"url(#clip712)\" style=\"stroke:#000000; stroke-linecap:butt; stroke-linejoin:round; stroke-width:4; stroke-opacity:1; fill:none\" points=\"\n",
       "  2103.29,1432.07 2103.29,1445.72 2232.75,1445.72 2232.75,1432.07 2103.29,1432.07 \n",
       "  \"/>\n",
       "<path clip-path=\"url(#clip710)\" d=\"\n",
       "M1985.16 216.178 L2280.03 216.178 L2280.03 95.2176 L1985.16 95.2176  Z\n",
       "  \" fill=\"#ffffff\" fill-rule=\"evenodd\" fill-opacity=\"1\"/>\n",
       "<polyline clip-path=\"url(#clip710)\" style=\"stroke:#000000; stroke-linecap:butt; stroke-linejoin:round; stroke-width:4; stroke-opacity:1; fill:none\" points=\"\n",
       "  1985.16,216.178 2280.03,216.178 2280.03,95.2176 1985.16,95.2176 1985.16,216.178 \n",
       "  \"/>\n",
       "<path clip-path=\"url(#clip710)\" d=\"\n",
       "M2009.41 179.89 L2154.87 179.89 L2154.87 131.506 L2009.41 131.506 L2009.41 179.89  Z\n",
       "  \" fill=\"#009af9\" fill-rule=\"evenodd\" fill-opacity=\"1\"/>\n",
       "<polyline clip-path=\"url(#clip710)\" style=\"stroke:#000000; stroke-linecap:butt; stroke-linejoin:round; stroke-width:4; stroke-opacity:1; fill:none\" points=\"\n",
       "  2009.41,179.89 2154.87,179.89 2154.87,131.506 2009.41,131.506 2009.41,179.89 \n",
       "  \"/>\n",
       "<path clip-path=\"url(#clip710)\" d=\"M2192.95 175.385 Q2191.15 180.015 2189.43 181.427 Q2187.72 182.839 2184.85 182.839 L2181.45 182.839 L2181.45 179.274 L2183.95 179.274 Q2185.71 179.274 2186.68 178.44 Q2187.65 177.607 2188.83 174.505 L2189.6 172.561 L2179.11 147.052 L2183.62 147.052 L2191.72 167.329 L2199.83 147.052 L2204.34 147.052 L2192.95 175.385 Z\" fill=\"#000000\" fill-rule=\"evenodd\" fill-opacity=\"1\" /><path clip-path=\"url(#clip710)\" d=\"M2211.63 169.042 L2219.27 169.042 L2219.27 142.677 L2210.96 144.343 L2210.96 140.084 L2219.22 138.418 L2223.9 138.418 L2223.9 169.042 L2231.54 169.042 L2231.54 172.978 L2211.63 172.978 L2211.63 169.042 Z\" fill=\"#000000\" fill-rule=\"evenodd\" fill-opacity=\"1\" /></svg>\n"
      ]
     },
     "execution_count": 35,
     "metadata": {},
     "output_type": "execute_result"
    }
   ],
   "source": [
    "using Plots\n",
    "histogram(randn(1000))"
   ]
  },
  {
   "cell_type": "code",
   "execution_count": 36,
   "metadata": {},
   "outputs": [
    {
     "name": "stderr",
     "output_type": "stream",
     "text": [
      "WARNING: using GR.histogram in module Main conflicts with an existing identifier.\n"
     ]
    },
    {
     "data": {
      "image/svg+xml": [
       "<?xml version=\"1.0\" encoding=\"utf-8\"?>\n",
       "<svg xmlns=\"http://www.w3.org/2000/svg\" xmlns:xlink=\"http://www.w3.org/1999/xlink\" width=\"600\" height=\"400\" viewBox=\"0 0 2400 1600\">\n",
       "<defs>\n",
       "  <clipPath id=\"clip750\">\n",
       "    <rect x=\"0\" y=\"0\" width=\"2400\" height=\"1600\"/>\n",
       "  </clipPath>\n",
       "</defs>\n",
       "<path clip-path=\"url(#clip750)\" d=\"\n",
       "M0 1600 L2400 1600 L2400 0 L0 0  Z\n",
       "  \" fill=\"#ffffff\" fill-rule=\"evenodd\" fill-opacity=\"1\"/>\n",
       "<defs>\n",
       "  <clipPath id=\"clip751\">\n",
       "    <rect x=\"480\" y=\"0\" width=\"1681\" height=\"1600\"/>\n",
       "  </clipPath>\n",
       "</defs>\n",
       "<path clip-path=\"url(#clip750)\" d=\"\n",
       "M306.435 1486.45 L2352.76 1486.45 L2352.76 47.2441 L306.435 47.2441  Z\n",
       "  \" fill=\"#ffffff\" fill-rule=\"evenodd\" fill-opacity=\"1\"/>\n",
       "<defs>\n",
       "  <clipPath id=\"clip752\">\n",
       "    <rect x=\"306\" y=\"47\" width=\"2047\" height=\"1440\"/>\n",
       "  </clipPath>\n",
       "</defs>\n",
       "<polyline clip-path=\"url(#clip752)\" style=\"stroke:#000000; stroke-linecap:butt; stroke-linejoin:round; stroke-width:2; stroke-opacity:0.1; fill:none\" points=\"\n",
       "  418.987,1486.45 418.987,47.2441 \n",
       "  \"/>\n",
       "<polyline clip-path=\"url(#clip752)\" style=\"stroke:#000000; stroke-linecap:butt; stroke-linejoin:round; stroke-width:2; stroke-opacity:0.1; fill:none\" points=\"\n",
       "  753.155,1486.45 753.155,47.2441 \n",
       "  \"/>\n",
       "<polyline clip-path=\"url(#clip752)\" style=\"stroke:#000000; stroke-linecap:butt; stroke-linejoin:round; stroke-width:2; stroke-opacity:0.1; fill:none\" points=\"\n",
       "  1087.32,1486.45 1087.32,47.2441 \n",
       "  \"/>\n",
       "<polyline clip-path=\"url(#clip752)\" style=\"stroke:#000000; stroke-linecap:butt; stroke-linejoin:round; stroke-width:2; stroke-opacity:0.1; fill:none\" points=\"\n",
       "  1421.49,1486.45 1421.49,47.2441 \n",
       "  \"/>\n",
       "<polyline clip-path=\"url(#clip752)\" style=\"stroke:#000000; stroke-linecap:butt; stroke-linejoin:round; stroke-width:2; stroke-opacity:0.1; fill:none\" points=\"\n",
       "  1755.66,1486.45 1755.66,47.2441 \n",
       "  \"/>\n",
       "<polyline clip-path=\"url(#clip752)\" style=\"stroke:#000000; stroke-linecap:butt; stroke-linejoin:round; stroke-width:2; stroke-opacity:0.1; fill:none\" points=\"\n",
       "  2089.83,1486.45 2089.83,47.2441 \n",
       "  \"/>\n",
       "<polyline clip-path=\"url(#clip750)\" style=\"stroke:#000000; stroke-linecap:butt; stroke-linejoin:round; stroke-width:4; stroke-opacity:1; fill:none\" points=\"\n",
       "  306.435,1486.45 2352.76,1486.45 \n",
       "  \"/>\n",
       "<polyline clip-path=\"url(#clip750)\" style=\"stroke:#000000; stroke-linecap:butt; stroke-linejoin:round; stroke-width:4; stroke-opacity:1; fill:none\" points=\"\n",
       "  418.987,1486.45 418.987,1469.18 \n",
       "  \"/>\n",
       "<polyline clip-path=\"url(#clip750)\" style=\"stroke:#000000; stroke-linecap:butt; stroke-linejoin:round; stroke-width:4; stroke-opacity:1; fill:none\" points=\"\n",
       "  753.155,1486.45 753.155,1469.18 \n",
       "  \"/>\n",
       "<polyline clip-path=\"url(#clip750)\" style=\"stroke:#000000; stroke-linecap:butt; stroke-linejoin:round; stroke-width:4; stroke-opacity:1; fill:none\" points=\"\n",
       "  1087.32,1486.45 1087.32,1469.18 \n",
       "  \"/>\n",
       "<polyline clip-path=\"url(#clip750)\" style=\"stroke:#000000; stroke-linecap:butt; stroke-linejoin:round; stroke-width:4; stroke-opacity:1; fill:none\" points=\"\n",
       "  1421.49,1486.45 1421.49,1469.18 \n",
       "  \"/>\n",
       "<polyline clip-path=\"url(#clip750)\" style=\"stroke:#000000; stroke-linecap:butt; stroke-linejoin:round; stroke-width:4; stroke-opacity:1; fill:none\" points=\"\n",
       "  1755.66,1486.45 1755.66,1469.18 \n",
       "  \"/>\n",
       "<polyline clip-path=\"url(#clip750)\" style=\"stroke:#000000; stroke-linecap:butt; stroke-linejoin:round; stroke-width:4; stroke-opacity:1; fill:none\" points=\"\n",
       "  2089.83,1486.45 2089.83,1469.18 \n",
       "  \"/>\n",
       "<path clip-path=\"url(#clip750)\" d=\"M396.371 1515.64 Q392.76 1515.64 390.931 1519.2 Q389.126 1522.75 389.126 1529.87 Q389.126 1536.98 390.931 1540.55 Q392.76 1544.09 396.371 1544.09 Q400.005 1544.09 401.811 1540.55 Q403.64 1536.98 403.64 1529.87 Q403.64 1522.75 401.811 1519.2 Q400.005 1515.64 396.371 1515.64 M396.371 1511.93 Q402.181 1511.93 405.237 1516.54 Q408.315 1521.12 408.315 1529.87 Q408.315 1538.6 405.237 1543.21 Q402.181 1547.79 396.371 1547.79 Q390.561 1547.79 387.482 1543.21 Q384.427 1538.6 384.427 1529.87 Q384.427 1521.12 387.482 1516.54 Q390.561 1511.93 396.371 1511.93 Z\" fill=\"#000000\" fill-rule=\"evenodd\" fill-opacity=\"1\" /><path clip-path=\"url(#clip750)\" d=\"M416.533 1541.24 L421.417 1541.24 L421.417 1547.12 L416.533 1547.12 L416.533 1541.24 Z\" fill=\"#000000\" fill-rule=\"evenodd\" fill-opacity=\"1\" /><path clip-path=\"url(#clip750)\" d=\"M441.602 1515.64 Q437.991 1515.64 436.162 1519.2 Q434.357 1522.75 434.357 1529.87 Q434.357 1536.98 436.162 1540.55 Q437.991 1544.09 441.602 1544.09 Q445.237 1544.09 447.042 1540.55 Q448.871 1536.98 448.871 1529.87 Q448.871 1522.75 447.042 1519.2 Q445.237 1515.64 441.602 1515.64 M441.602 1511.93 Q447.412 1511.93 450.468 1516.54 Q453.547 1521.12 453.547 1529.87 Q453.547 1538.6 450.468 1543.21 Q447.412 1547.79 441.602 1547.79 Q435.792 1547.79 432.713 1543.21 Q429.658 1538.6 429.658 1529.87 Q429.658 1521.12 432.713 1516.54 Q435.792 1511.93 441.602 1511.93 Z\" fill=\"#000000\" fill-rule=\"evenodd\" fill-opacity=\"1\" /><path clip-path=\"url(#clip750)\" d=\"M731.153 1515.64 Q727.542 1515.64 725.713 1519.2 Q723.908 1522.75 723.908 1529.87 Q723.908 1536.98 725.713 1540.55 Q727.542 1544.09 731.153 1544.09 Q734.787 1544.09 736.593 1540.55 Q738.421 1536.98 738.421 1529.87 Q738.421 1522.75 736.593 1519.2 Q734.787 1515.64 731.153 1515.64 M731.153 1511.93 Q736.963 1511.93 740.019 1516.54 Q743.097 1521.12 743.097 1529.87 Q743.097 1538.6 740.019 1543.21 Q736.963 1547.79 731.153 1547.79 Q725.343 1547.79 722.264 1543.21 Q719.209 1538.6 719.209 1529.87 Q719.209 1521.12 722.264 1516.54 Q725.343 1511.93 731.153 1511.93 Z\" fill=\"#000000\" fill-rule=\"evenodd\" fill-opacity=\"1\" /><path clip-path=\"url(#clip750)\" d=\"M751.315 1541.24 L756.199 1541.24 L756.199 1547.12 L751.315 1547.12 L751.315 1541.24 Z\" fill=\"#000000\" fill-rule=\"evenodd\" fill-opacity=\"1\" /><path clip-path=\"url(#clip750)\" d=\"M767.194 1543.18 L774.833 1543.18 L774.833 1516.82 L766.523 1518.49 L766.523 1514.23 L774.787 1512.56 L779.463 1512.56 L779.463 1543.18 L787.102 1543.18 L787.102 1547.12 L767.194 1547.12 L767.194 1543.18 Z\" fill=\"#000000\" fill-rule=\"evenodd\" fill-opacity=\"1\" /><path clip-path=\"url(#clip750)\" d=\"M1065.51 1515.64 Q1061.9 1515.64 1060.07 1519.2 Q1058.26 1522.75 1058.26 1529.87 Q1058.26 1536.98 1060.07 1540.55 Q1061.9 1544.09 1065.51 1544.09 Q1069.14 1544.09 1070.95 1540.55 Q1072.78 1536.98 1072.78 1529.87 Q1072.78 1522.75 1070.95 1519.2 Q1069.14 1515.64 1065.51 1515.64 M1065.51 1511.93 Q1071.32 1511.93 1074.37 1516.54 Q1077.45 1521.12 1077.45 1529.87 Q1077.45 1538.6 1074.37 1543.21 Q1071.32 1547.79 1065.51 1547.79 Q1059.7 1547.79 1056.62 1543.21 Q1053.56 1538.6 1053.56 1529.87 Q1053.56 1521.12 1056.62 1516.54 Q1059.7 1511.93 1065.51 1511.93 Z\" fill=\"#000000\" fill-rule=\"evenodd\" fill-opacity=\"1\" /><path clip-path=\"url(#clip750)\" d=\"M1085.67 1541.24 L1090.55 1541.24 L1090.55 1547.12 L1085.67 1547.12 L1085.67 1541.24 Z\" fill=\"#000000\" fill-rule=\"evenodd\" fill-opacity=\"1\" /><path clip-path=\"url(#clip750)\" d=\"M1104.77 1543.18 L1121.08 1543.18 L1121.08 1547.12 L1099.14 1547.12 L1099.14 1543.18 Q1101.8 1540.43 1106.39 1535.8 Q1110.99 1531.15 1112.17 1529.81 Q1114.42 1527.28 1115.3 1525.55 Q1116.2 1523.79 1116.2 1522.1 Q1116.2 1519.34 1114.26 1517.61 Q1112.33 1515.87 1109.23 1515.87 Q1107.03 1515.87 1104.58 1516.63 Q1102.15 1517.4 1099.37 1518.95 L1099.37 1514.23 Q1102.2 1513.09 1104.65 1512.51 Q1107.1 1511.93 1109.14 1511.93 Q1114.51 1511.93 1117.71 1514.62 Q1120.9 1517.31 1120.9 1521.8 Q1120.9 1523.93 1120.09 1525.85 Q1119.3 1527.74 1117.2 1530.34 Q1116.62 1531.01 1113.52 1534.23 Q1110.41 1537.42 1104.77 1543.18 Z\" fill=\"#000000\" fill-rule=\"evenodd\" fill-opacity=\"1\" /><path clip-path=\"url(#clip750)\" d=\"M1399.2 1515.64 Q1395.59 1515.64 1393.76 1519.2 Q1391.96 1522.75 1391.96 1529.87 Q1391.96 1536.98 1393.76 1540.55 Q1395.59 1544.09 1399.2 1544.09 Q1402.83 1544.09 1404.64 1540.55 Q1406.47 1536.98 1406.47 1529.87 Q1406.47 1522.75 1404.64 1519.2 Q1402.83 1515.64 1399.2 1515.64 M1399.2 1511.93 Q1405.01 1511.93 1408.07 1516.54 Q1411.14 1521.12 1411.14 1529.87 Q1411.14 1538.6 1408.07 1543.21 Q1405.01 1547.79 1399.2 1547.79 Q1393.39 1547.79 1390.31 1543.21 Q1387.26 1538.6 1387.26 1529.87 Q1387.26 1521.12 1390.31 1516.54 Q1393.39 1511.93 1399.2 1511.93 Z\" fill=\"#000000\" fill-rule=\"evenodd\" fill-opacity=\"1\" /><path clip-path=\"url(#clip750)\" d=\"M1419.36 1541.24 L1424.25 1541.24 L1424.25 1547.12 L1419.36 1547.12 L1419.36 1541.24 Z\" fill=\"#000000\" fill-rule=\"evenodd\" fill-opacity=\"1\" /><path clip-path=\"url(#clip750)\" d=\"M1448.6 1528.49 Q1451.95 1529.2 1453.83 1531.47 Q1455.73 1533.74 1455.73 1537.07 Q1455.73 1542.19 1452.21 1544.99 Q1448.69 1547.79 1442.21 1547.79 Q1440.03 1547.79 1437.72 1547.35 Q1435.43 1546.93 1432.97 1546.08 L1432.97 1541.56 Q1434.92 1542.7 1437.23 1543.28 Q1439.55 1543.86 1442.07 1543.86 Q1446.47 1543.86 1448.76 1542.12 Q1451.08 1540.38 1451.08 1537.07 Q1451.08 1534.02 1448.92 1532.31 Q1446.79 1530.57 1442.97 1530.57 L1438.95 1530.57 L1438.95 1526.73 L1443.16 1526.73 Q1446.61 1526.73 1448.44 1525.36 Q1450.26 1523.97 1450.26 1521.38 Q1450.26 1518.72 1448.37 1517.31 Q1446.49 1515.87 1442.97 1515.87 Q1441.05 1515.87 1438.85 1516.29 Q1436.65 1516.7 1434.02 1517.58 L1434.02 1513.42 Q1436.68 1512.68 1438.99 1512.31 Q1441.33 1511.93 1443.39 1511.93 Q1448.71 1511.93 1451.82 1514.37 Q1454.92 1516.77 1454.92 1520.89 Q1454.92 1523.76 1453.27 1525.75 Q1451.63 1527.72 1448.6 1528.49 Z\" fill=\"#000000\" fill-rule=\"evenodd\" fill-opacity=\"1\" /><path clip-path=\"url(#clip750)\" d=\"M1732.8 1515.64 Q1729.19 1515.64 1727.36 1519.2 Q1725.56 1522.75 1725.56 1529.87 Q1725.56 1536.98 1727.36 1540.55 Q1729.19 1544.09 1732.8 1544.09 Q1736.44 1544.09 1738.24 1540.55 Q1740.07 1536.98 1740.07 1529.87 Q1740.07 1522.75 1738.24 1519.2 Q1736.44 1515.64 1732.8 1515.64 M1732.8 1511.93 Q1738.61 1511.93 1741.67 1516.54 Q1744.75 1521.12 1744.75 1529.87 Q1744.75 1538.6 1741.67 1543.21 Q1738.61 1547.79 1732.8 1547.79 Q1726.99 1547.79 1723.91 1543.21 Q1720.86 1538.6 1720.86 1529.87 Q1720.86 1521.12 1723.91 1516.54 Q1726.99 1511.93 1732.8 1511.93 Z\" fill=\"#000000\" fill-rule=\"evenodd\" fill-opacity=\"1\" /><path clip-path=\"url(#clip750)\" d=\"M1752.96 1541.24 L1757.85 1541.24 L1757.85 1547.12 L1752.96 1547.12 L1752.96 1541.24 Z\" fill=\"#000000\" fill-rule=\"evenodd\" fill-opacity=\"1\" /><path clip-path=\"url(#clip750)\" d=\"M1780.88 1516.63 L1769.07 1535.08 L1780.88 1535.08 L1780.88 1516.63 M1779.65 1512.56 L1785.53 1512.56 L1785.53 1535.08 L1790.46 1535.08 L1790.46 1538.97 L1785.53 1538.97 L1785.53 1547.12 L1780.88 1547.12 L1780.88 1538.97 L1765.28 1538.97 L1765.28 1534.46 L1779.65 1512.56 Z\" fill=\"#000000\" fill-rule=\"evenodd\" fill-opacity=\"1\" /><path clip-path=\"url(#clip750)\" d=\"M2067.71 1515.64 Q2064.1 1515.64 2062.27 1519.2 Q2060.47 1522.75 2060.47 1529.87 Q2060.47 1536.98 2062.27 1540.55 Q2064.1 1544.09 2067.71 1544.09 Q2071.35 1544.09 2073.15 1540.55 Q2074.98 1536.98 2074.98 1529.87 Q2074.98 1522.75 2073.15 1519.2 Q2071.35 1515.64 2067.71 1515.64 M2067.71 1511.93 Q2073.52 1511.93 2076.58 1516.54 Q2079.66 1521.12 2079.66 1529.87 Q2079.66 1538.6 2076.58 1543.21 Q2073.52 1547.79 2067.71 1547.79 Q2061.9 1547.79 2058.82 1543.21 Q2055.77 1538.6 2055.77 1529.87 Q2055.77 1521.12 2058.82 1516.54 Q2061.9 1511.93 2067.71 1511.93 Z\" fill=\"#000000\" fill-rule=\"evenodd\" fill-opacity=\"1\" /><path clip-path=\"url(#clip750)\" d=\"M2087.87 1541.24 L2092.76 1541.24 L2092.76 1547.12 L2087.87 1547.12 L2087.87 1541.24 Z\" fill=\"#000000\" fill-rule=\"evenodd\" fill-opacity=\"1\" /><path clip-path=\"url(#clip750)\" d=\"M2102.99 1512.56 L2121.34 1512.56 L2121.34 1516.5 L2107.27 1516.5 L2107.27 1524.97 Q2108.29 1524.62 2109.31 1524.46 Q2110.33 1524.27 2111.34 1524.27 Q2117.13 1524.27 2120.51 1527.44 Q2123.89 1530.62 2123.89 1536.03 Q2123.89 1541.61 2120.42 1544.71 Q2116.95 1547.79 2110.63 1547.79 Q2108.45 1547.79 2106.18 1547.42 Q2103.94 1547.05 2101.53 1546.31 L2101.53 1541.61 Q2103.61 1542.74 2105.84 1543.3 Q2108.06 1543.86 2110.53 1543.86 Q2114.54 1543.86 2116.88 1541.75 Q2119.22 1539.64 2119.22 1536.03 Q2119.22 1532.42 2116.88 1530.31 Q2114.54 1528.21 2110.53 1528.21 Q2108.66 1528.21 2106.78 1528.62 Q2104.93 1529.04 2102.99 1529.92 L2102.99 1512.56 Z\" fill=\"#000000\" fill-rule=\"evenodd\" fill-opacity=\"1\" /><polyline clip-path=\"url(#clip752)\" style=\"stroke:#000000; stroke-linecap:butt; stroke-linejoin:round; stroke-width:2; stroke-opacity:0.1; fill:none\" points=\"\n",
       "  306.435,1445.72 2352.76,1445.72 \n",
       "  \"/>\n",
       "<polyline clip-path=\"url(#clip752)\" style=\"stroke:#000000; stroke-linecap:butt; stroke-linejoin:round; stroke-width:2; stroke-opacity:0.1; fill:none\" points=\"\n",
       "  306.435,1146.86 2352.76,1146.86 \n",
       "  \"/>\n",
       "<polyline clip-path=\"url(#clip752)\" style=\"stroke:#000000; stroke-linecap:butt; stroke-linejoin:round; stroke-width:2; stroke-opacity:0.1; fill:none\" points=\"\n",
       "  306.435,848.014 2352.76,848.014 \n",
       "  \"/>\n",
       "<polyline clip-path=\"url(#clip752)\" style=\"stroke:#000000; stroke-linecap:butt; stroke-linejoin:round; stroke-width:2; stroke-opacity:0.1; fill:none\" points=\"\n",
       "  306.435,549.163 2352.76,549.163 \n",
       "  \"/>\n",
       "<polyline clip-path=\"url(#clip752)\" style=\"stroke:#000000; stroke-linecap:butt; stroke-linejoin:round; stroke-width:2; stroke-opacity:0.1; fill:none\" points=\"\n",
       "  306.435,250.312 2352.76,250.312 \n",
       "  \"/>\n",
       "<polyline clip-path=\"url(#clip750)\" style=\"stroke:#000000; stroke-linecap:butt; stroke-linejoin:round; stroke-width:4; stroke-opacity:1; fill:none\" points=\"\n",
       "  306.435,1486.45 306.435,47.2441 \n",
       "  \"/>\n",
       "<polyline clip-path=\"url(#clip750)\" style=\"stroke:#000000; stroke-linecap:butt; stroke-linejoin:round; stroke-width:4; stroke-opacity:1; fill:none\" points=\"\n",
       "  306.435,1445.72 330.991,1445.72 \n",
       "  \"/>\n",
       "<polyline clip-path=\"url(#clip750)\" style=\"stroke:#000000; stroke-linecap:butt; stroke-linejoin:round; stroke-width:4; stroke-opacity:1; fill:none\" points=\"\n",
       "  306.435,1146.86 330.991,1146.86 \n",
       "  \"/>\n",
       "<polyline clip-path=\"url(#clip750)\" style=\"stroke:#000000; stroke-linecap:butt; stroke-linejoin:round; stroke-width:4; stroke-opacity:1; fill:none\" points=\"\n",
       "  306.435,848.014 330.991,848.014 \n",
       "  \"/>\n",
       "<polyline clip-path=\"url(#clip750)\" style=\"stroke:#000000; stroke-linecap:butt; stroke-linejoin:round; stroke-width:4; stroke-opacity:1; fill:none\" points=\"\n",
       "  306.435,549.163 330.991,549.163 \n",
       "  \"/>\n",
       "<polyline clip-path=\"url(#clip750)\" style=\"stroke:#000000; stroke-linecap:butt; stroke-linejoin:round; stroke-width:4; stroke-opacity:1; fill:none\" points=\"\n",
       "  306.435,250.312 330.991,250.312 \n",
       "  \"/>\n",
       "<path clip-path=\"url(#clip750)\" d=\"M258.491 1431.51 Q254.88 1431.51 253.051 1435.08 Q251.246 1438.62 251.246 1445.75 Q251.246 1452.86 253.051 1456.42 Q254.88 1459.96 258.491 1459.96 Q262.125 1459.96 263.931 1456.42 Q265.759 1452.86 265.759 1445.75 Q265.759 1438.62 263.931 1435.08 Q262.125 1431.51 258.491 1431.51 M258.491 1427.81 Q264.301 1427.81 267.357 1432.42 Q270.435 1437 270.435 1445.75 Q270.435 1454.48 267.357 1459.08 Q264.301 1463.67 258.491 1463.67 Q252.681 1463.67 249.602 1459.08 Q246.547 1454.48 246.547 1445.75 Q246.547 1437 249.602 1432.42 Q252.681 1427.81 258.491 1427.81 Z\" fill=\"#000000\" fill-rule=\"evenodd\" fill-opacity=\"1\" /><path clip-path=\"url(#clip750)\" d=\"M54.6105 1136.03 L72.9668 1136.03 L72.9668 1139.97 L58.8928 1139.97 L58.8928 1148.44 Q59.9113 1148.09 60.9299 1147.93 Q61.9484 1147.75 62.9669 1147.75 Q68.7539 1147.75 72.1335 1150.92 Q75.5131 1154.09 75.5131 1159.5 Q75.5131 1165.08 72.0409 1168.18 Q68.5687 1171.26 62.2493 1171.26 Q60.0734 1171.26 57.8049 1170.89 Q55.5595 1170.52 53.1521 1169.78 L53.1521 1165.08 Q55.2354 1166.22 57.4577 1166.77 Q59.6799 1167.33 62.1567 1167.33 Q66.1613 1167.33 68.4993 1165.22 Q70.8372 1163.12 70.8372 1159.5 Q70.8372 1155.89 68.4993 1153.79 Q66.1613 1151.68 62.1567 1151.68 Q60.2817 1151.68 58.4067 1152.1 Q56.5549 1152.51 54.6105 1153.39 L54.6105 1136.03 Z\" fill=\"#000000\" fill-rule=\"evenodd\" fill-opacity=\"1\" /><path clip-path=\"url(#clip750)\" d=\"M84.726 1164.71 L89.6103 1164.71 L89.6103 1170.59 L84.726 1170.59 L84.726 1164.71 Z\" fill=\"#000000\" fill-rule=\"evenodd\" fill-opacity=\"1\" /><path clip-path=\"url(#clip750)\" d=\"M109.795 1139.11 Q106.184 1139.11 104.356 1142.68 Q102.55 1146.22 102.55 1153.35 Q102.55 1160.45 104.356 1164.02 Q106.184 1167.56 109.795 1167.56 Q113.43 1167.56 115.235 1164.02 Q117.064 1160.45 117.064 1153.35 Q117.064 1146.22 115.235 1142.68 Q113.43 1139.11 109.795 1139.11 M109.795 1135.41 Q115.605 1135.41 118.661 1140.01 Q121.74 1144.6 121.74 1153.35 Q121.74 1162.07 118.661 1166.68 Q115.605 1171.26 109.795 1171.26 Q103.985 1171.26 100.906 1166.68 Q97.851 1162.07 97.851 1153.35 Q97.851 1144.6 100.906 1140.01 Q103.985 1135.41 109.795 1135.41 Z\" fill=\"#000000\" fill-rule=\"evenodd\" fill-opacity=\"1\" /><path clip-path=\"url(#clip750)\" d=\"M139.957 1139.11 Q136.346 1139.11 134.517 1142.68 Q132.712 1146.22 132.712 1153.35 Q132.712 1160.45 134.517 1164.02 Q136.346 1167.56 139.957 1167.56 Q143.591 1167.56 145.397 1164.02 Q147.226 1160.45 147.226 1153.35 Q147.226 1146.22 145.397 1142.68 Q143.591 1139.11 139.957 1139.11 M139.957 1135.41 Q145.767 1135.41 148.823 1140.01 Q151.902 1144.6 151.902 1153.35 Q151.902 1162.07 148.823 1166.68 Q145.767 1171.26 139.957 1171.26 Q134.147 1171.26 131.068 1166.68 Q128.013 1162.07 128.013 1153.35 Q128.013 1144.6 131.068 1140.01 Q134.147 1135.41 139.957 1135.41 Z\" fill=\"#000000\" fill-rule=\"evenodd\" fill-opacity=\"1\" /><path clip-path=\"url(#clip750)\" d=\"M188.29 1145.13 L177.712 1155.75 L188.29 1166.33 L185.536 1169.13 L174.911 1158.51 L164.286 1169.13 L161.554 1166.33 L172.11 1155.75 L161.554 1145.13 L164.286 1142.33 L174.911 1152.95 L185.536 1142.33 L188.29 1145.13 Z\" fill=\"#000000\" fill-rule=\"evenodd\" fill-opacity=\"1\" /><path clip-path=\"url(#clip750)\" d=\"M200.651 1166.66 L208.29 1166.66 L208.29 1140.29 L199.98 1141.96 L199.98 1137.7 L208.244 1136.03 L212.92 1136.03 L212.92 1166.66 L220.559 1166.66 L220.559 1170.59 L200.651 1170.59 L200.651 1166.66 Z\" fill=\"#000000\" fill-rule=\"evenodd\" fill-opacity=\"1\" /><path clip-path=\"url(#clip750)\" d=\"M240.003 1139.11 Q236.392 1139.11 234.563 1142.68 Q232.758 1146.22 232.758 1153.35 Q232.758 1160.45 234.563 1164.02 Q236.392 1167.56 240.003 1167.56 Q243.637 1167.56 245.443 1164.02 Q247.271 1160.45 247.271 1153.35 Q247.271 1146.22 245.443 1142.68 Q243.637 1139.11 240.003 1139.11 M240.003 1135.41 Q245.813 1135.41 248.869 1140.01 Q251.947 1144.6 251.947 1153.35 Q251.947 1162.07 248.869 1166.68 Q245.813 1171.26 240.003 1171.26 Q234.193 1171.26 231.114 1166.68 Q228.059 1162.07 228.059 1153.35 Q228.059 1144.6 231.114 1140.01 Q234.193 1135.41 240.003 1135.41 Z\" fill=\"#000000\" fill-rule=\"evenodd\" fill-opacity=\"1\" /><path clip-path=\"url(#clip750)\" d=\"M264.643 1128.04 Q267.37 1128.62 268.893 1130.47 Q270.435 1132.31 270.435 1135.02 Q270.435 1139.18 267.577 1141.45 Q264.718 1143.73 259.452 1143.73 Q257.684 1143.73 255.803 1143.37 Q253.941 1143.03 251.947 1142.34 L251.947 1138.67 Q253.527 1139.59 255.408 1140.06 Q257.289 1140.53 259.339 1140.53 Q262.912 1140.53 264.774 1139.12 Q266.655 1137.71 266.655 1135.02 Q266.655 1132.54 264.906 1131.15 Q263.176 1129.73 260.072 1129.73 L256.8 1129.73 L256.8 1126.61 L260.223 1126.61 Q263.025 1126.61 264.511 1125.5 Q265.997 1124.37 265.997 1122.27 Q265.997 1120.1 264.455 1118.96 Q262.931 1117.79 260.072 1117.79 Q258.511 1117.79 256.725 1118.13 Q254.938 1118.47 252.794 1119.18 L252.794 1115.8 Q254.957 1115.2 256.837 1114.9 Q258.737 1114.59 260.411 1114.59 Q264.737 1114.59 267.257 1116.57 Q269.777 1118.53 269.777 1121.87 Q269.777 1124.2 268.442 1125.82 Q267.106 1127.42 264.643 1128.04 Z\" fill=\"#000000\" fill-rule=\"evenodd\" fill-opacity=\"1\" /><path clip-path=\"url(#clip750)\" d=\"M53.3995 867.806 L61.0384 867.806 L61.0384 841.441 L52.7282 843.107 L52.7282 838.848 L60.9921 837.181 L65.668 837.181 L65.668 867.806 L73.3068 867.806 L73.3068 871.741 L53.3995 871.741 L53.3995 867.806 Z\" fill=\"#000000\" fill-rule=\"evenodd\" fill-opacity=\"1\" /><path clip-path=\"url(#clip750)\" d=\"M82.7512 865.862 L87.6354 865.862 L87.6354 871.741 L82.7512 871.741 L82.7512 865.862 Z\" fill=\"#000000\" fill-rule=\"evenodd\" fill-opacity=\"1\" /><path clip-path=\"url(#clip750)\" d=\"M107.821 840.26 Q104.209 840.26 102.381 843.825 Q100.575 847.367 100.575 854.496 Q100.575 861.603 102.381 865.167 Q104.209 868.709 107.821 868.709 Q111.455 868.709 113.26 865.167 Q115.089 861.603 115.089 854.496 Q115.089 847.367 113.26 843.825 Q111.455 840.26 107.821 840.26 M107.821 836.556 Q113.631 836.556 116.686 841.163 Q119.765 845.746 119.765 854.496 Q119.765 863.223 116.686 867.829 Q113.631 872.413 107.821 872.413 Q102.01 872.413 98.9317 867.829 Q95.8761 863.223 95.8761 854.496 Q95.8761 845.746 98.9317 841.163 Q102.01 836.556 107.821 836.556 Z\" fill=\"#000000\" fill-rule=\"evenodd\" fill-opacity=\"1\" /><path clip-path=\"url(#clip750)\" d=\"M137.982 840.26 Q134.371 840.26 132.543 843.825 Q130.737 847.367 130.737 854.496 Q130.737 861.603 132.543 865.167 Q134.371 868.709 137.982 868.709 Q141.617 868.709 143.422 865.167 Q145.251 861.603 145.251 854.496 Q145.251 847.367 143.422 843.825 Q141.617 840.26 137.982 840.26 M137.982 836.556 Q143.793 836.556 146.848 841.163 Q149.927 845.746 149.927 854.496 Q149.927 863.223 146.848 867.829 Q143.793 872.413 137.982 872.413 Q132.172 872.413 129.094 867.829 Q126.038 863.223 126.038 854.496 Q126.038 845.746 129.094 841.163 Q132.172 836.556 137.982 836.556 Z\" fill=\"#000000\" fill-rule=\"evenodd\" fill-opacity=\"1\" /><path clip-path=\"url(#clip750)\" d=\"M186.315 846.279 L175.737 856.904 L186.315 867.482 L183.561 870.283 L172.936 859.658 L162.311 870.283 L159.58 867.482 L170.135 856.904 L159.58 846.279 L162.311 843.478 L172.936 854.103 L183.561 843.478 L186.315 846.279 Z\" fill=\"#000000\" fill-rule=\"evenodd\" fill-opacity=\"1\" /><path clip-path=\"url(#clip750)\" d=\"M198.677 867.806 L206.315 867.806 L206.315 841.441 L198.005 843.107 L198.005 838.848 L206.269 837.181 L210.945 837.181 L210.945 867.806 L218.584 867.806 L218.584 871.741 L198.677 871.741 L198.677 867.806 Z\" fill=\"#000000\" fill-rule=\"evenodd\" fill-opacity=\"1\" /><path clip-path=\"url(#clip750)\" d=\"M238.028 840.26 Q234.417 840.26 232.588 843.825 Q230.783 847.367 230.783 854.496 Q230.783 861.603 232.588 865.167 Q234.417 868.709 238.028 868.709 Q241.662 868.709 243.468 865.167 Q245.297 861.603 245.297 854.496 Q245.297 847.367 243.468 843.825 Q241.662 840.26 238.028 840.26 M238.028 836.556 Q243.838 836.556 246.894 841.163 Q249.973 845.746 249.973 854.496 Q249.973 863.223 246.894 867.829 Q243.838 872.413 238.028 872.413 Q232.218 872.413 229.139 867.829 Q226.084 863.223 226.084 854.496 Q226.084 845.746 229.139 841.163 Q232.218 836.556 238.028 836.556 Z\" fill=\"#000000\" fill-rule=\"evenodd\" fill-opacity=\"1\" /><path clip-path=\"url(#clip750)\" d=\"M262.649 819.561 L253.057 834.551 L262.649 834.551 L262.649 819.561 M261.652 816.251 L266.429 816.251 L266.429 834.551 L270.435 834.551 L270.435 837.711 L266.429 837.711 L266.429 844.331 L262.649 844.331 L262.649 837.711 L249.973 837.711 L249.973 834.043 L261.652 816.251 Z\" fill=\"#000000\" fill-rule=\"evenodd\" fill-opacity=\"1\" /><path clip-path=\"url(#clip750)\" d=\"M53.3995 568.955 L61.0384 568.955 L61.0384 542.59 L52.7282 544.256 L52.7282 539.997 L60.9921 538.331 L65.668 538.331 L65.668 568.955 L73.3068 568.955 L73.3068 572.891 L53.3995 572.891 L53.3995 568.955 Z\" fill=\"#000000\" fill-rule=\"evenodd\" fill-opacity=\"1\" /><path clip-path=\"url(#clip750)\" d=\"M82.7512 567.011 L87.6354 567.011 L87.6354 572.891 L82.7512 572.891 L82.7512 567.011 Z\" fill=\"#000000\" fill-rule=\"evenodd\" fill-opacity=\"1\" /><path clip-path=\"url(#clip750)\" d=\"M97.8669 538.331 L116.223 538.331 L116.223 542.266 L102.149 542.266 L102.149 550.738 Q103.168 550.391 104.186 550.229 Q105.205 550.043 106.223 550.043 Q112.01 550.043 115.39 553.215 Q118.77 556.386 118.77 561.803 Q118.77 567.381 115.297 570.483 Q111.825 573.562 105.506 573.562 Q103.33 573.562 101.061 573.192 Q98.8159 572.821 96.4085 572.08 L96.4085 567.381 Q98.4919 568.516 100.714 569.071 Q102.936 569.627 105.413 569.627 Q109.418 569.627 111.756 567.52 Q114.094 565.414 114.094 561.803 Q114.094 558.192 111.756 556.085 Q109.418 553.979 105.413 553.979 Q103.538 553.979 101.663 554.395 Q99.8113 554.812 97.8669 555.692 L97.8669 538.331 Z\" fill=\"#000000\" fill-rule=\"evenodd\" fill-opacity=\"1\" /><path clip-path=\"url(#clip750)\" d=\"M137.982 541.409 Q134.371 541.409 132.543 544.974 Q130.737 548.516 130.737 555.645 Q130.737 562.752 132.543 566.317 Q134.371 569.858 137.982 569.858 Q141.617 569.858 143.422 566.317 Q145.251 562.752 145.251 555.645 Q145.251 548.516 143.422 544.974 Q141.617 541.409 137.982 541.409 M137.982 537.706 Q143.793 537.706 146.848 542.312 Q149.927 546.895 149.927 555.645 Q149.927 564.372 146.848 568.979 Q143.793 573.562 137.982 573.562 Q132.172 573.562 129.094 568.979 Q126.038 564.372 126.038 555.645 Q126.038 546.895 129.094 542.312 Q132.172 537.706 137.982 537.706 Z\" fill=\"#000000\" fill-rule=\"evenodd\" fill-opacity=\"1\" /><path clip-path=\"url(#clip750)\" d=\"M186.315 547.428 L175.737 558.053 L186.315 568.631 L183.561 571.432 L172.936 560.807 L162.311 571.432 L159.58 568.631 L170.135 558.053 L159.58 547.428 L162.311 544.627 L172.936 555.252 L183.561 544.627 L186.315 547.428 Z\" fill=\"#000000\" fill-rule=\"evenodd\" fill-opacity=\"1\" /><path clip-path=\"url(#clip750)\" d=\"M198.677 568.955 L206.315 568.955 L206.315 542.59 L198.005 544.256 L198.005 539.997 L206.269 538.331 L210.945 538.331 L210.945 568.955 L218.584 568.955 L218.584 572.891 L198.677 572.891 L198.677 568.955 Z\" fill=\"#000000\" fill-rule=\"evenodd\" fill-opacity=\"1\" /><path clip-path=\"url(#clip750)\" d=\"M238.028 541.409 Q234.417 541.409 232.588 544.974 Q230.783 548.516 230.783 555.645 Q230.783 562.752 232.588 566.317 Q234.417 569.858 238.028 569.858 Q241.662 569.858 243.468 566.317 Q245.297 562.752 245.297 555.645 Q245.297 548.516 243.468 544.974 Q241.662 541.409 238.028 541.409 M238.028 537.706 Q243.838 537.706 246.894 542.312 Q249.973 546.895 249.973 555.645 Q249.973 564.372 246.894 568.979 Q243.838 573.562 238.028 573.562 Q232.218 573.562 229.139 568.979 Q226.084 564.372 226.084 555.645 Q226.084 546.895 229.139 542.312 Q232.218 537.706 238.028 537.706 Z\" fill=\"#000000\" fill-rule=\"evenodd\" fill-opacity=\"1\" /><path clip-path=\"url(#clip750)\" d=\"M262.649 520.71 L253.057 535.7 L262.649 535.7 L262.649 520.71 M261.652 517.4 L266.429 517.4 L266.429 535.7 L270.435 535.7 L270.435 538.86 L266.429 538.86 L266.429 545.48 L262.649 545.48 L262.649 538.86 L249.973 538.86 L249.973 535.192 L261.652 517.4 Z\" fill=\"#000000\" fill-rule=\"evenodd\" fill-opacity=\"1\" /><path clip-path=\"url(#clip750)\" d=\"M56.6171 270.105 L72.9365 270.105 L72.9365 274.04 L50.9921 274.04 L50.9921 270.105 Q53.6541 267.35 58.2375 262.72 Q62.8439 258.068 64.0245 256.725 Q66.2698 254.202 67.1494 252.466 Q68.0522 250.706 68.0522 249.017 Q68.0522 246.262 66.1078 244.526 Q64.1865 242.79 61.0847 242.79 Q58.8856 242.79 56.4319 243.554 Q54.0014 244.318 51.2236 245.869 L51.2236 241.146 Q54.0477 240.012 56.5014 239.433 Q58.955 238.855 60.9921 238.855 Q66.3624 238.855 69.5568 241.54 Q72.7513 244.225 72.7513 248.716 Q72.7513 250.845 71.9411 252.767 Q71.1541 254.665 69.0476 257.257 Q68.4689 257.929 65.367 261.146 Q62.2652 264.341 56.6171 270.105 Z\" fill=\"#000000\" fill-rule=\"evenodd\" fill-opacity=\"1\" /><path clip-path=\"url(#clip750)\" d=\"M82.7512 268.16 L87.6354 268.16 L87.6354 274.04 L82.7512 274.04 L82.7512 268.16 Z\" fill=\"#000000\" fill-rule=\"evenodd\" fill-opacity=\"1\" /><path clip-path=\"url(#clip750)\" d=\"M107.821 242.558 Q104.209 242.558 102.381 246.123 Q100.575 249.665 100.575 256.794 Q100.575 263.901 102.381 267.466 Q104.209 271.007 107.821 271.007 Q111.455 271.007 113.26 267.466 Q115.089 263.901 115.089 256.794 Q115.089 249.665 113.26 246.123 Q111.455 242.558 107.821 242.558 M107.821 238.855 Q113.631 238.855 116.686 243.461 Q119.765 248.044 119.765 256.794 Q119.765 265.521 116.686 270.128 Q113.631 274.711 107.821 274.711 Q102.01 274.711 98.9317 270.128 Q95.8761 265.521 95.8761 256.794 Q95.8761 248.044 98.9317 243.461 Q102.01 238.855 107.821 238.855 Z\" fill=\"#000000\" fill-rule=\"evenodd\" fill-opacity=\"1\" /><path clip-path=\"url(#clip750)\" d=\"M137.982 242.558 Q134.371 242.558 132.543 246.123 Q130.737 249.665 130.737 256.794 Q130.737 263.901 132.543 267.466 Q134.371 271.007 137.982 271.007 Q141.617 271.007 143.422 267.466 Q145.251 263.901 145.251 256.794 Q145.251 249.665 143.422 246.123 Q141.617 242.558 137.982 242.558 M137.982 238.855 Q143.793 238.855 146.848 243.461 Q149.927 248.044 149.927 256.794 Q149.927 265.521 146.848 270.128 Q143.793 274.711 137.982 274.711 Q132.172 274.711 129.094 270.128 Q126.038 265.521 126.038 256.794 Q126.038 248.044 129.094 243.461 Q132.172 238.855 137.982 238.855 Z\" fill=\"#000000\" fill-rule=\"evenodd\" fill-opacity=\"1\" /><path clip-path=\"url(#clip750)\" d=\"M186.315 248.577 L175.737 259.202 L186.315 269.78 L183.561 272.581 L172.936 261.956 L162.311 272.581 L159.58 269.78 L170.135 259.202 L159.58 248.577 L162.311 245.776 L172.936 256.401 L183.561 245.776 L186.315 248.577 Z\" fill=\"#000000\" fill-rule=\"evenodd\" fill-opacity=\"1\" /><path clip-path=\"url(#clip750)\" d=\"M198.677 270.105 L206.315 270.105 L206.315 243.739 L198.005 245.406 L198.005 241.146 L206.269 239.48 L210.945 239.48 L210.945 270.105 L218.584 270.105 L218.584 274.04 L198.677 274.04 L198.677 270.105 Z\" fill=\"#000000\" fill-rule=\"evenodd\" fill-opacity=\"1\" /><path clip-path=\"url(#clip750)\" d=\"M238.028 242.558 Q234.417 242.558 232.588 246.123 Q230.783 249.665 230.783 256.794 Q230.783 263.901 232.588 267.466 Q234.417 271.007 238.028 271.007 Q241.662 271.007 243.468 267.466 Q245.297 263.901 245.297 256.794 Q245.297 249.665 243.468 246.123 Q241.662 242.558 238.028 242.558 M238.028 238.855 Q243.838 238.855 246.894 243.461 Q249.973 248.044 249.973 256.794 Q249.973 265.521 246.894 270.128 Q243.838 274.711 238.028 274.711 Q232.218 274.711 229.139 270.128 Q226.084 265.521 226.084 256.794 Q226.084 248.044 229.139 243.461 Q232.218 238.855 238.028 238.855 Z\" fill=\"#000000\" fill-rule=\"evenodd\" fill-opacity=\"1\" /><path clip-path=\"url(#clip750)\" d=\"M262.649 221.859 L253.057 236.849 L262.649 236.849 L262.649 221.859 M261.652 218.549 L266.429 218.549 L266.429 236.849 L270.435 236.849 L270.435 240.009 L266.429 240.009 L266.429 246.629 L262.649 246.629 L262.649 240.009 L249.973 240.009 L249.973 236.341 L261.652 218.549 Z\" fill=\"#000000\" fill-rule=\"evenodd\" fill-opacity=\"1\" /><path clip-path=\"url(#clip752)\" d=\"\n",
       "M418.987 87.9763 L418.987 1445.72 L435.695 1445.72 L435.695 87.9763 L418.987 87.9763 L418.987 87.9763  Z\n",
       "  \" fill=\"#009af9\" fill-rule=\"evenodd\" fill-opacity=\"1\"/>\n",
       "<polyline clip-path=\"url(#clip752)\" style=\"stroke:#000000; stroke-linecap:butt; stroke-linejoin:round; stroke-width:4; stroke-opacity:1; fill:none\" points=\"\n",
       "  418.987,87.9763 418.987,1445.72 435.695,1445.72 435.695,87.9763 418.987,87.9763 \n",
       "  \"/>\n",
       "<path clip-path=\"url(#clip752)\" d=\"\n",
       "M435.695 927.209 L435.695 1445.72 L452.404 1445.72 L452.404 927.209 L435.695 927.209 L435.695 927.209  Z\n",
       "  \" fill=\"#009af9\" fill-rule=\"evenodd\" fill-opacity=\"1\"/>\n",
       "<polyline clip-path=\"url(#clip752)\" style=\"stroke:#000000; stroke-linecap:butt; stroke-linejoin:round; stroke-width:4; stroke-opacity:1; fill:none\" points=\"\n",
       "  435.695,927.209 435.695,1445.72 452.404,1445.72 452.404,927.209 435.695,927.209 \n",
       "  \"/>\n",
       "<path clip-path=\"url(#clip752)\" d=\"\n",
       "M452.404 1065.94 L452.404 1445.72 L469.112 1445.72 L469.112 1065.94 L452.404 1065.94 L452.404 1065.94  Z\n",
       "  \" fill=\"#009af9\" fill-rule=\"evenodd\" fill-opacity=\"1\"/>\n",
       "<polyline clip-path=\"url(#clip752)\" style=\"stroke:#000000; stroke-linecap:butt; stroke-linejoin:round; stroke-width:4; stroke-opacity:1; fill:none\" points=\"\n",
       "  452.404,1065.94 452.404,1445.72 469.112,1445.72 469.112,1065.94 452.404,1065.94 \n",
       "  \"/>\n",
       "<path clip-path=\"url(#clip752)\" d=\"\n",
       "M469.112 1139.69 L469.112 1445.72 L485.82 1445.72 L485.82 1139.69 L469.112 1139.69 L469.112 1139.69  Z\n",
       "  \" fill=\"#009af9\" fill-rule=\"evenodd\" fill-opacity=\"1\"/>\n",
       "<polyline clip-path=\"url(#clip752)\" style=\"stroke:#000000; stroke-linecap:butt; stroke-linejoin:round; stroke-width:4; stroke-opacity:1; fill:none\" points=\"\n",
       "  469.112,1139.69 469.112,1445.72 485.82,1445.72 485.82,1139.69 469.112,1139.69 \n",
       "  \"/>\n",
       "<path clip-path=\"url(#clip752)\" d=\"\n",
       "M485.82 1185.6 L485.82 1445.72 L502.529 1445.72 L502.529 1185.6 L485.82 1185.6 L485.82 1185.6  Z\n",
       "  \" fill=\"#009af9\" fill-rule=\"evenodd\" fill-opacity=\"1\"/>\n",
       "<polyline clip-path=\"url(#clip752)\" style=\"stroke:#000000; stroke-linecap:butt; stroke-linejoin:round; stroke-width:4; stroke-opacity:1; fill:none\" points=\"\n",
       "  485.82,1185.6 485.82,1445.72 502.529,1445.72 502.529,1185.6 485.82,1185.6 \n",
       "  \"/>\n",
       "<path clip-path=\"url(#clip752)\" d=\"\n",
       "M502.529 1219.19 L502.529 1445.72 L519.237 1445.72 L519.237 1219.19 L502.529 1219.19 L502.529 1219.19  Z\n",
       "  \" fill=\"#009af9\" fill-rule=\"evenodd\" fill-opacity=\"1\"/>\n",
       "<polyline clip-path=\"url(#clip752)\" style=\"stroke:#000000; stroke-linecap:butt; stroke-linejoin:round; stroke-width:4; stroke-opacity:1; fill:none\" points=\"\n",
       "  502.529,1219.19 502.529,1445.72 519.237,1445.72 519.237,1219.19 502.529,1219.19 \n",
       "  \"/>\n",
       "<path clip-path=\"url(#clip752)\" d=\"\n",
       "M519.237 1244.29 L519.237 1445.72 L535.946 1445.72 L535.946 1244.29 L519.237 1244.29 L519.237 1244.29  Z\n",
       "  \" fill=\"#009af9\" fill-rule=\"evenodd\" fill-opacity=\"1\"/>\n",
       "<polyline clip-path=\"url(#clip752)\" style=\"stroke:#000000; stroke-linecap:butt; stroke-linejoin:round; stroke-width:4; stroke-opacity:1; fill:none\" points=\"\n",
       "  519.237,1244.29 519.237,1445.72 535.946,1445.72 535.946,1244.29 519.237,1244.29 \n",
       "  \"/>\n",
       "<path clip-path=\"url(#clip752)\" d=\"\n",
       "M535.946 1266.88 L535.946 1445.72 L552.654 1445.72 L552.654 1266.88 L535.946 1266.88 L535.946 1266.88  Z\n",
       "  \" fill=\"#009af9\" fill-rule=\"evenodd\" fill-opacity=\"1\"/>\n",
       "<polyline clip-path=\"url(#clip752)\" style=\"stroke:#000000; stroke-linecap:butt; stroke-linejoin:round; stroke-width:4; stroke-opacity:1; fill:none\" points=\"\n",
       "  535.946,1266.88 535.946,1445.72 552.654,1445.72 552.654,1266.88 535.946,1266.88 \n",
       "  \"/>\n",
       "<path clip-path=\"url(#clip752)\" d=\"\n",
       "M552.654 1274.53 L552.654 1445.72 L569.362 1445.72 L569.362 1274.53 L552.654 1274.53 L552.654 1274.53  Z\n",
       "  \" fill=\"#009af9\" fill-rule=\"evenodd\" fill-opacity=\"1\"/>\n",
       "<polyline clip-path=\"url(#clip752)\" style=\"stroke:#000000; stroke-linecap:butt; stroke-linejoin:round; stroke-width:4; stroke-opacity:1; fill:none\" points=\"\n",
       "  552.654,1274.53 552.654,1445.72 569.362,1445.72 569.362,1274.53 552.654,1274.53 \n",
       "  \"/>\n",
       "<path clip-path=\"url(#clip752)\" d=\"\n",
       "M569.362 1287.68 L569.362 1445.72 L586.071 1445.72 L586.071 1287.68 L569.362 1287.68 L569.362 1287.68  Z\n",
       "  \" fill=\"#009af9\" fill-rule=\"evenodd\" fill-opacity=\"1\"/>\n",
       "<polyline clip-path=\"url(#clip752)\" style=\"stroke:#000000; stroke-linecap:butt; stroke-linejoin:round; stroke-width:4; stroke-opacity:1; fill:none\" points=\"\n",
       "  569.362,1287.68 569.362,1445.72 586.071,1445.72 586.071,1287.68 569.362,1287.68 \n",
       "  \"/>\n",
       "<path clip-path=\"url(#clip752)\" d=\"\n",
       "M586.071 1303.64 L586.071 1445.72 L602.779 1445.72 L602.779 1303.64 L586.071 1303.64 L586.071 1303.64  Z\n",
       "  \" fill=\"#009af9\" fill-rule=\"evenodd\" fill-opacity=\"1\"/>\n",
       "<polyline clip-path=\"url(#clip752)\" style=\"stroke:#000000; stroke-linecap:butt; stroke-linejoin:round; stroke-width:4; stroke-opacity:1; fill:none\" points=\"\n",
       "  586.071,1303.64 586.071,1445.72 602.779,1445.72 602.779,1303.64 586.071,1303.64 \n",
       "  \"/>\n",
       "<path clip-path=\"url(#clip752)\" d=\"\n",
       "M602.779 1316.07 L602.779 1445.72 L619.488 1445.72 L619.488 1316.07 L602.779 1316.07 L602.779 1316.07  Z\n",
       "  \" fill=\"#009af9\" fill-rule=\"evenodd\" fill-opacity=\"1\"/>\n",
       "<polyline clip-path=\"url(#clip752)\" style=\"stroke:#000000; stroke-linecap:butt; stroke-linejoin:round; stroke-width:4; stroke-opacity:1; fill:none\" points=\"\n",
       "  602.779,1316.07 602.779,1445.72 619.488,1445.72 619.488,1316.07 602.779,1316.07 \n",
       "  \"/>\n",
       "<path clip-path=\"url(#clip752)\" d=\"\n",
       "M619.488 1326.89 L619.488 1445.72 L636.196 1445.72 L636.196 1326.89 L619.488 1326.89 L619.488 1326.89  Z\n",
       "  \" fill=\"#009af9\" fill-rule=\"evenodd\" fill-opacity=\"1\"/>\n",
       "<polyline clip-path=\"url(#clip752)\" style=\"stroke:#000000; stroke-linecap:butt; stroke-linejoin:round; stroke-width:4; stroke-opacity:1; fill:none\" points=\"\n",
       "  619.488,1326.89 619.488,1445.72 636.196,1445.72 636.196,1326.89 619.488,1326.89 \n",
       "  \"/>\n",
       "<path clip-path=\"url(#clip752)\" d=\"\n",
       "M636.196 1335.92 L636.196 1445.72 L652.905 1445.72 L652.905 1335.92 L636.196 1335.92 L636.196 1335.92  Z\n",
       "  \" fill=\"#009af9\" fill-rule=\"evenodd\" fill-opacity=\"1\"/>\n",
       "<polyline clip-path=\"url(#clip752)\" style=\"stroke:#000000; stroke-linecap:butt; stroke-linejoin:round; stroke-width:4; stroke-opacity:1; fill:none\" points=\"\n",
       "  636.196,1335.92 636.196,1445.72 652.905,1445.72 652.905,1335.92 636.196,1335.92 \n",
       "  \"/>\n",
       "<path clip-path=\"url(#clip752)\" d=\"\n",
       "M652.905 1340.76 L652.905 1445.72 L669.613 1445.72 L669.613 1340.76 L652.905 1340.76 L652.905 1340.76  Z\n",
       "  \" fill=\"#009af9\" fill-rule=\"evenodd\" fill-opacity=\"1\"/>\n",
       "<polyline clip-path=\"url(#clip752)\" style=\"stroke:#000000; stroke-linecap:butt; stroke-linejoin:round; stroke-width:4; stroke-opacity:1; fill:none\" points=\"\n",
       "  652.905,1340.76 652.905,1445.72 669.613,1445.72 669.613,1340.76 652.905,1340.76 \n",
       "  \"/>\n",
       "<path clip-path=\"url(#clip752)\" d=\"\n",
       "M669.613 1343.63 L669.613 1445.72 L686.321 1445.72 L686.321 1343.63 L669.613 1343.63 L669.613 1343.63  Z\n",
       "  \" fill=\"#009af9\" fill-rule=\"evenodd\" fill-opacity=\"1\"/>\n",
       "<polyline clip-path=\"url(#clip752)\" style=\"stroke:#000000; stroke-linecap:butt; stroke-linejoin:round; stroke-width:4; stroke-opacity:1; fill:none\" points=\"\n",
       "  669.613,1343.63 669.613,1445.72 686.321,1445.72 686.321,1343.63 669.613,1343.63 \n",
       "  \"/>\n",
       "<path clip-path=\"url(#clip752)\" d=\"\n",
       "M686.321 1349.78 L686.321 1445.72 L703.03 1445.72 L703.03 1349.78 L686.321 1349.78 L686.321 1349.78  Z\n",
       "  \" fill=\"#009af9\" fill-rule=\"evenodd\" fill-opacity=\"1\"/>\n",
       "<polyline clip-path=\"url(#clip752)\" style=\"stroke:#000000; stroke-linecap:butt; stroke-linejoin:round; stroke-width:4; stroke-opacity:1; fill:none\" points=\"\n",
       "  686.321,1349.78 686.321,1445.72 703.03,1445.72 703.03,1349.78 686.321,1349.78 \n",
       "  \"/>\n",
       "<path clip-path=\"url(#clip752)\" d=\"\n",
       "M703.03 1361.44 L703.03 1445.72 L719.738 1445.72 L719.738 1361.44 L703.03 1361.44 L703.03 1361.44  Z\n",
       "  \" fill=\"#009af9\" fill-rule=\"evenodd\" fill-opacity=\"1\"/>\n",
       "<polyline clip-path=\"url(#clip752)\" style=\"stroke:#000000; stroke-linecap:butt; stroke-linejoin:round; stroke-width:4; stroke-opacity:1; fill:none\" points=\"\n",
       "  703.03,1361.44 703.03,1445.72 719.738,1445.72 719.738,1361.44 703.03,1361.44 \n",
       "  \"/>\n",
       "<path clip-path=\"url(#clip752)\" d=\"\n",
       "M719.738 1367.24 L719.738 1445.72 L736.447 1445.72 L736.447 1367.24 L719.738 1367.24 L719.738 1367.24  Z\n",
       "  \" fill=\"#009af9\" fill-rule=\"evenodd\" fill-opacity=\"1\"/>\n",
       "<polyline clip-path=\"url(#clip752)\" style=\"stroke:#000000; stroke-linecap:butt; stroke-linejoin:round; stroke-width:4; stroke-opacity:1; fill:none\" points=\"\n",
       "  719.738,1367.24 719.738,1445.72 736.447,1445.72 736.447,1367.24 719.738,1367.24 \n",
       "  \"/>\n",
       "<path clip-path=\"url(#clip752)\" d=\"\n",
       "M736.447 1374.77 L736.447 1445.72 L753.155 1445.72 L753.155 1374.77 L736.447 1374.77 L736.447 1374.77  Z\n",
       "  \" fill=\"#009af9\" fill-rule=\"evenodd\" fill-opacity=\"1\"/>\n",
       "<polyline clip-path=\"url(#clip752)\" style=\"stroke:#000000; stroke-linecap:butt; stroke-linejoin:round; stroke-width:4; stroke-opacity:1; fill:none\" points=\"\n",
       "  736.447,1374.77 736.447,1445.72 753.155,1445.72 753.155,1374.77 736.447,1374.77 \n",
       "  \"/>\n",
       "<path clip-path=\"url(#clip752)\" d=\"\n",
       "M753.155 1376.32 L753.155 1445.72 L769.864 1445.72 L769.864 1376.32 L753.155 1376.32 L753.155 1376.32  Z\n",
       "  \" fill=\"#009af9\" fill-rule=\"evenodd\" fill-opacity=\"1\"/>\n",
       "<polyline clip-path=\"url(#clip752)\" style=\"stroke:#000000; stroke-linecap:butt; stroke-linejoin:round; stroke-width:4; stroke-opacity:1; fill:none\" points=\"\n",
       "  753.155,1376.32 753.155,1445.72 769.864,1445.72 769.864,1376.32 753.155,1376.32 \n",
       "  \"/>\n",
       "<path clip-path=\"url(#clip752)\" d=\"\n",
       "M769.864 1378.59 L769.864 1445.72 L786.572 1445.72 L786.572 1378.59 L769.864 1378.59 L769.864 1378.59  Z\n",
       "  \" fill=\"#009af9\" fill-rule=\"evenodd\" fill-opacity=\"1\"/>\n",
       "<polyline clip-path=\"url(#clip752)\" style=\"stroke:#000000; stroke-linecap:butt; stroke-linejoin:round; stroke-width:4; stroke-opacity:1; fill:none\" points=\"\n",
       "  769.864,1378.59 769.864,1445.72 786.572,1445.72 786.572,1378.59 769.864,1378.59 \n",
       "  \"/>\n",
       "<path clip-path=\"url(#clip752)\" d=\"\n",
       "M786.572 1385.17 L786.572 1445.72 L803.28 1445.72 L803.28 1385.17 L786.572 1385.17 L786.572 1385.17  Z\n",
       "  \" fill=\"#009af9\" fill-rule=\"evenodd\" fill-opacity=\"1\"/>\n",
       "<polyline clip-path=\"url(#clip752)\" style=\"stroke:#000000; stroke-linecap:butt; stroke-linejoin:round; stroke-width:4; stroke-opacity:1; fill:none\" points=\"\n",
       "  786.572,1385.17 786.572,1445.72 803.28,1445.72 803.28,1385.17 786.572,1385.17 \n",
       "  \"/>\n",
       "<path clip-path=\"url(#clip752)\" d=\"\n",
       "M803.28 1387.2 L803.28 1445.72 L819.989 1445.72 L819.989 1387.2 L803.28 1387.2 L803.28 1387.2  Z\n",
       "  \" fill=\"#009af9\" fill-rule=\"evenodd\" fill-opacity=\"1\"/>\n",
       "<polyline clip-path=\"url(#clip752)\" style=\"stroke:#000000; stroke-linecap:butt; stroke-linejoin:round; stroke-width:4; stroke-opacity:1; fill:none\" points=\"\n",
       "  803.28,1387.2 803.28,1445.72 819.989,1445.72 819.989,1387.2 803.28,1387.2 \n",
       "  \"/>\n",
       "<path clip-path=\"url(#clip752)\" d=\"\n",
       "M819.989 1391.32 L819.989 1445.72 L836.697 1445.72 L836.697 1391.32 L819.989 1391.32 L819.989 1391.32  Z\n",
       "  \" fill=\"#009af9\" fill-rule=\"evenodd\" fill-opacity=\"1\"/>\n",
       "<polyline clip-path=\"url(#clip752)\" style=\"stroke:#000000; stroke-linecap:butt; stroke-linejoin:round; stroke-width:4; stroke-opacity:1; fill:none\" points=\"\n",
       "  819.989,1391.32 819.989,1445.72 836.697,1445.72 836.697,1391.32 819.989,1391.32 \n",
       "  \"/>\n",
       "<path clip-path=\"url(#clip752)\" d=\"\n",
       "M836.697 1391.8 L836.697 1445.72 L853.406 1445.72 L853.406 1391.8 L836.697 1391.8 L836.697 1391.8  Z\n",
       "  \" fill=\"#009af9\" fill-rule=\"evenodd\" fill-opacity=\"1\"/>\n",
       "<polyline clip-path=\"url(#clip752)\" style=\"stroke:#000000; stroke-linecap:butt; stroke-linejoin:round; stroke-width:4; stroke-opacity:1; fill:none\" points=\"\n",
       "  836.697,1391.8 836.697,1445.72 853.406,1445.72 853.406,1391.8 836.697,1391.8 \n",
       "  \"/>\n",
       "<path clip-path=\"url(#clip752)\" d=\"\n",
       "M853.406 1398.2 L853.406 1445.72 L870.114 1445.72 L870.114 1398.2 L853.406 1398.2 L853.406 1398.2  Z\n",
       "  \" fill=\"#009af9\" fill-rule=\"evenodd\" fill-opacity=\"1\"/>\n",
       "<polyline clip-path=\"url(#clip752)\" style=\"stroke:#000000; stroke-linecap:butt; stroke-linejoin:round; stroke-width:4; stroke-opacity:1; fill:none\" points=\"\n",
       "  853.406,1398.2 853.406,1445.72 870.114,1445.72 870.114,1398.2 853.406,1398.2 \n",
       "  \"/>\n",
       "<path clip-path=\"url(#clip752)\" d=\"\n",
       "M870.114 1401.07 L870.114 1445.72 L886.822 1445.72 L886.822 1401.07 L870.114 1401.07 L870.114 1401.07  Z\n",
       "  \" fill=\"#009af9\" fill-rule=\"evenodd\" fill-opacity=\"1\"/>\n",
       "<polyline clip-path=\"url(#clip752)\" style=\"stroke:#000000; stroke-linecap:butt; stroke-linejoin:round; stroke-width:4; stroke-opacity:1; fill:none\" points=\"\n",
       "  870.114,1401.07 870.114,1445.72 886.822,1445.72 886.822,1401.07 870.114,1401.07 \n",
       "  \"/>\n",
       "<path clip-path=\"url(#clip752)\" d=\"\n",
       "M886.822 1402.8 L886.822 1445.72 L903.531 1445.72 L903.531 1402.8 L886.822 1402.8 L886.822 1402.8  Z\n",
       "  \" fill=\"#009af9\" fill-rule=\"evenodd\" fill-opacity=\"1\"/>\n",
       "<polyline clip-path=\"url(#clip752)\" style=\"stroke:#000000; stroke-linecap:butt; stroke-linejoin:round; stroke-width:4; stroke-opacity:1; fill:none\" points=\"\n",
       "  886.822,1402.8 886.822,1445.72 903.531,1445.72 903.531,1402.8 886.822,1402.8 \n",
       "  \"/>\n",
       "<path clip-path=\"url(#clip752)\" d=\"\n",
       "M903.531 1402.38 L903.531 1445.72 L920.239 1445.72 L920.239 1402.38 L903.531 1402.38 L903.531 1402.38  Z\n",
       "  \" fill=\"#009af9\" fill-rule=\"evenodd\" fill-opacity=\"1\"/>\n",
       "<polyline clip-path=\"url(#clip752)\" style=\"stroke:#000000; stroke-linecap:butt; stroke-linejoin:round; stroke-width:4; stroke-opacity:1; fill:none\" points=\"\n",
       "  903.531,1402.38 903.531,1445.72 920.239,1445.72 920.239,1402.38 903.531,1402.38 \n",
       "  \"/>\n",
       "<path clip-path=\"url(#clip752)\" d=\"\n",
       "M920.239 1407.58 L920.239 1445.72 L936.948 1445.72 L936.948 1407.58 L920.239 1407.58 L920.239 1407.58  Z\n",
       "  \" fill=\"#009af9\" fill-rule=\"evenodd\" fill-opacity=\"1\"/>\n",
       "<polyline clip-path=\"url(#clip752)\" style=\"stroke:#000000; stroke-linecap:butt; stroke-linejoin:round; stroke-width:4; stroke-opacity:1; fill:none\" points=\"\n",
       "  920.239,1407.58 920.239,1445.72 936.948,1445.72 936.948,1407.58 920.239,1407.58 \n",
       "  \"/>\n",
       "<path clip-path=\"url(#clip752)\" d=\"\n",
       "M936.948 1410.51 L936.948 1445.72 L953.656 1445.72 L953.656 1410.51 L936.948 1410.51 L936.948 1410.51  Z\n",
       "  \" fill=\"#009af9\" fill-rule=\"evenodd\" fill-opacity=\"1\"/>\n",
       "<polyline clip-path=\"url(#clip752)\" style=\"stroke:#000000; stroke-linecap:butt; stroke-linejoin:round; stroke-width:4; stroke-opacity:1; fill:none\" points=\"\n",
       "  936.948,1410.51 936.948,1445.72 953.656,1445.72 953.656,1410.51 936.948,1410.51 \n",
       "  \"/>\n",
       "<path clip-path=\"url(#clip752)\" d=\"\n",
       "M953.656 1411.89 L953.656 1445.72 L970.365 1445.72 L970.365 1411.89 L953.656 1411.89 L953.656 1411.89  Z\n",
       "  \" fill=\"#009af9\" fill-rule=\"evenodd\" fill-opacity=\"1\"/>\n",
       "<polyline clip-path=\"url(#clip752)\" style=\"stroke:#000000; stroke-linecap:butt; stroke-linejoin:round; stroke-width:4; stroke-opacity:1; fill:none\" points=\"\n",
       "  953.656,1411.89 953.656,1445.72 970.365,1445.72 970.365,1411.89 953.656,1411.89 \n",
       "  \"/>\n",
       "<path clip-path=\"url(#clip752)\" d=\"\n",
       "M970.365 1414.87 L970.365 1445.72 L987.073 1445.72 L987.073 1414.87 L970.365 1414.87 L970.365 1414.87  Z\n",
       "  \" fill=\"#009af9\" fill-rule=\"evenodd\" fill-opacity=\"1\"/>\n",
       "<polyline clip-path=\"url(#clip752)\" style=\"stroke:#000000; stroke-linecap:butt; stroke-linejoin:round; stroke-width:4; stroke-opacity:1; fill:none\" points=\"\n",
       "  970.365,1414.87 970.365,1445.72 987.073,1445.72 987.073,1414.87 970.365,1414.87 \n",
       "  \"/>\n",
       "<path clip-path=\"url(#clip752)\" d=\"\n",
       "M987.073 1415.53 L987.073 1445.72 L1003.78 1445.72 L1003.78 1415.53 L987.073 1415.53 L987.073 1415.53  Z\n",
       "  \" fill=\"#009af9\" fill-rule=\"evenodd\" fill-opacity=\"1\"/>\n",
       "<polyline clip-path=\"url(#clip752)\" style=\"stroke:#000000; stroke-linecap:butt; stroke-linejoin:round; stroke-width:4; stroke-opacity:1; fill:none\" points=\"\n",
       "  987.073,1415.53 987.073,1445.72 1003.78,1445.72 1003.78,1415.53 987.073,1415.53 \n",
       "  \"/>\n",
       "<path clip-path=\"url(#clip752)\" d=\"\n",
       "M1003.78 1417.38 L1003.78 1445.72 L1020.49 1445.72 L1020.49 1417.38 L1003.78 1417.38 L1003.78 1417.38  Z\n",
       "  \" fill=\"#009af9\" fill-rule=\"evenodd\" fill-opacity=\"1\"/>\n",
       "<polyline clip-path=\"url(#clip752)\" style=\"stroke:#000000; stroke-linecap:butt; stroke-linejoin:round; stroke-width:4; stroke-opacity:1; fill:none\" points=\"\n",
       "  1003.78,1417.38 1003.78,1445.72 1020.49,1445.72 1020.49,1417.38 1003.78,1417.38 \n",
       "  \"/>\n",
       "<path clip-path=\"url(#clip752)\" d=\"\n",
       "M1020.49 1420.37 L1020.49 1445.72 L1037.2 1445.72 L1037.2 1420.37 L1020.49 1420.37 L1020.49 1420.37  Z\n",
       "  \" fill=\"#009af9\" fill-rule=\"evenodd\" fill-opacity=\"1\"/>\n",
       "<polyline clip-path=\"url(#clip752)\" style=\"stroke:#000000; stroke-linecap:butt; stroke-linejoin:round; stroke-width:4; stroke-opacity:1; fill:none\" points=\"\n",
       "  1020.49,1420.37 1020.49,1445.72 1037.2,1445.72 1037.2,1420.37 1020.49,1420.37 \n",
       "  \"/>\n",
       "<path clip-path=\"url(#clip752)\" d=\"\n",
       "M1037.2 1419.3 L1037.2 1445.72 L1053.91 1445.72 L1053.91 1419.3 L1037.2 1419.3 L1037.2 1419.3  Z\n",
       "  \" fill=\"#009af9\" fill-rule=\"evenodd\" fill-opacity=\"1\"/>\n",
       "<polyline clip-path=\"url(#clip752)\" style=\"stroke:#000000; stroke-linecap:butt; stroke-linejoin:round; stroke-width:4; stroke-opacity:1; fill:none\" points=\"\n",
       "  1037.2,1419.3 1037.2,1445.72 1053.91,1445.72 1053.91,1419.3 1037.2,1419.3 \n",
       "  \"/>\n",
       "<path clip-path=\"url(#clip752)\" d=\"\n",
       "M1053.91 1421.57 L1053.91 1445.72 L1070.62 1445.72 L1070.62 1421.57 L1053.91 1421.57 L1053.91 1421.57  Z\n",
       "  \" fill=\"#009af9\" fill-rule=\"evenodd\" fill-opacity=\"1\"/>\n",
       "<polyline clip-path=\"url(#clip752)\" style=\"stroke:#000000; stroke-linecap:butt; stroke-linejoin:round; stroke-width:4; stroke-opacity:1; fill:none\" points=\"\n",
       "  1053.91,1421.57 1053.91,1445.72 1070.62,1445.72 1070.62,1421.57 1053.91,1421.57 \n",
       "  \"/>\n",
       "<path clip-path=\"url(#clip752)\" d=\"\n",
       "M1070.62 1421.99 L1070.62 1445.72 L1087.32 1445.72 L1087.32 1421.99 L1070.62 1421.99 L1070.62 1421.99  Z\n",
       "  \" fill=\"#009af9\" fill-rule=\"evenodd\" fill-opacity=\"1\"/>\n",
       "<polyline clip-path=\"url(#clip752)\" style=\"stroke:#000000; stroke-linecap:butt; stroke-linejoin:round; stroke-width:4; stroke-opacity:1; fill:none\" points=\"\n",
       "  1070.62,1421.99 1070.62,1445.72 1087.32,1445.72 1087.32,1421.99 1070.62,1421.99 \n",
       "  \"/>\n",
       "<path clip-path=\"url(#clip752)\" d=\"\n",
       "M1087.32 1424.14 L1087.32 1445.72 L1104.03 1445.72 L1104.03 1424.14 L1087.32 1424.14 L1087.32 1424.14  Z\n",
       "  \" fill=\"#009af9\" fill-rule=\"evenodd\" fill-opacity=\"1\"/>\n",
       "<polyline clip-path=\"url(#clip752)\" style=\"stroke:#000000; stroke-linecap:butt; stroke-linejoin:round; stroke-width:4; stroke-opacity:1; fill:none\" points=\"\n",
       "  1087.32,1424.14 1087.32,1445.72 1104.03,1445.72 1104.03,1424.14 1087.32,1424.14 \n",
       "  \"/>\n",
       "<path clip-path=\"url(#clip752)\" d=\"\n",
       "M1104.03 1426.35 L1104.03 1445.72 L1120.74 1445.72 L1120.74 1426.35 L1104.03 1426.35 L1104.03 1426.35  Z\n",
       "  \" fill=\"#009af9\" fill-rule=\"evenodd\" fill-opacity=\"1\"/>\n",
       "<polyline clip-path=\"url(#clip752)\" style=\"stroke:#000000; stroke-linecap:butt; stroke-linejoin:round; stroke-width:4; stroke-opacity:1; fill:none\" points=\"\n",
       "  1104.03,1426.35 1104.03,1445.72 1120.74,1445.72 1120.74,1426.35 1104.03,1426.35 \n",
       "  \"/>\n",
       "<path clip-path=\"url(#clip752)\" d=\"\n",
       "M1120.74 1427.07 L1120.74 1445.72 L1137.45 1445.72 L1137.45 1427.07 L1120.74 1427.07 L1120.74 1427.07  Z\n",
       "  \" fill=\"#009af9\" fill-rule=\"evenodd\" fill-opacity=\"1\"/>\n",
       "<polyline clip-path=\"url(#clip752)\" style=\"stroke:#000000; stroke-linecap:butt; stroke-linejoin:round; stroke-width:4; stroke-opacity:1; fill:none\" points=\"\n",
       "  1120.74,1427.07 1120.74,1445.72 1137.45,1445.72 1137.45,1427.07 1120.74,1427.07 \n",
       "  \"/>\n",
       "<path clip-path=\"url(#clip752)\" d=\"\n",
       "M1137.45 1429.22 L1137.45 1445.72 L1154.16 1445.72 L1154.16 1429.22 L1137.45 1429.22 L1137.45 1429.22  Z\n",
       "  \" fill=\"#009af9\" fill-rule=\"evenodd\" fill-opacity=\"1\"/>\n",
       "<polyline clip-path=\"url(#clip752)\" style=\"stroke:#000000; stroke-linecap:butt; stroke-linejoin:round; stroke-width:4; stroke-opacity:1; fill:none\" points=\"\n",
       "  1137.45,1429.22 1137.45,1445.72 1154.16,1445.72 1154.16,1429.22 1137.45,1429.22 \n",
       "  \"/>\n",
       "<path clip-path=\"url(#clip752)\" d=\"\n",
       "M1154.16 1428.68 L1154.16 1445.72 L1170.87 1445.72 L1170.87 1428.68 L1154.16 1428.68 L1154.16 1428.68  Z\n",
       "  \" fill=\"#009af9\" fill-rule=\"evenodd\" fill-opacity=\"1\"/>\n",
       "<polyline clip-path=\"url(#clip752)\" style=\"stroke:#000000; stroke-linecap:butt; stroke-linejoin:round; stroke-width:4; stroke-opacity:1; fill:none\" points=\"\n",
       "  1154.16,1428.68 1154.16,1445.72 1170.87,1445.72 1170.87,1428.68 1154.16,1428.68 \n",
       "  \"/>\n",
       "<path clip-path=\"url(#clip752)\" d=\"\n",
       "M1170.87 1429.34 L1170.87 1445.72 L1187.57 1445.72 L1187.57 1429.34 L1170.87 1429.34 L1170.87 1429.34  Z\n",
       "  \" fill=\"#009af9\" fill-rule=\"evenodd\" fill-opacity=\"1\"/>\n",
       "<polyline clip-path=\"url(#clip752)\" style=\"stroke:#000000; stroke-linecap:butt; stroke-linejoin:round; stroke-width:4; stroke-opacity:1; fill:none\" points=\"\n",
       "  1170.87,1429.34 1170.87,1445.72 1187.57,1445.72 1187.57,1429.34 1170.87,1429.34 \n",
       "  \"/>\n",
       "<path clip-path=\"url(#clip752)\" d=\"\n",
       "M1187.57 1430.47 L1187.57 1445.72 L1204.28 1445.72 L1204.28 1430.47 L1187.57 1430.47 L1187.57 1430.47  Z\n",
       "  \" fill=\"#009af9\" fill-rule=\"evenodd\" fill-opacity=\"1\"/>\n",
       "<polyline clip-path=\"url(#clip752)\" style=\"stroke:#000000; stroke-linecap:butt; stroke-linejoin:round; stroke-width:4; stroke-opacity:1; fill:none\" points=\"\n",
       "  1187.57,1430.47 1187.57,1445.72 1204.28,1445.72 1204.28,1430.47 1187.57,1430.47 \n",
       "  \"/>\n",
       "<path clip-path=\"url(#clip752)\" d=\"\n",
       "M1204.28 1432.57 L1204.28 1445.72 L1220.99 1445.72 L1220.99 1432.57 L1204.28 1432.57 L1204.28 1432.57  Z\n",
       "  \" fill=\"#009af9\" fill-rule=\"evenodd\" fill-opacity=\"1\"/>\n",
       "<polyline clip-path=\"url(#clip752)\" style=\"stroke:#000000; stroke-linecap:butt; stroke-linejoin:round; stroke-width:4; stroke-opacity:1; fill:none\" points=\"\n",
       "  1204.28,1432.57 1204.28,1445.72 1220.99,1445.72 1220.99,1432.57 1204.28,1432.57 \n",
       "  \"/>\n",
       "<path clip-path=\"url(#clip752)\" d=\"\n",
       "M1220.99 1432.33 L1220.99 1445.72 L1237.7 1445.72 L1237.7 1432.33 L1220.99 1432.33 L1220.99 1432.33  Z\n",
       "  \" fill=\"#009af9\" fill-rule=\"evenodd\" fill-opacity=\"1\"/>\n",
       "<polyline clip-path=\"url(#clip752)\" style=\"stroke:#000000; stroke-linecap:butt; stroke-linejoin:round; stroke-width:4; stroke-opacity:1; fill:none\" points=\"\n",
       "  1220.99,1432.33 1220.99,1445.72 1237.7,1445.72 1237.7,1432.33 1220.99,1432.33 \n",
       "  \"/>\n",
       "<path clip-path=\"url(#clip752)\" d=\"\n",
       "M1237.7 1433.88 L1237.7 1445.72 L1254.41 1445.72 L1254.41 1433.88 L1237.7 1433.88 L1237.7 1433.88  Z\n",
       "  \" fill=\"#009af9\" fill-rule=\"evenodd\" fill-opacity=\"1\"/>\n",
       "<polyline clip-path=\"url(#clip752)\" style=\"stroke:#000000; stroke-linecap:butt; stroke-linejoin:round; stroke-width:4; stroke-opacity:1; fill:none\" points=\"\n",
       "  1237.7,1433.88 1237.7,1445.72 1254.41,1445.72 1254.41,1433.88 1237.7,1433.88 \n",
       "  \"/>\n",
       "<path clip-path=\"url(#clip752)\" d=\"\n",
       "M1254.41 1433.88 L1254.41 1445.72 L1271.12 1445.72 L1271.12 1433.88 L1254.41 1433.88 L1254.41 1433.88  Z\n",
       "  \" fill=\"#009af9\" fill-rule=\"evenodd\" fill-opacity=\"1\"/>\n",
       "<polyline clip-path=\"url(#clip752)\" style=\"stroke:#000000; stroke-linecap:butt; stroke-linejoin:round; stroke-width:4; stroke-opacity:1; fill:none\" points=\"\n",
       "  1254.41,1433.88 1254.41,1445.72 1271.12,1445.72 1271.12,1433.88 1254.41,1433.88 \n",
       "  \"/>\n",
       "<path clip-path=\"url(#clip752)\" d=\"\n",
       "M1271.12 1435.14 L1271.12 1445.72 L1287.82 1445.72 L1287.82 1435.14 L1271.12 1435.14 L1271.12 1435.14  Z\n",
       "  \" fill=\"#009af9\" fill-rule=\"evenodd\" fill-opacity=\"1\"/>\n",
       "<polyline clip-path=\"url(#clip752)\" style=\"stroke:#000000; stroke-linecap:butt; stroke-linejoin:round; stroke-width:4; stroke-opacity:1; fill:none\" points=\"\n",
       "  1271.12,1435.14 1271.12,1445.72 1287.82,1445.72 1287.82,1435.14 1271.12,1435.14 \n",
       "  \"/>\n",
       "<path clip-path=\"url(#clip752)\" d=\"\n",
       "M1287.82 1434.42 L1287.82 1445.72 L1304.53 1445.72 L1304.53 1434.42 L1287.82 1434.42 L1287.82 1434.42  Z\n",
       "  \" fill=\"#009af9\" fill-rule=\"evenodd\" fill-opacity=\"1\"/>\n",
       "<polyline clip-path=\"url(#clip752)\" style=\"stroke:#000000; stroke-linecap:butt; stroke-linejoin:round; stroke-width:4; stroke-opacity:1; fill:none\" points=\"\n",
       "  1287.82,1434.42 1287.82,1445.72 1304.53,1445.72 1304.53,1434.42 1287.82,1434.42 \n",
       "  \"/>\n",
       "<path clip-path=\"url(#clip752)\" d=\"\n",
       "M1304.53 1433.94 L1304.53 1445.72 L1321.24 1445.72 L1321.24 1433.94 L1304.53 1433.94 L1304.53 1433.94  Z\n",
       "  \" fill=\"#009af9\" fill-rule=\"evenodd\" fill-opacity=\"1\"/>\n",
       "<polyline clip-path=\"url(#clip752)\" style=\"stroke:#000000; stroke-linecap:butt; stroke-linejoin:round; stroke-width:4; stroke-opacity:1; fill:none\" points=\"\n",
       "  1304.53,1433.94 1304.53,1445.72 1321.24,1445.72 1321.24,1433.94 1304.53,1433.94 \n",
       "  \"/>\n",
       "<path clip-path=\"url(#clip752)\" d=\"\n",
       "M1321.24 1436.93 L1321.24 1445.72 L1337.95 1445.72 L1337.95 1436.93 L1321.24 1436.93 L1321.24 1436.93  Z\n",
       "  \" fill=\"#009af9\" fill-rule=\"evenodd\" fill-opacity=\"1\"/>\n",
       "<polyline clip-path=\"url(#clip752)\" style=\"stroke:#000000; stroke-linecap:butt; stroke-linejoin:round; stroke-width:4; stroke-opacity:1; fill:none\" points=\"\n",
       "  1321.24,1436.93 1321.24,1445.72 1337.95,1445.72 1337.95,1436.93 1321.24,1436.93 \n",
       "  \"/>\n",
       "<path clip-path=\"url(#clip752)\" d=\"\n",
       "M1337.95 1437.41 L1337.95 1445.72 L1354.66 1445.72 L1354.66 1437.41 L1337.95 1437.41 L1337.95 1437.41  Z\n",
       "  \" fill=\"#009af9\" fill-rule=\"evenodd\" fill-opacity=\"1\"/>\n",
       "<polyline clip-path=\"url(#clip752)\" style=\"stroke:#000000; stroke-linecap:butt; stroke-linejoin:round; stroke-width:4; stroke-opacity:1; fill:none\" points=\"\n",
       "  1337.95,1437.41 1337.95,1445.72 1354.66,1445.72 1354.66,1437.41 1337.95,1437.41 \n",
       "  \"/>\n",
       "<path clip-path=\"url(#clip752)\" d=\"\n",
       "M1354.66 1437.95 L1354.66 1445.72 L1371.37 1445.72 L1371.37 1437.95 L1354.66 1437.95 L1354.66 1437.95  Z\n",
       "  \" fill=\"#009af9\" fill-rule=\"evenodd\" fill-opacity=\"1\"/>\n",
       "<polyline clip-path=\"url(#clip752)\" style=\"stroke:#000000; stroke-linecap:butt; stroke-linejoin:round; stroke-width:4; stroke-opacity:1; fill:none\" points=\"\n",
       "  1354.66,1437.95 1354.66,1445.72 1371.37,1445.72 1371.37,1437.95 1354.66,1437.95 \n",
       "  \"/>\n",
       "<path clip-path=\"url(#clip752)\" d=\"\n",
       "M1371.37 1438.36 L1371.37 1445.72 L1388.08 1445.72 L1388.08 1438.36 L1371.37 1438.36 L1371.37 1438.36  Z\n",
       "  \" fill=\"#009af9\" fill-rule=\"evenodd\" fill-opacity=\"1\"/>\n",
       "<polyline clip-path=\"url(#clip752)\" style=\"stroke:#000000; stroke-linecap:butt; stroke-linejoin:round; stroke-width:4; stroke-opacity:1; fill:none\" points=\"\n",
       "  1371.37,1438.36 1371.37,1445.72 1388.08,1445.72 1388.08,1438.36 1371.37,1438.36 \n",
       "  \"/>\n",
       "<path clip-path=\"url(#clip752)\" d=\"\n",
       "M1388.08 1437.41 L1388.08 1445.72 L1404.78 1445.72 L1404.78 1437.41 L1388.08 1437.41 L1388.08 1437.41  Z\n",
       "  \" fill=\"#009af9\" fill-rule=\"evenodd\" fill-opacity=\"1\"/>\n",
       "<polyline clip-path=\"url(#clip752)\" style=\"stroke:#000000; stroke-linecap:butt; stroke-linejoin:round; stroke-width:4; stroke-opacity:1; fill:none\" points=\"\n",
       "  1388.08,1437.41 1388.08,1445.72 1404.78,1445.72 1404.78,1437.41 1388.08,1437.41 \n",
       "  \"/>\n",
       "<path clip-path=\"url(#clip752)\" d=\"\n",
       "M1404.78 1438.72 L1404.78 1445.72 L1421.49 1445.72 L1421.49 1438.72 L1404.78 1438.72 L1404.78 1438.72  Z\n",
       "  \" fill=\"#009af9\" fill-rule=\"evenodd\" fill-opacity=\"1\"/>\n",
       "<polyline clip-path=\"url(#clip752)\" style=\"stroke:#000000; stroke-linecap:butt; stroke-linejoin:round; stroke-width:4; stroke-opacity:1; fill:none\" points=\"\n",
       "  1404.78,1438.72 1404.78,1445.72 1421.49,1445.72 1421.49,1438.72 1404.78,1438.72 \n",
       "  \"/>\n",
       "<path clip-path=\"url(#clip752)\" d=\"\n",
       "M1421.49 1439.56 L1421.49 1445.72 L1438.2 1445.72 L1438.2 1439.56 L1421.49 1439.56 L1421.49 1439.56  Z\n",
       "  \" fill=\"#009af9\" fill-rule=\"evenodd\" fill-opacity=\"1\"/>\n",
       "<polyline clip-path=\"url(#clip752)\" style=\"stroke:#000000; stroke-linecap:butt; stroke-linejoin:round; stroke-width:4; stroke-opacity:1; fill:none\" points=\"\n",
       "  1421.49,1439.56 1421.49,1445.72 1438.2,1445.72 1438.2,1439.56 1421.49,1439.56 \n",
       "  \"/>\n",
       "<path clip-path=\"url(#clip752)\" d=\"\n",
       "M1438.2 1439.74 L1438.2 1445.72 L1454.91 1445.72 L1454.91 1439.74 L1438.2 1439.74 L1438.2 1439.74  Z\n",
       "  \" fill=\"#009af9\" fill-rule=\"evenodd\" fill-opacity=\"1\"/>\n",
       "<polyline clip-path=\"url(#clip752)\" style=\"stroke:#000000; stroke-linecap:butt; stroke-linejoin:round; stroke-width:4; stroke-opacity:1; fill:none\" points=\"\n",
       "  1438.2,1439.74 1438.2,1445.72 1454.91,1445.72 1454.91,1439.74 1438.2,1439.74 \n",
       "  \"/>\n",
       "<path clip-path=\"url(#clip752)\" d=\"\n",
       "M1454.91 1438.78 L1454.91 1445.72 L1471.62 1445.72 L1471.62 1438.78 L1454.91 1438.78 L1454.91 1438.78  Z\n",
       "  \" fill=\"#009af9\" fill-rule=\"evenodd\" fill-opacity=\"1\"/>\n",
       "<polyline clip-path=\"url(#clip752)\" style=\"stroke:#000000; stroke-linecap:butt; stroke-linejoin:round; stroke-width:4; stroke-opacity:1; fill:none\" points=\"\n",
       "  1454.91,1438.78 1454.91,1445.72 1471.62,1445.72 1471.62,1438.78 1454.91,1438.78 \n",
       "  \"/>\n",
       "<path clip-path=\"url(#clip752)\" d=\"\n",
       "M1471.62 1440.4 L1471.62 1445.72 L1488.33 1445.72 L1488.33 1440.4 L1471.62 1440.4 L1471.62 1440.4  Z\n",
       "  \" fill=\"#009af9\" fill-rule=\"evenodd\" fill-opacity=\"1\"/>\n",
       "<polyline clip-path=\"url(#clip752)\" style=\"stroke:#000000; stroke-linecap:butt; stroke-linejoin:round; stroke-width:4; stroke-opacity:1; fill:none\" points=\"\n",
       "  1471.62,1440.4 1471.62,1445.72 1488.33,1445.72 1488.33,1440.4 1471.62,1440.4 \n",
       "  \"/>\n",
       "<path clip-path=\"url(#clip752)\" d=\"\n",
       "M1488.33 1440.81 L1488.33 1445.72 L1505.03 1445.72 L1505.03 1440.81 L1488.33 1440.81 L1488.33 1440.81  Z\n",
       "  \" fill=\"#009af9\" fill-rule=\"evenodd\" fill-opacity=\"1\"/>\n",
       "<polyline clip-path=\"url(#clip752)\" style=\"stroke:#000000; stroke-linecap:butt; stroke-linejoin:round; stroke-width:4; stroke-opacity:1; fill:none\" points=\"\n",
       "  1488.33,1440.81 1488.33,1445.72 1505.03,1445.72 1505.03,1440.81 1488.33,1440.81 \n",
       "  \"/>\n",
       "<path clip-path=\"url(#clip752)\" d=\"\n",
       "M1505.03 1441.41 L1505.03 1445.72 L1521.74 1445.72 L1521.74 1441.41 L1505.03 1441.41 L1505.03 1441.41  Z\n",
       "  \" fill=\"#009af9\" fill-rule=\"evenodd\" fill-opacity=\"1\"/>\n",
       "<polyline clip-path=\"url(#clip752)\" style=\"stroke:#000000; stroke-linecap:butt; stroke-linejoin:round; stroke-width:4; stroke-opacity:1; fill:none\" points=\"\n",
       "  1505.03,1441.41 1505.03,1445.72 1521.74,1445.72 1521.74,1441.41 1505.03,1441.41 \n",
       "  \"/>\n",
       "<path clip-path=\"url(#clip752)\" d=\"\n",
       "M1521.74 1442.25 L1521.74 1445.72 L1538.45 1445.72 L1538.45 1442.25 L1521.74 1442.25 L1521.74 1442.25  Z\n",
       "  \" fill=\"#009af9\" fill-rule=\"evenodd\" fill-opacity=\"1\"/>\n",
       "<polyline clip-path=\"url(#clip752)\" style=\"stroke:#000000; stroke-linecap:butt; stroke-linejoin:round; stroke-width:4; stroke-opacity:1; fill:none\" points=\"\n",
       "  1521.74,1442.25 1521.74,1445.72 1538.45,1445.72 1538.45,1442.25 1521.74,1442.25 \n",
       "  \"/>\n",
       "<path clip-path=\"url(#clip752)\" d=\"\n",
       "M1538.45 1442.43 L1538.45 1445.72 L1555.16 1445.72 L1555.16 1442.43 L1538.45 1442.43 L1538.45 1442.43  Z\n",
       "  \" fill=\"#009af9\" fill-rule=\"evenodd\" fill-opacity=\"1\"/>\n",
       "<polyline clip-path=\"url(#clip752)\" style=\"stroke:#000000; stroke-linecap:butt; stroke-linejoin:round; stroke-width:4; stroke-opacity:1; fill:none\" points=\"\n",
       "  1538.45,1442.43 1538.45,1445.72 1555.16,1445.72 1555.16,1442.43 1538.45,1442.43 \n",
       "  \"/>\n",
       "<path clip-path=\"url(#clip752)\" d=\"\n",
       "M1555.16 1442.37 L1555.16 1445.72 L1571.87 1445.72 L1571.87 1442.37 L1555.16 1442.37 L1555.16 1442.37  Z\n",
       "  \" fill=\"#009af9\" fill-rule=\"evenodd\" fill-opacity=\"1\"/>\n",
       "<polyline clip-path=\"url(#clip752)\" style=\"stroke:#000000; stroke-linecap:butt; stroke-linejoin:round; stroke-width:4; stroke-opacity:1; fill:none\" points=\"\n",
       "  1555.16,1442.37 1555.16,1445.72 1571.87,1445.72 1571.87,1442.37 1555.16,1442.37 \n",
       "  \"/>\n",
       "<path clip-path=\"url(#clip752)\" d=\"\n",
       "M1571.87 1442.01 L1571.87 1445.72 L1588.58 1445.72 L1588.58 1442.01 L1571.87 1442.01 L1571.87 1442.01  Z\n",
       "  \" fill=\"#009af9\" fill-rule=\"evenodd\" fill-opacity=\"1\"/>\n",
       "<polyline clip-path=\"url(#clip752)\" style=\"stroke:#000000; stroke-linecap:butt; stroke-linejoin:round; stroke-width:4; stroke-opacity:1; fill:none\" points=\"\n",
       "  1571.87,1442.01 1571.87,1445.72 1588.58,1445.72 1588.58,1442.01 1571.87,1442.01 \n",
       "  \"/>\n",
       "<path clip-path=\"url(#clip752)\" d=\"\n",
       "M1588.58 1442.25 L1588.58 1445.72 L1605.28 1445.72 L1605.28 1442.25 L1588.58 1442.25 L1588.58 1442.25  Z\n",
       "  \" fill=\"#009af9\" fill-rule=\"evenodd\" fill-opacity=\"1\"/>\n",
       "<polyline clip-path=\"url(#clip752)\" style=\"stroke:#000000; stroke-linecap:butt; stroke-linejoin:round; stroke-width:4; stroke-opacity:1; fill:none\" points=\"\n",
       "  1588.58,1442.25 1588.58,1445.72 1605.28,1445.72 1605.28,1442.25 1588.58,1442.25 \n",
       "  \"/>\n",
       "<path clip-path=\"url(#clip752)\" d=\"\n",
       "M1605.28 1441.95 L1605.28 1445.72 L1621.99 1445.72 L1621.99 1441.95 L1605.28 1441.95 L1605.28 1441.95  Z\n",
       "  \" fill=\"#009af9\" fill-rule=\"evenodd\" fill-opacity=\"1\"/>\n",
       "<polyline clip-path=\"url(#clip752)\" style=\"stroke:#000000; stroke-linecap:butt; stroke-linejoin:round; stroke-width:4; stroke-opacity:1; fill:none\" points=\"\n",
       "  1605.28,1441.95 1605.28,1445.72 1621.99,1445.72 1621.99,1441.95 1605.28,1441.95 \n",
       "  \"/>\n",
       "<path clip-path=\"url(#clip752)\" d=\"\n",
       "M1621.99 1442.49 L1621.99 1445.72 L1638.7 1445.72 L1638.7 1442.49 L1621.99 1442.49 L1621.99 1442.49  Z\n",
       "  \" fill=\"#009af9\" fill-rule=\"evenodd\" fill-opacity=\"1\"/>\n",
       "<polyline clip-path=\"url(#clip752)\" style=\"stroke:#000000; stroke-linecap:butt; stroke-linejoin:round; stroke-width:4; stroke-opacity:1; fill:none\" points=\"\n",
       "  1621.99,1442.49 1621.99,1445.72 1638.7,1445.72 1638.7,1442.49 1621.99,1442.49 \n",
       "  \"/>\n",
       "<path clip-path=\"url(#clip752)\" d=\"\n",
       "M1638.7 1443.5 L1638.7 1445.72 L1655.41 1445.72 L1655.41 1443.5 L1638.7 1443.5 L1638.7 1443.5  Z\n",
       "  \" fill=\"#009af9\" fill-rule=\"evenodd\" fill-opacity=\"1\"/>\n",
       "<polyline clip-path=\"url(#clip752)\" style=\"stroke:#000000; stroke-linecap:butt; stroke-linejoin:round; stroke-width:4; stroke-opacity:1; fill:none\" points=\"\n",
       "  1638.7,1443.5 1638.7,1445.72 1655.41,1445.72 1655.41,1443.5 1638.7,1443.5 \n",
       "  \"/>\n",
       "<path clip-path=\"url(#clip752)\" d=\"\n",
       "M1655.41 1443.21 L1655.41 1445.72 L1672.12 1445.72 L1672.12 1443.21 L1655.41 1443.21 L1655.41 1443.21  Z\n",
       "  \" fill=\"#009af9\" fill-rule=\"evenodd\" fill-opacity=\"1\"/>\n",
       "<polyline clip-path=\"url(#clip752)\" style=\"stroke:#000000; stroke-linecap:butt; stroke-linejoin:round; stroke-width:4; stroke-opacity:1; fill:none\" points=\"\n",
       "  1655.41,1443.21 1655.41,1445.72 1672.12,1445.72 1672.12,1443.21 1655.41,1443.21 \n",
       "  \"/>\n",
       "<path clip-path=\"url(#clip752)\" d=\"\n",
       "M1672.12 1443.32 L1672.12 1445.72 L1688.83 1445.72 L1688.83 1443.32 L1672.12 1443.32 L1672.12 1443.32  Z\n",
       "  \" fill=\"#009af9\" fill-rule=\"evenodd\" fill-opacity=\"1\"/>\n",
       "<polyline clip-path=\"url(#clip752)\" style=\"stroke:#000000; stroke-linecap:butt; stroke-linejoin:round; stroke-width:4; stroke-opacity:1; fill:none\" points=\"\n",
       "  1672.12,1443.32 1672.12,1445.72 1688.83,1445.72 1688.83,1443.32 1672.12,1443.32 \n",
       "  \"/>\n",
       "<path clip-path=\"url(#clip752)\" d=\"\n",
       "M1688.83 1443.15 L1688.83 1445.72 L1705.54 1445.72 L1705.54 1443.15 L1688.83 1443.15 L1688.83 1443.15  Z\n",
       "  \" fill=\"#009af9\" fill-rule=\"evenodd\" fill-opacity=\"1\"/>\n",
       "<polyline clip-path=\"url(#clip752)\" style=\"stroke:#000000; stroke-linecap:butt; stroke-linejoin:round; stroke-width:4; stroke-opacity:1; fill:none\" points=\"\n",
       "  1688.83,1443.15 1688.83,1445.72 1705.54,1445.72 1705.54,1443.15 1688.83,1443.15 \n",
       "  \"/>\n",
       "<path clip-path=\"url(#clip752)\" d=\"\n",
       "M1705.54 1443.5 L1705.54 1445.72 L1722.24 1445.72 L1722.24 1443.5 L1705.54 1443.5 L1705.54 1443.5  Z\n",
       "  \" fill=\"#009af9\" fill-rule=\"evenodd\" fill-opacity=\"1\"/>\n",
       "<polyline clip-path=\"url(#clip752)\" style=\"stroke:#000000; stroke-linecap:butt; stroke-linejoin:round; stroke-width:4; stroke-opacity:1; fill:none\" points=\"\n",
       "  1705.54,1443.5 1705.54,1445.72 1722.24,1445.72 1722.24,1443.5 1705.54,1443.5 \n",
       "  \"/>\n",
       "<path clip-path=\"url(#clip752)\" d=\"\n",
       "M1722.24 1443.98 L1722.24 1445.72 L1738.95 1445.72 L1738.95 1443.98 L1722.24 1443.98 L1722.24 1443.98  Z\n",
       "  \" fill=\"#009af9\" fill-rule=\"evenodd\" fill-opacity=\"1\"/>\n",
       "<polyline clip-path=\"url(#clip752)\" style=\"stroke:#000000; stroke-linecap:butt; stroke-linejoin:round; stroke-width:4; stroke-opacity:1; fill:none\" points=\"\n",
       "  1722.24,1443.98 1722.24,1445.72 1738.95,1445.72 1738.95,1443.98 1722.24,1443.98 \n",
       "  \"/>\n",
       "<path clip-path=\"url(#clip752)\" d=\"\n",
       "M1738.95 1444.28 L1738.95 1445.72 L1755.66 1445.72 L1755.66 1444.28 L1738.95 1444.28 L1738.95 1444.28  Z\n",
       "  \" fill=\"#009af9\" fill-rule=\"evenodd\" fill-opacity=\"1\"/>\n",
       "<polyline clip-path=\"url(#clip752)\" style=\"stroke:#000000; stroke-linecap:butt; stroke-linejoin:round; stroke-width:4; stroke-opacity:1; fill:none\" points=\"\n",
       "  1738.95,1444.28 1738.95,1445.72 1755.66,1445.72 1755.66,1444.28 1738.95,1444.28 \n",
       "  \"/>\n",
       "<path clip-path=\"url(#clip752)\" d=\"\n",
       "M1755.66 1444.52 L1755.66 1445.72 L1772.37 1445.72 L1772.37 1444.52 L1755.66 1444.52 L1755.66 1444.52  Z\n",
       "  \" fill=\"#009af9\" fill-rule=\"evenodd\" fill-opacity=\"1\"/>\n",
       "<polyline clip-path=\"url(#clip752)\" style=\"stroke:#000000; stroke-linecap:butt; stroke-linejoin:round; stroke-width:4; stroke-opacity:1; fill:none\" points=\"\n",
       "  1755.66,1444.52 1755.66,1445.72 1772.37,1445.72 1772.37,1444.52 1755.66,1444.52 \n",
       "  \"/>\n",
       "<path clip-path=\"url(#clip752)\" d=\"\n",
       "M1772.37 1444.46 L1772.37 1445.72 L1789.08 1445.72 L1789.08 1444.46 L1772.37 1444.46 L1772.37 1444.46  Z\n",
       "  \" fill=\"#009af9\" fill-rule=\"evenodd\" fill-opacity=\"1\"/>\n",
       "<polyline clip-path=\"url(#clip752)\" style=\"stroke:#000000; stroke-linecap:butt; stroke-linejoin:round; stroke-width:4; stroke-opacity:1; fill:none\" points=\"\n",
       "  1772.37,1444.46 1772.37,1445.72 1789.08,1445.72 1789.08,1444.46 1772.37,1444.46 \n",
       "  \"/>\n",
       "<path clip-path=\"url(#clip752)\" d=\"\n",
       "M1789.08 1444.16 L1789.08 1445.72 L1805.79 1445.72 L1805.79 1444.16 L1789.08 1444.16 L1789.08 1444.16  Z\n",
       "  \" fill=\"#009af9\" fill-rule=\"evenodd\" fill-opacity=\"1\"/>\n",
       "<polyline clip-path=\"url(#clip752)\" style=\"stroke:#000000; stroke-linecap:butt; stroke-linejoin:round; stroke-width:4; stroke-opacity:1; fill:none\" points=\"\n",
       "  1789.08,1444.16 1789.08,1445.72 1805.79,1445.72 1805.79,1444.16 1789.08,1444.16 \n",
       "  \"/>\n",
       "<path clip-path=\"url(#clip752)\" d=\"\n",
       "M1805.79 1444.4 L1805.79 1445.72 L1822.49 1445.72 L1822.49 1444.4 L1805.79 1444.4 L1805.79 1444.4  Z\n",
       "  \" fill=\"#009af9\" fill-rule=\"evenodd\" fill-opacity=\"1\"/>\n",
       "<polyline clip-path=\"url(#clip752)\" style=\"stroke:#000000; stroke-linecap:butt; stroke-linejoin:round; stroke-width:4; stroke-opacity:1; fill:none\" points=\"\n",
       "  1805.79,1444.4 1805.79,1445.72 1822.49,1445.72 1822.49,1444.4 1805.79,1444.4 \n",
       "  \"/>\n",
       "<path clip-path=\"url(#clip752)\" d=\"\n",
       "M1822.49 1444.22 L1822.49 1445.72 L1839.2 1445.72 L1839.2 1444.22 L1822.49 1444.22 L1822.49 1444.22  Z\n",
       "  \" fill=\"#009af9\" fill-rule=\"evenodd\" fill-opacity=\"1\"/>\n",
       "<polyline clip-path=\"url(#clip752)\" style=\"stroke:#000000; stroke-linecap:butt; stroke-linejoin:round; stroke-width:4; stroke-opacity:1; fill:none\" points=\"\n",
       "  1822.49,1444.22 1822.49,1445.72 1839.2,1445.72 1839.2,1444.22 1822.49,1444.22 \n",
       "  \"/>\n",
       "<path clip-path=\"url(#clip752)\" d=\"\n",
       "M1839.2 1444.82 L1839.2 1445.72 L1855.91 1445.72 L1855.91 1444.82 L1839.2 1444.82 L1839.2 1444.82  Z\n",
       "  \" fill=\"#009af9\" fill-rule=\"evenodd\" fill-opacity=\"1\"/>\n",
       "<polyline clip-path=\"url(#clip752)\" style=\"stroke:#000000; stroke-linecap:butt; stroke-linejoin:round; stroke-width:4; stroke-opacity:1; fill:none\" points=\"\n",
       "  1839.2,1444.82 1839.2,1445.72 1855.91,1445.72 1855.91,1444.82 1839.2,1444.82 \n",
       "  \"/>\n",
       "<path clip-path=\"url(#clip752)\" d=\"\n",
       "M1855.91 1445.06 L1855.91 1445.72 L1872.62 1445.72 L1872.62 1445.06 L1855.91 1445.06 L1855.91 1445.06  Z\n",
       "  \" fill=\"#009af9\" fill-rule=\"evenodd\" fill-opacity=\"1\"/>\n",
       "<polyline clip-path=\"url(#clip752)\" style=\"stroke:#000000; stroke-linecap:butt; stroke-linejoin:round; stroke-width:4; stroke-opacity:1; fill:none\" points=\"\n",
       "  1855.91,1445.06 1855.91,1445.72 1872.62,1445.72 1872.62,1445.06 1855.91,1445.06 \n",
       "  \"/>\n",
       "<path clip-path=\"url(#clip752)\" d=\"\n",
       "M1872.62 1444.64 L1872.62 1445.72 L1889.33 1445.72 L1889.33 1444.64 L1872.62 1444.64 L1872.62 1444.64  Z\n",
       "  \" fill=\"#009af9\" fill-rule=\"evenodd\" fill-opacity=\"1\"/>\n",
       "<polyline clip-path=\"url(#clip752)\" style=\"stroke:#000000; stroke-linecap:butt; stroke-linejoin:round; stroke-width:4; stroke-opacity:1; fill:none\" points=\"\n",
       "  1872.62,1444.64 1872.62,1445.72 1889.33,1445.72 1889.33,1444.64 1872.62,1444.64 \n",
       "  \"/>\n",
       "<path clip-path=\"url(#clip752)\" d=\"\n",
       "M1889.33 1444.88 L1889.33 1445.72 L1906.04 1445.72 L1906.04 1444.88 L1889.33 1444.88 L1889.33 1444.88  Z\n",
       "  \" fill=\"#009af9\" fill-rule=\"evenodd\" fill-opacity=\"1\"/>\n",
       "<polyline clip-path=\"url(#clip752)\" style=\"stroke:#000000; stroke-linecap:butt; stroke-linejoin:round; stroke-width:4; stroke-opacity:1; fill:none\" points=\"\n",
       "  1889.33,1444.88 1889.33,1445.72 1906.04,1445.72 1906.04,1444.88 1889.33,1444.88 \n",
       "  \"/>\n",
       "<path clip-path=\"url(#clip752)\" d=\"\n",
       "M1906.04 1445.48 L1906.04 1445.72 L1922.74 1445.72 L1922.74 1445.48 L1906.04 1445.48 L1906.04 1445.48  Z\n",
       "  \" fill=\"#009af9\" fill-rule=\"evenodd\" fill-opacity=\"1\"/>\n",
       "<polyline clip-path=\"url(#clip752)\" style=\"stroke:#000000; stroke-linecap:butt; stroke-linejoin:round; stroke-width:4; stroke-opacity:1; fill:none\" points=\"\n",
       "  1906.04,1445.48 1906.04,1445.72 1922.74,1445.72 1922.74,1445.48 1906.04,1445.48 \n",
       "  \"/>\n",
       "<path clip-path=\"url(#clip752)\" d=\"\n",
       "M1922.74 1445.06 L1922.74 1445.72 L1939.45 1445.72 L1939.45 1445.06 L1922.74 1445.06 L1922.74 1445.06  Z\n",
       "  \" fill=\"#009af9\" fill-rule=\"evenodd\" fill-opacity=\"1\"/>\n",
       "<polyline clip-path=\"url(#clip752)\" style=\"stroke:#000000; stroke-linecap:butt; stroke-linejoin:round; stroke-width:4; stroke-opacity:1; fill:none\" points=\"\n",
       "  1922.74,1445.06 1922.74,1445.72 1939.45,1445.72 1939.45,1445.06 1922.74,1445.06 \n",
       "  \"/>\n",
       "<path clip-path=\"url(#clip752)\" d=\"\n",
       "M1939.45 1445.48 L1939.45 1445.72 L1956.16 1445.72 L1956.16 1445.48 L1939.45 1445.48 L1939.45 1445.48  Z\n",
       "  \" fill=\"#009af9\" fill-rule=\"evenodd\" fill-opacity=\"1\"/>\n",
       "<polyline clip-path=\"url(#clip752)\" style=\"stroke:#000000; stroke-linecap:butt; stroke-linejoin:round; stroke-width:4; stroke-opacity:1; fill:none\" points=\"\n",
       "  1939.45,1445.48 1939.45,1445.72 1956.16,1445.72 1956.16,1445.48 1939.45,1445.48 \n",
       "  \"/>\n",
       "<path clip-path=\"url(#clip752)\" d=\"\n",
       "M1956.16 1444.94 L1956.16 1445.72 L1972.87 1445.72 L1972.87 1444.94 L1956.16 1444.94 L1956.16 1444.94  Z\n",
       "  \" fill=\"#009af9\" fill-rule=\"evenodd\" fill-opacity=\"1\"/>\n",
       "<polyline clip-path=\"url(#clip752)\" style=\"stroke:#000000; stroke-linecap:butt; stroke-linejoin:round; stroke-width:4; stroke-opacity:1; fill:none\" points=\"\n",
       "  1956.16,1444.94 1956.16,1445.72 1972.87,1445.72 1972.87,1444.94 1956.16,1444.94 \n",
       "  \"/>\n",
       "<path clip-path=\"url(#clip752)\" d=\"\n",
       "M1972.87 1445.24 L1972.87 1445.72 L1989.58 1445.72 L1989.58 1445.24 L1972.87 1445.24 L1972.87 1445.24  Z\n",
       "  \" fill=\"#009af9\" fill-rule=\"evenodd\" fill-opacity=\"1\"/>\n",
       "<polyline clip-path=\"url(#clip752)\" style=\"stroke:#000000; stroke-linecap:butt; stroke-linejoin:round; stroke-width:4; stroke-opacity:1; fill:none\" points=\"\n",
       "  1972.87,1445.24 1972.87,1445.72 1989.58,1445.72 1989.58,1445.24 1972.87,1445.24 \n",
       "  \"/>\n",
       "<path clip-path=\"url(#clip752)\" d=\"\n",
       "M1989.58 1445.72 L1989.58 1445.72 L2006.29 1445.72 L2006.29 1445.72 L1989.58 1445.72 L1989.58 1445.72  Z\n",
       "  \" fill=\"#009af9\" fill-rule=\"evenodd\" fill-opacity=\"1\"/>\n",
       "<polyline clip-path=\"url(#clip752)\" style=\"stroke:#000000; stroke-linecap:butt; stroke-linejoin:round; stroke-width:4; stroke-opacity:1; fill:none\" points=\"\n",
       "  1989.58,1445.72 1989.58,1445.72 2006.29,1445.72 1989.58,1445.72 \n",
       "  \"/>\n",
       "<path clip-path=\"url(#clip752)\" d=\"\n",
       "M2006.29 1445.3 L2006.29 1445.72 L2023 1445.72 L2023 1445.3 L2006.29 1445.3 L2006.29 1445.3  Z\n",
       "  \" fill=\"#009af9\" fill-rule=\"evenodd\" fill-opacity=\"1\"/>\n",
       "<polyline clip-path=\"url(#clip752)\" style=\"stroke:#000000; stroke-linecap:butt; stroke-linejoin:round; stroke-width:4; stroke-opacity:1; fill:none\" points=\"\n",
       "  2006.29,1445.3 2006.29,1445.72 2023,1445.72 2023,1445.3 2006.29,1445.3 \n",
       "  \"/>\n",
       "<path clip-path=\"url(#clip752)\" d=\"\n",
       "M2023 1445.54 L2023 1445.72 L2039.7 1445.72 L2039.7 1445.54 L2023 1445.54 L2023 1445.54  Z\n",
       "  \" fill=\"#009af9\" fill-rule=\"evenodd\" fill-opacity=\"1\"/>\n",
       "<polyline clip-path=\"url(#clip752)\" style=\"stroke:#000000; stroke-linecap:butt; stroke-linejoin:round; stroke-width:4; stroke-opacity:1; fill:none\" points=\"\n",
       "  2023,1445.54 2023,1445.72 2039.7,1445.72 2039.7,1445.54 2023,1445.54 \n",
       "  \"/>\n",
       "<path clip-path=\"url(#clip752)\" d=\"\n",
       "M2039.7 1445.54 L2039.7 1445.72 L2056.41 1445.72 L2056.41 1445.54 L2039.7 1445.54 L2039.7 1445.54  Z\n",
       "  \" fill=\"#009af9\" fill-rule=\"evenodd\" fill-opacity=\"1\"/>\n",
       "<polyline clip-path=\"url(#clip752)\" style=\"stroke:#000000; stroke-linecap:butt; stroke-linejoin:round; stroke-width:4; stroke-opacity:1; fill:none\" points=\"\n",
       "  2039.7,1445.54 2039.7,1445.72 2056.41,1445.72 2056.41,1445.54 2039.7,1445.54 \n",
       "  \"/>\n",
       "<path clip-path=\"url(#clip752)\" d=\"\n",
       "M2056.41 1445.66 L2056.41 1445.72 L2073.12 1445.72 L2073.12 1445.66 L2056.41 1445.66 L2056.41 1445.66  Z\n",
       "  \" fill=\"#009af9\" fill-rule=\"evenodd\" fill-opacity=\"1\"/>\n",
       "<polyline clip-path=\"url(#clip752)\" style=\"stroke:#000000; stroke-linecap:butt; stroke-linejoin:round; stroke-width:4; stroke-opacity:1; fill:none\" points=\"\n",
       "  2056.41,1445.66 2056.41,1445.72 2073.12,1445.72 2073.12,1445.66 2056.41,1445.66 \n",
       "  \"/>\n",
       "<path clip-path=\"url(#clip752)\" d=\"\n",
       "M2073.12 1445.66 L2073.12 1445.72 L2089.83 1445.72 L2089.83 1445.66 L2073.12 1445.66 L2073.12 1445.66  Z\n",
       "  \" fill=\"#009af9\" fill-rule=\"evenodd\" fill-opacity=\"1\"/>\n",
       "<polyline clip-path=\"url(#clip752)\" style=\"stroke:#000000; stroke-linecap:butt; stroke-linejoin:round; stroke-width:4; stroke-opacity:1; fill:none\" points=\"\n",
       "  2073.12,1445.66 2073.12,1445.72 2089.83,1445.72 2089.83,1445.66 2073.12,1445.66 \n",
       "  \"/>\n",
       "<path clip-path=\"url(#clip752)\" d=\"\n",
       "M2089.83 1445.54 L2089.83 1445.72 L2106.54 1445.72 L2106.54 1445.54 L2089.83 1445.54 L2089.83 1445.54  Z\n",
       "  \" fill=\"#009af9\" fill-rule=\"evenodd\" fill-opacity=\"1\"/>\n",
       "<polyline clip-path=\"url(#clip752)\" style=\"stroke:#000000; stroke-linecap:butt; stroke-linejoin:round; stroke-width:4; stroke-opacity:1; fill:none\" points=\"\n",
       "  2089.83,1445.54 2089.83,1445.72 2106.54,1445.72 2106.54,1445.54 2089.83,1445.54 \n",
       "  \"/>\n",
       "<path clip-path=\"url(#clip752)\" d=\"\n",
       "M2106.54 1445.66 L2106.54 1445.72 L2123.25 1445.72 L2123.25 1445.66 L2106.54 1445.66 L2106.54 1445.66  Z\n",
       "  \" fill=\"#009af9\" fill-rule=\"evenodd\" fill-opacity=\"1\"/>\n",
       "<polyline clip-path=\"url(#clip752)\" style=\"stroke:#000000; stroke-linecap:butt; stroke-linejoin:round; stroke-width:4; stroke-opacity:1; fill:none\" points=\"\n",
       "  2106.54,1445.66 2106.54,1445.72 2123.25,1445.72 2123.25,1445.66 2106.54,1445.66 \n",
       "  \"/>\n",
       "<path clip-path=\"url(#clip752)\" d=\"\n",
       "M2123.25 1445.66 L2123.25 1445.72 L2139.95 1445.72 L2139.95 1445.66 L2123.25 1445.66 L2123.25 1445.66  Z\n",
       "  \" fill=\"#009af9\" fill-rule=\"evenodd\" fill-opacity=\"1\"/>\n",
       "<polyline clip-path=\"url(#clip752)\" style=\"stroke:#000000; stroke-linecap:butt; stroke-linejoin:round; stroke-width:4; stroke-opacity:1; fill:none\" points=\"\n",
       "  2123.25,1445.66 2123.25,1445.72 2139.95,1445.72 2139.95,1445.66 2123.25,1445.66 \n",
       "  \"/>\n",
       "<path clip-path=\"url(#clip752)\" d=\"\n",
       "M2139.95 1445.66 L2139.95 1445.72 L2156.66 1445.72 L2156.66 1445.66 L2139.95 1445.66 L2139.95 1445.66  Z\n",
       "  \" fill=\"#009af9\" fill-rule=\"evenodd\" fill-opacity=\"1\"/>\n",
       "<polyline clip-path=\"url(#clip752)\" style=\"stroke:#000000; stroke-linecap:butt; stroke-linejoin:round; stroke-width:4; stroke-opacity:1; fill:none\" points=\"\n",
       "  2139.95,1445.66 2139.95,1445.72 2156.66,1445.72 2156.66,1445.66 2139.95,1445.66 \n",
       "  \"/>\n",
       "<path clip-path=\"url(#clip752)\" d=\"\n",
       "M2156.66 1445.6 L2156.66 1445.72 L2173.37 1445.72 L2173.37 1445.6 L2156.66 1445.6 L2156.66 1445.6  Z\n",
       "  \" fill=\"#009af9\" fill-rule=\"evenodd\" fill-opacity=\"1\"/>\n",
       "<polyline clip-path=\"url(#clip752)\" style=\"stroke:#000000; stroke-linecap:butt; stroke-linejoin:round; stroke-width:4; stroke-opacity:1; fill:none\" points=\"\n",
       "  2156.66,1445.6 2156.66,1445.72 2173.37,1445.72 2173.37,1445.6 2156.66,1445.6 \n",
       "  \"/>\n",
       "<path clip-path=\"url(#clip752)\" d=\"\n",
       "M2173.37 1445.66 L2173.37 1445.72 L2190.08 1445.72 L2190.08 1445.66 L2173.37 1445.66 L2173.37 1445.66  Z\n",
       "  \" fill=\"#009af9\" fill-rule=\"evenodd\" fill-opacity=\"1\"/>\n",
       "<polyline clip-path=\"url(#clip752)\" style=\"stroke:#000000; stroke-linecap:butt; stroke-linejoin:round; stroke-width:4; stroke-opacity:1; fill:none\" points=\"\n",
       "  2173.37,1445.66 2173.37,1445.72 2190.08,1445.72 2190.08,1445.66 2173.37,1445.66 \n",
       "  \"/>\n",
       "<path clip-path=\"url(#clip752)\" d=\"\n",
       "M2190.08 1445.66 L2190.08 1445.72 L2206.79 1445.72 L2206.79 1445.66 L2190.08 1445.66 L2190.08 1445.66  Z\n",
       "  \" fill=\"#009af9\" fill-rule=\"evenodd\" fill-opacity=\"1\"/>\n",
       "<polyline clip-path=\"url(#clip752)\" style=\"stroke:#000000; stroke-linecap:butt; stroke-linejoin:round; stroke-width:4; stroke-opacity:1; fill:none\" points=\"\n",
       "  2190.08,1445.66 2190.08,1445.72 2206.79,1445.72 2206.79,1445.66 2190.08,1445.66 \n",
       "  \"/>\n",
       "<path clip-path=\"url(#clip752)\" d=\"\n",
       "M2206.79 1445.6 L2206.79 1445.72 L2223.5 1445.72 L2223.5 1445.6 L2206.79 1445.6 L2206.79 1445.6  Z\n",
       "  \" fill=\"#009af9\" fill-rule=\"evenodd\" fill-opacity=\"1\"/>\n",
       "<polyline clip-path=\"url(#clip752)\" style=\"stroke:#000000; stroke-linecap:butt; stroke-linejoin:round; stroke-width:4; stroke-opacity:1; fill:none\" points=\"\n",
       "  2206.79,1445.6 2206.79,1445.72 2223.5,1445.72 2223.5,1445.6 2206.79,1445.6 \n",
       "  \"/>\n",
       "<path clip-path=\"url(#clip752)\" d=\"\n",
       "M2223.5 1445.66 L2223.5 1445.72 L2240.2 1445.72 L2240.2 1445.66 L2223.5 1445.66 L2223.5 1445.66  Z\n",
       "  \" fill=\"#009af9\" fill-rule=\"evenodd\" fill-opacity=\"1\"/>\n",
       "<polyline clip-path=\"url(#clip752)\" style=\"stroke:#000000; stroke-linecap:butt; stroke-linejoin:round; stroke-width:4; stroke-opacity:1; fill:none\" points=\"\n",
       "  2223.5,1445.66 2223.5,1445.72 2240.2,1445.72 2240.2,1445.66 2223.5,1445.66 \n",
       "  \"/>\n",
       "</svg>\n"
      ]
     },
     "execution_count": 36,
     "metadata": {},
     "output_type": "execute_result"
    }
   ],
   "source": [
    "using Plots\n",
    "histogram(arr1,legend=false)"
   ]
  },
  {
   "cell_type": "markdown",
   "metadata": {},
   "source": [
    "### Matrices"
   ]
  },
  {
   "cell_type": "code",
   "execution_count": 37,
   "metadata": {},
   "outputs": [
    {
     "name": "stderr",
     "output_type": "stream",
     "text": [
      "WARNING: both GR and StatsPlots export \"heatmap\"; uses of it in module Main must be qualified\n"
     ]
    },
    {
     "ename": "LoadError",
     "evalue": "UndefVarError: heatmap not defined",
     "output_type": "error",
     "traceback": [
      "UndefVarError: heatmap not defined",
      "",
      "Stacktrace:",
      " [1] top-level scope",
      "   @ In[37]:1",
      " [2] eval",
      "   @ ./boot.jl:373 [inlined]",
      " [3] include_string(mapexpr::typeof(REPL.softscope), mod::Module, code::String, filename::String)",
      "   @ Base ./loading.jl:1196"
     ]
    }
   ],
   "source": [
    "using Plots\n",
    "heatmap(rand(300,300),yflip = true)"
   ]
  },
  {
   "cell_type": "code",
   "execution_count": 38,
   "metadata": {},
   "outputs": [
    {
     "data": {
      "text/plain": [
       "10×10 Matrix{Bool}:\n",
       " 0  0  1  0  0  0  0  0  0  0\n",
       " 0  0  0  1  0  0  0  0  0  0\n",
       " 0  0  0  0  1  0  0  0  0  0\n",
       " 0  0  0  0  0  1  0  0  0  0\n",
       " 1  0  0  0  0  0  1  0  0  0\n",
       " 0  1  0  0  0  0  0  1  0  0\n",
       " 0  0  1  0  0  0  0  0  1  0\n",
       " 0  0  0  1  0  0  0  0  0  1\n",
       " 0  0  0  0  1  0  0  0  0  0\n",
       " 0  0  0  0  0  1  0  0  0  0"
      ]
     },
     "execution_count": 38,
     "metadata": {},
     "output_type": "execute_result"
    }
   ],
   "source": [
    "H = [i == j+4 || i == j-2 for i in 1:10, j in 1:10]"
   ]
  },
  {
   "cell_type": "code",
   "execution_count": 39,
   "metadata": {},
   "outputs": [
    {
     "ename": "LoadError",
     "evalue": "UndefVarError: heatmap not defined",
     "output_type": "error",
     "traceback": [
      "UndefVarError: heatmap not defined",
      "",
      "Stacktrace:",
      " [1] top-level scope",
      "   @ In[39]:1",
      " [2] eval",
      "   @ ./boot.jl:373 [inlined]",
      " [3] include_string(mapexpr::typeof(REPL.softscope), mod::Module, code::String, filename::String)",
      "   @ Base ./loading.jl:1196"
     ]
    }
   ],
   "source": [
    "heatmap(H,yflip = true)"
   ]
  },
  {
   "cell_type": "code",
   "execution_count": 40,
   "metadata": {},
   "outputs": [
    {
     "data": {
      "text/plain": [
       "2×2 Matrix{Int64}:\n",
       " 1  2\n",
       " 3  4"
      ]
     },
     "metadata": {},
     "output_type": "display_data"
    },
    {
     "data": {
      "text/plain": [
       "2×2 Matrix{Int64}:\n",
       " -2  3\n",
       "  1  3"
      ]
     },
     "metadata": {},
     "output_type": "display_data"
    },
    {
     "data": {
      "text/plain": [
       "2×3 Matrix{Int64}:\n",
       "  0  1  2\n",
       " -1  1  0"
      ]
     },
     "metadata": {},
     "output_type": "display_data"
    }
   ],
   "source": [
    "A = [1 2; 3 4] #2 by 2 matrix\n",
    "B = [-2 3; 1 3]\n",
    "C = [0 1 2; \n",
    "    -1 1 0]; # 2 by 3 matrix\n",
    "display(A)\n",
    "display(B)\n",
    "display(C)\n"
   ]
  },
  {
   "cell_type": "code",
   "execution_count": 41,
   "metadata": {},
   "outputs": [
    {
     "ename": "LoadError",
     "evalue": "DimensionMismatch(\"dimensions must match: a has dims (Base.OneTo(2), Base.OneTo(2)), b has dims (Base.OneTo(2), Base.OneTo(3)), mismatch at 2\")",
     "output_type": "error",
     "traceback": [
      "DimensionMismatch(\"dimensions must match: a has dims (Base.OneTo(2), Base.OneTo(2)), b has dims (Base.OneTo(2), Base.OneTo(3)), mismatch at 2\")",
      "",
      "Stacktrace:",
      " [1] promote_shape",
      "   @ ./indices.jl:178 [inlined]",
      " [2] promote_shape(a::Matrix{Int64}, b::Matrix{Int64})",
      "   @ Base ./indices.jl:169",
      " [3] +(A::Matrix{Int64}, Bs::Matrix{Int64})",
      "   @ Base ./arraymath.jl:45",
      " [4] top-level scope",
      "   @ In[41]:1",
      " [5] eval",
      "   @ ./boot.jl:373 [inlined]",
      " [6] include_string(mapexpr::typeof(REPL.softscope), mod::Module, code::String, filename::String)",
      "   @ Base ./loading.jl:1196"
     ]
    }
   ],
   "source": [
    "A+C"
   ]
  },
  {
   "cell_type": "code",
   "execution_count": 42,
   "metadata": {},
   "outputs": [
    {
     "data": {
      "text/plain": [
       "2×2 Matrix{Int64}:\n",
       " -1  5\n",
       "  4  7"
      ]
     },
     "execution_count": 42,
     "metadata": {},
     "output_type": "execute_result"
    }
   ],
   "source": [
    "A+B"
   ]
  },
  {
   "cell_type": "code",
   "execution_count": 43,
   "metadata": {},
   "outputs": [
    {
     "data": {
      "text/plain": [
       "2×2 Matrix{Int64}:\n",
       " 3   6\n",
       " 9  12"
      ]
     },
     "execution_count": 43,
     "metadata": {},
     "output_type": "execute_result"
    }
   ],
   "source": [
    "3A"
   ]
  },
  {
   "cell_type": "code",
   "execution_count": 44,
   "metadata": {},
   "outputs": [
    {
     "data": {
      "text/plain": [
       "2×2 Matrix{Int64}:\n",
       " 0   7\n",
       " 7  11"
      ]
     },
     "execution_count": 44,
     "metadata": {},
     "output_type": "execute_result"
    }
   ],
   "source": [
    "2A+B"
   ]
  },
  {
   "cell_type": "code",
   "execution_count": 45,
   "metadata": {},
   "outputs": [
    {
     "ename": "LoadError",
     "evalue": "DimensionMismatch(\"dimensions must match: a has dims (Base.OneTo(2), Base.OneTo(2)), b has dims (Base.OneTo(2), Base.OneTo(3)), mismatch at 2\")",
     "output_type": "error",
     "traceback": [
      "DimensionMismatch(\"dimensions must match: a has dims (Base.OneTo(2), Base.OneTo(2)), b has dims (Base.OneTo(2), Base.OneTo(3)), mismatch at 2\")",
      "",
      "Stacktrace:",
      " [1] promote_shape",
      "   @ ./indices.jl:178 [inlined]",
      " [2] promote_shape(a::Matrix{Int64}, b::Matrix{Int64})",
      "   @ Base ./indices.jl:169",
      " [3] +(A::Matrix{Int64}, Bs::Matrix{Int64})",
      "   @ Base ./arraymath.jl:45",
      " [4] top-level scope",
      "   @ In[45]:1",
      " [5] eval",
      "   @ ./boot.jl:373 [inlined]",
      " [6] include_string(mapexpr::typeof(REPL.softscope), mod::Module, code::String, filename::String)",
      "   @ Base ./loading.jl:1196"
     ]
    }
   ],
   "source": [
    "A+C"
   ]
  },
  {
   "cell_type": "markdown",
   "metadata": {},
   "source": [
    "### Matrix Multiplication"
   ]
  },
  {
   "cell_type": "markdown",
   "metadata": {},
   "source": [
    "Four ways: \n",
    "\n",
    "* Dot product\n",
    "* Cols\n",
    "* Rows\n",
    "* Outer product"
   ]
  },
  {
   "cell_type": "code",
   "execution_count": 46,
   "metadata": {},
   "outputs": [
    {
     "data": {
      "text/plain": [
       "2×2 Matrix{Int64}:\n",
       " 1  2\n",
       " 3  4"
      ]
     },
     "metadata": {},
     "output_type": "display_data"
    },
    {
     "data": {
      "text/plain": [
       "2×2 Matrix{Int64}:\n",
       " -2  3\n",
       "  1  3"
      ]
     },
     "metadata": {},
     "output_type": "display_data"
    }
   ],
   "source": [
    "display(A)\n",
    "display(B)"
   ]
  },
  {
   "cell_type": "code",
   "execution_count": 47,
   "metadata": {},
   "outputs": [
    {
     "data": {
      "text/plain": [
       "9"
      ]
     },
     "execution_count": 47,
     "metadata": {},
     "output_type": "execute_result"
    }
   ],
   "source": [
    "A[1,1]*B[1,2]+A[1,2]*B[2,2]"
   ]
  },
  {
   "cell_type": "markdown",
   "metadata": {},
   "source": [
    "To get to the 9 value in entry 1,2 of the product A,B, I take the inner product of the first row of A and second collumn of B"
   ]
  },
  {
   "cell_type": "code",
   "execution_count": 48,
   "metadata": {},
   "outputs": [
    {
     "data": {
      "text/plain": [
       "2×2 Matrix{Int64}:\n",
       "  0   9\n",
       " -2  21"
      ]
     },
     "execution_count": 48,
     "metadata": {},
     "output_type": "execute_result"
    }
   ],
   "source": [
    "A*B"
   ]
  },
  {
   "cell_type": "code",
   "execution_count": 49,
   "metadata": {},
   "outputs": [
    {
     "data": {
      "text/plain": [
       "2×2 Matrix{Int64}:\n",
       "  7   8\n",
       " 10  14"
      ]
     },
     "execution_count": 49,
     "metadata": {},
     "output_type": "execute_result"
    }
   ],
   "source": [
    "B*A"
   ]
  },
  {
   "cell_type": "markdown",
   "metadata": {},
   "source": [
    "**Matrix multiplication is (generally) not commutative**"
   ]
  },
  {
   "cell_type": "code",
   "execution_count": 50,
   "metadata": {},
   "outputs": [
    {
     "data": {
      "text/plain": [
       "f (generic function with 1 method)"
      ]
     },
     "execution_count": 50,
     "metadata": {},
     "output_type": "execute_result"
    }
   ],
   "source": [
    "f(x) = x^2 #one line function"
   ]
  },
  {
   "cell_type": "code",
   "execution_count": 51,
   "metadata": {},
   "outputs": [
    {
     "data": {
      "text/plain": [
       "16"
      ]
     },
     "execution_count": 51,
     "metadata": {},
     "output_type": "execute_result"
    }
   ],
   "source": [
    "f(-4)"
   ]
  },
  {
   "cell_type": "code",
   "execution_count": 52,
   "metadata": {},
   "outputs": [
    {
     "data": {
      "text/plain": [
       "myMatMult"
      ]
     },
     "execution_count": 52,
     "metadata": {},
     "output_type": "execute_result"
    }
   ],
   "source": [
    "#doc string\n",
    "\"\"\" \n",
    "My own matrix multiplication function \\$A \\\\times B\\$\n",
    "\"\"\"\n",
    "function myMatMult(A,B)\n",
    "    n,m = size(A)\n",
    "    p,q = size(B)\n",
    "    if m != p #check number of col's of A = number of rows of b\n",
    "        @error \"Size mismatch\"\n",
    "    end\n",
    "    C = zeros(n,q)\n",
    "    for i in 1:n\n",
    "        for j in 1:q\n",
    "            C[i,j] = dot(A[i,:],B[:,j]) #dot product of i'th row of A and j'th col of B\n",
    "        end\n",
    "    end\n",
    "    C\n",
    "end"
   ]
  },
  {
   "cell_type": "code",
   "execution_count": 53,
   "metadata": {},
   "outputs": [
    {
     "data": {
      "text/plain": [
       "1×3 Matrix{Int64}:\n",
       " 1  2  3"
      ]
     },
     "execution_count": 53,
     "metadata": {},
     "output_type": "execute_result"
    }
   ],
   "source": [
    "[1 2 3] #1 by 3 matrix (also happens to be a row vector)"
   ]
  },
  {
   "cell_type": "code",
   "execution_count": 54,
   "metadata": {},
   "outputs": [
    {
     "data": {
      "text/plain": [
       "2-element Vector{Int64}:\n",
       " 1\n",
       " 2"
      ]
     },
     "execution_count": 54,
     "metadata": {},
     "output_type": "execute_result"
    }
   ],
   "source": [
    "[1;2] #2 by 1 matrix (also happens to be a col vector)"
   ]
  },
  {
   "cell_type": "code",
   "execution_count": 55,
   "metadata": {},
   "outputs": [
    {
     "data": {
      "text/plain": [
       "((1, 3), (2,))"
      ]
     },
     "execution_count": 55,
     "metadata": {},
     "output_type": "execute_result"
    }
   ],
   "source": [
    "size([1 2 3]),size([1;2])"
   ]
  },
  {
   "cell_type": "code",
   "execution_count": 56,
   "metadata": {},
   "outputs": [
    {
     "data": {
      "text/plain": [
       "2-element Vector{Int64}:\n",
       " 1\n",
       " 2"
      ]
     },
     "execution_count": 56,
     "metadata": {},
     "output_type": "execute_result"
    }
   ],
   "source": [
    "[1 ; 2]"
   ]
  },
  {
   "cell_type": "code",
   "execution_count": 57,
   "metadata": {},
   "outputs": [
    {
     "name": "stderr",
     "output_type": "stream",
     "text": [
      "┌ Error: Size mismatch\n",
      "└ @ Main In[52]:9\n"
     ]
    },
    {
     "ename": "LoadError",
     "evalue": "DimensionMismatch(\"first array has length 3 which does not match the length of the second, 2.\")",
     "output_type": "error",
     "traceback": [
      "DimensionMismatch(\"first array has length 3 which does not match the length of the second, 2.\")",
      "",
      "Stacktrace:",
      " [1] dot(x::Vector{Int64}, y::Vector{Int64})",
      "   @ LinearAlgebra /private/tmp/julia-20210615-80123-ag9qn6/usr/share/julia/stdlib/v1.8/LinearAlgebra/src/generic.jl:910",
      " [2] myMatMult(A::Matrix{Int64}, B::Matrix{Int64})",
      "   @ Main ./In[52]:14",
      " [3] top-level scope",
      "   @ In[57]:1",
      " [4] eval",
      "   @ ./boot.jl:373 [inlined]",
      " [5] include_string(mapexpr::typeof(REPL.softscope), mod::Module, code::String, filename::String)",
      "   @ Base ./loading.jl:1196"
     ]
    }
   ],
   "source": [
    "myMatMult([1 2 3],[1 0; 2 -3]) #attempt to multiply a 3x1 matrix by a 2x2 matrix"
   ]
  },
  {
   "cell_type": "code",
   "execution_count": 58,
   "metadata": {},
   "outputs": [
    {
     "name": "stdout",
     "output_type": "stream",
     "text": [
      "search: \u001b[0m\u001b[1mm\u001b[22m\u001b[0m\u001b[1my\u001b[22m\u001b[0m\u001b[1mM\u001b[22m\u001b[0m\u001b[1ma\u001b[22m\u001b[0m\u001b[1mt\u001b[22m\u001b[0m\u001b[1mM\u001b[22m\u001b[0m\u001b[1mu\u001b[22m\u001b[0m\u001b[1ml\u001b[22m\u001b[0m\u001b[1mt\u001b[22m\n",
      "\n"
     ]
    },
    {
     "data": {
      "text/latex": [
       "My own matrix multiplication function $A \\times B$\n",
       "\n"
      ],
      "text/markdown": [
       "My own matrix multiplication function $A \\times B$\n"
      ],
      "text/plain": [
       "  My own matrix multiplication function \u001b[35mA \\times B\u001b[39m"
      ]
     },
     "execution_count": 58,
     "metadata": {},
     "output_type": "execute_result"
    }
   ],
   "source": [
    "? myMatMult"
   ]
  },
  {
   "cell_type": "code",
   "execution_count": 59,
   "metadata": {},
   "outputs": [
    {
     "data": {
      "text/plain": [
       "2×2 Matrix{Float64}:\n",
       "  0.0   9.0\n",
       " -2.0  21.0"
      ]
     },
     "execution_count": 59,
     "metadata": {},
     "output_type": "execute_result"
    }
   ],
   "source": [
    "myMatMult(A,B)"
   ]
  },
  {
   "cell_type": "markdown",
   "metadata": {},
   "source": [
    "LAPACK (matrix routines)"
   ]
  },
  {
   "cell_type": "code",
   "execution_count": 60,
   "metadata": {},
   "outputs": [
    {
     "name": "stdout",
     "output_type": "stream",
     "text": [
      "  0.915988 seconds (2.37 M allocations: 282.540 MiB, 7.12% gc time, 74.53% compilation time)\n"
     ]
    }
   ],
   "source": [
    "using Random\n",
    "Random.seed!(0)\n",
    "A = rand(100,100)\n",
    "@time begin\n",
    "    for _ in 1:1000\n",
    "        global A = A*rand(100,100)\n",
    "    end\n",
    "end"
   ]
  },
  {
   "cell_type": "code",
   "execution_count": 61,
   "metadata": {},
   "outputs": [
    {
     "name": "stdout",
     "output_type": "stream",
     "text": [
      "  7.380088 seconds (20.22 M allocations: 16.850 GiB, 45.97% gc time, 0.86% compilation time)\n"
     ]
    }
   ],
   "source": [
    "Random.seed!(0)\n",
    "A = rand(100,100)\n",
    "@time begin\n",
    "    for _ in 1:1000\n",
    "        global A = myMatMult(A,rand(100,100))\n",
    "    end\n",
    "end"
   ]
  },
  {
   "cell_type": "code",
   "execution_count": 62,
   "metadata": {},
   "outputs": [
    {
     "data": {
      "text/plain": [
       "2×2 Matrix{Int64}:\n",
       " 10  100\n",
       " 20  200"
      ]
     },
     "execution_count": 62,
     "metadata": {},
     "output_type": "execute_result"
    }
   ],
   "source": [
    "[1,2]*[10,100]' #outer product"
   ]
  },
  {
   "cell_type": "code",
   "execution_count": 63,
   "metadata": {},
   "outputs": [
    {
     "data": {
      "text/plain": [
       "outerProdMatrixProd"
      ]
     },
     "execution_count": 63,
     "metadata": {},
     "output_type": "execute_result"
    }
   ],
   "source": [
    "#doc string\n",
    "\"\"\" \n",
    "Another way to implement (view) the matrix multiplication\n",
    "\"\"\"\n",
    "function outerProdMatrixProd(A,B)\n",
    "    n,m = size(A)\n",
    "    p,q = size(B)\n",
    "    if m != p #check number of col's of A = number of rows of b\n",
    "        @error \"Size mismatch\"\n",
    "    end\n",
    "    C = zeros(n,q)\n",
    "    for k in 1:m\n",
    "        #A[:,k] #k'th col of A\n",
    "        #B[k,:] #k'th row of B\n",
    "        #@show A[:,k]\n",
    "        C += A[:,k]*B[k,:]' #outer product (don't forget the ')\n",
    "    end\n",
    "    C\n",
    "end"
   ]
  },
  {
   "cell_type": "code",
   "execution_count": 64,
   "metadata": {},
   "outputs": [
    {
     "data": {
      "text/plain": [
       "5×3 Matrix{Int64}:\n",
       " 33  33  12\n",
       "  7   7  12\n",
       " 33  12  12\n",
       " 33  12  33\n",
       "  7  33  33"
      ]
     },
     "execution_count": 64,
     "metadata": {},
     "output_type": "execute_result"
    }
   ],
   "source": [
    "A = rand([7,12,33],5,3)"
   ]
  },
  {
   "cell_type": "code",
   "execution_count": 65,
   "metadata": {},
   "outputs": [
    {
     "data": {
      "text/plain": [
       "3×10 Matrix{Int64}:\n",
       " 522  522  24  4  24  522  0  -1    4  23\n",
       "  -1   23   4  4  24    0  0  24   24  23\n",
       "  -1    4   4  0  -1    0  0  -1  522  23"
      ]
     },
     "execution_count": 65,
     "metadata": {},
     "output_type": "execute_result"
    }
   ],
   "source": [
    "B = rand([-1,0,24,23,522,4],3,10)"
   ]
  },
  {
   "cell_type": "code",
   "execution_count": 66,
   "metadata": {},
   "outputs": [
    {
     "data": {
      "text/plain": [
       "5×10 Matrix{Int64}:\n",
       " 17181  18033  972  264  1572  17226  0  747   7188  1794\n",
       "  3635   3863  244   56   324   3654  0  149   6460   598\n",
       " 17202  17550  888  180  1068  17226  0  243   6684  1311\n",
       " 17181  17634  972  180  1047  17226  0  222  17646  1794\n",
       "  3588   4545  432  160   927   3654  0  752  18046  1679"
      ]
     },
     "execution_count": 66,
     "metadata": {},
     "output_type": "execute_result"
    }
   ],
   "source": [
    "A*B"
   ]
  },
  {
   "cell_type": "code",
   "execution_count": 67,
   "metadata": {},
   "outputs": [
    {
     "data": {
      "text/plain": [
       "5×10 Matrix{Float64}:\n",
       " 17181.0  18033.0  972.0  264.0  1572.0  17226.0  0.0  747.0   7188.0  1794.0\n",
       "  3635.0   3863.0  244.0   56.0   324.0   3654.0  0.0  149.0   6460.0   598.0\n",
       " 17202.0  17550.0  888.0  180.0  1068.0  17226.0  0.0  243.0   6684.0  1311.0\n",
       " 17181.0  17634.0  972.0  180.0  1047.0  17226.0  0.0  222.0  17646.0  1794.0\n",
       "  3588.0   4545.0  432.0  160.0   927.0   3654.0  0.0  752.0  18046.0  1679.0"
      ]
     },
     "execution_count": 67,
     "metadata": {},
     "output_type": "execute_result"
    }
   ],
   "source": [
    "outerProdMatrixProd(A,B)"
   ]
  },
  {
   "cell_type": "code",
   "execution_count": 68,
   "metadata": {},
   "outputs": [
    {
     "data": {
      "text/plain": [
       "0.0"
      ]
     },
     "execution_count": 68,
     "metadata": {},
     "output_type": "execute_result"
    }
   ],
   "source": [
    "norm(outerProdMatrixProd(A,B) - A*B) #check these are the same..."
   ]
  },
  {
   "cell_type": "markdown",
   "metadata": {},
   "source": [
    "$$||v||$$\n",
    "\n",
    "$$|v|$$"
   ]
  },
  {
   "cell_type": "markdown",
   "metadata": {},
   "source": [
    "### Matrix multiplication is associative"
   ]
  },
  {
   "cell_type": "code",
   "execution_count": 69,
   "metadata": {},
   "outputs": [
    {
     "data": {
      "text/plain": [
       "2×4 Matrix{Int64}:\n",
       " 10  10  10  10\n",
       " 10  10  10  20"
      ]
     },
     "metadata": {},
     "output_type": "display_data"
    },
    {
     "data": {
      "text/plain": [
       "4×5 Matrix{Int64}:\n",
       " 3  -1  -1   3   3\n",
       " 3  -1   3  -1   3\n",
       " 3  -1   3   3   3\n",
       " 3  -1   3   3  -1"
      ]
     },
     "metadata": {},
     "output_type": "display_data"
    },
    {
     "data": {
      "text/plain": [
       "5×3 Matrix{Int64}:\n",
       " 10  30  10\n",
       " 20  10  30\n",
       " 10  20  20\n",
       " 30  10  20\n",
       " 10  30  20"
      ]
     },
     "metadata": {},
     "output_type": "display_data"
    },
    {
     "data": {
      "text/plain": [
       "2×3 Matrix{Int64}:\n",
       " 4400  8000  4800\n",
       " 5600  9400  5800"
      ]
     },
     "execution_count": 69,
     "metadata": {},
     "output_type": "execute_result"
    }
   ],
   "source": [
    "A = rand([10,20],2,4)\n",
    "display(A)\n",
    "B = rand([-1,3],4,5)\n",
    "display(B)\n",
    "C = rand([10,20,30],5,3)\n",
    "display(C)\n",
    "A*B*C  # or A*(B*C)"
   ]
  },
  {
   "cell_type": "code",
   "execution_count": 70,
   "metadata": {},
   "outputs": [
    {
     "data": {
      "text/plain": [
       "2×3 Matrix{Int64}:\n",
       " 4400  8000  4800\n",
       " 5600  9400  5800"
      ]
     },
     "execution_count": 70,
     "metadata": {},
     "output_type": "execute_result"
    }
   ],
   "source": [
    "(A*B)*C"
   ]
  },
  {
   "cell_type": "code",
   "execution_count": 71,
   "metadata": {},
   "outputs": [
    {
     "data": {
      "text/plain": [
       "2×3 Matrix{Int64}:\n",
       " 4400  8000  4800\n",
       " 5600  9400  5800"
      ]
     },
     "execution_count": 71,
     "metadata": {},
     "output_type": "execute_result"
    }
   ],
   "source": [
    "A*(B*C)"
   ]
  },
  {
   "cell_type": "markdown",
   "metadata": {},
   "source": [
    "### Identity Matrix"
   ]
  },
  {
   "cell_type": "code",
   "execution_count": 72,
   "metadata": {},
   "outputs": [
    {
     "data": {
      "text/plain": [
       "UniformScaling{Bool}\n",
       "true*I"
      ]
     },
     "execution_count": 72,
     "metadata": {},
     "output_type": "execute_result"
    }
   ],
   "source": [
    "using LinearAlgebra\n",
    "I"
   ]
  },
  {
   "cell_type": "code",
   "execution_count": 73,
   "metadata": {},
   "outputs": [
    {
     "data": {
      "text/plain": [
       "2×2 Matrix{Int64}:\n",
       " 1  2\n",
       " 3  4"
      ]
     },
     "execution_count": 73,
     "metadata": {},
     "output_type": "execute_result"
    }
   ],
   "source": [
    "A = [1 2; 3 4] "
   ]
  },
  {
   "cell_type": "code",
   "execution_count": 74,
   "metadata": {},
   "outputs": [
    {
     "data": {
      "text/plain": [
       "2×2 Matrix{Int64}:\n",
       " 1  2\n",
       " 3  4"
      ]
     },
     "execution_count": 74,
     "metadata": {},
     "output_type": "execute_result"
    }
   ],
   "source": [
    "A*I"
   ]
  },
  {
   "cell_type": "code",
   "execution_count": 75,
   "metadata": {},
   "outputs": [
    {
     "ename": "LoadError",
     "evalue": "syntax: incomplete: unterminated multi-line comment #= ... =#",
     "output_type": "error",
     "traceback": [
      "syntax: incomplete: unterminated multi-line comment #= ... =#",
      "",
      "Stacktrace:",
      " [1] top-level scope",
      "   @ In[75]:1",
      " [2] eval",
      "   @ ./boot.jl:373 [inlined]",
      " [3] include_string(mapexpr::typeof(REPL.softscope), mod::Module, code::String, filename::String)",
      "   @ Base ./loading.jl:1196"
     ]
    }
   ],
   "source": [
    "A*I .== A   #== comparison operator and \".\" does it element wise"
   ]
  },
  {
   "cell_type": "code",
   "execution_count": 76,
   "metadata": {},
   "outputs": [
    {
     "data": {
      "text/plain": [
       "2×2 Matrix{Int64}:\n",
       " 1  2\n",
       " 3  4"
      ]
     },
     "execution_count": 76,
     "metadata": {},
     "output_type": "execute_result"
    }
   ],
   "source": [
    "I*A"
   ]
  },
  {
   "cell_type": "code",
   "execution_count": 77,
   "metadata": {},
   "outputs": [
    {
     "data": {
      "text/plain": [
       "3-element Vector{Float64}:\n",
       " 1.0\n",
       " 1.0\n",
       " 1.0"
      ]
     },
     "execution_count": 77,
     "metadata": {},
     "output_type": "execute_result"
    }
   ],
   "source": [
    "ones(3)"
   ]
  },
  {
   "cell_type": "code",
   "execution_count": 78,
   "metadata": {},
   "outputs": [
    {
     "data": {
      "text/plain": [
       "2×2 Diagonal{Float64, Vector{Float64}}:\n",
       " 1.0   ⋅ \n",
       "  ⋅   1.0"
      ]
     },
     "execution_count": 78,
     "metadata": {},
     "output_type": "execute_result"
    }
   ],
   "source": [
    "myI = Diagonal(ones(2))  #constructors are typically first letter cap"
   ]
  },
  {
   "cell_type": "code",
   "execution_count": 79,
   "metadata": {},
   "outputs": [
    {
     "name": "stdout",
     "output_type": "stream",
     "text": [
      "search: \u001b[0m\u001b[1mD\u001b[22m\u001b[0m\u001b[1mi\u001b[22m\u001b[0m\u001b[1ma\u001b[22m\u001b[0m\u001b[1mg\u001b[22m\u001b[0m\u001b[1mo\u001b[22m\u001b[0m\u001b[1mn\u001b[22m\u001b[0m\u001b[1ma\u001b[22m\u001b[0m\u001b[1ml\u001b[22m Bi\u001b[0m\u001b[1md\u001b[22m\u001b[0m\u001b[1mi\u001b[22m\u001b[0m\u001b[1ma\u001b[22m\u001b[0m\u001b[1mg\u001b[22m\u001b[0m\u001b[1mo\u001b[22m\u001b[0m\u001b[1mn\u001b[22m\u001b[0m\u001b[1ma\u001b[22m\u001b[0m\u001b[1ml\u001b[22m Tri\u001b[0m\u001b[1md\u001b[22m\u001b[0m\u001b[1mi\u001b[22m\u001b[0m\u001b[1ma\u001b[22m\u001b[0m\u001b[1mg\u001b[22m\u001b[0m\u001b[1mo\u001b[22m\u001b[0m\u001b[1mn\u001b[22m\u001b[0m\u001b[1ma\u001b[22m\u001b[0m\u001b[1ml\u001b[22m SymTri\u001b[0m\u001b[1md\u001b[22m\u001b[0m\u001b[1mi\u001b[22m\u001b[0m\u001b[1ma\u001b[22m\u001b[0m\u001b[1mg\u001b[22m\u001b[0m\u001b[1mo\u001b[22m\u001b[0m\u001b[1mn\u001b[22m\u001b[0m\u001b[1ma\u001b[22m\u001b[0m\u001b[1ml\u001b[22m\n",
      "\n"
     ]
    },
    {
     "data": {
      "text/latex": [
       "\\begin{verbatim}\n",
       "Diagonal(V::AbstractVector)\n",
       "\\end{verbatim}\n",
       "Construct a matrix with \\texttt{V} as its diagonal.\n",
       "\n",
       "See also \\href{@ref}{\\texttt{diag}}, \\href{@ref}{\\texttt{diagm}}.\n",
       "\n",
       "\\section{Examples}\n",
       "\\begin{verbatim}\n",
       "julia> Diagonal([1, 10, 100])\n",
       "3×3 Diagonal{Int64, Vector{Int64}}:\n",
       " 1   ⋅    ⋅\n",
       " ⋅  10    ⋅\n",
       " ⋅   ⋅  100\n",
       "\n",
       "julia> diagm([7, 13])\n",
       "2×2 Matrix{Int64}:\n",
       " 7   0\n",
       " 0  13\n",
       "\\end{verbatim}\n",
       "\\rule{\\textwidth}{1pt}\n",
       "\\begin{verbatim}\n",
       "Diagonal(A::AbstractMatrix)\n",
       "\\end{verbatim}\n",
       "Construct a matrix from the diagonal of \\texttt{A}.\n",
       "\n",
       "\\section{Examples}\n",
       "\\begin{verbatim}\n",
       "julia> A = permutedims(reshape(1:15, 5, 3))\n",
       "3×5 Matrix{Int64}:\n",
       "  1   2   3   4   5\n",
       "  6   7   8   9  10\n",
       " 11  12  13  14  15\n",
       "\n",
       "julia> Diagonal(A)\n",
       "3×3 Diagonal{Int64, Vector{Int64}}:\n",
       " 1  ⋅   ⋅\n",
       " ⋅  7   ⋅\n",
       " ⋅  ⋅  13\n",
       "\n",
       "julia> diag(A, 2)\n",
       "3-element Vector{Int64}:\n",
       "  3\n",
       "  9\n",
       " 15\n",
       "\\end{verbatim}\n",
       "\\rule{\\textwidth}{1pt}\n",
       "\\begin{verbatim}\n",
       "Diagonal{T}(undef, n)\n",
       "\\end{verbatim}\n",
       "Construct an uninitialized \\texttt{Diagonal\\{T\\}} of length \\texttt{n}. See \\texttt{undef}.\n",
       "\n"
      ],
      "text/markdown": [
       "```\n",
       "Diagonal(V::AbstractVector)\n",
       "```\n",
       "\n",
       "Construct a matrix with `V` as its diagonal.\n",
       "\n",
       "See also [`diag`](@ref), [`diagm`](@ref).\n",
       "\n",
       "# Examples\n",
       "\n",
       "```jldoctest\n",
       "julia> Diagonal([1, 10, 100])\n",
       "3×3 Diagonal{Int64, Vector{Int64}}:\n",
       " 1   ⋅    ⋅\n",
       " ⋅  10    ⋅\n",
       " ⋅   ⋅  100\n",
       "\n",
       "julia> diagm([7, 13])\n",
       "2×2 Matrix{Int64}:\n",
       " 7   0\n",
       " 0  13\n",
       "```\n",
       "\n",
       "---\n",
       "\n",
       "```\n",
       "Diagonal(A::AbstractMatrix)\n",
       "```\n",
       "\n",
       "Construct a matrix from the diagonal of `A`.\n",
       "\n",
       "# Examples\n",
       "\n",
       "```jldoctest\n",
       "julia> A = permutedims(reshape(1:15, 5, 3))\n",
       "3×5 Matrix{Int64}:\n",
       "  1   2   3   4   5\n",
       "  6   7   8   9  10\n",
       " 11  12  13  14  15\n",
       "\n",
       "julia> Diagonal(A)\n",
       "3×3 Diagonal{Int64, Vector{Int64}}:\n",
       " 1  ⋅   ⋅\n",
       " ⋅  7   ⋅\n",
       " ⋅  ⋅  13\n",
       "\n",
       "julia> diag(A, 2)\n",
       "3-element Vector{Int64}:\n",
       "  3\n",
       "  9\n",
       " 15\n",
       "```\n",
       "\n",
       "---\n",
       "\n",
       "```\n",
       "Diagonal{T}(undef, n)\n",
       "```\n",
       "\n",
       "Construct an uninitialized `Diagonal{T}` of length `n`. See `undef`.\n"
      ],
      "text/plain": [
       "\u001b[36m  Diagonal(V::AbstractVector)\u001b[39m\n",
       "\n",
       "  Construct a matrix with \u001b[36mV\u001b[39m as its diagonal.\n",
       "\n",
       "  See also \u001b[36mdiag\u001b[39m, \u001b[36mdiagm\u001b[39m.\n",
       "\n",
       "\u001b[1m  Examples\u001b[22m\n",
       "\u001b[1m  ≡≡≡≡≡≡≡≡≡≡\u001b[22m\n",
       "\n",
       "\u001b[36m  julia> Diagonal([1, 10, 100])\u001b[39m\n",
       "\u001b[36m  3×3 Diagonal{Int64, Vector{Int64}}:\u001b[39m\n",
       "\u001b[36m   1   ⋅    ⋅\u001b[39m\n",
       "\u001b[36m   ⋅  10    ⋅\u001b[39m\n",
       "\u001b[36m   ⋅   ⋅  100\u001b[39m\n",
       "\u001b[36m  \u001b[39m\n",
       "\u001b[36m  julia> diagm([7, 13])\u001b[39m\n",
       "\u001b[36m  2×2 Matrix{Int64}:\u001b[39m\n",
       "\u001b[36m   7   0\u001b[39m\n",
       "\u001b[36m   0  13\u001b[39m\n",
       "\n",
       "  ────────────────────────────────────────────────────────────────────────────\n",
       "\n",
       "\u001b[36m  Diagonal(A::AbstractMatrix)\u001b[39m\n",
       "\n",
       "  Construct a matrix from the diagonal of \u001b[36mA\u001b[39m.\n",
       "\n",
       "\u001b[1m  Examples\u001b[22m\n",
       "\u001b[1m  ≡≡≡≡≡≡≡≡≡≡\u001b[22m\n",
       "\n",
       "\u001b[36m  julia> A = permutedims(reshape(1:15, 5, 3))\u001b[39m\n",
       "\u001b[36m  3×5 Matrix{Int64}:\u001b[39m\n",
       "\u001b[36m    1   2   3   4   5\u001b[39m\n",
       "\u001b[36m    6   7   8   9  10\u001b[39m\n",
       "\u001b[36m   11  12  13  14  15\u001b[39m\n",
       "\u001b[36m  \u001b[39m\n",
       "\u001b[36m  julia> Diagonal(A)\u001b[39m\n",
       "\u001b[36m  3×3 Diagonal{Int64, Vector{Int64}}:\u001b[39m\n",
       "\u001b[36m   1  ⋅   ⋅\u001b[39m\n",
       "\u001b[36m   ⋅  7   ⋅\u001b[39m\n",
       "\u001b[36m   ⋅  ⋅  13\u001b[39m\n",
       "\u001b[36m  \u001b[39m\n",
       "\u001b[36m  julia> diag(A, 2)\u001b[39m\n",
       "\u001b[36m  3-element Vector{Int64}:\u001b[39m\n",
       "\u001b[36m    3\u001b[39m\n",
       "\u001b[36m    9\u001b[39m\n",
       "\u001b[36m   15\u001b[39m\n",
       "\n",
       "  ────────────────────────────────────────────────────────────────────────────\n",
       "\n",
       "\u001b[36m  Diagonal{T}(undef, n)\u001b[39m\n",
       "\n",
       "  Construct an uninitialized \u001b[36mDiagonal{T}\u001b[39m of length \u001b[36mn\u001b[39m. See \u001b[36mundef\u001b[39m."
      ]
     },
     "execution_count": 79,
     "metadata": {},
     "output_type": "execute_result"
    }
   ],
   "source": [
    "? Diagonal"
   ]
  },
  {
   "cell_type": "code",
   "execution_count": 80,
   "metadata": {},
   "outputs": [
    {
     "data": {
      "text/plain": [
       "2×2 Diagonal{Float64, Vector{Float64}}:\n",
       " 1.0   ⋅ \n",
       "  ⋅   1.0"
      ]
     },
     "execution_count": 80,
     "metadata": {},
     "output_type": "execute_result"
    }
   ],
   "source": [
    "myI"
   ]
  },
  {
   "cell_type": "code",
   "execution_count": 81,
   "metadata": {},
   "outputs": [
    {
     "data": {
      "text/plain": [
       "3×3 Matrix{Int64}:\n",
       " 1  2  3\n",
       " 4  5  6\n",
       " 7  8  9"
      ]
     },
     "execution_count": 81,
     "metadata": {},
     "output_type": "execute_result"
    }
   ],
   "source": [
    "A = [1 2 3; 4 5 6; 7 8 9]"
   ]
  },
  {
   "cell_type": "code",
   "execution_count": 82,
   "metadata": {},
   "outputs": [
    {
     "data": {
      "text/plain": [
       "15"
      ]
     },
     "execution_count": 82,
     "metadata": {},
     "output_type": "execute_result"
    }
   ],
   "source": [
    "sum(diag(A)) #1 + 5 +9"
   ]
  },
  {
   "cell_type": "code",
   "execution_count": 83,
   "metadata": {},
   "outputs": [
    {
     "data": {
      "text/plain": [
       "15"
      ]
     },
     "execution_count": 83,
     "metadata": {},
     "output_type": "execute_result"
    }
   ],
   "source": [
    "tr(A)  #trace of a (square) matrix is the sum of the diagonals "
   ]
  },
  {
   "cell_type": "code",
   "execution_count": 84,
   "metadata": {},
   "outputs": [
    {
     "data": {
      "text/plain": [
       "2-element Vector{Float64}:\n",
       " 1.0\n",
       " 1.0"
      ]
     },
     "execution_count": 84,
     "metadata": {},
     "output_type": "execute_result"
    }
   ],
   "source": [
    "diag(myI)"
   ]
  },
  {
   "cell_type": "code",
   "execution_count": 85,
   "metadata": {},
   "outputs": [
    {
     "data": {
      "text/plain": [
       "4×4 Matrix{Int64}:\n",
       " 0  5  0  0\n",
       " 2  0  7  0\n",
       " 0  3  0  0\n",
       " 0  0  4  0"
      ]
     },
     "execution_count": 85,
     "metadata": {},
     "output_type": "execute_result"
    }
   ],
   "source": [
    "diagm(1=>[5,7], -1=>[2,3,4]) #construct a `banded' matrix"
   ]
  },
  {
   "cell_type": "markdown",
   "metadata": {},
   "source": [
    "### Inverses"
   ]
  },
  {
   "cell_type": "markdown",
   "metadata": {},
   "source": [
    "$$A^{-1} A = I, \n",
    "\\qquad\n",
    "A A^{-1} = I$$"
   ]
  },
  {
   "cell_type": "markdown",
   "metadata": {},
   "source": [
    "never write \n",
    "$$\n",
    "\\frac{1}{A}\n",
    "$$\n",
    "when $A$ is a matrix.\n",
    "\n",
    "$$\n",
    "\\frac{B}{A}\n",
    "$$\n",
    "do I mean $B^{-1} A$ or $A B^{-1}$???? NEVER write that."
   ]
  },
  {
   "cell_type": "code",
   "execution_count": 86,
   "metadata": {},
   "outputs": [
    {
     "data": {
      "text/plain": [
       "Inf"
      ]
     },
     "execution_count": 86,
     "metadata": {},
     "output_type": "execute_result"
    }
   ],
   "source": [
    "1/0 #not good   1/x "
   ]
  },
  {
   "cell_type": "code",
   "execution_count": 87,
   "metadata": {},
   "outputs": [
    {
     "data": {
      "text/plain": [
       "2×2 Matrix{Int64}:\n",
       " 1  2\n",
       " 3  4"
      ]
     },
     "execution_count": 87,
     "metadata": {},
     "output_type": "execute_result"
    }
   ],
   "source": [
    "A = [1 2; 3 4]"
   ]
  },
  {
   "cell_type": "code",
   "execution_count": 88,
   "metadata": {},
   "outputs": [
    {
     "name": "stdout",
     "output_type": "stream",
     "text": [
      "search: \u001b[0m\u001b[1mi\u001b[22m\u001b[0m\u001b[1mn\u001b[22m\u001b[0m\u001b[1mv\u001b[22m \u001b[0m\u001b[1mi\u001b[22m\u001b[0m\u001b[1mn\u001b[22m\u001b[0m\u001b[1mv\u001b[22moke \u001b[0m\u001b[1mi\u001b[22m\u001b[0m\u001b[1mn\u001b[22m\u001b[0m\u001b[1mv\u001b[22mmod \u001b[0m\u001b[1mi\u001b[22m\u001b[0m\u001b[1mn\u001b[22m\u001b[0m\u001b[1mv\u001b[22mperm \u001b[0m\u001b[1mi\u001b[22m\u001b[0m\u001b[1mn\u001b[22m\u001b[0m\u001b[1mv\u001b[22misible \u001b[0m\u001b[1mi\u001b[22m\u001b[0m\u001b[1mn\u001b[22m\u001b[0m\u001b[1mv\u001b[22mpermute! \u001b[0m\u001b[1mI\u001b[22m\u001b[0m\u001b[1mn\u001b[22m\u001b[0m\u001b[1mv\u001b[22malidStateException\n",
      "\n"
     ]
    },
    {
     "data": {
      "text/latex": [
       "\\begin{verbatim}\n",
       "inv(x)\n",
       "\\end{verbatim}\n",
       "Return the multiplicative inverse of \\texttt{x}, such that \\texttt{x*inv(x)} or \\texttt{inv(x)*x} yields \\href{@ref}{\\texttt{one(x)}} (the multiplicative identity) up to roundoff errors.\n",
       "\n",
       "If \\texttt{x} is a number, this is essentially the same as \\texttt{one(x)/x}, but for some types \\texttt{inv(x)} may be slightly more efficient.\n",
       "\n",
       "\\section{Examples}\n",
       "\\begin{verbatim}\n",
       "julia> inv(2)\n",
       "0.5\n",
       "\n",
       "julia> inv(1 + 2im)\n",
       "0.2 - 0.4im\n",
       "\n",
       "julia> inv(1 + 2im) * (1 + 2im)\n",
       "1.0 + 0.0im\n",
       "\n",
       "julia> inv(2//3)\n",
       "3//2\n",
       "\\end{verbatim}\n",
       "\\begin{quote}\n",
       "\\textbf{compat}\n",
       "\n",
       "Julia 1.2\n",
       "\n",
       "\\texttt{inv(::Missing)} requires at least Julia 1.2.\n",
       "\n",
       "\\end{quote}\n",
       "\\rule{\\textwidth}{1pt}\n",
       "\\begin{verbatim}\n",
       "inv(M)\n",
       "\\end{verbatim}\n",
       "Matrix inverse. Computes matrix \\texttt{N} such that \\texttt{M * N = I}, where \\texttt{I} is the identity matrix. Computed by solving the left-division \\texttt{N = M {\\textbackslash} I}.\n",
       "\n",
       "\\section{Examples}\n",
       "\\begin{verbatim}\n",
       "julia> M = [2 5; 1 3]\n",
       "2×2 Matrix{Int64}:\n",
       " 2  5\n",
       " 1  3\n",
       "\n",
       "julia> N = inv(M)\n",
       "2×2 Matrix{Float64}:\n",
       "  3.0  -5.0\n",
       " -1.0   2.0\n",
       "\n",
       "julia> M*N == N*M == Matrix(I, 2, 2)\n",
       "true\n",
       "\\end{verbatim}\n",
       "\\rule{\\textwidth}{1pt}\n",
       "\\begin{verbatim}\n",
       "inv(d::MatrixDistribution)\n",
       "\\end{verbatim}\n",
       "If known, returns a \\texttt{MatrixDistribution} instance representing the distribution of inv(X), where X is a random matrix with distribution \\texttt{d}.\n",
       "\n"
      ],
      "text/markdown": [
       "```\n",
       "inv(x)\n",
       "```\n",
       "\n",
       "Return the multiplicative inverse of `x`, such that `x*inv(x)` or `inv(x)*x` yields [`one(x)`](@ref) (the multiplicative identity) up to roundoff errors.\n",
       "\n",
       "If `x` is a number, this is essentially the same as `one(x)/x`, but for some types `inv(x)` may be slightly more efficient.\n",
       "\n",
       "# Examples\n",
       "\n",
       "```jldoctest\n",
       "julia> inv(2)\n",
       "0.5\n",
       "\n",
       "julia> inv(1 + 2im)\n",
       "0.2 - 0.4im\n",
       "\n",
       "julia> inv(1 + 2im) * (1 + 2im)\n",
       "1.0 + 0.0im\n",
       "\n",
       "julia> inv(2//3)\n",
       "3//2\n",
       "```\n",
       "\n",
       "!!! compat \"Julia 1.2\"\n",
       "    `inv(::Missing)` requires at least Julia 1.2.\n",
       "\n",
       "\n",
       "---\n",
       "\n",
       "```\n",
       "inv(M)\n",
       "```\n",
       "\n",
       "Matrix inverse. Computes matrix `N` such that `M * N = I`, where `I` is the identity matrix. Computed by solving the left-division `N = M \\ I`.\n",
       "\n",
       "# Examples\n",
       "\n",
       "```jldoctest\n",
       "julia> M = [2 5; 1 3]\n",
       "2×2 Matrix{Int64}:\n",
       " 2  5\n",
       " 1  3\n",
       "\n",
       "julia> N = inv(M)\n",
       "2×2 Matrix{Float64}:\n",
       "  3.0  -5.0\n",
       " -1.0   2.0\n",
       "\n",
       "julia> M*N == N*M == Matrix(I, 2, 2)\n",
       "true\n",
       "```\n",
       "\n",
       "---\n",
       "\n",
       "```\n",
       "inv(d::MatrixDistribution)\n",
       "```\n",
       "\n",
       "If known, returns a `MatrixDistribution` instance representing the distribution of inv(X), where X is a random matrix with distribution `d`.\n"
      ],
      "text/plain": [
       "\u001b[36m  inv(x)\u001b[39m\n",
       "\n",
       "  Return the multiplicative inverse of \u001b[36mx\u001b[39m, such that \u001b[36mx*inv(x)\u001b[39m or \u001b[36minv(x)*x\u001b[39m\n",
       "  yields \u001b[36mone(x)\u001b[39m (the multiplicative identity) up to roundoff errors.\n",
       "\n",
       "  If \u001b[36mx\u001b[39m is a number, this is essentially the same as \u001b[36mone(x)/x\u001b[39m, but for some\n",
       "  types \u001b[36minv(x)\u001b[39m may be slightly more efficient.\n",
       "\n",
       "\u001b[1m  Examples\u001b[22m\n",
       "\u001b[1m  ≡≡≡≡≡≡≡≡≡≡\u001b[22m\n",
       "\n",
       "\u001b[36m  julia> inv(2)\u001b[39m\n",
       "\u001b[36m  0.5\u001b[39m\n",
       "\u001b[36m  \u001b[39m\n",
       "\u001b[36m  julia> inv(1 + 2im)\u001b[39m\n",
       "\u001b[36m  0.2 - 0.4im\u001b[39m\n",
       "\u001b[36m  \u001b[39m\n",
       "\u001b[36m  julia> inv(1 + 2im) * (1 + 2im)\u001b[39m\n",
       "\u001b[36m  1.0 + 0.0im\u001b[39m\n",
       "\u001b[36m  \u001b[39m\n",
       "\u001b[36m  julia> inv(2//3)\u001b[39m\n",
       "\u001b[36m  3//2\u001b[39m\n",
       "\n",
       "\u001b[39m\u001b[1m  │ \u001b[22m\u001b[39m\u001b[1mJulia 1.2\u001b[22m\n",
       "\u001b[39m\u001b[1m  │\u001b[22m\n",
       "\u001b[39m\u001b[1m  │\u001b[22m  \u001b[36minv(::Missing)\u001b[39m requires at least Julia 1.2.\n",
       "\n",
       "  ────────────────────────────────────────────────────────────────────────────\n",
       "\n",
       "\u001b[36m  inv(M)\u001b[39m\n",
       "\n",
       "  Matrix inverse. Computes matrix \u001b[36mN\u001b[39m such that \u001b[36mM * N = I\u001b[39m, where \u001b[36mI\u001b[39m is the\n",
       "  identity matrix. Computed by solving the left-division \u001b[36mN = M \\ I\u001b[39m.\n",
       "\n",
       "\u001b[1m  Examples\u001b[22m\n",
       "\u001b[1m  ≡≡≡≡≡≡≡≡≡≡\u001b[22m\n",
       "\n",
       "\u001b[36m  julia> M = [2 5; 1 3]\u001b[39m\n",
       "\u001b[36m  2×2 Matrix{Int64}:\u001b[39m\n",
       "\u001b[36m   2  5\u001b[39m\n",
       "\u001b[36m   1  3\u001b[39m\n",
       "\u001b[36m  \u001b[39m\n",
       "\u001b[36m  julia> N = inv(M)\u001b[39m\n",
       "\u001b[36m  2×2 Matrix{Float64}:\u001b[39m\n",
       "\u001b[36m    3.0  -5.0\u001b[39m\n",
       "\u001b[36m   -1.0   2.0\u001b[39m\n",
       "\u001b[36m  \u001b[39m\n",
       "\u001b[36m  julia> M*N == N*M == Matrix(I, 2, 2)\u001b[39m\n",
       "\u001b[36m  true\u001b[39m\n",
       "\n",
       "  ────────────────────────────────────────────────────────────────────────────\n",
       "\n",
       "\u001b[36m  inv(d::MatrixDistribution)\u001b[39m\n",
       "\n",
       "  If known, returns a \u001b[36mMatrixDistribution\u001b[39m instance representing the\n",
       "  distribution of inv(X), where X is a random matrix with distribution \u001b[36md\u001b[39m."
      ]
     },
     "execution_count": 88,
     "metadata": {},
     "output_type": "execute_result"
    }
   ],
   "source": [
    "? inv"
   ]
  },
  {
   "cell_type": "code",
   "execution_count": 89,
   "metadata": {},
   "outputs": [
    {
     "data": {
      "text/plain": [
       "2×2 Matrix{Float64}:\n",
       " -2.0   1.0\n",
       "  1.5  -0.5"
      ]
     },
     "execution_count": 89,
     "metadata": {},
     "output_type": "execute_result"
    }
   ],
   "source": [
    "Ai = inv(A)"
   ]
  },
  {
   "cell_type": "code",
   "execution_count": 90,
   "metadata": {},
   "outputs": [
    {
     "data": {
      "text/plain": [
       "2×2 Matrix{Float64}:\n",
       " 1.0          0.0\n",
       " 2.22045e-16  1.0"
      ]
     },
     "execution_count": 90,
     "metadata": {},
     "output_type": "execute_result"
    }
   ],
   "source": [
    "Ai*A"
   ]
  },
  {
   "cell_type": "code",
   "execution_count": 91,
   "metadata": {},
   "outputs": [
    {
     "data": {
      "text/plain": [
       "2×2 Matrix{Float64}:\n",
       " 1.0          0.0\n",
       " 8.88178e-16  1.0"
      ]
     },
     "execution_count": 91,
     "metadata": {},
     "output_type": "execute_result"
    }
   ],
   "source": [
    "A*Ai"
   ]
  },
  {
   "cell_type": "markdown",
   "metadata": {},
   "source": [
    "**Claim:** Suppose $BA = I$ and also $AC = I$. Then $B=C$."
   ]
  },
  {
   "cell_type": "markdown",
   "metadata": {},
   "source": [
    "proof?"
   ]
  },
  {
   "cell_type": "markdown",
   "metadata": {},
   "source": [
    "**Claim:** If $A$ and $B$ are invertible then so is $AB$ with inverse:\n",
    "$$\n",
    "(AB)^{-1} = B^{-1}A^{-1}\n",
    "$$"
   ]
  },
  {
   "cell_type": "code",
   "execution_count": 92,
   "metadata": {},
   "outputs": [
    {
     "data": {
      "text/plain": [
       "2×2 Matrix{Float64}:\n",
       "  12.5   -5.5\n",
       " -10.75   4.75"
      ]
     },
     "execution_count": 92,
     "metadata": {},
     "output_type": "execute_result"
    }
   ],
   "source": [
    "A = [1 2; 3 4];\n",
    "B = [5 6; 7 8]\n",
    "inv(A*B)"
   ]
  },
  {
   "cell_type": "code",
   "execution_count": 93,
   "metadata": {},
   "outputs": [
    {
     "data": {
      "text/plain": [
       "2×2 Matrix{Float64}:\n",
       "  12.5   -5.5\n",
       " -10.75   4.75"
      ]
     },
     "execution_count": 93,
     "metadata": {},
     "output_type": "execute_result"
    }
   ],
   "source": [
    "inv(B)*inv(A)"
   ]
  },
  {
   "cell_type": "code",
   "execution_count": 94,
   "metadata": {},
   "outputs": [
    {
     "data": {
      "text/plain": [
       "2×2 Matrix{Float64}:\n",
       " 11.5   -8.5\n",
       " -7.75   5.75"
      ]
     },
     "execution_count": 94,
     "metadata": {},
     "output_type": "execute_result"
    }
   ],
   "source": [
    "inv(A)*inv(B) #something different"
   ]
  },
  {
   "cell_type": "markdown",
   "metadata": {},
   "source": [
    "### Transpose"
   ]
  },
  {
   "cell_type": "code",
   "execution_count": 95,
   "metadata": {},
   "outputs": [
    {
     "data": {
      "text/plain": [
       "3×3 Matrix{Int64}:\n",
       " 1  2  3\n",
       " 4  5  6\n",
       " 7  8  9"
      ]
     },
     "execution_count": 95,
     "metadata": {},
     "output_type": "execute_result"
    }
   ],
   "source": [
    "A = [j+3(i-1) for i in 1:3, j in 1:3] #i is rows and j is cols"
   ]
  },
  {
   "cell_type": "code",
   "execution_count": 96,
   "metadata": {},
   "outputs": [
    {
     "data": {
      "text/plain": [
       "1:9"
      ]
     },
     "execution_count": 96,
     "metadata": {},
     "output_type": "execute_result"
    }
   ],
   "source": [
    "1:9"
   ]
  },
  {
   "cell_type": "code",
   "execution_count": 97,
   "metadata": {},
   "outputs": [
    {
     "data": {
      "text/plain": [
       "UnitRange{Int64}"
      ]
     },
     "execution_count": 97,
     "metadata": {},
     "output_type": "execute_result"
    }
   ],
   "source": [
    "typeof(1:9)"
   ]
  },
  {
   "cell_type": "code",
   "execution_count": 98,
   "metadata": {},
   "outputs": [
    {
     "data": {
      "text/plain": [
       "9-element Vector{Int64}:\n",
       " 1\n",
       " 2\n",
       " 3\n",
       " 4\n",
       " 5\n",
       " 6\n",
       " 7\n",
       " 8\n",
       " 9"
      ]
     },
     "execution_count": 98,
     "metadata": {},
     "output_type": "execute_result"
    }
   ],
   "source": [
    "collect(1:9)"
   ]
  },
  {
   "cell_type": "code",
   "execution_count": 99,
   "metadata": {},
   "outputs": [
    {
     "data": {
      "text/plain": [
       "3×3 adjoint(::Matrix{Int64}) with eltype Int64:\n",
       " 1  2  3\n",
       " 4  5  6\n",
       " 7  8  9"
      ]
     },
     "execution_count": 99,
     "metadata": {},
     "output_type": "execute_result"
    }
   ],
   "source": [
    "reshape(collect(1:9),3,3)'  #look at reshape"
   ]
  },
  {
   "cell_type": "code",
   "execution_count": 100,
   "metadata": {},
   "outputs": [
    {
     "name": "stdout",
     "output_type": "stream",
     "text": [
      "search: \u001b[0m\u001b[1mv\u001b[22m\u001b[0m\u001b[1me\u001b[22m\u001b[0m\u001b[1mc\u001b[22m \u001b[0m\u001b[1mV\u001b[22m\u001b[0m\u001b[1me\u001b[22m\u001b[0m\u001b[1mc\u001b[22mtor \u001b[0m\u001b[1mV\u001b[22m\u001b[0m\u001b[1me\u001b[22m\u001b[0m\u001b[1mc\u001b[22mOrMat \u001b[0m\u001b[1mV\u001b[22m\u001b[0m\u001b[1me\u001b[22m\u001b[0m\u001b[1mc\u001b[22mElement c\u001b[0m\u001b[1mv\u001b[22m\u001b[0m\u001b[1me\u001b[22m\u001b[0m\u001b[1mc\u001b[22m eig\u001b[0m\u001b[1mv\u001b[22m\u001b[0m\u001b[1me\u001b[22m\u001b[0m\u001b[1mc\u001b[22ms Bit\u001b[0m\u001b[1mV\u001b[22m\u001b[0m\u001b[1me\u001b[22m\u001b[0m\u001b[1mc\u001b[22mtor norm\u001b[0m\u001b[1mV\u001b[22m\u001b[0m\u001b[1me\u001b[22m\u001b[0m\u001b[1mc\u001b[22mt\n",
      "\n"
     ]
    },
    {
     "data": {
      "text/latex": [
       "\\begin{verbatim}\n",
       "vec(a::AbstractArray) -> AbstractVector\n",
       "\\end{verbatim}\n",
       "Reshape the array \\texttt{a} as a one-dimensional column vector. Return \\texttt{a} if it is already an \\texttt{AbstractVector}. The resulting array shares the same underlying data as \\texttt{a}, so it will only be mutable if \\texttt{a} is mutable, in which case modifying one will also modify the other.\n",
       "\n",
       "\\section{Examples}\n",
       "\\begin{verbatim}\n",
       "julia> a = [1 2 3; 4 5 6]\n",
       "2×3 Matrix{Int64}:\n",
       " 1  2  3\n",
       " 4  5  6\n",
       "\n",
       "julia> vec(a)\n",
       "6-element Vector{Int64}:\n",
       " 1\n",
       " 4\n",
       " 2\n",
       " 5\n",
       " 3\n",
       " 6\n",
       "\n",
       "julia> vec(1:3)\n",
       "1:3\n",
       "\\end{verbatim}\n",
       "See also \\href{@ref}{\\texttt{reshape}}, \\href{@ref}{\\texttt{dropdims}}.\n",
       "\n",
       "\\rule{\\textwidth}{1pt}\n",
       "\\begin{verbatim}\n",
       "vec(d::MatrixDistribution)\n",
       "\\end{verbatim}\n",
       "If known, returns a \\texttt{MultivariateDistribution} instance representing the distribution of vec(X), where X is a random matrix with distribution \\texttt{d}.\n",
       "\n"
      ],
      "text/markdown": [
       "```\n",
       "vec(a::AbstractArray) -> AbstractVector\n",
       "```\n",
       "\n",
       "Reshape the array `a` as a one-dimensional column vector. Return `a` if it is already an `AbstractVector`. The resulting array shares the same underlying data as `a`, so it will only be mutable if `a` is mutable, in which case modifying one will also modify the other.\n",
       "\n",
       "# Examples\n",
       "\n",
       "```jldoctest\n",
       "julia> a = [1 2 3; 4 5 6]\n",
       "2×3 Matrix{Int64}:\n",
       " 1  2  3\n",
       " 4  5  6\n",
       "\n",
       "julia> vec(a)\n",
       "6-element Vector{Int64}:\n",
       " 1\n",
       " 4\n",
       " 2\n",
       " 5\n",
       " 3\n",
       " 6\n",
       "\n",
       "julia> vec(1:3)\n",
       "1:3\n",
       "```\n",
       "\n",
       "See also [`reshape`](@ref), [`dropdims`](@ref).\n",
       "\n",
       "---\n",
       "\n",
       "```\n",
       "vec(d::MatrixDistribution)\n",
       "```\n",
       "\n",
       "If known, returns a `MultivariateDistribution` instance representing the distribution of vec(X), where X is a random matrix with distribution `d`.\n"
      ],
      "text/plain": [
       "\u001b[36m  vec(a::AbstractArray) -> AbstractVector\u001b[39m\n",
       "\n",
       "  Reshape the array \u001b[36ma\u001b[39m as a one-dimensional column vector. Return \u001b[36ma\u001b[39m if it is\n",
       "  already an \u001b[36mAbstractVector\u001b[39m. The resulting array shares the same underlying\n",
       "  data as \u001b[36ma\u001b[39m, so it will only be mutable if \u001b[36ma\u001b[39m is mutable, in which case\n",
       "  modifying one will also modify the other.\n",
       "\n",
       "\u001b[1m  Examples\u001b[22m\n",
       "\u001b[1m  ≡≡≡≡≡≡≡≡≡≡\u001b[22m\n",
       "\n",
       "\u001b[36m  julia> a = [1 2 3; 4 5 6]\u001b[39m\n",
       "\u001b[36m  2×3 Matrix{Int64}:\u001b[39m\n",
       "\u001b[36m   1  2  3\u001b[39m\n",
       "\u001b[36m   4  5  6\u001b[39m\n",
       "\u001b[36m  \u001b[39m\n",
       "\u001b[36m  julia> vec(a)\u001b[39m\n",
       "\u001b[36m  6-element Vector{Int64}:\u001b[39m\n",
       "\u001b[36m   1\u001b[39m\n",
       "\u001b[36m   4\u001b[39m\n",
       "\u001b[36m   2\u001b[39m\n",
       "\u001b[36m   5\u001b[39m\n",
       "\u001b[36m   3\u001b[39m\n",
       "\u001b[36m   6\u001b[39m\n",
       "\u001b[36m  \u001b[39m\n",
       "\u001b[36m  julia> vec(1:3)\u001b[39m\n",
       "\u001b[36m  1:3\u001b[39m\n",
       "\n",
       "  See also \u001b[36mreshape\u001b[39m, \u001b[36mdropdims\u001b[39m.\n",
       "\n",
       "  ────────────────────────────────────────────────────────────────────────────\n",
       "\n",
       "\u001b[36m  vec(d::MatrixDistribution)\u001b[39m\n",
       "\n",
       "  If known, returns a \u001b[36mMultivariateDistribution\u001b[39m instance representing the\n",
       "  distribution of vec(X), where X is a random matrix with distribution \u001b[36md\u001b[39m."
      ]
     },
     "execution_count": 100,
     "metadata": {},
     "output_type": "execute_result"
    }
   ],
   "source": [
    "? vec"
   ]
  },
  {
   "cell_type": "code",
   "execution_count": 101,
   "metadata": {},
   "outputs": [
    {
     "data": {
      "text/plain": [
       "6-element Vector{Int64}:\n",
       " 1\n",
       " 4\n",
       " 2\n",
       " 5\n",
       " 3\n",
       " 6"
      ]
     },
     "execution_count": 101,
     "metadata": {},
     "output_type": "execute_result"
    }
   ],
   "source": [
    "vec([1 2 3; 4 5 6])"
   ]
  },
  {
   "cell_type": "code",
   "execution_count": 102,
   "metadata": {},
   "outputs": [
    {
     "data": {
      "text/plain": [
       "6-element reshape(adjoint(::Matrix{Int64}), 6) with eltype Int64:\n",
       " 1\n",
       " 2\n",
       " 3\n",
       " 4\n",
       " 5\n",
       " 6"
      ]
     },
     "execution_count": 102,
     "metadata": {},
     "output_type": "execute_result"
    }
   ],
   "source": [
    "vec([1 2 3; 4 5 6]')"
   ]
  },
  {
   "cell_type": "code",
   "execution_count": 103,
   "metadata": {},
   "outputs": [
    {
     "data": {
      "text/plain": [
       "3×3 Matrix{Int64}:\n",
       " 1  2  3\n",
       " 4  5  6\n",
       " 7  8  9"
      ]
     },
     "execution_count": 103,
     "metadata": {},
     "output_type": "execute_result"
    }
   ],
   "source": [
    "A"
   ]
  },
  {
   "cell_type": "code",
   "execution_count": 104,
   "metadata": {},
   "outputs": [
    {
     "data": {
      "text/plain": [
       "3×3 adjoint(::Matrix{Int64}) with eltype Int64:\n",
       " 1  4  7\n",
       " 2  5  8\n",
       " 3  6  9"
      ]
     },
     "execution_count": 104,
     "metadata": {},
     "output_type": "execute_result"
    }
   ],
   "source": [
    "A' #Adjoint means conjugate tranpose"
   ]
  },
  {
   "cell_type": "code",
   "execution_count": 105,
   "metadata": {},
   "outputs": [
    {
     "data": {
      "text/plain": [
       "2×2 Matrix{Complex{Int64}}:\n",
       " 1+2im  2-3im\n",
       " 0-1im  0+0im"
      ]
     },
     "execution_count": 105,
     "metadata": {},
     "output_type": "execute_result"
    }
   ],
   "source": [
    "A = [1+2im 2-3im; -im 0 ]"
   ]
  },
  {
   "cell_type": "code",
   "execution_count": 106,
   "metadata": {},
   "outputs": [
    {
     "data": {
      "text/plain": [
       "2×2 adjoint(::Matrix{Complex{Int64}}) with eltype Complex{Int64}:\n",
       " 1-2im  0+1im\n",
       " 2+3im  0+0im"
      ]
     },
     "execution_count": 106,
     "metadata": {},
     "output_type": "execute_result"
    }
   ],
   "source": [
    "A'"
   ]
  },
  {
   "cell_type": "code",
   "execution_count": 107,
   "metadata": {},
   "outputs": [
    {
     "data": {
      "text/plain": [
       "2×2 Matrix{Int64}:\n",
       " 1  2\n",
       " 0  0"
      ]
     },
     "execution_count": 107,
     "metadata": {},
     "output_type": "execute_result"
    }
   ],
   "source": [
    "real.(A)"
   ]
  },
  {
   "cell_type": "code",
   "execution_count": 108,
   "metadata": {},
   "outputs": [
    {
     "data": {
      "text/plain": [
       "3×3 Matrix{Int64}:\n",
       " 1  2  3\n",
       " 4  5  6\n",
       " 7  8  9"
      ]
     },
     "execution_count": 108,
     "metadata": {},
     "output_type": "execute_result"
    }
   ],
   "source": [
    "A = [1 2 3 ; 4 5 6; 7 8 9]"
   ]
  },
  {
   "cell_type": "code",
   "execution_count": 109,
   "metadata": {},
   "outputs": [
    {
     "data": {
      "text/plain": [
       "3×3 Matrix{Int64}:\n",
       " 1  2  3\n",
       " 4  5  6\n",
       " 7  8  9"
      ]
     },
     "execution_count": 109,
     "metadata": {},
     "output_type": "execute_result"
    }
   ],
   "source": [
    "A''"
   ]
  },
  {
   "cell_type": "code",
   "execution_count": 110,
   "metadata": {},
   "outputs": [
    {
     "data": {
      "text/plain": [
       "3×3 adjoint(::Matrix{Int64}) with eltype Int64:\n",
       " 1  4  7\n",
       " 2  5  8\n",
       " 3  6  9"
      ]
     },
     "execution_count": 110,
     "metadata": {},
     "output_type": "execute_result"
    }
   ],
   "source": [
    "A'"
   ]
  },
  {
   "cell_type": "markdown",
   "metadata": {},
   "source": [
    "Let $A$ be a matrix with generally complex entries. Then the adjoint, $A^\\dagger$ has $i,j$ entry which is $\\overline{A_{j,i}}$ where $\\overline{z}$ is the complex conjugate of $z$. That is if $z= a + bi$ then $\\overline{z} = a - bi$."
   ]
  },
  {
   "cell_type": "markdown",
   "metadata": {},
   "source": [
    "$A^T$"
   ]
  },
  {
   "cell_type": "markdown",
   "metadata": {},
   "source": [
    "A symmetric matrix has $A^T = A$"
   ]
  },
  {
   "cell_type": "code",
   "execution_count": 111,
   "metadata": {},
   "outputs": [
    {
     "data": {
      "text/plain": [
       "3×3 Matrix{Int64}:\n",
       " 1  2  3\n",
       " 4  5  6\n",
       " 7  8  9"
      ]
     },
     "execution_count": 111,
     "metadata": {},
     "output_type": "execute_result"
    }
   ],
   "source": [
    "A"
   ]
  },
  {
   "cell_type": "code",
   "execution_count": 112,
   "metadata": {},
   "outputs": [
    {
     "data": {
      "text/plain": [
       "false"
      ]
     },
     "execution_count": 112,
     "metadata": {},
     "output_type": "execute_result"
    }
   ],
   "source": [
    "issymmetric(A)"
   ]
  },
  {
   "cell_type": "markdown",
   "metadata": {},
   "source": [
    "$(A+B)^T = A^T + B^T$"
   ]
  },
  {
   "cell_type": "code",
   "execution_count": 113,
   "metadata": {},
   "outputs": [
    {
     "data": {
      "text/plain": [
       "3×3 Matrix{Float64}:\n",
       " 1.0  3.0  5.0\n",
       " 3.0  5.0  7.0\n",
       " 5.0  7.0  9.0"
      ]
     },
     "metadata": {},
     "output_type": "display_data"
    },
    {
     "data": {
      "text/plain": [
       "true"
      ]
     },
     "execution_count": 113,
     "metadata": {},
     "output_type": "execute_result"
    }
   ],
   "source": [
    "S = (A'+A)/2 #\"symmetrizing\" a matrix\n",
    "display(S)\n",
    "issymmetric(S)"
   ]
  },
  {
   "cell_type": "markdown",
   "metadata": {},
   "source": [
    "Say $B$ is symmetric and I do C = $\\frac{1}{2} (B^T + B)$"
   ]
  },
  {
   "cell_type": "markdown",
   "metadata": {},
   "source": [
    "**Claim:**\n",
    "$$(A B)^T = B^T A^T$$"
   ]
  },
  {
   "cell_type": "markdown",
   "metadata": {},
   "source": [
    "Inner product for vectors $u$ and $v$ is $u^T v$"
   ]
  },
  {
   "cell_type": "markdown",
   "metadata": {},
   "source": [
    "$(u^T v)^T = v^T u$"
   ]
  },
  {
   "cell_type": "code",
   "execution_count": 114,
   "metadata": {},
   "outputs": [
    {
     "data": {
      "text/plain": [
       "3×3 Matrix{Int64}:\n",
       "  4   5   6\n",
       "  7   8   9\n",
       " 10  11  12"
      ]
     },
     "execution_count": 114,
     "metadata": {},
     "output_type": "execute_result"
    }
   ],
   "source": [
    "B = A .+ 3"
   ]
  },
  {
   "cell_type": "code",
   "execution_count": 115,
   "metadata": {},
   "outputs": [
    {
     "data": {
      "text/plain": [
       "3×3 adjoint(::Matrix{Int64}) with eltype Int64:\n",
       " 48  111  174\n",
       " 54  126  198\n",
       " 60  141  222"
      ]
     },
     "metadata": {},
     "output_type": "display_data"
    },
    {
     "data": {
      "text/plain": [
       "3×3 Matrix{Int64}:\n",
       " 48  111  174\n",
       " 54  126  198\n",
       " 60  141  222"
      ]
     },
     "metadata": {},
     "output_type": "display_data"
    }
   ],
   "source": [
    "display((A*B)')\n",
    "display(B'*A')"
   ]
  },
  {
   "cell_type": "markdown",
   "metadata": {},
   "source": [
    "If $A^{-1}$ exists then $(A^{-1})^T = (A^T)^{-1}$ so we sometimes write $A^{-T}$."
   ]
  },
  {
   "cell_type": "markdown",
   "metadata": {},
   "source": [
    "### Determinants"
   ]
  },
  {
   "cell_type": "code",
   "execution_count": 116,
   "metadata": {},
   "outputs": [
    {
     "data": {
      "text/plain": [
       "2×2 Matrix{Int64}:\n",
       " 1  2\n",
       " 3  4"
      ]
     },
     "execution_count": 116,
     "metadata": {},
     "output_type": "execute_result"
    }
   ],
   "source": [
    "A = [1 2; 3 4]"
   ]
  },
  {
   "cell_type": "code",
   "execution_count": 117,
   "metadata": {},
   "outputs": [
    {
     "data": {
      "text/plain": [
       "(-2.0, -2)"
      ]
     },
     "execution_count": 117,
     "metadata": {},
     "output_type": "execute_result"
    }
   ],
   "source": [
    "using LinearAlgebra\n",
    "det(A), A[1,1]*A[2,2] - A[1,2]*A[2,1]"
   ]
  },
  {
   "cell_type": "code",
   "execution_count": 118,
   "metadata": {},
   "outputs": [
    {
     "data": {
      "text/plain": [
       "2×3 Matrix{Int64}:\n",
       " 1  2  3\n",
       " 4  5  6"
      ]
     },
     "execution_count": 118,
     "metadata": {},
     "output_type": "execute_result"
    }
   ],
   "source": [
    "B = [ 1 2 3; 4 5 6]"
   ]
  },
  {
   "cell_type": "code",
   "execution_count": 119,
   "metadata": {},
   "outputs": [
    {
     "ename": "LoadError",
     "evalue": "DimensionMismatch(\"matrix is not square: dimensions are (2, 3)\")",
     "output_type": "error",
     "traceback": [
      "DimensionMismatch(\"matrix is not square: dimensions are (2, 3)\")",
      "",
      "Stacktrace:",
      " [1] checksquare",
      "   @ /private/tmp/julia-20210615-80123-ag9qn6/usr/share/julia/stdlib/v1.8/LinearAlgebra/src/LinearAlgebra.jl:231 [inlined]",
      " [2] det(F::LU{Float64, Matrix{Float64}})",
      "   @ LinearAlgebra /private/tmp/julia-20210615-80123-ag9qn6/usr/share/julia/stdlib/v1.8/LinearAlgebra/src/lu.jl:453",
      " [3] det(A::Matrix{Int64})",
      "   @ LinearAlgebra /private/tmp/julia-20210615-80123-ag9qn6/usr/share/julia/stdlib/v1.8/LinearAlgebra/src/generic.jl:1557",
      " [4] top-level scope",
      "   @ In[119]:1",
      " [5] eval",
      "   @ ./boot.jl:373 [inlined]",
      " [6] include_string(mapexpr::typeof(REPL.softscope), mod::Module, code::String, filename::String)",
      "   @ Base ./loading.jl:1196"
     ]
    }
   ],
   "source": [
    "det(B)"
   ]
  },
  {
   "cell_type": "code",
   "execution_count": 120,
   "metadata": {},
   "outputs": [
    {
     "data": {
      "text/plain": [
       "1.0"
      ]
     },
     "execution_count": 120,
     "metadata": {},
     "output_type": "execute_result"
    }
   ],
   "source": [
    "det(Diagonal(ones(5)))"
   ]
  },
  {
   "cell_type": "code",
   "execution_count": 121,
   "metadata": {},
   "outputs": [
    {
     "data": {
      "text/plain": [
       "3×3 Diagonal{Int64, Vector{Int64}}:\n",
       " 1  ⋅  ⋅\n",
       " ⋅  2  ⋅\n",
       " ⋅  ⋅  3"
      ]
     },
     "execution_count": 121,
     "metadata": {},
     "output_type": "execute_result"
    }
   ],
   "source": [
    "A = Diagonal([1,2,3])"
   ]
  },
  {
   "cell_type": "code",
   "execution_count": 122,
   "metadata": {},
   "outputs": [
    {
     "data": {
      "text/plain": [
       "6"
      ]
     },
     "execution_count": 122,
     "metadata": {},
     "output_type": "execute_result"
    }
   ],
   "source": [
    "det(A) #det of diagonal is produt of the elements 1*2*3"
   ]
  },
  {
   "cell_type": "code",
   "execution_count": 123,
   "metadata": {},
   "outputs": [
    {
     "data": {
      "text/plain": [
       "3×3 Matrix{Float64}:\n",
       " 1.0  0.0  0.0\n",
       " 0.0  2.0  0.0\n",
       " 0.0  0.0  3.0"
      ]
     },
     "execution_count": 123,
     "metadata": {},
     "output_type": "execute_result"
    }
   ],
   "source": [
    "A = zeros(3,3) + A #Rob thanks"
   ]
  },
  {
   "cell_type": "code",
   "execution_count": 124,
   "metadata": {},
   "outputs": [
    {
     "data": {
      "text/plain": [
       "3×3 Matrix{Float64}:\n",
       " 1.0  0.0  0.0\n",
       " 0.0  2.0  0.0\n",
       " 0.0  0.0  3.0"
      ]
     },
     "execution_count": 124,
     "metadata": {},
     "output_type": "execute_result"
    }
   ],
   "source": [
    "A = convert(Array{Float64,2},A) #alt is to use the convert"
   ]
  },
  {
   "cell_type": "code",
   "execution_count": 125,
   "metadata": {},
   "outputs": [
    {
     "data": {
      "text/plain": [
       "3×3 Matrix{Float64}:\n",
       " 1.0  0.0    7.0\n",
       " 0.0  2.0  -53.0\n",
       " 0.0  0.0    3.0"
      ]
     },
     "execution_count": 125,
     "metadata": {},
     "output_type": "execute_result"
    }
   ],
   "source": [
    "A[2,3] = -53\n",
    "A[1,3] = 7\n",
    "A"
   ]
  },
  {
   "cell_type": "code",
   "execution_count": 126,
   "metadata": {},
   "outputs": [
    {
     "data": {
      "text/plain": [
       "6.0"
      ]
     },
     "execution_count": 126,
     "metadata": {},
     "output_type": "execute_result"
    }
   ],
   "source": [
    "det(A) #stil the product of diagonals for triangular (upper or lower)"
   ]
  },
  {
   "cell_type": "code",
   "execution_count": 127,
   "metadata": {},
   "outputs": [
    {
     "data": {
      "text/plain": [
       "3×3 Matrix{Float64}:\n",
       "  1.0  0.0    7.0\n",
       "  0.0  2.0  -53.0\n",
       " 35.0  0.0    3.0"
      ]
     },
     "execution_count": 127,
     "metadata": {},
     "output_type": "execute_result"
    }
   ],
   "source": [
    "A[3,1] = 35\n",
    "A"
   ]
  },
  {
   "cell_type": "code",
   "execution_count": 128,
   "metadata": {},
   "outputs": [
    {
     "data": {
      "text/plain": [
       "-484.0"
      ]
     },
     "execution_count": 128,
     "metadata": {},
     "output_type": "execute_result"
    }
   ],
   "source": [
    "det(A)"
   ]
  },
  {
   "cell_type": "code",
   "execution_count": 129,
   "metadata": {},
   "outputs": [
    {
     "data": {
      "text/plain": [
       "3-element Vector{Int64}:\n",
       " 1\n",
       " 3\n",
       " 4"
      ]
     },
     "execution_count": 129,
     "metadata": {},
     "output_type": "execute_result"
    }
   ],
   "source": [
    "setdiff(1:4,2)"
   ]
  },
  {
   "cell_type": "code",
   "execution_count": 130,
   "metadata": {},
   "outputs": [
    {
     "data": {
      "text/plain": [
       "myDet (generic function with 1 method)"
      ]
     },
     "execution_count": 130,
     "metadata": {},
     "output_type": "execute_result"
    }
   ],
   "source": [
    "#if you are just now \"learning\" programming this is a typical recursion exercise\n",
    "function myDet(A)\n",
    "    n, m = size(A)\n",
    "    n == m || @error \"Dimension mismatch\" #shortcircut or\n",
    "    if n == 2\n",
    "        return A[1,1]*A[2,2]-A[1,2]*A[2,1] #2 by 2 has simple formula\n",
    "    else\n",
    "        #higher dimension has a recursive formula\n",
    "        return sum([(-1)^(i+1)*A[1,i]*myDet(A[2:n,setdiff(1:n,i)])   for i in 1:n])\n",
    "    end\n",
    "end"
   ]
  },
  {
   "cell_type": "code",
   "execution_count": 131,
   "metadata": {},
   "outputs": [
    {
     "data": {
      "text/plain": [
       "0.014201970526097674"
      ]
     },
     "execution_count": 131,
     "metadata": {},
     "output_type": "execute_result"
    }
   ],
   "source": [
    "myDet(rand(10,10))"
   ]
  },
  {
   "cell_type": "code",
   "execution_count": 132,
   "metadata": {},
   "outputs": [
    {
     "data": {
      "text/plain": [
       "-200.0"
      ]
     },
     "execution_count": 132,
     "metadata": {},
     "output_type": "execute_result"
    }
   ],
   "source": [
    "det(rand([-10,-20],2,2))"
   ]
  },
  {
   "cell_type": "code",
   "execution_count": 133,
   "metadata": {},
   "outputs": [
    {
     "ename": "LoadError",
     "evalue": "MethodError: no method matching +(::typeof(-))\n\u001b[0mClosest candidates are:\n\u001b[0m  +(::P, \u001b[91m::ChainRulesCore.Tangent{P}\u001b[39m) where P at /Users/wakayama.hideki/.julia/packages/ChainRulesCore/4bCB1/src/differential_arithmetic.jl:149\n\u001b[0m  +(::Any, \u001b[91m::ChainRulesCore.AbstractThunk\u001b[39m) at /Users/wakayama.hideki/.julia/packages/ChainRulesCore/4bCB1/src/differential_arithmetic.jl:139\n\u001b[0m  +(::T1, \u001b[91m::DataValues.DataValue{T2}\u001b[39m) where {T1, T2} at /Users/wakayama.hideki/.julia/packages/DataValues/N7oeL/src/scalar/operations.jl:75\n\u001b[0m  ...",
     "output_type": "error",
     "traceback": [
      "MethodError: no method matching +(::typeof(-))\n\u001b[0mClosest candidates are:\n\u001b[0m  +(::P, \u001b[91m::ChainRulesCore.Tangent{P}\u001b[39m) where P at /Users/wakayama.hideki/.julia/packages/ChainRulesCore/4bCB1/src/differential_arithmetic.jl:149\n\u001b[0m  +(::Any, \u001b[91m::ChainRulesCore.AbstractThunk\u001b[39m) at /Users/wakayama.hideki/.julia/packages/ChainRulesCore/4bCB1/src/differential_arithmetic.jl:139\n\u001b[0m  +(::T1, \u001b[91m::DataValues.DataValue{T2}\u001b[39m) where {T1, T2} at /Users/wakayama.hideki/.julia/packages/DataValues/N7oeL/src/scalar/operations.jl:75\n\u001b[0m  ...",
      "",
      "Stacktrace:",
      " [1] top-level scope",
      "   @ In[133]:1",
      " [2] eval",
      "   @ ./boot.jl:373 [inlined]",
      " [3] include_string(mapexpr::typeof(REPL.softscope), mod::Module, code::String, filename::String)",
      "   @ Base ./loading.jl:1196"
     ]
    }
   ],
   "source": [
    "+ - + - + -"
   ]
  },
  {
   "cell_type": "code",
   "execution_count": 134,
   "metadata": {},
   "outputs": [
    {
     "data": {
      "text/plain": [
       "-484.0"
      ]
     },
     "execution_count": 134,
     "metadata": {},
     "output_type": "execute_result"
    }
   ],
   "source": [
    "myDet(A)"
   ]
  },
  {
   "cell_type": "code",
   "execution_count": 135,
   "metadata": {},
   "outputs": [
    {
     "data": {
      "text/plain": [
       "Inf"
      ]
     },
     "execution_count": 135,
     "metadata": {},
     "output_type": "execute_result"
    }
   ],
   "source": [
    "det(rand(1000,1000))"
   ]
  },
  {
   "cell_type": "code",
   "execution_count": 173,
   "metadata": {},
   "outputs": [
    {
     "ename": "LoadError",
     "evalue": "InterruptException:",
     "output_type": "error",
     "traceback": [
      "InterruptException:",
      "",
      "Stacktrace:",
      "    [1] Dict{Int64, Nothing}()",
      "      @ Base ./dict.jl:90",
      "    [2] Set",
      "      @ ./set.jl:6 [inlined]",
      "    [3] Set",
      "      @ ./set.jl:10 [inlined]",
      "    [4] _Set",
      "      @ ./set.jl:25 [inlined]",
      "    [5] Set",
      "      @ ./set.jl:23 [inlined]",
      "    [6] _shrink",
      "      @ ./array.jl:2548 [inlined]",
      "    [7] setdiff",
      "      @ ./array.jl:2553 [inlined]",
      "    [8] (::var\"#9#10\"{Matrix{Float64}, Int64})(i::Int64)",
      "      @ Main ./none:0",
      "    [9] iterate",
      "      @ ./generator.jl:47 [inlined]",
      "   [10] collect(itr::Base.Generator{UnitRange{Int64}, var\"#9#10\"{Matrix{Float64}, Int64}})",
      "      @ Base ./array.jl:710",
      "   [11] myDet(A::Matrix{Float64})",
      "      @ Main ./In[130]:9",
      "--- the last 4 lines are repeated 1 more time ---",
      "   [16] (::var\"#9#10\"{Matrix{Float64}, Int64})(i::Int64)",
      "      @ Main ./none:0",
      "   [17] iterate(g::Base.Generator{UnitRange{Int64}, var\"#9#10\"{Matrix{Float64}, Int64}}, s::Int64)",
      "      @ Base ./generator.jl:47",
      "   [18] collect_to!(dest::Vector{Float64}, itr::Base.Generator{UnitRange{Int64}, var\"#9#10\"{Matrix{Float64}, Int64}}, offs::Int64, st::Int64)",
      "      @ Base ./array.jl:756",
      "   [19] collect_to_with_first!",
      "      @ ./array.jl:734 [inlined]",
      "   [20] collect(itr::Base.Generator{UnitRange{Int64}, var\"#9#10\"{Matrix{Float64}, Int64}})",
      "      @ Base ./array.jl:715",
      "--- the last 10 lines are repeated 1 more time ---",
      "   [31] myDet(A::Matrix{Float64})",
      "      @ Main ./In[130]:9",
      "   [32] (::var\"#9#10\"{Matrix{Float64}, Int64})(i::Int64)",
      "      @ Main ./none:0",
      "   [33] iterate(g::Base.Generator{UnitRange{Int64}, var\"#9#10\"{Matrix{Float64}, Int64}}, s::Int64)",
      "      @ Base ./generator.jl:47",
      "   [34] collect_to!(dest::Vector{Float64}, itr::Base.Generator{UnitRange{Int64}, var\"#9#10\"{Matrix{Float64}, Int64}}, offs::Int64, st::Int64)",
      "      @ Base ./array.jl:756",
      "   [35] collect_to_with_first!",
      "      @ ./array.jl:734 [inlined]",
      "   [36] collect(itr::Base.Generator{UnitRange{Int64}, var\"#9#10\"{Matrix{Float64}, Int64}})",
      "      @ Base ./array.jl:715",
      "--- the last 6 lines are repeated 1 more time ---",
      "   [43] myDet(A::Matrix{Float64})",
      "      @ Main ./In[130]:9",
      "   [44] (::var\"#9#10\"{Matrix{Float64}, Int64})(i::Int64)",
      "      @ Main ./none:0",
      "   [45] iterate",
      "      @ ./generator.jl:47 [inlined]",
      "   [46] collect(itr::Base.Generator{UnitRange{Int64}, var\"#9#10\"{Matrix{Float64}, Int64}})",
      "      @ Base ./array.jl:710",
      "--- the last 16 lines are repeated 1 more time ---",
      "   [63] myDet(A::Matrix{Float64})",
      "      @ Main ./In[130]:9",
      "   [64] (::var\"#9#10\"{Matrix{Float64}, Int64})(i::Int64)",
      "      @ Main ./none:0",
      "   [65] iterate",
      "      @ ./generator.jl:47 [inlined]",
      "   [66] collect(itr::Base.Generator{UnitRange{Int64}, var\"#9#10\"{Matrix{Float64}, Int64}})",
      "      @ Base ./array.jl:710",
      "--- the last 4 lines are repeated 986 more times ---",
      " [4011] myDet(A::Matrix{Float64})",
      "      @ Main ./In[130]:9",
      " [4012] eval",
      "      @ ./boot.jl:373 [inlined]"
     ]
    }
   ],
   "source": [
    "myDet(rand(1000,1000))"
   ]
  },
  {
   "cell_type": "code",
   "execution_count": 137,
   "metadata": {},
   "outputs": [
    {
     "data": {
      "text/plain": [
       "5×5 Matrix{Float64}:\n",
       " 0.264021   0.283043  0.601022  0.341235  0.325266\n",
       " 0.0615215  0.843502  0.274775  0.621826  0.984081\n",
       " 0.412765   0.111129  0.900358  0.542206  0.688033\n",
       " 0.814527   0.516271  0.983664  0.593903  0.833352\n",
       " 0.437614   0.210056  0.623585  0.889428  0.538352"
      ]
     },
     "execution_count": 137,
     "metadata": {},
     "output_type": "execute_result"
    }
   ],
   "source": [
    "A = rand(5,5)"
   ]
  },
  {
   "cell_type": "code",
   "execution_count": 138,
   "metadata": {},
   "outputs": [
    {
     "data": {
      "text/plain": [
       "-0.04812360102455618"
      ]
     },
     "execution_count": 138,
     "metadata": {},
     "output_type": "execute_result"
    }
   ],
   "source": [
    "det(A)"
   ]
  },
  {
   "cell_type": "code",
   "execution_count": 139,
   "metadata": {},
   "outputs": [
    {
     "data": {
      "text/plain": [
       "-0.04812360102455618"
      ]
     },
     "execution_count": 139,
     "metadata": {},
     "output_type": "execute_result"
    }
   ],
   "source": [
    "myDet(A)"
   ]
  },
  {
   "cell_type": "markdown",
   "metadata": {},
   "source": [
    "**Claim:**\n",
    "$$|AB| =|A| |B|$$"
   ]
  },
  {
   "cell_type": "code",
   "execution_count": 140,
   "metadata": {},
   "outputs": [
    {
     "data": {
      "text/plain": [
       "(-0.0008610778051135207, -0.0008610778051135236)"
      ]
     },
     "execution_count": 140,
     "metadata": {},
     "output_type": "execute_result"
    }
   ],
   "source": [
    "A = rand(4,4)\n",
    "B = rand(4,4)\n",
    "det(A*B),   det(A)*det(B)"
   ]
  },
  {
   "cell_type": "markdown",
   "metadata": {},
   "source": [
    "**Claim:** If $A$ is invertible then,\n",
    "$$\n",
    "|A^{-1}| = |A|^{-1}\n",
    "\\qquad\n",
    "\\text{could write }\n",
    "\\frac{1}{|A|}\n",
    "$$"
   ]
  },
  {
   "cell_type": "code",
   "execution_count": 141,
   "metadata": {},
   "outputs": [
    {
     "data": {
      "text/plain": [
       "(186.87404902493546, 186.87404902493526)"
      ]
     },
     "execution_count": 141,
     "metadata": {},
     "output_type": "execute_result"
    }
   ],
   "source": [
    "det(inv(A)),1/det(A)"
   ]
  },
  {
   "cell_type": "code",
   "execution_count": 142,
   "metadata": {},
   "outputs": [
    {
     "data": {
      "text/plain": [
       "2×2 Matrix{Int64}:\n",
       " 1  0\n",
       " 1  0"
      ]
     },
     "execution_count": 142,
     "metadata": {},
     "output_type": "execute_result"
    }
   ],
   "source": [
    "A = [1 0;\n",
    "     1 0]   #det(A) = 1×0 - 0×1 = 0"
   ]
  },
  {
   "cell_type": "code",
   "execution_count": 143,
   "metadata": {},
   "outputs": [
    {
     "data": {
      "text/plain": [
       "0.0"
      ]
     },
     "execution_count": 143,
     "metadata": {},
     "output_type": "execute_result"
    }
   ],
   "source": [
    "det(A)"
   ]
  },
  {
   "cell_type": "code",
   "execution_count": 172,
   "metadata": {},
   "outputs": [
    {
     "data": {
      "text/plain": [
       "2×2 Matrix{Float64}:\n",
       " -17.7684   9.96923\n",
       "  10.7479  -4.73248"
      ]
     },
     "execution_count": 172,
     "metadata": {},
     "output_type": "execute_result"
    }
   ],
   "source": [
    "inv(A) #A is singular or non-invertible"
   ]
  },
  {
   "cell_type": "code",
   "execution_count": 145,
   "metadata": {},
   "outputs": [
    {
     "data": {
      "text/plain": [
       "3×3 Matrix{Int64}:\n",
       " 1  2  3\n",
       " 4  5  6\n",
       " 5  7  9"
      ]
     },
     "execution_count": 145,
     "metadata": {},
     "output_type": "execute_result"
    }
   ],
   "source": [
    "B = [1 2 3;\n",
    "     4 5 6;\n",
    "     5 7 9]"
   ]
  },
  {
   "cell_type": "code",
   "execution_count": 146,
   "metadata": {},
   "outputs": [
    {
     "data": {
      "text/plain": [
       "2.664535259100378e-15"
      ]
     },
     "execution_count": 146,
     "metadata": {},
     "output_type": "execute_result"
    }
   ],
   "source": [
    "det(B)"
   ]
  },
  {
   "cell_type": "code",
   "execution_count": 147,
   "metadata": {},
   "outputs": [
    {
     "data": {
      "text/plain": [
       "3×3 Matrix{Float64}:\n",
       "  1.1259e15   1.1259e15  -1.1259e15\n",
       " -2.2518e15  -2.2518e15   2.2518e15\n",
       "  1.1259e15   1.1259e15  -1.1259e15"
      ]
     },
     "execution_count": 147,
     "metadata": {},
     "output_type": "execute_result"
    }
   ],
   "source": [
    "inv(B) #numerical trouble"
   ]
  },
  {
   "cell_type": "code",
   "execution_count": 148,
   "metadata": {},
   "outputs": [
    {
     "data": {
      "text/plain": [
       "0"
      ]
     },
     "execution_count": 148,
     "metadata": {},
     "output_type": "execute_result"
    }
   ],
   "source": [
    "myDet(B) #did integer arithmetic"
   ]
  },
  {
   "cell_type": "code",
   "execution_count": 149,
   "metadata": {},
   "outputs": [
    {
     "data": {
      "text/plain": [
       "1.3295683760909222e16"
      ]
     },
     "execution_count": 149,
     "metadata": {},
     "output_type": "execute_result"
    }
   ],
   "source": [
    "cond(B) #condition number - coming towards end of course"
   ]
  },
  {
   "cell_type": "code",
   "execution_count": 150,
   "metadata": {},
   "outputs": [
    {
     "name": "stdout",
     "output_type": "stream",
     "text": [
      "search: \u001b[0m\u001b[1mc\u001b[22m\u001b[0m\u001b[1mo\u001b[22m\u001b[0m\u001b[1mn\u001b[22m\u001b[0m\u001b[1md\u001b[22m \u001b[0m\u001b[1mc\u001b[22m\u001b[0m\u001b[1mo\u001b[22m\u001b[0m\u001b[1mn\u001b[22m\u001b[0m\u001b[1md\u001b[22mskeel \u001b[0m\u001b[1mC\u001b[22m\u001b[0m\u001b[1mo\u001b[22m\u001b[0m\u001b[1mn\u001b[22m\u001b[0m\u001b[1md\u001b[22mition w\u001b[0m\u001b[1mc\u001b[22mt\u001b[0m\u001b[1mo\u001b[22m\u001b[0m\u001b[1mn\u001b[22m\u001b[0m\u001b[1md\u001b[22mc \u001b[0m\u001b[1mc\u001b[22m\u001b[0m\u001b[1mo\u001b[22m\u001b[0m\u001b[1mn\u001b[22mtour3\u001b[0m\u001b[1md\u001b[22m \u001b[0m\u001b[1mc\u001b[22m\u001b[0m\u001b[1mo\u001b[22m\u001b[0m\u001b[1mn\u001b[22mtour3\u001b[0m\u001b[1md\u001b[22m! ma\u001b[0m\u001b[1mc\u001b[22mr\u001b[0m\u001b[1mo\u001b[22mexpa\u001b[0m\u001b[1mn\u001b[22m\u001b[0m\u001b[1md\u001b[22m\n",
      "\n"
     ]
    },
    {
     "data": {
      "text/latex": [
       "\\begin{verbatim}\n",
       "cond(M, p::Real=2)\n",
       "\\end{verbatim}\n",
       "Condition number of the matrix \\texttt{M}, computed using the operator \\texttt{p}-norm. Valid values for \\texttt{p} are \\texttt{1}, \\texttt{2} (default), or \\texttt{Inf}.\n",
       "\n"
      ],
      "text/markdown": [
       "```\n",
       "cond(M, p::Real=2)\n",
       "```\n",
       "\n",
       "Condition number of the matrix `M`, computed using the operator `p`-norm. Valid values for `p` are `1`, `2` (default), or `Inf`.\n"
      ],
      "text/plain": [
       "\u001b[36m  cond(M, p::Real=2)\u001b[39m\n",
       "\n",
       "  Condition number of the matrix \u001b[36mM\u001b[39m, computed using the operator \u001b[36mp\u001b[39m-norm. Valid\n",
       "  values for \u001b[36mp\u001b[39m are \u001b[36m1\u001b[39m, \u001b[36m2\u001b[39m (default), or \u001b[36mInf\u001b[39m."
      ]
     },
     "execution_count": 150,
     "metadata": {},
     "output_type": "execute_result"
    }
   ],
   "source": [
    "? cond"
   ]
  },
  {
   "cell_type": "markdown",
   "metadata": {},
   "source": [
    "### Inverse of $2 \\times 2$ matrix"
   ]
  },
  {
   "cell_type": "markdown",
   "metadata": {},
   "source": [
    "Special case of *Cramer's rule* (which we don't really speak about)"
   ]
  },
  {
   "cell_type": "code",
   "execution_count": 151,
   "metadata": {},
   "outputs": [
    {
     "data": {
      "text/plain": [
       "2.220446049250313e-16"
      ]
     },
     "execution_count": 151,
     "metadata": {},
     "output_type": "execute_result"
    }
   ],
   "source": [
    "eps()"
   ]
  },
  {
   "cell_type": "code",
   "execution_count": 169,
   "metadata": {},
   "outputs": [
    {
     "data": {
      "text/plain": [
       "2×2 Matrix{Float64}:\n",
       " 1.0  -8.88178e-16\n",
       " 0.0   1.0"
      ]
     },
     "execution_count": 169,
     "metadata": {},
     "output_type": "execute_result"
    }
   ],
   "source": [
    "# Derive it....\n",
    "function inv2mat(A)\n",
    "   n,m = size(A)\n",
    "   (n==2 && m== 2) || @error \"This is for a 2×2 matrix\" #\\times + [TAB]\n",
    "   Δ = det(A) #\\Delta + [TAB]\n",
    "   abs(Δ) > eps() || @error \"Matrix is singular\" #could have done Δ != 0\n",
    "   a,b,c,d = A[1,1], A[1,2], A[2,1], A[2,2]\n",
    "    #  a b\n",
    "    #  c d\n",
    "   return [d -b;\n",
    "           -c a]/Δ\n",
    "end\n",
    "\n",
    "A = rand(2,2)\n",
    "\n",
    "Ai = inv2mat(A)\n",
    "Ai * A"
   ]
  },
  {
   "cell_type": "code",
   "execution_count": 153,
   "metadata": {
    "scrolled": true
   },
   "outputs": [
    {
     "name": "stdout",
     "output_type": "stream",
     "text": [
      "search: \u001b[0m\u001b[1me\u001b[22m\u001b[0m\u001b[1mp\u001b[22m\u001b[0m\u001b[1ms\u001b[22m @\u001b[0m\u001b[1me\u001b[22mla\u001b[0m\u001b[1mp\u001b[22m\u001b[0m\u001b[1ms\u001b[22med st\u001b[0m\u001b[1me\u001b[22m\u001b[0m\u001b[1mp\u001b[22mhi\u001b[0m\u001b[1ms\u001b[22mt st\u001b[0m\u001b[1me\u001b[22m\u001b[0m\u001b[1mp\u001b[22mhi\u001b[0m\u001b[1ms\u001b[22mt! s\u001b[0m\u001b[1me\u001b[22mt\u001b[0m\u001b[1mp\u001b[22mer\u001b[0m\u001b[1ms\u001b[22mpectiveprojection R\u001b[0m\u001b[1me\u001b[22mci\u001b[0m\u001b[1mp\u001b[22me\u001b[0m\u001b[1ms\u001b[22mBase\n",
      "\n"
     ]
    },
    {
     "data": {
      "text/latex": [
       "\\begin{verbatim}\n",
       "eps(::Type{T}) where T<:AbstractFloat\n",
       "eps()\n",
       "\\end{verbatim}\n",
       "Return the \\emph{machine epsilon} of the floating point type \\texttt{T} (\\texttt{T = Float64} by default). This is defined as the gap between 1 and the next largest value representable by \\texttt{typeof(one(T))}, and is equivalent to \\texttt{eps(one(T))}.  (Since \\texttt{eps(T)} is a bound on the \\emph{relative error} of \\texttt{T}, it is a \"dimensionless\" quantity like \\href{@ref}{\\texttt{one}}.)\n",
       "\n",
       "\\section{Examples}\n",
       "\\begin{verbatim}\n",
       "julia> eps()\n",
       "2.220446049250313e-16\n",
       "\n",
       "julia> eps(Float32)\n",
       "1.1920929f-7\n",
       "\n",
       "julia> 1.0 + eps()\n",
       "1.0000000000000002\n",
       "\n",
       "julia> 1.0 + eps()/2\n",
       "1.0\n",
       "\\end{verbatim}\n",
       "\\rule{\\textwidth}{1pt}\n",
       "\\begin{verbatim}\n",
       "eps(x::AbstractFloat)\n",
       "\\end{verbatim}\n",
       "Return the \\emph{unit in last place} (ulp) of \\texttt{x}. This is the distance between consecutive representable floating point values at \\texttt{x}. In most cases, if the distance on either side of \\texttt{x} is different, then the larger of the two is taken, that is\n",
       "\n",
       "\\begin{verbatim}\n",
       "eps(x) == max(x-prevfloat(x), nextfloat(x)-x)\n",
       "\\end{verbatim}\n",
       "The exceptions to this rule are the smallest and largest finite values (e.g. \\texttt{nextfloat(-Inf)} and \\texttt{prevfloat(Inf)} for \\href{@ref}{\\texttt{Float64}}), which round to the smaller of the values.\n",
       "\n",
       "The rationale for this behavior is that \\texttt{eps} bounds the floating point rounding error. Under the default \\texttt{RoundNearest} rounding mode, if $y$ is a real number and $x$ is the nearest floating point number to $y$, then\n",
       "\n",
       "$$|y-x| \\leq \\operatorname{eps}(x)/2.$$\n",
       "See also: \\href{@ref}{\\texttt{nextfloat}}, \\href{@ref}{\\texttt{issubnormal}}, \\href{@ref}{\\texttt{floatmax}}.\n",
       "\n",
       "\\section{Examples}\n",
       "\\begin{verbatim}\n",
       "julia> eps(1.0)\n",
       "2.220446049250313e-16\n",
       "\n",
       "julia> eps(prevfloat(2.0))\n",
       "2.220446049250313e-16\n",
       "\n",
       "julia> eps(2.0)\n",
       "4.440892098500626e-16\n",
       "\n",
       "julia> x = prevfloat(Inf)      # largest finite Float64\n",
       "1.7976931348623157e308\n",
       "\n",
       "julia> x + eps(x)/2            # rounds up\n",
       "Inf\n",
       "\n",
       "julia> x + prevfloat(eps(x)/2) # rounds down\n",
       "1.7976931348623157e308\n",
       "\\end{verbatim}\n",
       "\\rule{\\textwidth}{1pt}\n",
       "\\begin{verbatim}\n",
       "eps(::Type{DateTime}) -> Millisecond\n",
       "eps(::Type{Date}) -> Day\n",
       "eps(::Type{Time}) -> Nanosecond\n",
       "eps(::TimeType) -> Period\n",
       "\\end{verbatim}\n",
       "Return the smallest unit value supported by the \\texttt{TimeType}.\n",
       "\n",
       "\\section{Examples}\n",
       "\\begin{verbatim}\n",
       "julia> eps(DateTime)\n",
       "1 millisecond\n",
       "\n",
       "julia> eps(Date)\n",
       "1 day\n",
       "\n",
       "julia> eps(Time)\n",
       "1 nanosecond\n",
       "\\end{verbatim}\n"
      ],
      "text/markdown": [
       "```\n",
       "eps(::Type{T}) where T<:AbstractFloat\n",
       "eps()\n",
       "```\n",
       "\n",
       "Return the *machine epsilon* of the floating point type `T` (`T = Float64` by default). This is defined as the gap between 1 and the next largest value representable by `typeof(one(T))`, and is equivalent to `eps(one(T))`.  (Since `eps(T)` is a bound on the *relative error* of `T`, it is a \"dimensionless\" quantity like [`one`](@ref).)\n",
       "\n",
       "# Examples\n",
       "\n",
       "```jldoctest\n",
       "julia> eps()\n",
       "2.220446049250313e-16\n",
       "\n",
       "julia> eps(Float32)\n",
       "1.1920929f-7\n",
       "\n",
       "julia> 1.0 + eps()\n",
       "1.0000000000000002\n",
       "\n",
       "julia> 1.0 + eps()/2\n",
       "1.0\n",
       "```\n",
       "\n",
       "---\n",
       "\n",
       "```\n",
       "eps(x::AbstractFloat)\n",
       "```\n",
       "\n",
       "Return the *unit in last place* (ulp) of `x`. This is the distance between consecutive representable floating point values at `x`. In most cases, if the distance on either side of `x` is different, then the larger of the two is taken, that is\n",
       "\n",
       "```\n",
       "eps(x) == max(x-prevfloat(x), nextfloat(x)-x)\n",
       "```\n",
       "\n",
       "The exceptions to this rule are the smallest and largest finite values (e.g. `nextfloat(-Inf)` and `prevfloat(Inf)` for [`Float64`](@ref)), which round to the smaller of the values.\n",
       "\n",
       "The rationale for this behavior is that `eps` bounds the floating point rounding error. Under the default `RoundNearest` rounding mode, if $y$ is a real number and $x$ is the nearest floating point number to $y$, then\n",
       "\n",
       "$$\n",
       "|y-x| \\leq \\operatorname{eps}(x)/2.\n",
       "$$\n",
       "\n",
       "See also: [`nextfloat`](@ref), [`issubnormal`](@ref), [`floatmax`](@ref).\n",
       "\n",
       "# Examples\n",
       "\n",
       "```jldoctest\n",
       "julia> eps(1.0)\n",
       "2.220446049250313e-16\n",
       "\n",
       "julia> eps(prevfloat(2.0))\n",
       "2.220446049250313e-16\n",
       "\n",
       "julia> eps(2.0)\n",
       "4.440892098500626e-16\n",
       "\n",
       "julia> x = prevfloat(Inf)      # largest finite Float64\n",
       "1.7976931348623157e308\n",
       "\n",
       "julia> x + eps(x)/2            # rounds up\n",
       "Inf\n",
       "\n",
       "julia> x + prevfloat(eps(x)/2) # rounds down\n",
       "1.7976931348623157e308\n",
       "```\n",
       "\n",
       "---\n",
       "\n",
       "```\n",
       "eps(::Type{DateTime}) -> Millisecond\n",
       "eps(::Type{Date}) -> Day\n",
       "eps(::Type{Time}) -> Nanosecond\n",
       "eps(::TimeType) -> Period\n",
       "```\n",
       "\n",
       "Return the smallest unit value supported by the `TimeType`.\n",
       "\n",
       "# Examples\n",
       "\n",
       "```jldoctest\n",
       "julia> eps(DateTime)\n",
       "1 millisecond\n",
       "\n",
       "julia> eps(Date)\n",
       "1 day\n",
       "\n",
       "julia> eps(Time)\n",
       "1 nanosecond\n",
       "```\n"
      ],
      "text/plain": [
       "\u001b[36m  eps(::Type{T}) where T<:AbstractFloat\u001b[39m\n",
       "\u001b[36m  eps()\u001b[39m\n",
       "\n",
       "  Return the \u001b[4mmachine epsilon\u001b[24m of the floating point type \u001b[36mT\u001b[39m (\u001b[36mT = Float64\u001b[39m by\n",
       "  default). This is defined as the gap between 1 and the next largest value\n",
       "  representable by \u001b[36mtypeof(one(T))\u001b[39m, and is equivalent to \u001b[36meps(one(T))\u001b[39m. (Since\n",
       "  \u001b[36meps(T)\u001b[39m is a bound on the \u001b[4mrelative error\u001b[24m of \u001b[36mT\u001b[39m, it is a \"dimensionless\"\n",
       "  quantity like \u001b[36mone\u001b[39m.)\n",
       "\n",
       "\u001b[1m  Examples\u001b[22m\n",
       "\u001b[1m  ≡≡≡≡≡≡≡≡≡≡\u001b[22m\n",
       "\n",
       "\u001b[36m  julia> eps()\u001b[39m\n",
       "\u001b[36m  2.220446049250313e-16\u001b[39m\n",
       "\u001b[36m  \u001b[39m\n",
       "\u001b[36m  julia> eps(Float32)\u001b[39m\n",
       "\u001b[36m  1.1920929f-7\u001b[39m\n",
       "\u001b[36m  \u001b[39m\n",
       "\u001b[36m  julia> 1.0 + eps()\u001b[39m\n",
       "\u001b[36m  1.0000000000000002\u001b[39m\n",
       "\u001b[36m  \u001b[39m\n",
       "\u001b[36m  julia> 1.0 + eps()/2\u001b[39m\n",
       "\u001b[36m  1.0\u001b[39m\n",
       "\n",
       "  ────────────────────────────────────────────────────────────────────────────\n",
       "\n",
       "\u001b[36m  eps(x::AbstractFloat)\u001b[39m\n",
       "\n",
       "  Return the \u001b[4munit in last place\u001b[24m (ulp) of \u001b[36mx\u001b[39m. This is the distance between\n",
       "  consecutive representable floating point values at \u001b[36mx\u001b[39m. In most cases, if the\n",
       "  distance on either side of \u001b[36mx\u001b[39m is different, then the larger of the two is\n",
       "  taken, that is\n",
       "\n",
       "\u001b[36m  eps(x) == max(x-prevfloat(x), nextfloat(x)-x)\u001b[39m\n",
       "\n",
       "  The exceptions to this rule are the smallest and largest finite values (e.g.\n",
       "  \u001b[36mnextfloat(-Inf)\u001b[39m and \u001b[36mprevfloat(Inf)\u001b[39m for \u001b[36mFloat64\u001b[39m), which round to the smaller\n",
       "  of the values.\n",
       "\n",
       "  The rationale for this behavior is that \u001b[36meps\u001b[39m bounds the floating point\n",
       "  rounding error. Under the default \u001b[36mRoundNearest\u001b[39m rounding mode, if \u001b[35my\u001b[39m is a real\n",
       "  number and \u001b[35mx\u001b[39m is the nearest floating point number to \u001b[35my\u001b[39m, then\n",
       "\n",
       "\u001b[35m  |y-x| \\leq \\operatorname{eps}(x)/2.\u001b[39m\n",
       "\n",
       "  See also: \u001b[36mnextfloat\u001b[39m, \u001b[36missubnormal\u001b[39m, \u001b[36mfloatmax\u001b[39m.\n",
       "\n",
       "\u001b[1m  Examples\u001b[22m\n",
       "\u001b[1m  ≡≡≡≡≡≡≡≡≡≡\u001b[22m\n",
       "\n",
       "\u001b[36m  julia> eps(1.0)\u001b[39m\n",
       "\u001b[36m  2.220446049250313e-16\u001b[39m\n",
       "\u001b[36m  \u001b[39m\n",
       "\u001b[36m  julia> eps(prevfloat(2.0))\u001b[39m\n",
       "\u001b[36m  2.220446049250313e-16\u001b[39m\n",
       "\u001b[36m  \u001b[39m\n",
       "\u001b[36m  julia> eps(2.0)\u001b[39m\n",
       "\u001b[36m  4.440892098500626e-16\u001b[39m\n",
       "\u001b[36m  \u001b[39m\n",
       "\u001b[36m  julia> x = prevfloat(Inf)      # largest finite Float64\u001b[39m\n",
       "\u001b[36m  1.7976931348623157e308\u001b[39m\n",
       "\u001b[36m  \u001b[39m\n",
       "\u001b[36m  julia> x + eps(x)/2            # rounds up\u001b[39m\n",
       "\u001b[36m  Inf\u001b[39m\n",
       "\u001b[36m  \u001b[39m\n",
       "\u001b[36m  julia> x + prevfloat(eps(x)/2) # rounds down\u001b[39m\n",
       "\u001b[36m  1.7976931348623157e308\u001b[39m\n",
       "\n",
       "  ────────────────────────────────────────────────────────────────────────────\n",
       "\n",
       "\u001b[36m  eps(::Type{DateTime}) -> Millisecond\u001b[39m\n",
       "\u001b[36m  eps(::Type{Date}) -> Day\u001b[39m\n",
       "\u001b[36m  eps(::Type{Time}) -> Nanosecond\u001b[39m\n",
       "\u001b[36m  eps(::TimeType) -> Period\u001b[39m\n",
       "\n",
       "  Return the smallest unit value supported by the \u001b[36mTimeType\u001b[39m.\n",
       "\n",
       "\u001b[1m  Examples\u001b[22m\n",
       "\u001b[1m  ≡≡≡≡≡≡≡≡≡≡\u001b[22m\n",
       "\n",
       "\u001b[36m  julia> eps(DateTime)\u001b[39m\n",
       "\u001b[36m  1 millisecond\u001b[39m\n",
       "\u001b[36m  \u001b[39m\n",
       "\u001b[36m  julia> eps(Date)\u001b[39m\n",
       "\u001b[36m  1 day\u001b[39m\n",
       "\u001b[36m  \u001b[39m\n",
       "\u001b[36m  julia> eps(Time)\u001b[39m\n",
       "\u001b[36m  1 nanosecond\u001b[39m"
      ]
     },
     "execution_count": 153,
     "metadata": {},
     "output_type": "execute_result"
    }
   ],
   "source": [
    "? eps"
   ]
  },
  {
   "cell_type": "markdown",
   "metadata": {},
   "source": [
    "# Application: k-means"
   ]
  },
  {
   "cell_type": "markdown",
   "metadata": {},
   "source": [
    "See Chapter 4 of [VMLS]"
   ]
  },
  {
   "cell_type": "markdown",
   "metadata": {},
   "source": [
    "Taken from Listings 9.12 and 9.13 of [SWJ]:"
   ]
  },
  {
   "cell_type": "markdown",
   "metadata": {},
   "source": [
    "$$\n",
    "J^{\\text {clust }}=\\left(\\left\\|x_{1}-z_{c_{1}}\\right\\|^{2}+\\cdots+\\left\\|x_{N}-z_{c_{N}}\\right\\|^{2}\\right) / N\n",
    "$$"
   ]
  },
  {
   "cell_type": "markdown",
   "metadata": {},
   "source": [
    "With fixed representatives:\n",
    "$$\n",
    "\\left(\\min _{j=1, \\ldots, k}\\left\\|x_{1}-z_{j}\\right\\|^{2}+\\cdots+\\min _{j=1, \\ldots, k}\\left\\|x_{N}-z_{j}\\right\\|^{2}\\right) / N\n",
    "$$"
   ]
  },
  {
   "cell_type": "markdown",
   "metadata": {},
   "source": [
    "With fixed assignments:\n",
    "$$\n",
    "z_{j}=\\left(1 /\\left|G_{j}\\right|\\right) \\sum_{i \\in G_{j}} x_{i}\n",
    "$$"
   ]
  },
  {
   "cell_type": "code",
   "execution_count": 166,
   "metadata": {},
   "outputs": [
    {
     "name": "stderr",
     "output_type": "stream",
     "text": [
      "\u001b[32m\u001b[1m   Resolving\u001b[22m\u001b[39m package versions...\n",
      "\u001b[32m\u001b[1m  No Changes\u001b[22m\u001b[39m to `~/.julia/environments/v1.8/Project.toml`\n",
      "\u001b[32m\u001b[1m  No Changes\u001b[22m\u001b[39m to `~/.julia/environments/v1.8/Manifest.toml`\n"
     ]
    }
   ],
   "source": [
    "using Pkg\n",
    "Pkg.add(\"Clustering\")"
   ]
  },
  {
   "cell_type": "code",
   "execution_count": 174,
   "metadata": {},
   "outputs": [
    {
     "ename": "LoadError",
     "evalue": "The following package names could not be resolved:\n * RDataSets (not found in project, manifest or registry)\n",
     "output_type": "error",
     "traceback": [
      "The following package names could not be resolved:\n * RDataSets (not found in project, manifest or registry)\n",
      "",
      "Stacktrace:",
      "  [1] pkgerror(msg::String)",
      "    @ Pkg.Types /private/tmp/julia-20210615-80123-ag9qn6/usr/share/julia/stdlib/v1.8/Pkg/src/Types.jl:68",
      "  [2] ensure_resolved(manifest::Pkg.Types.Manifest, pkgs::Vector{Pkg.Types.PackageSpec}; registry::Bool)",
      "    @ Pkg.Types /private/tmp/julia-20210615-80123-ag9qn6/usr/share/julia/stdlib/v1.8/Pkg/src/Types.jl:913",
      "  [3] add(ctx::Pkg.Types.Context, pkgs::Vector{Pkg.Types.PackageSpec}; preserve::Pkg.Types.PreserveLevel, platform::Base.BinaryPlatforms.Platform, kwargs::Base.Pairs{Symbol, IJulia.IJuliaStdio{Base.PipeEndpoint}, Tuple{Symbol}, NamedTuple{(:io,), Tuple{IJulia.IJuliaStdio{Base.PipeEndpoint}}}})",
      "    @ Pkg.API /private/tmp/julia-20210615-80123-ag9qn6/usr/share/julia/stdlib/v1.8/Pkg/src/API.jl:257",
      "  [4] add(pkgs::Vector{Pkg.Types.PackageSpec}; io::IJulia.IJuliaStdio{Base.PipeEndpoint}, kwargs::Base.Pairs{Symbol, Union{}, Tuple{}, NamedTuple{(), Tuple{}}})",
      "    @ Pkg.API /private/tmp/julia-20210615-80123-ag9qn6/usr/share/julia/stdlib/v1.8/Pkg/src/API.jl:149",
      "  [5] add(pkgs::Vector{Pkg.Types.PackageSpec})",
      "    @ Pkg.API /private/tmp/julia-20210615-80123-ag9qn6/usr/share/julia/stdlib/v1.8/Pkg/src/API.jl:144",
      "  [6] #add#27",
      "    @ /private/tmp/julia-20210615-80123-ag9qn6/usr/share/julia/stdlib/v1.8/Pkg/src/API.jl:142 [inlined]",
      "  [7] add",
      "    @ /private/tmp/julia-20210615-80123-ag9qn6/usr/share/julia/stdlib/v1.8/Pkg/src/API.jl:142 [inlined]",
      "  [8] #add#26",
      "    @ /private/tmp/julia-20210615-80123-ag9qn6/usr/share/julia/stdlib/v1.8/Pkg/src/API.jl:141 [inlined]",
      "  [9] add(pkg::String)",
      "    @ Pkg.API /private/tmp/julia-20210615-80123-ag9qn6/usr/share/julia/stdlib/v1.8/Pkg/src/API.jl:141",
      " [10] top-level scope",
      "    @ In[174]:2",
      " [11] eval",
      "    @ ./boot.jl:373 [inlined]",
      " [12] include_string(mapexpr::typeof(REPL.softscope), mod::Module, code::String, filename::String)",
      "    @ Base ./loading.jl:1196"
     ]
    }
   ],
   "source": [
    "using Pkg\n",
    "Pkg.add(\"RDataSets\")"
   ]
  },
  {
   "cell_type": "markdown",
   "metadata": {},
   "source": [
    "$$\\frac{1}{3} \\Big( [x_1,x_2] + [y_1, y_2] + [z_1,z_2] \\Big)$$"
   ]
  },
  {
   "cell_type": "code",
   "execution_count": 168,
   "metadata": {},
   "outputs": [
    {
     "ename": "LoadError",
     "evalue": "UndefVarError: df not defined",
     "output_type": "error",
     "traceback": [
      "UndefVarError: df not defined",
      "",
      "Stacktrace:",
      " [1] top-level scope",
      "   @ :0",
      " [2] eval",
      "   @ ./boot.jl:373 [inlined]",
      " [3] include_string(mapexpr::typeof(REPL.softscope), mod::Module, code::String, filename::String)",
      "   @ Base ./loading.jl:1196"
     ]
    }
   ],
   "source": [
    "df"
   ]
  },
  {
   "cell_type": "code",
   "execution_count": 157,
   "metadata": {},
   "outputs": [
    {
     "ename": "LoadError",
     "evalue": "UndefVarError: data not defined",
     "output_type": "error",
     "traceback": [
      "UndefVarError: data not defined",
      "",
      "Stacktrace:",
      " [1] top-level scope",
      "   @ :0",
      " [2] eval",
      "   @ ./boot.jl:373 [inlined]",
      " [3] include_string(mapexpr::typeof(REPL.softscope), mod::Module, code::String, filename::String)",
      "   @ Base ./loading.jl:1196"
     ]
    }
   ],
   "source": [
    "data"
   ]
  },
  {
   "cell_type": "code",
   "execution_count": 158,
   "metadata": {},
   "outputs": [
    {
     "ename": "LoadError",
     "evalue": "UndefVarError: xclaraKmeans not defined",
     "output_type": "error",
     "traceback": [
      "UndefVarError: xclaraKmeans not defined",
      "",
      "Stacktrace:",
      " [1] top-level scope",
      "   @ :0",
      " [2] eval",
      "   @ ./boot.jl:373 [inlined]",
      " [3] include_string(mapexpr::typeof(REPL.softscope), mod::Module, code::String, filename::String)",
      "   @ Base ./loading.jl:1196"
     ]
    }
   ],
   "source": [
    "xclaraKmeans"
   ]
  },
  {
   "cell_type": "code",
   "execution_count": 171,
   "metadata": {},
   "outputs": [
    {
     "ename": "LoadError",
     "evalue": "ArgumentError: Package RDatasets not found in current path:\n- Run `import Pkg; Pkg.add(\"RDatasets\")` to install the RDatasets package.\n",
     "output_type": "error",
     "traceback": [
      "ArgumentError: Package RDatasets not found in current path:\n- Run `import Pkg; Pkg.add(\"RDatasets\")` to install the RDatasets package.\n",
      "",
      "Stacktrace:",
      " [1] require(into::Module, mod::Symbol)",
      "   @ Base ./loading.jl:967",
      " [2] eval",
      "   @ ./boot.jl:373 [inlined]",
      " [3] include_string(mapexpr::typeof(REPL.softscope), mod::Module, code::String, filename::String)",
      "   @ Base ./loading.jl:1196"
     ]
    }
   ],
   "source": [
    "using Clustering, RDatasets, Random, Measures, Plots; pyplot() #PyPlot backend\n",
    "Random.seed!(0)\n",
    "\n",
    "K = 3 #number of clusters\n",
    "df = dataset(\"cluster\", \"xclara\") #iris dataset (from Fischer...) from RDatasets\n",
    "data = copy(convert(Array{Float64}, df)')\n",
    "\n",
    "seeds = initseeds(:rand, data, K) #init the centroids\n",
    "xclaraKmeans = kmeans(data, K, init = seeds) #Thonis is the acti\n",
    "\n",
    "println(\"Number of clusters: \", nclusters(xclaraKmeans))\n",
    "println(\"Counts of clusters: \", counts(xclaraKmeans))\n",
    "\n",
    "df.Group  = assignments(xclaraKmeans)\n",
    "\n",
    "p1 = scatter(df[:, :V1], df[:, :V2], c=:blue, msw=0)\n",
    "     scatter!(df[seeds, :V1], df[seeds, :V2], markersize=12, c=:red, msw=0)\n",
    "\n",
    "p2 = scatter( df[df.Group .== 1, :V1], df[df.Group .== 1, :V2], c=:blue, msw=0)\n",
    "     scatter!( df[df.Group .== 2, :V1], df[df.Group .== 2, :V2], c=:red, msw=0)\n",
    "     scatter!( df[df.Group .== 3, :V1], df[df.Group .== 3, :V2], c=:green, msw=0)\n",
    "     #scatter!( df[df.Group .== 4, :V1], df[df.Group .== 4, :V2], c=:black, msw=0) for 4\n",
    "\n",
    "\n",
    "plot(p1,p2,legend=:none,ratio=:equal,\n",
    "    size=(800,400), xlabel=\"V1\", ylabel=\"V2\", margin = 5mm)#margin needs Measures"
   ]
  },
  {
   "cell_type": "code",
   "execution_count": 160,
   "metadata": {},
   "outputs": [
    {
     "ename": "LoadError",
     "evalue": "UndefVarError: dataPoints not defined",
     "output_type": "error",
     "traceback": [
      "UndefVarError: dataPoints not defined",
      "",
      "Stacktrace:",
      " [1] top-level scope",
      "   @ :0",
      " [2] eval",
      "   @ ./boot.jl:373 [inlined]",
      " [3] include_string(mapexpr::typeof(REPL.softscope), mod::Module, code::String, filename::String)",
      "   @ Base ./loading.jl:1196"
     ]
    }
   ],
   "source": [
    "dataPoints"
   ]
  },
  {
   "cell_type": "code",
   "execution_count": 161,
   "metadata": {},
   "outputs": [
    {
     "ename": "LoadError",
     "evalue": "ArgumentError: Package RDatasets not found in current path:\n- Run `import Pkg; Pkg.add(\"RDatasets\")` to install the RDatasets package.\n",
     "output_type": "error",
     "traceback": [
      "ArgumentError: Package RDatasets not found in current path:\n- Run `import Pkg; Pkg.add(\"RDatasets\")` to install the RDatasets package.\n",
      "",
      "Stacktrace:",
      " [1] require(into::Module, mod::Symbol)",
      "   @ Base ./loading.jl:967",
      " [2] eval",
      "   @ ./boot.jl:373 [inlined]",
      " [3] include_string(mapexpr::typeof(REPL.softscope), mod::Module, code::String, filename::String)",
      "   @ Base ./loading.jl:1196"
     ]
    }
   ],
   "source": [
    "using RDatasets, Distributions, Random, LinearAlgebra\n",
    "Random.seed!(0)\n",
    "\n",
    "K = 3\n",
    "df = dataset(\"cluster\", \"xclara\")\n",
    "n,_ = size(df)\n",
    "dataPoints = [convert(Array{Float64,1},df[i,:]) for i in 1:n]\n",
    "shuffle!(dataPoints)\n",
    "\n",
    "xMin,xMax = minimum(first.(dataPoints)),maximum(first.(dataPoints))\n",
    "yMin,yMax = minimum(last.(dataPoints)),maximum(last.(dataPoints))\n",
    "\n",
    "means = [[rand(Uniform(xMin,xMax)),rand(Uniform(yMin,yMax))]  for _ in 1:K]\n",
    "labels = rand(1:K,n)\n",
    "prevMeans = -means\n",
    "\n",
    "while norm(prevMeans - means) > 0.001 #stopping criteria\n",
    "    prevMeans = means\n",
    "    labels = [argmin(\n",
    "                    [norm(means[i]-x) for i in 1:K]\n",
    "                        ) for x in dataPoints]\n",
    "    means = [sum(dataPoints[labels .== i])/sum(labels .==i) for i in 1:K]\n",
    "    println(\"next...\")\n",
    "end\n",
    "\n",
    "cnts = [sum(labels .== i) for i in 1:K]\n",
    "println(\"Counts of clusters (manual implementation): \", cnts)"
   ]
  },
  {
   "cell_type": "code",
   "execution_count": 162,
   "metadata": {},
   "outputs": [
    {
     "ename": "LoadError",
     "evalue": "UndefVarError: labels not defined",
     "output_type": "error",
     "traceback": [
      "UndefVarError: labels not defined",
      "",
      "Stacktrace:",
      " [1] top-level scope",
      "   @ :0",
      " [2] eval",
      "   @ ./boot.jl:373 [inlined]",
      " [3] include_string(mapexpr::typeof(REPL.softscope), mod::Module, code::String, filename::String)",
      "   @ Base ./loading.jl:1196"
     ]
    }
   ],
   "source": [
    "labels"
   ]
  },
  {
   "cell_type": "code",
   "execution_count": 163,
   "metadata": {},
   "outputs": [
    {
     "ename": "LoadError",
     "evalue": "UndefVarError: labels not defined",
     "output_type": "error",
     "traceback": [
      "UndefVarError: labels not defined",
      "",
      "Stacktrace:",
      " [1] top-level scope",
      "   @ In[163]:1",
      " [2] eval",
      "   @ ./boot.jl:373 [inlined]",
      " [3] include_string(mapexpr::typeof(REPL.softscope), mod::Module, code::String, filename::String)",
      "   @ Base ./loading.jl:1196"
     ]
    }
   ],
   "source": [
    "labels .== 3"
   ]
  },
  {
   "cell_type": "code",
   "execution_count": 164,
   "metadata": {},
   "outputs": [
    {
     "data": {
      "text/plain": [
       "false"
      ]
     },
     "execution_count": 164,
     "metadata": {},
     "output_type": "execute_result"
    }
   ],
   "source": [
    "[1,2,3] == 8"
   ]
  },
  {
   "cell_type": "code",
   "execution_count": null,
   "metadata": {},
   "outputs": [],
   "source": []
  }
 ],
 "metadata": {
  "@webio": {
   "lastCommId": null,
   "lastKernelId": null
  },
  "kernelspec": {
   "display_name": "Julia 1.8.0-DEV",
   "language": "julia",
   "name": "julia-1.8"
  },
  "language_info": {
   "file_extension": ".jl",
   "mimetype": "application/julia",
   "name": "julia",
   "version": "1.8.0"
  }
 },
 "nbformat": 4,
 "nbformat_minor": 2
}
