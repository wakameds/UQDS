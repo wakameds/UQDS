{
 "cells": [
  {
   "cell_type": "markdown",
   "metadata": {},
   "source": [
    "# For practical of Week 9"
   ]
  },
  {
   "cell_type": "markdown",
   "metadata": {},
   "source": [
    "Reminder: a symmetric matrix $A$ satisfies:\n",
    "* All eigenvalues are real.\n",
    "* Eigenvectors are orthogonal."
   ]
  },
  {
   "cell_type": "markdown",
   "metadata": {},
   "source": [
    "Consider a symmetric matrix $A$:\n",
    "* It is said to be positive definite if all eigenvalues are strictly positive. \n",
    "* It is said to be negative definite if all eigenvalues are strictly negative.\n",
    "* It is said to be positive semi-definite if all eigenvalues are non-negative.\n",
    "* It is said to be negative semi-definite if all eigenvalues are non-postive.\n",
    "* Otherwise, the matrix is said to be indefinite. \n",
    "\n",
    "Example: Consider the symmetric matrix:\n",
    "$$\n",
    "A = \\left[\\begin{matrix}\n",
    "1 & 2 \\\\\n",
    "2 & 1\n",
    "\\end{matrix}\\right]\n",
    "$$\n",
    "**Determine if it is positive definite, negative definite, etc...\n",
    "(compute eigenvalues by hand and with Julia).**"
   ]
  },
  {
   "cell_type": "code",
   "execution_count": 9,
   "metadata": {},
   "outputs": [
    {
     "data": {
      "text/plain": [
       "2-element Array{Float64,1}:\n",
       " -1.0\n",
       "  3.0"
      ]
     },
     "execution_count": 9,
     "metadata": {},
     "output_type": "execute_result"
    }
   ],
   "source": [
    "using LinearAlgebra\n",
    "A = [1 2; 2 1]\n",
    "eigvals(A)"
   ]
  },
  {
   "cell_type": "markdown",
   "metadata": {},
   "source": [
    "So we see that $A$ is indefinite."
   ]
  },
  {
   "cell_type": "markdown",
   "metadata": {},
   "source": [
    "Now consider the matrix $B_s = A + sI$. \n",
    "\n",
    "**What is the minimal value of $s$ so that $B_s$ is positive semi-definite?**"
   ]
  },
  {
   "cell_type": "markdown",
   "metadata": {},
   "source": [
    "Solution: Consider an eigenvalue $\\lambda$ of $A$ and a corresponding eigenvector $x$.  \n",
    "$$\n",
    "A x = \\lambda x\n",
    "$$\n",
    "Now add $sIx$ to both sides of the equation:\n",
    "$$\n",
    "(A+sI) x = \\lambda x + sx\n",
    "$$\n",
    "or\n",
    "$$\n",
    "B_s x = (\\lambda+s) x\n",
    "$$\n",
    "Hence we see that $\\lambda + s$ is an eigenvalue of $B_s$.\n",
    "\n",
    "So if we add I to $A$ it will be positive semi-definite and if we add $(1+\\epsilon)A$ with $\\epsilon > 0$ it will be positive definite."
   ]
  },
  {
   "cell_type": "code",
   "execution_count": 10,
   "metadata": {},
   "outputs": [
    {
     "data": {
      "text/plain": [
       "2-element Array{Float64,1}:\n",
       " 0.0\n",
       " 4.0"
      ]
     },
     "execution_count": 10,
     "metadata": {},
     "output_type": "execute_result"
    }
   ],
   "source": [
    "using LinearAlgebra\n",
    "A = [1 2; 2 1]\n",
    "eigvals(A + I)"
   ]
  },
  {
   "cell_type": "code",
   "execution_count": 12,
   "metadata": {},
   "outputs": [
    {
     "data": {
      "text/plain": [
       "2-element Array{Float64,1}:\n",
       " 0.009999999999999787\n",
       " 4.01"
      ]
     },
     "execution_count": 12,
     "metadata": {},
     "output_type": "execute_result"
    }
   ],
   "source": [
    "ϵ = 0.01  #\\epsilon + [TAB]\n",
    "eigvals(A + (1+ϵ)*I)"
   ]
  },
  {
   "cell_type": "markdown",
   "metadata": {},
   "source": [
    "A key property is the \"energy based\" definition of a positive definite matrix.\n",
    "\n",
    "A (symmetric) matrix $A$ is positive definite, if and only if for any vector $x \\neq 0$,\n",
    "$$\n",
    "x^T A x > 0\n",
    "$$\n",
    "\n",
    "**Show that the quadratic form $x^T A x$ can be written element wise via,**\n",
    "\n",
    "$$\n",
    "x^T A x = \\sum_{i=1}^n \\sum_{j=1}^n A_{ij} x_i x_j.\n",
    "$$"
   ]
  },
  {
   "cell_type": "markdown",
   "metadata": {},
   "source": [
    "**Prove that if a diagonal entry in $A$ is negative then it isn't positive definite**\n",
    "\n",
    "Solution: If $A_{ii} < 0$ then choose $x = e_i$ and hence $x^TAx = A_{ii} < 0$."
   ]
  },
  {
   "cell_type": "markdown",
   "metadata": {},
   "source": [
    "**Prove that if a diagonal entry in $A$ is negative then it isn't positive definite**\n",
    "\n",
    "Solution: If $A_{ii} < 0$ then choose $x = e_i$ and hence $x^TAx = A_{ii} < 0$."
   ]
  },
  {
   "cell_type": "markdown",
   "metadata": {},
   "source": [
    "**Prove that a sum of two positive definite matrices is positive definite**\n",
    "\n",
    "Solution: Use the energy based definition.\n",
    "$$\n",
    "x^T(A+B)x = x^TAx + x^TBx\n",
    "$$\n"
   ]
  }
 ],
 "metadata": {
  "kernelspec": {
   "display_name": "JuliaPro_v1.4.2-1 1.4.2",
   "language": "julia",
   "name": "juliapro_v1.4.2-1-1.4"
  },
  "language_info": {
   "file_extension": ".jl",
   "mimetype": "application/julia",
   "name": "julia",
   "version": "1.4.2"
  }
 },
 "nbformat": 4,
 "nbformat_minor": 4
}
