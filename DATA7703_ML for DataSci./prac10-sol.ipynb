{
 "cells": [
  {
   "cell_type": "markdown",
   "metadata": {},
   "source": [
    "<center style=\"font-size:30px; font-weight:bold\">DATA7703, Practical 10 Solutions<center>\n",
    "    <br>\n",
    "<center style=\"font-size:20px\">2021 Semester 2<center>"
   ]
  },
  {
   "cell_type": "markdown",
   "metadata": {},
   "source": [
    "**Q1** **(a)** We load the dataset and construct a 70/30 train-test split as follows. "
   ]
  },
  {
   "cell_type": "code",
   "execution_count": 1,
   "metadata": {},
   "outputs": [],
   "source": [
    "from sklearn.datasets import load_diabetes\n",
    "from sklearn.model_selection import train_test_split\n",
    "\n",
    "diabetes = load_diabetes() \n",
    "X, y = load_diabetes(return_X_y=True)\n",
    "X_tr, X_ts, y_tr, y_ts = train_test_split(X, y, test_size=0.3, random_state=42)"
   ]
  },
  {
   "cell_type": "markdown",
   "metadata": {},
   "source": [
    "We can print the full dataset description as follows. There are 10 numeric predictive features. The target variable is a quantitative measure of diabetes progression one year after baseline. "
   ]
  },
  {
   "cell_type": "code",
   "execution_count": 2,
   "metadata": {},
   "outputs": [
    {
     "name": "stdout",
     "output_type": "stream",
     "text": [
      ".. _diabetes_dataset:\n",
      "\n",
      "Diabetes dataset\n",
      "----------------\n",
      "\n",
      "Ten baseline variables, age, sex, body mass index, average blood\n",
      "pressure, and six blood serum measurements were obtained for each of n =\n",
      "442 diabetes patients, as well as the response of interest, a\n",
      "quantitative measure of disease progression one year after baseline.\n",
      "\n",
      "**Data Set Characteristics:**\n",
      "\n",
      "  :Number of Instances: 442\n",
      "\n",
      "  :Number of Attributes: First 10 columns are numeric predictive values\n",
      "\n",
      "  :Target: Column 11 is a quantitative measure of disease progression one year after baseline\n",
      "\n",
      "  :Attribute Information:\n",
      "      - age     age in years\n",
      "      - sex\n",
      "      - bmi     body mass index\n",
      "      - bp      average blood pressure\n",
      "      - s1      tc, T-Cells (a type of white blood cells)\n",
      "      - s2      ldl, low-density lipoproteins\n",
      "      - s3      hdl, high-density lipoproteins\n",
      "      - s4      tch, thyroid stimulating hormone\n",
      "      - s5      ltg, lamotrigine\n",
      "      - s6      glu, blood sugar level\n",
      "\n",
      "Note: Each of these 10 feature variables have been mean centered and scaled by the standard deviation times `n_samples` (i.e. the sum of squares of each column totals 1).\n",
      "\n",
      "Source URL:\n",
      "https://www4.stat.ncsu.edu/~boos/var.select/diabetes.html\n",
      "\n",
      "For more information see:\n",
      "Bradley Efron, Trevor Hastie, Iain Johnstone and Robert Tibshirani (2004) \"Least Angle Regression,\" Annals of Statistics (with discussion), 407-499.\n",
      "(https://web.stanford.edu/~hastie/Papers/LARS/LeastAngle_2002.pdf)\n"
     ]
    }
   ],
   "source": [
    "print(diabetes.DESCR)"
   ]
  },
  {
   "cell_type": "markdown",
   "metadata": {},
   "source": [
    "The means and standard deviations of the features are computed as follows. We can see that the means are all essentially 0, and standard deviations are all essentially 0.04756515."
   ]
  },
  {
   "cell_type": "code",
   "execution_count": 3,
   "metadata": {},
   "outputs": [
    {
     "data": {
      "text/plain": [
       "(array([-3.63428493e-16,  1.30834257e-16, -8.04534920e-16,  1.28165452e-16,\n",
       "        -8.83531559e-17,  1.32702421e-16, -4.57464634e-16,  3.77730150e-16,\n",
       "        -3.83085422e-16, -3.41288202e-16]),\n",
       " array([0.04756515, 0.04756515, 0.04756515, 0.04756515, 0.04756515,\n",
       "        0.04756515, 0.04756515, 0.04756515, 0.04756515, 0.04756515]))"
      ]
     },
     "execution_count": 3,
     "metadata": {},
     "output_type": "execute_result"
    }
   ],
   "source": [
    "X.mean(axis=0), X.std(axis=0)"
   ]
  },
  {
   "cell_type": "markdown",
   "metadata": {},
   "source": [
    "The range of the target variable is from 25.0 to 346.0."
   ]
  },
  {
   "cell_type": "code",
   "execution_count": 4,
   "metadata": {},
   "outputs": [
    {
     "data": {
      "text/plain": [
       "(25.0, 346.0)"
      ]
     },
     "execution_count": 4,
     "metadata": {},
     "output_type": "execute_result"
    }
   ],
   "source": [
    "y.min(), y.max()"
   ]
  },
  {
   "cell_type": "markdown",
   "metadata": {},
   "source": [
    "**(b)** We have already done things like this many times by now. The solution code is shown below, together with the training and test MSEs."
   ]
  },
  {
   "cell_type": "code",
   "execution_count": 5,
   "metadata": {},
   "outputs": [
    {
     "name": "stdout",
     "output_type": "stream",
     "text": [
      "R2 (train): 0.524413200822697\n",
      "R2 (test): 0.4772920174157329\n",
      "MSE (train): 2924.0416789072897\n",
      "MSE (test): 2821.7385595843784\n"
     ]
    }
   ],
   "source": [
    "from sklearn.linear_model import LinearRegression\n",
    "from sklearn.metrics import mean_squared_error\n",
    "\n",
    "reg = LinearRegression()\n",
    "reg.fit(X_tr, y_tr)\n",
    "print('R2 (train):', reg.score(X_tr, y_tr))\n",
    "print('R2 (test):', reg.score(X_ts, y_ts))\n",
    "print('MSE (train):', mean_squared_error(y_tr, reg.predict(X_tr)))\n",
    "print('MSE (test):', mean_squared_error(y_ts, reg.predict(X_ts)))"
   ]
  },
  {
   "cell_type": "markdown",
   "metadata": {},
   "source": [
    "Note that the training and test R2 values are only around 0.5, that is, only about 50% of the variance in the target variable is explained by the OLS model. This suggests that the dataset is likely to be highly nonlinear or has high variance."
   ]
  },
  {
   "cell_type": "markdown",
   "metadata": {},
   "source": [
    "**(c)** We define a `run` function to repeatedly train and test a model on given training and test sets for a specified number of times, and return the training and test MSEs for all runs. "
   ]
  },
  {
   "cell_type": "code",
   "execution_count": 6,
   "metadata": {},
   "outputs": [],
   "source": [
    "from sklearn.linear_model import RANSACRegressor\n",
    "\n",
    "def run(reg, X_tr, y_tr, X_ts, y_ts, n_trials=10):\n",
    "    mse_tr = []\n",
    "    mse_ts = []\n",
    "    for i in range(n_trials):\n",
    "        reg.fit(X_tr, y_tr)\n",
    "        mse_tr.append(mean_squared_error(y_tr, reg.predict(X_tr)))\n",
    "        mse_ts.append(mean_squared_error(y_ts, reg.predict(X_ts)))\n",
    "    mse = np.array([mse_tr, mse_ts])\n",
    "    return mse"
   ]
  },
  {
   "cell_type": "markdown",
   "metadata": {},
   "source": [
    "We use the `run` function to evaluate the RANSAC regressor as follows."
   ]
  },
  {
   "cell_type": "code",
   "execution_count": 7,
   "metadata": {},
   "outputs": [
    {
     "name": "stdout",
     "output_type": "stream",
     "text": [
      "MSE (train): 5353.17 (1220.20)\n",
      "MSE (test): 5018.15 (1584.04)\n"
     ]
    }
   ],
   "source": [
    "np.random.seed(1) # for reproducibility\n",
    "\n",
    "mse = run(RANSACRegressor(), X_tr, y_tr, X_ts, y_ts)\n",
    "print('MSE (train): %.2f (%.2f)' % (mse[0].mean(), mse[0].std()))\n",
    "print('MSE (test): %.2f (%.2f)' % (mse[1].mean(), mse[1].std()))"
   ]
  },
  {
   "cell_type": "markdown",
   "metadata": {},
   "source": [
    "On average, the RANSAC regressor has much higher training and test MSEs as compared to OLS. However, note that the standard errors are high, suggesting that some runs have much better performance than the average performance. This is not very surprising considering that in (c), we have pointed out that the diabetes data is likely nonlinear or has high variance. In both cases, since RANSAC defaults to use just subsamples of size 10+1=11, the outlier detector, being a linear model, has a low probability of being a good one.\n",
    "\n",
    "One simple way to deal with this problem is to increase the number of trials in RANSAC, so as to increase the probability of getting a good inlier detector, and thus getting a better final model. Indeed, if we increase the number of trials from the default of 100 to 1000, we observe a much better performance. However, the training and test MSEs are still not as competitive as OLS."
   ]
  },
  {
   "cell_type": "code",
   "execution_count": 8,
   "metadata": {},
   "outputs": [
    {
     "name": "stdout",
     "output_type": "stream",
     "text": [
      "MSE (train): 3840.60 (220.76)\n",
      "MSE (test): 3800.72 (52.02)\n"
     ]
    }
   ],
   "source": [
    "np.random.seed(1) # for reproducibility\n",
    "\n",
    "mse = run(RANSACRegressor(max_trials=1000), X_tr, y_tr, X_ts, y_ts)\n",
    "print('MSE (train): %.2f (%.2f)' % (mse[:, 0].mean(), mse[:, 0].std()))\n",
    "print('MSE (test): %.2f (%.2f)' % (mse[:, 1].mean(), mse[:, 1].std()))"
   ]
  },
  {
   "cell_type": "markdown",
   "metadata": {},
   "source": [
    "**(d)** We compute the means and standard errors using the code below."
   ]
  },
  {
   "cell_type": "code",
   "execution_count": 9,
   "metadata": {},
   "outputs": [],
   "source": [
    "means = []\n",
    "stds = []\n",
    "probs = np.arange(0.05, 1, 0.05)\n",
    "for p in probs:\n",
    "    mse = run(RANSACRegressor(min_samples=p), X_tr, y_tr, X_ts, y_ts)\n",
    "    means.append(mse.mean(axis=1))\n",
    "    stds.append(mse.std(axis=1))\n",
    "means = np.array(means)\n",
    "stds = np.array(stds)"
   ]
  },
  {
   "cell_type": "markdown",
   "metadata": {},
   "source": [
    "We plot the means and standard errors using the code below."
   ]
  },
  {
   "cell_type": "code",
   "execution_count": 10,
   "metadata": {},
   "outputs": [
    {
     "data": {
      "image/png": "[encoded data removed]",
      "text/plain": [
       "<Figure size 432x288 with 1 Axes>"
      ]
     },
     "metadata": {
      "needs_background": "light"
     },
     "output_type": "display_data"
    }
   ],
   "source": [
    "import matplotlib.pyplot as plt\n",
    "\n",
    "plt.errorbar(probs, means[:, 0], yerr=stds[:, 0], label='MSE (train)')\n",
    "plt.errorbar(probs, means[:, 1], yerr=stds[:, 1], label='MSE (test)')\n",
    "plt.legend()\n",
    "plt.show()"
   ]
  },
  {
   "cell_type": "markdown",
   "metadata": {},
   "source": [
    "We can see that as we increase `min_samples`, both the training and test MSEs of RANSAC improves on average, and the variance of the performance across different runs become smaller."
   ]
  },
  {
   "cell_type": "markdown",
   "metadata": {},
   "source": [
    "**(e)** We consider support vector regressors using linear and RBF kernel, with $C$ values chosen from 0.01, 0.1, 1, 10, 100. We use 2-fold cross validation to choose a model. This can be conveniently implemented using `GridSearchCV` in `sklearn` as follows."
   ]
  },
  {
   "cell_type": "code",
   "execution_count": 11,
   "metadata": {},
   "outputs": [
    {
     "data": {
      "text/plain": [
       "SVR(C=100)"
      ]
     },
     "execution_count": 11,
     "metadata": {},
     "output_type": "execute_result"
    }
   ],
   "source": [
    "from sklearn.svm import SVR\n",
    "from sklearn.model_selection import GridSearchCV\n",
    "\n",
    "parameters = {'kernel':('linear', 'rbf'), 'C':[0.01, 0.1, 1, 10, 100]}\n",
    "gridcv = GridSearchCV(SVR(), parameters, cv=2)\n",
    "gridcv.fit(X_tr, y_tr)\n",
    "gridcv.best_estimator_"
   ]
  },
  {
   "cell_type": "markdown",
   "metadata": {},
   "source": [
    "The chosen SVR model thus uses RBF kernel, with $C=100$. The training and test MSEs of this model is shown below. We can see that it has better training set MSE and similar test set MSE as compared to OLS."
   ]
  },
  {
   "cell_type": "code",
   "execution_count": 12,
   "metadata": {},
   "outputs": [
    {
     "name": "stdout",
     "output_type": "stream",
     "text": [
      "MSE (train): 2019.6636018472343\n",
      "MSE (test): 2819.8928454397833\n"
     ]
    }
   ],
   "source": [
    "reg = gridcv.best_estimator_\n",
    "print('MSE (train):', mean_squared_error(y_tr, reg.predict(X_tr)))\n",
    "print('MSE (test):', mean_squared_error(y_ts, reg.predict(X_ts)))"
   ]
  },
  {
   "cell_type": "markdown",
   "metadata": {},
   "source": [
    "**(f)** The performance plot of RANSAC using SVR in (e) as the basis model is obtained using the code below. We observe a similar effect of `min_samples` as in the case of using OLS as the basis model. However, RANSAC using SVR as the basis model has significantly better training set performance, while the test set performance is slightly worse."
   ]
  },
  {
   "cell_type": "code",
   "execution_count": 13,
   "metadata": {},
   "outputs": [
    {
     "data": {
      "image/png": "[encoded data removed]",
      "text/plain": [
       "<Figure size 432x288 with 1 Axes>"
      ]
     },
     "metadata": {
      "needs_background": "light"
     },
     "output_type": "display_data"
    }
   ],
   "source": [
    "means = []\n",
    "stds = []\n",
    "probs = np.arange(0.05, 1, 0.05)\n",
    "for p in probs:\n",
    "    mse = run(RANSACRegressor(SVR(C=100), min_samples=p), X_tr, y_tr, X_ts, y_ts)\n",
    "    means.append(mse.mean(axis=1))\n",
    "    stds.append(mse.std(axis=1))\n",
    "means = np.array(means)\n",
    "stds = np.array(stds)\n",
    "\n",
    "plt.errorbar(probs, means[:, 0], yerr=stds[:, 0], label='MSE (train)')\n",
    "plt.errorbar(probs, means[:, 1], yerr=stds[:, 1], label='MSE (test)')\n",
    "plt.legend()\n",
    "plt.show()"
   ]
  }
 ],
 "metadata": {
  "hide_input": false,
  "kernelspec": {
   "display_name": "Python 3",
   "language": "python",
   "name": "python3"
  },
  "language_info": {
   "codemirror_mode": {
    "name": "ipython",
    "version": 3
   },
   "file_extension": ".py",
   "mimetype": "text/x-python",
   "name": "python",
   "nbconvert_exporter": "python",
   "pygments_lexer": "ipython3",
   "version": "3.9.5"
  }
 },
 "nbformat": 4,
 "nbformat_minor": 4
}
