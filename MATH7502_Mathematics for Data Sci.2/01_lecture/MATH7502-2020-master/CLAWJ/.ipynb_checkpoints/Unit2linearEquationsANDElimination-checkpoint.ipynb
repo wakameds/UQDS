{
 "cells": [
  {
   "cell_type": "markdown",
   "metadata": {},
   "source": [
    "# Unit 2: Linear Equations and Elimination\n",
    "\n",
    "In this unit:\n",
    "1. Linear equations\n",
    "1. Gaussian elimination\n",
    "1. Pivots\n",
    "1. Rank\n",
    "1. LU factorization\n",
    "1. Taylor series expansions with Jacobians"
   ]
  },
  {
   "cell_type": "markdown",
   "metadata": {},
   "source": [
    "### Linear Equations"
   ]
  },
  {
   "cell_type": "markdown",
   "metadata": {},
   "source": [
    "$$\n",
    "\\begin{array}{rcl}\n",
    "x - 2y &=& 1\\\\\n",
    "3x + 2y &=& 11\n",
    "\\end{array}\n",
    "$$"
   ]
  },
  {
   "cell_type": "markdown",
   "metadata": {},
   "source": [
    "or\n",
    "$$\n",
    "\\begin{bmatrix}\n",
    "1 & -2 \\\\\n",
    "3 & 2\n",
    "\\end{bmatrix}\n",
    "\\begin{bmatrix}\n",
    "x \\\\\n",
    "y\n",
    "\\end{bmatrix}\n",
    "=\n",
    "\\begin{bmatrix}\n",
    "1 \\\\\n",
    "11\n",
    "\\end{bmatrix}\n",
    "$$"
   ]
  },
  {
   "cell_type": "markdown",
   "metadata": {},
   "source": [
    "Multiply first equation by $3$ and subtract from second equation:"
   ]
  },
  {
   "cell_type": "markdown",
   "metadata": {},
   "source": [
    "$$\n",
    "\\begin{array}{rcl}\n",
    "x - 2y &=& 1\\\\\n",
    " 8y &=& 8\n",
    "\\end{array}\n",
    "$$"
   ]
  },
  {
   "cell_type": "markdown",
   "metadata": {},
   "source": [
    "or\n",
    "$$\n",
    "\\begin{bmatrix}\n",
    "1 & -2 \\\\\n",
    "0 & 8\n",
    "\\end{bmatrix}\n",
    "\\begin{bmatrix}\n",
    "x \\\\\n",
    "y\n",
    "\\end{bmatrix}\n",
    "=\n",
    "\\begin{bmatrix}\n",
    "1 \\\\\n",
    "8\n",
    "\\end{bmatrix}\n",
    "$$"
   ]
  },
  {
   "cell_type": "markdown",
   "metadata": {},
   "source": [
    "Now $y=1$ and from this we can find $x$"
   ]
  },
  {
   "cell_type": "markdown",
   "metadata": {},
   "source": [
    "$1x -2 \\times 1 = 1$\n",
    "\n",
    "So $x = 3$\n",
    "\n",
    "So solution is $[3,1]^T$"
   ]
  },
  {
   "cell_type": "code",
   "execution_count": 1,
   "metadata": {},
   "outputs": [],
   "source": [
    "A = [1 -2; 3 2]; b=[1,11];"
   ]
  },
  {
   "cell_type": "code",
   "execution_count": 2,
   "metadata": {},
   "outputs": [
    {
     "data": {
      "text/plain": [
       "(true, [0, 0])"
      ]
     },
     "execution_count": 2,
     "metadata": {},
     "output_type": "execute_result"
    }
   ],
   "source": [
    "A*[3,1] == b, A*[3,1] - b"
   ]
  },
  {
   "cell_type": "code",
   "execution_count": 3,
   "metadata": {},
   "outputs": [
    {
     "data": {
      "text/plain": [
       "2×2 Array{Int64,2}:\n",
       " 1  -2\n",
       " 0   8"
      ]
     },
     "execution_count": 3,
     "metadata": {},
     "output_type": "execute_result"
    }
   ],
   "source": [
    "A2 = copy(A) #doing the row operation manually\n",
    "A2[2,:] = A[2,:] - 3A[1,:];\n",
    "A2"
   ]
  },
  {
   "cell_type": "markdown",
   "metadata": {},
   "source": [
    "Now y = 1"
   ]
  },
  {
   "cell_type": "markdown",
   "metadata": {},
   "source": [
    "First equations becomes: $1x - 2\\times1 = 1$\n",
    "\n",
    "So $x = 3$"
   ]
  },
  {
   "cell_type": "code",
   "execution_count": 4,
   "metadata": {},
   "outputs": [
    {
     "data": {
      "text/plain": [
       "2-element Array{Int64,1}:\n",
       "  1\n",
       " 11"
      ]
     },
     "execution_count": 4,
     "metadata": {},
     "output_type": "execute_result"
    }
   ],
   "source": [
    "A*[3,1]"
   ]
  },
  {
   "cell_type": "code",
   "execution_count": 5,
   "metadata": {},
   "outputs": [
    {
     "data": {
      "text/plain": [
       "true"
      ]
     },
     "execution_count": 5,
     "metadata": {},
     "output_type": "execute_result"
    }
   ],
   "source": [
    "A*[3,1] == [1,11]"
   ]
  },
  {
   "cell_type": "code",
   "execution_count": 6,
   "metadata": {},
   "outputs": [
    {
     "data": {
      "text/plain": [
       "2-element Array{Float64,1}:\n",
       " 3.0\n",
       " 1.0"
      ]
     },
     "execution_count": 6,
     "metadata": {},
     "output_type": "execute_result"
    }
   ],
   "source": [
    "b = [1,11]\n",
    "A \\ b #solving using the `backslash' operator"
   ]
  },
  {
   "cell_type": "code",
   "execution_count": 7,
   "metadata": {},
   "outputs": [
    {
     "data": {
      "text/plain": [
       "1.2581267071498832e-12"
      ]
     },
     "execution_count": 7,
     "metadata": {},
     "output_type": "execute_result"
    }
   ],
   "source": [
    "using LinearAlgebra\n",
    "A = rand(1000,1000)\n",
    "b = rand(1000);\n",
    "xSol = A \\ b\n",
    "norm(A*xSol - b)"
   ]
  },
  {
   "cell_type": "code",
   "execution_count": 8,
   "metadata": {},
   "outputs": [
    {
     "name": "stdout",
     "output_type": "stream",
     "text": [
      "search: \u001b[0m\u001b[1m\\\u001b[22m\n",
      "\n"
     ]
    },
    {
     "data": {
      "text/latex": [
       "\\begin{verbatim}\n",
       "\\(x, y)\n",
       "\\end{verbatim}\n",
       "Left division operator: multiplication of \\texttt{y} by the inverse of \\texttt{x} on the left. Gives floating-point results for integer arguments.\n",
       "\n",
       "\\section{Examples}\n",
       "\\begin{verbatim}\n",
       "julia> 3 \\ 6\n",
       "2.0\n",
       "\n",
       "julia> inv(3) * 6\n",
       "2.0\n",
       "\n",
       "julia> A = [4 3; 2 1]; x = [5, 6];\n",
       "\n",
       "julia> A \\ x\n",
       "2-element Array{Float64,1}:\n",
       "  6.5\n",
       " -7.0\n",
       "\n",
       "julia> inv(A) * x\n",
       "2-element Array{Float64,1}:\n",
       "  6.5\n",
       " -7.0\n",
       "\\end{verbatim}\n",
       "\\rule{\\textwidth}{1pt}\n",
       "\\begin{verbatim}\n",
       "\\(A, B)\n",
       "\\end{verbatim}\n",
       "Matrix division using a polyalgorithm. For input matrices \\texttt{A} and \\texttt{B}, the result \\texttt{X} is such that \\texttt{A*X == B} when \\texttt{A} is square. The solver that is used depends upon the structure of \\texttt{A}.  If \\texttt{A} is upper or lower triangular (or diagonal), no factorization of \\texttt{A} is required and the system is solved with either forward or backward substitution. For non-triangular square matrices, an LU factorization is used.\n",
       "\n",
       "For rectangular \\texttt{A} the result is the minimum-norm least squares solution computed by a pivoted QR factorization of \\texttt{A} and a rank estimate of \\texttt{A} based on the R factor.\n",
       "\n",
       "When \\texttt{A} is sparse, a similar polyalgorithm is used. For indefinite matrices, the \\texttt{LDLt} factorization does not use pivoting during the numerical factorization and therefore the procedure can fail even for invertible matrices.\n",
       "\n",
       "\\section{Examples}\n",
       "\\begin{verbatim}\n",
       "julia> A = [1 0; 1 -2]; B = [32; -4];\n",
       "\n",
       "julia> X = A \\ B\n",
       "2-element Array{Float64,1}:\n",
       " 32.0\n",
       " 18.0\n",
       "\n",
       "julia> A * X == B\n",
       "true\n",
       "\\end{verbatim}\n",
       "\\rule{\\textwidth}{1pt}\n",
       "\\begin{verbatim}\n",
       "(\\)(F::QRSparse, B::StridedVecOrMat)\n",
       "\\end{verbatim}\n",
       "Solve the least squares problem $\\min\\|Ax - b\\|^2$ or the linear system of equations $Ax=b$ when \\texttt{F} is the sparse QR factorization of $A$. A basic solution is returned when the problem is underdetermined.\n",
       "\n",
       "\\section{Examples}\n",
       "\\begin{verbatim}\n",
       "julia> A = sparse([1,2,4], [1,1,1], [1.0,1.0,1.0], 4, 2)\n",
       "4×2 SparseMatrixCSC{Float64,Int64} with 3 stored entries:\n",
       "  [1, 1]  =  1.0\n",
       "  [2, 1]  =  1.0\n",
       "  [4, 1]  =  1.0\n",
       "\n",
       "julia> qr(A)\\fill(1.0, 4)\n",
       "2-element Array{Float64,1}:\n",
       " 1.0\n",
       " 0.0\n",
       "\\end{verbatim}\n"
      ],
      "text/markdown": [
       "```\n",
       "\\(x, y)\n",
       "```\n",
       "\n",
       "Left division operator: multiplication of `y` by the inverse of `x` on the left. Gives floating-point results for integer arguments.\n",
       "\n",
       "# Examples\n",
       "\n",
       "```jldoctest\n",
       "julia> 3 \\ 6\n",
       "2.0\n",
       "\n",
       "julia> inv(3) * 6\n",
       "2.0\n",
       "\n",
       "julia> A = [4 3; 2 1]; x = [5, 6];\n",
       "\n",
       "julia> A \\ x\n",
       "2-element Array{Float64,1}:\n",
       "  6.5\n",
       " -7.0\n",
       "\n",
       "julia> inv(A) * x\n",
       "2-element Array{Float64,1}:\n",
       "  6.5\n",
       " -7.0\n",
       "```\n",
       "\n",
       "---\n",
       "\n",
       "```\n",
       "\\(A, B)\n",
       "```\n",
       "\n",
       "Matrix division using a polyalgorithm. For input matrices `A` and `B`, the result `X` is such that `A*X == B` when `A` is square. The solver that is used depends upon the structure of `A`.  If `A` is upper or lower triangular (or diagonal), no factorization of `A` is required and the system is solved with either forward or backward substitution. For non-triangular square matrices, an LU factorization is used.\n",
       "\n",
       "For rectangular `A` the result is the minimum-norm least squares solution computed by a pivoted QR factorization of `A` and a rank estimate of `A` based on the R factor.\n",
       "\n",
       "When `A` is sparse, a similar polyalgorithm is used. For indefinite matrices, the `LDLt` factorization does not use pivoting during the numerical factorization and therefore the procedure can fail even for invertible matrices.\n",
       "\n",
       "# Examples\n",
       "\n",
       "```jldoctest\n",
       "julia> A = [1 0; 1 -2]; B = [32; -4];\n",
       "\n",
       "julia> X = A \\ B\n",
       "2-element Array{Float64,1}:\n",
       " 32.0\n",
       " 18.0\n",
       "\n",
       "julia> A * X == B\n",
       "true\n",
       "```\n",
       "\n",
       "---\n",
       "\n",
       "```\n",
       "(\\)(F::QRSparse, B::StridedVecOrMat)\n",
       "```\n",
       "\n",
       "Solve the least squares problem $\\min\\|Ax - b\\|^2$ or the linear system of equations $Ax=b$ when `F` is the sparse QR factorization of $A$. A basic solution is returned when the problem is underdetermined.\n",
       "\n",
       "# Examples\n",
       "\n",
       "```jldoctest\n",
       "julia> A = sparse([1,2,4], [1,1,1], [1.0,1.0,1.0], 4, 2)\n",
       "4×2 SparseMatrixCSC{Float64,Int64} with 3 stored entries:\n",
       "  [1, 1]  =  1.0\n",
       "  [2, 1]  =  1.0\n",
       "  [4, 1]  =  1.0\n",
       "\n",
       "julia> qr(A)\\fill(1.0, 4)\n",
       "2-element Array{Float64,1}:\n",
       " 1.0\n",
       " 0.0\n",
       "```\n"
      ],
      "text/plain": [
       "\u001b[36m  \\(x, y)\u001b[39m\n",
       "\n",
       "  Left division operator: multiplication of \u001b[36my\u001b[39m by the inverse of \u001b[36mx\u001b[39m on the left.\n",
       "  Gives floating-point results for integer arguments.\n",
       "\n",
       "\u001b[1m  Examples\u001b[22m\n",
       "\u001b[1m  ≡≡≡≡≡≡≡≡≡≡\u001b[22m\n",
       "\n",
       "\u001b[36m  julia> 3 \\ 6\u001b[39m\n",
       "\u001b[36m  2.0\u001b[39m\n",
       "\u001b[36m  \u001b[39m\n",
       "\u001b[36m  julia> inv(3) * 6\u001b[39m\n",
       "\u001b[36m  2.0\u001b[39m\n",
       "\u001b[36m  \u001b[39m\n",
       "\u001b[36m  julia> A = [4 3; 2 1]; x = [5, 6];\u001b[39m\n",
       "\u001b[36m  \u001b[39m\n",
       "\u001b[36m  julia> A \\ x\u001b[39m\n",
       "\u001b[36m  2-element Array{Float64,1}:\u001b[39m\n",
       "\u001b[36m    6.5\u001b[39m\n",
       "\u001b[36m   -7.0\u001b[39m\n",
       "\u001b[36m  \u001b[39m\n",
       "\u001b[36m  julia> inv(A) * x\u001b[39m\n",
       "\u001b[36m  2-element Array{Float64,1}:\u001b[39m\n",
       "\u001b[36m    6.5\u001b[39m\n",
       "\u001b[36m   -7.0\u001b[39m\n",
       "\n",
       "  ────────────────────────────────────────────────────────────────────────────\n",
       "\n",
       "\u001b[36m  \\(A, B)\u001b[39m\n",
       "\n",
       "  Matrix division using a polyalgorithm. For input matrices \u001b[36mA\u001b[39m and \u001b[36mB\u001b[39m, the\n",
       "  result \u001b[36mX\u001b[39m is such that \u001b[36mA*X == B\u001b[39m when \u001b[36mA\u001b[39m is square. The solver that is used\n",
       "  depends upon the structure of \u001b[36mA\u001b[39m. If \u001b[36mA\u001b[39m is upper or lower triangular (or\n",
       "  diagonal), no factorization of \u001b[36mA\u001b[39m is required and the system is solved with\n",
       "  either forward or backward substitution. For non-triangular square matrices,\n",
       "  an LU factorization is used.\n",
       "\n",
       "  For rectangular \u001b[36mA\u001b[39m the result is the minimum-norm least squares solution\n",
       "  computed by a pivoted QR factorization of \u001b[36mA\u001b[39m and a rank estimate of \u001b[36mA\u001b[39m based\n",
       "  on the R factor.\n",
       "\n",
       "  When \u001b[36mA\u001b[39m is sparse, a similar polyalgorithm is used. For indefinite matrices,\n",
       "  the \u001b[36mLDLt\u001b[39m factorization does not use pivoting during the numerical\n",
       "  factorization and therefore the procedure can fail even for invertible\n",
       "  matrices.\n",
       "\n",
       "\u001b[1m  Examples\u001b[22m\n",
       "\u001b[1m  ≡≡≡≡≡≡≡≡≡≡\u001b[22m\n",
       "\n",
       "\u001b[36m  julia> A = [1 0; 1 -2]; B = [32; -4];\u001b[39m\n",
       "\u001b[36m  \u001b[39m\n",
       "\u001b[36m  julia> X = A \\ B\u001b[39m\n",
       "\u001b[36m  2-element Array{Float64,1}:\u001b[39m\n",
       "\u001b[36m   32.0\u001b[39m\n",
       "\u001b[36m   18.0\u001b[39m\n",
       "\u001b[36m  \u001b[39m\n",
       "\u001b[36m  julia> A * X == B\u001b[39m\n",
       "\u001b[36m  true\u001b[39m\n",
       "\n",
       "  ────────────────────────────────────────────────────────────────────────────\n",
       "\n",
       "\u001b[36m  (\\)(F::QRSparse, B::StridedVecOrMat)\u001b[39m\n",
       "\n",
       "  Solve the least squares problem \u001b[35m\\min\\|Ax - b\\|^2\u001b[39m or the linear system of\n",
       "  equations \u001b[35mAx=b\u001b[39m when \u001b[36mF\u001b[39m is the sparse QR factorization of \u001b[35mA\u001b[39m. A basic solution\n",
       "  is returned when the problem is underdetermined.\n",
       "\n",
       "\u001b[1m  Examples\u001b[22m\n",
       "\u001b[1m  ≡≡≡≡≡≡≡≡≡≡\u001b[22m\n",
       "\n",
       "\u001b[36m  julia> A = sparse([1,2,4], [1,1,1], [1.0,1.0,1.0], 4, 2)\u001b[39m\n",
       "\u001b[36m  4×2 SparseMatrixCSC{Float64,Int64} with 3 stored entries:\u001b[39m\n",
       "\u001b[36m    [1, 1]  =  1.0\u001b[39m\n",
       "\u001b[36m    [2, 1]  =  1.0\u001b[39m\n",
       "\u001b[36m    [4, 1]  =  1.0\u001b[39m\n",
       "\u001b[36m  \u001b[39m\n",
       "\u001b[36m  julia> qr(A)\\fill(1.0, 4)\u001b[39m\n",
       "\u001b[36m  2-element Array{Float64,1}:\u001b[39m\n",
       "\u001b[36m   1.0\u001b[39m\n",
       "\u001b[36m   0.0\u001b[39m"
      ]
     },
     "execution_count": 8,
     "metadata": {},
     "output_type": "execute_result"
    }
   ],
   "source": [
    "? \\"
   ]
  },
  {
   "cell_type": "markdown",
   "metadata": {},
   "source": [
    "$$\n",
    "A x = b\n",
    "$$"
   ]
  },
  {
   "cell_type": "markdown",
   "metadata": {},
   "source": [
    "Left mulitply $A^{-1}$ to $I x = A^{-1} b$ or $x = A^{-1} b$"
   ]
  },
  {
   "cell_type": "code",
   "execution_count": 9,
   "metadata": {},
   "outputs": [
    {
     "data": {
      "text/plain": [
       "2-element Array{Float64,1}:\n",
       " 3.0\n",
       " 1.0"
      ]
     },
     "execution_count": 9,
     "metadata": {},
     "output_type": "execute_result"
    }
   ],
   "source": [
    "A = [1 -2; 3 2]; b=[1,11];\n",
    "inv(A)*b"
   ]
  },
  {
   "cell_type": "markdown",
   "metadata": {},
   "source": [
    "$$\n",
    "\\begin{array}{rcl}\n",
    "x - 2y &=& 1\\\\\n",
    "2x -4 y &=& 11\n",
    "\\end{array}\n",
    "$$"
   ]
  },
  {
   "cell_type": "code",
   "execution_count": 10,
   "metadata": {},
   "outputs": [
    {
     "data": {
      "text/plain": [
       "0.0"
      ]
     },
     "execution_count": 10,
     "metadata": {},
     "output_type": "execute_result"
    }
   ],
   "source": [
    "det([1 -2; \n",
    "     2 -4])"
   ]
  },
  {
   "cell_type": "markdown",
   "metadata": {},
   "source": [
    "$$\n",
    "\\begin{array}{rcl}\n",
    "x - 2y &=& 1\\\\\n",
    "3x -4 y &=& 11 \\\\\n",
    "7x -2y &=& 12\n",
    "\\end{array}\n",
    "$$"
   ]
  },
  {
   "cell_type": "markdown",
   "metadata": {},
   "source": [
    "# A bigger system towards $PA = LU$"
   ]
  },
  {
   "cell_type": "code",
   "execution_count": 11,
   "metadata": {},
   "outputs": [
    {
     "data": {
      "text/plain": [
       "4×4 Array{Float64,2}:\n",
       " 10.0   2.0  2.0  3.0\n",
       "  3.0  12.0  8.0  1.0\n",
       "  2.0   4.0  8.0  8.0\n",
       "  1.0   4.0  5.0  0.0"
      ]
     },
     "execution_count": 11,
     "metadata": {},
     "output_type": "execute_result"
    }
   ],
   "source": [
    "A = [ 10.0   2.0  2.0  3.0;\n",
    "      3.0  12.0  8.0  1.0;\n",
    "      2.0   4.0  8.0  8.0;\n",
    "      1.0   4.0  5.0  0.0]"
   ]
  },
  {
   "cell_type": "code",
   "execution_count": 12,
   "metadata": {},
   "outputs": [],
   "source": [
    "ℓ21 = 3/10; ℓ31 = 2/10; ℓ41 = 1/10;"
   ]
  },
  {
   "cell_type": "code",
   "execution_count": 13,
   "metadata": {},
   "outputs": [
    {
     "data": {
      "text/plain": [
       "4×4 Array{Float64,2}:\n",
       " 10.0   2.0  2.0   3.0\n",
       "  0.0  11.4  7.4   0.1\n",
       "  0.0   3.6  7.6   7.4\n",
       "  0.0   3.8  4.8  -0.3"
      ]
     },
     "execution_count": 13,
     "metadata": {},
     "output_type": "execute_result"
    }
   ],
   "source": [
    "A1 = [\n",
    "        A[1,:]';\n",
    "        (A[2,:]-ℓ21*A[1,:])'\n",
    "        (A[3,:]-ℓ31*A[1,:])'\n",
    "        (A[4,:]-ℓ41*A[1,:])'\n",
    "]"
   ]
  },
  {
   "cell_type": "code",
   "execution_count": 42,
   "metadata": {},
   "outputs": [
    {
     "data": {
      "text/plain": [
       "4×4 Array{Float64,2}:\n",
       "  1.0  0.0  0.0  0.0\n",
       " -0.3  1.0  0.0  0.0\n",
       "  0.0  0.0  1.0  0.0\n",
       "  0.0  0.0  0.0  1.0"
      ]
     },
     "execution_count": 42,
     "metadata": {},
     "output_type": "execute_result"
    }
   ],
   "source": [
    "E21 = [1 0 0 0 ;\n",
    "       -ℓ21 1 0 0 \n",
    "       0   0  1 0;\n",
    "       0   0  0 1]"
   ]
  },
  {
   "cell_type": "code",
   "execution_count": 43,
   "metadata": {},
   "outputs": [
    {
     "data": {
      "text/plain": [
       "4×4 Array{Float64,2}:\n",
       " 1.0  0.0  0.0  0.0\n",
       " 0.3  1.0  0.0  0.0\n",
       " 0.0  0.0  1.0  0.0\n",
       " 0.0  0.0  0.0  1.0"
      ]
     },
     "execution_count": 43,
     "metadata": {},
     "output_type": "execute_result"
    }
   ],
   "source": [
    "inv(E21)"
   ]
  },
  {
   "cell_type": "code",
   "execution_count": 44,
   "metadata": {},
   "outputs": [
    {
     "data": {
      "text/plain": [
       "4×4 Array{Float64,2}:\n",
       "  1.0  0.0  0.0  0.0\n",
       "  0.0  1.0  0.0  0.0\n",
       " -0.2  0.0  1.0  0.0\n",
       "  0.0  0.0  0.0  1.0"
      ]
     },
     "execution_count": 44,
     "metadata": {},
     "output_type": "execute_result"
    }
   ],
   "source": [
    "E31 = [1 0 0 0 ;\n",
    "       0 1 0 0 \n",
    "       -ℓ31   0  1 0;\n",
    "       0   0  0 1]"
   ]
  },
  {
   "cell_type": "code",
   "execution_count": 45,
   "metadata": {},
   "outputs": [
    {
     "data": {
      "text/plain": [
       "4×4 Array{Float64,2}:\n",
       "  1.0  0.0  0.0  0.0\n",
       "  0.0  1.0  0.0  0.0\n",
       "  0.0  0.0  1.0  0.0\n",
       " -0.1  0.0  0.0  1.0"
      ]
     },
     "execution_count": 45,
     "metadata": {},
     "output_type": "execute_result"
    }
   ],
   "source": [
    "E41 = [1 0 0 0;\n",
    "       0 1 0 0;\n",
    "        0 0 1 0\n",
    "        -ℓ41 0 0 1]"
   ]
  },
  {
   "cell_type": "code",
   "execution_count": 46,
   "metadata": {},
   "outputs": [
    {
     "data": {
      "text/plain": [
       "4×4 Array{Float64,2}:\n",
       "  1.0  0.0  0.0  0.0\n",
       " -0.3  1.0  0.0  0.0\n",
       " -0.2  0.0  1.0  0.0\n",
       " -0.1  0.0  0.0  1.0"
      ]
     },
     "execution_count": 46,
     "metadata": {},
     "output_type": "execute_result"
    }
   ],
   "source": [
    "E21*E31*E41"
   ]
  },
  {
   "cell_type": "code",
   "execution_count": 47,
   "metadata": {},
   "outputs": [
    {
     "data": {
      "text/plain": [
       "4×4 Array{Float64,2}:\n",
       "  1.0  0.0  0.0  0.0\n",
       " -0.3  1.0  0.0  0.0\n",
       " -0.2  0.0  1.0  0.0\n",
       " -0.1  0.0  0.0  1.0"
      ]
     },
     "execution_count": 47,
     "metadata": {},
     "output_type": "execute_result"
    }
   ],
   "source": [
    "E31*E21*E41 #they commute"
   ]
  },
  {
   "cell_type": "code",
   "execution_count": 14,
   "metadata": {},
   "outputs": [],
   "source": [
    "ℓ32 = 3.6/11.4; ℓ42 = 3.8/11.4;"
   ]
  },
  {
   "cell_type": "code",
   "execution_count": 15,
   "metadata": {},
   "outputs": [
    {
     "data": {
      "text/plain": [
       "4×4 Array{Float64,2}:\n",
       " 10.0   2.0  2.0       3.0\n",
       "  0.0  11.4  7.4       0.1\n",
       "  0.0   0.0  5.26316   7.36842\n",
       "  0.0   0.0  2.33333  -0.333333"
      ]
     },
     "execution_count": 15,
     "metadata": {},
     "output_type": "execute_result"
    }
   ],
   "source": [
    "A2 = [\n",
    "    A1[1,:]';\n",
    "    A1[2,:]';\n",
    "    (A1[3,:]-ℓ32*A1[2,:])';\n",
    "    (A1[4,:]-ℓ42*A1[2,:])'\n",
    "]"
   ]
  },
  {
   "cell_type": "code",
   "execution_count": 16,
   "metadata": {},
   "outputs": [
    {
     "data": {
      "text/plain": [
       "0.44333315536673784"
      ]
     },
     "execution_count": 16,
     "metadata": {},
     "output_type": "execute_result"
    }
   ],
   "source": [
    "ℓ43 = 2.33333333/5.26316"
   ]
  },
  {
   "cell_type": "code",
   "execution_count": 17,
   "metadata": {},
   "outputs": [
    {
     "data": {
      "text/plain": [
       "4×4 Array{Float64,2}:\n",
       " 10.0   2.0  2.0          3.0\n",
       "  0.0  11.4  7.4          0.1\n",
       "  0.0   0.0  5.26316      7.36842\n",
       "  0.0   0.0  9.36666e-7  -3.6"
      ]
     },
     "execution_count": 17,
     "metadata": {},
     "output_type": "execute_result"
    }
   ],
   "source": [
    "A3 = [\n",
    "    A2[1,:]';\n",
    "    A2[2,:]';\n",
    "    A2[3,:]';\n",
    "    (A2[4,:]-ℓ43*A2[3,:])'\n",
    "]"
   ]
  },
  {
   "cell_type": "code",
   "execution_count": 18,
   "metadata": {},
   "outputs": [
    {
     "data": {
      "text/plain": [
       "4×4 Array{Float64,2}:\n",
       "  1.0  0.0  0.0  0.0\n",
       " -0.3  1.0  0.0  0.0\n",
       " -0.2  0.0  1.0  0.0\n",
       " -0.1  0.0  0.0  1.0"
      ]
     },
     "execution_count": 18,
     "metadata": {},
     "output_type": "execute_result"
    }
   ],
   "source": [
    "ℓ1 =[1 0 0 0 ;\n",
    "     -ℓ21 1 0 0 ;\n",
    "     -ℓ31 0 1 0 ;\n",
    "     -ℓ41 0 0 1]"
   ]
  },
  {
   "cell_type": "code",
   "execution_count": 19,
   "metadata": {},
   "outputs": [
    {
     "data": {
      "text/plain": [
       "4×4 Array{Float64,2}:\n",
       " 10.0   2.0  2.0   3.0\n",
       "  0.0  11.4  7.4   0.1\n",
       "  0.0   3.6  7.6   7.4\n",
       "  0.0   3.8  4.8  -0.3"
      ]
     },
     "execution_count": 19,
     "metadata": {},
     "output_type": "execute_result"
    }
   ],
   "source": [
    "ℓ1*A"
   ]
  },
  {
   "cell_type": "code",
   "execution_count": 20,
   "metadata": {},
   "outputs": [
    {
     "data": {
      "text/plain": [
       "4×4 Array{Float64,2}:\n",
       " 10.0   2.0  2.0   3.0\n",
       "  0.0  11.4  7.4   0.1\n",
       "  0.0   3.6  7.6   7.4\n",
       "  0.0   3.8  4.8  -0.3"
      ]
     },
     "execution_count": 20,
     "metadata": {},
     "output_type": "execute_result"
    }
   ],
   "source": [
    "A1"
   ]
  },
  {
   "cell_type": "code",
   "execution_count": 22,
   "metadata": {},
   "outputs": [
    {
     "data": {
      "text/plain": [
       "4×4 Array{Float64,2}:\n",
       " 1.0   0.0       0.0  0.0\n",
       " 0.0   1.0       0.0  0.0\n",
       " 0.0  -0.315789  1.0  0.0\n",
       " 0.0  -0.333333  0.0  1.0"
      ]
     },
     "execution_count": 22,
     "metadata": {},
     "output_type": "execute_result"
    }
   ],
   "source": [
    "ℓ2 =[1 0 0 0 ;\n",
    "     0 1 0 0 ;\n",
    "     0 -ℓ32 1 0 ;\n",
    "     0 -ℓ42  0 1]"
   ]
  },
  {
   "cell_type": "code",
   "execution_count": 38,
   "metadata": {},
   "outputs": [
    {
     "data": {
      "text/plain": [
       "4×4 Array{Float64,2}:\n",
       " 10.0   2.0  2.0       3.0\n",
       "  0.0  11.4  7.4       0.1\n",
       "  0.0   0.0  5.26316   7.36842\n",
       "  0.0   0.0  2.33333  -0.333333"
      ]
     },
     "execution_count": 38,
     "metadata": {},
     "output_type": "execute_result"
    }
   ],
   "source": [
    "ℓ2*(ℓ1*A)"
   ]
  },
  {
   "cell_type": "code",
   "execution_count": 24,
   "metadata": {},
   "outputs": [
    {
     "data": {
      "text/plain": [
       "4×4 Array{Float64,2}:\n",
       " 10.0   2.0  2.0       3.0\n",
       "  0.0  11.4  7.4       0.1\n",
       "  0.0   0.0  5.26316   7.36842\n",
       "  0.0   0.0  2.33333  -0.333333"
      ]
     },
     "execution_count": 24,
     "metadata": {},
     "output_type": "execute_result"
    }
   ],
   "source": [
    "A2"
   ]
  },
  {
   "cell_type": "code",
   "execution_count": 25,
   "metadata": {},
   "outputs": [
    {
     "data": {
      "text/plain": [
       "4×4 Array{Float64,2}:\n",
       " 1.0  0.0   0.0       0.0\n",
       " 0.0  1.0   0.0       0.0\n",
       " 0.0  0.0   1.0       0.0\n",
       " 0.0  0.0  -0.443333  1.0"
      ]
     },
     "execution_count": 25,
     "metadata": {},
     "output_type": "execute_result"
    }
   ],
   "source": [
    "ℓ3 =[1 0 0 0 ;\n",
    "     0 1 0 0 ;\n",
    "     0 0 1 0 ;\n",
    "     0 0  -ℓ43 1]"
   ]
  },
  {
   "cell_type": "code",
   "execution_count": 39,
   "metadata": {},
   "outputs": [
    {
     "data": {
      "text/plain": [
       "4×4 Array{Float64,2}:\n",
       " 10.0   2.0  2.0          3.0\n",
       "  0.0  11.4  7.4          0.1\n",
       "  0.0   0.0  5.26316      7.36842\n",
       "  0.0   0.0  9.36666e-7  -3.6"
      ]
     },
     "execution_count": 39,
     "metadata": {},
     "output_type": "execute_result"
    }
   ],
   "source": [
    "ℓ3*(ℓ2*ℓ1*A)"
   ]
  },
  {
   "cell_type": "code",
   "execution_count": 27,
   "metadata": {},
   "outputs": [
    {
     "data": {
      "text/plain": [
       "4×4 Array{Float64,2}:\n",
       " 10.0   2.0  2.0       3.0\n",
       "  0.0  11.4  7.4       0.1\n",
       "  0.0   0.0  5.26316   7.36842\n",
       "  0.0   0.0  0.0      -3.6"
      ]
     },
     "execution_count": 27,
     "metadata": {},
     "output_type": "execute_result"
    }
   ],
   "source": [
    "lu(A).U"
   ]
  },
  {
   "cell_type": "code",
   "execution_count": 29,
   "metadata": {},
   "outputs": [
    {
     "data": {
      "text/plain": [
       "4×4 Array{Float64,2}:\n",
       " 1.0  0.0       0.0       0.0\n",
       " 0.3  1.0       0.0       0.0\n",
       " 0.2  0.315789  1.0       0.0\n",
       " 0.1  0.333333  0.443333  1.0"
      ]
     },
     "execution_count": 29,
     "metadata": {},
     "output_type": "execute_result"
    }
   ],
   "source": [
    "lu(A).L"
   ]
  },
  {
   "cell_type": "code",
   "execution_count": 31,
   "metadata": {},
   "outputs": [
    {
     "data": {
      "text/plain": [
       "4×4 Array{Float64,2}:\n",
       " 1.0  0.0       0.0       0.0\n",
       " 0.3  1.0       0.0       0.0\n",
       " 0.2  0.315789  1.0       0.0\n",
       " 0.1  0.333333  0.443333  1.0"
      ]
     },
     "execution_count": 31,
     "metadata": {},
     "output_type": "execute_result"
    }
   ],
   "source": [
    "inv(ℓ3*ℓ2*ℓ1)"
   ]
  },
  {
   "cell_type": "code",
   "execution_count": 34,
   "metadata": {},
   "outputs": [
    {
     "data": {
      "text/plain": [
       "4×4 Array{Float64,2}:\n",
       " 1.0  0.0       0.0       0.0\n",
       " 0.3  1.0       0.0       0.0\n",
       " 0.2  0.315789  1.0       0.0\n",
       " 0.1  0.333333  0.443333  1.0"
      ]
     },
     "metadata": {},
     "output_type": "display_data"
    },
    {
     "data": {
      "text/plain": [
       "4×4 Array{Float64,2}:\n",
       " 10.0   2.0  2.0       3.0\n",
       "  0.0  11.4  7.4       0.1\n",
       "  0.0   0.0  5.26316   7.36842\n",
       "  0.0   0.0  0.0      -3.6"
      ]
     },
     "metadata": {},
     "output_type": "display_data"
    },
    {
     "data": {
      "text/plain": [
       "4-element Array{Int64,1}:\n",
       " 1\n",
       " 2\n",
       " 3\n",
       " 4"
      ]
     },
     "metadata": {},
     "output_type": "display_data"
    }
   ],
   "source": [
    "L, U, p = lu(A);\n",
    "display(L)\n",
    "display(U)\n",
    "display(p)"
   ]
  },
  {
   "cell_type": "markdown",
   "metadata": {},
   "source": [
    "$$\n",
    "LU x = b\n",
    "$$"
   ]
  },
  {
   "cell_type": "markdown",
   "metadata": {},
   "source": [
    "$$ L(Ux) = b$$ \n",
    "\n",
    "or with $y=Ux$,\n",
    "\n",
    "$$ Ly = b$$ "
   ]
  },
  {
   "cell_type": "markdown",
   "metadata": {},
   "source": [
    "So first solve for $y$ and then solve,\n",
    "$$\n",
    "Ux = y\n",
    "$$"
   ]
  },
  {
   "cell_type": "markdown",
   "metadata": {},
   "source": [
    "Can also use for finding inverses, and determinents."
   ]
  },
  {
   "cell_type": "markdown",
   "metadata": {},
   "source": [
    "# Back substitution \n",
    "(See Alg. 11.1, pg207 in [VMLS])"
   ]
  },
  {
   "cell_type": "code",
   "execution_count": 28,
   "metadata": {},
   "outputs": [],
   "source": [
    "#Implement it!"
   ]
  },
  {
   "cell_type": "code",
   "execution_count": 53,
   "metadata": {},
   "outputs": [
    {
     "data": {
      "text/plain": [
       "4-element Array{Float64,1}:\n",
       "  0.1694444444444445\n",
       " -0.7125000000000001\n",
       "  1.3361111111111112\n",
       " -0.6472222222222224"
      ]
     },
     "execution_count": 53,
     "metadata": {},
     "output_type": "execute_result"
    }
   ],
   "source": [
    "xSol = A \\ b"
   ]
  },
  {
   "cell_type": "code",
   "execution_count": 55,
   "metadata": {},
   "outputs": [
    {
     "data": {
      "text/plain": [
       "0.0"
      ]
     },
     "execution_count": 55,
     "metadata": {},
     "output_type": "execute_result"
    }
   ],
   "source": [
    "norm(A*xSol - b)"
   ]
  },
  {
   "cell_type": "markdown",
   "metadata": {},
   "source": [
    "$$\n",
    "A = LU \n",
    "$$"
   ]
  },
  {
   "cell_type": "markdown",
   "metadata": {},
   "source": [
    "$$\n",
    "A = QR\n",
    "$$"
   ]
  },
  {
   "cell_type": "code",
   "execution_count": 3,
   "metadata": {},
   "outputs": [
    {
     "name": "stderr",
     "output_type": "stream",
     "text": [
      "\u001b[32m\u001b[1m   Updating\u001b[22m\u001b[39m registry at `~/.juliapro/JuliaPro_v1.4.2-1/registries/JuliaPro`\n",
      "\u001b[32m\u001b[1m  Resolving\u001b[22m\u001b[39m package versions...\n",
      "\u001b[32m\u001b[1m   Updating\u001b[22m\u001b[39m `~/Project.toml`\n",
      "\u001b[90m [no changes]\u001b[39m\n",
      "\u001b[32m\u001b[1m   Updating\u001b[22m\u001b[39m `~/Manifest.toml`\n",
      "\u001b[90m [no changes]\u001b[39m\n"
     ]
    }
   ],
   "source": [
    "#using Pkg\n",
    "#Pkg.add(\"RowEchelon\")"
   ]
  },
  {
   "cell_type": "code",
   "execution_count": 19,
   "metadata": {},
   "outputs": [],
   "source": [
    "using RowEchelon"
   ]
  },
  {
   "cell_type": "code",
   "execution_count": 5,
   "metadata": {},
   "outputs": [
    {
     "name": "stdout",
     "output_type": "stream",
     "text": [
      "search: \u001b[0m\u001b[1mr\u001b[22m\u001b[0m\u001b[1mr\u001b[22m\u001b[0m\u001b[1me\u001b[22m\u001b[0m\u001b[1mf\u001b[22m \u001b[0m\u001b[1mr\u001b[22m\u001b[0m\u001b[1mr\u001b[22m\u001b[0m\u001b[1me\u001b[22m\u001b[0m\u001b[1mf\u001b[22m! \u001b[0m\u001b[1mr\u001b[22m\u001b[0m\u001b[1mr\u001b[22m\u001b[0m\u001b[1me\u001b[22m\u001b[0m\u001b[1mf\u001b[22m_with_pivots \u001b[0m\u001b[1mr\u001b[22m\u001b[0m\u001b[1mr\u001b[22m\u001b[0m\u001b[1me\u001b[22m\u001b[0m\u001b[1mf\u001b[22m_with_pivots! sea\u001b[0m\u001b[1mr\u001b[22mchso\u001b[0m\u001b[1mr\u001b[22mt\u001b[0m\u001b[1me\u001b[22md\u001b[0m\u001b[1mf\u001b[22mirst\n",
      "\n"
     ]
    },
    {
     "data": {
      "text/latex": [
       "\\begin{verbatim}\n",
       "rref(A)\n",
       "\\end{verbatim}\n",
       "Compute the reduced row echelon form of the matrix A. Since this algorithm is sensitive to numerical imprecision,\n",
       "\n",
       "\\begin{itemize}\n",
       "\\item Complex numbers are converted to ComplexF64\n",
       "\n",
       "\n",
       "\\item Integer, Float16 and Float32 numbers are converted to Float64\n",
       "\n",
       "\n",
       "\\item Rational are kept unchanged\n",
       "\n",
       "\\end{itemize}\n",
       "\\begin{verbatim}\n",
       "julia> rref([ 1  2 -1  -4;\n",
       "              2  3 -1 -11;\n",
       "             -2  0 -3  22])\n",
       "3×4 Array{Float64,2}:\n",
       " 1.0  0.0  0.0  -8.0\n",
       " 0.0  1.0  0.0   1.0\n",
       " 0.0  0.0  1.0  -2.0\n",
       "\n",
       "julia> rref([16  2  3  13;\n",
       "              5 11 10   8;\n",
       "              9  7  6  12;\n",
       "              4 14 15   1])\n",
       "4×4 Array{Float64,2}:\n",
       " 1.0  0.0  0.0   1.0\n",
       " 0.0  1.0  0.0   3.0\n",
       " 0.0  0.0  1.0  -3.0\n",
       " 0.0  0.0  0.0   0.0\n",
       "\n",
       "julia> rref([ 1  2  0   3;\n",
       "              2  4  0   7])\n",
       "2×4 Array{Float64,2}:\n",
       " 1.0  2.0  0.0  0.0\n",
       " 0.0  0.0  0.0  1.0\n",
       "\\end{verbatim}\n"
      ],
      "text/markdown": [
       "```\n",
       "rref(A)\n",
       "```\n",
       "\n",
       "Compute the reduced row echelon form of the matrix A. Since this algorithm is sensitive to numerical imprecision,\n",
       "\n",
       "  * Complex numbers are converted to ComplexF64\n",
       "  * Integer, Float16 and Float32 numbers are converted to Float64\n",
       "  * Rational are kept unchanged\n",
       "\n",
       "```jldoctest\n",
       "julia> rref([ 1  2 -1  -4;\n",
       "              2  3 -1 -11;\n",
       "             -2  0 -3  22])\n",
       "3×4 Array{Float64,2}:\n",
       " 1.0  0.0  0.0  -8.0\n",
       " 0.0  1.0  0.0   1.0\n",
       " 0.0  0.0  1.0  -2.0\n",
       "\n",
       "julia> rref([16  2  3  13;\n",
       "              5 11 10   8;\n",
       "              9  7  6  12;\n",
       "              4 14 15   1])\n",
       "4×4 Array{Float64,2}:\n",
       " 1.0  0.0  0.0   1.0\n",
       " 0.0  1.0  0.0   3.0\n",
       " 0.0  0.0  1.0  -3.0\n",
       " 0.0  0.0  0.0   0.0\n",
       "\n",
       "julia> rref([ 1  2  0   3;\n",
       "              2  4  0   7])\n",
       "2×4 Array{Float64,2}:\n",
       " 1.0  2.0  0.0  0.0\n",
       " 0.0  0.0  0.0  1.0\n",
       "```\n"
      ],
      "text/plain": [
       "\u001b[36m  rref(A)\u001b[39m\n",
       "\n",
       "  Compute the reduced row echelon form of the matrix A. Since this algorithm\n",
       "  is sensitive to numerical imprecision,\n",
       "\n",
       "    •    Complex numbers are converted to ComplexF64\n",
       "\n",
       "    •    Integer, Float16 and Float32 numbers are converted to Float64\n",
       "\n",
       "    •    Rational are kept unchanged\n",
       "\n",
       "\u001b[36m  julia> rref([ 1  2 -1  -4;\u001b[39m\n",
       "\u001b[36m                2  3 -1 -11;\u001b[39m\n",
       "\u001b[36m               -2  0 -3  22])\u001b[39m\n",
       "\u001b[36m  3×4 Array{Float64,2}:\u001b[39m\n",
       "\u001b[36m   1.0  0.0  0.0  -8.0\u001b[39m\n",
       "\u001b[36m   0.0  1.0  0.0   1.0\u001b[39m\n",
       "\u001b[36m   0.0  0.0  1.0  -2.0\u001b[39m\n",
       "\u001b[36m  \u001b[39m\n",
       "\u001b[36m  julia> rref([16  2  3  13;\u001b[39m\n",
       "\u001b[36m                5 11 10   8;\u001b[39m\n",
       "\u001b[36m                9  7  6  12;\u001b[39m\n",
       "\u001b[36m                4 14 15   1])\u001b[39m\n",
       "\u001b[36m  4×4 Array{Float64,2}:\u001b[39m\n",
       "\u001b[36m   1.0  0.0  0.0   1.0\u001b[39m\n",
       "\u001b[36m   0.0  1.0  0.0   3.0\u001b[39m\n",
       "\u001b[36m   0.0  0.0  1.0  -3.0\u001b[39m\n",
       "\u001b[36m   0.0  0.0  0.0   0.0\u001b[39m\n",
       "\u001b[36m  \u001b[39m\n",
       "\u001b[36m  julia> rref([ 1  2  0   3;\u001b[39m\n",
       "\u001b[36m                2  4  0   7])\u001b[39m\n",
       "\u001b[36m  2×4 Array{Float64,2}:\u001b[39m\n",
       "\u001b[36m   1.0  2.0  0.0  0.0\u001b[39m\n",
       "\u001b[36m   0.0  0.0  0.0  1.0\u001b[39m"
      ]
     },
     "execution_count": 5,
     "metadata": {},
     "output_type": "execute_result"
    }
   ],
   "source": [
    "? rref"
   ]
  },
  {
   "cell_type": "code",
   "execution_count": 21,
   "metadata": {},
   "outputs": [
    {
     "data": {
      "text/plain": [
       "2×3 Array{Float64,2}:\n",
       " 1.0  0.0  3.0\n",
       " 0.0  1.0  1.0"
      ]
     },
     "execution_count": 21,
     "metadata": {},
     "output_type": "execute_result"
    }
   ],
   "source": [
    "rref([A [1,11]])"
   ]
  },
  {
   "cell_type": "markdown",
   "metadata": {},
   "source": [
    "### Computing the inverse"
   ]
  },
  {
   "cell_type": "code",
   "execution_count": 7,
   "metadata": {},
   "outputs": [
    {
     "data": {
      "text/plain": [
       "2×4 Array{Int64,2}:\n",
       " 1  -2  1  0\n",
       " 3   2  0  1"
      ]
     },
     "execution_count": 7,
     "metadata": {},
     "output_type": "execute_result"
    }
   ],
   "source": [
    "using LinearAlgebra\n",
    "[A I]"
   ]
  },
  {
   "cell_type": "code",
   "execution_count": 8,
   "metadata": {},
   "outputs": [
    {
     "data": {
      "text/plain": [
       "2×4 Array{Float64,2}:\n",
       " 1.0  0.0   0.25   0.25\n",
       " 0.0  1.0  -0.375  0.125"
      ]
     },
     "execution_count": 8,
     "metadata": {},
     "output_type": "execute_result"
    }
   ],
   "source": [
    "R = rref([A I])"
   ]
  },
  {
   "cell_type": "code",
   "execution_count": 66,
   "metadata": {},
   "outputs": [
    {
     "data": {
      "text/plain": [
       "2×2 Array{Float64,2}:\n",
       "  0.25   0.25\n",
       " -0.375  0.125"
      ]
     },
     "execution_count": 66,
     "metadata": {},
     "output_type": "execute_result"
    }
   ],
   "source": [
    "inv(A)"
   ]
  },
  {
   "cell_type": "code",
   "execution_count": 10,
   "metadata": {},
   "outputs": [
    {
     "data": {
      "text/plain": [
       "2×2 Array{Float64,2}:\n",
       "  0.25   0.25\n",
       " -0.375  0.125"
      ]
     },
     "execution_count": 10,
     "metadata": {},
     "output_type": "execute_result"
    }
   ],
   "source": [
    "R[:,3:4]"
   ]
  },
  {
   "cell_type": "markdown",
   "metadata": {},
   "source": [
    "### Rank"
   ]
  },
  {
   "cell_type": "code",
   "execution_count": 22,
   "metadata": {},
   "outputs": [
    {
     "data": {
      "text/plain": [
       "3×4 Array{Int64,2}:\n",
       " 1  2  3  4\n",
       " 5  6  7  8\n",
       " 2  4  6  8"
      ]
     },
     "execution_count": 22,
     "metadata": {},
     "output_type": "execute_result"
    }
   ],
   "source": [
    "A = [1 2 3 4;\n",
    "     5 6 7 8;\n",
    "     2 4 6 8]"
   ]
  },
  {
   "cell_type": "code",
   "execution_count": 23,
   "metadata": {},
   "outputs": [
    {
     "data": {
      "text/plain": [
       "3×4 Array{Float64,2}:\n",
       " 1.0  0.0  -1.0  -2.0\n",
       " 0.0  1.0   2.0   3.0\n",
       " 0.0  0.0   0.0   0.0"
      ]
     },
     "execution_count": 23,
     "metadata": {},
     "output_type": "execute_result"
    }
   ],
   "source": [
    "rref(A)"
   ]
  },
  {
   "cell_type": "code",
   "execution_count": 24,
   "metadata": {},
   "outputs": [
    {
     "data": {
      "text/plain": [
       "2"
      ]
     },
     "execution_count": 24,
     "metadata": {},
     "output_type": "execute_result"
    }
   ],
   "source": [
    "rank(A)"
   ]
  },
  {
   "cell_type": "code",
   "execution_count": 31,
   "metadata": {},
   "outputs": [
    {
     "data": {
      "text/plain": [
       "3×4 Array{Int64,2}:\n",
       " 1  2  3  4\n",
       " 5  6  7  8\n",
       " 2  4  6  9"
      ]
     },
     "execution_count": 31,
     "metadata": {},
     "output_type": "execute_result"
    }
   ],
   "source": [
    "B = [1 2 3 4;\n",
    "     5 6 7 8;\n",
    "     2 4 6 9]"
   ]
  },
  {
   "cell_type": "code",
   "execution_count": 32,
   "metadata": {},
   "outputs": [
    {
     "data": {
      "text/plain": [
       "3"
      ]
     },
     "execution_count": 32,
     "metadata": {},
     "output_type": "execute_result"
    }
   ],
   "source": [
    "rank(B)"
   ]
  },
  {
   "cell_type": "code",
   "execution_count": 33,
   "metadata": {},
   "outputs": [
    {
     "data": {
      "text/plain": [
       "3×4 Array{Float64,2}:\n",
       " 1.0  0.0  -1.0  0.0\n",
       " 0.0  1.0   2.0  0.0\n",
       " 0.0  0.0   0.0  1.0"
      ]
     },
     "execution_count": 33,
     "metadata": {},
     "output_type": "execute_result"
    }
   ],
   "source": [
    "rref(B)"
   ]
  },
  {
   "cell_type": "code",
   "execution_count": 46,
   "metadata": {},
   "outputs": [
    {
     "data": {
      "text/plain": [
       "3×3 Array{Int64,2}:\n",
       " 1  2  3\n",
       " 4  5  6\n",
       " 2  4  6"
      ]
     },
     "execution_count": 46,
     "metadata": {},
     "output_type": "execute_result"
    }
   ],
   "source": [
    "A = [1 2 3;\n",
    "     4 5 6;\n",
    "     2 4 6]"
   ]
  },
  {
   "cell_type": "code",
   "execution_count": 47,
   "metadata": {},
   "outputs": [
    {
     "data": {
      "text/plain": [
       "2"
      ]
     },
     "execution_count": 47,
     "metadata": {},
     "output_type": "execute_result"
    }
   ],
   "source": [
    "rank(A)"
   ]
  },
  {
   "cell_type": "code",
   "execution_count": 48,
   "metadata": {},
   "outputs": [
    {
     "data": {
      "text/plain": [
       "0.0"
      ]
     },
     "execution_count": 48,
     "metadata": {},
     "output_type": "execute_result"
    }
   ],
   "source": [
    "det(A)"
   ]
  },
  {
   "cell_type": "code",
   "execution_count": 49,
   "metadata": {},
   "outputs": [
    {
     "ename": "SingularException",
     "evalue": "SingularException(3)",
     "output_type": "error",
     "traceback": [
      "SingularException(3)",
      "",
      "Stacktrace:",
      " [1] checknonsingular at /Users/vagrant/worker/juliapro-release-osx1011-0_6/build/tmp_julia/Julia-1.4.app/Contents/Resources/julia/share/julia/stdlib/v1.4/LinearAlgebra/src/factorization.jl:19 [inlined]",
      " [2] checknonsingular at /Users/vagrant/worker/juliapro-release-osx1011-0_6/build/tmp_julia/Julia-1.4.app/Contents/Resources/julia/share/julia/stdlib/v1.4/LinearAlgebra/src/factorization.jl:21 [inlined]",
      " [3] lu!(::Array{Float64,2}, ::Val{true}; check::Bool) at /Users/vagrant/worker/juliapro-release-osx1011-0_6/build/tmp_julia/Julia-1.4.app/Contents/Resources/julia/share/julia/stdlib/v1.4/LinearAlgebra/src/lu.jl:85",
      " [4] #lu#142 at /Users/vagrant/worker/juliapro-release-osx1011-0_6/build/tmp_julia/Julia-1.4.app/Contents/Resources/julia/share/julia/stdlib/v1.4/LinearAlgebra/src/lu.jl:273 [inlined]",
      " [5] lu at /Users/vagrant/worker/juliapro-release-osx1011-0_6/build/tmp_julia/Julia-1.4.app/Contents/Resources/julia/share/julia/stdlib/v1.4/LinearAlgebra/src/lu.jl:272 [inlined] (repeats 2 times)",
      " [6] inv(::Array{Int64,2}) at /Users/vagrant/worker/juliapro-release-osx1011-0_6/build/tmp_julia/Julia-1.4.app/Contents/Resources/julia/share/julia/stdlib/v1.4/LinearAlgebra/src/dense.jl:770",
      " [7] top-level scope at In[49]:1"
     ]
    }
   ],
   "source": [
    "inv(A)"
   ]
  },
  {
   "cell_type": "code",
   "execution_count": 43,
   "metadata": {},
   "outputs": [
    {
     "data": {
      "text/plain": [
       "3×3 Array{Int64,2}:\n",
       "  1   2   3\n",
       " 10  20  30\n",
       "  2   4   6"
      ]
     },
     "execution_count": 43,
     "metadata": {},
     "output_type": "execute_result"
    }
   ],
   "source": [
    "A = [1,10,2]*[1,2,3]'"
   ]
  },
  {
   "cell_type": "code",
   "execution_count": 44,
   "metadata": {},
   "outputs": [
    {
     "data": {
      "text/plain": [
       "1"
      ]
     },
     "execution_count": 44,
     "metadata": {},
     "output_type": "execute_result"
    }
   ],
   "source": [
    "rank(A)"
   ]
  },
  {
   "cell_type": "code",
   "execution_count": 45,
   "metadata": {},
   "outputs": [
    {
     "ename": "SingularException",
     "evalue": "SingularException(2)",
     "output_type": "error",
     "traceback": [
      "SingularException(2)",
      "",
      "Stacktrace:",
      " [1] checknonsingular at /Users/vagrant/worker/juliapro-release-osx1011-0_6/build/tmp_julia/Julia-1.4.app/Contents/Resources/julia/share/julia/stdlib/v1.4/LinearAlgebra/src/factorization.jl:19 [inlined]",
      " [2] checknonsingular at /Users/vagrant/worker/juliapro-release-osx1011-0_6/build/tmp_julia/Julia-1.4.app/Contents/Resources/julia/share/julia/stdlib/v1.4/LinearAlgebra/src/factorization.jl:21 [inlined]",
      " [3] lu!(::Array{Float64,2}, ::Val{true}; check::Bool) at /Users/vagrant/worker/juliapro-release-osx1011-0_6/build/tmp_julia/Julia-1.4.app/Contents/Resources/julia/share/julia/stdlib/v1.4/LinearAlgebra/src/lu.jl:85",
      " [4] #lu#142 at /Users/vagrant/worker/juliapro-release-osx1011-0_6/build/tmp_julia/Julia-1.4.app/Contents/Resources/julia/share/julia/stdlib/v1.4/LinearAlgebra/src/lu.jl:273 [inlined]",
      " [5] lu at /Users/vagrant/worker/juliapro-release-osx1011-0_6/build/tmp_julia/Julia-1.4.app/Contents/Resources/julia/share/julia/stdlib/v1.4/LinearAlgebra/src/lu.jl:272 [inlined] (repeats 2 times)",
      " [6] inv(::Array{Int64,2}) at /Users/vagrant/worker/juliapro-release-osx1011-0_6/build/tmp_julia/Julia-1.4.app/Contents/Resources/julia/share/julia/stdlib/v1.4/LinearAlgebra/src/dense.jl:770",
      " [7] top-level scope at In[45]:1"
     ]
    }
   ],
   "source": [
    "inv(A)"
   ]
  },
  {
   "cell_type": "markdown",
   "metadata": {},
   "source": [
    "### Taylor Series\n",
    "See [VMLS] Appendix C"
   ]
  },
  {
   "cell_type": "markdown",
   "metadata": {},
   "source": [
    "$$\n",
    "f: \\mathbb{R}^{n} \\rightarrow \\mathbb{R}\n",
    "$$"
   ]
  },
  {
   "cell_type": "markdown",
   "metadata": {},
   "source": [
    "$$\n",
    "\\nabla f(z)=\\left[\\begin{array}{c}\\frac{\\partial f}{\\partial x_{1}}(z) \\\\ \\vdots \\\\ \\frac{\\partial f}{\\partial x_{n}}(z)\\end{array}\\right]\n",
    "$$"
   ]
  },
  {
   "cell_type": "markdown",
   "metadata": {},
   "source": [
    "$$\n",
    "\\hat{f}(x)=f(z)+\\frac{\\partial f}{\\partial x_{1}}(z)\\left(x_{1}-z_{1}\\right)+\\cdots+\\frac{\\partial f}{\\partial x_{n}}(z)\\left(x_{n}-z_{n}\\right)\n",
    "$$"
   ]
  },
  {
   "cell_type": "markdown",
   "metadata": {},
   "source": [
    "$$\n",
    "\\hat{f}(x ; z)=f(z)+\\nabla f(z)^{T}(x-z)\n",
    "$$"
   ]
  },
  {
   "cell_type": "markdown",
   "metadata": {},
   "source": [
    "$$\n",
    "f: \\mathbb{R}^{n} \\rightarrow \\mathbb{R}^{m}\n",
    "$$"
   ]
  },
  {
   "cell_type": "markdown",
   "metadata": {},
   "source": [
    "$$\n",
    "f(x)=\\left[\\begin{array}{c}f_{1}(x) \\\\ \\vdots \\\\ f_{m}(x)\\end{array}\\right]\n",
    "$$"
   ]
  },
  {
   "cell_type": "markdown",
   "metadata": {},
   "source": [
    "Jacobian:\n",
    "$$\n",
    "D f(z)_{i j}=\\frac{\\partial f_{i}}{\\partial x_{j}}(z), \\quad i=1, \\ldots, m, \\quad j=1, \\ldots, n\n",
    "$$"
   ]
  },
  {
   "cell_type": "markdown",
   "metadata": {},
   "source": [
    "rows are: $$\\nabla f_{i}(z)^{T}, \\text { for } i=1, \\ldots, m$$"
   ]
  },
  {
   "cell_type": "markdown",
   "metadata": {},
   "source": [
    "Taylor approximation:\n",
    "\n",
    "$$\n",
    "\\begin{aligned} \\hat{f}(x)_{i} &=f_{i}(z)+\\frac{\\partial f_{i}}{\\partial x_{1}}(z)\\left(x_{1}-z_{1}\\right)+\\cdots+\\frac{\\partial f_{i}}{\\partial x_{n}}(z)\\left(x_{n}-z_{n}\\right) \\\\ &=f_{i}(z)+\\nabla f_{i}(z)^{T}(x-z) \\end{aligned}\n",
    "$$"
   ]
  },
  {
   "cell_type": "markdown",
   "metadata": {},
   "source": [
    "$$\n",
    "\\hat{f}(x)=f(z)+D f(z)(x-z)\n",
    "$$"
   ]
  }
 ],
 "metadata": {
  "@webio": {
   "lastCommId": null,
   "lastKernelId": null
  },
  "kernelspec": {
   "display_name": "Julia 1.4.2",
   "language": "julia",
   "name": "julia-1.4"
  },
  "language_info": {
   "file_extension": ".jl",
   "mimetype": "application/julia",
   "name": "julia",
   "version": "1.4.2"
  }
 },
 "nbformat": 4,
 "nbformat_minor": 2
}
