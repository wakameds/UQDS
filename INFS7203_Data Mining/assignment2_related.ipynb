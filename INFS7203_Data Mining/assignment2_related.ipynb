{
 "cells": [
  {
   "cell_type": "code",
   "execution_count": 1,
   "metadata": {},
   "outputs": [
    {
     "name": "stdout",
     "output_type": "stream",
     "text": [
      "loading successful\n"
     ]
    }
   ],
   "source": [
    "# Import the libraries and load data\n",
    "import mlxtend\n",
    "import pandas as pd\n",
    "import numpy as np\n",
    "\n",
    "# load data from groceries.csv\n",
    "df = pd.read_csv('groceries.csv')\n",
    "# give a sign when the task finished\n",
    "print(\"loading successful\")"
   ]
  },
  {
   "cell_type": "code",
   "execution_count": 2,
   "metadata": {
    "scrolled": true
   },
   "outputs": [
    {
     "name": "stdout",
     "output_type": "stream",
     "text": [
      "Done\n"
     ]
    }
   ],
   "source": [
    "# change the data to list\n",
    "dataset = df.values.tolist()\n",
    "cleanList = []\n",
    "\n",
    "for trans in dataset: # for each transaction\n",
    "    cleanTrans = []\n",
    "    for x in trans: # for each element in the transaction\n",
    "        if str(x) != 'nan': # if the item is not 'nan', put it in the list\n",
    "            cleanTrans.append(x)\n",
    "    cleanList.append(cleanTrans)\n",
    "dataset = np.asarray(cleanList)\n",
    "\n",
    "# give a sign when the task finished\n",
    "print('Done')"
   ]
  },
  {
   "cell_type": "code",
   "execution_count": 3,
   "metadata": {},
   "outputs": [
    {
     "name": "stdout",
     "output_type": "stream",
     "text": [
      "Done!\n"
     ]
    }
   ],
   "source": [
    "from mlxtend.preprocessing import TransactionEncoder\n",
    "from mlxtend.frequent_patterns import apriori\n",
    "\n",
    "# This part is not required to be understood. You can just run the code and skip it.\n",
    "te = TransactionEncoder() # a pre-defined function to transfer data\n",
    "te_ary = te.fit(dataset).transform(dataset) \n",
    "df = pd.DataFrame(te_ary, columns=te.columns_) # fit the transferred data back into a pandas data format\n",
    "\n",
    "# give a sign when the task finished\n",
    "print('Done!')"
   ]
  },
  {
   "cell_type": "markdown",
   "metadata": {},
   "source": [
    "# Q1. Frequent itemset"
   ]
  },
  {
   "cell_type": "code",
   "execution_count": 4,
   "metadata": {},
   "outputs": [
    {
     "name": "stdout",
     "output_type": "stream",
     "text": [
      "Found at location 200\n"
     ]
    }
   ],
   "source": [
    "# define the MIN_SUPP\n",
    "MIN_SUPP = 0.009\n",
    "\n",
    "# apply the defined apriori algorithm\n",
    "freq_set = apriori(df, min_support=MIN_SUPP,use_colnames=True)\n",
    "\n",
    "check_set = ['domestic eggs', 'soda']\n",
    "\n",
    "# Select the idx from the frequent set based on the given check_set\n",
    "itemset_idx = freq_set.index[freq_set['itemsets'] == frozenset(check_set)].tolist()\n",
    "if itemset_idx==[]: # given check_set does not exist in the frequent set\n",
    "    print('Not frequent!')\n",
    "else:\n",
    "    print('Found at location '+str(itemset_idx[0]))"
   ]
  },
  {
   "cell_type": "code",
   "execution_count": 5,
   "metadata": {},
   "outputs": [
    {
     "name": "stdout",
     "output_type": "stream",
     "text": [
      "Not frequent!\n"
     ]
    }
   ],
   "source": [
    "# define the MIN_SUPP\n",
    "MIN_SUPP = 0.009\n",
    "\n",
    "# apply the defined apriori algorithm\n",
    "freq_set = apriori(df, min_support=MIN_SUPP,use_colnames=True)\n",
    "\n",
    "check_set = ['whole milk', 'tropical fruit', 'apple']\n",
    "\n",
    "# Select the idx from the frequent set based on the given check_set\n",
    "itemset_idx = freq_set.index[freq_set['itemsets'] == frozenset(check_set)].tolist()\n",
    "if itemset_idx==[]: # given check_set does not exist in the frequent set\n",
    "    print('Not frequent!')\n",
    "else:\n",
    "    print('Found at location '+str(itemset_idx[0]))"
   ]
  },
  {
   "cell_type": "code",
   "execution_count": 6,
   "metadata": {},
   "outputs": [
    {
     "name": "stdout",
     "output_type": "stream",
     "text": [
      "Found at location 398\n"
     ]
    }
   ],
   "source": [
    "# define the MIN_SUPP\n",
    "MIN_SUPP = 0.009\n",
    "\n",
    "# apply the defined apriori algorithm\n",
    "freq_set = apriori(df, min_support=MIN_SUPP,use_colnames=True)\n",
    "\n",
    "check_set = ['whole milk', 'tropical fruit', 'root vegetables']\n",
    "\n",
    "# Select the idx from the frequent set based on the given check_set\n",
    "itemset_idx = freq_set.index[freq_set['itemsets'] == frozenset(check_set)].tolist()\n",
    "if itemset_idx==[]: # given check_set does not exist in the frequent set\n",
    "    print('Not frequent!')\n",
    "else:\n",
    "    print('Found at location '+str(itemset_idx[0]))"
   ]
  },
  {
   "cell_type": "code",
   "execution_count": 7,
   "metadata": {},
   "outputs": [
    {
     "name": "stdout",
     "output_type": "stream",
     "text": [
      "Not frequent!\n"
     ]
    }
   ],
   "source": [
    "# define the MIN_SUPP\n",
    "MIN_SUPP = 0.009\n",
    "\n",
    "# apply the defined apriori algorithm\n",
    "freq_set = apriori(df, min_support=MIN_SUPP,use_colnames=True)\n",
    "\n",
    "check_set = ['whole milk', 'tropical fruit', 'bread']\n",
    "\n",
    "# Select the idx from the frequent set based on the given check_set\n",
    "itemset_idx = freq_set.index[freq_set['itemsets'] == frozenset(check_set)].tolist()\n",
    "if itemset_idx==[]: # given check_set does not exist in the frequent set\n",
    "    print('Not frequent!')\n",
    "else:\n",
    "    print('Found at location '+str(itemset_idx[0]))"
   ]
  },
  {
   "cell_type": "markdown",
   "metadata": {},
   "source": [
    "# Q2. Itemset support"
   ]
  },
  {
   "cell_type": "code",
   "execution_count": 8,
   "metadata": {},
   "outputs": [
    {
     "name": "stdout",
     "output_type": "stream",
     "text": [
      "Done!\n"
     ]
    }
   ],
   "source": [
    "# define the MIN_SUPP\n",
    "MIN_SUPP = 0.005\n",
    "\n",
    "# apply the defined apriori algorithm\n",
    "freq_set = apriori(df, min_support=MIN_SUPP,use_colnames=True)\n",
    "\n",
    "print('Done!')"
   ]
  },
  {
   "cell_type": "code",
   "execution_count": 9,
   "metadata": {},
   "outputs": [
    {
     "name": "stdout",
     "output_type": "stream",
     "text": [
      "Found at location 900\n",
      "      support                                    itemsets\n",
      "900  0.017895  (whole milk, rolls/buns, other vegetables)\n"
     ]
    }
   ],
   "source": [
    "check_set = ['whole milk', 'rolls/buns', 'other vegetables']\n",
    "\n",
    "# Select the idx from the frequent set based on the given check_set\n",
    "itemset_idx = freq_set.index[freq_set['itemsets'] == frozenset(check_set)].tolist()\n",
    "if itemset_idx==[]: # given check_set does not exist in the frequent set\n",
    "    print('Not frequent!')\n",
    "else:\n",
    "    print('Found at location '+str(itemset_idx[0]))\n",
    "    print(freq_set.loc[[itemset_idx[0]], ['support', 'itemsets']])"
   ]
  },
  {
   "cell_type": "code",
   "execution_count": 10,
   "metadata": {},
   "outputs": [
    {
     "name": "stdout",
     "output_type": "stream",
     "text": [
      "Found at location 800\n",
      "      support                                    itemsets\n",
      "800  0.009049  (whole milk, citrus fruit, tropical fruit)\n"
     ]
    }
   ],
   "source": [
    "check_set = ['whole milk', 'tropical fruit', 'citrus fruit']\n",
    "\n",
    "# Select the idx from the frequent set based on the given check_set\n",
    "itemset_idx = freq_set.index[freq_set['itemsets'] == frozenset(check_set)].tolist()\n",
    "if itemset_idx==[]: # given check_set does not exist in the frequent set\n",
    "    print('Not frequent!')\n",
    "else:\n",
    "    print('Found at location '+str(itemset_idx[0]))\n",
    "    print(freq_set.loc[[itemset_idx[0]], ['support', 'itemsets']])"
   ]
  },
  {
   "cell_type": "code",
   "execution_count": 11,
   "metadata": {},
   "outputs": [
    {
     "name": "stdout",
     "output_type": "stream",
     "text": [
      "Found at location 950\n",
      "      support                               itemsets\n",
      "950  0.007219  (root vegetables, rolls/buns, yogurt)\n"
     ]
    }
   ],
   "source": [
    "check_set = ['root vegetables', 'rolls/buns', 'yogurt']\n",
    "\n",
    "# Select the idx from the frequent set based on the given check_set\n",
    "itemset_idx = freq_set.index[freq_set['itemsets'] == frozenset(check_set)].tolist()\n",
    "if itemset_idx==[]: # given check_set does not exist in the frequent set\n",
    "    print('Not frequent!')\n",
    "else:\n",
    "    print('Found at location '+str(itemset_idx[0]))\n",
    "    print(freq_set.loc[[itemset_idx[0]], ['support', 'itemsets']])"
   ]
  },
  {
   "cell_type": "code",
   "execution_count": 12,
   "metadata": {},
   "outputs": [
    {
     "name": "stdout",
     "output_type": "stream",
     "text": [
      "Found at location 925\n",
      "      support                                        itemsets\n",
      "925  0.010168  (other vegetables, whipped/sour cream, yogurt)\n"
     ]
    }
   ],
   "source": [
    "check_set = ['other vegetables', 'whipped/sour cream', 'yogurt']\n",
    "\n",
    "# Select the idx from the frequent set based on the given check_set\n",
    "itemset_idx = freq_set.index[freq_set['itemsets'] == frozenset(check_set)].tolist()\n",
    "if itemset_idx==[]: # given check_set does not exist in the frequent set\n",
    "    print('Not frequent!')\n",
    "else:\n",
    "    print('Found at location '+str(itemset_idx[0]))\n",
    "    print(freq_set.loc[[itemset_idx[0]], ['support', 'itemsets']])"
   ]
  },
  {
   "cell_type": "markdown",
   "metadata": {},
   "source": [
    "# Q3. Number of frequent itemsets"
   ]
  },
  {
   "cell_type": "code",
   "execution_count": 13,
   "metadata": {},
   "outputs": [
    {
     "name": "stdout",
     "output_type": "stream",
     "text": [
      "       support                                           itemsets\n",
      "0     0.008033                            (Instant food products)\n",
      "1     0.033452                                         (UHT-milk)\n",
      "2     0.017692                                    (baking powder)\n",
      "3     0.052466                                             (beef)\n",
      "4     0.033249                                          (berries)\n",
      "...        ...                                                ...\n",
      "996   0.005186  (whole milk, root vegetables, whipped/sour cre...\n",
      "997   0.007829  (whole milk, root vegetables, yogurt, other ve...\n",
      "998   0.007626  (whole milk, yogurt, tropical fruit, other veg...\n",
      "999   0.005592  (whole milk, whipped/sour cream, yogurt, other...\n",
      "1000  0.005694  (whole milk, root vegetables, yogurt, tropical...\n",
      "\n",
      "[1001 rows x 2 columns]\n"
     ]
    }
   ],
   "source": [
    "# define the MIN_SUPP\n",
    "MIN_SUPP = 0.005\n",
    "\n",
    "# apply the defined apriori algorithm\n",
    "freq_set = apriori(df, min_support=MIN_SUPP,use_colnames=True)\n",
    "\n",
    "print(freq_set)"
   ]
  },
  {
   "cell_type": "code",
   "execution_count": 14,
   "metadata": {},
   "outputs": [
    {
     "name": "stdout",
     "output_type": "stream",
     "text": [
      "      support                                       itemsets\n",
      "0    0.033452                                     (UHT-milk)\n",
      "1    0.017692                                (baking powder)\n",
      "2    0.052466                                         (beef)\n",
      "3    0.033249                                      (berries)\n",
      "4    0.026029                                    (beverages)\n",
      "..        ...                                            ...\n",
      "328  0.011998  (whole milk, root vegetables, tropical fruit)\n",
      "329  0.014540          (whole milk, root vegetables, yogurt)\n",
      "330  0.010473                     (whole milk, yogurt, soda)\n",
      "331  0.015150           (whole milk, yogurt, tropical fruit)\n",
      "332  0.010880       (whole milk, whipped/sour cream, yogurt)\n",
      "\n",
      "[333 rows x 2 columns]\n"
     ]
    }
   ],
   "source": [
    "# define the MIN_SUPP\n",
    "MIN_SUPP = 0.01\n",
    "\n",
    "# apply the defined apriori algorithm\n",
    "freq_set = apriori(df, min_support=MIN_SUPP,use_colnames=True)\n",
    "\n",
    "print(freq_set)"
   ]
  },
  {
   "cell_type": "code",
   "execution_count": 15,
   "metadata": {},
   "outputs": [
    {
     "name": "stdout",
     "output_type": "stream",
     "text": [
      "      support                                           itemsets\n",
      "0    0.008033                            (Instant food products)\n",
      "1    0.033452                                         (UHT-milk)\n",
      "2    0.017692                                    (baking powder)\n",
      "3    0.052466                                             (beef)\n",
      "4    0.033249                                          (berries)\n",
      "..        ...                                                ...\n",
      "742  0.010880           (whole milk, whipped/sour cream, yogurt)\n",
      "743  0.006202  (whole milk, root vegetables, rolls/buns, othe...\n",
      "744  0.007016  (whole milk, root vegetables, tropical fruit, ...\n",
      "745  0.007829  (whole milk, root vegetables, yogurt, other ve...\n",
      "746  0.007626  (whole milk, yogurt, tropical fruit, other veg...\n",
      "\n",
      "[747 rows x 2 columns]\n"
     ]
    }
   ],
   "source": [
    "# define the MIN_SUPP\n",
    "MIN_SUPP = 0.006\n",
    "\n",
    "# apply the defined apriori algorithm\n",
    "freq_set = apriori(df, min_support=MIN_SUPP,use_colnames=True)\n",
    "\n",
    "print(freq_set)"
   ]
  },
  {
   "cell_type": "code",
   "execution_count": 16,
   "metadata": {},
   "outputs": [
    {
     "name": "stdout",
     "output_type": "stream",
     "text": [
      "      support                                  itemsets\n",
      "0    0.008033                   (Instant food products)\n",
      "1    0.033452                                (UHT-milk)\n",
      "2    0.017692                           (baking powder)\n",
      "3    0.052466                                    (beef)\n",
      "4    0.033249                                 (berries)\n",
      "..        ...                                       ...\n",
      "480  0.014540     (whole milk, root vegetables, yogurt)\n",
      "481  0.008744             (sausage, yogurt, whole milk)\n",
      "482  0.010473                (whole milk, yogurt, soda)\n",
      "483  0.015150      (whole milk, yogurt, tropical fruit)\n",
      "484  0.010880  (whole milk, whipped/sour cream, yogurt)\n",
      "\n",
      "[485 rows x 2 columns]\n"
     ]
    }
   ],
   "source": [
    "# define the MIN_SUPP\n",
    "MIN_SUPP = 0.008\n",
    "\n",
    "# apply the defined apriori algorithm\n",
    "freq_set = apriori(df, min_support=MIN_SUPP,use_colnames=True)\n",
    "\n",
    "print(freq_set)"
   ]
  },
  {
   "cell_type": "markdown",
   "metadata": {},
   "source": [
    "# Q4. Strong rule"
   ]
  },
  {
   "cell_type": "code",
   "execution_count": 17,
   "metadata": {},
   "outputs": [],
   "source": [
    "\"\"\"\n",
    "Return the support of the given itemset X\n",
    "\"\"\"\n",
    "def get_itemset_support(freq_set, X):\n",
    "    # Select the idx from the frequent set based on the given check_set\n",
    "    itemset_idx = freq_set.index[freq_set['itemsets'] == frozenset(X)].tolist()\n",
    "    if itemset_idx==[]:\n",
    "        return None # Request itemset X does not exist in the frequent itemset\n",
    "    else:\n",
    "        return freq_set.loc[itemset_idx[0],['support']] # Return the corresponding support\n",
    "        \n",
    "\"\"\"\n",
    "Print the confidence of the given itemset {X} -> {Y} \n",
    "\"\"\"\n",
    "def get_rule_confidence(freq_set, X, Y):\n",
    "   \n",
    "    itemset = X + Y # join itemset X and itemset Y \n",
    "    x_support = get_itemset_support(freq_set, X) # get support of X \n",
    "    joint_support = get_itemset_support(freq_set, itemset) # get support of X joint Y\n",
    "    \n",
    "    if joint_support is None or x_support is None: \n",
    "        return \"Make sure the X, Y and X+Y are in the frequent list.\"\n",
    "        \n",
    "    print(\"The confidence of rule {%s} -> {%s} is: %3f\"%(X, Y, joint_support/x_support))"
   ]
  },
  {
   "cell_type": "code",
   "execution_count": 18,
   "metadata": {},
   "outputs": [
    {
     "name": "stdout",
     "output_type": "stream",
     "text": [
      "The confidence of rule {['berries']} -> {['whipped/sour cream']} is: 0.272171\n"
     ]
    }
   ],
   "source": [
    "# define the MIN_SUPP\n",
    "MIN_SUPP = 0.009\n",
    "\n",
    "# apply the defined apriori algorithm\n",
    "freq_set = apriori(df, min_support=MIN_SUPP,use_colnames=True)\n",
    "\n",
    "# Specify the content of X and Y\n",
    "X = ['berries']\n",
    "Y = ['whipped/sour cream']\n",
    "\n",
    "# Get the confidence\n",
    "get_rule_confidence(freq_set, X, Y)"
   ]
  },
  {
   "cell_type": "code",
   "execution_count": 19,
   "metadata": {},
   "outputs": [
    {
     "name": "stdout",
     "output_type": "stream",
     "text": [
      "The confidence of rule {['whipped/sour cream']} -> {['berries']} is: 0.126241\n"
     ]
    }
   ],
   "source": [
    "# define the MIN_SUPP\n",
    "MIN_SUPP = 0.009\n",
    "\n",
    "# apply the defined apriori algorithm\n",
    "freq_set = apriori(df, min_support=MIN_SUPP,use_colnames=True)\n",
    "\n",
    "# Specify the content of X and Y\n",
    "Y = ['berries']\n",
    "X = ['whipped/sour cream']\n",
    "\n",
    "# Get the confidence\n",
    "get_rule_confidence(freq_set, X, Y)"
   ]
  },
  {
   "cell_type": "code",
   "execution_count": 20,
   "metadata": {},
   "outputs": [
    {
     "name": "stdout",
     "output_type": "stream",
     "text": [
      "The confidence of rule {['whole milk']} -> {['bottled water']} is: 0.134501\n"
     ]
    }
   ],
   "source": [
    "# define the MIN_SUPP\n",
    "MIN_SUPP = 0.009\n",
    "\n",
    "# apply the defined apriori algorithm\n",
    "freq_set = apriori(df, min_support=MIN_SUPP,use_colnames=True)\n",
    "\n",
    "# Specify the content of X and Y\n",
    "X = ['whole milk']\n",
    "Y = ['bottled water']\n",
    "\n",
    "# Get the confidence\n",
    "get_rule_confidence(freq_set, X, Y)"
   ]
  },
  {
   "cell_type": "code",
   "execution_count": 21,
   "metadata": {},
   "outputs": [
    {
     "name": "stdout",
     "output_type": "stream",
     "text": [
      "The confidence of rule {['bottled water']} -> {['whole milk']} is: 0.310948\n"
     ]
    }
   ],
   "source": [
    "# define the MIN_SUPP\n",
    "MIN_SUPP = 0.009\n",
    "\n",
    "# apply the defined apriori algorithm\n",
    "freq_set = apriori(df, min_support=MIN_SUPP,use_colnames=True)\n",
    "\n",
    "# Specify the content of X and Y\n",
    "X = ['bottled water']\n",
    "Y = ['whole milk']\n",
    "\n",
    "# Get the confidence\n",
    "get_rule_confidence(freq_set, X, Y)"
   ]
  },
  {
   "cell_type": "code",
   "execution_count": null,
   "metadata": {},
   "outputs": [],
   "source": []
  }
 ],
 "metadata": {
  "kernelspec": {
   "display_name": "Python 3",
   "language": "python",
   "name": "python3"
  },
  "language_info": {
   "codemirror_mode": {
    "name": "ipython",
    "version": 3
   },
   "file_extension": ".py",
   "mimetype": "text/x-python",
   "name": "python",
   "nbconvert_exporter": "python",
   "pygments_lexer": "ipython3",
   "version": "3.7.6"
  }
 },
 "nbformat": 4,
 "nbformat_minor": 4
}
