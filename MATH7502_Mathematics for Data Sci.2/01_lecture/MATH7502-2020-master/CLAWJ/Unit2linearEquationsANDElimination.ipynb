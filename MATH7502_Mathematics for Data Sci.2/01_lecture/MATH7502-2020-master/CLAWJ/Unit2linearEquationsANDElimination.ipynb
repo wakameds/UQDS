{
 "cells": [
  {
   "cell_type": "markdown",
   "metadata": {},
   "source": [
    "# Unit 2: Linear Equations and Elimination\n",
    "\n",
    "In this unit:\n",
    "1. Linear equations\n",
    "1. Gaussian elimination\n",
    "1. Pivots\n",
    "1. Rank\n",
    "1. LU factorization\n",
    "1. Taylor series expansions with Jacobians"
   ]
  },
  {
   "cell_type": "markdown",
   "metadata": {},
   "source": [
    "### Linear Equations"
   ]
  },
  {
   "cell_type": "markdown",
   "metadata": {},
   "source": [
    "$$\n",
    "\\begin{array}{rcl}\n",
    "x - 2y &=& 1\\\\\n",
    "3x + 2y &=& 11\n",
    "\\end{array}\n",
    "$$"
   ]
  },
  {
   "cell_type": "markdown",
   "metadata": {},
   "source": [
    "or\n",
    "$$\n",
    "\\begin{bmatrix}\n",
    "1 & -2 \\\\\n",
    "3 & 2\n",
    "\\end{bmatrix}\n",
    "\\begin{bmatrix}\n",
    "x \\\\\n",
    "y\n",
    "\\end{bmatrix}\n",
    "=\n",
    "\\begin{bmatrix}\n",
    "1 \\\\\n",
    "11\n",
    "\\end{bmatrix}\n",
    "$$"
   ]
  },
  {
   "cell_type": "markdown",
   "metadata": {},
   "source": [
    "Multiply first equation by $3$ and subtract from second equation:"
   ]
  },
  {
   "cell_type": "markdown",
   "metadata": {},
   "source": [
    "$$\n",
    "\\begin{array}{rcl}\n",
    "x - 2y &=& 1\\\\\n",
    " 8y &=& 8\n",
    "\\end{array}\n",
    "$$"
   ]
  },
  {
   "cell_type": "markdown",
   "metadata": {},
   "source": [
    "or\n",
    "$$\n",
    "\\begin{bmatrix}\n",
    "1 & -2 \\\\\n",
    "0 & 8\n",
    "\\end{bmatrix}\n",
    "\\begin{bmatrix}\n",
    "x \\\\\n",
    "y\n",
    "\\end{bmatrix}\n",
    "=\n",
    "\\begin{bmatrix}\n",
    "1 \\\\\n",
    "8\n",
    "\\end{bmatrix}\n",
    "$$"
   ]
  },
  {
   "cell_type": "markdown",
   "metadata": {},
   "source": [
    "Now $y=1$ and from this we can find $x$"
   ]
  },
  {
   "cell_type": "markdown",
   "metadata": {},
   "source": [
    "$1x -2 \\times 1 = 1$\n",
    "\n",
    "So $x = 3$\n",
    "\n",
    "So solution is $[3,1]^T$"
   ]
  },
  {
   "cell_type": "code",
   "execution_count": 1,
   "metadata": {},
   "outputs": [],
   "source": [
    "A = [1 -2; 3 2]; b=[1,11];"
   ]
  },
  {
   "cell_type": "code",
   "execution_count": 2,
   "metadata": {},
   "outputs": [
    {
     "data": {
      "text/plain": [
       "(true, [0, 0])"
      ]
     },
     "execution_count": 2,
     "metadata": {},
     "output_type": "execute_result"
    }
   ],
   "source": [
    "A*[3,1] == b, A*[3,1] - b"
   ]
  },
  {
   "cell_type": "code",
   "execution_count": 3,
   "metadata": {},
   "outputs": [
    {
     "data": {
      "text/plain": [
       "2×2 Matrix{Int64}:\n",
       " 1  -2\n",
       " 0   8"
      ]
     },
     "execution_count": 3,
     "metadata": {},
     "output_type": "execute_result"
    }
   ],
   "source": [
    "A2 = copy(A) #doing the row operation manually\n",
    "A2[2,:] = A[2,:] - 3A[1,:];\n",
    "A2"
   ]
  },
  {
   "cell_type": "markdown",
   "metadata": {},
   "source": [
    "Now y = 1"
   ]
  },
  {
   "cell_type": "markdown",
   "metadata": {},
   "source": [
    "First equations becomes: $1x - 2\\times1 = 1$\n",
    "\n",
    "So $x = 3$"
   ]
  },
  {
   "cell_type": "code",
   "execution_count": 4,
   "metadata": {},
   "outputs": [
    {
     "data": {
      "text/plain": [
       "2-element Vector{Int64}:\n",
       "  1\n",
       " 11"
      ]
     },
     "execution_count": 4,
     "metadata": {},
     "output_type": "execute_result"
    }
   ],
   "source": [
    "A*[3,1]"
   ]
  },
  {
   "cell_type": "code",
   "execution_count": 5,
   "metadata": {
    "scrolled": true
   },
   "outputs": [
    {
     "data": {
      "text/plain": [
       "true"
      ]
     },
     "execution_count": 5,
     "metadata": {},
     "output_type": "execute_result"
    }
   ],
   "source": [
    "A*[3,1] == [1,11]"
   ]
  },
  {
   "cell_type": "code",
   "execution_count": 6,
   "metadata": {},
   "outputs": [
    {
     "data": {
      "text/plain": [
       "2-element Vector{Float64}:\n",
       " 3.0\n",
       " 1.0"
      ]
     },
     "execution_count": 6,
     "metadata": {},
     "output_type": "execute_result"
    }
   ],
   "source": [
    "b = [1,11]\n",
    "A \\ b #solving using the `backslash' operator"
   ]
  },
  {
   "cell_type": "code",
   "execution_count": 7,
   "metadata": {},
   "outputs": [
    {
     "data": {
      "text/plain": [
       "8.344884075557671e-11"
      ]
     },
     "execution_count": 7,
     "metadata": {},
     "output_type": "execute_result"
    }
   ],
   "source": [
    "using LinearAlgebra\n",
    "A = rand(1000,1000)\n",
    "b = rand(1000);\n",
    "xSol = A \\ b\n",
    "norm(A*xSol - b)"
   ]
  },
  {
   "cell_type": "code",
   "execution_count": 8,
   "metadata": {},
   "outputs": [
    {
     "name": "stdout",
     "output_type": "stream",
     "text": [
      "search: \u001b[0m\u001b[1m\\\u001b[22m\n",
      "\n"
     ]
    },
    {
     "data": {
      "text/latex": [
       "\\begin{verbatim}\n",
       "\\(x, y)\n",
       "\\end{verbatim}\n",
       "Left division operator: multiplication of \\texttt{y} by the inverse of \\texttt{x} on the left. Gives floating-point results for integer arguments.\n",
       "\n",
       "\\section{Examples}\n",
       "\\begin{verbatim}\n",
       "julia> 3 \\ 6\n",
       "2.0\n",
       "\n",
       "julia> inv(3) * 6\n",
       "2.0\n",
       "\n",
       "julia> A = [4 3; 2 1]; x = [5, 6];\n",
       "\n",
       "julia> A \\ x\n",
       "2-element Vector{Float64}:\n",
       "  6.5\n",
       " -7.0\n",
       "\n",
       "julia> inv(A) * x\n",
       "2-element Vector{Float64}:\n",
       "  6.5\n",
       " -7.0\n",
       "\\end{verbatim}\n",
       "\\rule{\\textwidth}{1pt}\n",
       "\\begin{verbatim}\n",
       "\\(A, B)\n",
       "\\end{verbatim}\n",
       "Matrix division using a polyalgorithm. For input matrices \\texttt{A} and \\texttt{B}, the result \\texttt{X} is such that \\texttt{A*X == B} when \\texttt{A} is square. The solver that is used depends upon the structure of \\texttt{A}.  If \\texttt{A} is upper or lower triangular (or diagonal), no factorization of \\texttt{A} is required and the system is solved with either forward or backward substitution. For non-triangular square matrices, an LU factorization is used.\n",
       "\n",
       "For rectangular \\texttt{A} the result is the minimum-norm least squares solution computed by a pivoted QR factorization of \\texttt{A} and a rank estimate of \\texttt{A} based on the R factor.\n",
       "\n",
       "When \\texttt{A} is sparse, a similar polyalgorithm is used. For indefinite matrices, the \\texttt{LDLt} factorization does not use pivoting during the numerical factorization and therefore the procedure can fail even for invertible matrices.\n",
       "\n",
       "See also: \\href{@ref}{\\texttt{factorize}}, \\href{@ref}{\\texttt{pinv}}.\n",
       "\n",
       "\\section{Examples}\n",
       "\\begin{verbatim}\n",
       "julia> A = [1 0; 1 -2]; B = [32; -4];\n",
       "\n",
       "julia> X = A \\ B\n",
       "2-element Vector{Float64}:\n",
       " 32.0\n",
       " 18.0\n",
       "\n",
       "julia> A * X == B\n",
       "true\n",
       "\\end{verbatim}\n",
       "\\rule{\\textwidth}{1pt}\n",
       "\\begin{verbatim}\n",
       "(\\)(F::QRSparse, B::StridedVecOrMat)\n",
       "\\end{verbatim}\n",
       "Solve the least squares problem $\\min\\|Ax - b\\|^2$ or the linear system of equations $Ax=b$ when \\texttt{F} is the sparse QR factorization of $A$. A basic solution is returned when the problem is underdetermined.\n",
       "\n",
       "\\section{Examples}\n",
       "\\begin{verbatim}\n",
       "julia> A = sparse([1,2,4], [1,1,1], [1.0,1.0,1.0], 4, 2)\n",
       "4×2 SparseMatrixCSC{Float64, Int64} with 3 stored entries:\n",
       " 1.0   ⋅\n",
       " 1.0   ⋅\n",
       "  ⋅    ⋅\n",
       " 1.0   ⋅\n",
       "\n",
       "julia> qr(A)\\fill(1.0, 4)\n",
       "2-element Vector{Float64}:\n",
       " 1.0\n",
       " 0.0\n",
       "\\end{verbatim}\n"
      ],
      "text/markdown": [
       "```\n",
       "\\(x, y)\n",
       "```\n",
       "\n",
       "Left division operator: multiplication of `y` by the inverse of `x` on the left. Gives floating-point results for integer arguments.\n",
       "\n",
       "# Examples\n",
       "\n",
       "```jldoctest\n",
       "julia> 3 \\ 6\n",
       "2.0\n",
       "\n",
       "julia> inv(3) * 6\n",
       "2.0\n",
       "\n",
       "julia> A = [4 3; 2 1]; x = [5, 6];\n",
       "\n",
       "julia> A \\ x\n",
       "2-element Vector{Float64}:\n",
       "  6.5\n",
       " -7.0\n",
       "\n",
       "julia> inv(A) * x\n",
       "2-element Vector{Float64}:\n",
       "  6.5\n",
       " -7.0\n",
       "```\n",
       "\n",
       "---\n",
       "\n",
       "```\n",
       "\\(A, B)\n",
       "```\n",
       "\n",
       "Matrix division using a polyalgorithm. For input matrices `A` and `B`, the result `X` is such that `A*X == B` when `A` is square. The solver that is used depends upon the structure of `A`.  If `A` is upper or lower triangular (or diagonal), no factorization of `A` is required and the system is solved with either forward or backward substitution. For non-triangular square matrices, an LU factorization is used.\n",
       "\n",
       "For rectangular `A` the result is the minimum-norm least squares solution computed by a pivoted QR factorization of `A` and a rank estimate of `A` based on the R factor.\n",
       "\n",
       "When `A` is sparse, a similar polyalgorithm is used. For indefinite matrices, the `LDLt` factorization does not use pivoting during the numerical factorization and therefore the procedure can fail even for invertible matrices.\n",
       "\n",
       "See also: [`factorize`](@ref), [`pinv`](@ref).\n",
       "\n",
       "# Examples\n",
       "\n",
       "```jldoctest\n",
       "julia> A = [1 0; 1 -2]; B = [32; -4];\n",
       "\n",
       "julia> X = A \\ B\n",
       "2-element Vector{Float64}:\n",
       " 32.0\n",
       " 18.0\n",
       "\n",
       "julia> A * X == B\n",
       "true\n",
       "```\n",
       "\n",
       "---\n",
       "\n",
       "```\n",
       "(\\)(F::QRSparse, B::StridedVecOrMat)\n",
       "```\n",
       "\n",
       "Solve the least squares problem $\\min\\|Ax - b\\|^2$ or the linear system of equations $Ax=b$ when `F` is the sparse QR factorization of $A$. A basic solution is returned when the problem is underdetermined.\n",
       "\n",
       "# Examples\n",
       "\n",
       "```jldoctest\n",
       "julia> A = sparse([1,2,4], [1,1,1], [1.0,1.0,1.0], 4, 2)\n",
       "4×2 SparseMatrixCSC{Float64, Int64} with 3 stored entries:\n",
       " 1.0   ⋅\n",
       " 1.0   ⋅\n",
       "  ⋅    ⋅\n",
       " 1.0   ⋅\n",
       "\n",
       "julia> qr(A)\\fill(1.0, 4)\n",
       "2-element Vector{Float64}:\n",
       " 1.0\n",
       " 0.0\n",
       "```\n"
      ],
      "text/plain": [
       "\u001b[36m  \\(x, y)\u001b[39m\n",
       "\n",
       "  Left division operator: multiplication of \u001b[36my\u001b[39m by the inverse of \u001b[36mx\u001b[39m on the left.\n",
       "  Gives floating-point results for integer arguments.\n",
       "\n",
       "\u001b[1m  Examples\u001b[22m\n",
       "\u001b[1m  ≡≡≡≡≡≡≡≡≡≡\u001b[22m\n",
       "\n",
       "\u001b[36m  julia> 3 \\ 6\u001b[39m\n",
       "\u001b[36m  2.0\u001b[39m\n",
       "\u001b[36m  \u001b[39m\n",
       "\u001b[36m  julia> inv(3) * 6\u001b[39m\n",
       "\u001b[36m  2.0\u001b[39m\n",
       "\u001b[36m  \u001b[39m\n",
       "\u001b[36m  julia> A = [4 3; 2 1]; x = [5, 6];\u001b[39m\n",
       "\u001b[36m  \u001b[39m\n",
       "\u001b[36m  julia> A \\ x\u001b[39m\n",
       "\u001b[36m  2-element Vector{Float64}:\u001b[39m\n",
       "\u001b[36m    6.5\u001b[39m\n",
       "\u001b[36m   -7.0\u001b[39m\n",
       "\u001b[36m  \u001b[39m\n",
       "\u001b[36m  julia> inv(A) * x\u001b[39m\n",
       "\u001b[36m  2-element Vector{Float64}:\u001b[39m\n",
       "\u001b[36m    6.5\u001b[39m\n",
       "\u001b[36m   -7.0\u001b[39m\n",
       "\n",
       "  ────────────────────────────────────────────────────────────────────────────\n",
       "\n",
       "\u001b[36m  \\(A, B)\u001b[39m\n",
       "\n",
       "  Matrix division using a polyalgorithm. For input matrices \u001b[36mA\u001b[39m and \u001b[36mB\u001b[39m, the\n",
       "  result \u001b[36mX\u001b[39m is such that \u001b[36mA*X == B\u001b[39m when \u001b[36mA\u001b[39m is square. The solver that is used\n",
       "  depends upon the structure of \u001b[36mA\u001b[39m. If \u001b[36mA\u001b[39m is upper or lower triangular (or\n",
       "  diagonal), no factorization of \u001b[36mA\u001b[39m is required and the system is solved with\n",
       "  either forward or backward substitution. For non-triangular square matrices,\n",
       "  an LU factorization is used.\n",
       "\n",
       "  For rectangular \u001b[36mA\u001b[39m the result is the minimum-norm least squares solution\n",
       "  computed by a pivoted QR factorization of \u001b[36mA\u001b[39m and a rank estimate of \u001b[36mA\u001b[39m based\n",
       "  on the R factor.\n",
       "\n",
       "  When \u001b[36mA\u001b[39m is sparse, a similar polyalgorithm is used. For indefinite matrices,\n",
       "  the \u001b[36mLDLt\u001b[39m factorization does not use pivoting during the numerical\n",
       "  factorization and therefore the procedure can fail even for invertible\n",
       "  matrices.\n",
       "\n",
       "  See also: \u001b[36mfactorize\u001b[39m, \u001b[36mpinv\u001b[39m.\n",
       "\n",
       "\u001b[1m  Examples\u001b[22m\n",
       "\u001b[1m  ≡≡≡≡≡≡≡≡≡≡\u001b[22m\n",
       "\n",
       "\u001b[36m  julia> A = [1 0; 1 -2]; B = [32; -4];\u001b[39m\n",
       "\u001b[36m  \u001b[39m\n",
       "\u001b[36m  julia> X = A \\ B\u001b[39m\n",
       "\u001b[36m  2-element Vector{Float64}:\u001b[39m\n",
       "\u001b[36m   32.0\u001b[39m\n",
       "\u001b[36m   18.0\u001b[39m\n",
       "\u001b[36m  \u001b[39m\n",
       "\u001b[36m  julia> A * X == B\u001b[39m\n",
       "\u001b[36m  true\u001b[39m\n",
       "\n",
       "  ────────────────────────────────────────────────────────────────────────────\n",
       "\n",
       "\u001b[36m  (\\)(F::QRSparse, B::StridedVecOrMat)\u001b[39m\n",
       "\n",
       "  Solve the least squares problem \u001b[35m\\min\\|Ax - b\\|^2\u001b[39m or the linear system of\n",
       "  equations \u001b[35mAx=b\u001b[39m when \u001b[36mF\u001b[39m is the sparse QR factorization of \u001b[35mA\u001b[39m. A basic solution\n",
       "  is returned when the problem is underdetermined.\n",
       "\n",
       "\u001b[1m  Examples\u001b[22m\n",
       "\u001b[1m  ≡≡≡≡≡≡≡≡≡≡\u001b[22m\n",
       "\n",
       "\u001b[36m  julia> A = sparse([1,2,4], [1,1,1], [1.0,1.0,1.0], 4, 2)\u001b[39m\n",
       "\u001b[36m  4×2 SparseMatrixCSC{Float64, Int64} with 3 stored entries:\u001b[39m\n",
       "\u001b[36m   1.0   ⋅\u001b[39m\n",
       "\u001b[36m   1.0   ⋅\u001b[39m\n",
       "\u001b[36m    ⋅    ⋅\u001b[39m\n",
       "\u001b[36m   1.0   ⋅\u001b[39m\n",
       "\u001b[36m  \u001b[39m\n",
       "\u001b[36m  julia> qr(A)\\fill(1.0, 4)\u001b[39m\n",
       "\u001b[36m  2-element Vector{Float64}:\u001b[39m\n",
       "\u001b[36m   1.0\u001b[39m\n",
       "\u001b[36m   0.0\u001b[39m"
      ]
     },
     "execution_count": 8,
     "metadata": {},
     "output_type": "execute_result"
    }
   ],
   "source": [
    "? \\"
   ]
  },
  {
   "cell_type": "markdown",
   "metadata": {},
   "source": [
    "$$\n",
    "A x = b\n",
    "$$"
   ]
  },
  {
   "cell_type": "markdown",
   "metadata": {},
   "source": [
    "Left mulitply $A^{-1}$ to $I x = A^{-1} b$ or $x = A^{-1} b$"
   ]
  },
  {
   "cell_type": "code",
   "execution_count": 9,
   "metadata": {},
   "outputs": [
    {
     "data": {
      "text/plain": [
       "2-element Vector{Float64}:\n",
       " 3.0\n",
       " 1.0"
      ]
     },
     "execution_count": 9,
     "metadata": {},
     "output_type": "execute_result"
    }
   ],
   "source": [
    "A = [1 -2; 3 2]; b=[1,11];\n",
    "inv(A)*b"
   ]
  },
  {
   "cell_type": "markdown",
   "metadata": {},
   "source": [
    "$$\n",
    "\\begin{array}{rcl}\n",
    "x - 2y &=& 1\\\\\n",
    "2x -4 y &=& 11\n",
    "\\end{array}\n",
    "$$"
   ]
  },
  {
   "cell_type": "code",
   "execution_count": 10,
   "metadata": {},
   "outputs": [
    {
     "data": {
      "text/plain": [
       "0.0"
      ]
     },
     "execution_count": 10,
     "metadata": {},
     "output_type": "execute_result"
    }
   ],
   "source": [
    "det([1 -2; \n",
    "     2 -4])"
   ]
  },
  {
   "cell_type": "markdown",
   "metadata": {},
   "source": [
    "$$\n",
    "\\begin{array}{rcl}\n",
    "x - 2y &=& 1\\\\\n",
    "3x -4 y &=& 11 \\\\\n",
    "7x -2y &=& 12\n",
    "\\end{array}\n",
    "$$"
   ]
  },
  {
   "cell_type": "markdown",
   "metadata": {},
   "source": [
    "Factorizations: $A = U^T \\Sigma V$,  $A = QR $ or today..."
   ]
  },
  {
   "cell_type": "markdown",
   "metadata": {},
   "source": [
    "# A bigger system towards $PA = LU$  or sometimes $A = LU$"
   ]
  },
  {
   "cell_type": "code",
   "execution_count": 111,
   "metadata": {},
   "outputs": [
    {
     "data": {
      "text/plain": [
       "4×4 Matrix{Float64}:\n",
       " 10.0   2.0  2.0  3.0\n",
       "  3.0  12.0  8.0  1.0\n",
       "  2.0   4.0  8.0  8.0\n",
       "  1.0   4.0  5.0  0.0"
      ]
     },
     "execution_count": 111,
     "metadata": {},
     "output_type": "execute_result"
    }
   ],
   "source": [
    "A = [ 10.0   2.0  2.0  3.0;\n",
    "      3.0  12.0  8.0  1.0;\n",
    "      2.0   4.0  8.0  8.0;\n",
    "      1.0   4.0  5.0  0.0]\n",
    "\n",
    "#You can think of Ax = b"
   ]
  },
  {
   "cell_type": "code",
   "execution_count": 12,
   "metadata": {},
   "outputs": [],
   "source": [
    "ℓ21 = 3/10; ℓ31 = 2/10; ℓ41 = 1/10;   #ℓ \\ell + [TAB]"
   ]
  },
  {
   "cell_type": "code",
   "execution_count": 13,
   "metadata": {},
   "outputs": [
    {
     "data": {
      "text/plain": [
       "4×4 Matrix{Float64}:\n",
       " 10.0   2.0  2.0   3.0\n",
       "  0.0  11.4  7.4   0.1\n",
       "  0.0   3.6  7.6   7.4\n",
       "  0.0   3.8  4.8  -0.3"
      ]
     },
     "execution_count": 13,
     "metadata": {},
     "output_type": "execute_result"
    }
   ],
   "source": [
    "#after Gaussian Elimination stpes on first col\n",
    "A1 = [\n",
    "        A[1,:]'   #first row unchanges\n",
    "        (A[2,:] - ℓ21*A[1,:])'\n",
    "        (A[3,:] - ℓ31*A[1,:])'\n",
    "        (A[4,:] - ℓ41*A[1,:])'\n",
    "]"
   ]
  },
  {
   "cell_type": "code",
   "execution_count": 14,
   "metadata": {},
   "outputs": [
    {
     "data": {
      "text/plain": [
       "4×4 Matrix{Float64}:\n",
       "  1.0  0.0  0.0  0.0\n",
       " -0.3  1.0  0.0  0.0\n",
       "  0.0  0.0  1.0  0.0\n",
       "  0.0  0.0  0.0  1.0"
      ]
     },
     "execution_count": 14,
     "metadata": {},
     "output_type": "execute_result"
    }
   ],
   "source": [
    "E21 = [1 0 0 0 ;\n",
    "       -ℓ21 1 0 0 \n",
    "       0   0  1 0;\n",
    "       0   0  0 1] #Elementary matrix\n",
    "\n",
    "#Second row of the matrix product E21*A is -ℓ21 * first row of A + 1 * second row of A + zeros"
   ]
  },
  {
   "cell_type": "code",
   "execution_count": 15,
   "metadata": {},
   "outputs": [
    {
     "data": {
      "text/plain": [
       "4×4 Matrix{Float64}:\n",
       " 10.0   2.0  2.0  3.0\n",
       "  0.0  11.4  7.4  0.1\n",
       "  2.0   4.0  8.0  8.0\n",
       "  1.0   4.0  5.0  0.0"
      ]
     },
     "execution_count": 15,
     "metadata": {},
     "output_type": "execute_result"
    }
   ],
   "source": [
    "E21*A"
   ]
  },
  {
   "cell_type": "code",
   "execution_count": 16,
   "metadata": {},
   "outputs": [
    {
     "data": {
      "text/plain": [
       "4×4 Matrix{Float64}:\n",
       " 1.0  0.0  0.0  0.0\n",
       " 0.3  1.0  0.0  0.0\n",
       " 0.0  0.0  1.0  0.0\n",
       " 0.0  0.0  0.0  1.0"
      ]
     },
     "execution_count": 16,
     "metadata": {},
     "output_type": "execute_result"
    }
   ],
   "source": [
    "inv(E21)"
   ]
  },
  {
   "cell_type": "code",
   "execution_count": 17,
   "metadata": {},
   "outputs": [
    {
     "data": {
      "text/plain": [
       "4×4 Matrix{Float64}:\n",
       "  1.0  0.0  0.0  0.0\n",
       "  0.0  1.0  0.0  0.0\n",
       " -0.2  0.0  1.0  0.0\n",
       "  0.0  0.0  0.0  1.0"
      ]
     },
     "execution_count": 17,
     "metadata": {},
     "output_type": "execute_result"
    }
   ],
   "source": [
    "E31 = [1 0 0 0 ;\n",
    "       0 1 0 0 \n",
    "       -ℓ31   0  1 0;\n",
    "       0   0  0 1]"
   ]
  },
  {
   "cell_type": "code",
   "execution_count": 18,
   "metadata": {},
   "outputs": [
    {
     "data": {
      "text/plain": [
       "4×4 Matrix{Float64}:\n",
       "  1.0  0.0  0.0  0.0\n",
       "  0.0  1.0  0.0  0.0\n",
       "  0.0  0.0  1.0  0.0\n",
       " -0.1  0.0  0.0  1.0"
      ]
     },
     "execution_count": 18,
     "metadata": {},
     "output_type": "execute_result"
    }
   ],
   "source": [
    "E41 = [1 0 0 0;\n",
    "       0 1 0 0;\n",
    "        0 0 1 0\n",
    "        -ℓ41 0 0 1]"
   ]
  },
  {
   "cell_type": "code",
   "execution_count": 19,
   "metadata": {},
   "outputs": [
    {
     "data": {
      "text/plain": [
       "4×4 Matrix{Float64}:\n",
       "  1.0  0.0  0.0  0.0\n",
       " -0.3  1.0  0.0  0.0\n",
       " -0.2  0.0  1.0  0.0\n",
       " -0.1  0.0  0.0  1.0"
      ]
     },
     "execution_count": 19,
     "metadata": {},
     "output_type": "execute_result"
    }
   ],
   "source": [
    "E41*E31*E21 # *A"
   ]
  },
  {
   "cell_type": "code",
   "execution_count": 20,
   "metadata": {},
   "outputs": [
    {
     "data": {
      "text/plain": [
       "4×4 Matrix{Float64}:\n",
       "  1.0  0.0  0.0  0.0\n",
       " -0.3  1.0  0.0  0.0\n",
       " -0.2  0.0  1.0  0.0\n",
       " -0.1  0.0  0.0  1.0"
      ]
     },
     "execution_count": 20,
     "metadata": {},
     "output_type": "execute_result"
    }
   ],
   "source": [
    "E31*E21*E41 #they commute"
   ]
  },
  {
   "cell_type": "code",
   "execution_count": 21,
   "metadata": {},
   "outputs": [
    {
     "data": {
      "text/plain": [
       "4×4 Matrix{Float64}:\n",
       "  1.0  0.0  0.0  0.0\n",
       " -0.3  1.0  0.0  0.0\n",
       " -0.2  0.0  1.0  0.0\n",
       " -0.1  0.0  0.0  1.0"
      ]
     },
     "execution_count": 21,
     "metadata": {},
     "output_type": "execute_result"
    }
   ],
   "source": [
    "ℓ1 = E41*E31*E21"
   ]
  },
  {
   "cell_type": "code",
   "execution_count": 22,
   "metadata": {},
   "outputs": [
    {
     "data": {
      "text/plain": [
       "4×4 Matrix{Float64}:\n",
       " 10.0   2.0  2.0   3.0\n",
       "  0.0  11.4  7.4   0.1\n",
       "  0.0   3.6  7.6   7.4\n",
       "  0.0   3.8  4.8  -0.3"
      ]
     },
     "execution_count": 22,
     "metadata": {},
     "output_type": "execute_result"
    }
   ],
   "source": [
    "ℓ1*A"
   ]
  },
  {
   "cell_type": "code",
   "execution_count": 23,
   "metadata": {},
   "outputs": [
    {
     "data": {
      "text/plain": [
       "4×4 Matrix{Float64}:\n",
       " 10.0   2.0  2.0   3.0\n",
       "  0.0  11.4  7.4   0.1\n",
       "  0.0   3.6  7.6   7.4\n",
       "  0.0   3.8  4.8  -0.3"
      ]
     },
     "execution_count": 23,
     "metadata": {},
     "output_type": "execute_result"
    }
   ],
   "source": [
    "A1"
   ]
  },
  {
   "cell_type": "code",
   "execution_count": 24,
   "metadata": {},
   "outputs": [],
   "source": [
    "ℓ32 = 3.6/11.4; ℓ42 = 3.8/11.4;"
   ]
  },
  {
   "cell_type": "code",
   "execution_count": 25,
   "metadata": {},
   "outputs": [
    {
     "data": {
      "text/plain": [
       "4×4 Matrix{Float64}:\n",
       " 10.0   2.0  2.0       3.0\n",
       "  0.0  11.4  7.4       0.1\n",
       "  0.0   0.0  5.26316   7.36842\n",
       "  0.0   0.0  2.33333  -0.333333"
      ]
     },
     "execution_count": 25,
     "metadata": {},
     "output_type": "execute_result"
    }
   ],
   "source": [
    "A2 = [\n",
    "    A1[1,:]'; #which is also first row of A\n",
    "    A1[2,:]';\n",
    "    (A1[3,:] - ℓ32*A1[2,:])';\n",
    "    (A1[4,:] - ℓ42*A1[2,:])'\n",
    "]"
   ]
  },
  {
   "cell_type": "code",
   "execution_count": 26,
   "metadata": {},
   "outputs": [
    {
     "data": {
      "text/plain": [
       "4×4 Matrix{Float64}:\n",
       " 1.0   0.0       0.0  0.0\n",
       " 0.0   1.0       0.0  0.0\n",
       " 0.0  -0.315789  1.0  0.0\n",
       " 0.0  -0.333333  0.0  1.0"
      ]
     },
     "execution_count": 26,
     "metadata": {},
     "output_type": "execute_result"
    }
   ],
   "source": [
    "ℓ2 = [1 0 0 0;\n",
    "      0 1 0 0;\n",
    "      0 -ℓ32 1 0;\n",
    "      0 -ℓ42 0 1]"
   ]
  },
  {
   "cell_type": "code",
   "execution_count": 27,
   "metadata": {},
   "outputs": [
    {
     "data": {
      "text/plain": [
       "4×4 Matrix{Float64}:\n",
       " 10.0   2.0  2.0       3.0\n",
       "  0.0  11.4  7.4       0.1\n",
       "  0.0   0.0  5.26316   7.36842\n",
       "  0.0   0.0  2.33333  -0.333333"
      ]
     },
     "execution_count": 27,
     "metadata": {},
     "output_type": "execute_result"
    }
   ],
   "source": [
    "ℓ2*(ℓ1*A)"
   ]
  },
  {
   "cell_type": "code",
   "execution_count": 28,
   "metadata": {},
   "outputs": [
    {
     "data": {
      "text/plain": [
       "4×4 Matrix{Float64}:\n",
       " 10.0   2.0  2.0       3.0\n",
       "  0.0  11.4  7.4       0.1\n",
       "  0.0   0.0  5.26316   7.36842\n",
       "  0.0   0.0  2.33333  -0.333333"
      ]
     },
     "execution_count": 28,
     "metadata": {},
     "output_type": "execute_result"
    }
   ],
   "source": [
    "A2"
   ]
  },
  {
   "cell_type": "code",
   "execution_count": 29,
   "metadata": {},
   "outputs": [
    {
     "data": {
      "text/plain": [
       "0.44333315600007095"
      ]
     },
     "execution_count": 29,
     "metadata": {},
     "output_type": "execute_result"
    }
   ],
   "source": [
    "ℓ43 = 2.3333333333333333333333333333333333333/5.26316"
   ]
  },
  {
   "cell_type": "code",
   "execution_count": 30,
   "metadata": {},
   "outputs": [
    {
     "data": {
      "text/plain": [
       "4×4 Matrix{Float64}:\n",
       " 10.0   2.0  2.0          3.0\n",
       "  0.0  11.4  7.4          0.1\n",
       "  0.0   0.0  5.26316      7.36842\n",
       "  0.0   0.0  9.33333e-7  -3.6"
      ]
     },
     "execution_count": 30,
     "metadata": {},
     "output_type": "execute_result"
    }
   ],
   "source": [
    "A3 = [\n",
    "    A2[1,:]';\n",
    "    A2[2,:]';\n",
    "    A2[3,:]';\n",
    "    (A2[4,:] - ℓ43*A2[3,:])'\n",
    "]"
   ]
  },
  {
   "cell_type": "code",
   "execution_count": 31,
   "metadata": {},
   "outputs": [
    {
     "data": {
      "text/plain": [
       "4×4 Matrix{Float64}:\n",
       " 1.0  0.0   0.0       0.0\n",
       " 0.0  1.0   0.0       0.0\n",
       " 0.0  0.0   1.0       0.0\n",
       " 0.0  0.0  -0.443333  1.0"
      ]
     },
     "execution_count": 31,
     "metadata": {},
     "output_type": "execute_result"
    }
   ],
   "source": [
    "ℓ3 =[1 0 0 0 ;\n",
    "     0 1 0 0 ;\n",
    "     0 0 1 0 ;\n",
    "     0 0  -ℓ43 1]"
   ]
  },
  {
   "cell_type": "code",
   "execution_count": 32,
   "metadata": {},
   "outputs": [
    {
     "data": {
      "text/plain": [
       "4×4 Matrix{Float64}:\n",
       " 10.0   2.0  2.0          3.0\n",
       "  0.0  11.4  7.4          0.1\n",
       "  0.0   0.0  5.26316      7.36842\n",
       "  0.0   0.0  9.33333e-7  -3.6"
      ]
     },
     "execution_count": 32,
     "metadata": {},
     "output_type": "execute_result"
    }
   ],
   "source": [
    "ℓ3*(ℓ2*(ℓ1*A))"
   ]
  },
  {
   "cell_type": "code",
   "execution_count": 33,
   "metadata": {},
   "outputs": [
    {
     "data": {
      "text/plain": [
       "LU{Float64, Matrix{Float64}}\n",
       "L factor:\n",
       "4×4 Matrix{Float64}:\n",
       " 1.0  0.0       0.0       0.0\n",
       " 0.3  1.0       0.0       0.0\n",
       " 0.2  0.315789  1.0       0.0\n",
       " 0.1  0.333333  0.443333  1.0\n",
       "U factor:\n",
       "4×4 Matrix{Float64}:\n",
       " 10.0   2.0  2.0       3.0\n",
       "  0.0  11.4  7.4       0.1\n",
       "  0.0   0.0  5.26316   7.36842\n",
       "  0.0   0.0  0.0      -3.6"
      ]
     },
     "execution_count": 33,
     "metadata": {},
     "output_type": "execute_result"
    }
   ],
   "source": [
    "using LinearAlgebra\n",
    "F = lu(A)"
   ]
  },
  {
   "cell_type": "code",
   "execution_count": 34,
   "metadata": {},
   "outputs": [
    {
     "name": "stdout",
     "output_type": "stream",
     "text": [
      "search: \u001b[0m\u001b[1ml\u001b[22m\u001b[0m\u001b[1mu\u001b[22m \u001b[0m\u001b[1ml\u001b[22m\u001b[0m\u001b[1mu\u001b[22m! \u001b[0m\u001b[1mL\u001b[22m\u001b[0m\u001b[1mU\u001b[22m f\u001b[0m\u001b[1ml\u001b[22m\u001b[0m\u001b[1mu\u001b[22msh va\u001b[0m\u001b[1ml\u001b[22m\u001b[0m\u001b[1mu\u001b[22mes Co\u001b[0m\u001b[1ml\u001b[22m\u001b[0m\u001b[1mu\u001b[22mmnNorm inc\u001b[0m\u001b[1ml\u001b[22m\u001b[0m\u001b[1mu\u001b[22mde inc\u001b[0m\u001b[1ml\u001b[22m\u001b[0m\u001b[1mu\u001b[22mde_string\n",
      "\n"
     ]
    },
    {
     "data": {
      "text/latex": [
       "\\begin{verbatim}\n",
       "lu(A, pivot = RowMaximum(); check = true) -> F::LU\n",
       "\\end{verbatim}\n",
       "Compute the LU factorization of \\texttt{A}.\n",
       "\n",
       "When \\texttt{check = true}, an error is thrown if the decomposition fails. When \\texttt{check = false}, responsibility for checking the decomposition's validity (via \\href{@ref}{\\texttt{issuccess}}) lies with the user.\n",
       "\n",
       "In most cases, if \\texttt{A} is a subtype \\texttt{S} of \\texttt{AbstractMatrix\\{T\\}} with an element type \\texttt{T} supporting \\texttt{+}, \\texttt{-}, \\texttt{*} and \\texttt{/}, the return type is \\texttt{LU\\{T,S\\{T\\}\\}}. If pivoting is chosen (default) the element type should also support \\href{@ref}{\\texttt{abs}} and \\href{@ref}{\\texttt{<}}. Pivoting can be turned off by passing \\texttt{pivot = NoPivot()}.\n",
       "\n",
       "The individual components of the factorization \\texttt{F} can be accessed via \\href{@ref}{\\texttt{getproperty}}:\n",
       "\n",
       "\\begin{tabular}\n",
       "{l | l}\n",
       "Component & Description \\\\\n",
       "\\hline\n",
       "\\texttt{F.L} & \\texttt{L} (lower triangular) part of \\texttt{LU} \\\\\n",
       "\\texttt{F.U} & \\texttt{U} (upper triangular) part of \\texttt{LU} \\\\\n",
       "\\texttt{F.p} & (right) permutation \\texttt{Vector} \\\\\n",
       "\\texttt{F.P} & (right) permutation \\texttt{Matrix} \\\\\n",
       "\\end{tabular}\n",
       "Iterating the factorization produces the components \\texttt{F.L}, \\texttt{F.U}, and \\texttt{F.p}.\n",
       "\n",
       "The relationship between \\texttt{F} and \\texttt{A} is\n",
       "\n",
       "\\texttt{F.L*F.U == A[F.p, :]}\n",
       "\n",
       "\\texttt{F} further supports the following functions:\n",
       "\n",
       "\\begin{tabular}\n",
       "{l | l | l}\n",
       "Supported function & \\texttt{LU} & \\texttt{LU\\{T,Tridiagonal\\{T\\}\\}} \\\\\n",
       "\\hline\n",
       "\\href{@ref}{\\texttt{/}} & ✓ &  \\\\\n",
       "\\href{@ref}{\\texttt{{\\textbackslash}}} & ✓ & ✓ \\\\\n",
       "\\href{@ref}{\\texttt{inv}} & ✓ & ✓ \\\\\n",
       "\\href{@ref}{\\texttt{det}} & ✓ & ✓ \\\\\n",
       "\\href{@ref}{\\texttt{logdet}} & ✓ & ✓ \\\\\n",
       "\\href{@ref}{\\texttt{logabsdet}} & ✓ & ✓ \\\\\n",
       "\\href{@ref}{\\texttt{size}} & ✓ & ✓ \\\\\n",
       "\\end{tabular}\n",
       "\\section{Examples}\n",
       "\\begin{verbatim}\n",
       "julia> A = [4 3; 6 3]\n",
       "2×2 Matrix{Int64}:\n",
       " 4  3\n",
       " 6  3\n",
       "\n",
       "julia> F = lu(A)\n",
       "LU{Float64, Matrix{Float64}}\n",
       "L factor:\n",
       "2×2 Matrix{Float64}:\n",
       " 1.0       0.0\n",
       " 0.666667  1.0\n",
       "U factor:\n",
       "2×2 Matrix{Float64}:\n",
       " 6.0  3.0\n",
       " 0.0  1.0\n",
       "\n",
       "julia> F.L * F.U == A[F.p, :]\n",
       "true\n",
       "\n",
       "julia> l, u, p = lu(A); # destructuring via iteration\n",
       "\n",
       "julia> l == F.L && u == F.U && p == F.p\n",
       "true\n",
       "\\end{verbatim}\n",
       "\\rule{\\textwidth}{1pt}\n",
       "\\begin{verbatim}\n",
       "lu(A::SparseMatrixCSC; check = true) -> F::UmfpackLU\n",
       "\\end{verbatim}\n",
       "Compute the LU factorization of a sparse matrix \\texttt{A}.\n",
       "\n",
       "For sparse \\texttt{A} with real or complex element type, the return type of \\texttt{F} is \\texttt{UmfpackLU\\{Tv, Ti\\}}, with \\texttt{Tv} = \\href{@ref}{\\texttt{Float64}} or \\texttt{ComplexF64} respectively and \\texttt{Ti} is an integer type (\\href{@ref}{\\texttt{Int32}} or \\href{@ref}{\\texttt{Int64}}).\n",
       "\n",
       "When \\texttt{check = true}, an error is thrown if the decomposition fails. When \\texttt{check = false}, responsibility for checking the decomposition's validity (via \\href{@ref}{\\texttt{issuccess}}) lies with the user.\n",
       "\n",
       "The individual components of the factorization \\texttt{F} can be accessed by indexing:\n",
       "\n",
       "\\begin{tabular}\n",
       "{l | l}\n",
       "Component & Description \\\\\n",
       "\\hline\n",
       "\\texttt{L} & \\texttt{L} (lower triangular) part of \\texttt{LU} \\\\\n",
       "\\texttt{U} & \\texttt{U} (upper triangular) part of \\texttt{LU} \\\\\n",
       "\\texttt{p} & right permutation \\texttt{Vector} \\\\\n",
       "\\texttt{q} & left permutation \\texttt{Vector} \\\\\n",
       "\\texttt{Rs} & \\texttt{Vector} of scaling factors \\\\\n",
       "\\texttt{:} & \\texttt{(L,U,p,q,Rs)} components \\\\\n",
       "\\end{tabular}\n",
       "The relation between \\texttt{F} and \\texttt{A} is\n",
       "\n",
       "\\texttt{F.L*F.U == (F.Rs .* A)[F.p, F.q]}\n",
       "\n",
       "\\texttt{F} further supports the following functions:\n",
       "\n",
       "\\begin{itemize}\n",
       "\\item \\href{@ref}{\\texttt{{\\textbackslash}}}\n",
       "\n",
       "\n",
       "\\item \\href{@ref}{\\texttt{cond}}\n",
       "\n",
       "\n",
       "\\item \\href{@ref}{\\texttt{det}}\n",
       "\n",
       "\\end{itemize}\n",
       "\\begin{quote}\n",
       "\\textbf{note}\n",
       "\n",
       "Note\n",
       "\n",
       "\\texttt{lu(A::SparseMatrixCSC)} uses the UMFPACK library that is part of SuiteSparse. As this library only supports sparse matrices with \\href{@ref}{\\texttt{Float64}} or \\texttt{ComplexF64} elements, \\texttt{lu} converts \\texttt{A} into a copy that is of type \\texttt{SparseMatrixCSC\\{Float64\\}} or \\texttt{SparseMatrixCSC\\{ComplexF64\\}} as appropriate.\n",
       "\n",
       "\\end{quote}\n"
      ],
      "text/markdown": [
       "```\n",
       "lu(A, pivot = RowMaximum(); check = true) -> F::LU\n",
       "```\n",
       "\n",
       "Compute the LU factorization of `A`.\n",
       "\n",
       "When `check = true`, an error is thrown if the decomposition fails. When `check = false`, responsibility for checking the decomposition's validity (via [`issuccess`](@ref)) lies with the user.\n",
       "\n",
       "In most cases, if `A` is a subtype `S` of `AbstractMatrix{T}` with an element type `T` supporting `+`, `-`, `*` and `/`, the return type is `LU{T,S{T}}`. If pivoting is chosen (default) the element type should also support [`abs`](@ref) and [`<`](@ref). Pivoting can be turned off by passing `pivot = NoPivot()`.\n",
       "\n",
       "The individual components of the factorization `F` can be accessed via [`getproperty`](@ref):\n",
       "\n",
       "| Component | Description                         |\n",
       "|:--------- |:----------------------------------- |\n",
       "| `F.L`     | `L` (lower triangular) part of `LU` |\n",
       "| `F.U`     | `U` (upper triangular) part of `LU` |\n",
       "| `F.p`     | (right) permutation `Vector`        |\n",
       "| `F.P`     | (right) permutation `Matrix`        |\n",
       "\n",
       "Iterating the factorization produces the components `F.L`, `F.U`, and `F.p`.\n",
       "\n",
       "The relationship between `F` and `A` is\n",
       "\n",
       "`F.L*F.U == A[F.p, :]`\n",
       "\n",
       "`F` further supports the following functions:\n",
       "\n",
       "| Supported function  | `LU` | `LU{T,Tridiagonal{T}}` |\n",
       "|:------------------- |:---- |:---------------------- |\n",
       "| [`/`](@ref)         | ✓    |                        |\n",
       "| [`\\`](@ref)         | ✓    | ✓                      |\n",
       "| [`inv`](@ref)       | ✓    | ✓                      |\n",
       "| [`det`](@ref)       | ✓    | ✓                      |\n",
       "| [`logdet`](@ref)    | ✓    | ✓                      |\n",
       "| [`logabsdet`](@ref) | ✓    | ✓                      |\n",
       "| [`size`](@ref)      | ✓    | ✓                      |\n",
       "\n",
       "# Examples\n",
       "\n",
       "```jldoctest\n",
       "julia> A = [4 3; 6 3]\n",
       "2×2 Matrix{Int64}:\n",
       " 4  3\n",
       " 6  3\n",
       "\n",
       "julia> F = lu(A)\n",
       "LU{Float64, Matrix{Float64}}\n",
       "L factor:\n",
       "2×2 Matrix{Float64}:\n",
       " 1.0       0.0\n",
       " 0.666667  1.0\n",
       "U factor:\n",
       "2×2 Matrix{Float64}:\n",
       " 6.0  3.0\n",
       " 0.0  1.0\n",
       "\n",
       "julia> F.L * F.U == A[F.p, :]\n",
       "true\n",
       "\n",
       "julia> l, u, p = lu(A); # destructuring via iteration\n",
       "\n",
       "julia> l == F.L && u == F.U && p == F.p\n",
       "true\n",
       "```\n",
       "\n",
       "---\n",
       "\n",
       "```\n",
       "lu(A::SparseMatrixCSC; check = true) -> F::UmfpackLU\n",
       "```\n",
       "\n",
       "Compute the LU factorization of a sparse matrix `A`.\n",
       "\n",
       "For sparse `A` with real or complex element type, the return type of `F` is `UmfpackLU{Tv, Ti}`, with `Tv` = [`Float64`](@ref) or `ComplexF64` respectively and `Ti` is an integer type ([`Int32`](@ref) or [`Int64`](@ref)).\n",
       "\n",
       "When `check = true`, an error is thrown if the decomposition fails. When `check = false`, responsibility for checking the decomposition's validity (via [`issuccess`](@ref)) lies with the user.\n",
       "\n",
       "The individual components of the factorization `F` can be accessed by indexing:\n",
       "\n",
       "| Component | Description                         |\n",
       "|:--------- |:----------------------------------- |\n",
       "| `L`       | `L` (lower triangular) part of `LU` |\n",
       "| `U`       | `U` (upper triangular) part of `LU` |\n",
       "| `p`       | right permutation `Vector`          |\n",
       "| `q`       | left permutation `Vector`           |\n",
       "| `Rs`      | `Vector` of scaling factors         |\n",
       "| `:`       | `(L,U,p,q,Rs)` components           |\n",
       "\n",
       "The relation between `F` and `A` is\n",
       "\n",
       "`F.L*F.U == (F.Rs .* A)[F.p, F.q]`\n",
       "\n",
       "`F` further supports the following functions:\n",
       "\n",
       "  * [`\\`](@ref)\n",
       "  * [`cond`](@ref)\n",
       "  * [`det`](@ref)\n",
       "\n",
       "!!! note\n",
       "    `lu(A::SparseMatrixCSC)` uses the UMFPACK library that is part of SuiteSparse. As this library only supports sparse matrices with [`Float64`](@ref) or `ComplexF64` elements, `lu` converts `A` into a copy that is of type `SparseMatrixCSC{Float64}` or `SparseMatrixCSC{ComplexF64}` as appropriate.\n",
       "\n"
      ],
      "text/plain": [
       "\u001b[36m  lu(A, pivot = RowMaximum(); check = true) -> F::LU\u001b[39m\n",
       "\n",
       "  Compute the LU factorization of \u001b[36mA\u001b[39m.\n",
       "\n",
       "  When \u001b[36mcheck = true\u001b[39m, an error is thrown if the decomposition fails. When \u001b[36mcheck\n",
       "  = false\u001b[39m, responsibility for checking the decomposition's validity (via\n",
       "  \u001b[36missuccess\u001b[39m) lies with the user.\n",
       "\n",
       "  In most cases, if \u001b[36mA\u001b[39m is a subtype \u001b[36mS\u001b[39m of \u001b[36mAbstractMatrix{T}\u001b[39m with an element type\n",
       "  \u001b[36mT\u001b[39m supporting \u001b[36m+\u001b[39m, \u001b[36m-\u001b[39m, \u001b[36m*\u001b[39m and \u001b[36m/\u001b[39m, the return type is \u001b[36mLU{T,S{T}}\u001b[39m. If pivoting is\n",
       "  chosen (default) the element type should also support \u001b[36mabs\u001b[39m and \u001b[36m<\u001b[39m. Pivoting\n",
       "  can be turned off by passing \u001b[36mpivot = NoPivot()\u001b[39m.\n",
       "\n",
       "  The individual components of the factorization \u001b[36mF\u001b[39m can be accessed via\n",
       "  \u001b[36mgetproperty\u001b[39m:\n",
       "\n",
       "  Component Description                    \n",
       "  ––––––––– –––––––––––––––––––––––––––––––\n",
       "  \u001b[36mF.L\u001b[39m       \u001b[36mL\u001b[39m (lower triangular) part of \u001b[36mLU\u001b[39m\n",
       "  \u001b[36mF.U\u001b[39m       \u001b[36mU\u001b[39m (upper triangular) part of \u001b[36mLU\u001b[39m\n",
       "  \u001b[36mF.p\u001b[39m       (right) permutation \u001b[36mVector\u001b[39m     \n",
       "  \u001b[36mF.P\u001b[39m       (right) permutation \u001b[36mMatrix\u001b[39m     \n",
       "\n",
       "  Iterating the factorization produces the components \u001b[36mF.L\u001b[39m, \u001b[36mF.U\u001b[39m, and \u001b[36mF.p\u001b[39m.\n",
       "\n",
       "  The relationship between \u001b[36mF\u001b[39m and \u001b[36mA\u001b[39m is\n",
       "\n",
       "  \u001b[36mF.L*F.U == A[F.p, :]\u001b[39m\n",
       "\n",
       "  \u001b[36mF\u001b[39m further supports the following functions:\n",
       "\n",
       "  Supported function \u001b[36mLU\u001b[39m \u001b[36mLU{T,Tridiagonal{T}}\u001b[39m\n",
       "  –––––––––––––––––– –– ––––––––––––––––––––\n",
       "  \u001b[36m/\u001b[39m                  ✓                      \n",
       "  \u001b[36m\\\u001b[39m                  ✓  ✓                   \n",
       "  \u001b[36minv\u001b[39m                ✓  ✓                   \n",
       "  \u001b[36mdet\u001b[39m                ✓  ✓                   \n",
       "  \u001b[36mlogdet\u001b[39m             ✓  ✓                   \n",
       "  \u001b[36mlogabsdet\u001b[39m          ✓  ✓                   \n",
       "  \u001b[36msize\u001b[39m               ✓  ✓                   \n",
       "\n",
       "\u001b[1m  Examples\u001b[22m\n",
       "\u001b[1m  ≡≡≡≡≡≡≡≡≡≡\u001b[22m\n",
       "\n",
       "\u001b[36m  julia> A = [4 3; 6 3]\u001b[39m\n",
       "\u001b[36m  2×2 Matrix{Int64}:\u001b[39m\n",
       "\u001b[36m   4  3\u001b[39m\n",
       "\u001b[36m   6  3\u001b[39m\n",
       "\u001b[36m  \u001b[39m\n",
       "\u001b[36m  julia> F = lu(A)\u001b[39m\n",
       "\u001b[36m  LU{Float64, Matrix{Float64}}\u001b[39m\n",
       "\u001b[36m  L factor:\u001b[39m\n",
       "\u001b[36m  2×2 Matrix{Float64}:\u001b[39m\n",
       "\u001b[36m   1.0       0.0\u001b[39m\n",
       "\u001b[36m   0.666667  1.0\u001b[39m\n",
       "\u001b[36m  U factor:\u001b[39m\n",
       "\u001b[36m  2×2 Matrix{Float64}:\u001b[39m\n",
       "\u001b[36m   6.0  3.0\u001b[39m\n",
       "\u001b[36m   0.0  1.0\u001b[39m\n",
       "\u001b[36m  \u001b[39m\n",
       "\u001b[36m  julia> F.L * F.U == A[F.p, :]\u001b[39m\n",
       "\u001b[36m  true\u001b[39m\n",
       "\u001b[36m  \u001b[39m\n",
       "\u001b[36m  julia> l, u, p = lu(A); # destructuring via iteration\u001b[39m\n",
       "\u001b[36m  \u001b[39m\n",
       "\u001b[36m  julia> l == F.L && u == F.U && p == F.p\u001b[39m\n",
       "\u001b[36m  true\u001b[39m\n",
       "\n",
       "  ────────────────────────────────────────────────────────────────────────────\n",
       "\n",
       "\u001b[36m  lu(A::SparseMatrixCSC; check = true) -> F::UmfpackLU\u001b[39m\n",
       "\n",
       "  Compute the LU factorization of a sparse matrix \u001b[36mA\u001b[39m.\n",
       "\n",
       "  For sparse \u001b[36mA\u001b[39m with real or complex element type, the return type of \u001b[36mF\u001b[39m is\n",
       "  \u001b[36mUmfpackLU{Tv, Ti}\u001b[39m, with \u001b[36mTv\u001b[39m = \u001b[36mFloat64\u001b[39m or \u001b[36mComplexF64\u001b[39m respectively and \u001b[36mTi\u001b[39m is an\n",
       "  integer type (\u001b[36mInt32\u001b[39m or \u001b[36mInt64\u001b[39m).\n",
       "\n",
       "  When \u001b[36mcheck = true\u001b[39m, an error is thrown if the decomposition fails. When \u001b[36mcheck\n",
       "  = false\u001b[39m, responsibility for checking the decomposition's validity (via\n",
       "  \u001b[36missuccess\u001b[39m) lies with the user.\n",
       "\n",
       "  The individual components of the factorization \u001b[36mF\u001b[39m can be accessed by\n",
       "  indexing:\n",
       "\n",
       "  Component Description                    \n",
       "  ––––––––– –––––––––––––––––––––––––––––––\n",
       "  \u001b[36mL\u001b[39m         \u001b[36mL\u001b[39m (lower triangular) part of \u001b[36mLU\u001b[39m\n",
       "  \u001b[36mU\u001b[39m         \u001b[36mU\u001b[39m (upper triangular) part of \u001b[36mLU\u001b[39m\n",
       "  \u001b[36mp\u001b[39m         right permutation \u001b[36mVector\u001b[39m       \n",
       "  \u001b[36mq\u001b[39m         left permutation \u001b[36mVector\u001b[39m        \n",
       "  \u001b[36mRs\u001b[39m        \u001b[36mVector\u001b[39m of scaling factors      \n",
       "  \u001b[36m:\u001b[39m         \u001b[36m(L,U,p,q,Rs)\u001b[39m components        \n",
       "\n",
       "  The relation between \u001b[36mF\u001b[39m and \u001b[36mA\u001b[39m is\n",
       "\n",
       "  \u001b[36mF.L*F.U == (F.Rs .* A)[F.p, F.q]\u001b[39m\n",
       "\n",
       "  \u001b[36mF\u001b[39m further supports the following functions:\n",
       "\n",
       "    •  \u001b[36m\\\u001b[39m\n",
       "\n",
       "    •  \u001b[36mcond\u001b[39m\n",
       "\n",
       "    •  \u001b[36mdet\u001b[39m\n",
       "\n",
       "\u001b[36m\u001b[1m  │ \u001b[22m\u001b[39m\u001b[36m\u001b[1mNote\u001b[22m\u001b[39m\n",
       "\u001b[36m\u001b[1m  │\u001b[22m\u001b[39m\n",
       "\u001b[36m\u001b[1m  │\u001b[22m\u001b[39m  \u001b[36mlu(A::SparseMatrixCSC)\u001b[39m uses the UMFPACK library that is part of\n",
       "\u001b[36m\u001b[1m  │\u001b[22m\u001b[39m  SuiteSparse. As this library only supports sparse matrices with\n",
       "\u001b[36m\u001b[1m  │\u001b[22m\u001b[39m  \u001b[36mFloat64\u001b[39m or \u001b[36mComplexF64\u001b[39m elements, \u001b[36mlu\u001b[39m converts \u001b[36mA\u001b[39m into a copy that is\n",
       "\u001b[36m\u001b[1m  │\u001b[22m\u001b[39m  of type \u001b[36mSparseMatrixCSC{Float64}\u001b[39m or \u001b[36mSparseMatrixCSC{ComplexF64}\u001b[39m as\n",
       "\u001b[36m\u001b[1m  │\u001b[22m\u001b[39m  appropriate."
      ]
     },
     "execution_count": 34,
     "metadata": {},
     "output_type": "execute_result"
    }
   ],
   "source": [
    "? lu"
   ]
  },
  {
   "cell_type": "code",
   "execution_count": 35,
   "metadata": {},
   "outputs": [
    {
     "data": {
      "text/plain": [
       "LU{Float64, Matrix{Float64}}"
      ]
     },
     "execution_count": 35,
     "metadata": {},
     "output_type": "execute_result"
    }
   ],
   "source": [
    "typeof(F)"
   ]
  },
  {
   "cell_type": "code",
   "execution_count": 36,
   "metadata": {},
   "outputs": [
    {
     "data": {
      "text/plain": [
       "LU{Float64, Matrix{Float64}}\n",
       "L factor:\n",
       "4×4 Matrix{Float64}:\n",
       " 1.0  0.0       0.0       0.0\n",
       " 0.3  1.0       0.0       0.0\n",
       " 0.2  0.315789  1.0       0.0\n",
       " 0.1  0.333333  0.443333  1.0\n",
       "U factor:\n",
       "4×4 Matrix{Float64}:\n",
       " 10.0   2.0  2.0       3.0\n",
       "  0.0  11.4  7.4       0.1\n",
       "  0.0   0.0  5.26316   7.36842\n",
       "  0.0   0.0  0.0      -3.6"
      ]
     },
     "execution_count": 36,
     "metadata": {},
     "output_type": "execute_result"
    }
   ],
   "source": [
    "L, U = lu(A)"
   ]
  },
  {
   "cell_type": "code",
   "execution_count": 37,
   "metadata": {},
   "outputs": [
    {
     "data": {
      "text/plain": [
       "4×4 Matrix{Float64}:\n",
       " 1.0  0.0       0.0       0.0\n",
       " 0.3  1.0       0.0       0.0\n",
       " 0.2  0.315789  1.0       0.0\n",
       " 0.1  0.333333  0.443333  1.0"
      ]
     },
     "execution_count": 37,
     "metadata": {},
     "output_type": "execute_result"
    }
   ],
   "source": [
    "L"
   ]
  },
  {
   "cell_type": "code",
   "execution_count": 38,
   "metadata": {},
   "outputs": [
    {
     "data": {
      "text/plain": [
       "4×4 Matrix{Float64}:\n",
       " 1.0  0.0       0.0       0.0\n",
       " 0.3  1.0       0.0       0.0\n",
       " 0.2  0.315789  1.0       0.0\n",
       " 0.1  0.333333  0.443333  1.0"
      ]
     },
     "execution_count": 38,
     "metadata": {},
     "output_type": "execute_result"
    }
   ],
   "source": [
    "[1 0 0 0;\n",
    " ℓ21 1 0 0;\n",
    " ℓ31 ℓ32 1 0\n",
    " ℓ41 ℓ42 ℓ43 1] #L manually done"
   ]
  },
  {
   "cell_type": "code",
   "execution_count": 39,
   "metadata": {},
   "outputs": [
    {
     "data": {
      "text/plain": [
       "4×4 Matrix{Float64}:\n",
       " 10.0   2.0  2.0       3.0\n",
       "  0.0  11.4  7.4       0.1\n",
       "  0.0   0.0  5.26316   7.36842\n",
       "  0.0   0.0  0.0      -3.6"
      ]
     },
     "execution_count": 39,
     "metadata": {},
     "output_type": "execute_result"
    }
   ],
   "source": [
    "U"
   ]
  },
  {
   "cell_type": "code",
   "execution_count": 40,
   "metadata": {},
   "outputs": [
    {
     "data": {
      "text/plain": [
       "4×4 Matrix{Float64}:\n",
       " 10.0   2.0  2.0          3.0\n",
       "  0.0  11.4  7.4          0.1\n",
       "  0.0   0.0  5.26316      7.36842\n",
       "  0.0   0.0  9.33333e-7  -3.6"
      ]
     },
     "execution_count": 40,
     "metadata": {},
     "output_type": "execute_result"
    }
   ],
   "source": [
    "A3"
   ]
  },
  {
   "cell_type": "code",
   "execution_count": 41,
   "metadata": {},
   "outputs": [
    {
     "data": {
      "text/plain": [
       "4×4 Matrix{Float64}:\n",
       " 10.0   2.0  2.0   3.0\n",
       "  3.0  12.0  8.0   1.0\n",
       "  2.0   4.0  8.0   8.0\n",
       "  1.0   4.0  5.0  -4.44089e-16"
      ]
     },
     "execution_count": 41,
     "metadata": {},
     "output_type": "execute_result"
    }
   ],
   "source": [
    "L*U"
   ]
  },
  {
   "cell_type": "code",
   "execution_count": 42,
   "metadata": {},
   "outputs": [
    {
     "data": {
      "text/plain": [
       "4×4 Matrix{Float64}:\n",
       " 10.0   2.0  2.0  3.0\n",
       "  3.0  12.0  8.0  1.0\n",
       "  2.0   4.0  8.0  8.0\n",
       "  1.0   4.0  5.0  0.0"
      ]
     },
     "execution_count": 42,
     "metadata": {},
     "output_type": "execute_result"
    }
   ],
   "source": [
    "A"
   ]
  },
  {
   "cell_type": "code",
   "execution_count": 43,
   "metadata": {},
   "outputs": [
    {
     "data": {
      "text/plain": [
       "4×4 Matrix{Float64}:\n",
       " 1.0  0.0       0.0       0.0\n",
       " 0.3  1.0       0.0       0.0\n",
       " 0.2  0.315789  1.0       0.0\n",
       " 0.1  0.333333  0.443333  1.0"
      ]
     },
     "execution_count": 43,
     "metadata": {},
     "output_type": "execute_result"
    }
   ],
   "source": [
    "inv(ℓ3*ℓ2*ℓ1)"
   ]
  },
  {
   "cell_type": "code",
   "execution_count": 44,
   "metadata": {},
   "outputs": [
    {
     "data": {
      "text/plain": [
       "4×4 Matrix{Float64}:\n",
       " 1.0  0.0       0.0       0.0\n",
       " 0.3  1.0       0.0       0.0\n",
       " 0.2  0.315789  1.0       0.0\n",
       " 0.1  0.333333  0.443333  1.0"
      ]
     },
     "metadata": {},
     "output_type": "display_data"
    },
    {
     "data": {
      "text/plain": [
       "4×4 Matrix{Float64}:\n",
       " 10.0   2.0  2.0       3.0\n",
       "  0.0  11.4  7.4       0.1\n",
       "  0.0   0.0  5.26316   7.36842\n",
       "  0.0   0.0  0.0      -3.6"
      ]
     },
     "metadata": {},
     "output_type": "display_data"
    },
    {
     "data": {
      "text/plain": [
       "4-element Vector{Int32}:\n",
       " 1\n",
       " 2\n",
       " 3\n",
       " 4"
      ]
     },
     "metadata": {},
     "output_type": "display_data"
    }
   ],
   "source": [
    "L, U, p = lu(A);\n",
    "display(L)\n",
    "display(U)\n",
    "display(p)"
   ]
  },
  {
   "cell_type": "code",
   "execution_count": 45,
   "metadata": {},
   "outputs": [
    {
     "data": {
      "text/plain": [
       "4×4 Matrix{Float64}:\n",
       " 1.0  0.0  0.0  0.0\n",
       " 0.0  1.0  0.0  0.0\n",
       " 0.0  0.0  1.0  0.0\n",
       " 0.0  0.0  0.0  1.0"
      ]
     },
     "execution_count": 45,
     "metadata": {},
     "output_type": "execute_result"
    }
   ],
   "source": [
    "F = lu(A)\n",
    "F.P"
   ]
  },
  {
   "cell_type": "code",
   "execution_count": 46,
   "metadata": {},
   "outputs": [
    {
     "data": {
      "text/plain": [
       "4×4 Matrix{Float64}:\n",
       "  0.0          0.0  0.0          0.0\n",
       " -4.44089e-16  0.0  0.0          0.0\n",
       "  0.0          0.0  0.0          0.0\n",
       "  0.0          0.0  8.88178e-16  4.44089e-16"
      ]
     },
     "execution_count": 46,
     "metadata": {},
     "output_type": "execute_result"
    }
   ],
   "source": [
    "A-L*U"
   ]
  },
  {
   "cell_type": "code",
   "execution_count": 47,
   "metadata": {},
   "outputs": [
    {
     "data": {
      "text/plain": [
       "4×4 Matrix{Float64}:\n",
       "  3.0  12.0  8.0  1.0\n",
       " 10.0   2.0  2.0  3.0\n",
       "  2.0   4.0  8.0  8.0\n",
       "  1.0   4.0  5.0  0.0"
      ]
     },
     "execution_count": 47,
     "metadata": {},
     "output_type": "execute_result"
    }
   ],
   "source": [
    "As = [ \n",
    "    3.0  12.0  8.0  1.0;\n",
    "    10.0   2.0  2.0  3.0;  #Aswitched  (switched second and first row)  \n",
    "      2.0   4.0  8.0  8.0;\n",
    "      1.0   4.0  5.0  0.0]"
   ]
  },
  {
   "cell_type": "code",
   "execution_count": 48,
   "metadata": {},
   "outputs": [
    {
     "data": {
      "text/plain": [
       "LU{Float64, Matrix{Float64}}\n",
       "L factor:\n",
       "4×4 Matrix{Float64}:\n",
       " 1.0  0.0       0.0       0.0\n",
       " 0.3  1.0       0.0       0.0\n",
       " 0.2  0.315789  1.0       0.0\n",
       " 0.1  0.333333  0.443333  1.0\n",
       "U factor:\n",
       "4×4 Matrix{Float64}:\n",
       " 10.0   2.0  2.0       3.0\n",
       "  0.0  11.4  7.4       0.1\n",
       "  0.0   0.0  5.26316   7.36842\n",
       "  0.0   0.0  0.0      -3.6"
      ]
     },
     "execution_count": 48,
     "metadata": {},
     "output_type": "execute_result"
    }
   ],
   "source": [
    "Ls, Us, ps = lu(As)"
   ]
  },
  {
   "cell_type": "code",
   "execution_count": 49,
   "metadata": {},
   "outputs": [
    {
     "data": {
      "text/plain": [
       "4×4 Matrix{Float64}:\n",
       "  7.0  -10.0  -6.0           2.0\n",
       " -7.0   10.0   6.0          -2.0\n",
       "  0.0    0.0   0.0           0.0\n",
       "  0.0    0.0  -8.88178e-16  -4.44089e-16"
      ]
     },
     "execution_count": 49,
     "metadata": {},
     "output_type": "execute_result"
    }
   ],
   "source": [
    "Ls*Us - As  #bad... A does not equal L*U in this case"
   ]
  },
  {
   "cell_type": "code",
   "execution_count": 50,
   "metadata": {},
   "outputs": [
    {
     "data": {
      "text/plain": [
       "4-element Vector{Int32}:\n",
       " 2\n",
       " 1\n",
       " 3\n",
       " 4"
      ]
     },
     "execution_count": 50,
     "metadata": {},
     "output_type": "execute_result"
    }
   ],
   "source": [
    "ps"
   ]
  },
  {
   "cell_type": "code",
   "execution_count": 51,
   "metadata": {},
   "outputs": [
    {
     "data": {
      "text/plain": [
       "4×4 Matrix{Float64}:\n",
       " 0.0          0.0   0.0           0.0\n",
       " 4.44089e-16  0.0   0.0           0.0\n",
       " 0.0          0.0   0.0           0.0\n",
       " 0.0          0.0  -8.88178e-16  -4.44089e-16"
      ]
     },
     "execution_count": 51,
     "metadata": {},
     "output_type": "execute_result"
    }
   ],
   "source": [
    "L*U - As[ps,:]"
   ]
  },
  {
   "cell_type": "code",
   "execution_count": 52,
   "metadata": {},
   "outputs": [
    {
     "data": {
      "text/plain": [
       "LU{Float64, Matrix{Float64}}\n",
       "L factor:\n",
       "4×4 Matrix{Float64}:\n",
       " 1.0  0.0       0.0       0.0\n",
       " 0.3  1.0       0.0       0.0\n",
       " 0.2  0.315789  1.0       0.0\n",
       " 0.1  0.333333  0.443333  1.0\n",
       "U factor:\n",
       "4×4 Matrix{Float64}:\n",
       " 10.0   2.0  2.0       3.0\n",
       "  0.0  11.4  7.4       0.1\n",
       "  0.0   0.0  5.26316   7.36842\n",
       "  0.0   0.0  0.0      -3.6"
      ]
     },
     "execution_count": 52,
     "metadata": {},
     "output_type": "execute_result"
    }
   ],
   "source": [
    "F = lu(As)"
   ]
  },
  {
   "cell_type": "code",
   "execution_count": 53,
   "metadata": {},
   "outputs": [
    {
     "data": {
      "text/plain": [
       "4×4 Matrix{Float64}:\n",
       " 0.0          0.0   0.0           0.0\n",
       " 4.44089e-16  0.0   0.0           0.0\n",
       " 0.0          0.0   0.0           0.0\n",
       " 0.0          0.0  -8.88178e-16  -4.44089e-16"
      ]
     },
     "execution_count": 53,
     "metadata": {},
     "output_type": "execute_result"
    }
   ],
   "source": [
    "F.L*F.U - F.P*As     #capital P is the permuation matrix"
   ]
  },
  {
   "cell_type": "markdown",
   "metadata": {},
   "source": [
    "# A permutation matrix is like..."
   ]
  },
  {
   "cell_type": "code",
   "execution_count": 54,
   "metadata": {},
   "outputs": [
    {
     "data": {
      "text/plain": [
       "4×4 Matrix{Float64}:\n",
       "  3.0  12.0  8.0  1.0\n",
       " 10.0   2.0  2.0  3.0\n",
       "  2.0   4.0  8.0  8.0\n",
       "  1.0   4.0  5.0  0.0"
      ]
     },
     "execution_count": 54,
     "metadata": {},
     "output_type": "execute_result"
    }
   ],
   "source": [
    "PP = [0 1 0 0;\n",
    "      1 0 0 0;\n",
    "      0 0 1 0;\n",
    "      0 0 0 1]\n",
    "PP*A"
   ]
  },
  {
   "cell_type": "code",
   "execution_count": 55,
   "metadata": {},
   "outputs": [
    {
     "data": {
      "text/plain": [
       "4×4 Matrix{Float64}:\n",
       "  3.0  12.0  8.0  1.0\n",
       " 10.0   2.0  2.0  3.0\n",
       "  2.0   4.0  8.0  8.0\n",
       "  1.0   4.0  5.0  0.0"
      ]
     },
     "execution_count": 55,
     "metadata": {},
     "output_type": "execute_result"
    }
   ],
   "source": [
    "As"
   ]
  },
  {
   "cell_type": "code",
   "execution_count": 56,
   "metadata": {},
   "outputs": [
    {
     "data": {
      "text/plain": [
       "4×4 Matrix{Int64}:\n",
       " 1  0  0  0\n",
       " 0  1  0  0\n",
       " 0  0  1  0\n",
       " 0  0  0  1"
      ]
     },
     "execution_count": 56,
     "metadata": {},
     "output_type": "execute_result"
    }
   ],
   "source": [
    "PP*PP"
   ]
  },
  {
   "cell_type": "markdown",
   "metadata": {},
   "source": [
    "#How to compute det using $A=LU$"
   ]
  },
  {
   "cell_type": "code",
   "execution_count": 57,
   "metadata": {},
   "outputs": [
    {
     "data": {
      "text/plain": [
       "4×4 Matrix{Float64}:\n",
       " 10.0   2.0  2.0  3.0\n",
       "  3.0  12.0  8.0  1.0\n",
       "  2.0   4.0  8.0  8.0\n",
       "  1.0   4.0  5.0  0.0"
      ]
     },
     "execution_count": 57,
     "metadata": {},
     "output_type": "execute_result"
    }
   ],
   "source": [
    "A"
   ]
  },
  {
   "cell_type": "code",
   "execution_count": 58,
   "metadata": {},
   "outputs": [
    {
     "data": {
      "text/plain": [
       "LU{Float64, Matrix{Float64}}\n",
       "L factor:\n",
       "4×4 Matrix{Float64}:\n",
       " 1.0  0.0       0.0       0.0\n",
       " 0.3  1.0       0.0       0.0\n",
       " 0.2  0.315789  1.0       0.0\n",
       " 0.1  0.333333  0.443333  1.0\n",
       "U factor:\n",
       "4×4 Matrix{Float64}:\n",
       " 10.0   2.0  2.0       3.0\n",
       "  0.0  11.4  7.4       0.1\n",
       "  0.0   0.0  5.26316   7.36842\n",
       "  0.0   0.0  0.0      -3.6"
      ]
     },
     "execution_count": 58,
     "metadata": {},
     "output_type": "execute_result"
    }
   ],
   "source": [
    "L,U = lu(A)"
   ]
  },
  {
   "cell_type": "code",
   "execution_count": 59,
   "metadata": {},
   "outputs": [
    {
     "data": {
      "text/plain": [
       "4-element Vector{Float64}:\n",
       " 10.0\n",
       " 11.4\n",
       "  5.2631578947368425\n",
       " -3.599999999999999"
      ]
     },
     "execution_count": 59,
     "metadata": {},
     "output_type": "execute_result"
    }
   ],
   "source": [
    "diag(U) #pivots"
   ]
  },
  {
   "cell_type": "code",
   "execution_count": 60,
   "metadata": {},
   "outputs": [
    {
     "data": {
      "text/plain": [
       "-2159.9999999999995"
      ]
     },
     "execution_count": 60,
     "metadata": {},
     "output_type": "execute_result"
    }
   ],
   "source": [
    "pivots = diag(U)\n",
    "prod = 1\n",
    "for i in 1:length(pivots)\n",
    "    prod *= pivots[i]\n",
    "end\n",
    "prod"
   ]
  },
  {
   "cell_type": "code",
   "execution_count": 61,
   "metadata": {},
   "outputs": [
    {
     "data": {
      "text/plain": [
       "-2159.9999999999995"
      ]
     },
     "execution_count": 61,
     "metadata": {},
     "output_type": "execute_result"
    }
   ],
   "source": [
    "det(A)"
   ]
  },
  {
   "cell_type": "markdown",
   "metadata": {},
   "source": [
    "# But what if $P \\neq I$? "
   ]
  },
  {
   "cell_type": "markdown",
   "metadata": {},
   "source": [
    "$$\n",
    "A x = b\n",
    "$$"
   ]
  },
  {
   "cell_type": "markdown",
   "metadata": {},
   "source": [
    "$$\n",
    "LU x = b\n",
    "$$"
   ]
  },
  {
   "cell_type": "markdown",
   "metadata": {},
   "source": [
    "$$ L(Ux) = b$$ \n",
    "\n",
    "or with $y=Ux$,\n",
    "\n",
    "$$ Ly = b$$ "
   ]
  },
  {
   "cell_type": "markdown",
   "metadata": {},
   "source": [
    "So first solve for $y$ and then solve,\n",
    "$$\n",
    "Ux = y\n",
    "$$"
   ]
  },
  {
   "cell_type": "markdown",
   "metadata": {},
   "source": [
    "Can also use for finding inverses, and determinents."
   ]
  },
  {
   "cell_type": "markdown",
   "metadata": {},
   "source": [
    "Both LU and QR decompoistions are of the form A = WU where U is upper triangular "
   ]
  },
  {
   "cell_type": "markdown",
   "metadata": {},
   "source": [
    "# Back substitution \n",
    "(See Alg. 11.1, pg207 in [VMLS])"
   ]
  },
  {
   "cell_type": "code",
   "execution_count": 62,
   "metadata": {},
   "outputs": [],
   "source": [
    "#Implement it!"
   ]
  },
  {
   "cell_type": "code",
   "execution_count": 98,
   "metadata": {},
   "outputs": [
    {
     "data": {
      "text/plain": [
       "solveUpperTri (generic function with 1 method)"
      ]
     },
     "execution_count": 98,
     "metadata": {},
     "output_type": "execute_result"
    }
   ],
   "source": [
    "function solveUpperTri(U,b)\n",
    "    n = size(U)[1] \n",
    "    x = zeros(n)\n",
    "    for i in n:-1:1\n",
    "#         println(\"Hey man I am here\")\n",
    "        prod = dot(x[i+1:n],U[i,i+1:n])\n",
    "#         @show prod\n",
    "        x[i] = (b[i] - prod)/U[i,i]\n",
    "    end\n",
    "    x\n",
    "end"
   ]
  },
  {
   "cell_type": "code",
   "execution_count": 112,
   "metadata": {},
   "outputs": [
    {
     "data": {
      "text/plain": [
       "2-element Vector{Int64}:\n",
       " 1\n",
       " 8"
      ]
     },
     "execution_count": 112,
     "metadata": {},
     "output_type": "execute_result"
    }
   ],
   "source": [
    "U = [1 -2;\n",
    "     0 8]\n",
    "b= [1,8]"
   ]
  },
  {
   "cell_type": "code",
   "execution_count": 100,
   "metadata": {},
   "outputs": [
    {
     "data": {
      "text/plain": [
       "2-element Vector{Float64}:\n",
       " 3.0\n",
       " 1.0"
      ]
     },
     "execution_count": 100,
     "metadata": {},
     "output_type": "execute_result"
    }
   ],
   "source": [
    "solveUpperTri(U,b)"
   ]
  },
  {
   "cell_type": "code",
   "execution_count": 114,
   "metadata": {},
   "outputs": [
    {
     "data": {
      "text/plain": [
       "solveLowerTri (generic function with 1 method)"
      ]
     },
     "execution_count": 114,
     "metadata": {},
     "output_type": "execute_result"
    }
   ],
   "source": [
    "function solveLowerTri(L,b)\n",
    "    n = size(L)[1] \n",
    "    x = zeros(n)\n",
    "    for i in 1:n\n",
    "        prod = dot(x[1:i-1],L[i,1:i-1])\n",
    "        x[i] = (b[i] - prod)/L[i,i]\n",
    "    end\n",
    "    x\n",
    "end"
   ]
  },
  {
   "cell_type": "code",
   "execution_count": 115,
   "metadata": {},
   "outputs": [
    {
     "data": {
      "text/html": [
       "# 1 method for generic function <b>solveLowerTri</b>:<ul><li> solveLowerTri(L, b) in Main at In[114]:1</li> </ul>"
      ],
      "text/plain": [
       "# 1 method for generic function \"solveLowerTri\":\n",
       "[1] solveLowerTri(L, b) in Main at In[114]:1"
      ]
     },
     "execution_count": 115,
     "metadata": {},
     "output_type": "execute_result"
    }
   ],
   "source": [
    "methods(solveLowerTri)"
   ]
  },
  {
   "cell_type": "code",
   "execution_count": 116,
   "metadata": {},
   "outputs": [
    {
     "data": {
      "text/plain": [
       "3-element Vector{Float64}:\n",
       "  0.5\n",
       " -0.25\n",
       "  0.9166666666666666"
      ]
     },
     "execution_count": 116,
     "metadata": {},
     "output_type": "execute_result"
    }
   ],
   "source": [
    "LL = [2 0 0;\n",
    "      3 2 0;\n",
    "      -1 1 3]\n",
    "b = [1,1,2]\n",
    "\n",
    "x = LL \\ b"
   ]
  },
  {
   "cell_type": "code",
   "execution_count": 117,
   "metadata": {},
   "outputs": [
    {
     "data": {
      "text/plain": [
       "3-element Vector{Float64}:\n",
       " 0.0\n",
       " 0.0\n",
       " 0.0"
      ]
     },
     "execution_count": 117,
     "metadata": {},
     "output_type": "execute_result"
    }
   ],
   "source": [
    "LL*x - b"
   ]
  },
  {
   "cell_type": "code",
   "execution_count": 118,
   "metadata": {},
   "outputs": [
    {
     "data": {
      "text/plain": [
       "3-element Vector{Float64}:\n",
       "  0.5\n",
       " -0.25\n",
       "  0.9166666666666666"
      ]
     },
     "execution_count": 118,
     "metadata": {},
     "output_type": "execute_result"
    }
   ],
   "source": [
    "solveLowerTri(LL,b)"
   ]
  },
  {
   "cell_type": "code",
   "execution_count": 119,
   "metadata": {},
   "outputs": [
    {
     "data": {
      "text/plain": [
       "usingLUtoSolveIt (generic function with 1 method)"
      ]
     },
     "execution_count": 119,
     "metadata": {},
     "output_type": "execute_result"
    }
   ],
   "source": [
    "function usingLUtoSolveIt(A,b)\n",
    "   L, U = lu(A) #Julia lu(decomposion)\n",
    "   y = solveLowerTri(L,b)\n",
    "   return solveUpperTri(U,y)\n",
    "end"
   ]
  },
  {
   "cell_type": "code",
   "execution_count": 120,
   "metadata": {},
   "outputs": [],
   "source": [
    "A\n",
    "b=ones(4);"
   ]
  },
  {
   "cell_type": "code",
   "execution_count": 121,
   "metadata": {},
   "outputs": [
    {
     "data": {
      "text/plain": [
       "4-element Vector{Float64}:\n",
       "  0.10277777777777779\n",
       " -0.11250000000000003\n",
       "  0.2694444444444445\n",
       " -0.11388888888888896"
      ]
     },
     "execution_count": 121,
     "metadata": {},
     "output_type": "execute_result"
    }
   ],
   "source": [
    "xSol = A \\ b"
   ]
  },
  {
   "cell_type": "code",
   "execution_count": 122,
   "metadata": {},
   "outputs": [
    {
     "data": {
      "text/plain": [
       "3.1401849173675503e-16"
      ]
     },
     "execution_count": 122,
     "metadata": {},
     "output_type": "execute_result"
    }
   ],
   "source": [
    "norm(A*xSol - b)"
   ]
  },
  {
   "cell_type": "code",
   "execution_count": 123,
   "metadata": {},
   "outputs": [
    {
     "data": {
      "text/plain": [
       "4-element Vector{Float64}:\n",
       "  0.10277777777777782\n",
       " -0.11250000000000003\n",
       "  0.2694444444444445\n",
       " -0.11388888888888896"
      ]
     },
     "execution_count": 123,
     "metadata": {},
     "output_type": "execute_result"
    }
   ],
   "source": [
    "usingLUtoSolveIt(A,b)"
   ]
  },
  {
   "cell_type": "markdown",
   "metadata": {},
   "source": [
    "$$\n",
    "A = LU \n",
    "$$"
   ]
  },
  {
   "cell_type": "markdown",
   "metadata": {},
   "source": [
    "$$\n",
    "A = QR\n",
    "$$"
   ]
  },
  {
   "cell_type": "code",
   "execution_count": 76,
   "metadata": {},
   "outputs": [
    {
     "name": "stderr",
     "output_type": "stream",
     "text": [
      "\u001b[32m\u001b[1m    Updating\u001b[22m\u001b[39m registry at `~/.julia/registries/General.toml`\n",
      "\u001b[32m\u001b[1m   Resolving\u001b[22m\u001b[39m package versions...\n",
      "\u001b[32m\u001b[1m   Installed\u001b[22m\u001b[39m FFTW_jll ─ v3.3.9+8\n",
      "\u001b[32m\u001b[1m  No Changes\u001b[22m\u001b[39m to `~/.julia/environments/v1.8/Project.toml`\n",
      "\u001b[32m\u001b[1m    Updating\u001b[22m\u001b[39m `~/.julia/environments/v1.8/Manifest.toml`\n",
      " \u001b[90m [f5851436] \u001b[39m\u001b[93m↑ FFTW_jll v3.3.9+7 ⇒ v3.3.9+8\u001b[39m\n",
      "\u001b[32m\u001b[1mPrecompiling\u001b[22m\u001b[39m project...\n",
      "\u001b[32m  ✓ \u001b[39m\u001b[90mFFTW_jll\u001b[39m\n",
      "\u001b[32m  ✓ \u001b[39m\u001b[90mFFTW\u001b[39m\n",
      "\u001b[32m  ✓ \u001b[39m\u001b[90mKernelDensity\u001b[39m\n",
      "\u001b[32m  ✓ \u001b[39mStatsPlots\n",
      "  4 dependencies successfully precompiled in 18 seconds (160 already precompiled)\n"
     ]
    }
   ],
   "source": [
    "using Pkg\n",
    "Pkg.add(\"RowEchelon\")"
   ]
  },
  {
   "cell_type": "code",
   "execution_count": 77,
   "metadata": {},
   "outputs": [],
   "source": [
    "using RowEchelon"
   ]
  },
  {
   "cell_type": "code",
   "execution_count": 78,
   "metadata": {},
   "outputs": [
    {
     "name": "stdout",
     "output_type": "stream",
     "text": [
      "search: \u001b[0m\u001b[1mr\u001b[22m\u001b[0m\u001b[1mr\u001b[22m\u001b[0m\u001b[1me\u001b[22m\u001b[0m\u001b[1mf\u001b[22m \u001b[0m\u001b[1mr\u001b[22m\u001b[0m\u001b[1mr\u001b[22m\u001b[0m\u001b[1me\u001b[22m\u001b[0m\u001b[1mf\u001b[22m! \u001b[0m\u001b[1mr\u001b[22m\u001b[0m\u001b[1mr\u001b[22m\u001b[0m\u001b[1me\u001b[22m\u001b[0m\u001b[1mf\u001b[22m_with_pivots \u001b[0m\u001b[1mr\u001b[22m\u001b[0m\u001b[1mr\u001b[22m\u001b[0m\u001b[1me\u001b[22m\u001b[0m\u001b[1mf\u001b[22m_with_pivots! sea\u001b[0m\u001b[1mr\u001b[22mchso\u001b[0m\u001b[1mr\u001b[22mt\u001b[0m\u001b[1me\u001b[22md\u001b[0m\u001b[1mf\u001b[22mirst\n",
      "\n"
     ]
    },
    {
     "data": {
      "text/latex": [
       "\\begin{verbatim}\n",
       "rref(A)\n",
       "\\end{verbatim}\n",
       "Compute the reduced row echelon form of the matrix A. Since this algorithm is sensitive to numerical imprecision,\n",
       "\n",
       "\\begin{itemize}\n",
       "\\item Complex numbers are converted to ComplexF64\n",
       "\n",
       "\n",
       "\\item Integer, Float16 and Float32 numbers are converted to Float64\n",
       "\n",
       "\n",
       "\\item Rational are kept unchanged\n",
       "\n",
       "\\end{itemize}\n",
       "\\begin{verbatim}\n",
       "julia> rref([ 1  2 -1  -4;\n",
       "              2  3 -1 -11;\n",
       "             -2  0 -3  22])\n",
       "3×4 Array{Float64,2}:\n",
       " 1.0  0.0  0.0  -8.0\n",
       " 0.0  1.0  0.0   1.0\n",
       " 0.0  0.0  1.0  -2.0\n",
       "\n",
       "julia> rref([16  2  3  13;\n",
       "              5 11 10   8;\n",
       "              9  7  6  12;\n",
       "              4 14 15   1])\n",
       "4×4 Array{Float64,2}:\n",
       " 1.0  0.0  0.0   1.0\n",
       " 0.0  1.0  0.0   3.0\n",
       " 0.0  0.0  1.0  -3.0\n",
       " 0.0  0.0  0.0   0.0\n",
       "\n",
       "julia> rref([ 1  2  0   3;\n",
       "              2  4  0   7])\n",
       "2×4 Array{Float64,2}:\n",
       " 1.0  2.0  0.0  0.0\n",
       " 0.0  0.0  0.0  1.0\n",
       "\\end{verbatim}\n"
      ],
      "text/markdown": [
       "```\n",
       "rref(A)\n",
       "```\n",
       "\n",
       "Compute the reduced row echelon form of the matrix A. Since this algorithm is sensitive to numerical imprecision,\n",
       "\n",
       "  * Complex numbers are converted to ComplexF64\n",
       "  * Integer, Float16 and Float32 numbers are converted to Float64\n",
       "  * Rational are kept unchanged\n",
       "\n",
       "```jldoctest\n",
       "julia> rref([ 1  2 -1  -4;\n",
       "              2  3 -1 -11;\n",
       "             -2  0 -3  22])\n",
       "3×4 Array{Float64,2}:\n",
       " 1.0  0.0  0.0  -8.0\n",
       " 0.0  1.0  0.0   1.0\n",
       " 0.0  0.0  1.0  -2.0\n",
       "\n",
       "julia> rref([16  2  3  13;\n",
       "              5 11 10   8;\n",
       "              9  7  6  12;\n",
       "              4 14 15   1])\n",
       "4×4 Array{Float64,2}:\n",
       " 1.0  0.0  0.0   1.0\n",
       " 0.0  1.0  0.0   3.0\n",
       " 0.0  0.0  1.0  -3.0\n",
       " 0.0  0.0  0.0   0.0\n",
       "\n",
       "julia> rref([ 1  2  0   3;\n",
       "              2  4  0   7])\n",
       "2×4 Array{Float64,2}:\n",
       " 1.0  2.0  0.0  0.0\n",
       " 0.0  0.0  0.0  1.0\n",
       "```\n"
      ],
      "text/plain": [
       "\u001b[36m  rref(A)\u001b[39m\n",
       "\n",
       "  Compute the reduced row echelon form of the matrix A. Since this algorithm\n",
       "  is sensitive to numerical imprecision,\n",
       "\n",
       "    •  Complex numbers are converted to ComplexF64\n",
       "\n",
       "    •  Integer, Float16 and Float32 numbers are converted to Float64\n",
       "\n",
       "    •  Rational are kept unchanged\n",
       "\n",
       "\u001b[36m  julia> rref([ 1  2 -1  -4;\u001b[39m\n",
       "\u001b[36m                2  3 -1 -11;\u001b[39m\n",
       "\u001b[36m               -2  0 -3  22])\u001b[39m\n",
       "\u001b[36m  3×4 Array{Float64,2}:\u001b[39m\n",
       "\u001b[36m   1.0  0.0  0.0  -8.0\u001b[39m\n",
       "\u001b[36m   0.0  1.0  0.0   1.0\u001b[39m\n",
       "\u001b[36m   0.0  0.0  1.0  -2.0\u001b[39m\n",
       "\u001b[36m  \u001b[39m\n",
       "\u001b[36m  julia> rref([16  2  3  13;\u001b[39m\n",
       "\u001b[36m                5 11 10   8;\u001b[39m\n",
       "\u001b[36m                9  7  6  12;\u001b[39m\n",
       "\u001b[36m                4 14 15   1])\u001b[39m\n",
       "\u001b[36m  4×4 Array{Float64,2}:\u001b[39m\n",
       "\u001b[36m   1.0  0.0  0.0   1.0\u001b[39m\n",
       "\u001b[36m   0.0  1.0  0.0   3.0\u001b[39m\n",
       "\u001b[36m   0.0  0.0  1.0  -3.0\u001b[39m\n",
       "\u001b[36m   0.0  0.0  0.0   0.0\u001b[39m\n",
       "\u001b[36m  \u001b[39m\n",
       "\u001b[36m  julia> rref([ 1  2  0   3;\u001b[39m\n",
       "\u001b[36m                2  4  0   7])\u001b[39m\n",
       "\u001b[36m  2×4 Array{Float64,2}:\u001b[39m\n",
       "\u001b[36m   1.0  2.0  0.0  0.0\u001b[39m\n",
       "\u001b[36m   0.0  0.0  0.0  1.0\u001b[39m"
      ]
     },
     "execution_count": 78,
     "metadata": {},
     "output_type": "execute_result"
    }
   ],
   "source": [
    "? rref"
   ]
  },
  {
   "cell_type": "code",
   "execution_count": 79,
   "metadata": {},
   "outputs": [
    {
     "ename": "LoadError",
     "evalue": "ArgumentError: number of rows of each array must match (got (4, 2))",
     "output_type": "error",
     "traceback": [
      "ArgumentError: number of rows of each array must match (got (4, 2))",
      "",
      "Stacktrace:",
      " [1] _typed_hcat(#unused#::Type{Float64}, A::Tuple{Matrix{Float64}, Vector{Int64}})",
      "   @ Base ./abstractarray.jl:1573",
      " [2] typed_hcat",
      "   @ ./abstractarray.jl:1560 [inlined]",
      " [3] hcat(::Matrix{Float64}, ::Vector{Int64})",
      "   @ SparseArrays /private/tmp/julia-20210615-80123-ag9qn6/usr/share/julia/stdlib/v1.8/SparseArrays/src/sparsevector.jl:1126",
      " [4] top-level scope",
      "   @ In[79]:1",
      " [5] eval",
      "   @ ./boot.jl:373 [inlined]",
      " [6] include_string(mapexpr::typeof(REPL.softscope), mod::Module, code::String, filename::String)",
      "   @ Base ./loading.jl:1196"
     ]
    }
   ],
   "source": [
    "rref([A [1,11]])"
   ]
  },
  {
   "cell_type": "markdown",
   "metadata": {},
   "source": [
    "### Computing the inverse"
   ]
  },
  {
   "cell_type": "code",
   "execution_count": 80,
   "metadata": {},
   "outputs": [
    {
     "data": {
      "text/plain": [
       "4×8 Matrix{Float64}:\n",
       " 10.0   2.0  2.0  3.0  1.0  0.0  0.0  0.0\n",
       "  3.0  12.0  8.0  1.0  0.0  1.0  0.0  0.0\n",
       "  2.0   4.0  8.0  8.0  0.0  0.0  1.0  0.0\n",
       "  1.0   4.0  5.0  0.0  0.0  0.0  0.0  1.0"
      ]
     },
     "execution_count": 80,
     "metadata": {},
     "output_type": "execute_result"
    }
   ],
   "source": [
    "using LinearAlgebra\n",
    "[A I]"
   ]
  },
  {
   "cell_type": "code",
   "execution_count": 81,
   "metadata": {},
   "outputs": [
    {
     "data": {
      "text/plain": [
       "4×8 Matrix{Float64}:\n",
       " 1.0  0.0  0.0  0.0   0.109259    -0.0240741  -0.037963    0.0555556\n",
       " 0.0  1.0  0.0  0.0  -0.025        0.175      -0.0125     -0.25\n",
       " 0.0  0.0  1.0  0.0  -0.00185185  -0.135185    0.0175926   0.388889\n",
       " 0.0  0.0  0.0  1.0  -0.012963     0.0537037   0.123148   -0.277778"
      ]
     },
     "execution_count": 81,
     "metadata": {},
     "output_type": "execute_result"
    }
   ],
   "source": [
    "R = rref([A I])"
   ]
  },
  {
   "cell_type": "code",
   "execution_count": 82,
   "metadata": {},
   "outputs": [
    {
     "data": {
      "text/plain": [
       "4×4 Matrix{Float64}:\n",
       "  0.109259    -0.0240741  -0.037963    0.0555556\n",
       " -0.025        0.175      -0.0125     -0.25\n",
       " -0.00185185  -0.135185    0.0175926   0.388889\n",
       " -0.012963     0.0537037   0.123148   -0.277778"
      ]
     },
     "execution_count": 82,
     "metadata": {},
     "output_type": "execute_result"
    }
   ],
   "source": [
    "inv(A)"
   ]
  },
  {
   "cell_type": "code",
   "execution_count": 83,
   "metadata": {},
   "outputs": [
    {
     "data": {
      "text/plain": [
       "4×2 Matrix{Float64}:\n",
       " 0.0  0.0\n",
       " 0.0  0.0\n",
       " 1.0  0.0\n",
       " 0.0  1.0"
      ]
     },
     "execution_count": 83,
     "metadata": {},
     "output_type": "execute_result"
    }
   ],
   "source": [
    "R[:,3:4]"
   ]
  },
  {
   "cell_type": "markdown",
   "metadata": {},
   "source": [
    "### Rank"
   ]
  },
  {
   "cell_type": "code",
   "execution_count": 84,
   "metadata": {},
   "outputs": [
    {
     "data": {
      "text/plain": [
       "3×4 Matrix{Int64}:\n",
       " 1  2  3  4\n",
       " 5  6  7  8\n",
       " 2  4  6  8"
      ]
     },
     "execution_count": 84,
     "metadata": {},
     "output_type": "execute_result"
    }
   ],
   "source": [
    "A = [1 2 3 4;\n",
    "     5 6 7 8;\n",
    "     2 4 6 8]"
   ]
  },
  {
   "cell_type": "code",
   "execution_count": 85,
   "metadata": {},
   "outputs": [
    {
     "data": {
      "text/plain": [
       "3×4 Matrix{Float64}:\n",
       " 1.0  0.0  -1.0  -2.0\n",
       " 0.0  1.0   2.0   3.0\n",
       " 0.0  0.0   0.0   0.0"
      ]
     },
     "execution_count": 85,
     "metadata": {},
     "output_type": "execute_result"
    }
   ],
   "source": [
    "rref(A)"
   ]
  },
  {
   "cell_type": "code",
   "execution_count": 86,
   "metadata": {},
   "outputs": [
    {
     "data": {
      "text/plain": [
       "2"
      ]
     },
     "execution_count": 86,
     "metadata": {},
     "output_type": "execute_result"
    }
   ],
   "source": [
    "rank(A)"
   ]
  },
  {
   "cell_type": "code",
   "execution_count": 87,
   "metadata": {},
   "outputs": [
    {
     "data": {
      "text/plain": [
       "3×4 Matrix{Int64}:\n",
       " 1  2  3  4\n",
       " 5  6  7  8\n",
       " 2  4  6  9"
      ]
     },
     "execution_count": 87,
     "metadata": {},
     "output_type": "execute_result"
    }
   ],
   "source": [
    "B = [1 2 3 4;\n",
    "     5 6 7 8;\n",
    "     2 4 6 9]"
   ]
  },
  {
   "cell_type": "code",
   "execution_count": 88,
   "metadata": {},
   "outputs": [
    {
     "data": {
      "text/plain": [
       "3"
      ]
     },
     "execution_count": 88,
     "metadata": {},
     "output_type": "execute_result"
    }
   ],
   "source": [
    "rank(B)"
   ]
  },
  {
   "cell_type": "code",
   "execution_count": 89,
   "metadata": {},
   "outputs": [
    {
     "data": {
      "text/plain": [
       "3×4 Matrix{Float64}:\n",
       " 1.0  0.0  -1.0  0.0\n",
       " 0.0  1.0   2.0  0.0\n",
       " 0.0  0.0   0.0  1.0"
      ]
     },
     "execution_count": 89,
     "metadata": {},
     "output_type": "execute_result"
    }
   ],
   "source": [
    "rref(B)"
   ]
  },
  {
   "cell_type": "code",
   "execution_count": 90,
   "metadata": {},
   "outputs": [
    {
     "data": {
      "text/plain": [
       "3×3 Matrix{Int64}:\n",
       " 1  2  3\n",
       " 4  5  6\n",
       " 2  4  6"
      ]
     },
     "execution_count": 90,
     "metadata": {},
     "output_type": "execute_result"
    }
   ],
   "source": [
    "A = [1 2 3;\n",
    "     4 5 6;\n",
    "     2 4 6]"
   ]
  },
  {
   "cell_type": "code",
   "execution_count": 91,
   "metadata": {},
   "outputs": [
    {
     "data": {
      "text/plain": [
       "2"
      ]
     },
     "execution_count": 91,
     "metadata": {},
     "output_type": "execute_result"
    }
   ],
   "source": [
    "rank(A)"
   ]
  },
  {
   "cell_type": "code",
   "execution_count": 92,
   "metadata": {},
   "outputs": [
    {
     "data": {
      "text/plain": [
       "0.0"
      ]
     },
     "execution_count": 92,
     "metadata": {},
     "output_type": "execute_result"
    }
   ],
   "source": [
    "det(A)"
   ]
  },
  {
   "cell_type": "code",
   "execution_count": 93,
   "metadata": {
    "scrolled": true
   },
   "outputs": [
    {
     "ename": "LoadError",
     "evalue": "SingularException(3)",
     "output_type": "error",
     "traceback": [
      "SingularException(3)",
      "",
      "Stacktrace:",
      " [1] checknonsingular",
      "   @ /private/tmp/julia-20210615-80123-ag9qn6/usr/share/julia/stdlib/v1.8/LinearAlgebra/src/factorization.jl:19 [inlined]",
      " [2] checknonsingular",
      "   @ /private/tmp/julia-20210615-80123-ag9qn6/usr/share/julia/stdlib/v1.8/LinearAlgebra/src/factorization.jl:21 [inlined]",
      " [3] #lu!#142",
      "   @ /private/tmp/julia-20210615-80123-ag9qn6/usr/share/julia/stdlib/v1.8/LinearAlgebra/src/lu.jl:82 [inlined]",
      " [4] #lu#149",
      "   @ /private/tmp/julia-20210615-80123-ag9qn6/usr/share/julia/stdlib/v1.8/LinearAlgebra/src/lu.jl:279 [inlined]",
      " [5] lu (repeats 2 times)",
      "   @ /private/tmp/julia-20210615-80123-ag9qn6/usr/share/julia/stdlib/v1.8/LinearAlgebra/src/lu.jl:278 [inlined]",
      " [6] inv(A::Matrix{Int64})",
      "   @ LinearAlgebra /private/tmp/julia-20210615-80123-ag9qn6/usr/share/julia/stdlib/v1.8/LinearAlgebra/src/dense.jl:874",
      " [7] top-level scope",
      "   @ In[93]:1",
      " [8] eval",
      "   @ ./boot.jl:373 [inlined]",
      " [9] include_string(mapexpr::typeof(REPL.softscope), mod::Module, code::String, filename::String)",
      "   @ Base ./loading.jl:1196"
     ]
    }
   ],
   "source": [
    "inv(A)"
   ]
  },
  {
   "cell_type": "code",
   "execution_count": 94,
   "metadata": {},
   "outputs": [
    {
     "data": {
      "text/plain": [
       "3×3 Matrix{Int64}:\n",
       "  1   2   3\n",
       " 10  20  30\n",
       "  2   4   6"
      ]
     },
     "execution_count": 94,
     "metadata": {},
     "output_type": "execute_result"
    }
   ],
   "source": [
    "A = [1,10,2]*[1,2,3]'"
   ]
  },
  {
   "cell_type": "code",
   "execution_count": 95,
   "metadata": {},
   "outputs": [
    {
     "data": {
      "text/plain": [
       "1"
      ]
     },
     "execution_count": 95,
     "metadata": {},
     "output_type": "execute_result"
    }
   ],
   "source": [
    "rank(A)"
   ]
  },
  {
   "cell_type": "code",
   "execution_count": 96,
   "metadata": {},
   "outputs": [
    {
     "ename": "LoadError",
     "evalue": "SingularException(2)",
     "output_type": "error",
     "traceback": [
      "SingularException(2)",
      "",
      "Stacktrace:",
      " [1] checknonsingular",
      "   @ /private/tmp/julia-20210615-80123-ag9qn6/usr/share/julia/stdlib/v1.8/LinearAlgebra/src/factorization.jl:19 [inlined]",
      " [2] checknonsingular",
      "   @ /private/tmp/julia-20210615-80123-ag9qn6/usr/share/julia/stdlib/v1.8/LinearAlgebra/src/factorization.jl:21 [inlined]",
      " [3] #lu!#142",
      "   @ /private/tmp/julia-20210615-80123-ag9qn6/usr/share/julia/stdlib/v1.8/LinearAlgebra/src/lu.jl:82 [inlined]",
      " [4] #lu#149",
      "   @ /private/tmp/julia-20210615-80123-ag9qn6/usr/share/julia/stdlib/v1.8/LinearAlgebra/src/lu.jl:279 [inlined]",
      " [5] lu (repeats 2 times)",
      "   @ /private/tmp/julia-20210615-80123-ag9qn6/usr/share/julia/stdlib/v1.8/LinearAlgebra/src/lu.jl:278 [inlined]",
      " [6] inv(A::Matrix{Int64})",
      "   @ LinearAlgebra /private/tmp/julia-20210615-80123-ag9qn6/usr/share/julia/stdlib/v1.8/LinearAlgebra/src/dense.jl:874",
      " [7] top-level scope",
      "   @ In[96]:1",
      " [8] eval",
      "   @ ./boot.jl:373 [inlined]",
      " [9] include_string(mapexpr::typeof(REPL.softscope), mod::Module, code::String, filename::String)",
      "   @ Base ./loading.jl:1196"
     ]
    }
   ],
   "source": [
    "inv(A)"
   ]
  },
  {
   "cell_type": "markdown",
   "metadata": {},
   "source": [
    "### Taylor Series\n",
    "See [VMLS] Appendix C"
   ]
  },
  {
   "cell_type": "markdown",
   "metadata": {},
   "source": [
    "$$\n",
    "f: \\mathbb{R}^{n} \\rightarrow \\mathbb{R}\n",
    "$$"
   ]
  },
  {
   "cell_type": "markdown",
   "metadata": {},
   "source": [
    "$$\n",
    "\\nabla f(z)=\\left[\\begin{array}{c}\\frac{\\partial f}{\\partial x_{1}}(z) \\\\ \\vdots \\\\ \\frac{\\partial f}{\\partial x_{n}}(z)\\end{array}\\right]\n",
    "$$"
   ]
  },
  {
   "cell_type": "markdown",
   "metadata": {},
   "source": [
    "$$\n",
    "\\hat{f}(x ; z)=f(z)+\\frac{\\partial f}{\\partial x_{1}}(z)\\left(x_{1}-z_{1}\\right)+\\cdots+\\frac{\\partial f}{\\partial x_{n}}(z)\\left(x_{n}-z_{n}\\right)\n",
    "$$"
   ]
  },
  {
   "cell_type": "markdown",
   "metadata": {},
   "source": [
    "$$\n",
    "\\hat{f}(x ; z)=f(z)+\\nabla f(z)^{T}(x-z)\n",
    "$$"
   ]
  },
  {
   "cell_type": "markdown",
   "metadata": {},
   "source": [
    "$$\n",
    "f: \\mathbb{R}^{n} \\rightarrow \\mathbb{R}^{m}\n",
    "$$"
   ]
  },
  {
   "cell_type": "markdown",
   "metadata": {},
   "source": [
    "$$\n",
    "f(x)=\\left[\\begin{array}{c}f_{1}(x) \\\\ \\vdots \\\\ f_{m}(x)\\end{array}\\right]\n",
    "$$"
   ]
  },
  {
   "cell_type": "markdown",
   "metadata": {},
   "source": [
    "Jacobian:\n",
    "$$\n",
    "D f(z)_{i j}=\\frac{\\partial f_{i}}{\\partial x_{j}}(z), \\quad i=1, \\ldots, m, \\quad j=1, \\ldots, n\n",
    "$$"
   ]
  },
  {
   "cell_type": "markdown",
   "metadata": {},
   "source": [
    "rows are: $$\\nabla f_{i}(z)^{T}, \\text { for } i=1, \\ldots, m$$"
   ]
  },
  {
   "cell_type": "markdown",
   "metadata": {},
   "source": [
    "Taylor approximation:\n",
    "\n",
    "$$\n",
    "\\begin{aligned} \\hat{f}(x ; z)_{i} &=f_{i}(z)+\\frac{\\partial f_{i}}{\\partial x_{1}}(z)\\left(x_{1}-z_{1}\\right)+\\cdots+\\frac{\\partial f_{i}}{\\partial x_{n}}(z)\\left(x_{n}-z_{n}\\right) \\\\ &=f_{i}(z)+\\nabla f_{i}(z)^{T}(x-z) \\end{aligned}\n",
    "$$"
   ]
  },
  {
   "cell_type": "markdown",
   "metadata": {},
   "source": [
    "$$\n",
    "\\hat{f}(x ; z)=f(z)+D f(z)(x-z)\n",
    "$$"
   ]
  },
  {
   "cell_type": "code",
   "execution_count": null,
   "metadata": {},
   "outputs": [],
   "source": []
  }
 ],
 "metadata": {
  "@webio": {
   "lastCommId": null,
   "lastKernelId": null
  },
  "kernelspec": {
   "display_name": "Julia 1.8.0-DEV",
   "language": "julia",
   "name": "julia-1.8"
  },
  "language_info": {
   "file_extension": ".jl",
   "mimetype": "application/julia",
   "name": "julia",
   "version": "1.8.0"
  }
 },
 "nbformat": 4,
 "nbformat_minor": 2
}
