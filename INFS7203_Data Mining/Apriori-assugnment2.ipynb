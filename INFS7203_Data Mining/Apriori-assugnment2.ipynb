{
 "cells": [
  {
   "cell_type": "markdown",
   "metadata": {},
   "source": [
    "# INFS4203/7203 Data Mining Tutorial 2"
   ]
  },
  {
   "cell_type": "markdown",
   "metadata": {},
   "source": [
    "Let's see how we can apply the external library to find frequent itemsets"
   ]
  },
  {
   "cell_type": "markdown",
   "metadata": {},
   "source": [
    "# 1. Install mlxtend library"
   ]
  },
  {
   "cell_type": "markdown",
   "metadata": {},
   "source": [
    "The mlxtend package can be installed in either of these two ways: \n",
    "\n",
    "1. running\n",
    "**conda install -c conda-forge mlxtend** \n",
    "on your *Anaconda command promote*\n",
    "\n",
    "OR\n",
    "\n",
    "2. running\n",
    "**pip install mlxtend** \n",
    "on your *terminal* .\n",
    "\n",
    "For more information, please check the documentation of mlxtend at http://rasbt.github.io/mlxtend/user_guide/frequent_patterns/apriori/\n"
   ]
  },
  {
   "cell_type": "markdown",
   "metadata": {},
   "source": [
    "# 2. Load data"
   ]
  },
  {
   "cell_type": "markdown",
   "metadata": {},
   "source": [
    "We load the provided data *groceries.csv*."
   ]
  },
  {
   "cell_type": "code",
   "execution_count": 1,
   "metadata": {},
   "outputs": [
    {
     "name": "stdout",
     "output_type": "stream",
     "text": [
      "loading successful\n"
     ]
    }
   ],
   "source": [
    "# Import the libraries and load data\n",
    "import mlxtend\n",
    "import pandas as pd\n",
    "import numpy as np\n",
    "\n",
    "# load data from groceries.csv\n",
    "df = pd.read_csv('groceries.csv')\n",
    "# give a sign when the task finished\n",
    "print(\"loading successful\")"
   ]
  },
  {
   "cell_type": "markdown",
   "metadata": {},
   "source": [
    "# Change the data format"
   ]
  },
  {
   "cell_type": "markdown",
   "metadata": {},
   "source": [
    "From the documentation, we can see the required data format is like:\n",
    "\n",
    "\n",
    "\n",
    "|     | Type 1 | Type 2 | ...    | Type N |\n",
    "| --- | ------ | ----   | ----   |  ----  |\n",
    "| 0   | True   | False  | ...    | True   |\n",
    "| 1   | False  | True   | ...    | True   |\n",
    "| 2   | True   | True   | ...    | False  |\n",
    "| 3   | True   | True   | ...    | True   |\n",
    "\n",
    "So next, we learn how to format the original transaction data into this one.\n",
    "\n",
    "**We first make each transaction into a \"list\"**, where \"list\" is a prespecified data structure in Python.\n",
    "(See here for more on list: https://docs.python.org/3/tutorial/introduction.html#lists)\n"
   ]
  },
  {
   "cell_type": "code",
   "execution_count": 2,
   "metadata": {},
   "outputs": [
    {
     "name": "stdout",
     "output_type": "stream",
     "text": [
      "Done\n"
     ]
    }
   ],
   "source": [
    "# Remove nan\n",
    "# change the data to list\n",
    "dataset = df.values.tolist()\n",
    "cleanList = []\n",
    "\n",
    "for trans in dataset: # for each transaction\n",
    "    cleanTrans = []\n",
    "    for x in trans: # for each element in the transaction\n",
    "        if str(x) != 'nan': # if the item is not 'nan', put it in the list\n",
    "            cleanTrans.append(x)\n",
    "    cleanList.append(cleanTrans)\n",
    "dataset = np.asarray(cleanList)\n",
    "\n",
    "# give a sign when the task finished\n",
    "print('Done')"
   ]
  },
  {
   "cell_type": "markdown",
   "metadata": {},
   "source": [
    "**We then change the list into a mlxtend required format use the function *TransactionEncoder()*.**"
   ]
  },
  {
   "cell_type": "code",
   "execution_count": 3,
   "metadata": {},
   "outputs": [
    {
     "name": "stdout",
     "output_type": "stream",
     "text": [
      "Done!\n"
     ]
    }
   ],
   "source": [
    "from mlxtend.preprocessing import TransactionEncoder\n",
    "from mlxtend.frequent_patterns import apriori\n",
    "\n",
    "# This part is not required to be understood. You can just run the code and skip it.\n",
    "te = TransactionEncoder() # a pre-defined function to transfer data\n",
    "te_ary = te.fit(dataset).transform(dataset) \n",
    "df = pd.DataFrame(te_ary, columns=te.columns_) # fit the transferred data back into a pandas data format\n",
    "\n",
    "# give a sign when the task finished\n",
    "print('Done!')"
   ]
  },
  {
   "cell_type": "markdown",
   "metadata": {},
   "source": [
    "# Apply the Apriori algorithm"
   ]
  },
  {
   "cell_type": "markdown",
   "metadata": {},
   "source": [
    "set minimum support 0.009"
   ]
  },
  {
   "cell_type": "code",
   "execution_count": 14,
   "metadata": {},
   "outputs": [
    {
     "name": "stdout",
     "output_type": "stream",
     "text": [
      "Done!\n"
     ]
    }
   ],
   "source": [
    "# define the MIN_SUPP\n",
    "MIN_SUPP = 0.008\n",
    "\n",
    "# apply the defined apriori algorithm\n",
    "freq_set = apriori(df, min_support=MIN_SUPP, use_colnames=True)\n",
    "\n",
    "print('Done!')"
   ]
  },
  {
   "cell_type": "code",
   "execution_count": 15,
   "metadata": {},
   "outputs": [
    {
     "data": {
      "text/html": [
       "<div>\n",
       "<style scoped>\n",
       "    .dataframe tbody tr th:only-of-type {\n",
       "        vertical-align: middle;\n",
       "    }\n",
       "\n",
       "    .dataframe tbody tr th {\n",
       "        vertical-align: top;\n",
       "    }\n",
       "\n",
       "    .dataframe thead th {\n",
       "        text-align: right;\n",
       "    }\n",
       "</style>\n",
       "<table border=\"1\" class=\"dataframe\">\n",
       "  <thead>\n",
       "    <tr style=\"text-align: right;\">\n",
       "      <th></th>\n",
       "      <th>support</th>\n",
       "      <th>itemsets</th>\n",
       "    </tr>\n",
       "  </thead>\n",
       "  <tbody>\n",
       "    <tr>\n",
       "      <th>0</th>\n",
       "      <td>0.008033</td>\n",
       "      <td>(Instant food products)</td>\n",
       "    </tr>\n",
       "    <tr>\n",
       "      <th>1</th>\n",
       "      <td>0.033452</td>\n",
       "      <td>(UHT-milk)</td>\n",
       "    </tr>\n",
       "    <tr>\n",
       "      <th>2</th>\n",
       "      <td>0.017692</td>\n",
       "      <td>(baking powder)</td>\n",
       "    </tr>\n",
       "    <tr>\n",
       "      <th>3</th>\n",
       "      <td>0.052466</td>\n",
       "      <td>(beef)</td>\n",
       "    </tr>\n",
       "    <tr>\n",
       "      <th>4</th>\n",
       "      <td>0.033249</td>\n",
       "      <td>(berries)</td>\n",
       "    </tr>\n",
       "    <tr>\n",
       "      <th>...</th>\n",
       "      <td>...</td>\n",
       "      <td>...</td>\n",
       "    </tr>\n",
       "    <tr>\n",
       "      <th>480</th>\n",
       "      <td>0.014540</td>\n",
       "      <td>(whole milk, root vegetables, yogurt)</td>\n",
       "    </tr>\n",
       "    <tr>\n",
       "      <th>481</th>\n",
       "      <td>0.008744</td>\n",
       "      <td>(whole milk, sausage, yogurt)</td>\n",
       "    </tr>\n",
       "    <tr>\n",
       "      <th>482</th>\n",
       "      <td>0.010473</td>\n",
       "      <td>(soda, whole milk, yogurt)</td>\n",
       "    </tr>\n",
       "    <tr>\n",
       "      <th>483</th>\n",
       "      <td>0.015150</td>\n",
       "      <td>(yogurt, whole milk, tropical fruit)</td>\n",
       "    </tr>\n",
       "    <tr>\n",
       "      <th>484</th>\n",
       "      <td>0.010880</td>\n",
       "      <td>(whole milk, whipped/sour cream, yogurt)</td>\n",
       "    </tr>\n",
       "  </tbody>\n",
       "</table>\n",
       "<p>485 rows × 2 columns</p>\n",
       "</div>"
      ],
      "text/plain": [
       "      support                                  itemsets\n",
       "0    0.008033                   (Instant food products)\n",
       "1    0.033452                                (UHT-milk)\n",
       "2    0.017692                           (baking powder)\n",
       "3    0.052466                                    (beef)\n",
       "4    0.033249                                 (berries)\n",
       "..        ...                                       ...\n",
       "480  0.014540     (whole milk, root vegetables, yogurt)\n",
       "481  0.008744             (whole milk, sausage, yogurt)\n",
       "482  0.010473                (soda, whole milk, yogurt)\n",
       "483  0.015150      (yogurt, whole milk, tropical fruit)\n",
       "484  0.010880  (whole milk, whipped/sour cream, yogurt)\n",
       "\n",
       "[485 rows x 2 columns]"
      ]
     },
     "execution_count": 15,
     "metadata": {},
     "output_type": "execute_result"
    }
   ],
   "source": [
    "freq_set"
   ]
  },
  {
   "cell_type": "markdown",
   "metadata": {},
   "source": [
    "#### Confirm if {whole milk, tropical fruit, bread} is a frequent item. "
   ]
  },
  {
   "cell_type": "code",
   "execution_count": 33,
   "metadata": {},
   "outputs": [
    {
     "name": "stdout",
     "output_type": "stream",
     "text": [
      "Found at location 379\n"
     ]
    }
   ],
   "source": [
    "check_set = ['whole milk','rolls/buns','other vegetables']\n",
    "\n",
    "# Select the idx from the frequent set based on the given check_set\n",
    "itemset_idx = freq_set.index[freq_set['itemsets'] == frozenset(check_set)].tolist()\n",
    "if itemset_idx==[]: # given check_set does not exist in the frequent set\n",
    "    print('Not frequent!')\n",
    "else:\n",
    "    print('Found at location '+str(itemset_idx[0]))"
   ]
  },
  {
   "cell_type": "code",
   "execution_count": 30,
   "metadata": {
    "scrolled": false
   },
   "outputs": [
    {
     "data": {
      "text/html": [
       "<div>\n",
       "<style scoped>\n",
       "    .dataframe tbody tr th:only-of-type {\n",
       "        vertical-align: middle;\n",
       "    }\n",
       "\n",
       "    .dataframe tbody tr th {\n",
       "        vertical-align: top;\n",
       "    }\n",
       "\n",
       "    .dataframe thead th {\n",
       "        text-align: right;\n",
       "    }\n",
       "</style>\n",
       "<table border=\"1\" class=\"dataframe\">\n",
       "  <thead>\n",
       "    <tr style=\"text-align: right;\">\n",
       "      <th></th>\n",
       "      <th>support</th>\n",
       "      <th>itemsets</th>\n",
       "    </tr>\n",
       "  </thead>\n",
       "  <tbody>\n",
       "    <tr>\n",
       "      <th>0</th>\n",
       "      <td>0.008033</td>\n",
       "      <td>(Instant food products)</td>\n",
       "    </tr>\n",
       "    <tr>\n",
       "      <th>1</th>\n",
       "      <td>0.033452</td>\n",
       "      <td>(UHT-milk)</td>\n",
       "    </tr>\n",
       "    <tr>\n",
       "      <th>2</th>\n",
       "      <td>0.017692</td>\n",
       "      <td>(baking powder)</td>\n",
       "    </tr>\n",
       "    <tr>\n",
       "      <th>3</th>\n",
       "      <td>0.052466</td>\n",
       "      <td>(beef)</td>\n",
       "    </tr>\n",
       "    <tr>\n",
       "      <th>4</th>\n",
       "      <td>0.033249</td>\n",
       "      <td>(berries)</td>\n",
       "    </tr>\n",
       "    <tr>\n",
       "      <th>...</th>\n",
       "      <td>...</td>\n",
       "      <td>...</td>\n",
       "    </tr>\n",
       "    <tr>\n",
       "      <th>996</th>\n",
       "      <td>0.005186</td>\n",
       "      <td>(root vegetables, whipped/sour cream, other ve...</td>\n",
       "    </tr>\n",
       "    <tr>\n",
       "      <th>997</th>\n",
       "      <td>0.007829</td>\n",
       "      <td>(yogurt, root vegetables, other vegetables, wh...</td>\n",
       "    </tr>\n",
       "    <tr>\n",
       "      <th>998</th>\n",
       "      <td>0.007626</td>\n",
       "      <td>(yogurt, other vegetables, tropical fruit, who...</td>\n",
       "    </tr>\n",
       "    <tr>\n",
       "      <th>999</th>\n",
       "      <td>0.005592</td>\n",
       "      <td>(yogurt, whipped/sour cream, other vegetables,...</td>\n",
       "    </tr>\n",
       "    <tr>\n",
       "      <th>1000</th>\n",
       "      <td>0.005694</td>\n",
       "      <td>(yogurt, root vegetables, tropical fruit, whol...</td>\n",
       "    </tr>\n",
       "  </tbody>\n",
       "</table>\n",
       "<p>1001 rows × 2 columns</p>\n",
       "</div>"
      ],
      "text/plain": [
       "       support                                           itemsets\n",
       "0     0.008033                            (Instant food products)\n",
       "1     0.033452                                         (UHT-milk)\n",
       "2     0.017692                                    (baking powder)\n",
       "3     0.052466                                             (beef)\n",
       "4     0.033249                                          (berries)\n",
       "...        ...                                                ...\n",
       "996   0.005186  (root vegetables, whipped/sour cream, other ve...\n",
       "997   0.007829  (yogurt, root vegetables, other vegetables, wh...\n",
       "998   0.007626  (yogurt, other vegetables, tropical fruit, who...\n",
       "999   0.005592  (yogurt, whipped/sour cream, other vegetables,...\n",
       "1000  0.005694  (yogurt, root vegetables, tropical fruit, whol...\n",
       "\n",
       "[1001 rows x 2 columns]"
      ]
     },
     "execution_count": 30,
     "metadata": {},
     "output_type": "execute_result"
    }
   ],
   "source": [
    "# let's see our result\n",
    "freq_set"
   ]
  },
  {
   "cell_type": "code",
   "execution_count": null,
   "metadata": {},
   "outputs": [],
   "source": []
  },
  {
   "cell_type": "markdown",
   "metadata": {},
   "source": [
    "## How to check the i-th frequent itemset?"
   ]
  },
  {
   "cell_type": "code",
   "execution_count": 13,
   "metadata": {},
   "outputs": [
    {
     "data": {
      "text/html": [
       "<div>\n",
       "<style scoped>\n",
       "    .dataframe tbody tr th:only-of-type {\n",
       "        vertical-align: middle;\n",
       "    }\n",
       "\n",
       "    .dataframe tbody tr th {\n",
       "        vertical-align: top;\n",
       "    }\n",
       "\n",
       "    .dataframe thead th {\n",
       "        text-align: right;\n",
       "    }\n",
       "</style>\n",
       "<table border=\"1\" class=\"dataframe\">\n",
       "  <thead>\n",
       "    <tr style=\"text-align: right;\">\n",
       "      <th></th>\n",
       "      <th>support</th>\n",
       "      <th>itemsets</th>\n",
       "    </tr>\n",
       "  </thead>\n",
       "  <tbody>\n",
       "    <tr>\n",
       "      <th>379</th>\n",
       "      <td>0.017895</td>\n",
       "      <td>(whole milk, other vegetables, rolls/buns)</td>\n",
       "    </tr>\n",
       "  </tbody>\n",
       "</table>\n",
       "</div>"
      ],
      "text/plain": [
       "      support                                    itemsets\n",
       "379  0.017895  (whole milk, other vegetables, rolls/buns)"
      ]
     },
     "execution_count": 13,
     "metadata": {},
     "output_type": "execute_result"
    }
   ],
   "source": [
    "# check the 10th frequent itemset\n",
    "freq_set.loc[[379], ['support', 'itemsets']]"
   ]
  },
  {
   "cell_type": "markdown",
   "metadata": {},
   "source": [
    "## How to check whether an itemset is frequent?"
   ]
  },
  {
   "cell_type": "markdown",
   "metadata": {},
   "source": [
    " If it is frequent, provide the location of the itemset in **feq_set**; otherwise provide \"Not frequent\". "
   ]
  },
  {
   "cell_type": "markdown",
   "metadata": {},
   "source": [
    "### Check whether 'berries' is frequent"
   ]
  },
  {
   "cell_type": "code",
   "execution_count": 12,
   "metadata": {},
   "outputs": [
    {
     "name": "stdout",
     "output_type": "stream",
     "text": [
      "Found at location 379\n"
     ]
    }
   ],
   "source": [
    "# specify the itemset you want to check\n",
    "check_set = ['whole milk', 'rolls/buns', 'other vegetables']\n",
    "\n",
    "# Select the idx from the frequent set based on the given check_set\n",
    "itemset_idx = freq_set.index[freq_set['itemsets'] == frozenset(check_set)].tolist()\n",
    "if itemset_idx==[]: # given check_set does not exist in the frequent set\n",
    "    print('Not frequent!')\n",
    "else:\n",
    "    print('Found at location '+str(itemset_idx[0]))"
   ]
  },
  {
   "cell_type": "markdown",
   "metadata": {},
   "source": [
    "### Check whether 'whipped/sour cream' is frequent"
   ]
  },
  {
   "cell_type": "code",
   "execution_count": 11,
   "metadata": {},
   "outputs": [
    {
     "name": "stdout",
     "output_type": "stream",
     "text": [
      "Not frequent!\n"
     ]
    }
   ],
   "source": [
    "check_set = ['whole milk', 'tropical fruit', 'bread']\n",
    "\n",
    "# Select the idx from the frequent set based on the given check_set\n",
    "itemset_idx = freq_set.index[freq_set['itemsets'] == frozenset(check_set)].tolist()\n",
    "if itemset_idx==[]: # given check_set does not exist in the frequent set\n",
    "    print('Not frequent!')\n",
    "else:\n",
    "    print('Found at location '+str(itemset_idx[0]))"
   ]
  },
  {
   "cell_type": "markdown",
   "metadata": {},
   "source": [
    "Great! You can play with your own sets and see if they are frequent."
   ]
  },
  {
   "cell_type": "markdown",
   "metadata": {},
   "source": [
    "**Execrise**: after we find an itemset is frequent, how can we have its support?\n",
    "(hint: use the location of the frequent itemset.)"
   ]
  },
  {
   "cell_type": "markdown",
   "metadata": {},
   "source": [
    "## Section 4.1 Calcualte the confidence"
   ]
  },
  {
   "cell_type": "code",
   "execution_count": 6,
   "metadata": {},
   "outputs": [],
   "source": [
    "\"\"\"\n",
    "Return the support of the given itemset X\n",
    "\"\"\"\n",
    "def get_itemset_support(freq_set, X):\n",
    "    # Select the idx from the frequent set based on the given check_set\n",
    "    itemset_idx = freq_set.index[freq_set['itemsets'] == frozenset(X)].tolist()\n",
    "    if itemset_idx==[]:\n",
    "        return None # Request itemset X does not exist in the frequent itemset\n",
    "    else:\n",
    "        return freq_set.loc[itemset_idx[0],['support']] # Return the corresponding support\n",
    "        \n",
    "\"\"\"\n",
    "Print the confidence of the given itemset {X} -> {Y} \n",
    "\"\"\"\n",
    "def get_rule_confidence(freq_set, X, Y):\n",
    "\n",
    "    itemset = X + Y # join itemset X and itemset Y \n",
    "    x_support = get_itemset_support(freq_set, X) # get support of X \n",
    "    joint_support = get_itemset_support(freq_set, itemset) # get support of X joint Y\n",
    "    \n",
    "    if joint_support is None or x_support is None: \n",
    "        return \"Make sure the X, Y and X+Y are in the frequent list.\"\n",
    "        \n",
    "    print(\"The confidence of rule {%s} -> {%s} is: %3f\"%(X, Y, joint_support/x_support))"
   ]
  },
  {
   "cell_type": "markdown",
   "metadata": {},
   "source": [
    "**Now, let's calculate the confidence of rule {X} -> {Y}**"
   ]
  },
  {
   "cell_type": "code",
   "execution_count": 8,
   "metadata": {},
   "outputs": [
    {
     "name": "stdout",
     "output_type": "stream",
     "text": [
      "The confidence of rule {['whipped/sour cream']} -> {['berries']} is: 0.126241\n"
     ]
    }
   ],
   "source": [
    "# Specify the content of X and Y\n",
    "X = ['whipped/sour cream']\n",
    "Y = ['berries']\n",
    "\n",
    "# Get the confidence\n",
    "get_rule_confidence(freq_set, X, Y)"
   ]
  },
  {
   "cell_type": "markdown",
   "metadata": {},
   "source": [
    "This is the end of the tutorial. You can play with your own rules now. "
   ]
  },
  {
   "cell_type": "code",
   "execution_count": null,
   "metadata": {},
   "outputs": [],
   "source": []
  },
  {
   "cell_type": "markdown",
   "metadata": {},
   "source": [
    "#### Confirm if {whipped/sour cream} -> {berries} is a strong rule in the case that minimum confident rate is 0.2"
   ]
  },
  {
   "cell_type": "code",
   "execution_count": 7,
   "metadata": {},
   "outputs": [
    {
     "name": "stdout",
     "output_type": "stream",
     "text": [
      "The confidence of rule {['whipped/sour cream']} -> {['berries']} is: 0.126241\n"
     ]
    }
   ],
   "source": [
    "# Specify the content of X and Y\n",
    "X = ['whipped/sour cream']\n",
    "Y = ['berries']\n",
    "\n",
    "# Get the confidence\n",
    "get_rule_confidence(freq_set, X, Y)"
   ]
  },
  {
   "cell_type": "code",
   "execution_count": null,
   "metadata": {},
   "outputs": [],
   "source": []
  }
 ],
 "metadata": {
  "kernelspec": {
   "display_name": "Python 3",
   "language": "python",
   "name": "python3"
  },
  "language_info": {
   "codemirror_mode": {
    "name": "ipython",
    "version": 3
   },
   "file_extension": ".py",
   "mimetype": "text/x-python",
   "name": "python",
   "nbconvert_exporter": "python",
   "pygments_lexer": "ipython3",
   "version": "3.7.6"
  }
 },
 "nbformat": 4,
 "nbformat_minor": 4
}
