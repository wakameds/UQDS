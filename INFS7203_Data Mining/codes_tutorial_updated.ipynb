{
 "cells": [
  {
   "cell_type": "code",
   "execution_count": 1,
   "metadata": {},
   "outputs": [
    {
     "name": "stdout",
     "output_type": "stream",
     "text": [
      "Hello World!\n"
     ]
    }
   ],
   "source": [
    "print (\"Hello World!\")"
   ]
  },
  {
   "cell_type": "code",
   "execution_count": 2,
   "metadata": {},
   "outputs": [
    {
     "data": {
      "text/plain": [
       "[<matplotlib.lines.Line2D at 0x11d123ed0>]"
      ]
     },
     "execution_count": 2,
     "metadata": {},
     "output_type": "execute_result"
    },
    {
     "data": {
      "image/png": "[encoded data removed]",
      "text/plain": [
       "<Figure size 432x288 with 1 Axes>"
      ]
     },
     "metadata": {
      "needs_background": "light"
     },
     "output_type": "display_data"
    }
   ],
   "source": [
    "# scenario: weather data visualization\n",
    "day = [1, 2, 3, 4, 5, 6, 7] \n",
    "temperature = [15, 19, 21, 25, 16, 14, 12]\n",
    "\n",
    "# what if I want to plot something?\n",
    "import matplotlib.pyplot as plt # import pyplot package and shorten its name\n",
    "plt.plot(day, temperature) # input (x, y) values when calling plot function"
   ]
  },
  {
   "cell_type": "code",
   "execution_count": 3,
   "metadata": {},
   "outputs": [
    {
     "data": {
      "image/png": "[encoded data removed]",
      "text/plain": [
       "<Figure size 432x288 with 1 Axes>"
      ]
     },
     "metadata": {
      "needs_background": "light"
     },
     "output_type": "display_data"
    }
   ],
   "source": [
    "# scenario: weather data visualization\n",
    "day = [1, 2, 3, 4, 5, 6, 7] \n",
    "temperature = [15, 19, 21, 25, 16, 14, 12]\n",
    "\n",
    "# what if I want to plot something?\n",
    "import matplotlib.pyplot as plt # import pyplot package and shorten its name\n",
    "plt.plot(day, temperature, color = 'red', linewidth = 2.0, marker = '+', markersize = 10)\n",
    "\n",
    "# adding options on line color, width, and style\n",
    "plt.xlabel('day')\n",
    "plt.ylabel('temperature') # adding x/y labels to the plot\n",
    "plt.grid(True) # adding grid for a nicer look"
   ]
  },
  {
   "cell_type": "code",
   "execution_count": 4,
   "metadata": {},
   "outputs": [
    {
     "data": {
      "text/html": [
       "<div>\n",
       "<style scoped>\n",
       "    .dataframe tbody tr th:only-of-type {\n",
       "        vertical-align: middle;\n",
       "    }\n",
       "\n",
       "    .dataframe tbody tr th {\n",
       "        vertical-align: top;\n",
       "    }\n",
       "\n",
       "    .dataframe thead th {\n",
       "        text-align: right;\n",
       "    }\n",
       "</style>\n",
       "<table border=\"1\" class=\"dataframe\">\n",
       "  <thead>\n",
       "    <tr style=\"text-align: right;\">\n",
       "      <th></th>\n",
       "      <th>username</th>\n",
       "      <th>gender</th>\n",
       "      <th>age</th>\n",
       "      <th>documentary movies</th>\n",
       "      <th>action movies</th>\n",
       "      <th>scifi movies</th>\n",
       "      <th>comedy movies</th>\n",
       "      <th>horror movies</th>\n",
       "    </tr>\n",
       "  </thead>\n",
       "  <tbody>\n",
       "    <tr>\n",
       "      <th>0</th>\n",
       "      <td>AS</td>\n",
       "      <td>female</td>\n",
       "      <td>20</td>\n",
       "      <td>5</td>\n",
       "      <td>19</td>\n",
       "      <td>21</td>\n",
       "      <td>25</td>\n",
       "      <td>12</td>\n",
       "    </tr>\n",
       "    <tr>\n",
       "      <th>1</th>\n",
       "      <td>DF</td>\n",
       "      <td>female</td>\n",
       "      <td>30</td>\n",
       "      <td>4</td>\n",
       "      <td>33</td>\n",
       "      <td>9</td>\n",
       "      <td>30</td>\n",
       "      <td>5</td>\n",
       "    </tr>\n",
       "    <tr>\n",
       "      <th>2</th>\n",
       "      <td>GH</td>\n",
       "      <td>female</td>\n",
       "      <td>25</td>\n",
       "      <td>14</td>\n",
       "      <td>12</td>\n",
       "      <td>11</td>\n",
       "      <td>4</td>\n",
       "      <td>3</td>\n",
       "    </tr>\n",
       "    <tr>\n",
       "      <th>3</th>\n",
       "      <td>JK</td>\n",
       "      <td>female</td>\n",
       "      <td>19</td>\n",
       "      <td>10</td>\n",
       "      <td>50</td>\n",
       "      <td>25</td>\n",
       "      <td>3</td>\n",
       "      <td>6</td>\n",
       "    </tr>\n",
       "    <tr>\n",
       "      <th>4</th>\n",
       "      <td>LQ</td>\n",
       "      <td>female</td>\n",
       "      <td>19</td>\n",
       "      <td>0</td>\n",
       "      <td>9</td>\n",
       "      <td>7</td>\n",
       "      <td>12</td>\n",
       "      <td>6</td>\n",
       "    </tr>\n",
       "    <tr>\n",
       "      <th>5</th>\n",
       "      <td>WE</td>\n",
       "      <td>male</td>\n",
       "      <td>21</td>\n",
       "      <td>5</td>\n",
       "      <td>12</td>\n",
       "      <td>17</td>\n",
       "      <td>10</td>\n",
       "      <td>8</td>\n",
       "    </tr>\n",
       "    <tr>\n",
       "      <th>6</th>\n",
       "      <td>RT</td>\n",
       "      <td>male</td>\n",
       "      <td>32</td>\n",
       "      <td>5</td>\n",
       "      <td>38</td>\n",
       "      <td>5</td>\n",
       "      <td>7</td>\n",
       "      <td>15</td>\n",
       "    </tr>\n",
       "    <tr>\n",
       "      <th>7</th>\n",
       "      <td>YU</td>\n",
       "      <td>male</td>\n",
       "      <td>22</td>\n",
       "      <td>9</td>\n",
       "      <td>17</td>\n",
       "      <td>13</td>\n",
       "      <td>20</td>\n",
       "      <td>11</td>\n",
       "    </tr>\n",
       "    <tr>\n",
       "      <th>8</th>\n",
       "      <td>MJ</td>\n",
       "      <td>male</td>\n",
       "      <td>26</td>\n",
       "      <td>6</td>\n",
       "      <td>21</td>\n",
       "      <td>21</td>\n",
       "      <td>7</td>\n",
       "      <td>7</td>\n",
       "    </tr>\n",
       "    <tr>\n",
       "      <th>9</th>\n",
       "      <td>IP</td>\n",
       "      <td>male</td>\n",
       "      <td>18</td>\n",
       "      <td>11</td>\n",
       "      <td>18</td>\n",
       "      <td>16</td>\n",
       "      <td>9</td>\n",
       "      <td>20</td>\n",
       "    </tr>\n",
       "  </tbody>\n",
       "</table>\n",
       "</div>"
      ],
      "text/plain": [
       "  username  gender  age  documentary movies  action movies  scifi movies  \\\n",
       "0       AS  female   20                   5             19            21   \n",
       "1       DF  female   30                   4             33             9   \n",
       "2       GH  female   25                  14             12            11   \n",
       "3       JK  female   19                  10             50            25   \n",
       "4       LQ  female   19                   0              9             7   \n",
       "5       WE    male   21                   5             12            17   \n",
       "6       RT    male   32                   5             38             5   \n",
       "7       YU    male   22                   9             17            13   \n",
       "8       MJ    male   26                   6             21            21   \n",
       "9       IP    male   18                  11             18            16   \n",
       "\n",
       "   comedy movies  horror movies  \n",
       "0             25             12  \n",
       "1             30              5  \n",
       "2              4              3  \n",
       "3              3              6  \n",
       "4             12              6  \n",
       "5             10              8  \n",
       "6              7             15  \n",
       "7             20             11  \n",
       "8              7              7  \n",
       "9              9             20  "
      ]
     },
     "execution_count": 4,
     "metadata": {},
     "output_type": "execute_result"
    }
   ],
   "source": [
    "# scenario: movie data processing\n",
    "import csv # package for reading csv files\n",
    "import numpy as np # package for dealing with numerical data\n",
    "import pandas as pd # this is a data frame package\n",
    "\n",
    "data_frame = pd.read_csv('tutorial_data.csv')\n",
    "data_frame.head(10) # print all 11 lines within the loaded csv file"
   ]
  },
  {
   "cell_type": "code",
   "execution_count": 5,
   "metadata": {},
   "outputs": [
    {
     "name": "stdout",
     "output_type": "stream",
     "text": [
      "<class 'pandas.core.frame.DataFrame'>\n",
      "RangeIndex: 10 entries, 0 to 9\n",
      "Data columns (total 8 columns):\n",
      " #   Column              Non-Null Count  Dtype \n",
      "---  ------              --------------  ----- \n",
      " 0   username            10 non-null     object\n",
      " 1   gender              10 non-null     object\n",
      " 2   age                 10 non-null     int64 \n",
      " 3   documentary movies  10 non-null     int64 \n",
      " 4   action movies       10 non-null     int64 \n",
      " 5   scifi movies        10 non-null     int64 \n",
      " 6   comedy movies       10 non-null     int64 \n",
      " 7   horror movies       10 non-null     int64 \n",
      "dtypes: int64(6), object(2)\n",
      "memory usage: 768.0+ bytes\n"
     ]
    }
   ],
   "source": [
    "# scenario: movie data processing\n",
    "import csv # package for reading csv files\n",
    "import numpy as np # package for dealing with numerical data\n",
    "import pandas as pd # this is a data frame package\n",
    "\n",
    "data_frame = pd.read_csv('tutorial_data.csv')\n",
    "data_frame.info() # print all data info"
   ]
  },
  {
   "cell_type": "code",
   "execution_count": 6,
   "metadata": {},
   "outputs": [
    {
     "data": {
      "text/html": [
       "<div>\n",
       "<style scoped>\n",
       "    .dataframe tbody tr th:only-of-type {\n",
       "        vertical-align: middle;\n",
       "    }\n",
       "\n",
       "    .dataframe tbody tr th {\n",
       "        vertical-align: top;\n",
       "    }\n",
       "\n",
       "    .dataframe thead th {\n",
       "        text-align: right;\n",
       "    }\n",
       "</style>\n",
       "<table border=\"1\" class=\"dataframe\">\n",
       "  <thead>\n",
       "    <tr style=\"text-align: right;\">\n",
       "      <th></th>\n",
       "      <th>username</th>\n",
       "      <th>age</th>\n",
       "    </tr>\n",
       "  </thead>\n",
       "  <tbody>\n",
       "    <tr>\n",
       "      <th>0</th>\n",
       "      <td>AS</td>\n",
       "      <td>20</td>\n",
       "    </tr>\n",
       "    <tr>\n",
       "      <th>1</th>\n",
       "      <td>DF</td>\n",
       "      <td>30</td>\n",
       "    </tr>\n",
       "    <tr>\n",
       "      <th>2</th>\n",
       "      <td>GH</td>\n",
       "      <td>25</td>\n",
       "    </tr>\n",
       "    <tr>\n",
       "      <th>3</th>\n",
       "      <td>JK</td>\n",
       "      <td>19</td>\n",
       "    </tr>\n",
       "    <tr>\n",
       "      <th>4</th>\n",
       "      <td>LQ</td>\n",
       "      <td>19</td>\n",
       "    </tr>\n",
       "    <tr>\n",
       "      <th>5</th>\n",
       "      <td>WE</td>\n",
       "      <td>21</td>\n",
       "    </tr>\n",
       "    <tr>\n",
       "      <th>6</th>\n",
       "      <td>RT</td>\n",
       "      <td>32</td>\n",
       "    </tr>\n",
       "    <tr>\n",
       "      <th>7</th>\n",
       "      <td>YU</td>\n",
       "      <td>22</td>\n",
       "    </tr>\n",
       "    <tr>\n",
       "      <th>8</th>\n",
       "      <td>MJ</td>\n",
       "      <td>26</td>\n",
       "    </tr>\n",
       "    <tr>\n",
       "      <th>9</th>\n",
       "      <td>IP</td>\n",
       "      <td>18</td>\n",
       "    </tr>\n",
       "  </tbody>\n",
       "</table>\n",
       "</div>"
      ],
      "text/plain": [
       "  username  age\n",
       "0       AS   20\n",
       "1       DF   30\n",
       "2       GH   25\n",
       "3       JK   19\n",
       "4       LQ   19\n",
       "5       WE   21\n",
       "6       RT   32\n",
       "7       YU   22\n",
       "8       MJ   26\n",
       "9       IP   18"
      ]
     },
     "execution_count": 6,
     "metadata": {},
     "output_type": "execute_result"
    }
   ],
   "source": [
    "# scenario: movie data processing\n",
    "import csv # package for reading csv files\n",
    "import numpy as np # package for dealing with numerical data\n",
    "import pandas as pd # this is a data frame package\n",
    "\n",
    "data_frame = pd.read_csv('tutorial_data.csv')\n",
    "data_frame[['username', 'age']]"
   ]
  },
  {
   "cell_type": "code",
   "execution_count": 7,
   "metadata": {},
   "outputs": [
    {
     "data": {
      "text/html": [
       "<div>\n",
       "<style scoped>\n",
       "    .dataframe tbody tr th:only-of-type {\n",
       "        vertical-align: middle;\n",
       "    }\n",
       "\n",
       "    .dataframe tbody tr th {\n",
       "        vertical-align: top;\n",
       "    }\n",
       "\n",
       "    .dataframe thead th {\n",
       "        text-align: right;\n",
       "    }\n",
       "</style>\n",
       "<table border=\"1\" class=\"dataframe\">\n",
       "  <thead>\n",
       "    <tr style=\"text-align: right;\">\n",
       "      <th></th>\n",
       "      <th>username</th>\n",
       "      <th>age</th>\n",
       "    </tr>\n",
       "  </thead>\n",
       "  <tbody>\n",
       "    <tr>\n",
       "      <th>1</th>\n",
       "      <td>DF</td>\n",
       "      <td>30</td>\n",
       "    </tr>\n",
       "    <tr>\n",
       "      <th>8</th>\n",
       "      <td>MJ</td>\n",
       "      <td>26</td>\n",
       "    </tr>\n",
       "  </tbody>\n",
       "</table>\n",
       "</div>"
      ],
      "text/plain": [
       "  username  age\n",
       "1       DF   30\n",
       "8       MJ   26"
      ]
     },
     "execution_count": 7,
     "metadata": {},
     "output_type": "execute_result"
    }
   ],
   "source": [
    "# scenario: movie data processing\n",
    "import csv # package for reading csv files\n",
    "import numpy as np # package for dealing with numerical data\n",
    "import pandas as pd # this is a data frame package\n",
    "\n",
    "data_frame = pd.read_csv('tutorial_data.csv')\n",
    "data_frame.loc[[1, 8], ['username', 'age']]"
   ]
  },
  {
   "cell_type": "code",
   "execution_count": 8,
   "metadata": {},
   "outputs": [
    {
     "name": "stdout",
     "output_type": "stream",
     "text": [
      "The average age of users DF and MJ is: 28.0\n"
     ]
    }
   ],
   "source": [
    "# scenario: movie data processing\n",
    "import csv # package for reading csv files\n",
    "import numpy as np # package for dealing with numerical data\n",
    "import pandas as pd # this is a data frame package\n",
    "\n",
    "data_frame = pd.read_csv('tutorial_data.csv')\n",
    "two_ages = data_frame.loc[[1, 8], ['age']]\n",
    "mean_age = two_ages.values.mean()\n",
    "print('The average age of users DF and MJ is: ' + str(mean_age))"
   ]
  },
  {
   "cell_type": "code",
   "execution_count": 9,
   "metadata": {},
   "outputs": [
    {
     "name": "stdout",
     "output_type": "stream",
     "text": [
      "The most popular movie category is: action movies\n",
      "The least popular movie category is: documentary movies\n"
     ]
    }
   ],
   "source": [
    "# scenario: movie data processing\n",
    "import csv # package for reading csv files\n",
    "import numpy as np # package for dealing with numerical data\n",
    "import pandas as pd # this is a data frame package\n",
    "\n",
    "data_frame = pd.read_csv('tutorial_data.csv')\n",
    "all_watches = data_frame.loc[:, ['documentary movies', 'action movies', 'scifi movies', 'comedy movies',\\\n",
    "                              'horror movies']]\n",
    "\n",
    "category_wise_watches = all_watches.sum() # column-wise summation\n",
    "max_category = category_wise_watches.idxmax() # return the index of maximum number\n",
    "min_category = category_wise_watches.idxmin() # return the index of minimum number\n",
    "\n",
    "print('The most popular movie category is: ' + str(max_category) + '\\n' + \\\n",
    "      'The least popular movie category is: ' + str(min_category))"
   ]
  },
  {
   "cell_type": "code",
   "execution_count": 10,
   "metadata": {},
   "outputs": [
    {
     "name": "stdout",
     "output_type": "stream",
     "text": [
      "[[ 5 19 21 25 12]\n",
      " [ 4 33  9 30  5]\n",
      " [14 12 11  4  3]\n",
      " [10 50 25  3  6]\n",
      " [ 0  9  7 12  6]\n",
      " [ 5 12 17 10  8]\n",
      " [ 5 38  5  7 15]\n",
      " [ 9 17 13 20 11]\n",
      " [ 6 21 21  7  7]\n",
      " [11 18 16  9 20]]\n"
     ]
    }
   ],
   "source": [
    "# scenario: movie data processing\n",
    "import csv # package for reading csv files\n",
    "import numpy as np # package for dealing with numerical data\n",
    "import pandas as pd # this is a data frame package\n",
    "\n",
    "data_frame = pd.read_csv('tutorial_data.csv')\n",
    "all_watches = data_frame.loc[:, ['documentary movies', 'action movies', 'scifi movies', 'comedy movies',\\\n",
    "                              'horror movies']]\n",
    "vectors = all_watches.values\n",
    "print(vectors)"
   ]
  },
  {
   "cell_type": "code",
   "execution_count": 11,
   "metadata": {},
   "outputs": [
    {
     "name": "stdout",
     "output_type": "stream",
     "text": [
      "For the first five users, they have watched 33 documentary, 123 action, 73 scifi, 74 comedy, and 32 horror movies.\n",
      "And each of them has watched 82, 81, 44, 94, 34 movies, respectively, leading to a total number of 335.\n"
     ]
    }
   ],
   "source": [
    "# scenario: movie data processing\n",
    "import csv # package for reading csv files\n",
    "import numpy as np # package for dealing with numerical data\n",
    "import pandas as pd # this is a data frame package\n",
    "\n",
    "data_frame = pd.read_csv('tutorial_data.csv')\n",
    "all_watches = data_frame.loc[:, ['documentary movies', 'action movies', 'scifi movies', 'comedy movies',\\\n",
    "                              'horror movies']]\n",
    "vectors = all_watches.values\n",
    "category_wise_watch = np.sum(vectors[0:5,:], axis = 0) # sum along axis 0 (column)\n",
    "user_wise_watch = np.sum(vectors[0:5,:], axis = 1) # sum along axis 1 (row)\n",
    "total_watch = np.sum(vectors[0:5,:]) # sum all the elements\n",
    "\n",
    "str_list1 = [str(category_wise_watch[i]) for i in range(len(category_wise_watch))] # float to str\n",
    "str_list2 = [str(user_wise_watch[i]) for i in range(len(user_wise_watch))]\n",
    "\n",
    "print('For the first five users, they have watched ' + str_list1[0] + ' documentary, ' + \\\n",
    "     str_list1[1] + ' action, ' + str_list1[2] + ' scifi, ' + str_list1[3] + ' comedy, and ' + \\\n",
    "     str_list1[4] + ' horror movies.')\n",
    "print('And each of them has watched ' + str_list2[0] + ', ' + str_list2[1] + ', ' + \\\n",
    "     str_list2[2] + ', ' + str_list2[3] + ', ' + str_list2[4] + ' movies, respectively, ' + \\\n",
    "      'leading to a total number of ' + str(total_watch) + '.')"
   ]
  },
  {
   "cell_type": "code",
   "execution_count": 12,
   "metadata": {},
   "outputs": [
    {
     "name": "stdout",
     "output_type": "stream",
     "text": [
      "The L1-norm of DF's vector is: 81.0\n",
      "The L2-norm of DF's vector is: 45.94562003064057\n"
     ]
    }
   ],
   "source": [
    "import csv # package for reading csv files\n",
    "import numpy as np # package for dealing with numerical data\n",
    "import pandas as pd # this is a data frame package\n",
    "\n",
    "data_frame = pd.read_csv('tutorial_data.csv')\n",
    "all_watches = data_frame.loc[:, ['documentary movies', 'action movies', 'scifi movies', 'comedy movies',\\\n",
    "                              'horror movies']]\n",
    "vectors = all_watches.values\n",
    "DF_vector = vectors[1, :] # fetch a user's vector\n",
    "l1 = np.linalg.norm(DF_vector, ord = 1) # by specifying order = 1, we calculate the L1 norm \n",
    "l2 = np.linalg.norm(DF_vector) # the default setting of this function calculates the L2 norm\n",
    "\n",
    "print('The L1-norm of DF\\'s vector is: ' + str(l1) + \"\\n\" + \\\n",
    "      'The L2-norm of DF\\'s vector is: ' + str(l2))"
   ]
  },
  {
   "cell_type": "code",
   "execution_count": 13,
   "metadata": {},
   "outputs": [
    {
     "name": "stdout",
     "output_type": "stream",
     "text": [
      "The Euclidean distance between DF's and MJ's vecotrs is (the lower the closer): 28.722813232690143\n",
      "The dot product between DF's and MJ's vecotrs is (the higher the closer): 1151\n"
     ]
    }
   ],
   "source": [
    "import csv # package for reading csv files\n",
    "import numpy as np # package for dealing with numerical data\n",
    "import pandas as pd # this is a data frame package\n",
    "\n",
    "data_frame = pd.read_csv('tutorial_data.csv')\n",
    "all_watches = data_frame.loc[:, ['documentary movies', 'action movies', 'scifi movies', 'comedy movies',\\\n",
    "                              'horror movies']]\n",
    "vectors = all_watches.values\n",
    "DF_vector = vectors[1, :] \n",
    "MJ_vector = vectors[8, :] # fetch two users' vectors\n",
    "\n",
    "euc_dist = np.linalg.norm(np.subtract(DF_vector, MJ_vector)) # L2-norm of vector subtraction = Euclidean distance\n",
    "dot_dist = np.dot(DF_vector, MJ_vector) # dot product of two vectors\n",
    "\n",
    "print('The Euclidean distance between DF\\'s and MJ\\'s vecotrs is (the lower the closer): ' + str(euc_dist) + '\\n' +\\\n",
    "      'The dot product between DF\\'s and MJ\\'s vecotrs is (the higher the closer): ' + str(dot_dist))"
   ]
  },
  {
   "cell_type": "code",
   "execution_count": 14,
   "metadata": {},
   "outputs": [
    {
     "name": "stdout",
     "output_type": "stream",
     "text": [
      "[[0.67567568 0.32432432]\n",
      " [0.85714286 0.14285714]\n",
      " [0.57142857 0.42857143]\n",
      " [0.33333333 0.66666667]\n",
      " [0.66666667 0.33333333]\n",
      " [0.55555556 0.44444444]\n",
      " [0.31818182 0.68181818]\n",
      " [0.64516129 0.35483871]\n",
      " [0.5        0.5       ]\n",
      " [0.31034483 0.68965517]]\n"
     ]
    }
   ],
   "source": [
    "import csv # package for reading csv files\n",
    "import numpy as np # package for dealing with numerical data\n",
    "import pandas as pd # this is a data frame package\n",
    "\n",
    "data_frame = pd.read_csv('tutorial_data.csv')\n",
    "all_watches = data_frame.loc[:, ['comedy movies', 'horror movies']]\n",
    "\n",
    "vectors = all_watches.values # [comedy, horror] vector for all users\n",
    "vectors_l1 = np.linalg.norm(vectors, ord = 1, axis = 1, keepdims = True) # calculate L1-norm for each vector\n",
    "vectors_l1 = np.tile(vectors_l1, (1, 2))\n",
    "normalized_vectors = np.divide(vectors, vectors_l1)\n",
    "print(normalized_vectors)"
   ]
  },
  {
   "cell_type": "code",
   "execution_count": 15,
   "metadata": {},
   "outputs": [
    {
     "name": "stdout",
     "output_type": "stream",
     "text": [
      "<class 'str'>\n"
     ]
    },
    {
     "data": {
      "text/plain": [
       "Text(0, 0.5, 'interest on horror movies')"
      ]
     },
     "execution_count": 15,
     "metadata": {},
     "output_type": "execute_result"
    },
    {
     "data": {
      "image/png": "[encoded data removed]",
      "text/plain": [
       "<Figure size 432x288 with 1 Axes>"
      ]
     },
     "metadata": {
      "needs_background": "light"
     },
     "output_type": "display_data"
    }
   ],
   "source": [
    "import csv # package for reading csv files\n",
    "import numpy as np # package for dealing with numerical data\n",
    "import pandas as pd # this is a data frame package\n",
    "import matplotlib.pyplot as plt # package for plotting\n",
    "\n",
    "data_frame = pd.read_csv('tutorial_data.csv')\n",
    "all_watches = data_frame.loc[:, ['comedy movies', 'horror movies']]\n",
    "\n",
    "vectors = all_watches.values # [comedy, horror] vector for all users\n",
    "vectors_l1 = np.linalg.norm(vectors, ord = 1, axis = 1, keepdims = True) # calculate L1-norm for each vector\n",
    "vectors_l1 = np.tile(vectors_l1, (1, 2))\n",
    "normalized_vectors = np.divide(vectors, vectors_l1)\n",
    "\n",
    "x_values, y_values = np.split(normalized_vectors, 2, axis = 1) # split the two dimensions of each vector\n",
    "captions = data_frame['username'].astype(str).values # convert all usernames to strings for captioning\n",
    "print(type(captions[0]))\n",
    "cluster = plt.scatter(x_values, y_values, marker='x', color='red')\n",
    "cluster = plt.gca()\n",
    "for i, name in enumerate(captions):\n",
    "    cluster.annotate(name, (x_values[i] + 0.01, y_values[i] + 0.01), size = 10) # place the captions for each point\n",
    "plt.xlabel('interest on comedy movies')\n",
    "plt.ylabel('interest on horror movies') # adding x/y labels to the plot"
   ]
  },
  {
   "cell_type": "code",
   "execution_count": null,
   "metadata": {},
   "outputs": [],
   "source": []
  },
  {
   "cell_type": "code",
   "execution_count": null,
   "metadata": {},
   "outputs": [],
   "source": []
  },
  {
   "cell_type": "code",
   "execution_count": null,
   "metadata": {},
   "outputs": [],
   "source": []
  }
 ],
 "metadata": {
  "kernelspec": {
   "display_name": "Python 3",
   "language": "python",
   "name": "python3"
  },
  "language_info": {
   "codemirror_mode": {
    "name": "ipython",
    "version": 3
   },
   "file_extension": ".py",
   "mimetype": "text/x-python",
   "name": "python",
   "nbconvert_exporter": "python",
   "pygments_lexer": "ipython3",
   "version": "3.7.6"
  }
 },
 "nbformat": 4,
 "nbformat_minor": 4
}
