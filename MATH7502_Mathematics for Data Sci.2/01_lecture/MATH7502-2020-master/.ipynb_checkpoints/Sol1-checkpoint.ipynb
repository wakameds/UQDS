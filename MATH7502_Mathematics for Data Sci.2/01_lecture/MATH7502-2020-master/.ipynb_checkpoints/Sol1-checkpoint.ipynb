{
 "cells": [
  {
   "cell_type": "code",
   "execution_count": 7,
   "metadata": {},
   "outputs": [
    {
     "data": {
      "text/plain": [
       "2.078229951549867e-6"
      ]
     },
     "execution_count": 7,
     "metadata": {},
     "output_type": "execute_result"
    }
   ],
   "source": [
    "using LinearAlgebra\n",
    "minAbs = Inf\n",
    "for _ in 1:10^4\n",
    "    A = rand(3,3)\n",
    "    da = det(A)\n",
    "    if abs(da) < minAbs\n",
    "        minAbs = abs(da)\n",
    "    end\n",
    "end\n",
    "minAbs"
   ]
  },
  {
   "cell_type": "code",
   "execution_count": 8,
   "metadata": {},
   "outputs": [
    {
     "data": {
      "text/plain": [
       "3×3 Array{Int64,2}:\n",
       " 1  3  1\n",
       " 3  3  3\n",
       " 2  1  2"
      ]
     },
     "metadata": {},
     "output_type": "display_data"
    }
   ],
   "source": [
    "using LinearAlgebra\n",
    "while true\n",
    "    A = rand([1,2,3],3,3)\n",
    "    da = det(A)\n",
    "    if da == 0\n",
    "        display(A)\n",
    "        break\n",
    "    end\n",
    "end"
   ]
  },
  {
   "cell_type": "code",
   "execution_count": 21,
   "metadata": {},
   "outputs": [
    {
     "data": {
      "text/plain": [
       "4-element Array{Float64,1}:\n",
       " 1.0e-7\n",
       " 0.0002324\n",
       " 0.0150372\n",
       " 0.0847303"
      ]
     },
     "execution_count": 21,
     "metadata": {},
     "output_type": "execute_result"
    }
   ],
   "source": [
    "using LinearAlgebra\n",
    "ranks = zeros(4)\n",
    "for _ in 1:10^6\n",
    "    A = rand([-1,2,14],4,4)\n",
    "    r = rank(A)\n",
    "    ranks[r] += 1\n",
    "end\n",
    "ranks/10^6"
   ]
  },
  {
   "cell_type": "code",
   "execution_count": 69,
   "metadata": {},
   "outputs": [
    {
     "name": "stdout",
     "output_type": "stream",
     "text": [
      "55\n"
     ]
    }
   ],
   "source": [
    "s = 0\n",
    "for i = 1:10\n",
    "    s = s + i\n",
    "end\n",
    "println(s)"
   ]
  },
  {
   "cell_type": "code",
   "execution_count": 26,
   "metadata": {},
   "outputs": [
    {
     "data": {
      "text/plain": [
       "3×3 Array{Int64,2}:\n",
       " 50  30  -20\n",
       " 70  20    0\n",
       " 10  10  -50"
      ]
     },
     "execution_count": 26,
     "metadata": {},
     "output_type": "execute_result"
    }
   ],
   "source": [
    "A = [50 30 -20;\n",
    "     70 20 0 ;\n",
    "     10 10 -50]"
   ]
  },
  {
   "cell_type": "code",
   "execution_count": 27,
   "metadata": {},
   "outputs": [
    {
     "data": {
      "text/plain": [
       "3×3 Array{Float64,2}:\n",
       " -0.0222222   0.0288889    0.00888889\n",
       "  0.0777778  -0.0511111   -0.0311111\n",
       "  0.0111111  -0.00444444  -0.0244444"
      ]
     },
     "execution_count": 27,
     "metadata": {},
     "output_type": "execute_result"
    }
   ],
   "source": [
    "inv(A)"
   ]
  },
  {
   "cell_type": "code",
   "execution_count": null,
   "metadata": {},
   "outputs": [],
   "source": []
  }
 ],
 "metadata": {
  "kernelspec": {
   "display_name": "JuliaPro_v1.4.2-1 1.4.2",
   "language": "julia",
   "name": "juliapro_v1.4.2-1-1.4"
  },
  "language_info": {
   "file_extension": ".jl",
   "mimetype": "application/julia",
   "name": "julia",
   "version": "1.4.2"
  }
 },
 "nbformat": 4,
 "nbformat_minor": 4
}
